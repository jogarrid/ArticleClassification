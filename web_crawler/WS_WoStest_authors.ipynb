{
 "cells": [
  {
   "cell_type": "markdown",
   "metadata": {},
   "source": [
    "# Scrapping on WoS to get dismissed and undismissed authors"
   ]
  },
  {
   "cell_type": "code",
   "execution_count": 1,
   "metadata": {},
   "outputs": [],
   "source": [
    "import time\n",
    "from scraper_WoS import WosClient\n",
    "import pandas as pd\n",
    "from unicode_tr.extras import slugify"
   ]
  },
  {
   "cell_type": "code",
   "execution_count": null,
   "metadata": {},
   "outputs": [],
   "source": [
    "def get_author_names(path_text_file):\n",
    "#getting all the names \n",
    "    searchnames = []\n",
    "    i=0\n",
    "    for line in open(path_text_file,'r'):\n",
    "        QueryString = line.strip()\n",
    "        QueryString = \"AU=\"+line.split(',')[0].split()[-1]+' '+line.split(',')[0].split()[0]\n",
    "        searchnames.append(QueryString)\n",
    "    return  searchnames, QueryString"
   ]
  },
  {
   "cell_type": "code",
   "execution_count": null,
   "metadata": {},
   "outputs": [],
   "source": [
    "def searching_co_authors_WoS(searchnames):\n",
    "    soap = WosClient(lite=True)\n",
    "    soap.connect()\n",
    "    names = []\n",
    "    lens = []\n",
    "    co_aut = []\n",
    "    i=0\n",
    "    for i in range(len(searchnames)):\n",
    "        #line = SearchNames.SearchNames[i]\n",
    "        QueryString = searchnames[i]\n",
    "        #QueryString = line\n",
    "        print(QueryString)\n",
    "        if i == 2400: # WOS constraints that each ID can only search for 2500 times. Just set smaller counts to renew the ID.\n",
    "            soap = WosClient(lite=True)\n",
    "            soap.connect()\n",
    "        results = soap.search(QueryString)\n",
    "        #getting number of name of co-authors\n",
    "        if (results.recordsFound>0):\n",
    "            authors = []\n",
    "            for j in range (len(results.records)):\n",
    "                for k in range (len(results.records[j].authors)):\n",
    "                    for l in range (len(results.records[j].authors[k].value)):\n",
    "                        co_authors=results.records[j].authors[k].value[l]\n",
    "                        authors.append(co_authors)\n",
    "                        print('co_author',co_authors)\n",
    "        print(results.recordsFound)\n",
    "        names.append(QueryString.split('=')[1])\n",
    "        lens.append(results.recordsFound)\n",
    "        co_aut.append(authors)\n",
    "        time.sleep(0.5) # WOS constraints that you can only search twice per second\n",
    "        i=i+1        \n",
    "    return names, lens, co_aut"
   ]
  },
  {
   "cell_type": "code",
   "execution_count": null,
   "metadata": {},
   "outputs": [],
   "source": [
    "#a python module to make unicode strings work as expected for turkish chars. solves the turkish \"İ\" problem\n",
    "\n",
    "# have to do pip install unicode_tr\n",
    "def translate_names(names):\n",
    "    names_en = []\n",
    "    for i in range(len(names)):\n",
    "        name_en = slugify(names[i])\n",
    "        name_en = name_en.replace('-',' ').title()\n",
    "        names_en.append(name_en)\n",
    "    return names_en\n"
   ]
  },
  {
   "cell_type": "code",
   "execution_count": null,
   "metadata": {},
   "outputs": [],
   "source": [
    "#formatting co authors column to match with authors\n",
    "#for i in range(df.shape[0]):\n",
    "#    for j in range(len(df.CoAuthors.iloc[i])):\n",
    "#        a=df.CoAuthors.iloc[i]\n",
    "#        a[j]=a[j].replace(\",\",\" \")\n",
    "#        df.CoAuthors.iloc[i] = a\n",
    "#df"
   ]
  },
  {
   "cell_type": "code",
   "execution_count": null,
   "metadata": {},
   "outputs": [],
   "source": [
    "def count_nb_coauthors(co_aut):\n",
    "    cnt_coauthors=0\n",
    "    for l in co_aut:\n",
    "        cnt_coauthors += len(l)\n",
    "    print('Totally ' + str(cnt_coauthors) + ' guys were downloaded as coauthors')\n",
    "    return cnt_coauthors"
   ]
  },
  {
   "cell_type": "code",
   "execution_count": null,
   "metadata": {},
   "outputs": [],
   "source": [
    "def save_csv(list1,list2):\n",
    "    dismissed_df = pd.DataFrame()\n",
    "    dismissed_df['AU']=list(list1)\n",
    "    dismissed_df.to_csv('../data/dismissed.csv')\n",
    "    undismissed_df = pd.DataFrame()\n",
    "    undismissed_df['AU']=list(list2)\n",
    "    undismissed_df.to_csv('../data/undismissed.csv')\n"
   ]
  },
  {
   "cell_type": "code",
   "execution_count": null,
   "metadata": {},
   "outputs": [],
   "source": [
    "searchnames, QueryString = get_author_names('../Data/Dismiss_Acad_List.txt')\n",
    "names,lens,co_aut = searching_co_authors_WoS(searchnames)\n",
    "names_en=translate_names(names)\n",
    "\n",
    "#dataset with dimissed people with their correspondant coauthors and number of papers\n",
    "df = pd.DataFrame([names,lens,co_aut]).T\n",
    "df.columns=['Author','NoPapers','CoAuthors']\n",
    "df\n",
    "\n",
    "nb_coauthors = count_nb_coauthors(co_aut)\n",
    "\n",
    "coauthors = set()\n",
    "for l in co_aut:\n",
    "    for author in l:\n",
    "        author = author.replace(',', '')\n",
    "        coauthors.add(author)\n",
    "\n",
    "dismissed = set(names_en)\n",
    "print('Totally we have ' + str(len(dismissed)) + ' dismissed and ' + str(len(coauthors)) + ' unique coauthors')\n",
    "\n",
    "undismissed = coauthors - dismissed\n",
    "print('So, we have ' + str(len(undismissed)) + ' undismissed guys')\n",
    "\n",
    "save_csv(dismissed,undismissed)"
   ]
  },
  {
   "cell_type": "code",
   "execution_count": 72,
   "metadata": {},
   "outputs": [
    {
     "data": {
      "text/plain": [
       "25047"
      ]
     },
     "execution_count": 72,
     "metadata": {},
     "output_type": "execute_result"
    }
   ],
   "source": [
    "len(undismissed)\n"
   ]
  }
 ],
 "metadata": {
  "kernelspec": {
   "display_name": "Python 3",
   "language": "python",
   "name": "python3"
  },
  "language_info": {
   "codemirror_mode": {
    "name": "ipython",
    "version": 3
   },
   "file_extension": ".py",
   "mimetype": "text/x-python",
   "name": "python",
   "nbconvert_exporter": "python",
   "pygments_lexer": "ipython3",
   "version": "3.6.5"
  }
 },
 "nbformat": 4,
 "nbformat_minor": 2
}
