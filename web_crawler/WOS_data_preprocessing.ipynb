{
 "cells": [
  {
   "cell_type": "markdown",
   "metadata": {},
   "source": [
    "# WosClient"
   ]
  },
  {
   "cell_type": "code",
   "execution_count": null,
   "metadata": {},
   "outputs": [],
   "source": [
    "import time\n",
    "import pandas as pd"
   ]
  },
  {
   "cell_type": "code",
   "execution_count": null,
   "metadata": {},
   "outputs": [],
   "source": [
    "# !pip install suds-jurko\n",
    "\n",
    "from suds import client\n",
    "from base64 import b64encode as _b64encode\n",
    "from collections import OrderedDict as _OrderedDict\n",
    "\n",
    "class WosClient():\n",
    "    \"\"\"Query the Web of Science.\n",
    "       You must provide user and password only to user premium WWS service.\n",
    "       with WosClient() as wos:\n",
    "           results = wos.search(...)\"\"\"\n",
    "\n",
    "    base_url = 'http://search.webofknowledge.com'\n",
    "    auth_url = base_url + '/esti/wokmws/ws/WOKMWSAuthenticate?wsdl'\n",
    "    search_url = base_url + '/esti/wokmws/ws/WokSearch?wsdl'\n",
    "    searchlite_url = base_url + '/esti/wokmws/ws/WokSearchLite?wsdl'\n",
    "\n",
    "    def __init__(self, user=None, password=None, SID=None, close_on_exit=True,\n",
    "                 lite=False):\n",
    "        \"\"\"Create the SOAP clients. user and password for premium access.\"\"\"\n",
    "\n",
    "        self._SID = SID\n",
    "        self._close_on_exit = close_on_exit\n",
    "        search_wsdl = self.searchlite_url if lite else self.search_url\n",
    "        self._auth = client.Client(self.auth_url)\n",
    "        self._search = client.Client(search_wsdl)\n",
    "\n",
    "        if user and password:\n",
    "            auth = '%s:%s' % (user, password)\n",
    "            auth = _b64encode(auth.encode('utf-8')).decode('utf-8')\n",
    "            headers = {'Authorization': ('Basic %s' % auth).strip()}\n",
    "            self._auth.set_options(headers=headers)\n",
    "\n",
    "    def __enter__(self):\n",
    "        \"\"\"Automatically connect when used with 'with' statements.\"\"\"\n",
    "        self.connect()\n",
    "        return self\n",
    "\n",
    "    def __exit__(self, exc_type, exc_value, traceback):\n",
    "        \"\"\"Close connection after closing the 'with' statement.\"\"\"\n",
    "        if self._close_on_exit:\n",
    "            self.close()\n",
    "\n",
    "    def __del__(self):\n",
    "        \"\"\"Close connection when deleting the object.\"\"\"\n",
    "        if self._close_on_exit:\n",
    "            self.close()\n",
    "\n",
    "    def connect(self):\n",
    "        \"\"\"Authenticate to WOS and set the SID cookie.\"\"\"\n",
    "        if not self._SID:\n",
    "            self._SID = self._auth.service.authenticate()\n",
    "            print('Authenticated (SID: %s)' % self._SID)\n",
    "\n",
    "        self._search.set_options(headers={'Cookie': 'SID=\"%s\"' % self._SID})\n",
    "        self._auth.options.headers.update({'Cookie': 'SID=\"%s\"' % self._SID})\n",
    "        return self._SID\n",
    "\n",
    "    def close(self):\n",
    "        \"\"\"Close the session.\"\"\"\n",
    "        if self._SID:\n",
    "            self._auth.service.closeSession()\n",
    "            self._SID = None\n",
    "\n",
    "    def search(self, query, count=5, offset=1):\n",
    "        \"\"\"Perform a query. Check the WOS documentation for v3 syntax.\"\"\"\n",
    "        if not self._SID:\n",
    "            raise RuntimeError('Session not open. Invoke .connect() before.')\n",
    "\n",
    "        qparams = _OrderedDict([('databaseId', 'WOS'),\n",
    "                                ('userQuery', query),\n",
    "                                ('queryLanguage', 'en')])\n",
    "\n",
    "        rparams = _OrderedDict([('firstRecord', offset),\n",
    "                                ('count', count),\n",
    "                                ('sortField', _OrderedDict([('name', 'RS'),\n",
    "                                                            ('sort', 'D')]))])\n",
    "\n",
    "        return self._search.service.search(qparams, rparams)"
   ]
  },
  {
   "cell_type": "code",
   "execution_count": null,
   "metadata": {},
   "outputs": [],
   "source": [
    "\n",
    "from xml.etree import ElementTree as _ET\n",
    "from xml.dom import minidom as _minidom\n",
    "import re as _re\n",
    "\n",
    "def single(wosclient, wos_query, xml_query=None, count=10, offset=1):\n",
    "    \"\"\"Perform a single Web of Science query and then XML query the results.\"\"\"\n",
    "    result = wosclient.search(wos_query, count, offset)\n",
    "    print (result)\n",
    "    xml = _re.sub(' xmlns=\"[^\"]+\"', '', result.records, count=1).encode('utf-8')\n",
    "    if xml_query:\n",
    "        xml = _ET.fromstring(xml)\n",
    "        return [el.text for el in xml.findall(xml_query)]\n",
    "    else:\n",
    "        return _minidom.parseString(xml).toprettyxml()\n",
    "\n",
    "def query(wosclient, wos_query, xml_query=None, count=10, offset=1, limit=100):\n",
    "    \"\"\"Query Web of Science and XML query results with multiple requests.\"\"\"\n",
    "    results = [single(wosclient, wos_query, xml_query, min(limit, count-x+1), x) for x in range(offset, count+1, limit)]\n",
    "    if xml_query:\n",
    "        return [el for res in results for el in res]\n",
    "    else:\n",
    "        pattern = _re.compile(r'.*?<records>|</records>.*', _re.DOTALL)\n",
    "        return ('<?xml version=\"1.0\" ?>\\n<records>' +\n",
    "                '\\n'.join(pattern.sub('', res) for res in results) +\n",
    "                '</records>')\n",
    "\n",
    "def doi_to_wos(wosclient, doi):\n",
    "    \"\"\"Convert DOI to WOS identifier.\"\"\"\n",
    "    results = query(wosclient, 'DO=%s' % doi, './REC/UID', count=1)\n",
    "    return results[0].lstrip('WOS:') if results else None"
   ]
  },
  {
   "cell_type": "code",
   "execution_count": null,
   "metadata": {},
   "outputs": [
    {
     "name": "stdout",
     "output_type": "stream",
     "text": [
      "Authenticated (SID: D3BtfMB8s7cppbOs7cg)\n"
     ]
    },
    {
     "data": {
      "text/plain": [
       "D3BtfMB8s7cppbOs7cg"
      ]
     },
     "execution_count": 4,
     "metadata": {},
     "output_type": "execute_result"
    }
   ],
   "source": [
    "soap = WosClient(lite=True)\n",
    "soap.connect()"
   ]
  },
  {
   "cell_type": "markdown",
   "metadata": {},
   "source": [
    "# Exchange the Given and Family Name"
   ]
  },
  {
   "cell_type": "code",
   "execution_count": null,
   "metadata": {},
   "outputs": [],
   "source": [
    "searchnames = []\n",
    "i=0\n",
    "for line in open('Dismis_Acad_List_CLEAN.txt','r'):\n",
    "    QueryString = line.strip()\n",
    "    QueryString = \"AU=\"+line.split(',')[0].split()[-1]+' '+line.split(',')[0].split()[0]\n",
    "    print('QueryString:', QueryString)\n",
    "    searchnames.append(QueryString)\n"
   ]
  },
  {
   "cell_type": "code",
   "execution_count": 6,
   "metadata": {},
   "outputs": [
    {
     "data": {
      "text/plain": [
       "3575"
      ]
     },
     "execution_count": 6,
     "metadata": {},
     "output_type": "execute_result"
    }
   ],
   "source": [
    "len(searchnames)"
   ]
  },
  {
   "cell_type": "code",
   "execution_count": null,
   "metadata": {
    "scrolled": true
   },
   "outputs": [],
   "source": [
    "pd.DataFrame(searchnames,columns=['SearchNames']).to_csv('SearchNames.csv')"
   ]
  },
  {
   "cell_type": "code",
   "execution_count": 8,
   "metadata": {},
   "outputs": [],
   "source": [
    "SearchNames = pd.read_csv('SearchNames.csv')"
   ]
  },
  {
   "cell_type": "code",
   "execution_count": 9,
   "metadata": {},
   "outputs": [
    {
     "data": {
      "text/plain": [
       "'AYDIN AYDIN'"
      ]
     },
     "execution_count": 9,
     "metadata": {},
     "output_type": "execute_result"
    }
   ],
   "source": [
    "SearchNames.SearchNames[0].strip().split('=')[1]"
   ]
  },
  {
   "cell_type": "code",
   "execution_count": null,
   "metadata": {},
   "outputs": [],
   "source": [
    "soap = WoSClient(lite=True)\n",
    "soap.connect()\n",
    "query = \"VA= Article\"\n",
    "res=soap.search(query)\n"
   ]
  },
  {
   "cell_type": "code",
   "execution_count": null,
   "metadata": {
    "scrolled": true
   },
   "outputs": [],
   "source": [
    "names = []\n",
    "lens = []\n",
    "co_aut = []\n",
    "i=0\n",
    "for i in range(len(SearchNames)):\n",
    "#     if i > 10: break\n",
    "    print('Will approximately take ' + str(len(SearchNames) / 2) + ' seconds..')\n",
    "    line = SearchNames.SearchNames[i]\n",
    "    QueryString = line\n",
    "    print(QueryString)\n",
    "    if i == 2400: # WOS constraints that each ID can only search for 2500 times. Just set smaller counts to renew the ID.\n",
    "        soap = WosClient(lite=True)\n",
    "        soap.connect()\n",
    "    results = soap.search(QueryString)\n",
    "    #getting number of name of co-authors\n",
    "    if (results.recordsFound>0):\n",
    "        authors = []\n",
    "        for j in range (len(results.records)):\n",
    "            for k in range (len(results.records[j].authors)):\n",
    "                for l in range (len(results.records[j].authors[k].value)):\n",
    "                    co_authors=results.records[j].authors[k].value[l]\n",
    "                    authors.append(co_authors)\n",
    "                    print('co_author',co_authors)\n",
    "                #co_aut.append(authors)\n",
    "            #co.append(co_aut)\n",
    "    print(results.recordsFound)\n",
    "    names_tr.append(QueryString.split('=')[1])\n",
    "    lens.append(results.recordsFound)\n",
    "    co_aut.append(authors)\n",
    "    time.sleep(0.5) # WOS constraints that you can only search twice per second\n",
    "    i=i+1"
   ]
  },
  {
   "cell_type": "code",
   "execution_count": 53,
   "metadata": {},
   "outputs": [],
   "source": [
    "#a python module to make unicode strings work as expected for turkish chars. solves the turkish \"İ\" problem\n",
    "\n",
    "# have to do pip install unicode_tr\n",
    "names_en = []\n",
    "from unicode_tr.extras import slugify\n",
    "for i in range(len(names_tr)):\n",
    "    name_en = slugify(names_tr[i])\n",
    "    name_en = name_en.replace('-',' ').title()\n",
    "    names_en.append(name_en)"
   ]
  },
  {
   "cell_type": "code",
   "execution_count": 58,
   "metadata": {},
   "outputs": [
    {
     "data": {
      "text/plain": [
       "1926"
      ]
     },
     "execution_count": 58,
     "metadata": {},
     "output_type": "execute_result"
    }
   ],
   "source": [
    "len(names_tr)"
   ]
  },
  {
   "cell_type": "code",
   "execution_count": 59,
   "metadata": {},
   "outputs": [
    {
     "name": "stdout",
     "output_type": "stream",
     "text": [
      "Totally 44265 guys were downloaded as coauthors\n"
     ]
    }
   ],
   "source": [
    "cnt=0\n",
    "for l in co_aut:\n",
    "    cnt += len(l)\n",
    "print('Totally ' + str(cnt) + ' guys were downloaded as coauthors')"
   ]
  },
  {
   "cell_type": "code",
   "execution_count": 69,
   "metadata": {},
   "outputs": [],
   "source": [
    "coauthors = set()\n",
    "for l in co_aut:\n",
    "    for author in l:\n",
    "        author = author.replace(',', '')\n",
    "        coauthors.add(author)"
   ]
  },
  {
   "cell_type": "code",
   "execution_count": 73,
   "metadata": {},
   "outputs": [
    {
     "name": "stdout",
     "output_type": "stream",
     "text": [
      "Totally we have 1892 dismissed and 17338 unique coauthors\n"
     ]
    }
   ],
   "source": [
    "# let's now create the file with not-dismissed professors:\n",
    "dismissed = set(names_en)\n",
    "\n",
    "print('Totally we have ' + str(len(dismissed)) + ' dismissed and ' + str(len(coauthors)) + ' unique coauthors')"
   ]
  },
  {
   "cell_type": "code",
   "execution_count": 75,
   "metadata": {},
   "outputs": [
    {
     "name": "stdout",
     "output_type": "stream",
     "text": [
      "So, we have 16059 undismissed guys\n"
     ]
    }
   ],
   "source": [
    "undismissed = coauthors - dismissed\n",
    "print('So, we have ' + str(len(undismissed)) + ' undismissed guys')"
   ]
  },
  {
   "cell_type": "code",
   "execution_count": 76,
   "metadata": {},
   "outputs": [
    {
     "ename": "AttributeError",
     "evalue": "module 'pandas' has no attribute 'to_csv'",
     "output_type": "error",
     "traceback": [
      "\u001b[0;31m---------------------------------------------------------------------------\u001b[0m",
      "\u001b[0;31mAttributeError\u001b[0m                            Traceback (most recent call last)",
      "\u001b[0;32m<ipython-input-76-c57478f40d84>\u001b[0m in \u001b[0;36m<module>\u001b[0;34m()\u001b[0m\n\u001b[0;32m----> 1\u001b[0;31m \u001b[0mpd\u001b[0m\u001b[0;34m.\u001b[0m\u001b[0mto_csv\u001b[0m\u001b[0;34m(\u001b[0m\u001b[0mdismissed\u001b[0m\u001b[0;34m)\u001b[0m\u001b[0;34m\u001b[0m\u001b[0m\n\u001b[0m",
      "\u001b[0;31mAttributeError\u001b[0m: module 'pandas' has no attribute 'to_csv'"
     ]
    }
   ],
   "source": [
    "pd.Dataframe(list(dismissed)).to_csv('dismissed.csv')\n",
    "pd.Dataframe(list(undismissed)).to_csv('undismissed.csv')"
   ]
  },
  {
   "cell_type": "code",
   "execution_count": null,
   "metadata": {},
   "outputs": [],
   "source": []
  }
 ],
 "metadata": {
  "kernelspec": {
   "display_name": "Python 3",
   "language": "python",
   "name": "python3"
  },
  "language_info": {
   "codemirror_mode": {
    "name": "ipython",
    "version": 3
   },
   "file_extension": ".py",
   "mimetype": "text/x-python",
   "name": "python",
   "nbconvert_exporter": "python",
   "pygments_lexer": "ipython3",
   "version": "3.6.5"
  }
 },
 "nbformat": 4,
 "nbformat_minor": 2
}
