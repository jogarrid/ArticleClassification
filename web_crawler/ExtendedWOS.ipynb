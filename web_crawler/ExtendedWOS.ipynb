{
 "cells": [
  {
   "cell_type": "markdown",
   "metadata": {},
   "source": [
    "# Scrapping on WoS to get abstacts from papers"
   ]
  },
  {
   "cell_type": "code",
   "execution_count": 1,
   "metadata": {},
   "outputs": [],
   "source": [
    "from suds.client import Client\n",
    "import time\n",
    "import pandas as pd\n",
    "import csv\n",
    "import numpy as np\n",
    "import re"
   ]
  },
  {
   "cell_type": "code",
   "execution_count": 2,
   "metadata": {},
   "outputs": [],
   "source": [
    "#from scraper_WoS_UpdatedVer import *\n",
    "from scraper_WoS import *\n",
    "from parsing import *"
   ]
  },
  {
   "cell_type": "code",
   "execution_count": 3,
   "metadata": {},
   "outputs": [],
   "source": [
    "def pub_of_author(Querystring):\n",
    "    results = soap.search(Querystring, offset = 1)\n",
    "    if results.recordsFound > 100:\n",
    "        new_records = results.records\n",
    "        for i in range(int(results.recordsFound/100)):\n",
    "            time.sleep(0.5)\n",
    "            research = soap.search(Querystring, offset = (i+1)*100+1)\n",
    "            time.sleep(0.5)\n",
    "            new_records = new_records + research.records\n",
    "        #results = new_records\n",
    "        results.records = new_records\n",
    "    return results"
   ]
  },
  {
   "cell_type": "code",
   "execution_count": 4,
   "metadata": {},
   "outputs": [
    {
     "name": "stdout",
     "output_type": "stream",
     "text": [
      "Authenticated (SID: F39UzuHBKFuyRTgYqH3)\n"
     ]
    },
    {
     "data": {
      "text/plain": [
       "F39UzuHBKFuyRTgYqH3"
      ]
     },
     "execution_count": 4,
     "metadata": {},
     "output_type": "execute_result"
    }
   ],
   "source": [
    "#soap = WosClient(lite=True)\n",
    "#soap.connect()\n",
    "soap = WosClient(user= 'SWISS10_reproj', password= 'Welcome#10 ', lite=False)\n",
    "soap.connect()"
   ]
  },
  {
   "cell_type": "code",
   "execution_count": 4,
   "metadata": {},
   "outputs": [
    {
     "data": {
      "text/plain": [
       "['AU=SARAC CEMAL',\n",
       " 'AU=KOSE IBRAHIM',\n",
       " 'AU=YENIDUNYA AHMET',\n",
       " 'AU=MALKOC SIDDIK',\n",
       " 'AU=ARASOGLU ALI',\n",
       " 'AU=HIRCA NECATI',\n",
       " 'AU=ACEMOGLU HAMIT',\n",
       " 'AU=GURSUL FATIH',\n",
       " 'AU=OZEL ERDOGAN',\n",
       " 'AU=YAYLA AHMET',\n",
       " 'AU=PERKMEN SERKAN',\n",
       " 'AU=KOCYIGIT ALI',\n",
       " 'AU=OZTUZCU SERDAR',\n",
       " 'AU=KOC EMINE',\n",
       " 'AU=CEBER MEHMET',\n",
       " 'AU=DAGLI ARIF',\n",
       " 'AU=BERTLEK SEYDI',\n",
       " 'AU=BORAZAN HALE',\n",
       " 'AU=SAGLAM MUSA',\n",
       " 'AU=SELCUK MUSTAFA',\n",
       " 'AU=GUNEYISI ERHAN',\n",
       " 'AU=ASLANKURT MURAT',\n",
       " 'AU=KESKIN YILDIRAY',\n",
       " 'AU=ERAYMAN ALI',\n",
       " 'AU=TATLI MUSTAFA',\n",
       " 'AU=BALCIOGLU ERCAN',\n",
       " 'AU=BARGAN HUSEYIN',\n",
       " 'AU=YUCEL GERCEK',\n",
       " 'AU=KASLI MEHMET',\n",
       " 'AU=CACAN IHSAN',\n",
       " 'AU=AYDIN NECMEDDIN',\n",
       " 'AU=YILMAZ NIHAT',\n",
       " 'AU=CETIN OZDEMIR',\n",
       " 'AU=NARGUL VEYSEL',\n",
       " 'AU=AKTAS DAVUT',\n",
       " 'AU=TEKELIOGLU UMIT',\n",
       " 'AU=YILMAZ NAZIRE',\n",
       " 'AU=ILHAN AZIME',\n",
       " 'AU=DEMIR SERVET',\n",
       " 'AU=GUMUS METEHAN',\n",
       " 'AU=ATASOGLU CENGIZ',\n",
       " 'AU=SENGUN ABDULKADIR',\n",
       " 'AU=OZ AHMET',\n",
       " 'AU=TOY HATICE',\n",
       " 'AU=SAKALAR CAGRI',\n",
       " 'AU=PEKGOZLU ILHAN',\n",
       " 'AU=YAPRAK MUSTAFA',\n",
       " 'AU=KARACA ZEKI',\n",
       " 'AU=CATALBAS BULENT',\n",
       " 'AU=KILIC TUNCER',\n",
       " 'AU=CURE ERKAN',\n",
       " 'AU=KIRBAS SERKAN',\n",
       " 'AU=BALCI MURAT',\n",
       " 'AU=KIRAZ AYHAN',\n",
       " 'AU=DOGAN MEVLUT',\n",
       " 'AU=YUCE ABDULHAKIM',\n",
       " 'AU=USAK ESMA',\n",
       " 'AU=ARICAN MEHMET',\n",
       " 'AU=YAZICILAR TURAN',\n",
       " 'AU=SUNGU HILMI',\n",
       " 'AU=KAMCI HAMDI',\n",
       " 'AU=KOKSAL YUKSEL',\n",
       " 'AU=ATA HACI',\n",
       " 'AU=ESKIKURT HALIL',\n",
       " 'AU=ALPAK GOKAY',\n",
       " 'AU=ALTUN IBRAHIM',\n",
       " 'AU=SACAN SUNAY',\n",
       " 'AU=UZUNOGLU SELIM',\n",
       " 'AU=COLAK ALI',\n",
       " 'AU=CALISKAN ALI',\n",
       " 'AU=GUNES AHMET',\n",
       " 'AU=CEVHER EZGI',\n",
       " 'AU=BESIR FAHRI',\n",
       " 'AU=DAGLIOGLU MUTLU',\n",
       " 'AU=KUCUK HARUN',\n",
       " 'AU=UCUN ISMAIL',\n",
       " 'AU=USTUN IHSAN',\n",
       " 'AU=YALCIN ALI',\n",
       " 'AU=ATAY TOLGA',\n",
       " 'AU=AVCI MEHMET',\n",
       " 'AU=IBICIOGLU HASAN',\n",
       " 'AU=ORNEK KEMAL',\n",
       " 'AU=YAZICI HUSEYIN',\n",
       " 'AU=GULTEKIN ERDOGAN',\n",
       " 'AU=TEMIZER AYDIN',\n",
       " 'AU=KARAKAYA SUKRU',\n",
       " 'AU=COSKUN EYYUP',\n",
       " 'AU=CETINKAYA NIHAT',\n",
       " 'AU=CAKIR UGUR',\n",
       " 'AU=TATLIOGLU DURMUS',\n",
       " 'AU=ONDER MEHMET',\n",
       " 'AU=TETIN MEHMET',\n",
       " 'AU=COSKUN ALI',\n",
       " 'AU=TATAR ERDAL',\n",
       " 'AU=TUTAK MUSTAFA',\n",
       " 'AU=BAKIS MURAT',\n",
       " 'AU=CELIK AKIN',\n",
       " 'AU=SANCAKDAR ENVER',\n",
       " 'AU=TOPCU MUZAFFER',\n",
       " 'AU=ULASLI MUSTAFA',\n",
       " 'AU=CORUMLUOGLU OZSEN',\n",
       " 'AU=MEMIS NURAY',\n",
       " 'AU=SATILMIS HASAN',\n",
       " 'AU=AYDOGAN FATIH',\n",
       " 'AU=CETIN DOGAN',\n",
       " 'AU=YILMAZ MEHMET',\n",
       " 'AU=DEMIRKIRAN DAVUT',\n",
       " 'AU=GUNES HAYATI',\n",
       " 'AU=ONCEL ALI',\n",
       " 'AU=OZDEMIR ISMAIL',\n",
       " 'AU=SULAK MERAL',\n",
       " 'AU=OZ SALIH',\n",
       " 'AU=ZENGIN HALIT',\n",
       " 'AU=GENC LUTFI',\n",
       " 'AU=PAKSOY KADIR',\n",
       " 'AU=CELIKSOZ ALI',\n",
       " 'AU=UYSAL HUSEYIN',\n",
       " 'AU=KILINC HALIL',\n",
       " 'AU=TUTAR EDIZ',\n",
       " 'AU=INCI MEHMET',\n",
       " 'AU=KESICI MEHMET',\n",
       " 'AU=DULGERGIL CORUH',\n",
       " 'AU=KIRAZ NURI',\n",
       " 'AU=BOZKURT FATMA',\n",
       " 'AU=SAVAS HALUK',\n",
       " 'AU=ALDEMIR OZGUR',\n",
       " 'AU=VIRIT OSMAN',\n",
       " 'AU=VURAL MEHMET',\n",
       " 'AU=POLAT AYTEKIN',\n",
       " 'AU=CAN ALPER',\n",
       " 'AU=ACARTURK GURSEL',\n",
       " 'AU=OKAY AYDEMIR',\n",
       " 'AU=ARAS ERDAL',\n",
       " 'AU=SOYDAN YAVUZ',\n",
       " 'AU=SULAK OSMAN',\n",
       " 'AU=OZ AHMET',\n",
       " 'AU=KAHRAMAN NURCAN',\n",
       " 'AU=BOREKCI SULEYMAN',\n",
       " 'AU=AKSU MUHARREM',\n",
       " 'AU=OZBEK IBRAHIM',\n",
       " 'AU=SEN GUL',\n",
       " 'AU=CALKA OMER',\n",
       " 'AU=ERDEN KADRIYE',\n",
       " 'AU=UZUN HAKAN',\n",
       " 'AU=TOPALOGLU NACI',\n",
       " 'AU=YURTTUTAR MUSTAFA',\n",
       " 'AU=CINKAYA MUHAMMED',\n",
       " 'AU=SAHIN SERKAN',\n",
       " 'AU=AKBULUT HALIM',\n",
       " 'AU=SIMSEK LEVENT',\n",
       " 'AU=GEYIKLI TURABI',\n",
       " 'AU=AKYOL OMER',\n",
       " 'AU=UCGUN ERCAN',\n",
       " 'AU=ERTIK HUSEYIN',\n",
       " 'AU=KAPAN MURAT',\n",
       " 'AU=CAN AHMET',\n",
       " 'AU=AKBIYIK CENK',\n",
       " 'AU=AKPINAR IBRAHIM',\n",
       " 'AU=UCAR AHMET',\n",
       " 'AU=YALCIN MUHAMMET',\n",
       " 'AU=CICEK ERSAN',\n",
       " 'AU=TURKMEN MUSTAFA',\n",
       " 'AU=OZEL ALI',\n",
       " 'AU=SEZAN HATICE',\n",
       " 'AU=BILGEN OSMAN',\n",
       " 'AU=ULUKAN MEHMET',\n",
       " 'AU=YUCEKAYA GULAY',\n",
       " 'AU=ERDAL MESUT',\n",
       " 'AU=BULCUN EMEL',\n",
       " 'AU=TAN KADIR',\n",
       " 'AU=CUKURCAYIR MEHMET',\n",
       " 'AU=CAPKIN MUSA',\n",
       " 'AU=VAROL HUSEYIN',\n",
       " 'AU=ACAR MUSTAFA',\n",
       " 'AU=KOCAMAN SERPIL',\n",
       " 'AU=AYDIN MUSA',\n",
       " 'AU=BOZKURT ILKAY',\n",
       " 'AU=OZKOKELI NURETTIN',\n",
       " 'AU=TURAN YUSUF',\n",
       " 'AU=KAYA ZEKERIYA',\n",
       " 'AU=YAYKASLI KURSAT',\n",
       " 'AU=ERKAYA SELCUK',\n",
       " 'AU=ULUKOK ZUBEYDE',\n",
       " 'AU=ERDIK CENGIZ',\n",
       " 'AU=ARSLAN SIDDIK',\n",
       " 'AU=YAYLAGUL MIYASE',\n",
       " 'AU=ALTUNTAS IRFAN',\n",
       " 'AU=DEMIR CEVDET',\n",
       " 'AU=OZDEMIR HABIB',\n",
       " 'AU=DEMIRER SERHAT',\n",
       " 'AU=DUMAN SITKI',\n",
       " 'AU=OZKAN FILIZ',\n",
       " 'AU=ILHAN NILUFER',\n",
       " 'AU=YAZICI SELMA',\n",
       " 'AU=GURBUZLER LEVENT',\n",
       " 'AU=ALTINDAG SERIFE',\n",
       " 'AU=YURT EYUP',\n",
       " 'AU=SEKMEN YAKUP',\n",
       " 'AU=CIPIL HANDAN',\n",
       " 'AU=EKIM SEFIKA',\n",
       " 'AU=MAZI FIKRET',\n",
       " 'AU=OKUTAN HALIL',\n",
       " 'AU=ERDEM IDRIS',\n",
       " 'AU=SAHIN LEVENT',\n",
       " 'AU=BAKIR IHSAN',\n",
       " 'AU=YILMAZ MHMET',\n",
       " 'AU=DURAN MUHARREM',\n",
       " 'AU=BOLEK YUKSEL',\n",
       " 'AU=YILMAZ MUSTAFA',\n",
       " 'AU=KARADENIZ ALI',\n",
       " 'AU=GULCU ISMAIL',\n",
       " 'AU=TEMEL METIN',\n",
       " 'AU=BILGIC OZLEM',\n",
       " 'AU=TANRIKULU AHMED',\n",
       " 'AU=AGCA VEYSEL',\n",
       " 'AU=SARICI KAZIM',\n",
       " 'AU=BULGAN ERDAL',\n",
       " 'AU=DELIGOZ HASALETTIN',\n",
       " 'AU=TURKMEN SEYFULLAH',\n",
       " 'AU=SUMER CETIN',\n",
       " 'AU=SARICA MEHMET',\n",
       " 'AU=LODOGLU NILAY',\n",
       " 'AU=SONMEZ MEHMET',\n",
       " 'AU=GUNEY BAHA',\n",
       " 'AU=KAYMAKCI OGUZ',\n",
       " 'AU=TAKTAK SUKRU',\n",
       " 'AU=OZTURK METIN',\n",
       " 'AU=BOLUKOGLU ILHAN',\n",
       " 'AU=SENYER NURETTIN',\n",
       " 'AU=YONDEN ARZU',\n",
       " 'AU=EROL AHMET',\n",
       " 'AU=CEVIKOGLU HASAN',\n",
       " 'AU=ARI SEYHMUS',\n",
       " 'AU=KOSE SACIT',\n",
       " 'AU=KORUKCU ADEM',\n",
       " 'AU=TUZEL SAIT',\n",
       " 'AU=YAVUZ MUSTAFA',\n",
       " 'AU=OZKAN OZALKAN',\n",
       " 'AU=SARMAN HAKAN',\n",
       " 'AU=SEN HALIL',\n",
       " 'AU=ULVI HIZIR',\n",
       " 'AU=AYTEKIN METIN',\n",
       " 'AU=CETIN EYUP',\n",
       " 'AU=OZKAYA ERDOGAN',\n",
       " 'AU=KABACIK MEHMET',\n",
       " 'AU=AYTEKIN VAHIT',\n",
       " 'AU=OZTURK ONDER',\n",
       " 'AU=BAY ALI',\n",
       " 'AU=COSKUN EROL',\n",
       " 'AU=YILMAZ SAZIYE',\n",
       " 'AU=ISKURT ALI',\n",
       " 'AU=TOPAL YUSUF',\n",
       " 'AU=OZEREN SULEYMAN',\n",
       " 'AU=OZKAN ADEM',\n",
       " 'AU=GURBUZ RIZA',\n",
       " 'AU=AKKAR OZLEM',\n",
       " 'AU=KETEN ALPER',\n",
       " 'AU=POLAT EDIZ',\n",
       " 'AU=SINAN OLCAY',\n",
       " 'AU=GUNES TEVFIK',\n",
       " 'AU=BASAK SUNA',\n",
       " 'AU=OZDIN KAMIL',\n",
       " 'AU=TOSUN HAMZA',\n",
       " 'AU=TULUBAS FETI',\n",
       " 'AU=GURBUZ BILAL',\n",
       " 'AU=KIZILCI ESRA',\n",
       " 'AU=ATIK KEMAL',\n",
       " 'AU=AKTAS ALI',\n",
       " 'AU=BAGIRCI FARUK',\n",
       " 'AU=KARAPIRLI MUSTAFA',\n",
       " 'AU=DELICAY TAHSIN',\n",
       " 'AU=DAS HUSEYIN',\n",
       " 'AU=OZ FARUK',\n",
       " 'AU=ARAS MEVLUT',\n",
       " 'AU=EGRI OSMAN',\n",
       " 'AU=UCAR IBRAHIM',\n",
       " 'AU=TOPRAK SELCUK',\n",
       " 'AU=AYDIN SERKAN',\n",
       " 'AU=ZEYREK SUAT',\n",
       " 'AU=OZSARAC MURAT',\n",
       " 'AU=DOLAPCI IHSAN',\n",
       " 'AU=ARIKAN YUSUF',\n",
       " 'AU=GUNGOREN MUAZ',\n",
       " 'AU=ULU MELIKE',\n",
       " 'AU=BEZ YASIN',\n",
       " 'AU=GUNES YAVUZ',\n",
       " 'AU=HOKELEK MURAT',\n",
       " 'AU=AYDOGAN TIMUCIN',\n",
       " 'AU=GENCTURK MUHARREM',\n",
       " 'AU=ANNAGUR ALI',\n",
       " 'AU=COREKCI BARAM',\n",
       " 'AU=UNIVERSITYER MEHMET',\n",
       " 'AU=CEGIL OZKAN',\n",
       " 'AU=KAVAS HUSEYIN',\n",
       " 'AU=UNAL MUSTAFA',\n",
       " 'AU=KULA SEHER',\n",
       " 'AU=KAYRAK MEHMET',\n",
       " 'AU=KURDOGLU MERTIHAN',\n",
       " 'AU=TASKIN FERHAT',\n",
       " 'AU=EREN SELIM',\n",
       " 'AU=YIGIT ALPER',\n",
       " 'AU=PINAR GUL',\n",
       " 'AU=FARUKNOYAN OMER',\n",
       " 'AU=VAN NUREDDIN',\n",
       " 'AU=CAKIR OMER',\n",
       " 'AU=SIMSEK MESUT',\n",
       " 'AU=KADAK UGUR',\n",
       " 'AU=AKTUMEN MUHARREM',\n",
       " 'AU=BABACAN HASAN',\n",
       " 'AU=CELIK ALI',\n",
       " 'AU=CETIN SEDAT',\n",
       " 'AU=ER DILEK',\n",
       " 'AU=TEZCAN ERCUMENT',\n",
       " 'AU=KIROGLU YILMAZ',\n",
       " 'AU=ULKER MUSTAFA',\n",
       " 'AU=OZEL EMINE',\n",
       " 'AU=GOKTAS UGUR',\n",
       " 'AU=OZCAN AHMET',\n",
       " 'AU=ACAR SRDAR',\n",
       " 'AU=PENABGUL NECMETTIN',\n",
       " 'AU=OKTAY MURAT',\n",
       " 'AU=ARSLAN RAMAZAN',\n",
       " 'AU=ALTAY HUSEYIN',\n",
       " 'AU=OZTURK OZGUR',\n",
       " 'AU=KIYMAZ NEJMI',\n",
       " 'AU=KOROGLU MEHMET',\n",
       " 'AU=DEMIRCI SULEYMAN',\n",
       " 'AU=ISIK MUSTAFA',\n",
       " 'AU=UCAL HALIL',\n",
       " 'AU=YILDIRIM CIHAN',\n",
       " 'AU=KARACA ADEM',\n",
       " 'AU=KARAKURT HASAN',\n",
       " 'AU=UYSAL AHMET',\n",
       " 'AU=DEMIR SULEYMAN',\n",
       " 'AU=KURT AYSE',\n",
       " 'AU=DOGAN HAKAN',\n",
       " 'AU=DELIBASI TUNCAY',\n",
       " 'AU=UYANIK EMRAH',\n",
       " 'AU=ELBEY MEHMET',\n",
       " 'AU=PEKCAN AHMET',\n",
       " 'AU=SUNBUL MUSTAFA',\n",
       " 'AU=CIVAN MEHMET',\n",
       " 'AU=KAYIM MURATHAN',\n",
       " 'AU=ATA SEVKET',\n",
       " 'AU=OCAK IBRAHIM',\n",
       " 'AU=GENCER ERCAN',\n",
       " 'AU=CETIN ALTAN',\n",
       " 'AU=YILDIRIM MUSTAFA',\n",
       " 'AU=SENGONUL MEHMET',\n",
       " 'AU=KARA EKREM',\n",
       " 'AU=ARI ERDOGAN',\n",
       " 'AU=BULUT ICLAL',\n",
       " 'AU=BASAR OMER',\n",
       " 'AU=UYSAL MURAT',\n",
       " 'AU=KAPTAN HAKAN',\n",
       " 'AU=ARIK MUHAMMET',\n",
       " 'AU=EROL HASAN',\n",
       " 'AU=DEMIR MUSTAFA',\n",
       " 'AU=PAMUK BILGEHAN',\n",
       " 'AU=ATIK BEKIR',\n",
       " 'AU=AY GUNGOR',\n",
       " 'AU=TURAN BUNYAMIN',\n",
       " 'AU=DAMLAR IBRAHIM',\n",
       " 'AU=ERSOZLU ZEHRA',\n",
       " 'AU=KOCA IRFAN',\n",
       " 'AU=SAVAS ESEN',\n",
       " 'AU=KIRILMIS YASIN',\n",
       " 'AU=YAMAN MELDA',\n",
       " 'AU=KILIC SUKRU',\n",
       " 'AU=YUKSEL SULEYMAN',\n",
       " 'AU=GOKBEL HAKKI',\n",
       " 'AU=CIVELEK SEVKET',\n",
       " 'AU=OYSAL YUSUF',\n",
       " 'AU=YENICERI HARUN',\n",
       " 'AU=OZARAS RESAT',\n",
       " 'AU=GURE MULAYIM',\n",
       " 'AU=KOIZHAIGANOVA MERUYERT',\n",
       " 'AU=BOZKURT NURGUL',\n",
       " 'AU=TASKIN IHSAN',\n",
       " 'AU=SARISOY SINAN',\n",
       " 'AU=CATAL MEHMET',\n",
       " 'AU=KIVILCIM ZEYNEP',\n",
       " 'AU=KARADAS CELALETTIN',\n",
       " 'AU=GOGEBAKAN BULENT',\n",
       " 'AU=ZAL UNAL',\n",
       " 'AU=GOCER ISMET',\n",
       " 'AU=YILDIRIM EREN',\n",
       " 'AU=OGUZ MUSTAFA',\n",
       " 'AU=FICICI FERIT',\n",
       " 'AU=KUZHAN ABDURRAHMAN',\n",
       " 'AU=CANKURT MURAT',\n",
       " 'AU=OZTURK ERTAN',\n",
       " 'AU=NANE ONUR',\n",
       " 'AU=KURT HASAN',\n",
       " 'AU=DUNDAR EKREM',\n",
       " 'AU=BALCI YASEMIN',\n",
       " 'AU=ISIK ABDULKADIR',\n",
       " 'AU=GUNER MEHMET',\n",
       " 'AU=ALTUN NURULLAH',\n",
       " 'AU=SAHIN HAKAN',\n",
       " 'AU=DEVEER MEHMET',\n",
       " 'AU=OZTURK BORA',\n",
       " 'AU=YILDIZ OMER',\n",
       " 'AU=KUSCU IRFAN',\n",
       " 'AU=DAYIK MEHMET',\n",
       " 'AU=UNAL OMER',\n",
       " 'AU=SARITEMUR MURAT',\n",
       " 'AU=CAKMAK HACI',\n",
       " 'AU=OZUGUZ UFUK',\n",
       " 'AU=MALKOC MUZAFFER',\n",
       " 'AU=GILGIL ERDAL',\n",
       " 'AU=DEMIRCI TEVFIK',\n",
       " 'AU=ATES MURAT',\n",
       " 'AU=UZER ALI',\n",
       " 'AU=BORAN TUGCE',\n",
       " 'AU=CENGELOGLU YUNUS',\n",
       " 'AU=CELIK RAMAZAN',\n",
       " 'AU=IMAT FATIH',\n",
       " 'AU=DALGIC ABDURRAHMAN',\n",
       " 'AU=SERINKEN MUSTAFA',\n",
       " 'AU=ATCI NESRIN',\n",
       " 'AU=TUFAN FATIH',\n",
       " 'AU=KARATAS BEKIR',\n",
       " 'AU=COSKUN NART',\n",
       " 'AU=MERMERKAYA HAMIT',\n",
       " 'AU=ULUDAG AYSEUL',\n",
       " 'AU=DEMIRER AHMET',\n",
       " 'AU=DEMIRAY MEHMET',\n",
       " 'AU=CETIN FIRDEVS',\n",
       " 'AU=YALCIN ARZU',\n",
       " 'AU=AKTAR ISMAIL',\n",
       " 'AU=ORNEK TACETTIN',\n",
       " 'AU=KARABAG OZGUR',\n",
       " 'AU=DEMIRCI YUCEL',\n",
       " 'AU=TANRIOVEN MUGDESEM',\n",
       " 'AU=AVCI MUSA',\n",
       " 'AU=AKSU MUHAMMET',\n",
       " 'AU=AYDIN KAMIL',\n",
       " 'AU=GENC OSMAN',\n",
       " 'AU=OZLER HALIL',\n",
       " 'AU=KALE BANU',\n",
       " 'AU=OZDEMIR HASAN',\n",
       " 'AU=DERVISOGLU MUHAMMET',\n",
       " 'AU=TUZCU KASIM',\n",
       " 'AU=TEMEL MEHMET',\n",
       " 'AU=GUNES MUSTAFA',\n",
       " 'AU=ULKER SERDAR',\n",
       " 'AU=CEYLAN KADIR',\n",
       " 'AU=BASARAN ENGIN',\n",
       " 'AU=SAYLI OMER',\n",
       " 'AU=GONEN YAKUP',\n",
       " 'AU=CAKMAK EBUBEKIR',\n",
       " 'AU=AKAR NESET',\n",
       " 'AU=YILMAZ MUSTAFA',\n",
       " 'AU=UYSAL ELIF',\n",
       " 'AU=TOSUN HALIL',\n",
       " 'AU=OZDEMIR DAVUT',\n",
       " 'AU=SAKA IRFAN',\n",
       " 'AU=KARAKAS MEHMET',\n",
       " 'AU=YIGITER REMZI',\n",
       " 'AU=EMRE HABIB',\n",
       " 'AU=ERDEM MEHMET',\n",
       " 'AU=GUNAY BEKIR',\n",
       " 'AU=ABDIOGLU HASAN',\n",
       " 'AU=SOYSAL AHMET',\n",
       " 'AU=COSKUN UGUR',\n",
       " 'AU=TIRASCI YUSUF',\n",
       " 'AU=ARMUTCU FERAH',\n",
       " 'AU=AKPINAR IHSAN',\n",
       " 'AU=ESER IRFAN',\n",
       " 'AU=AKYEL SALIH',\n",
       " 'AU=BAYRAM OMER',\n",
       " 'AU=MEMISOGULLARI RAMAZAN',\n",
       " 'AU=KARAKUS ONDER',\n",
       " 'AU=CAGLI BEKIR',\n",
       " 'AU=YAZICI SUZAN',\n",
       " 'AU=ALTAN MEHMET',\n",
       " 'AU=CANKO OSMAN',\n",
       " 'AU=KARATAS AHMET',\n",
       " 'AU=GUREL CEM',\n",
       " 'AU=SELAMET OMER',\n",
       " 'AU=KURTGOZ SERKAN',\n",
       " 'AU=OZEL MURAT',\n",
       " 'AU=SOLAK MEHMET',\n",
       " 'AU=KILINC AZIZ',\n",
       " 'AU=KAYGANA MEHMET',\n",
       " 'AU=COLAK MEHMET',\n",
       " 'AU=YENITERZI MEHMET',\n",
       " 'AU=GULEN YASIR',\n",
       " 'AU=ZENGIN EYUP',\n",
       " 'AU=ADIGUZEL ORHAN',\n",
       " 'AU=ASKIN SUAT',\n",
       " 'AU=BALKANLIOGLU MEHMET',\n",
       " 'AU=KELEN MUSTAFA',\n",
       " 'AU=DONMEZ MUSTAFA',\n",
       " 'AU=SAGLAM DERYA',\n",
       " 'AU=SAGLAM ERDL',\n",
       " 'AU=KESKIN ALI',\n",
       " 'AU=IGCI YUSUF',\n",
       " 'AU=LEBLEBICIOGLU OSMAN',\n",
       " 'AU=ERTAS HUSEYIN',\n",
       " 'AU=GUMUS HUSEYIN',\n",
       " 'AU=SARIKAYA ORHAN',\n",
       " 'AU=KARGI ERTUGRUL',\n",
       " 'AU=TEMIZ AHMET',\n",
       " 'AU=SEN HACER',\n",
       " 'AU=YENER ALI',\n",
       " 'AU=CELIMLI NUREDDIN',\n",
       " 'AU=EJDER TUBA',\n",
       " 'AU=INCE KAYHAN',\n",
       " 'AU=SELCUK ENGIN',\n",
       " 'AU=MUTLU ABDULLAH',\n",
       " 'AU=EKINCI ZELAL',\n",
       " 'AU=CECE HASAN',\n",
       " 'AU=SOY HACI',\n",
       " 'AU=KOCA GULER',\n",
       " 'AU=CERIT MUHAMMET',\n",
       " 'AU=KARACA YUNIS',\n",
       " 'AU=YILMAZ HAVA',\n",
       " 'AU=TOMBAK NURDOGAN',\n",
       " 'AU=AKINLAR CUNEYT',\n",
       " 'AU=SARI ERHAN',\n",
       " 'AU=YILDIRIM UNAL',\n",
       " 'AU=ETOZ OSMAN',\n",
       " 'AU=SENTURK ERDOGAN',\n",
       " 'AU=ERTURK NECLA',\n",
       " 'AU=AKBAS HATICE',\n",
       " 'AU=KUNDURACIOGLU AHMET',\n",
       " 'AU=UCAN YUNUS',\n",
       " 'AU=DEMIR TUNCER',\n",
       " 'AU=BUYUKASLAN HASAN',\n",
       " 'AU=ERSOZ MUSTAFA',\n",
       " 'AU=KOSAR YASAR',\n",
       " 'AU=SAKARYA MEHMET',\n",
       " 'AU=TOKER SERDAR',\n",
       " 'AU=HEPSEN IBRAHIM',\n",
       " 'AU=ERCAL BARIS',\n",
       " 'AU=SAHIN SULEYMAN',\n",
       " 'AU=SOZUTOK BUNYAMIN',\n",
       " 'AU=KARA HATIBE',\n",
       " 'AU=KARAHAN OGUZ',\n",
       " 'AU=ORUC CEM',\n",
       " 'AU=KIRBAS AYNUR',\n",
       " 'AU=OZEN NUMAN',\n",
       " 'AU=VAROGLU ERHAN',\n",
       " 'AU=KARAGOZ KASIM',\n",
       " 'AU=BOYACI HAKAN',\n",
       " 'AU=KAYISIZ KENAN',\n",
       " 'AU=AKDEMIR MUSTAFA',\n",
       " 'AU=TOY EBUBEKIR',\n",
       " 'AU=ERCAN IBRAHIM',\n",
       " 'AU=CAKIR UGUR',\n",
       " 'AU=YORDEM ABDULLAH',\n",
       " 'AU=KESLIOGLU KAZIM',\n",
       " 'AU=SARIKURKCU CENGIZ',\n",
       " 'AU=TARIM NEVZAT',\n",
       " 'AU=TASCI HACI',\n",
       " 'AU=KARAHAN SAMI',\n",
       " 'AU=KUCUKTUFEKCI MURAT',\n",
       " 'AU=AKBULUT MEHMET',\n",
       " 'AU=KARAGOZ MURAT',\n",
       " 'AU=BOLUKBASI ABDURREHIM',\n",
       " 'AU=SAHIN SALIM',\n",
       " 'AU=AKSOY YILMAZ',\n",
       " 'AU=KARAKUS OZLEM',\n",
       " 'AU=DOGAN ISMAIL',\n",
       " 'AU=OZEN MUSTAFA',\n",
       " 'AU=TASLI MEHMET',\n",
       " 'AU=HATIPOGLU OKTAY',\n",
       " 'AU=GULTURK SEFA',\n",
       " 'AU=GUNBEY EMRE',\n",
       " 'AU=TIKICI MEHMET',\n",
       " 'AU=MERIC METIN',\n",
       " 'AU=DEVELIOGLU KAZIM',\n",
       " 'AU=TOSUN MEHMET',\n",
       " 'AU=MOTOR SEDAT',\n",
       " 'AU=SACAR SUZAN',\n",
       " 'AU=BIBER ERDAL',\n",
       " 'AU=KAYA HARUN',\n",
       " 'AU=PETIK BULENT',\n",
       " 'AU=KOKSAL NURULLAH',\n",
       " 'AU=KURT MEVLUT',\n",
       " 'AU=CATIR MUSTAFA',\n",
       " 'AU=AKBAS AHMET',\n",
       " 'AU=GULEZ KAYHAN',\n",
       " 'AU=BILIR UNAL',\n",
       " 'AU=DOKUZOGLU MEHMET',\n",
       " 'AU=KABLAMACI AHSEN',\n",
       " 'AU=AKSOY NURTEN',\n",
       " 'AU=KANER TUNCAY',\n",
       " 'AU=AFYON SEMIH',\n",
       " 'AU=ARBATLI MEHMET',\n",
       " 'AU=YILDIRIM UGUR',\n",
       " 'AU=GESOGLU MEHMET',\n",
       " 'AU=YILMAZ MEHMET',\n",
       " 'AU=YAZICI MEHMET',\n",
       " 'AU=ONER VEYSI',\n",
       " 'AU=OZTURK OZGUR',\n",
       " 'AU=CELIK MUHSIN',\n",
       " 'AU=IBRAHIMOGLU NURETTIN',\n",
       " 'AU=YASAR ZEHRA',\n",
       " 'AU=SEVINDIK EMRE',\n",
       " 'AU=ARI TUBA',\n",
       " 'AU=ILKAYA FATIH',\n",
       " 'AU=BOZKUS FERHAT',\n",
       " 'AU=INCI MELEK',\n",
       " 'AU=OZCAN DURDU',\n",
       " 'AU=ULGER MEHMET',\n",
       " 'AU=TUNC MEVLUNT',\n",
       " 'AU=ARI ERCAN',\n",
       " 'AU=ESER OLCAY',\n",
       " 'AU=AKMAZ HAKAN',\n",
       " 'AU=DEMIR VEYSEL',\n",
       " 'AU=AKPINAR ABDULLAH',\n",
       " 'AU=DANE ARIF',\n",
       " 'AU=YILDIRIM OSMAN',\n",
       " 'AU=TOY HARUN',\n",
       " 'AU=CIGLIK HIKMET',\n",
       " 'AU=SEKER HAYATI',\n",
       " 'AU=DIKICI SUBER',\n",
       " 'AU=AYDIN MURAT',\n",
       " 'AU=KARAMAN TAHA',\n",
       " 'AU=UGAN YUNUS',\n",
       " 'AU=ILBAY AZMI',\n",
       " 'AU=UCAR TAMER',\n",
       " 'AU=OZDEMIR MUKERREM',\n",
       " 'AU=PINAR TEVFIK',\n",
       " 'AU=ZEREN CEM',\n",
       " 'AU=KORKMAZ YUKSEL',\n",
       " 'AU=YAGIZ DURSUN',\n",
       " 'AU=DEMIR VEDAT',\n",
       " 'AU=KILICASLAN ERDOGAN',\n",
       " 'AU=ERBILGIN EVRIM',\n",
       " 'AU=HALILOGLU HALIL',\n",
       " 'AU=KARATAS ADEM',\n",
       " 'AU=GARCA MEHMET',\n",
       " 'AU=AKPINAR ZAFER',\n",
       " 'AU=ONAL ALI',\n",
       " 'AU=KARADUZ ADNAN',\n",
       " 'AU=DOGAN ZAFER',\n",
       " 'AU=CEYHAN KOKSAL',\n",
       " 'AU=YAGIZ NURKAN',\n",
       " 'AU=BASKAL TAMER',\n",
       " 'AU=GUNEY DENIZ',\n",
       " 'AU=KIRAC FATIH',\n",
       " 'AU=TERZI MEHMET',\n",
       " 'AU=KURSUN GUNAL',\n",
       " 'AU=TEKELIOGLU OGUZ',\n",
       " 'AU=PARMAKSIZ ISKENDER',\n",
       " 'AU=BAGDIGEN MUHLIS',\n",
       " 'AU=AYDIN MURAT',\n",
       " 'AU=OZDENIZ ABDULHADI',\n",
       " 'AU=SAVIK EMIN',\n",
       " 'AU=KILIC AHMET',\n",
       " 'AU=KURNAZ AYDIN',\n",
       " 'AU=HACIEFENDIOGLU KEMAL',\n",
       " 'AU=KARAKAYA FUAT',\n",
       " 'AU=BABACAN ISRAFIL',\n",
       " 'AU=OZGISI TUNCA',\n",
       " 'AU=ARDICLIOGLU MEHMET',\n",
       " 'AU=KURT MUSTAFA',\n",
       " 'AU=SEVER MURAT',\n",
       " 'AU=AYAS CEMALETTIN',\n",
       " 'AU=BAGLAM TEKIN',\n",
       " 'AU=HAKTANIR ALPAY',\n",
       " 'AU=DENIZ MUSTAFA',\n",
       " 'AU=SEMIZ SULEYMAN',\n",
       " 'AU=BAGCIOGLU ERMAN',\n",
       " 'AU=KAVACIK MUSTAFA',\n",
       " 'AU=KURT RAZIYE',\n",
       " 'AU=GOK ABDULVAHAP',\n",
       " 'AU=SARGIN SEYIT',\n",
       " 'AU=AKKUCUK SEECKIN',\n",
       " 'AU=KAYTAZ ALI',\n",
       " 'AU=AHMETOGLU FUAT',\n",
       " 'AU=ANKARALIOGLU NURULLAH',\n",
       " 'AU=CETIN HAKAN',\n",
       " 'AU=EKMEKYAPAR AHMET',\n",
       " 'AU=DULGER HASAN',\n",
       " 'AU=TEMIZ BILAL',\n",
       " 'AU=GOLGE UMUT',\n",
       " 'AU=DEMIRTAS OMER',\n",
       " 'AU=HAZAR MEHMET',\n",
       " 'AU=ATA MURSEL',\n",
       " 'AU=IYIDIL FILIZ',\n",
       " 'AU=ARSLAN SONMEZ',\n",
       " 'AU=HASILOGLU ZEHRA',\n",
       " 'AU=ISMAN MUSTAFA',\n",
       " 'AU=ULUDAG AHMET',\n",
       " 'AU=CAGLAROGLU MURAT',\n",
       " 'AU=ERDEM MUSTAFA',\n",
       " 'AU=KULAK OSMAN',\n",
       " 'AU=KAHYAOGLU MEHMET',\n",
       " 'AU=SEZER RIFAT',\n",
       " 'AU=OZDEN MUSTAFA',\n",
       " 'AU=KANDAZ MEHMET',\n",
       " 'AU=UNALACAK MURAT',\n",
       " 'AU=KARABOGA TUBA',\n",
       " 'AU=BAKIR MUSTAFA',\n",
       " 'AU=SAHIN FIGEN',\n",
       " 'AU=DEMIRTAS OZGUR',\n",
       " 'AU=BAS YALCIN',\n",
       " 'AU=KOC OKAN',\n",
       " 'AU=DILEK AHMET',\n",
       " 'AU=BUYUKKAYA RAMAZAN',\n",
       " 'AU=AYDIN YUSUF',\n",
       " 'AU=TOK ADEM',\n",
       " 'AU=CIVITCI SULE',\n",
       " 'AU=AKIN GULDEN',\n",
       " 'AU=DUZENLI GURSEL',\n",
       " 'AU=KARA RECEP',\n",
       " 'AU=GUL BILAL',\n",
       " 'AU=OZCAN ERDAL',\n",
       " 'AU=ISIK BUNYAMIN',\n",
       " 'AU=OZTURK OZCAN',\n",
       " 'AU=UNAL MUCAHIT',\n",
       " 'AU=NESLITURK ALI',\n",
       " 'AU=OZYALVACLI MEHMET',\n",
       " 'AU=GOREN SULEYMAN',\n",
       " 'AU=YUKSEL ILHAMI',\n",
       " 'AU=TUNC AZIZ',\n",
       " 'AU=CANKAYA HASAN',\n",
       " 'AU=ILHAN OZGUR',\n",
       " 'AU=AVCI ALI',\n",
       " 'AU=GULSAR TUGBA',\n",
       " 'AU=ALAN BIRCAN',\n",
       " 'AU=CELENK FATIH',\n",
       " 'AU=ERSOY RASIT',\n",
       " 'AU=YASEMIN MEHMET',\n",
       " 'AU=YILDIZ ALI',\n",
       " 'AU=ALTUNTOP BESIR',\n",
       " 'AU=BASER KADIR',\n",
       " 'AU=SENER UMIT',\n",
       " 'AU=GUL ZAKIR',\n",
       " 'AU=BEDIR AHMET',\n",
       " 'AU=GONCA ERGUN',\n",
       " 'AU=CALISKAN HALIL',\n",
       " 'AU=RIFAIOGLU EMINE',\n",
       " 'AU=GUZELOGLU AYDIN',\n",
       " 'AU=CEBE MEHMET',\n",
       " 'AU=SOLAK ADEM',\n",
       " 'AU=ONEN HUSEYIN',\n",
       " 'AU=DOGAR CETIN',\n",
       " 'AU=ERCAG EROL',\n",
       " 'AU=YILDIZ YUKSEL',\n",
       " 'AU=HALAT ERDOGAN',\n",
       " 'AU=DEMIRER YUCEL',\n",
       " 'AU=GUNAY MEHMET',\n",
       " 'AU=KARSLI SULEYMAN',\n",
       " 'AU=DOGAN DIDEM',\n",
       " 'AU=UZUN ISMAIL',\n",
       " 'AU=EKINCI ARIFE',\n",
       " 'AU=BULBUL FERIDUN',\n",
       " 'AU=BOZ NIHAT',\n",
       " 'AU=INCEBACAK DAVUT',\n",
       " 'AU=AKBALIK ESRA',\n",
       " 'AU=KAYMAKCI MUSTAFA',\n",
       " 'AU=SAVAS MUHMMET',\n",
       " 'AU=AKMAN ZEKERIYA',\n",
       " 'AU=AKTAN ALI',\n",
       " 'AU=BAKIRCI MELIKE',\n",
       " 'AU=OTKUN OZCAN',\n",
       " 'AU=YILMAZ HAUDAI',\n",
       " 'AU=KELEKCI SELVI',\n",
       " 'AU=ATALAY HUSEYIN',\n",
       " 'AU=DEMIRTAS OMER',\n",
       " 'AU=ASLAN HUSEYIN',\n",
       " 'AU=OKUR SALIH',\n",
       " 'AU=KOKEN RESIT',\n",
       " 'AU=CITCI SINAN',\n",
       " 'AU=AYDOGMUS HACER',\n",
       " 'AU=BULBUL CEMIL',\n",
       " 'AU=YUKSEL ISMAIL',\n",
       " 'AU=OKSUZ ADIL',\n",
       " 'AU=KARAYEL METE',\n",
       " 'AU=BESE ERTAN',\n",
       " 'AU=GORGEN VELI',\n",
       " 'AU=ERMIS SITKI',\n",
       " 'AU=ISIK ADEM',\n",
       " 'AU=IZGI MUSTAFA',\n",
       " 'AU=KOCA HAVVA',\n",
       " 'AU=KURUL MUSTAFA',\n",
       " 'AU=LLUKACAJ EDONA',\n",
       " 'AU=TUNCEL HAYRETTIN',\n",
       " 'AU=KARATAS OMER',\n",
       " 'AU=DEMIRCI ZEKI',\n",
       " 'AU=ERER SAIT',\n",
       " 'AU=ERDURMUS MESUT',\n",
       " 'AU=UYANOZ REFIK',\n",
       " 'AU=SEKER BETUL',\n",
       " 'AU=KILDAN ABDULLAH',\n",
       " 'AU=FILIZ ORHAN',\n",
       " 'AU=AKTAS ABDURRAZZAK',\n",
       " 'AU=SACAR MUSTAFA',\n",
       " 'AU=DAVARCI ISIL',\n",
       " 'AU=ORENC ASIR',\n",
       " 'AU=OZDEMIR ISMET',\n",
       " 'AU=AKMAZ MUNTEHA',\n",
       " 'AU=KOCABAS RAMAZAN',\n",
       " 'AU=ULUSOY HASAN',\n",
       " 'AU=OFLAZ MUSTAFA',\n",
       " 'AU=ASOGLU VEYSEL',\n",
       " 'AU=KURT AYSEL',\n",
       " 'AU=ERTAS AHMET',\n",
       " 'AU=ALKAWASMEI BASSAM',\n",
       " 'AU=AKIS RIFAT',\n",
       " 'AU=GIREN SONGUL',\n",
       " 'AU=YILDIZ MURAT',\n",
       " 'AU=SEZER MEHMET',\n",
       " 'AU=BOZKURT ESAT',\n",
       " 'AU=GUNGOR ADEM',\n",
       " 'AU=ERTAS HASAN',\n",
       " 'AU=ARSLAN ALI',\n",
       " 'AU=OKSUZLER OKTAY',\n",
       " 'AU=TURKAN ALI',\n",
       " 'AU=COBANOGLU BULENT',\n",
       " 'AU=CEYHAN ALI',\n",
       " 'AU=FIRINCI FATIH',\n",
       " 'AU=SAHIN SEMSETTIN',\n",
       " 'AU=YILMAZ NEBI',\n",
       " 'AU=YILDIRIM YUNUS',\n",
       " 'AU=OZTURK VEYSI',\n",
       " 'AU=GUR ALIM',\n",
       " 'AU=KARGIN TAYYIBE',\n",
       " 'AU=GUNAY ORHAN',\n",
       " 'AU=KOSE MURTAZA',\n",
       " 'AU=DEMIRCIOGLU FATIH',\n",
       " 'AU=AKTURK SELCUK',\n",
       " 'AU=PARMAKSIZ RAMAZAN',\n",
       " 'AU=GOCEN ERKAN',\n",
       " 'AU=CETIN HALIL',\n",
       " 'AU=AKKOYUN DURSUN',\n",
       " 'AU=KOSEOGLU YUKSEL',\n",
       " 'AU=AKDAG METIN',\n",
       " 'AU=GORAL MEHMET',\n",
       " 'AU=DURAN ISMET',\n",
       " 'AU=SEZEN YUSUF',\n",
       " 'AU=GORMUS ALPARSLAN',\n",
       " 'AU=OKSUZ AHMET',\n",
       " 'AU=AKTAS ALAATTIN',\n",
       " 'AU=USLU IBRAHIM',\n",
       " 'AU=ISA KADIR',\n",
       " 'AU=AGPAK KURSAD',\n",
       " 'AU=TASPINAR HACI',\n",
       " 'AU=ODABASIOGLU NIYAZI',\n",
       " 'AU=UGURTAS ISMAIL',\n",
       " 'AU=BUCAKTEPE ADIL',\n",
       " 'AU=KENAR ISMAIL',\n",
       " 'AU=ALTUNDAG MUSTAFA',\n",
       " 'AU=YALCIN MAHMUT',\n",
       " 'AU=KURNAZ AYSEGUL',\n",
       " 'AU=HATTATOGLU FATIH',\n",
       " 'AU=KOKLUKAYA ETEM',\n",
       " 'AU=OZDEMIR EMIN',\n",
       " 'AU=EKINCI DENIZ',\n",
       " 'AU=OZKECECI ZIYA',\n",
       " 'AU=DAGDELEN AYHAN',\n",
       " 'AU=ALTIN REMZI',\n",
       " 'AU=ISIK OZLEM',\n",
       " 'AU=UNAL HALIL',\n",
       " 'AU=UCAN KENAN',\n",
       " 'AU=UNAL SUZAN',\n",
       " 'AU=AYTEKIN AHMET',\n",
       " 'AU=KORKUT ALI',\n",
       " 'AU=KILIC MESUT',\n",
       " 'AU=YAZAR HARUN',\n",
       " 'AU=KOLTUKSUZ UGUR',\n",
       " 'AU=HISAR OLCAY',\n",
       " 'AU=BILGIN IBRAHIM',\n",
       " 'AU=ARTIS ABDUSSELAM',\n",
       " 'AU=KUCUKDURMAZ ALPER',\n",
       " 'AU=ATESOGLU IRFAN',\n",
       " 'AU=AKYOL MAHMUT',\n",
       " 'AU=SENGUN MUSTAFA',\n",
       " 'AU=KARAKAYA MUHITTIN',\n",
       " 'AU=OZMAN FERHAT',\n",
       " 'AU=ZOROGLU SULEMAN',\n",
       " 'AU=OZBAY YUKSEL',\n",
       " 'AU=UN HAYRI',\n",
       " 'AU=KOCYIGIT NECATI',\n",
       " 'AU=ALLI HASAN',\n",
       " 'AU=ZORBA YAHYA',\n",
       " 'AU=YILMAZ SALIH',\n",
       " 'AU=DEMIR ADALET',\n",
       " 'AU=SINAN SELMA',\n",
       " 'AU=SEKERCI AHMET',\n",
       " 'AU=MUS EKREM',\n",
       " 'AU=YUKSEL SEREF',\n",
       " 'AU=DEMIRCAN AYDIN',\n",
       " 'AU=OZCELIK MUCAHIT',\n",
       " 'AU=SARICI GULBEN',\n",
       " 'AU=SAHIN EYLEM',\n",
       " 'AU=OZDEMIROGLU FILIZ',\n",
       " 'AU=EVIRGEN OMER',\n",
       " 'AU=KALENDER MEHMET',\n",
       " 'AU=KISACIKOGLU MITHAT',\n",
       " 'AU=GEMCI REMZI',\n",
       " 'AU=AKBAS YAVUZ',\n",
       " 'AU=AKCAY HAKAN',\n",
       " 'AU=TERZIOGLU SULEYMAN',\n",
       " 'AU=ERCAN SULEYMAN',\n",
       " 'AU=ERTAS ELIF',\n",
       " 'AU=ASILKAN OZCAN',\n",
       " 'AU=SECKIN ABDULLAH',\n",
       " 'AU=CELIK CEMIL',\n",
       " 'AU=ALKILINC ORUC',\n",
       " 'AU=SOYORAL LOKMAN',\n",
       " 'AU=ERCIN MEHMET',\n",
       " 'AU=BAGLIBEL MURAT',\n",
       " 'AU=KIR IBRAHIM',\n",
       " 'AU=AYDIN MUSTAFA',\n",
       " 'AU=INCE GULSUM',\n",
       " 'AU=YERDELEN KADIR',\n",
       " 'AU=KACAN ERKAN',\n",
       " 'AU=KIR MUHAMMED',\n",
       " 'AU=KARACA MEHMET',\n",
       " 'AU=ALTAN MIKAIL',\n",
       " 'AU=ERCAN SERHAT',\n",
       " 'AU=KARSLI VEDAT',\n",
       " 'AU=AKCA HASAN',\n",
       " 'AU=YANIK MURAT',\n",
       " 'AU=CENET OSMAN',\n",
       " 'AU=ALISKAN TAMER',\n",
       " 'AU=GOKSU TURGUT',\n",
       " 'AU=INAL MEHMET',\n",
       " 'AU=DAMA DAVUT',\n",
       " 'AU=BAL DURMUS',\n",
       " 'AU=CAKAR BURCU',\n",
       " 'AU=USTUN ABDULLAH',\n",
       " 'AU=BAYRAKTAR ASLIHAN',\n",
       " 'AU=VARDI RECEP',\n",
       " 'AU=DEMIRELI CEMALETTIN',\n",
       " 'AU=SIMSEK HALIL',\n",
       " 'AU=TAN ENES',\n",
       " 'AU=SEN YASAR',\n",
       " 'AU=BALCI SERDAL',\n",
       " 'AU=DEMIR ABDULLAH',\n",
       " 'AU=DOGANLI GULUMSER',\n",
       " 'AU=KOCAK YUSUF',\n",
       " 'AU=UYAR YAVUZ',\n",
       " 'AU=TEGIN IBRAHIM',\n",
       " 'AU=SARI GOZDE',\n",
       " 'AU=DEMIR OGUZHAN',\n",
       " 'AU=GUDER HUSNU',\n",
       " 'AU=ACAR GURKAN',\n",
       " 'AU=KAYA MEHMET',\n",
       " 'AU=TANRIVERDI HAKAN',\n",
       " 'AU=OKSUZ MUSA',\n",
       " 'AU=MUFTUOGLU AHMET',\n",
       " 'AU=KABADAYI BURHAN',\n",
       " 'AU=KUK SALIH',\n",
       " 'AU=GORGULU MURAT',\n",
       " 'AU=AKTOP ZIYAEDDEIN',\n",
       " 'AU=KARADAG AHMET',\n",
       " 'AU=UCAR SELCUK',\n",
       " 'AU=BADEM CANDAN',\n",
       " 'AU=KOCYIGIT FIGEN',\n",
       " 'AU=GOZUBENLI BESIR',\n",
       " 'AU=DOGRUYOL ZEKERIYA',\n",
       " 'AU=AKCAY HUSEYIN',\n",
       " 'AU=KAHRAMAN SULEYMAN',\n",
       " 'AU=EROL ILKNUR',\n",
       " 'AU=BUYUKBERBER SULEYMAN',\n",
       " 'AU=CELIK AHMET',\n",
       " 'AU=AKYUZ BULENT',\n",
       " 'AU=AKCAY MUSTAFA',\n",
       " 'AU=KACAR SEVAL',\n",
       " 'AU=CETISLI BAYRAM',\n",
       " 'AU=GUNAY MUSA',\n",
       " 'AU=TERZI ELCIN',\n",
       " 'AU=KABA MEHMET',\n",
       " 'AU=AKSOY SEFIKA',\n",
       " 'AU=KARAAGAC UGUR',\n",
       " 'AU=YUKSEL MELIH',\n",
       " 'AU=ERDEMIR LOKMAN',\n",
       " 'AU=HERKEN EMINE',\n",
       " 'AU=ALTUNKAS FATIH',\n",
       " 'AU=BAYTUN UGUR',\n",
       " 'AU=ATA AHMET',\n",
       " 'AU=TURKYILMAZ IBRAHIM',\n",
       " 'AU=BOZGEYIK ZULKIF',\n",
       " 'AU=METIN MUSTAFA',\n",
       " 'AU=KARCIOGLU MURAT',\n",
       " 'AU=TOK GULER',\n",
       " 'AU=BAYRAKTAR FATMA',\n",
       " 'AU=CAMAS MUSTAFA',\n",
       " 'AU=SEVINC MURAT',\n",
       " 'AU=KOCTURK FATIH',\n",
       " 'AU=KORKMAZ NILUFER',\n",
       " 'AU=AKBAY ERCAN',\n",
       " 'AU=ERDEM ALIM',\n",
       " 'AU=BIRCAN RECEP',\n",
       " 'AU=CAGATAY ULUC',\n",
       " 'AU=INAN MUHARREM',\n",
       " 'AU=YILMAZ MEHMET',\n",
       " 'AU=DEMIRCIOGLU AYTEKIN',\n",
       " 'AU=COPOGLU UMIT',\n",
       " 'AU=KESKIN SUAT',\n",
       " 'AU=CIRALIK HARUN',\n",
       " 'AU=KARADAG YASIN',\n",
       " ...]"
      ]
     },
     "execution_count": 4,
     "metadata": {},
     "output_type": "execute_result"
    }
   ],
   "source": [
    "searchnames_dismiss_auths_query = []\n",
    "searchnames_dismiss_auths = []\n",
    "searchnames_dismiss_univ = []\n",
    "for line in open('../data/Dismis_Acad_List_cl.txt','r'): \n",
    "    QueryString = line.strip()\n",
    "    #QueryString_author =\"AU=\"+line.split(',')[1]+' '+line.split(',')[2][0]+\"*\"\n",
    "    QueryString_author =\"AU=\"+line.split(',')[1]+' '+line.split(',')[2]\n",
    "    QueryString_aff = line.split(',')[6].replace('ERSITY','')\n",
    "    author = line.split(',')[1]+' '+line.split(',')[2]\n",
    "    searchnames_dismiss_auths.append(author)\n",
    "    searchnames_dismiss_univ.append(QueryString_aff)\n",
    "    searchnames_dismiss_auths_query.append(QueryString_author)\n",
    "    \n",
    "#remove header\n",
    "searchnames_dismiss_auths_query = searchnames_dismiss_auths_query[1:]\n",
    "searchnames_dismiss_auths = searchnames_dismiss_auths[1:]\n",
    "searchnames_dismiss_univ = searchnames_dismiss_univ[1:]\n",
    "\n",
    "searchnames_dismiss_auths_query"
   ]
  },
  {
   "cell_type": "code",
   "execution_count": 6,
   "metadata": {},
   "outputs": [],
   "source": [
    "d = {'Query':searchnames_dismiss_auths_query,'Authors':searchnames_dismiss_auths,'organisation':searchnames_dismiss_univ}"
   ]
  },
  {
   "cell_type": "code",
   "execution_count": 7,
   "metadata": {},
   "outputs": [],
   "source": [
    "df = pd.DataFrame(d)"
   ]
  },
  {
   "cell_type": "code",
   "execution_count": 8,
   "metadata": {},
   "outputs": [
    {
     "data": {
      "text/html": [
       "<div>\n",
       "<style scoped>\n",
       "    .dataframe tbody tr th:only-of-type {\n",
       "        vertical-align: middle;\n",
       "    }\n",
       "\n",
       "    .dataframe tbody tr th {\n",
       "        vertical-align: top;\n",
       "    }\n",
       "\n",
       "    .dataframe thead th {\n",
       "        text-align: right;\n",
       "    }\n",
       "</style>\n",
       "<table border=\"1\" class=\"dataframe\">\n",
       "  <thead>\n",
       "    <tr style=\"text-align: right;\">\n",
       "      <th></th>\n",
       "      <th>Query</th>\n",
       "      <th>Authors</th>\n",
       "      <th>organisation</th>\n",
       "    </tr>\n",
       "  </thead>\n",
       "  <tbody>\n",
       "    <tr>\n",
       "      <th>0</th>\n",
       "      <td>AU=SARAC CEMAL</td>\n",
       "      <td>SARAC CEMAL</td>\n",
       "      <td>MARMARA UNIV</td>\n",
       "    </tr>\n",
       "    <tr>\n",
       "      <th>1</th>\n",
       "      <td>AU=KOSE IBRAHIM</td>\n",
       "      <td>KOSE IBRAHIM</td>\n",
       "      <td>ADIYAMAN UNIV</td>\n",
       "    </tr>\n",
       "    <tr>\n",
       "      <th>2</th>\n",
       "      <td>AU=YENIDUNYA AHMET</td>\n",
       "      <td>YENIDUNYA AHMET</td>\n",
       "      <td>MARMARA UNIV</td>\n",
       "    </tr>\n",
       "    <tr>\n",
       "      <th>3</th>\n",
       "      <td>AU=MALKOC SIDDIK</td>\n",
       "      <td>MALKOC SIDDIK</td>\n",
       "      <td>INONU UNIV</td>\n",
       "    </tr>\n",
       "    <tr>\n",
       "      <th>4</th>\n",
       "      <td>AU=ARASOGLU ALI</td>\n",
       "      <td>ARASOGLU ALI</td>\n",
       "      <td>YUZUNCU YIL UNIV</td>\n",
       "    </tr>\n",
       "    <tr>\n",
       "      <th>5</th>\n",
       "      <td>AU=HIRCA NECATI</td>\n",
       "      <td>HIRCA NECATI</td>\n",
       "      <td>BARTIN UNIV</td>\n",
       "    </tr>\n",
       "    <tr>\n",
       "      <th>6</th>\n",
       "      <td>AU=ACEMOGLU HAMIT</td>\n",
       "      <td>ACEMOGLU HAMIT</td>\n",
       "      <td>ATATURK UNIV</td>\n",
       "    </tr>\n",
       "    <tr>\n",
       "      <th>7</th>\n",
       "      <td>AU=GURSUL FATIH</td>\n",
       "      <td>GURSUL FATIH</td>\n",
       "      <td>ISTANBUL UNIV</td>\n",
       "    </tr>\n",
       "    <tr>\n",
       "      <th>8</th>\n",
       "      <td>AU=OZEL ERDOGAN</td>\n",
       "      <td>OZEL ERDOGAN</td>\n",
       "      <td>INONU UNIV</td>\n",
       "    </tr>\n",
       "    <tr>\n",
       "      <th>9</th>\n",
       "      <td>AU=YAYLA AHMET</td>\n",
       "      <td>YAYLA AHMET</td>\n",
       "      <td>HARRAN UNIV</td>\n",
       "    </tr>\n",
       "    <tr>\n",
       "      <th>10</th>\n",
       "      <td>AU=PERKMEN SERKAN</td>\n",
       "      <td>PERKMEN SERKAN</td>\n",
       "      <td>BALIKESIR UNIV</td>\n",
       "    </tr>\n",
       "    <tr>\n",
       "      <th>11</th>\n",
       "      <td>AU=KOCYIGIT ALI</td>\n",
       "      <td>KOCYIGIT ALI</td>\n",
       "      <td>PAMUKKALE UNIV</td>\n",
       "    </tr>\n",
       "    <tr>\n",
       "      <th>12</th>\n",
       "      <td>AU=OZTUZCU SERDAR</td>\n",
       "      <td>OZTUZCU SERDAR</td>\n",
       "      <td>GAZIANTEP UNIV</td>\n",
       "    </tr>\n",
       "    <tr>\n",
       "      <th>13</th>\n",
       "      <td>AU=KOC EMINE</td>\n",
       "      <td>KOC EMINE</td>\n",
       "      <td>KASTAMONU UNIV</td>\n",
       "    </tr>\n",
       "    <tr>\n",
       "      <th>14</th>\n",
       "      <td>AU=CEBER MEHMET</td>\n",
       "      <td>CEBER MEHMET</td>\n",
       "      <td>NAMIK KEMAL UNIV</td>\n",
       "    </tr>\n",
       "    <tr>\n",
       "      <th>15</th>\n",
       "      <td>AU=DAGLI ARIF</td>\n",
       "      <td>DAGLI ARIF</td>\n",
       "      <td>ISTANBUL MEDENIYET UNIV</td>\n",
       "    </tr>\n",
       "    <tr>\n",
       "      <th>16</th>\n",
       "      <td>AU=BERTLEK SEYDI</td>\n",
       "      <td>BERTLEK SEYDI</td>\n",
       "      <td>YILDIRIM BEYAZIT UNIV</td>\n",
       "    </tr>\n",
       "    <tr>\n",
       "      <th>17</th>\n",
       "      <td>AU=BORAZAN HALE</td>\n",
       "      <td>BORAZAN HALE</td>\n",
       "      <td>NECMETTIN ERBAKAN UNIV</td>\n",
       "    </tr>\n",
       "    <tr>\n",
       "      <th>18</th>\n",
       "      <td>AU=SAGLAM MUSA</td>\n",
       "      <td>SAGLAM MUSA</td>\n",
       "      <td>NIGDE UNIV</td>\n",
       "    </tr>\n",
       "    <tr>\n",
       "      <th>19</th>\n",
       "      <td>AU=SELCUK MUSTAFA</td>\n",
       "      <td>SELCUK MUSTAFA</td>\n",
       "      <td>ISTANBUL UNIV</td>\n",
       "    </tr>\n",
       "    <tr>\n",
       "      <th>20</th>\n",
       "      <td>AU=GUNEYISI ERHAN</td>\n",
       "      <td>GUNEYISI ERHAN</td>\n",
       "      <td>GAZIANTEP UNIV</td>\n",
       "    </tr>\n",
       "    <tr>\n",
       "      <th>21</th>\n",
       "      <td>AU=ASLANKURT MURAT</td>\n",
       "      <td>ASLANKURT MURAT</td>\n",
       "      <td>KAHRAMANMARAS SUTCU IMAM UNIV</td>\n",
       "    </tr>\n",
       "    <tr>\n",
       "      <th>22</th>\n",
       "      <td>AU=KESKIN YILDIRAY</td>\n",
       "      <td>KESKIN YILDIRAY</td>\n",
       "      <td>SELCUK UNIV</td>\n",
       "    </tr>\n",
       "    <tr>\n",
       "      <th>23</th>\n",
       "      <td>AU=ERAYMAN ALI</td>\n",
       "      <td>ERAYMAN ALI</td>\n",
       "      <td>MUSTAFA KEMAL UNIV</td>\n",
       "    </tr>\n",
       "    <tr>\n",
       "      <th>24</th>\n",
       "      <td>AU=TATLI MUSTAFA</td>\n",
       "      <td>TATLI MUSTAFA</td>\n",
       "      <td>IZMIR KATIP CELEBI UNIV</td>\n",
       "    </tr>\n",
       "    <tr>\n",
       "      <th>25</th>\n",
       "      <td>AU=BALCIOGLU ERCAN</td>\n",
       "      <td>BALCIOGLU ERCAN</td>\n",
       "      <td>GAZI UNIV</td>\n",
       "    </tr>\n",
       "    <tr>\n",
       "      <th>26</th>\n",
       "      <td>AU=BARGAN HUSEYIN</td>\n",
       "      <td>BARGAN HUSEYIN</td>\n",
       "      <td>ISTANBUL UNIV</td>\n",
       "    </tr>\n",
       "    <tr>\n",
       "      <th>27</th>\n",
       "      <td>AU=YUCEL GERCEK</td>\n",
       "      <td>YUCEL GERCEK</td>\n",
       "      <td>MARMARA UNIV</td>\n",
       "    </tr>\n",
       "    <tr>\n",
       "      <th>28</th>\n",
       "      <td>AU=KASLI MEHMET</td>\n",
       "      <td>KASLI MEHMET</td>\n",
       "      <td>ESKISEHIR OSMANGAZI UNIV</td>\n",
       "    </tr>\n",
       "    <tr>\n",
       "      <th>29</th>\n",
       "      <td>AU=CACAN IHSAN</td>\n",
       "      <td>CACAN IHSAN</td>\n",
       "      <td>DICLE UNIV</td>\n",
       "    </tr>\n",
       "    <tr>\n",
       "      <th>...</th>\n",
       "      <td>...</td>\n",
       "      <td>...</td>\n",
       "      <td>...</td>\n",
       "    </tr>\n",
       "    <tr>\n",
       "      <th>3545</th>\n",
       "      <td>AU=KILAVUZ MEHMET</td>\n",
       "      <td>KILAVUZ MEHMET</td>\n",
       "      <td>ULUDAG UNIV</td>\n",
       "    </tr>\n",
       "    <tr>\n",
       "      <th>3546</th>\n",
       "      <td>AU=YUCEL MEHMET</td>\n",
       "      <td>YUCEL MEHMET</td>\n",
       "      <td>DUMLUPINAR UNIV</td>\n",
       "    </tr>\n",
       "    <tr>\n",
       "      <th>3547</th>\n",
       "      <td>AU=OKUTAN BETUL</td>\n",
       "      <td>OKUTAN BETUL</td>\n",
       "      <td>MUNZUR UNIV</td>\n",
       "    </tr>\n",
       "    <tr>\n",
       "      <th>3548</th>\n",
       "      <td>AU=TEKKOYUN MEHMET</td>\n",
       "      <td>TEKKOYUN MEHMET</td>\n",
       "      <td>CANAKKALE 18 MART UNIV</td>\n",
       "    </tr>\n",
       "    <tr>\n",
       "      <th>3549</th>\n",
       "      <td>AU=ERKAN ERSIN</td>\n",
       "      <td>ERKAN ERSIN</td>\n",
       "      <td>ISTANBUL GELISIM UNIV</td>\n",
       "    </tr>\n",
       "    <tr>\n",
       "      <th>3550</th>\n",
       "      <td>AU=OTURANC GALIP</td>\n",
       "      <td>OTURANC GALIP</td>\n",
       "      <td>SELCUK UNIV</td>\n",
       "    </tr>\n",
       "    <tr>\n",
       "      <th>3551</th>\n",
       "      <td>AU=YILDIZ MUHARREM</td>\n",
       "      <td>YILDIZ MUHARREM</td>\n",
       "      <td>SULEYMAN DEMIREL UNIV</td>\n",
       "    </tr>\n",
       "    <tr>\n",
       "      <th>3552</th>\n",
       "      <td>AU=GUL ZEHRA</td>\n",
       "      <td>GUL ZEHRA</td>\n",
       "      <td>KAHRAMANMARAS SUTCU IMAM UNIV</td>\n",
       "    </tr>\n",
       "    <tr>\n",
       "      <th>3553</th>\n",
       "      <td>AU=OZCAN ERDEM</td>\n",
       "      <td>OZCAN ERDEM</td>\n",
       "      <td>DOKUZ EYLUL UNIV</td>\n",
       "    </tr>\n",
       "    <tr>\n",
       "      <th>3554</th>\n",
       "      <td>AU=YUCEL YUSUF</td>\n",
       "      <td>YUCEL YUSUF</td>\n",
       "      <td>HARRAN UNIV</td>\n",
       "    </tr>\n",
       "    <tr>\n",
       "      <th>3555</th>\n",
       "      <td>AU=BICICI HUR</td>\n",
       "      <td>BICICI HUR</td>\n",
       "      <td>GAZI UNIV</td>\n",
       "    </tr>\n",
       "    <tr>\n",
       "      <th>3556</th>\n",
       "      <td>AU=OZER AHMET</td>\n",
       "      <td>OZER AHMET</td>\n",
       "      <td>HARRAN UNIV</td>\n",
       "    </tr>\n",
       "    <tr>\n",
       "      <th>3557</th>\n",
       "      <td>AU=TURAN MEHMET</td>\n",
       "      <td>TURAN MEHMET</td>\n",
       "      <td>HARRAN UNIV</td>\n",
       "    </tr>\n",
       "    <tr>\n",
       "      <th>3558</th>\n",
       "      <td>AU=SEVI LEVENT</td>\n",
       "      <td>SEVI LEVENT</td>\n",
       "      <td>DUMLUPINAR UNIV</td>\n",
       "    </tr>\n",
       "    <tr>\n",
       "      <th>3559</th>\n",
       "      <td>AU=AKTAS SERDAR</td>\n",
       "      <td>AKTAS SERDAR</td>\n",
       "      <td>DUMLUPINAR UNIV</td>\n",
       "    </tr>\n",
       "    <tr>\n",
       "      <th>3560</th>\n",
       "      <td>AU=SANDIR HAKAN</td>\n",
       "      <td>SANDIR HAKAN</td>\n",
       "      <td>GAZI UNIV</td>\n",
       "    </tr>\n",
       "    <tr>\n",
       "      <th>3561</th>\n",
       "      <td>AU=GULER EKREM</td>\n",
       "      <td>GULER EKREM</td>\n",
       "      <td>GAZI UNIV</td>\n",
       "    </tr>\n",
       "    <tr>\n",
       "      <th>3562</th>\n",
       "      <td>AU=DUMAN SELAMI</td>\n",
       "      <td>DUMAN SELAMI</td>\n",
       "      <td>ISTANBUL MEDENIYET UNIV</td>\n",
       "    </tr>\n",
       "    <tr>\n",
       "      <th>3563</th>\n",
       "      <td>AU=BATAR TURAN</td>\n",
       "      <td>BATAR TURAN</td>\n",
       "      <td>DOKUZ EYLUL UNIV</td>\n",
       "    </tr>\n",
       "    <tr>\n",
       "      <th>3564</th>\n",
       "      <td>AU=KAHRAMAN MUHAMMET</td>\n",
       "      <td>KAHRAMAN MUHAMMET</td>\n",
       "      <td>BITLIS EREN UNIV</td>\n",
       "    </tr>\n",
       "    <tr>\n",
       "      <th>3565</th>\n",
       "      <td>AU=TEMIZTURK FATIH</td>\n",
       "      <td>TEMIZTURK FATIH</td>\n",
       "      <td>DUMLUPINAR UNIV</td>\n",
       "    </tr>\n",
       "    <tr>\n",
       "      <th>3566</th>\n",
       "      <td>AU=ACAR ISMAIL</td>\n",
       "      <td>ACAR ISMAIL</td>\n",
       "      <td>DOKUZ EYLUL UNIV</td>\n",
       "    </tr>\n",
       "    <tr>\n",
       "      <th>3567</th>\n",
       "      <td>AU=TOPARLI MUSTAFA</td>\n",
       "      <td>TOPARLI MUSTAFA</td>\n",
       "      <td>DOKUZ EYLUL UNIV</td>\n",
       "    </tr>\n",
       "    <tr>\n",
       "      <th>3568</th>\n",
       "      <td>AU=SEZGIN AYSE</td>\n",
       "      <td>SEZGIN AYSE</td>\n",
       "      <td>ATATURK UNIV</td>\n",
       "    </tr>\n",
       "    <tr>\n",
       "      <th>3569</th>\n",
       "      <td>AU=ASIK BIRAY</td>\n",
       "      <td>ASIK BIRAY</td>\n",
       "      <td>CANKIRI KARATEKIN UNIV</td>\n",
       "    </tr>\n",
       "    <tr>\n",
       "      <th>3570</th>\n",
       "      <td>AU=ONAL IBRAHIM</td>\n",
       "      <td>ONAL IBRAHIM</td>\n",
       "      <td>GAZI UNIV</td>\n",
       "    </tr>\n",
       "    <tr>\n",
       "      <th>3571</th>\n",
       "      <td>AU=METINEREN HASAN</td>\n",
       "      <td>METINEREN HASAN</td>\n",
       "      <td>DUMLUPINAR UNIV</td>\n",
       "    </tr>\n",
       "    <tr>\n",
       "      <th>3572</th>\n",
       "      <td>AU=BAYHAN SEDEN</td>\n",
       "      <td>BAYHAN SEDEN</td>\n",
       "      <td>ISTANBUL MEDIPOL UNIV</td>\n",
       "    </tr>\n",
       "    <tr>\n",
       "      <th>3573</th>\n",
       "      <td>AU=USLU YASAR</td>\n",
       "      <td>USLU YASAR</td>\n",
       "      <td>DUMLUPINAR UNIV</td>\n",
       "    </tr>\n",
       "    <tr>\n",
       "      <th>3574</th>\n",
       "      <td>AU=KARAKUS YASIN</td>\n",
       "      <td>KARAKUS YASIN</td>\n",
       "      <td>DUMLUPINAR UNIV</td>\n",
       "    </tr>\n",
       "  </tbody>\n",
       "</table>\n",
       "<p>3575 rows × 3 columns</p>\n",
       "</div>"
      ],
      "text/plain": [
       "                     Query            Authors                   organisation\n",
       "0           AU=SARAC CEMAL        SARAC CEMAL                   MARMARA UNIV\n",
       "1          AU=KOSE IBRAHIM       KOSE IBRAHIM                  ADIYAMAN UNIV\n",
       "2       AU=YENIDUNYA AHMET    YENIDUNYA AHMET                   MARMARA UNIV\n",
       "3         AU=MALKOC SIDDIK      MALKOC SIDDIK                     INONU UNIV\n",
       "4          AU=ARASOGLU ALI       ARASOGLU ALI               YUZUNCU YIL UNIV\n",
       "5          AU=HIRCA NECATI       HIRCA NECATI                    BARTIN UNIV\n",
       "6        AU=ACEMOGLU HAMIT     ACEMOGLU HAMIT                   ATATURK UNIV\n",
       "7          AU=GURSUL FATIH       GURSUL FATIH                  ISTANBUL UNIV\n",
       "8          AU=OZEL ERDOGAN       OZEL ERDOGAN                     INONU UNIV\n",
       "9           AU=YAYLA AHMET        YAYLA AHMET                    HARRAN UNIV\n",
       "10       AU=PERKMEN SERKAN     PERKMEN SERKAN                 BALIKESIR UNIV\n",
       "11         AU=KOCYIGIT ALI       KOCYIGIT ALI                 PAMUKKALE UNIV\n",
       "12       AU=OZTUZCU SERDAR     OZTUZCU SERDAR                 GAZIANTEP UNIV\n",
       "13            AU=KOC EMINE          KOC EMINE                 KASTAMONU UNIV\n",
       "14         AU=CEBER MEHMET       CEBER MEHMET               NAMIK KEMAL UNIV\n",
       "15           AU=DAGLI ARIF         DAGLI ARIF        ISTANBUL MEDENIYET UNIV\n",
       "16        AU=BERTLEK SEYDI      BERTLEK SEYDI          YILDIRIM BEYAZIT UNIV\n",
       "17         AU=BORAZAN HALE       BORAZAN HALE         NECMETTIN ERBAKAN UNIV\n",
       "18          AU=SAGLAM MUSA        SAGLAM MUSA                     NIGDE UNIV\n",
       "19       AU=SELCUK MUSTAFA     SELCUK MUSTAFA                  ISTANBUL UNIV\n",
       "20       AU=GUNEYISI ERHAN     GUNEYISI ERHAN                 GAZIANTEP UNIV\n",
       "21      AU=ASLANKURT MURAT    ASLANKURT MURAT  KAHRAMANMARAS SUTCU IMAM UNIV\n",
       "22      AU=KESKIN YILDIRAY    KESKIN YILDIRAY                    SELCUK UNIV\n",
       "23          AU=ERAYMAN ALI        ERAYMAN ALI             MUSTAFA KEMAL UNIV\n",
       "24        AU=TATLI MUSTAFA      TATLI MUSTAFA        IZMIR KATIP CELEBI UNIV\n",
       "25      AU=BALCIOGLU ERCAN    BALCIOGLU ERCAN                      GAZI UNIV\n",
       "26       AU=BARGAN HUSEYIN     BARGAN HUSEYIN                  ISTANBUL UNIV\n",
       "27         AU=YUCEL GERCEK       YUCEL GERCEK                   MARMARA UNIV\n",
       "28         AU=KASLI MEHMET       KASLI MEHMET       ESKISEHIR OSMANGAZI UNIV\n",
       "29          AU=CACAN IHSAN        CACAN IHSAN                     DICLE UNIV\n",
       "...                    ...                ...                            ...\n",
       "3545     AU=KILAVUZ MEHMET     KILAVUZ MEHMET                    ULUDAG UNIV\n",
       "3546       AU=YUCEL MEHMET       YUCEL MEHMET                DUMLUPINAR UNIV\n",
       "3547       AU=OKUTAN BETUL       OKUTAN BETUL                    MUNZUR UNIV\n",
       "3548    AU=TEKKOYUN MEHMET    TEKKOYUN MEHMET         CANAKKALE 18 MART UNIV\n",
       "3549        AU=ERKAN ERSIN        ERKAN ERSIN          ISTANBUL GELISIM UNIV\n",
       "3550      AU=OTURANC GALIP      OTURANC GALIP                    SELCUK UNIV\n",
       "3551    AU=YILDIZ MUHARREM    YILDIZ MUHARREM          SULEYMAN DEMIREL UNIV\n",
       "3552          AU=GUL ZEHRA          GUL ZEHRA  KAHRAMANMARAS SUTCU IMAM UNIV\n",
       "3553        AU=OZCAN ERDEM        OZCAN ERDEM               DOKUZ EYLUL UNIV\n",
       "3554        AU=YUCEL YUSUF        YUCEL YUSUF                    HARRAN UNIV\n",
       "3555         AU=BICICI HUR         BICICI HUR                      GAZI UNIV\n",
       "3556         AU=OZER AHMET         OZER AHMET                    HARRAN UNIV\n",
       "3557       AU=TURAN MEHMET       TURAN MEHMET                    HARRAN UNIV\n",
       "3558        AU=SEVI LEVENT        SEVI LEVENT                DUMLUPINAR UNIV\n",
       "3559       AU=AKTAS SERDAR       AKTAS SERDAR                DUMLUPINAR UNIV\n",
       "3560       AU=SANDIR HAKAN       SANDIR HAKAN                      GAZI UNIV\n",
       "3561        AU=GULER EKREM        GULER EKREM                      GAZI UNIV\n",
       "3562       AU=DUMAN SELAMI       DUMAN SELAMI        ISTANBUL MEDENIYET UNIV\n",
       "3563        AU=BATAR TURAN        BATAR TURAN               DOKUZ EYLUL UNIV\n",
       "3564  AU=KAHRAMAN MUHAMMET  KAHRAMAN MUHAMMET               BITLIS EREN UNIV\n",
       "3565    AU=TEMIZTURK FATIH    TEMIZTURK FATIH                DUMLUPINAR UNIV\n",
       "3566        AU=ACAR ISMAIL        ACAR ISMAIL               DOKUZ EYLUL UNIV\n",
       "3567    AU=TOPARLI MUSTAFA    TOPARLI MUSTAFA               DOKUZ EYLUL UNIV\n",
       "3568        AU=SEZGIN AYSE        SEZGIN AYSE                   ATATURK UNIV\n",
       "3569         AU=ASIK BIRAY         ASIK BIRAY         CANKIRI KARATEKIN UNIV\n",
       "3570       AU=ONAL IBRAHIM       ONAL IBRAHIM                      GAZI UNIV\n",
       "3571    AU=METINEREN HASAN    METINEREN HASAN                DUMLUPINAR UNIV\n",
       "3572       AU=BAYHAN SEDEN       BAYHAN SEDEN          ISTANBUL MEDIPOL UNIV\n",
       "3573         AU=USLU YASAR         USLU YASAR                DUMLUPINAR UNIV\n",
       "3574      AU=KARAKUS YASIN      KARAKUS YASIN                DUMLUPINAR UNIV\n",
       "\n",
       "[3575 rows x 3 columns]"
      ]
     },
     "execution_count": 8,
     "metadata": {},
     "output_type": "execute_result"
    }
   ],
   "source": [
    "df"
   ]
  },
  {
   "cell_type": "code",
   "execution_count": 35,
   "metadata": {},
   "outputs": [
    {
     "name": "stdout",
     "output_type": "stream",
     "text": [
      "0\n",
      "1\n",
      "2\n",
      "3\n",
      "4\n",
      "5\n",
      "6\n",
      "7\n",
      "8\n",
      "9\n",
      "10\n",
      "11\n",
      "12\n",
      "13\n",
      "14\n",
      "15\n",
      "16\n",
      "17\n",
      "18\n",
      "19\n",
      "20\n",
      "21\n",
      "22\n",
      "23\n",
      "24\n",
      "25\n",
      "26\n",
      "27\n",
      "28\n",
      "29\n",
      "30\n",
      "31\n",
      "32\n",
      "33\n",
      "34\n",
      "35\n",
      "36\n",
      "37\n",
      "38\n",
      "39\n",
      "40\n",
      "41\n",
      "42\n",
      "43\n",
      "44\n",
      "45\n",
      "46\n",
      "47\n",
      "48\n",
      "49\n",
      "50\n",
      "51\n",
      "52\n",
      "53\n",
      "54\n",
      "55\n",
      "56\n",
      "57\n",
      "58\n",
      "59\n",
      "60\n",
      "61\n",
      "62\n",
      "63\n",
      "64\n",
      "65\n",
      "66\n",
      "67\n",
      "68\n",
      "69\n",
      "70\n",
      "71\n",
      "72\n",
      "73\n",
      "74\n",
      "75\n",
      "76\n",
      "77\n",
      "78\n",
      "79\n",
      "80\n",
      "81\n",
      "82\n",
      "83\n",
      "84\n",
      "85\n",
      "86\n",
      "87\n",
      "88\n",
      "89\n",
      "90\n",
      "91\n",
      "92\n",
      "93\n",
      "94\n",
      "95\n",
      "96\n",
      "97\n",
      "98\n",
      "99\n",
      "100\n",
      "101\n",
      "102\n",
      "103\n",
      "104\n",
      "105\n",
      "106\n",
      "107\n",
      "108\n",
      "109\n",
      "110\n",
      "111\n",
      "112\n",
      "113\n",
      "114\n",
      "115\n",
      "116\n",
      "117\n",
      "118\n",
      "119\n",
      "120\n",
      "121\n",
      "122\n",
      "123\n",
      "124\n",
      "125\n",
      "126\n",
      "127\n",
      "128\n",
      "129\n",
      "130\n",
      "131\n",
      "132\n",
      "133\n",
      "134\n",
      "135\n",
      "136\n",
      "137\n",
      "138\n",
      "139\n",
      "140\n",
      "141\n",
      "142\n",
      "143\n",
      "144\n",
      "145\n",
      "146\n",
      "147\n",
      "148\n",
      "149\n",
      "150\n",
      "151\n",
      "Error on loop AU=AKYOL OMER\n",
      "152\n",
      "153\n",
      "154\n",
      "155\n",
      "156\n",
      "157\n",
      "158\n",
      "159\n",
      "160\n",
      "161\n",
      "162\n",
      "163\n",
      "164\n",
      "165\n",
      "166\n",
      "167\n",
      "168\n",
      "169\n",
      "170\n",
      "171\n",
      "172\n",
      "173\n",
      "174\n",
      "175\n",
      "176\n",
      "177\n",
      "178\n",
      "179\n",
      "180\n",
      "181\n",
      "182\n",
      "183\n",
      "184\n",
      "185\n",
      "186\n",
      "187\n",
      "188\n",
      "189\n",
      "190\n",
      "191\n",
      "192\n",
      "193\n",
      "194\n",
      "195\n",
      "196\n",
      "197\n",
      "198\n",
      "199\n",
      "200\n",
      "201\n",
      "202\n",
      "203\n",
      "204\n",
      "205\n",
      "206\n",
      "207\n",
      "208\n",
      "209\n",
      "210\n",
      "211\n",
      "212\n",
      "213\n",
      "214\n",
      "215\n",
      "216\n",
      "217\n",
      "218\n",
      "219\n",
      "220\n",
      "221\n",
      "222\n",
      "223\n",
      "224\n",
      "225\n",
      "226\n",
      "227\n",
      "228\n",
      "229\n",
      "230\n",
      "231\n",
      "232\n",
      "233\n",
      "234\n",
      "235\n",
      "236\n",
      "Error on loop AU=YAVUZ MUSTAFA\n",
      "237\n",
      "238\n",
      "239\n",
      "240\n",
      "241\n",
      "242\n",
      "243\n",
      "244\n",
      "245\n",
      "246\n",
      "247\n",
      "248\n",
      "249\n",
      "250\n",
      "251\n",
      "252\n",
      "253\n",
      "254\n",
      "255\n",
      "256\n",
      "257\n",
      "258\n",
      "259\n",
      "260\n",
      "261\n",
      "262\n",
      "263\n",
      "264\n",
      "265\n",
      "266\n",
      "267\n",
      "268\n",
      "269\n",
      "270\n",
      "271\n",
      "272\n",
      "273\n",
      "274\n",
      "275\n",
      "276\n",
      "277\n",
      "278\n",
      "279\n",
      "280\n",
      "281\n",
      "282\n",
      "283\n",
      "284\n",
      "285\n",
      "286\n",
      "287\n",
      "288\n",
      "289\n",
      "290\n",
      "291\n",
      "292\n",
      "293\n",
      "294\n",
      "295\n",
      "296\n",
      "297\n",
      "298\n",
      "299\n",
      "300\n",
      "301\n",
      "302\n",
      "303\n",
      "304\n",
      "305\n",
      "Error on loop AU=SIMSEK MESUT\n",
      "306\n",
      "Error on loop AU=KADAK UGUR\n",
      "307\n",
      "308\n",
      "309\n",
      "310\n",
      "311\n",
      "312\n",
      "313\n",
      "314\n",
      "315\n",
      "316\n",
      "317\n",
      "318\n",
      "319\n",
      "320\n",
      "321\n",
      "322\n",
      "323\n",
      "324\n",
      "325\n",
      "326\n",
      "327\n",
      "328\n",
      "329\n",
      "330\n",
      "331\n",
      "332\n",
      "333\n",
      "334\n",
      "Error on loop AU=KURT AYSE\n",
      "335\n",
      "336\n",
      "337\n",
      "338\n",
      "339\n",
      "340\n",
      "341\n",
      "342\n",
      "343\n",
      "344\n",
      "345\n",
      "346\n",
      "347\n",
      "348\n",
      "349\n",
      "350\n",
      "351\n",
      "352\n",
      "353\n",
      "354\n",
      "355\n",
      "356\n",
      "357\n",
      "Error on loop AU=DEMIR MUSTAFA\n",
      "358\n",
      "359\n",
      "360\n",
      "361\n",
      "362\n",
      "363\n",
      "364\n",
      "365\n",
      "366\n",
      "367\n",
      "368\n",
      "369\n",
      "370\n",
      "371\n",
      "372\n",
      "373\n",
      "374\n",
      "375\n",
      "376\n",
      "377\n",
      "378\n",
      "379\n",
      "380\n",
      "381\n",
      "382\n",
      "383\n",
      "384\n",
      "385\n",
      "386\n",
      "387\n",
      "388\n",
      "389\n",
      "390\n",
      "391\n",
      "392\n",
      "393\n",
      "394\n",
      "Error on loop AU=DUNDAR EKREM\n",
      "395\n",
      "396\n",
      "397\n",
      "398\n",
      "399\n",
      "400\n",
      "401\n",
      "402\n",
      "403\n",
      "404\n",
      "405\n",
      "406\n",
      "407\n",
      "408\n",
      "409\n",
      "410\n",
      "411\n",
      "412\n",
      "413\n",
      "414\n",
      "415\n",
      "416\n",
      "417\n",
      "418\n",
      "419\n",
      "420\n",
      "421\n",
      "422\n",
      "423\n",
      "424\n",
      "425\n",
      "426\n",
      "427\n",
      "428\n",
      "429\n",
      "430\n",
      "431\n",
      "432\n",
      "433\n",
      "434\n",
      "435\n",
      "436\n",
      "437\n",
      "438\n",
      "439\n",
      "440\n",
      "441\n",
      "442\n",
      "443\n",
      "444\n",
      "445\n",
      "446\n",
      "447\n",
      "448\n",
      "449\n",
      "450\n",
      "451\n",
      "452\n",
      "453\n",
      "454\n",
      "455\n",
      "456\n",
      "457\n",
      "458\n",
      "459\n",
      "460\n",
      "461\n",
      "462\n",
      "463\n",
      "464\n",
      "465\n",
      "466\n",
      "467\n",
      "Error on loop AU=ARMUTCU FERAH\n",
      "468\n",
      "469\n",
      "470\n",
      "471\n",
      "472\n",
      "473\n",
      "474\n",
      "475\n",
      "476\n",
      "477\n",
      "478\n",
      "479\n",
      "480\n",
      "481\n",
      "482\n",
      "483\n",
      "484\n",
      "485\n",
      "486\n",
      "487\n",
      "488\n",
      "489\n",
      "490\n",
      "491\n",
      "492\n",
      "493\n",
      "494\n",
      "495\n",
      "496\n",
      "497\n",
      "498\n",
      "499\n",
      "500\n",
      "501\n",
      "502\n",
      "503\n",
      "504\n",
      "505\n",
      "506\n",
      "507\n",
      "508\n",
      "509\n",
      "510\n",
      "511\n",
      "512\n",
      "513\n",
      "514\n",
      "515\n",
      "516\n",
      "517\n",
      "518\n",
      "519\n",
      "520\n",
      "521\n",
      "522\n",
      "523\n",
      "524\n",
      "525\n",
      "526\n",
      "527\n",
      "528\n",
      "529\n",
      "530\n",
      "531\n",
      "532\n",
      "533\n",
      "534\n",
      "535\n",
      "536\n",
      "537\n",
      "538\n",
      "539\n",
      "540\n",
      "541\n",
      "542\n",
      "543\n",
      "544\n",
      "545\n",
      "546\n",
      "547\n",
      "548\n",
      "549\n",
      "550\n",
      "551\n",
      "552\n",
      "553\n",
      "554\n",
      "555\n",
      "556\n",
      "557\n",
      "558\n",
      "559\n",
      "560\n",
      "561\n",
      "562\n",
      "563\n",
      "564\n",
      "565\n",
      "566\n",
      "567\n",
      "568\n",
      "569\n",
      "570\n",
      "571\n",
      "572\n",
      "573\n",
      "574\n",
      "575\n",
      "576\n",
      "577\n",
      "578\n",
      "579\n",
      "580\n",
      "581\n",
      "582\n",
      "583\n",
      "584\n",
      "585\n",
      "586\n",
      "587\n",
      "588\n",
      "589\n",
      "590\n",
      "591\n",
      "592\n",
      "593\n",
      "594\n",
      "595\n",
      "596\n",
      "597\n",
      "598\n",
      "599\n",
      "600\n",
      "601\n",
      "602\n",
      "Error on loop AU=ARI TUBA\n",
      "603\n",
      "604\n",
      "605\n",
      "606\n",
      "607\n",
      "608\n",
      "609\n",
      "610\n",
      "611\n",
      "612\n",
      "613\n",
      "614\n",
      "615\n",
      "616\n",
      "617\n",
      "618\n",
      "619\n",
      "620\n",
      "621\n",
      "622\n",
      "623\n",
      "624\n",
      "625\n",
      "626\n",
      "627\n",
      "628\n",
      "629\n",
      "630\n",
      "631\n",
      "632\n",
      "633\n",
      "634\n",
      "635\n",
      "636\n",
      "637\n",
      "638\n",
      "639\n",
      "640\n",
      "641\n",
      "642\n",
      "643\n",
      "644\n",
      "645\n",
      "646\n",
      "647\n",
      "648\n",
      "Error on loop AU=PARMAKSIZ ISKENDER\n",
      "649\n",
      "650\n",
      "651\n",
      "652\n",
      "653\n",
      "654\n",
      "655\n",
      "656\n",
      "657\n",
      "658\n",
      "659\n",
      "660\n",
      "661\n",
      "662\n",
      "663\n",
      "664\n",
      "665\n",
      "666\n",
      "667\n",
      "668\n",
      "669\n",
      "670\n",
      "671\n",
      "672\n",
      "673\n",
      "674\n",
      "675\n",
      "676\n",
      "677\n",
      "678\n",
      "679\n",
      "680\n",
      "681\n",
      "682\n",
      "683\n",
      "684\n",
      "685\n",
      "686\n",
      "687\n",
      "688\n",
      "689\n",
      "690\n",
      "691\n",
      "692\n",
      "693\n",
      "694\n",
      "695\n",
      "696\n",
      "697\n",
      "698\n",
      "699\n",
      "700\n",
      "701\n",
      "702\n",
      "703\n",
      "704\n",
      "705\n",
      "706\n",
      "707\n",
      "708\n",
      "709\n",
      "710\n",
      "711\n",
      "712\n",
      "713\n",
      "714\n",
      "715\n",
      "716\n",
      "717\n",
      "718\n",
      "719\n",
      "720\n",
      "721\n",
      "722\n",
      "723\n",
      "724\n",
      "725\n",
      "726\n",
      "727\n",
      "728\n",
      "729\n",
      "730\n",
      "731\n",
      "732\n",
      "733\n",
      "734\n",
      "735\n",
      "736\n",
      "737\n",
      "738\n",
      "739\n",
      "740\n",
      "741\n",
      "742\n",
      "743\n",
      "Error on loop AU=ERCAG EROL\n",
      "744\n",
      "745\n",
      "746\n",
      "747\n",
      "748\n",
      "749\n",
      "750\n",
      "751\n",
      "752\n",
      "753\n",
      "754\n",
      "755\n",
      "756\n",
      "757\n",
      "758\n",
      "759\n",
      "760\n",
      "761\n",
      "762\n",
      "763\n",
      "764\n",
      "765\n",
      "766\n",
      "767\n",
      "768\n",
      "769\n",
      "770\n",
      "771\n",
      "772\n",
      "773\n",
      "774\n",
      "775\n",
      "776\n",
      "777\n",
      "778\n",
      "779\n",
      "780\n",
      "781\n",
      "782\n",
      "783\n",
      "784\n",
      "785\n",
      "786\n",
      "787\n",
      "788\n",
      "789\n",
      "790\n",
      "791\n",
      "792\n",
      "793\n",
      "794\n",
      "795\n",
      "796\n",
      "797\n",
      "798\n",
      "799\n",
      "Error on loop AU=ULUSOY HASAN\n",
      "800\n",
      "801\n",
      "802\n",
      "803\n",
      "804\n",
      "805\n",
      "806\n",
      "807\n",
      "808\n",
      "809\n",
      "810\n",
      "811\n",
      "812\n",
      "813\n",
      "814\n",
      "815\n",
      "816\n",
      "817\n",
      "818\n",
      "819\n",
      "820\n",
      "821\n",
      "822\n",
      "823\n",
      "824\n",
      "825\n",
      "826\n",
      "827\n",
      "Error on loop AU=AKTURK SELCUK\n",
      "828\n",
      "829\n",
      "830\n",
      "831\n",
      "832\n",
      "833\n",
      "834\n",
      "835\n",
      "836\n",
      "837\n",
      "838\n",
      "839\n",
      "840\n",
      "841\n",
      "842\n",
      "Error on loop AU=AGPAK KURSAD\n",
      "843\n",
      "844\n",
      "845\n",
      "846\n",
      "847\n",
      "848\n",
      "Error on loop AU=ALTUNDAG MUSTAFA\n",
      "849\n",
      "850\n",
      "851\n",
      "852\n",
      "853\n",
      "854\n",
      "855\n",
      "856\n",
      "857\n",
      "858\n",
      "859\n",
      "860\n",
      "861\n",
      "862\n",
      "863\n",
      "864\n",
      "865\n",
      "866\n",
      "867\n",
      "868\n",
      "Error on loop AU=BILGIN IBRAHIM\n",
      "869\n",
      "870\n",
      "871\n",
      "872\n",
      "873\n",
      "874\n",
      "875\n",
      "876\n",
      "877\n",
      "878\n",
      "879\n",
      "880\n",
      "881\n",
      "882\n",
      "883\n",
      "884\n",
      "885\n",
      "886\n",
      "887\n",
      "888\n",
      "889\n",
      "890\n",
      "891\n",
      "892\n",
      "893\n",
      "894\n",
      "895\n",
      "896\n",
      "897\n",
      "898\n",
      "899\n",
      "900\n",
      "901\n",
      "902\n",
      "903\n",
      "904\n",
      "905\n",
      "906\n",
      "907\n",
      "908\n",
      "909\n",
      "910\n",
      "Error on loop AU=AYDIN MUSTAFA\n",
      "911\n",
      "912\n",
      "913\n",
      "914\n",
      "915\n",
      "916\n",
      "917\n",
      "918\n",
      "919\n",
      "920\n",
      "921\n",
      "922\n",
      "923\n",
      "924\n",
      "925\n",
      "926\n",
      "927\n",
      "928\n",
      "929\n",
      "930\n",
      "931\n",
      "932\n",
      "933\n",
      "934\n",
      "935\n",
      "936\n",
      "937\n",
      "938\n",
      "939\n",
      "940\n",
      "941\n",
      "942\n",
      "943\n",
      "944\n",
      "945\n",
      "946\n",
      "947\n",
      "948\n",
      "949\n",
      "950\n",
      "951\n",
      "952\n",
      "953\n",
      "954\n",
      "955\n",
      "956\n",
      "957\n",
      "958\n",
      "959\n",
      "960\n",
      "961\n",
      "962\n",
      "963\n",
      "964\n",
      "965\n",
      "966\n",
      "967\n",
      "968\n",
      "969\n",
      "970\n",
      "971\n",
      "972\n",
      "973\n",
      "974\n",
      "975\n",
      "976\n",
      "977\n",
      "978\n",
      "979\n",
      "980\n",
      "981\n",
      "982\n",
      "983\n",
      "984\n",
      "985\n",
      "986\n",
      "987\n",
      "988\n",
      "989\n",
      "990\n",
      "991\n",
      "992\n",
      "993\n",
      "994\n",
      "995\n",
      "996\n",
      "997\n",
      "998\n",
      "999\n",
      "1000\n",
      "1001\n",
      "1002\n",
      "1003\n",
      "1004\n",
      "1005\n",
      "1006\n",
      "1007\n",
      "1008\n",
      "1009\n",
      "1010\n",
      "1011\n",
      "1012\n",
      "1013\n",
      "1014\n",
      "1015\n",
      "1016\n",
      "1017\n",
      "1018\n",
      "1019\n",
      "1020\n",
      "1021\n",
      "1022\n",
      "1023\n",
      "1024\n",
      "1025\n",
      "1026\n",
      "1027\n",
      "1028\n",
      "1029\n",
      "1030\n",
      "1031\n",
      "1032\n",
      "1033\n",
      "1034\n",
      "1035\n",
      "1036\n",
      "1037\n",
      "1038\n",
      "1039\n",
      "1040\n",
      "1041\n",
      "1042\n",
      "1043\n",
      "1044\n",
      "1045\n",
      "1046\n",
      "1047\n",
      "1048\n",
      "1049\n",
      "1050\n",
      "1051\n",
      "1052\n",
      "1053\n",
      "1054\n",
      "1055\n",
      "1056\n",
      "1057\n",
      "1058\n",
      "1059\n",
      "1060\n",
      "1061\n",
      "1062\n",
      "1063\n",
      "1064\n",
      "1065\n",
      "1066\n",
      "1067\n",
      "1068\n",
      "1069\n",
      "1070\n",
      "1071\n",
      "1072\n",
      "1073\n",
      "1074\n",
      "1075\n",
      "1076\n",
      "1077\n",
      "1078\n",
      "1079\n",
      "1080\n",
      "1081\n",
      "1082\n",
      "1083\n",
      "1084\n",
      "1085\n",
      "1086\n",
      "1087\n",
      "1088\n",
      "1089\n",
      "1090\n",
      "1091\n",
      "1092\n",
      "1093\n",
      "1094\n",
      "1095\n",
      "1096\n",
      "1097\n",
      "1098\n",
      "1099\n",
      "1100\n",
      "1101\n",
      "1102\n",
      "1103\n",
      "1104\n",
      "1105\n",
      "1106\n",
      "1107\n",
      "1108\n",
      "1109\n",
      "1110\n",
      "1111\n",
      "1112\n",
      "1113\n",
      "1114\n",
      "1115\n",
      "1116\n",
      "1117\n",
      "1118\n",
      "1119\n",
      "1120\n",
      "1121\n",
      "1122\n",
      "1123\n",
      "1124\n",
      "1125\n",
      "1126\n",
      "Error on loop AU=SEVER ALI\n",
      "1127\n",
      "1128\n",
      "1129\n",
      "1130\n",
      "1131\n",
      "1132\n",
      "1133\n",
      "1134\n",
      "1135\n",
      "1136\n",
      "1137\n",
      "1138\n",
      "1139\n",
      "1140\n",
      "1141\n",
      "1142\n",
      "1143\n",
      "1144\n",
      "1145\n",
      "1146\n",
      "1147\n",
      "1148\n",
      "1149\n",
      "1150\n",
      "1151\n",
      "1152\n",
      "1153\n",
      "1154\n",
      "1155\n",
      "1156\n",
      "1157\n",
      "1158\n",
      "1159\n",
      "1160\n",
      "1161\n",
      "1162\n",
      "1163\n",
      "1164\n",
      "1165\n",
      "1166\n",
      "1167\n",
      "1168\n",
      "1169\n",
      "1170\n",
      "1171\n",
      "1172\n",
      "1173\n",
      "1174\n",
      "1175\n",
      "1176\n",
      "1177\n",
      "1178\n",
      "1179\n",
      "1180\n",
      "1181\n",
      "1182\n",
      "1183\n",
      "1184\n",
      "1185\n",
      "1186\n",
      "1187\n",
      "1188\n",
      "1189\n",
      "1190\n",
      "1191\n",
      "1192\n",
      "1193\n",
      "1194\n",
      "1195\n",
      "1196\n",
      "1197\n",
      "1198\n",
      "1199\n",
      "1200\n",
      "1201\n",
      "1202\n",
      "1203\n",
      "1204\n",
      "1205\n",
      "1206\n",
      "1207\n",
      "1208\n",
      "1209\n",
      "1210\n",
      "1211\n",
      "1212\n",
      "1213\n",
      "1214\n",
      "Error on loop AU=SENEL MEHMET\n",
      "1215\n",
      "1216\n",
      "1217\n",
      "1218\n",
      "1219\n",
      "1220\n",
      "1221\n",
      "1222\n",
      "1223\n",
      "1224\n",
      "1225\n",
      "1226\n",
      "1227\n",
      "1228\n",
      "1229\n",
      "1230\n",
      "1231\n",
      "1232\n",
      "1233\n",
      "1234\n",
      "1235\n",
      "1236\n",
      "1237\n",
      "1238\n",
      "1239\n",
      "1240\n",
      "1241\n",
      "1242\n",
      "1243\n",
      "1244\n",
      "1245\n",
      "1246\n",
      "1247\n",
      "1248\n",
      "1249\n",
      "1250\n",
      "1251\n",
      "1252\n",
      "1253\n",
      "1254\n",
      "1255\n",
      "1256\n",
      "1257\n",
      "1258\n",
      "1259\n",
      "1260\n",
      "1261\n",
      "1262\n",
      "1263\n",
      "1264\n",
      "1265\n",
      "1266\n",
      "1267\n",
      "1268\n",
      "1269\n",
      "Error on loop AU=DURAN AHMET\n",
      "1270\n",
      "1271\n",
      "1272\n",
      "1273\n",
      "Error on loop AU=MIRAN BULENT\n",
      "1274\n",
      "1275\n",
      "1276\n",
      "1277\n",
      "1278\n",
      "1279\n",
      "1280\n",
      "1281\n",
      "1282\n",
      "1283\n",
      "1284\n",
      "1285\n",
      "1286\n",
      "1287\n",
      "1288\n",
      "1289\n",
      "1290\n",
      "1291\n",
      "1292\n",
      "1293\n",
      "1294\n",
      "1295\n",
      "1296\n",
      "1297\n",
      "1298\n",
      "1299\n",
      "1300\n",
      "1301\n",
      "1302\n",
      "1303\n",
      "1304\n",
      "1305\n",
      "1306\n",
      "1307\n",
      "1308\n",
      "1309\n",
      "1310\n",
      "1311\n",
      "1312\n",
      "1313\n",
      "1314\n",
      "1315\n",
      "1316\n",
      "1317\n",
      "1318\n",
      "1319\n",
      "1320\n",
      "1321\n",
      "1322\n",
      "1323\n",
      "1324\n",
      "1325\n",
      "1326\n",
      "1327\n",
      "1328\n",
      "1329\n",
      "1330\n",
      "1331\n",
      "1332\n",
      "1333\n",
      "1334\n",
      "1335\n",
      "1336\n",
      "1337\n",
      "1338\n",
      "1339\n",
      "1340\n",
      "1341\n",
      "1342\n",
      "Error on loop AU=OZDEMIR OSMAN\n",
      "1343\n",
      "1344\n",
      "1345\n",
      "1346\n",
      "1347\n",
      "1348\n",
      "1349\n",
      "1350\n",
      "1351\n",
      "Error on loop AU=CELEP FERHAT\n",
      "1352\n",
      "1353\n",
      "1354\n",
      "1355\n",
      "1356\n",
      "1357\n",
      "1358\n",
      "1359\n",
      "1360\n",
      "1361\n",
      "1362\n",
      "1363\n",
      "1364\n",
      "1365\n",
      "1366\n",
      "1367\n",
      "1368\n",
      "1369\n",
      "1370\n",
      "1371\n",
      "1372\n",
      "1373\n",
      "1374\n",
      "1375\n",
      "1376\n",
      "1377\n",
      "1378\n",
      "1379\n",
      "1380\n",
      "1381\n",
      "1382\n",
      "1383\n",
      "1384\n",
      "1385\n",
      "1386\n",
      "1387\n",
      "1388\n",
      "1389\n",
      "1390\n",
      "1391\n",
      "1392\n",
      "1393\n",
      "1394\n",
      "1395\n",
      "1396\n",
      "1397\n",
      "1398\n",
      "1399\n",
      "1400\n",
      "1401\n",
      "1402\n",
      "1403\n",
      "1404\n",
      "1405\n",
      "1406\n",
      "1407\n",
      "1408\n",
      "1409\n",
      "1410\n",
      "1411\n",
      "1412\n",
      "1413\n",
      "1414\n",
      "1415\n",
      "1416\n",
      "1417\n",
      "1418\n",
      "1419\n",
      "1420\n",
      "1421\n",
      "1422\n",
      "1423\n",
      "1424\n",
      "1425\n",
      "1426\n",
      "1427\n",
      "1428\n",
      "1429\n",
      "1430\n",
      "1431\n",
      "1432\n",
      "1433\n",
      "1434\n",
      "1435\n",
      "1436\n",
      "1437\n",
      "1438\n",
      "1439\n",
      "1440\n",
      "1441\n",
      "1442\n",
      "1443\n",
      "1444\n",
      "1445\n",
      "1446\n",
      "1447\n",
      "1448\n",
      "1449\n",
      "1450\n",
      "1451\n",
      "1452\n",
      "1453\n",
      "1454\n",
      "1455\n",
      "1456\n",
      "1457\n",
      "1458\n",
      "1459\n",
      "1460\n",
      "1461\n",
      "1462\n",
      "1463\n",
      "1464\n",
      "1465\n",
      "1466\n",
      "1467\n",
      "1468\n",
      "1469\n",
      "1470\n",
      "1471\n",
      "1472\n",
      "1473\n",
      "1474\n",
      "1475\n",
      "1476\n",
      "1477\n",
      "1478\n",
      "Error on loop AU=YILDIZ ISMAIL\n",
      "1479\n",
      "1480\n",
      "1481\n",
      "1482\n",
      "1483\n",
      "1484\n",
      "1485\n",
      "1486\n",
      "1487\n",
      "1488\n",
      "1489\n",
      "1490\n",
      "1491\n",
      "1492\n",
      "1493\n",
      "1494\n",
      "1495\n",
      "1496\n",
      "1497\n",
      "1498\n",
      "Error on loop AU=PAMUK OMER\n",
      "1499\n",
      "1500\n",
      "1501\n",
      "1502\n",
      "1503\n",
      "1504\n",
      "1505\n",
      "1506\n",
      "1507\n",
      "1508\n",
      "1509\n",
      "1510\n",
      "1511\n",
      "1512\n",
      "1513\n",
      "1514\n",
      "1515\n",
      "1516\n",
      "1517\n",
      "1518\n",
      "1519\n",
      "1520\n",
      "1521\n",
      "1522\n",
      "1523\n",
      "1524\n",
      "1525\n",
      "1526\n",
      "1527\n",
      "1528\n",
      "1529\n",
      "1530\n",
      "1531\n",
      "1532\n",
      "1533\n",
      "1534\n",
      "1535\n",
      "1536\n",
      "1537\n",
      "1538\n",
      "1539\n",
      "1540\n",
      "1541\n",
      "1542\n",
      "1543\n",
      "1544\n",
      "1545\n",
      "1546\n",
      "1547\n",
      "1548\n",
      "1549\n",
      "1550\n",
      "1551\n",
      "1552\n",
      "1553\n",
      "1554\n",
      "1555\n",
      "1556\n",
      "1557\n",
      "1558\n",
      "1559\n",
      "1560\n",
      "1561\n",
      "1562\n",
      "1563\n",
      "1564\n",
      "1565\n",
      "1566\n",
      "1567\n",
      "1568\n",
      "1569\n",
      "1570\n",
      "1571\n",
      "1572\n",
      "1573\n",
      "1574\n",
      "1575\n",
      "1576\n",
      "1577\n",
      "1578\n",
      "1579\n",
      "1580\n",
      "1581\n",
      "1582\n",
      "1583\n",
      "1584\n",
      "1585\n",
      "1586\n",
      "1587\n",
      "1588\n",
      "1589\n",
      "1590\n",
      "1591\n",
      "1592\n",
      "1593\n",
      "1594\n",
      "1595\n",
      "1596\n",
      "1597\n",
      "1598\n",
      "1599\n",
      "1600\n",
      "1601\n",
      "1602\n",
      "1603\n",
      "1604\n",
      "1605\n",
      "1606\n",
      "1607\n",
      "1608\n",
      "1609\n",
      "1610\n",
      "1611\n",
      "1612\n",
      "1613\n",
      "1614\n",
      "1615\n",
      "1616\n",
      "1617\n",
      "1618\n",
      "1619\n",
      "1620\n",
      "1621\n",
      "1622\n",
      "1623\n",
      "1624\n",
      "1625\n",
      "1626\n",
      "1627\n",
      "1628\n",
      "1629\n",
      "1630\n",
      "1631\n",
      "1632\n",
      "1633\n",
      "1634\n",
      "1635\n",
      "1636\n",
      "1637\n",
      "1638\n",
      "1639\n",
      "1640\n",
      "1641\n",
      "1642\n",
      "1643\n",
      "1644\n",
      "1645\n",
      "1646\n",
      "1647\n",
      "1648\n",
      "1649\n",
      "1650\n",
      "1651\n",
      "1652\n",
      "1653\n",
      "1654\n",
      "1655\n",
      "1656\n",
      "1657\n",
      "1658\n",
      "1659\n",
      "1660\n",
      "1661\n",
      "1662\n",
      "1663\n",
      "1664\n",
      "1665\n",
      "1666\n",
      "1667\n",
      "1668\n",
      "1669\n",
      "1670\n",
      "1671\n",
      "1672\n",
      "1673\n",
      "1674\n",
      "1675\n",
      "1676\n",
      "1677\n",
      "1678\n",
      "1679\n",
      "1680\n",
      "1681\n",
      "1682\n",
      "1683\n",
      "1684\n",
      "1685\n",
      "1686\n",
      "1687\n",
      "1688\n",
      "1689\n",
      "1690\n",
      "1691\n",
      "1692\n",
      "1693\n",
      "1694\n",
      "1695\n",
      "1696\n",
      "1697\n",
      "1698\n",
      "1699\n",
      "1700\n",
      "1701\n",
      "1702\n",
      "1703\n",
      "1704\n",
      "1705\n",
      "1706\n",
      "1707\n",
      "1708\n",
      "1709\n",
      "1710\n"
     ]
    },
    {
     "name": "stdout",
     "output_type": "stream",
     "text": [
      "1711\n",
      "1712\n",
      "1713\n",
      "1714\n",
      "1715\n",
      "1716\n",
      "1717\n",
      "1718\n",
      "1719\n",
      "1720\n",
      "1721\n",
      "1722\n",
      "1723\n",
      "1724\n",
      "1725\n",
      "1726\n",
      "1727\n",
      "1728\n",
      "1729\n",
      "1730\n",
      "1731\n",
      "1732\n",
      "1733\n",
      "1734\n",
      "1735\n",
      "1736\n",
      "1737\n",
      "1738\n",
      "1739\n",
      "1740\n",
      "1741\n",
      "1742\n",
      "1743\n",
      "1744\n",
      "1745\n",
      "1746\n",
      "1747\n",
      "1748\n",
      "1749\n",
      "Error on loop AU=OZMEN OZGUR\n",
      "1750\n",
      "1751\n",
      "1752\n",
      "1753\n",
      "1754\n",
      "1755\n",
      "1756\n",
      "1757\n",
      "1758\n",
      "1759\n",
      "1760\n",
      "1761\n",
      "1762\n",
      "1763\n",
      "1764\n",
      "1765\n",
      "1766\n",
      "1767\n",
      "1768\n",
      "1769\n",
      "Error on loop AU=SAN SAIT\n",
      "1770\n",
      "1771\n",
      "1772\n",
      "1773\n",
      "1774\n",
      "1775\n",
      "1776\n",
      "1777\n",
      "1778\n",
      "1779\n",
      "1780\n",
      "1781\n",
      "1782\n",
      "1783\n",
      "1784\n",
      "1785\n",
      "1786\n",
      "1787\n",
      "1788\n",
      "1789\n",
      "1790\n",
      "1791\n",
      "1792\n",
      "1793\n",
      "1794\n",
      "1795\n",
      "1796\n",
      "1797\n",
      "1798\n",
      "1799\n",
      "1800\n",
      "1801\n",
      "1802\n",
      "1803\n",
      "1804\n",
      "1805\n",
      "1806\n",
      "1807\n",
      "1808\n",
      "1809\n",
      "1810\n",
      "1811\n",
      "1812\n",
      "1813\n",
      "1814\n",
      "Error on loop AU=YEKELER ENSAR\n",
      "1815\n",
      "1816\n",
      "1817\n",
      "1818\n",
      "1819\n",
      "1820\n",
      "1821\n",
      "1822\n",
      "1823\n",
      "1824\n",
      "1825\n",
      "1826\n",
      "1827\n",
      "1828\n",
      "1829\n",
      "1830\n",
      "1831\n",
      "1832\n",
      "1833\n",
      "1834\n",
      "1835\n",
      "1836\n",
      "1837\n",
      "1838\n",
      "1839\n",
      "1840\n",
      "1841\n",
      "1842\n",
      "1843\n",
      "1844\n",
      "1845\n",
      "1846\n",
      "1847\n",
      "1848\n",
      "1849\n",
      "1850\n",
      "1851\n",
      "1852\n",
      "1853\n",
      "1854\n",
      "1855\n",
      "1856\n",
      "1857\n",
      "1858\n",
      "1859\n",
      "1860\n",
      "1861\n",
      "1862\n",
      "1863\n",
      "1864\n",
      "1865\n",
      "1866\n",
      "1867\n",
      "1868\n",
      "1869\n",
      "1870\n",
      "1871\n",
      "1872\n",
      "1873\n",
      "1874\n",
      "1875\n",
      "1876\n",
      "1877\n",
      "1878\n",
      "1879\n",
      "1880\n",
      "1881\n",
      "1882\n",
      "1883\n",
      "1884\n",
      "Error on loop AU=UGUZ SELMAN\n",
      "1885\n",
      "1886\n",
      "1887\n",
      "1888\n",
      "1889\n",
      "1890\n",
      "1891\n",
      "1892\n",
      "1893\n",
      "1894\n",
      "1895\n",
      "1896\n",
      "1897\n",
      "1898\n",
      "1899\n",
      "1900\n",
      "1901\n",
      "1902\n",
      "1903\n",
      "1904\n",
      "1905\n",
      "1906\n",
      "1907\n",
      "1908\n",
      "1909\n",
      "1910\n",
      "1911\n",
      "1912\n",
      "1913\n",
      "1914\n",
      "1915\n",
      "1916\n",
      "1917\n",
      "Error on loop AU=YAMAN HAKAN\n",
      "1918\n",
      "1919\n",
      "1920\n",
      "1921\n",
      "1922\n",
      "1923\n",
      "1924\n",
      "1925\n",
      "1926\n",
      "1927\n",
      "1928\n",
      "1929\n",
      "1930\n",
      "1931\n",
      "1932\n",
      "1933\n",
      "1934\n",
      "1935\n",
      "1936\n",
      "1937\n",
      "1938\n",
      "1939\n",
      "1940\n",
      "1941\n",
      "1942\n",
      "1943\n",
      "Error on loop AU=ULUDAG MURAT\n",
      "1944\n",
      "1945\n",
      "1946\n",
      "1947\n",
      "1948\n",
      "1949\n",
      "1950\n",
      "1951\n",
      "1952\n",
      "1953\n",
      "1954\n",
      "1955\n",
      "1956\n",
      "1957\n",
      "1958\n",
      "1959\n",
      "1960\n",
      "1961\n",
      "1962\n",
      "1963\n",
      "1964\n",
      "1965\n",
      "1966\n",
      "1967\n",
      "1968\n",
      "1969\n",
      "1970\n",
      "Error on loop AU=YAGMUR NIHAT\n",
      "1971\n",
      "1972\n",
      "1973\n",
      "1974\n",
      "1975\n",
      "1976\n",
      "1977\n",
      "1978\n",
      "1979\n",
      "1980\n",
      "1981\n",
      "1982\n",
      "1983\n",
      "1984\n",
      "1985\n",
      "1986\n",
      "1987\n",
      "1988\n",
      "1989\n",
      "1990\n",
      "1991\n",
      "1992\n",
      "1993\n",
      "1994\n",
      "1995\n",
      "1996\n",
      "1997\n",
      "1998\n",
      "1999\n",
      "2000\n",
      "2001\n",
      "2002\n",
      "2003\n",
      "2004\n",
      "2005\n",
      "2006\n",
      "2007\n",
      "2008\n",
      "2009\n",
      "2010\n",
      "2011\n",
      "Error on loop AU=GULER GULNUR\n",
      "2012\n",
      "2013\n",
      "2014\n",
      "2015\n",
      "2016\n",
      "2017\n",
      "2018\n",
      "2019\n",
      "Error on loop AU=PAMUK GULSUM\n",
      "2020\n",
      "Error on loop AU=GUVEN ERDEM\n",
      "2021\n",
      "2022\n",
      "2023\n",
      "2024\n",
      "2025\n",
      "2026\n",
      "2027\n",
      "2028\n",
      "2029\n",
      "2030\n",
      "2031\n",
      "2032\n",
      "2033\n",
      "2034\n",
      "2035\n",
      "2036\n",
      "2037\n",
      "2038\n",
      "2039\n",
      "2040\n",
      "2041\n",
      "2042\n",
      "2043\n",
      "2044\n",
      "2045\n",
      "2046\n",
      "2047\n",
      "2048\n",
      "2049\n",
      "2050\n",
      "2051\n",
      "2052\n",
      "2053\n",
      "2054\n",
      "2055\n",
      "2056\n",
      "2057\n",
      "2058\n",
      "2059\n",
      "2060\n",
      "2061\n",
      "2062\n",
      "2063\n",
      "2064\n",
      "2065\n",
      "2066\n",
      "2067\n",
      "2068\n",
      "2069\n",
      "2070\n",
      "2071\n",
      "2072\n",
      "2073\n",
      "2074\n",
      "2075\n",
      "2076\n",
      "2077\n",
      "2078\n",
      "2079\n",
      "2080\n",
      "2081\n",
      "2082\n",
      "2083\n",
      "2084\n",
      "2085\n",
      "2086\n",
      "2087\n",
      "2088\n",
      "2089\n",
      "2090\n",
      "2091\n",
      "2092\n",
      "2093\n",
      "2094\n",
      "2095\n",
      "2096\n",
      "2097\n",
      "2098\n",
      "2099\n",
      "2100\n",
      "2101\n",
      "2102\n",
      "2103\n",
      "2104\n",
      "2105\n",
      "2106\n",
      "2107\n",
      "2108\n",
      "2109\n",
      "2110\n",
      "2111\n",
      "2112\n",
      "2113\n",
      "2114\n",
      "2115\n",
      "2116\n",
      "2117\n",
      "2118\n",
      "2119\n",
      "2120\n",
      "Error on loop AU=ERAYMAN MUSTAFA\n",
      "2121\n",
      "2122\n",
      "2123\n",
      "2124\n",
      "2125\n",
      "2126\n",
      "2127\n",
      "2128\n",
      "2129\n",
      "2130\n",
      "2131\n",
      "2132\n",
      "2133\n",
      "2134\n",
      "2135\n",
      "2136\n",
      "2137\n",
      "2138\n",
      "2139\n",
      "2140\n",
      "2141\n",
      "2142\n",
      "2143\n",
      "2144\n",
      "2145\n",
      "2146\n",
      "Error on loop AU=ERDEN ISMAIL\n",
      "2147\n",
      "2148\n",
      "2149\n",
      "2150\n",
      "2151\n",
      "2152\n",
      "2153\n",
      "2154\n",
      "2155\n",
      "2156\n",
      "2157\n",
      "2158\n",
      "2159\n",
      "2160\n",
      "2161\n",
      "2162\n",
      "2163\n",
      "2164\n",
      "2165\n",
      "2166\n",
      "2167\n",
      "2168\n",
      "2169\n",
      "2170\n",
      "2171\n",
      "2172\n",
      "2173\n",
      "2174\n",
      "2175\n",
      "2176\n",
      "2177\n",
      "2178\n",
      "2179\n",
      "2180\n",
      "2181\n",
      "2182\n",
      "2183\n",
      "2184\n",
      "2185\n",
      "2186\n",
      "2187\n",
      "2188\n",
      "2189\n",
      "2190\n",
      "2191\n",
      "2192\n",
      "2193\n",
      "2194\n",
      "2195\n",
      "2196\n",
      "2197\n",
      "2198\n",
      "2199\n",
      "2200\n",
      "2201\n",
      "2202\n",
      "2203\n",
      "2204\n",
      "2205\n",
      "2206\n",
      "2207\n",
      "2208\n",
      "2209\n",
      "2210\n",
      "2211\n",
      "2212\n",
      "2213\n",
      "2214\n",
      "2215\n",
      "2216\n",
      "2217\n",
      "2218\n",
      "2219\n",
      "2220\n",
      "2221\n",
      "2222\n",
      "2223\n",
      "2224\n",
      "2225\n",
      "2226\n",
      "2227\n",
      "2228\n",
      "2229\n",
      "2230\n",
      "2231\n",
      "2232\n",
      "2233\n",
      "2234\n",
      "2235\n",
      "2236\n",
      "2237\n",
      "2238\n",
      "2239\n",
      "2240\n",
      "2241\n",
      "2242\n",
      "2243\n",
      "2244\n",
      "2245\n",
      "2246\n",
      "2247\n",
      "2248\n",
      "2249\n",
      "2250\n",
      "2251\n",
      "2252\n",
      "2253\n",
      "2254\n",
      "2255\n",
      "Error on loop AU=KAYA AHMET\n",
      "2256\n",
      "2257\n",
      "2258\n",
      "2259\n",
      "2260\n",
      "2261\n",
      "2262\n",
      "2263\n",
      "2264\n",
      "2265\n",
      "2266\n",
      "2267\n",
      "2268\n",
      "2269\n",
      "2270\n",
      "2271\n",
      "2272\n",
      "2273\n",
      "2274\n",
      "2275\n",
      "2276\n",
      "2277\n",
      "2278\n",
      "2279\n",
      "2280\n",
      "2281\n",
      "2282\n",
      "2283\n",
      "2284\n",
      "2285\n",
      "2286\n",
      "2287\n",
      "2288\n",
      "2289\n",
      "2290\n",
      "2291\n",
      "2292\n",
      "2293\n",
      "2294\n",
      "2295\n",
      "2296\n",
      "2297\n",
      "2298\n",
      "2299\n",
      "2300\n",
      "2301\n",
      "2302\n",
      "2303\n",
      "2304\n",
      "2305\n",
      "2306\n",
      "2307\n",
      "2308\n",
      "2309\n",
      "2310\n",
      "2311\n",
      "2312\n",
      "2313\n",
      "2314\n",
      "2315\n",
      "2316\n",
      "2317\n",
      "2318\n",
      "2319\n",
      "2320\n",
      "2321\n",
      "2322\n",
      "2323\n",
      "2324\n",
      "2325\n",
      "2326\n",
      "2327\n",
      "2328\n",
      "2329\n",
      "2330\n",
      "2331\n",
      "Error on loop AU=SEVINC ALPER\n",
      "2332\n",
      "2333\n",
      "2334\n",
      "2335\n",
      "2336\n",
      "2337\n",
      "2338\n",
      "2339\n",
      "2340\n",
      "2341\n",
      "2342\n",
      "2343\n",
      "2344\n",
      "2345\n",
      "2346\n",
      "2347\n",
      "2348\n",
      "2349\n",
      "2350\n",
      "2351\n",
      "2352\n",
      "2353\n",
      "2354\n",
      "2355\n",
      "2356\n",
      "2357\n",
      "2358\n",
      "2359\n",
      "2360\n",
      "2361\n",
      "2362\n",
      "Error on loop AU=SEKER MEHMET\n",
      "2363\n",
      "2364\n"
     ]
    },
    {
     "name": "stderr",
     "output_type": "stream",
     "text": [
      "<suds.sax.document.Document object at 0x11356de48>\n"
     ]
    },
    {
     "name": "stdout",
     "output_type": "stream",
     "text": [
      "Error on loop AU=AYDOGAN HAKAN\n",
      "2365\n"
     ]
    },
    {
     "name": "stderr",
     "output_type": "stream",
     "text": [
      "<suds.sax.document.Document object at 0x11356da20>\n"
     ]
    },
    {
     "name": "stdout",
     "output_type": "stream",
     "text": [
      "Error on loop AU=ATIS MURAT\n",
      "2366\n"
     ]
    },
    {
     "name": "stderr",
     "output_type": "stream",
     "text": [
      "<suds.sax.document.Document object at 0x110207e80>\n"
     ]
    },
    {
     "name": "stdout",
     "output_type": "stream",
     "text": [
      "Error on loop AU=VAROL MUHARREM\n",
      "2367\n"
     ]
    },
    {
     "name": "stderr",
     "output_type": "stream",
     "text": [
      "<suds.sax.document.Document object at 0x1216184a8>\n"
     ]
    },
    {
     "name": "stdout",
     "output_type": "stream",
     "text": [
      "Error on loop AU=YUKSEKKAYA MEHMET\n",
      "2368\n"
     ]
    },
    {
     "name": "stderr",
     "output_type": "stream",
     "text": [
      "<suds.sax.document.Document object at 0x12185d390>\n"
     ]
    },
    {
     "name": "stdout",
     "output_type": "stream",
     "text": [
      "Error on loop AU=KARAKUS EMRE\n",
      "2369\n"
     ]
    },
    {
     "name": "stderr",
     "output_type": "stream",
     "text": [
      "<suds.sax.document.Document object at 0x12185d828>\n"
     ]
    },
    {
     "name": "stdout",
     "output_type": "stream",
     "text": [
      "Error on loop AU=ATAR MURAT\n",
      "2370\n"
     ]
    },
    {
     "name": "stderr",
     "output_type": "stream",
     "text": [
      "<suds.sax.document.Document object at 0x1228cc518>\n"
     ]
    },
    {
     "name": "stdout",
     "output_type": "stream",
     "text": [
      "Error on loop AU=DOGAN MURAT\n",
      "2371\n"
     ]
    },
    {
     "name": "stderr",
     "output_type": "stream",
     "text": [
      "<suds.sax.document.Document object at 0x113dd80b8>\n"
     ]
    },
    {
     "name": "stdout",
     "output_type": "stream",
     "text": [
      "Error on loop AU=ERDOGAN IBRAHIM\n",
      "2372\n"
     ]
    },
    {
     "name": "stderr",
     "output_type": "stream",
     "text": [
      "<suds.sax.document.Document object at 0x113dd8b70>\n"
     ]
    },
    {
     "name": "stdout",
     "output_type": "stream",
     "text": [
      "Error on loop AU=KORKMAZ HUSEYIN\n",
      "2373\n"
     ]
    },
    {
     "name": "stderr",
     "output_type": "stream",
     "text": [
      "<suds.sax.document.Document object at 0x123e43630>\n"
     ]
    },
    {
     "name": "stdout",
     "output_type": "stream",
     "text": [
      "Error on loop AU=SUCAKLI MUSTAFA\n",
      "2374\n"
     ]
    },
    {
     "name": "stderr",
     "output_type": "stream",
     "text": [
      "<suds.sax.document.Document object at 0x112ba2940>\n"
     ]
    },
    {
     "name": "stdout",
     "output_type": "stream",
     "text": [
      "Error on loop AU=AKCAY SALAHEDDIN\n",
      "2375\n"
     ]
    },
    {
     "name": "stderr",
     "output_type": "stream",
     "text": [
      "<suds.sax.document.Document object at 0x112ca96a0>\n"
     ]
    },
    {
     "name": "stdout",
     "output_type": "stream",
     "text": [
      "Error on loop AU=CIRAK BAYRAM\n",
      "2376\n"
     ]
    },
    {
     "name": "stderr",
     "output_type": "stream",
     "text": [
      "<suds.sax.document.Document object at 0x1228cc5f8>\n"
     ]
    },
    {
     "name": "stdout",
     "output_type": "stream",
     "text": [
      "Error on loop AU=AYKUT SEREF\n",
      "2377\n"
     ]
    },
    {
     "name": "stderr",
     "output_type": "stream",
     "text": [
      "<suds.sax.document.Document object at 0x114ded588>\n"
     ]
    },
    {
     "name": "stdout",
     "output_type": "stream",
     "text": [
      "Error on loop AU=ORMAN CENGIZ\n",
      "2378\n"
     ]
    },
    {
     "name": "stderr",
     "output_type": "stream",
     "text": [
      "<suds.sax.document.Document object at 0x114dedbe0>\n"
     ]
    },
    {
     "name": "stdout",
     "output_type": "stream",
     "text": [
      "Error on loop AU=SONMEZ IBRAHIM\n",
      "2379\n"
     ]
    },
    {
     "name": "stderr",
     "output_type": "stream",
     "text": [
      "<suds.sax.document.Document object at 0x123e43dd8>\n"
     ]
    },
    {
     "name": "stdout",
     "output_type": "stream",
     "text": [
      "Error on loop AU=YASITLI NAZMI\n",
      "2380\n"
     ]
    },
    {
     "name": "stderr",
     "output_type": "stream",
     "text": [
      "<suds.sax.document.Document object at 0x121193d30>\n"
     ]
    },
    {
     "name": "stdout",
     "output_type": "stream",
     "text": [
      "Error on loop AU=USLU TURAN\n",
      "2381\n"
     ]
    },
    {
     "name": "stderr",
     "output_type": "stream",
     "text": [
      "<suds.sax.document.Document object at 0x112ca9588>\n"
     ]
    },
    {
     "name": "stdout",
     "output_type": "stream",
     "text": [
      "Error on loop AU=SUNBUL ALI\n",
      "2382\n"
     ]
    },
    {
     "name": "stderr",
     "output_type": "stream",
     "text": [
      "<suds.sax.document.Document object at 0x1228ccd68>\n"
     ]
    },
    {
     "name": "stdout",
     "output_type": "stream",
     "text": [
      "Error on loop AU=MOTOR VICDAN\n",
      "2383\n"
     ]
    },
    {
     "name": "stderr",
     "output_type": "stream",
     "text": [
      "<suds.sax.document.Document object at 0x1205655c0>\n"
     ]
    },
    {
     "name": "stdout",
     "output_type": "stream",
     "text": [
      "Error on loop AU=CIRAK IFFET\n",
      "2384\n"
     ]
    },
    {
     "name": "stderr",
     "output_type": "stream",
     "text": [
      "<suds.sax.document.Document object at 0x113dd8198>\n"
     ]
    },
    {
     "name": "stdout",
     "output_type": "stream",
     "text": [
      "Error on loop AU=UCAK HAYDAR\n",
      "2385\n"
     ]
    },
    {
     "name": "stderr",
     "output_type": "stream",
     "text": [
      "<suds.sax.document.Document object at 0x123e434a8>\n"
     ]
    },
    {
     "name": "stdout",
     "output_type": "stream",
     "text": [
      "Error on loop AU=KUZPINARI TUFAN\n",
      "2386\n"
     ]
    },
    {
     "name": "stderr",
     "output_type": "stream",
     "text": [
      "<suds.sax.document.Document object at 0x112ca9e48>\n"
     ]
    },
    {
     "name": "stdout",
     "output_type": "stream",
     "text": [
      "Error on loop AU=KARA CEMIL\n",
      "2387\n"
     ]
    },
    {
     "name": "stderr",
     "output_type": "stream",
     "text": [
      "<suds.sax.document.Document object at 0x120593c50>\n"
     ]
    },
    {
     "name": "stdout",
     "output_type": "stream",
     "text": [
      "Error on loop AU=TELLIOGLU AYDA\n",
      "2388\n"
     ]
    },
    {
     "name": "stderr",
     "output_type": "stream",
     "text": [
      "<suds.sax.document.Document object at 0x1228ccdd8>\n"
     ]
    },
    {
     "name": "stdout",
     "output_type": "stream",
     "text": [
      "Error on loop AU=YILDIRIM YAKUP\n",
      "2389\n"
     ]
    },
    {
     "name": "stderr",
     "output_type": "stream",
     "text": [
      "<suds.sax.document.Document object at 0x1204485c0>\n"
     ]
    },
    {
     "name": "stdout",
     "output_type": "stream",
     "text": [
      "Error on loop AU=YAZILITAS NIHAT\n",
      "2390\n"
     ]
    },
    {
     "name": "stderr",
     "output_type": "stream",
     "text": [
      "<suds.sax.document.Document object at 0x1204489b0>\n"
     ]
    },
    {
     "name": "stdout",
     "output_type": "stream",
     "text": [
      "Error on loop AU=CINAL ADNAN\n",
      "2391\n"
     ]
    },
    {
     "name": "stderr",
     "output_type": "stream",
     "text": [
      "<suds.sax.document.Document object at 0x123e43a58>\n"
     ]
    },
    {
     "name": "stdout",
     "output_type": "stream",
     "text": [
      "Error on loop AU=BASOREN MEHMET\n",
      "2392\n"
     ]
    },
    {
     "name": "stderr",
     "output_type": "stream",
     "text": [
      "<suds.sax.document.Document object at 0x121193588>\n"
     ]
    },
    {
     "name": "stdout",
     "output_type": "stream",
     "text": [
      "Error on loop AU=OZTURK ISMET\n",
      "2393\n"
     ]
    },
    {
     "name": "stderr",
     "output_type": "stream",
     "text": [
      "<suds.sax.document.Document object at 0x121193198>\n"
     ]
    },
    {
     "name": "stdout",
     "output_type": "stream",
     "text": [
      "Error on loop AU=ISIK YUKSEL\n",
      "2394\n"
     ]
    },
    {
     "name": "stderr",
     "output_type": "stream",
     "text": [
      "<suds.sax.document.Document object at 0x1228cc518>\n"
     ]
    },
    {
     "name": "stdout",
     "output_type": "stream",
     "text": [
      "Error on loop AU=DIKMEN ALAATTIN\n",
      "2395\n"
     ]
    },
    {
     "name": "stderr",
     "output_type": "stream",
     "text": [
      "<suds.sax.document.Document object at 0x1203f13c8>\n"
     ]
    },
    {
     "name": "stdout",
     "output_type": "stream",
     "text": [
      "Error on loop AU=ALPAY SAVAS\n",
      "2396\n"
     ]
    },
    {
     "name": "stderr",
     "output_type": "stream",
     "text": [
      "<suds.sax.document.Document object at 0x11356de48>\n"
     ]
    },
    {
     "name": "stdout",
     "output_type": "stream",
     "text": [
      "Error on loop AU=ARPACI OZGUR\n",
      "2397\n"
     ]
    },
    {
     "name": "stderr",
     "output_type": "stream",
     "text": [
      "<suds.sax.document.Document object at 0x123e43320>\n"
     ]
    },
    {
     "name": "stdout",
     "output_type": "stream",
     "text": [
      "Error on loop AU=FIDAN FATMA\n",
      "2398\n"
     ]
    },
    {
     "name": "stderr",
     "output_type": "stream",
     "text": [
      "<suds.sax.document.Document object at 0x1205659e8>\n"
     ]
    },
    {
     "name": "stdout",
     "output_type": "stream",
     "text": [
      "Error on loop AU=INCI ZERIFE\n",
      "2399\n"
     ]
    },
    {
     "name": "stderr",
     "output_type": "stream",
     "text": [
      "<suds.sax.document.Document object at 0x1202ed2b0>\n"
     ]
    },
    {
     "name": "stdout",
     "output_type": "stream",
     "text": [
      "Error on loop AU=ERDOGAN HASAN\n",
      "2400\n",
      "Authenticated (SID: E5sZPR19oC8YumA8bJE)\n",
      "2401\n",
      "2402\n",
      "2403\n",
      "2404\n",
      "2405\n",
      "2406\n",
      "2407\n",
      "2408\n",
      "2409\n",
      "2410\n",
      "2411\n",
      "2412\n",
      "2413\n",
      "2414\n",
      "2415\n",
      "2416\n",
      "2417\n",
      "2418\n",
      "2419\n",
      "2420\n",
      "2421\n",
      "2422\n",
      "2423\n",
      "2424\n",
      "2425\n",
      "2426\n",
      "2427\n",
      "2428\n",
      "2429\n",
      "2430\n",
      "2431\n",
      "2432\n",
      "2433\n",
      "2434\n",
      "2435\n",
      "Error on loop AU=KUVAT SAMET\n",
      "2436\n",
      "2437\n",
      "2438\n",
      "2439\n",
      "2440\n",
      "2441\n",
      "2442\n",
      "2443\n",
      "2444\n",
      "2445\n",
      "2446\n",
      "2447\n",
      "2448\n",
      "2449\n",
      "2450\n",
      "2451\n",
      "2452\n",
      "2453\n",
      "2454\n",
      "2455\n",
      "2456\n",
      "2457\n",
      "2458\n",
      "2459\n",
      "2460\n",
      "2461\n",
      "2462\n",
      "2463\n",
      "2464\n",
      "2465\n",
      "2466\n",
      "2467\n",
      "2468\n",
      "2469\n",
      "2470\n",
      "2471\n",
      "2472\n",
      "2473\n",
      "2474\n",
      "2475\n",
      "2476\n",
      "2477\n",
      "2478\n",
      "2479\n",
      "2480\n",
      "2481\n",
      "2482\n",
      "2483\n",
      "2484\n",
      "2485\n",
      "2486\n",
      "2487\n",
      "2488\n",
      "2489\n",
      "2490\n",
      "2491\n",
      "2492\n",
      "2493\n",
      "2494\n",
      "2495\n",
      "2496\n",
      "2497\n",
      "2498\n",
      "2499\n",
      "2500\n",
      "2501\n",
      "2502\n",
      "2503\n",
      "2504\n",
      "2505\n",
      "2506\n",
      "2507\n",
      "2508\n",
      "2509\n",
      "2510\n",
      "2511\n",
      "2512\n",
      "2513\n",
      "2514\n",
      "2515\n",
      "2516\n",
      "2517\n",
      "2518\n",
      "2519\n",
      "2520\n",
      "2521\n",
      "2522\n",
      "2523\n",
      "2524\n",
      "2525\n",
      "2526\n",
      "2527\n",
      "2528\n",
      "2529\n",
      "2530\n",
      "2531\n",
      "2532\n",
      "2533\n",
      "2534\n",
      "2535\n",
      "2536\n",
      "2537\n",
      "2538\n",
      "2539\n",
      "2540\n",
      "2541\n",
      "2542\n",
      "2543\n",
      "2544\n",
      "2545\n",
      "2546\n",
      "2547\n",
      "2548\n",
      "2549\n",
      "2550\n",
      "2551\n",
      "2552\n",
      "2553\n",
      "2554\n",
      "2555\n",
      "2556\n",
      "2557\n",
      "2558\n",
      "2559\n",
      "2560\n",
      "2561\n",
      "2562\n",
      "2563\n",
      "Error on loop AU=YILDIZ RAMAZAN\n",
      "2564\n",
      "2565\n",
      "2566\n",
      "2567\n",
      "2568\n",
      "2569\n",
      "2570\n",
      "2571\n",
      "2572\n",
      "2573\n",
      "2574\n",
      "2575\n",
      "2576\n",
      "2577\n",
      "2578\n",
      "2579\n",
      "2580\n",
      "2581\n",
      "2582\n",
      "2583\n",
      "2584\n",
      "2585\n",
      "2586\n",
      "2587\n",
      "2588\n",
      "2589\n",
      "2590\n",
      "2591\n",
      "2592\n",
      "2593\n",
      "Error on loop AU=ALTINTAS AHMET\n",
      "2594\n",
      "2595\n",
      "2596\n",
      "2597\n",
      "2598\n",
      "Error on loop AU=YAMAN HAKAN\n",
      "2599\n",
      "2600\n",
      "2601\n",
      "2602\n",
      "2603\n",
      "2604\n",
      "2605\n",
      "2606\n",
      "2607\n",
      "2608\n",
      "2609\n",
      "2610\n",
      "2611\n",
      "2612\n",
      "2613\n",
      "2614\n",
      "2615\n",
      "2616\n",
      "2617\n",
      "2618\n",
      "2619\n",
      "2620\n",
      "2621\n",
      "2622\n",
      "2623\n",
      "2624\n",
      "2625\n",
      "2626\n",
      "2627\n",
      "2628\n",
      "2629\n",
      "2630\n",
      "2631\n",
      "2632\n",
      "2633\n",
      "2634\n",
      "2635\n",
      "2636\n",
      "2637\n",
      "2638\n",
      "2639\n",
      "2640\n",
      "2641\n",
      "2642\n",
      "2643\n",
      "2644\n",
      "2645\n",
      "2646\n",
      "2647\n",
      "2648\n",
      "2649\n",
      "2650\n",
      "2651\n",
      "2652\n",
      "2653\n",
      "2654\n",
      "2655\n",
      "2656\n",
      "2657\n",
      "2658\n",
      "2659\n",
      "2660\n",
      "2661\n",
      "2662\n",
      "2663\n",
      "2664\n",
      "2665\n",
      "2666\n",
      "2667\n",
      "2668\n",
      "2669\n",
      "2670\n",
      "2671\n",
      "2672\n",
      "2673\n",
      "2674\n",
      "2675\n",
      "2676\n",
      "2677\n",
      "2678\n",
      "2679\n",
      "2680\n",
      "2681\n",
      "2682\n",
      "2683\n",
      "2684\n",
      "2685\n",
      "2686\n",
      "2687\n",
      "2688\n",
      "2689\n",
      "2690\n",
      "2691\n",
      "2692\n",
      "2693\n",
      "2694\n",
      "2695\n",
      "2696\n",
      "2697\n",
      "2698\n",
      "2699\n",
      "2700\n",
      "2701\n",
      "2702\n",
      "2703\n",
      "2704\n",
      "2705\n",
      "2706\n",
      "2707\n",
      "2708\n",
      "2709\n",
      "2710\n",
      "2711\n",
      "2712\n",
      "2713\n",
      "2714\n",
      "2715\n",
      "2716\n",
      "2717\n",
      "2718\n",
      "2719\n",
      "2720\n",
      "2721\n",
      "2722\n",
      "2723\n",
      "2724\n",
      "2725\n",
      "2726\n",
      "2727\n",
      "2728\n",
      "2729\n",
      "2730\n",
      "2731\n",
      "2732\n",
      "2733\n",
      "2734\n",
      "2735\n",
      "2736\n",
      "2737\n",
      "2738\n",
      "2739\n",
      "2740\n",
      "2741\n",
      "2742\n",
      "2743\n",
      "2744\n",
      "2745\n",
      "2746\n",
      "2747\n",
      "2748\n",
      "2749\n",
      "2750\n",
      "2751\n",
      "2752\n",
      "2753\n",
      "2754\n",
      "2755\n",
      "2756\n",
      "2757\n",
      "2758\n",
      "2759\n",
      "2760\n",
      "2761\n",
      "2762\n",
      "2763\n",
      "2764\n",
      "2765\n",
      "2766\n",
      "2767\n",
      "2768\n",
      "2769\n",
      "2770\n",
      "2771\n",
      "2772\n",
      "2773\n",
      "2774\n",
      "2775\n",
      "2776\n",
      "2777\n",
      "2778\n",
      "2779\n",
      "2780\n",
      "2781\n",
      "2782\n",
      "2783\n",
      "2784\n",
      "2785\n",
      "Error on loop AU=SANAL BEKIR\n",
      "2786\n",
      "2787\n",
      "2788\n",
      "2789\n",
      "2790\n",
      "2791\n",
      "2792\n",
      "2793\n",
      "2794\n",
      "2795\n",
      "2796\n",
      "2797\n",
      "2798\n",
      "2799\n",
      "2800\n",
      "2801\n",
      "2802\n",
      "2803\n",
      "2804\n",
      "2805\n",
      "2806\n",
      "2807\n",
      "2808\n",
      "2809\n",
      "2810\n",
      "2811\n",
      "2812\n",
      "2813\n",
      "2814\n",
      "2815\n",
      "2816\n",
      "2817\n",
      "2818\n",
      "2819\n",
      "2820\n",
      "2821\n",
      "Error on loop AU=ERDOGAN UTKU\n",
      "2822\n",
      "2823\n",
      "2824\n",
      "2825\n",
      "2826\n",
      "2827\n",
      "2828\n",
      "2829\n",
      "2830\n",
      "2831\n",
      "2832\n",
      "2833\n",
      "2834\n",
      "2835\n",
      "2836\n",
      "2837\n",
      "2838\n",
      "2839\n",
      "2840\n",
      "2841\n",
      "2842\n",
      "2843\n",
      "2844\n",
      "2845\n",
      "2846\n",
      "2847\n",
      "2848\n",
      "2849\n",
      "2850\n",
      "2851\n",
      "2852\n",
      "2853\n",
      "2854\n",
      "2855\n",
      "2856\n",
      "2857\n",
      "2858\n",
      "2859\n",
      "2860\n",
      "2861\n",
      "2862\n",
      "2863\n",
      "2864\n",
      "2865\n",
      "2866\n",
      "2867\n",
      "2868\n",
      "2869\n",
      "2870\n",
      "2871\n",
      "2872\n",
      "2873\n",
      "2874\n",
      "2875\n",
      "2876\n",
      "2877\n",
      "2878\n",
      "2879\n",
      "2880\n",
      "2881\n",
      "2882\n",
      "2883\n",
      "2884\n",
      "2885\n",
      "2886\n",
      "2887\n",
      "2888\n",
      "2889\n",
      "2890\n",
      "Error on loop AU=UNLU ERHAN\n",
      "2891\n",
      "2892\n",
      "2893\n",
      "2894\n",
      "2895\n",
      "2896\n",
      "2897\n",
      "2898\n",
      "2899\n",
      "2900\n",
      "Error on loop AU=OZTURK ESRA\n",
      "2901\n",
      "2902\n",
      "2903\n",
      "2904\n",
      "2905\n",
      "2906\n",
      "2907\n",
      "2908\n",
      "2909\n",
      "2910\n",
      "2911\n",
      "2912\n",
      "2913\n",
      "2914\n",
      "2915\n",
      "2916\n",
      "2917\n",
      "2918\n",
      "2919\n",
      "2920\n",
      "2921\n",
      "2922\n",
      "2923\n",
      "2924\n",
      "2925\n",
      "2926\n",
      "2927\n",
      "2928\n",
      "2929\n",
      "2930\n",
      "2931\n",
      "2932\n",
      "2933\n",
      "2934\n",
      "2935\n",
      "2936\n",
      "2937\n",
      "2938\n",
      "2939\n",
      "2940\n",
      "2941\n",
      "2942\n",
      "2943\n",
      "2944\n",
      "2945\n",
      "2946\n",
      "2947\n",
      "2948\n",
      "2949\n",
      "2950\n",
      "2951\n",
      "2952\n",
      "2953\n",
      "2954\n",
      "2955\n",
      "2956\n",
      "2957\n",
      "2958\n",
      "2959\n",
      "2960\n",
      "2961\n",
      "Error on loop AU=YILDIRIM AHMET\n",
      "2962\n",
      "2963\n",
      "2964\n",
      "2965\n",
      "2966\n",
      "2967\n",
      "2968\n",
      "2969\n",
      "2970\n",
      "2971\n",
      "2972\n",
      "2973\n",
      "2974\n",
      "2975\n",
      "2976\n",
      "2977\n",
      "2978\n",
      "2979\n",
      "2980\n",
      "2981\n",
      "Error on loop AU=KAYA ASLI\n",
      "2982\n",
      "2983\n",
      "2984\n",
      "2985\n",
      "2986\n",
      "2987\n",
      "2988\n",
      "2989\n",
      "2990\n",
      "2991\n",
      "2992\n",
      "2993\n",
      "2994\n",
      "2995\n",
      "2996\n",
      "2997\n",
      "2998\n",
      "2999\n",
      "3000\n",
      "3001\n",
      "3002\n",
      "3003\n",
      "3004\n",
      "3005\n",
      "3006\n",
      "3007\n",
      "3008\n",
      "3009\n",
      "3010\n",
      "3011\n",
      "3012\n",
      "3013\n",
      "3014\n",
      "3015\n",
      "3016\n",
      "3017\n",
      "3018\n",
      "3019\n",
      "3020\n",
      "3021\n",
      "3022\n",
      "Error on loop AU=AKAR ENGIN\n",
      "3023\n",
      "3024\n",
      "3025\n",
      "3026\n",
      "3027\n",
      "3028\n",
      "3029\n",
      "3030\n",
      "3031\n",
      "3032\n",
      "3033\n",
      "3034\n",
      "3035\n",
      "3036\n",
      "3037\n",
      "3038\n",
      "3039\n",
      "3040\n",
      "3041\n",
      "3042\n",
      "3043\n",
      "3044\n",
      "3045\n",
      "3046\n",
      "3047\n",
      "3048\n",
      "3049\n",
      "3050\n",
      "3051\n",
      "3052\n",
      "3053\n",
      "3054\n",
      "3055\n",
      "3056\n",
      "3057\n",
      "3058\n",
      "3059\n",
      "3060\n",
      "3061\n",
      "3062\n",
      "3063\n",
      "3064\n",
      "3065\n",
      "3066\n",
      "3067\n",
      "3068\n",
      "3069\n",
      "3070\n",
      "3071\n",
      "3072\n",
      "3073\n",
      "3074\n",
      "3075\n",
      "3076\n",
      "3077\n",
      "3078\n",
      "3079\n",
      "3080\n",
      "3081\n",
      "3082\n",
      "3083\n",
      "3084\n",
      "3085\n",
      "3086\n",
      "3087\n",
      "3088\n",
      "3089\n",
      "3090\n",
      "3091\n",
      "3092\n",
      "3093\n",
      "3094\n",
      "3095\n",
      "3096\n",
      "3097\n",
      "3098\n",
      "3099\n",
      "3100\n",
      "3101\n",
      "3102\n",
      "3103\n",
      "3104\n",
      "3105\n",
      "3106\n",
      "3107\n",
      "3108\n",
      "3109\n",
      "3110\n",
      "3111\n",
      "3112\n",
      "3113\n",
      "3114\n",
      "3115\n",
      "3116\n",
      "3117\n",
      "3118\n",
      "3119\n",
      "3120\n",
      "3121\n",
      "3122\n",
      "3123\n",
      "3124\n",
      "3125\n",
      "3126\n",
      "3127\n",
      "3128\n",
      "3129\n",
      "3130\n",
      "3131\n",
      "3132\n",
      "3133\n",
      "3134\n",
      "3135\n",
      "3136\n",
      "3137\n",
      "3138\n",
      "3139\n",
      "3140\n",
      "3141\n",
      "3142\n",
      "3143\n",
      "3144\n",
      "3145\n",
      "3146\n",
      "3147\n",
      "3148\n",
      "3149\n",
      "3150\n",
      "3151\n",
      "3152\n",
      "3153\n",
      "3154\n",
      "3155\n",
      "3156\n",
      "3157\n",
      "3158\n",
      "Error on loop AU=ASLAN BULENT\n",
      "3159\n",
      "3160\n",
      "3161\n",
      "3162\n",
      "3163\n",
      "3164\n",
      "3165\n",
      "3166\n",
      "3167\n",
      "3168\n",
      "3169\n",
      "Error on loop AU=DOGAN ABDULLAH\n",
      "3170\n",
      "3171\n",
      "3172\n",
      "3173\n",
      "3174\n",
      "3175\n",
      "3176\n",
      "3177\n",
      "3178\n",
      "3179\n",
      "3180\n",
      "3181\n",
      "3182\n",
      "3183\n",
      "3184\n",
      "3185\n",
      "3186\n",
      "3187\n",
      "3188\n",
      "3189\n",
      "3190\n",
      "3191\n",
      "3192\n",
      "3193\n",
      "3194\n",
      "3195\n",
      "3196\n",
      "3197\n",
      "3198\n",
      "3199\n",
      "3200\n",
      "3201\n",
      "3202\n",
      "3203\n",
      "3204\n",
      "3205\n",
      "3206\n",
      "3207\n",
      "3208\n",
      "3209\n",
      "3210\n",
      "3211\n",
      "3212\n",
      "3213\n",
      "3214\n",
      "3215\n",
      "3216\n",
      "3217\n",
      "3218\n",
      "3219\n",
      "3220\n",
      "3221\n",
      "3222\n",
      "3223\n",
      "3224\n",
      "3225\n",
      "3226\n",
      "3227\n",
      "3228\n",
      "Error on loop AU=DAMAR MURAT\n",
      "3229\n",
      "3230\n",
      "3231\n",
      "3232\n",
      "3233\n",
      "3234\n",
      "3235\n",
      "3236\n",
      "3237\n",
      "3238\n",
      "3239\n",
      "3240\n",
      "3241\n",
      "3242\n",
      "3243\n",
      "3244\n",
      "3245\n",
      "3246\n",
      "3247\n",
      "3248\n",
      "3249\n",
      "3250\n",
      "3251\n",
      "3252\n",
      "3253\n",
      "3254\n",
      "3255\n",
      "3256\n",
      "3257\n",
      "3258\n",
      "3259\n",
      "3260\n",
      "3261\n",
      "3262\n",
      "3263\n",
      "3264\n",
      "3265\n",
      "3266\n",
      "3267\n",
      "3268\n",
      "3269\n",
      "3270\n",
      "3271\n",
      "3272\n",
      "3273\n",
      "3274\n",
      "3275\n",
      "3276\n",
      "3277\n",
      "3278\n",
      "3279\n",
      "3280\n",
      "3281\n",
      "3282\n",
      "3283\n",
      "3284\n",
      "3285\n",
      "3286\n",
      "3287\n",
      "3288\n",
      "3289\n",
      "Error on loop AU=ACIKGOZ IRFAN\n",
      "3290\n",
      "3291\n",
      "3292\n",
      "3293\n",
      "3294\n",
      "3295\n",
      "3296\n",
      "3297\n",
      "3298\n",
      "3299\n",
      "3300\n",
      "3301\n",
      "3302\n",
      "3303\n",
      "3304\n",
      "3305\n",
      "3306\n",
      "3307\n",
      "3308\n",
      "3309\n",
      "3310\n",
      "3311\n",
      "3312\n",
      "3313\n",
      "3314\n",
      "3315\n",
      "3316\n",
      "3317\n",
      "3318\n",
      "3319\n",
      "3320\n",
      "3321\n",
      "3322\n",
      "3323\n",
      "3324\n",
      "3325\n",
      "3326\n",
      "3327\n",
      "3328\n",
      "3329\n",
      "3330\n",
      "3331\n",
      "3332\n",
      "3333\n",
      "3334\n",
      "3335\n",
      "3336\n",
      "3337\n",
      "3338\n",
      "3339\n",
      "3340\n",
      "3341\n",
      "3342\n",
      "3343\n",
      "3344\n",
      "3345\n",
      "3346\n",
      "3347\n",
      "3348\n",
      "3349\n",
      "3350\n",
      "3351\n",
      "3352\n",
      "3353\n",
      "3354\n",
      "3355\n",
      "3356\n",
      "3357\n",
      "3358\n",
      "3359\n",
      "3360\n",
      "3361\n",
      "3362\n",
      "3363\n",
      "3364\n",
      "3365\n",
      "3366\n",
      "3367\n",
      "3368\n",
      "3369\n",
      "3370\n",
      "3371\n",
      "3372\n",
      "3373\n",
      "3374\n",
      "3375\n",
      "3376\n",
      "3377\n",
      "3378\n",
      "3379\n",
      "3380\n",
      "3381\n",
      "3382\n",
      "3383\n",
      "3384\n",
      "3385\n",
      "3386\n",
      "3387\n",
      "3388\n",
      "3389\n",
      "3390\n",
      "3391\n",
      "3392\n",
      "3393\n",
      "3394\n",
      "3395\n",
      "Error on loop AU=CELIK MUSTAFA\n",
      "3396\n",
      "3397\n",
      "3398\n",
      "3399\n",
      "3400\n",
      "3401\n",
      "3402\n",
      "3403\n",
      "3404\n",
      "3405\n",
      "3406\n",
      "3407\n",
      "3408\n",
      "3409\n",
      "3410\n",
      "3411\n",
      "3412\n",
      "3413\n",
      "3414\n",
      "3415\n",
      "3416\n",
      "Error on loop AU=TEKPINAR MUSTAFA\n",
      "3417\n",
      "3418\n",
      "3419\n",
      "3420\n",
      "3421\n",
      "3422\n",
      "3423\n",
      "3424\n",
      "3425\n",
      "3426\n",
      "3427\n",
      "3428\n",
      "3429\n",
      "3430\n",
      "3431\n",
      "3432\n",
      "3433\n",
      "3434\n",
      "3435\n",
      "3436\n",
      "3437\n",
      "3438\n",
      "3439\n",
      "3440\n",
      "3441\n",
      "3442\n",
      "3443\n",
      "3444\n",
      "3445\n",
      "3446\n",
      "3447\n",
      "3448\n",
      "3449\n",
      "3450\n",
      "3451\n",
      "3452\n",
      "3453\n",
      "3454\n",
      "3455\n",
      "3456\n",
      "3457\n",
      "3458\n",
      "3459\n",
      "3460\n",
      "3461\n",
      "3462\n",
      "3463\n",
      "3464\n",
      "3465\n",
      "3466\n",
      "3467\n",
      "3468\n",
      "3469\n",
      "3470\n",
      "3471\n",
      "3472\n",
      "3473\n",
      "3474\n",
      "3475\n",
      "3476\n",
      "3477\n",
      "3478\n",
      "3479\n",
      "3480\n",
      "3481\n",
      "3482\n",
      "3483\n",
      "3484\n",
      "3485\n",
      "3486\n",
      "3487\n",
      "3488\n",
      "3489\n",
      "3490\n",
      "3491\n",
      "3492\n",
      "3493\n",
      "3494\n",
      "3495\n",
      "3496\n",
      "3497\n",
      "3498\n",
      "3499\n",
      "3500\n",
      "3501\n",
      "3502\n",
      "3503\n",
      "3504\n",
      "3505\n",
      "3506\n",
      "3507\n",
      "3508\n",
      "3509\n",
      "3510\n",
      "3511\n",
      "3512\n",
      "3513\n",
      "3514\n",
      "3515\n",
      "3516\n",
      "3517\n",
      "3518\n",
      "3519\n",
      "3520\n",
      "3521\n",
      "3522\n",
      "3523\n",
      "3524\n",
      "3525\n",
      "3526\n",
      "3527\n",
      "3528\n",
      "3529\n",
      "3530\n",
      "3531\n",
      "Error on loop AU=BISKIN SULTAN\n",
      "3532\n",
      "3533\n",
      "3534\n",
      "3535\n",
      "3536\n",
      "3537\n",
      "3538\n",
      "3539\n",
      "3540\n",
      "3541\n",
      "3542\n",
      "3543\n",
      "3544\n",
      "3545\n",
      "3546\n",
      "3547\n",
      "3548\n",
      "3549\n",
      "3550\n",
      "3551\n",
      "3552\n",
      "3553\n",
      "3554\n",
      "3555\n",
      "3556\n",
      "3557\n",
      "3558\n",
      "3559\n",
      "3560\n",
      "3561\n",
      "3562\n",
      "3563\n",
      "3564\n",
      "3565\n",
      "3566\n",
      "3567\n",
      "3568\n",
      "3569\n",
      "3570\n",
      "3571\n",
      "3572\n",
      "3573\n",
      "3574\n"
     ]
    }
   ],
   "source": [
    "dismissed_dataset = pd.DataFrame()\n",
    "for i in range(len(df)):\n",
    "    try:\n",
    "        print(i)\n",
    "        if i == 2400: # WOS constraints that each ID can only search for 2500 times. Just set smaller counts to renew the ID.\n",
    "            soap = WosClient(user= 'SWISS10_reproj', password= 'Welcome#10 ', lite=False)\n",
    "            soap.connect()\n",
    "        QueryString = searchnames_dismiss_auths_query[i]\n",
    "        results = pub_of_author(QueryString)\n",
    "        time.sleep(0.5)\n",
    "        Soup = BeautifulSoup(results.records,'lxml')\n",
    "        dataset = construct_dataset(Soup,searchnames_dismiss_auths[i])\n",
    "        dismissed_dataset=dismissed_dataset.append(dataset,ignore_index=True)\n",
    "        #auth = auth.append(authors,ignore_index=True)\n",
    "    except:\n",
    "        print('Error on loop',QueryString)"
   ]
  },
  {
   "cell_type": "code",
   "execution_count": 22,
   "metadata": {},
   "outputs": [],
   "source": [
    "#dismissed_dataset.organisation.apply(pd.Series)\n",
    "dismissed_dataset.organisation.apply(pd.Series).merge(dismissed_dataset, left_index = True, right_index = True)"
   ]
  },
  {
   "cell_type": "code",
   "execution_count": 36,
   "metadata": {},
   "outputs": [],
   "source": [
    "dismissed = dismissed_dataset.organisation.apply(pd.Series) \\\n",
    "    .merge(dismissed_dataset, right_index = True, left_index = True) \\\n",
    "    .drop([\"organisation\"], axis = 1) \\\n",
    "    .melt(id_vars = ['abstract', 'author','co-authors','headings','keywords','publish_date','pubtype','source','title'], value_name = \"organisation\") \\\n",
    "    .drop(\"variable\", axis = 1)\\\n",
    "    .dropna()"
   ]
  },
  {
   "cell_type": "code",
   "execution_count": 37,
   "metadata": {},
   "outputs": [],
   "source": [
    "#auth.organisation\n",
    "result = pd.merge(df, dismissed, how='left', on=['organisation'])"
   ]
  },
  {
   "cell_type": "code",
   "execution_count": 41,
   "metadata": {},
   "outputs": [],
   "source": [
    "R = result[result.Authors==result.author]"
   ]
  },
  {
   "cell_type": "code",
   "execution_count": 42,
   "metadata": {},
   "outputs": [
    {
     "data": {
      "text/plain": [
       "28830"
      ]
     },
     "execution_count": 42,
     "metadata": {},
     "output_type": "execute_result"
    }
   ],
   "source": [
    "len(R)"
   ]
  },
  {
   "cell_type": "code",
   "execution_count": 60,
   "metadata": {},
   "outputs": [],
   "source": [
    "R.to_csv('../data/DISMISSED_final.csv')"
   ]
  },
  {
   "cell_type": "code",
   "execution_count": 5,
   "metadata": {},
   "outputs": [],
   "source": [
    "dismissed_pd = pd.read_csv('../data/DISMISSED_final.csv')"
   ]
  },
  {
   "cell_type": "code",
   "execution_count": 25,
   "metadata": {},
   "outputs": [],
   "source": [
    "dismissed_pd['labels'] = np.ones(len(dismissed_pd))"
   ]
  },
  {
   "cell_type": "code",
   "execution_count": 27,
   "metadata": {},
   "outputs": [],
   "source": [
    "dismissed_pd.to_csv('../data/DISMISSED_final.csv')"
   ]
  },
  {
   "cell_type": "code",
   "execution_count": 28,
   "metadata": {},
   "outputs": [
    {
     "data": {
      "text/plain": [
       "28830"
      ]
     },
     "execution_count": 28,
     "metadata": {},
     "output_type": "execute_result"
    }
   ],
   "source": [
    "len(dismissed_pd)"
   ]
  },
  {
   "cell_type": "code",
   "execution_count": 7,
   "metadata": {},
   "outputs": [
    {
     "name": "stdout",
     "output_type": "stream",
     "text": [
      "Totally 3179347 guys were downloaded as coauthors\n"
     ]
    }
   ],
   "source": [
    "co_aut = dismissed_pd['co-authors']\n",
    "cnt_coauthors=0\n",
    "for l in co_aut:\n",
    "    cnt_coauthors += len(l)\n",
    "print('Totally ' + str(cnt_coauthors) + ' guys were downloaded as coauthors')"
   ]
  },
  {
   "cell_type": "code",
   "execution_count": 8,
   "metadata": {},
   "outputs": [],
   "source": [
    "dismissed = set(dismissed_pd.Authors)"
   ]
  },
  {
   "cell_type": "code",
   "execution_count": 9,
   "metadata": {},
   "outputs": [],
   "source": [
    "coauthors = set()\n",
    "for l in co_aut :\n",
    "    l = l.split(',')\n",
    "    for author in l:\n",
    "        if \"[\" in author :\n",
    "            author=author.replace('[','')\n",
    "            \n",
    "        if \"]\" in author : \n",
    "            author=author.replace(']','')\n",
    "        coauthors.add(author)"
   ]
  },
  {
   "cell_type": "code",
   "execution_count": 10,
   "metadata": {},
   "outputs": [
    {
     "name": "stdout",
     "output_type": "stream",
     "text": [
      "Totally we have 2083 dismissed and 34442 unique coauthors\n"
     ]
    }
   ],
   "source": [
    "print('Totally we have ' + str(len(dismissed)) + ' dismissed and ' + str(len(coauthors)) + ' unique coauthors')\n"
   ]
  },
  {
   "cell_type": "code",
   "execution_count": 11,
   "metadata": {},
   "outputs": [],
   "source": [
    "undismissed = coauthors - dismissed"
   ]
  },
  {
   "cell_type": "code",
   "execution_count": 12,
   "metadata": {},
   "outputs": [
    {
     "data": {
      "text/plain": [
       "{\" 'ISINGOR MELEK'\",\n",
       " \"'YILMAZ MESUT'\",\n",
       " \" 'KEMALOGLU TUBA'\",\n",
       " \" 'SAHINOGLU-KESKEK NEDIME'\",\n",
       " \" 'UYSAL GAMZE'\",\n",
       " \" 'OZTURK HASAN TAHSIN'\",\n",
       " \" 'CIFTCI MEHMET ALI'\",\n",
       " \" 'OZKARA ESMA'\",\n",
       " \" 'ARAS N. MEVLUT'\",\n",
       " \" 'ELDEM VAHAP'\",\n",
       " \" 'KUT RECEP ALP'\",\n",
       " \" 'PARMAKSIZ ISKENDER'\",\n",
       " \"'DENIZ SAADET'\",\n",
       " \" 'EMIRZEOGLU MEHMET'\",\n",
       " \" 'GERIN FATMA'\",\n",
       " \"'GOREGEN MUSTAFA'\",\n",
       " \" 'BOZKURT OMER FARUK'\",\n",
       " \" 'BASMAK HIKMET'\",\n",
       " \" 'GUNDOGDU RAMAZAN'\",\n",
       " \" 'SELCUK HAKAN'\",\n",
       " \"'CICEK EMRAH'\",\n",
       " \"'SIMAVLI SERAP'\",\n",
       " \"'BOZKURT NURHAL MERCAN'\",\n",
       " \"'GULSEN SECAATTIN'\",\n",
       " \" 'DURAN ARIF'\",\n",
       " \"'ELLIS L. T.'\",\n",
       " \"'DAGGULLI MANSUR'\",\n",
       " \" 'ERKAYA SALIM'\",\n",
       " \"'ISIK UMRAN'\",\n",
       " \" 'ALTUNKAS AYSEGUEL'\",\n",
       " \" 'HASTAR ESIN'\",\n",
       " \" 'YAGMUR ERSEN AYDIN'\",\n",
       " \" 'KARAKURUM GUNHAN'\",\n",
       " \" 'YUKSEL FIKRET'\",\n",
       " \" 'GONDIM DIBSON D.'\",\n",
       " \" 'ATALAY HUSEYIN'\",\n",
       " \" 'GUNER SUKRIYE ILKAY'\",\n",
       " \" 'TAN ONDER'\",\n",
       " \" 'KAYALAR HUSNIYE'\",\n",
       " \" 'TAN SEMIH'\",\n",
       " \" 'KOTAN CETIN'\",\n",
       " \" 'CUMEN BULENT'\",\n",
       " \" 'OZEN MURAT EREN'\",\n",
       " \"'AKGUL MEHMET'\",\n",
       " \" 'KEMALOGLU MUSTAFA SERDAR'\",\n",
       " \" 'AKKAYA LEVENT'\",\n",
       " \"'CAN ALPER'\",\n",
       " \" 'AKHTAR MUMTAZ'\",\n",
       " \" 'KOC IBRAHIM'\",\n",
       " \" 'ALPER MURAT'\",\n",
       " \"'TURKOGLU SUMEYYE'\",\n",
       " \"'HASHIM MOHD'\",\n",
       " \" 'TURKOGLU ZULEYHA'\",\n",
       " \" 'KOSEOGLU CANDEMIR'\",\n",
       " \" 'UYSAL DINCER'\",\n",
       " \"'BEK MINE GENCEL'\",\n",
       " \" 'AKSEL GOKHAN'\",\n",
       " \"'CAN SAFAK SEYHANEYILDIZ'\",\n",
       " \"'ATAGUN AKIN OSMAN'\",\n",
       " \" 'EMIROGLU M. EMIN'\",\n",
       " \" 'ERDINC F. SEBNEM'\",\n",
       " \" 'ULUGANYAN MAHMUT'\",\n",
       " \" 'ALTAY GOKMEN'\",\n",
       " \" 'KULAC MUSTAFA'\",\n",
       " \" 'SENKAYA EMINE BILEN'\",\n",
       " \" 'DUSUNSEL RUHAN'\",\n",
       " \"'KOCA BULENT'\",\n",
       " \"'TOPKARA ADEM'\",\n",
       " \" 'TZEKAKI M'\",\n",
       " \"'ULUSOY HASAN BASRI'\",\n",
       " \" 'AYTEKIN TEVFIK'\",\n",
       " \" 'BENTLI ISMAIL'\",\n",
       " \"'EROGLU EROL'\",\n",
       " \" 'KILIC GAYE'\",\n",
       " \" 'KAYILIOGLU SELAMI ILGAZ'\",\n",
       " \" 'GUTKNECHT NORBERT'\",\n",
       " \" 'ARSLAN ESRA'\",\n",
       " \" 'KARABULUT AHMET KAGAN'\",\n",
       " \" 'CAKMAK AYTUL'\",\n",
       " \" 'ANGUN PINAR'\",\n",
       " \"'SOYGUDER SERVET'\",\n",
       " \" 'OZMEN ZAFER'\",\n",
       " \" 'ERDUR FATIH MEHMET'\",\n",
       " \"'SENAYLI YESWIM'\",\n",
       " \" 'GILLESSEN-KAESBACH GABRIELE'\",\n",
       " \" 'ISIK YUKSEL'\",\n",
       " \" 'SAHIN AKIF'\",\n",
       " \" 'YILMAZ ABDULKERIM'\",\n",
       " \" 'AKBIYIK HURREM'\",\n",
       " \" 'AKCAKUS MUSTAFA'\",\n",
       " \" 'COKMERT SUNA'\",\n",
       " \" 'GOKALP DENIZ'\",\n",
       " \" 'PEKMEZCI GOKMEN ZAFER'\",\n",
       " \" 'TERZI SERAP'\",\n",
       " \" 'CAGIL EMIN'\",\n",
       " \"'TORNUK FATIH'\",\n",
       " \" 'ISIK-GONUL IPEK'\",\n",
       " \" 'SAYIN EMRAH'\",\n",
       " \" 'UCAR EYUP HAKAN'\",\n",
       " \" 'DOGAN HAKAN'\",\n",
       " \" 'ARIKAN MEHTAP PAYVEREN'\",\n",
       " \" 'YARDIMC FIGEN'\",\n",
       " \" 'IBRISIM ERDOGAN'\",\n",
       " \" 'VURAL ALPEREN'\",\n",
       " \" 'KARATAS ERKAN'\",\n",
       " \" 'GUNGOR HANDE'\",\n",
       " \" 'OZBUDAK IREM HICRAN'\",\n",
       " \" 'BICAKCI Y. KENAN'\",\n",
       " \" 'YILDIZ ABDULLAH'\",\n",
       " \" 'NISANCL RECEP'\",\n",
       " \" 'ATES ZEHRA'\",\n",
       " \"'KARTAL MEHTAP'\",\n",
       " \" 'AREN ACAR'\",\n",
       " \" 'LU JONATHAN'\",\n",
       " \" 'YANDIM OZLEM'\",\n",
       " \" 'AKCAR NEVBAHAR'\",\n",
       " \" 'EKINCI MEHMET S.'\",\n",
       " \" 'BEKERECIOGLU MEHMET'\",\n",
       " \" 'KOCAASLAN OSMAN'\",\n",
       " \" 'EMMEZ GOKCEN'\",\n",
       " \"'OZCAN FIRAT'\",\n",
       " \" 'KURBAN SEVIL'\",\n",
       " \" 'FEDERRATH H'\",\n",
       " \" 'LAENGLER ALFRED'\",\n",
       " \" 'OZDOGAN OZHAN'\",\n",
       " \" 'BAYINDIR OZUN'\",\n",
       " \" 'WONG BRYAN M.'\",\n",
       " \" 'DOGAN IBRAHIM'\",\n",
       " \" 'ISIK UMIT'\",\n",
       " \" 'ONUR ERDAL'\",\n",
       " \" 'AKCAY MURAT'\",\n",
       " \" 'HALICIOGLU KORAY'\",\n",
       " \" 'YILDIRIM SUMEYRA'\",\n",
       " \" 'KONDOLOT MEDA'\",\n",
       " \" 'YENIBERTIZ DERYA'\",\n",
       " \" 'KANDEMIR IBRAHIM'\",\n",
       " \" 'BAYINDIR FUNDA'\",\n",
       " \" 'MERIC YASEMIN'\",\n",
       " \" 'CENESIZ METIN'\",\n",
       " \" 'ICAGASIOGLU F. DILARA'\",\n",
       " \" 'MELIKOGLU MELTEM ALKAN'\",\n",
       " \" 'DOLWICK M. FRANKLIN'\",\n",
       " \" 'GUNGOR BULENT'\",\n",
       " \" 'AKOGLU HADIM'\",\n",
       " \" 'ARGUN MUSTAFA'\",\n",
       " \" 'SERT ERHAN'\",\n",
       " \" 'SEN SANIYE'\",\n",
       " \" 'BALIK AHMET RIFAT'\",\n",
       " \" 'KARAASLAN BURAK'\",\n",
       " \" 'SEN TOLGA ALTUG'\",\n",
       " \" 'GUMUSSU OZKAN'\",\n",
       " ' \"KHODOR HAWA\\'A\"',\n",
       " \" 'YILMAZ FEYZA GELEBEK'\",\n",
       " \" 'AKSOY UMIT'\",\n",
       " \" 'KARA SIMAY'\",\n",
       " \"'SIVRI CAGLAR'\",\n",
       " \" 'KAPLAN MUHAMMET ALI'\",\n",
       " \" 'EMIROGLU HALDUN'\",\n",
       " \" 'POLAT NIHAT'\",\n",
       " \"'USTAALIOGLU BALA BASAK OVEN'\",\n",
       " \" 'DANISMAN SAHIN'\",\n",
       " \" 'ELCIN A. ESER'\",\n",
       " \" 'OZBALCI G. SELCUK'\",\n",
       " \" 'BICICI HAKAN'\",\n",
       " \" 'GULITER SEFA'\",\n",
       " \" 'GUENEY ORHAN'\",\n",
       " \"'CANDAN MEHMET'\",\n",
       " \" 'ATALAY TUGAY'\",\n",
       " \" 'KESKIN REFIK'\",\n",
       " \" 'KASIKCI SEHER'\",\n",
       " \" 'KARAHAN OKKES IBRAHIM'\",\n",
       " \" 'NADIR ISILAY'\",\n",
       " \" 'GUZEL EVRIM'\",\n",
       " \"'ETOZ MERYEM'\",\n",
       " \" 'OZTURK NILGUN'\",\n",
       " \"'GARCA MEHMET FATIH'\",\n",
       " \"'YURT METHAP'\",\n",
       " \" 'OZDEMIR TURAN'\",\n",
       " \" 'SIZER MURAT'\",\n",
       " \" 'YILMAZ HACI RAMAZAN'\",\n",
       " \" 'DEMIR NECLA'\",\n",
       " \" 'DEMIRALP EMEL E.'\",\n",
       " \" 'OZAHIN AYSUN'\",\n",
       " \"'SAGDIK HACI MURAT'\",\n",
       " \" 'YANIK MUSTAFA'\",\n",
       " \" 'OCAL AHMET'\",\n",
       " \" 'OZDEN KEMALETTIN'\",\n",
       " \" 'KALKAN GOKHAN'\",\n",
       " \" 'TASAL ABDURRRAHMAN'\",\n",
       " \" 'AGKUS CIGDEM'\",\n",
       " \"'OKUR MESUT'\",\n",
       " \" 'PERCIN DUYGU'\",\n",
       " \"'ERBAS AYHAN KURSAT'\",\n",
       " \"'TASIN VEYIS'\",\n",
       " \" 'CAYCI KASIM'\",\n",
       " \" 'KILINC OGUZ'\",\n",
       " \"'DERELI MURAT'\",\n",
       " \" 'OZKUT MAHMUT M.'\",\n",
       " \" 'TOYLAN HAYRETTIN'\",\n",
       " \" 'VEZIROGLU NEJAT'\",\n",
       " \" 'TURKOZ DILEK'\",\n",
       " \" 'PEKACAR A. IHSAN'\",\n",
       " \"'GUNSAR CUNEYT'\",\n",
       " \"'DIKBIYIK FERHAT'\",\n",
       " \" 'GURKAN FUAT'\",\n",
       " \" 'CICEK EKREM'\",\n",
       " \" 'KARAGOZ SENDOGAN'\",\n",
       " \"'OZTURK GULFER'\",\n",
       " \"'SEBAN DEMET'\",\n",
       " \" 'TUMAN BENGU ALTUNAY'\",\n",
       " \" 'ISIKDEMIR AHMET'\",\n",
       " \"'BULBUL FERIDUN'\",\n",
       " \" 'SAYGIDEGER SAADET DEMIRORS'\",\n",
       " \" 'GUNEY IBRAHIM'\",\n",
       " \" 'TAN ENES'\",\n",
       " \" 'AKDAG OSMAN'\",\n",
       " \"'GAYGUSUZ OEZCAN'\",\n",
       " \"'TOPRAK ZEYNEP'\",\n",
       " \" 'BARIT GONCA'\",\n",
       " \" 'DURSUN IBRAHIM HALIL'\",\n",
       " \" 'KAHRAMAN MERVE'\",\n",
       " \" 'AKTAS HABIBULLAH'\",\n",
       " \" 'KALACI AYDINER'\",\n",
       " \" 'DEMIR ADALET'\",\n",
       " \" 'COMU FARUK METIN'\",\n",
       " \" 'DUNDAR MUNIS'\",\n",
       " \"'KAYA ADEM'\",\n",
       " \"'OZCELIK ALI ERDEM'\",\n",
       " \" 'SORENSEN INGE J.'\",\n",
       " \" 'KUEPANA AYVA SEBNEM'\",\n",
       " \"'GUZELOGLU AYDIN'\",\n",
       " \" 'YILDIRIM ERKAN'\",\n",
       " \" 'OZKAN CEM'\",\n",
       " \"'GULLU KENAN'\",\n",
       " \" 'YAZICI AHMET BULENT'\",\n",
       " \" 'KIRICI SALIHA'\",\n",
       " \" 'ATIK DILEK'\",\n",
       " \" 'AKDOGAN RECAI'\",\n",
       " \" 'BALKAYA IBRAHIM'\",\n",
       " \" 'OZKACMAZ AYSE'\",\n",
       " \" 'SEZEN SABAN CEM'\",\n",
       " \"'KILIC EYLEM'\",\n",
       " \" 'UYLASER VILDAN'\",\n",
       " \" 'YILDIRIM CANAN KUK'\",\n",
       " \" 'AKCAY SELAHADDIN'\",\n",
       " \" 'SANI SYED GUL ABBAS SHAH'\",\n",
       " \"'SEN BILGE BULBUL'\",\n",
       " \" 'YALCIN SERAP'\",\n",
       " \" 'BEKTAS SERDAR'\",\n",
       " \" 'GURLU GULSUM'\",\n",
       " \" 'GUNGOR AHMET YALCIN'\",\n",
       " \"'BIBEROGLU SERAP'\",\n",
       " \" 'SAV NADIDE MELIKE'\",\n",
       " \" 'AKYUZ ABDURRAHMAN'\",\n",
       " \" 'ARGUN TAGBA CAKMAK'\",\n",
       " \"'GUENEYISI ERHAN'\",\n",
       " \" 'ZEREN SEZGIN'\",\n",
       " \"'ERBAYDAR NUKET PAKSOY'\",\n",
       " \" 'ERCAN ORHAN'\",\n",
       " \"'GURDAL SIBEL O.'\",\n",
       " \" 'OZMANTAR FATIH'\",\n",
       " \" 'OZKUL MH'\",\n",
       " \"'DEMIRBUGA SEZER'\",\n",
       " \" 'ATAKISI ERNINE'\",\n",
       " \" 'BILGIR OKTAY'\",\n",
       " \" 'CAKAR BURCU'\",\n",
       " \" 'TOPACHEVSKYI OLEKSANDR'\",\n",
       " \"'KIVRAK ALI SAMI'\",\n",
       " \"'GUZEL EMRE'\",\n",
       " \" 'TURKAL MUSTAFA'\",\n",
       " \" 'GUNSEREN FILIZ'\",\n",
       " \" 'KISLI EROL'\",\n",
       " \" 'BEYSEL SELVIHAN'\",\n",
       " \" 'KOKTURK OGUZ'\",\n",
       " \" 'MIGNEAULT ANDREW'\",\n",
       " \"'DEVRAN ZUBEYIR'\",\n",
       " \" 'DISCI ESRA'\",\n",
       " \" 'OZANTURK AYSEGUL'\",\n",
       " \"'YALCIN HASAN'\",\n",
       " \" 'YILMAZ MUSTAFA ABDULLAH'\",\n",
       " \" 'KAYA TURGUT'\",\n",
       " \"'YUKSEL HASAN'\",\n",
       " \" 'ALPAY-KARAOGLU SENGUL'\",\n",
       " \" 'OZDEMIR ALI IHSAN'\",\n",
       " \" 'EKIZER ABDULLAH'\",\n",
       " \" 'PARILDAR HILAL'\",\n",
       " \"'UGRAS H. IBRAHIM'\",\n",
       " \" 'SALBACAK AHMET'\",\n",
       " \" 'KELKITLI ENGIN'\",\n",
       " \" 'SEMIZ UMIT BASAR'\",\n",
       " \" 'YILMAZ FARUK'\",\n",
       " \" 'JOHANSEN ISIK SORPUNCU'\",\n",
       " \" 'TURKOGLU HALIL'\",\n",
       " \" 'OZTASAN NURAY'\",\n",
       " \" 'KARABAY GULTEN'\",\n",
       " \" 'KARAM FADI'\",\n",
       " \" 'CARACUEL ALFONSO'\",\n",
       " \" 'MESCI LEVENT'\",\n",
       " \" 'RAHMAN HAFIZUR'\",\n",
       " \" 'SAGBAS SELIN'\",\n",
       " \"'KARABULUT IBRAHIM'\",\n",
       " \"'CETINKAYA MELEK'\",\n",
       " \" 'OZGAN SUKRU'\",\n",
       " \" 'SHAH TAHIR'\",\n",
       " \" 'KIA SEVDA HAGHI'\",\n",
       " \" 'BIGOT ANDRE'\",\n",
       " \" 'CICEKCI HACER'\",\n",
       " \" 'DULGEROGLU ONUR'\",\n",
       " \"'TOPUZOGLU AHMET'\",\n",
       " \" 'PIRIM IBRAHIM'\",\n",
       " \"'SENOL SERKAN'\",\n",
       " \" 'IBIS MEHMET'\",\n",
       " \" 'ASIAN AYSE'\",\n",
       " \" 'DINH ANDREW'\",\n",
       " \" 'OYMAK OKTAY'\",\n",
       " \" 'CAKSEN HUESEYIN'\",\n",
       " \"'AZIZOGLU SEVIL S.'\",\n",
       " \" 'YUEKSEL HATICE'\",\n",
       " \" 'OEZOVACI ARZU'\",\n",
       " \" 'UYAR IHSAN S.'\",\n",
       " \" 'TATAR ARZU ONDER'\",\n",
       " \"'GORUR GOZDE DAGLIOZ'\",\n",
       " \" 'KARATAS BEKIR. S.'\",\n",
       " \" 'OZKANLI SEYMA'\",\n",
       " \" 'AKGEDIK KIYMET'\",\n",
       " \" 'AKBAL ERDEM'\",\n",
       " \" 'AHMEDOV BOBOMURAT'\",\n",
       " \" 'KAYA ESRA CELEN'\",\n",
       " \" 'BICER YUSUF OZGUR'\",\n",
       " \" 'OZMUTLU EMIN N.'\",\n",
       " \" 'DOGRU MUSTAFA SELIM'\",\n",
       " \" 'OZBEK-BILGIN ASLI'\",\n",
       " \" 'KANDEMIR BEDRI'\",\n",
       " \"'CEVIK REMZI'\",\n",
       " \" 'ZAIMOGLU A. SAHIN'\",\n",
       " \" 'YILDIRIM CEM'\",\n",
       " \" 'ARSLAN NESET'\",\n",
       " \" 'TUNAY ZUHAL OZEN'\",\n",
       " \" 'GUVENALP ZUEHAL'\",\n",
       " \"'YILDIRIM-BAYLAN MUZEYYEN'\",\n",
       " \" 'UCAR BERCIS IMGE'\",\n",
       " \" 'KURT EMEL'\",\n",
       " \" 'DUR ALI'\",\n",
       " \" 'AKYUZ CANAN'\",\n",
       " \" 'KOCAK SIBEL'\",\n",
       " \" 'KIRBAS AYNUR'\",\n",
       " \" 'YESIL NESIBE KARAHAN'\",\n",
       " \" 'OZYILMAZ ALI TUNCAY'\",\n",
       " \" 'ICEN MUSTAFA'\",\n",
       " \"'UYSAL ERSIN'\",\n",
       " \" 'AKSAZ EROL'\",\n",
       " \" 'AYBASTIER ONDER'\",\n",
       " \" 'ERYONUCU BEYHAN'\",\n",
       " \"'ERARSLAN ELIFE'\",\n",
       " \" 'YILDIRIMER VEYSEL'\",\n",
       " \" 'BUTURAK S. VISAL'\",\n",
       " \" 'ABDEL-RAHMAN EMAAD M.'\",\n",
       " \"'KELES OSMAN NURI'\",\n",
       " \" 'KADEM ABDELOUAHAB'\",\n",
       " \"'KILIT CELAL'\",\n",
       " \"'ERKEN ESMA'\",\n",
       " \" 'BACIGAL TOMAS'\",\n",
       " \" 'AVCI AHMET'\",\n",
       " \" 'ERDOGAN SELVET'\",\n",
       " \" 'AKPINAR TIMUR S.'\",\n",
       " \" 'MUT ZEKI'\",\n",
       " \" 'KAYAN MUSTAFA'\",\n",
       " \" 'CEYLAN AYCA'\",\n",
       " \"'ARAS ERDAL'\",\n",
       " \" 'KARAKUS VOLKAN'\",\n",
       " \"'AKMAN ORHAN'\",\n",
       " \"'GONCU AHMET'\",\n",
       " \"'YERDELEN KADIR OZDEN'\",\n",
       " \"'GURPINAR EROL'\",\n",
       " \" 'KACIRA BURKAY KUTLUHAN'\",\n",
       " \" 'ERGUN MEHMET ALI'\",\n",
       " \" 'IMRE OKAN'\",\n",
       " \" 'SUNGUR MUSTAFA AZMI'\",\n",
       " \" 'TURKMEN MEHMET'\",\n",
       " \" 'ERTAS NILGUN'\",\n",
       " \" 'EMRECAN BILGIN'\",\n",
       " \" 'ESITKEN AHMET'\",\n",
       " \" 'AVSAR EROL'\",\n",
       " \" 'ATICI DERYA'\",\n",
       " \" 'KARSEN HASAN'\",\n",
       " \" 'CEVIK UGUR'\",\n",
       " \" 'KATI MAHMUT'\",\n",
       " \" 'ERMIS FATIH'\",\n",
       " \" 'UCAR ALI'\",\n",
       " \" 'OZAN HAKAN'\",\n",
       " \" 'OKUYAN HAMZA MALIK'\",\n",
       " \" 'CELIKEL DILAN C.'\",\n",
       " \"'DOGAN HASAN'\",\n",
       " \"'YUCA SEVIL'\",\n",
       " \" 'AKCAY FATIH'\",\n",
       " \" 'KUCUK OZKAN'\",\n",
       " \" 'ONDER MUSTAFA AVNI'\",\n",
       " \" 'GUL MESUT'\",\n",
       " \" 'AKCAY SALAHEDDIN'\",\n",
       " \" 'KARAMESE SELINA AKSAK'\",\n",
       " \" 'TOLA ABDULLAH T.'\",\n",
       " \" 'TEKGUNDUZ EMRE'\",\n",
       " \"'EFE GOOEZDE CELEBI'\",\n",
       " \" 'BOTREKCI ELIF'\",\n",
       " \" 'SAVRAN YUSUF'\",\n",
       " \" 'GUNDUZ SEYDA GULENAY'\",\n",
       " \" 'UYANIK CAVIT'\",\n",
       " \" 'KORKMAZ MAHMUT'\",\n",
       " \" 'ZARIF HALIL'\",\n",
       " \" 'KAYA RAHSEN S.'\",\n",
       " \" 'ERSOZ SAFAK'\",\n",
       " \" 'FIRINCI FATIH'\",\n",
       " \" 'TASKIN SEZAI'\",\n",
       " \" 'KARAKAS RECEP'\",\n",
       " \" 'PAZARLI AHMET C.'\",\n",
       " \"'TAGLIALATELA-SCAFATI ORAZIO'\",\n",
       " \"'PAZARLI AHMET CEMAL'\",\n",
       " \" 'PIMENTA FABIANA CRISTINA'\",\n",
       " \" 'SONAY FATMA DELIHASAN'\",\n",
       " \" 'TAKCI ZENNURE'\",\n",
       " \" 'ISLEK YASEMIN'\",\n",
       " \" 'TURKELI MEHMET'\",\n",
       " \" 'GUNES MEHMET'\",\n",
       " \"'BASPINAR EMEL ODEMIS'\",\n",
       " \" 'CILTAS AYDIN'\",\n",
       " \"'GUROY DERYA'\",\n",
       " \"'CETINKOL YELIZ'\",\n",
       " \" 'EROGLU CELALETTIN'\",\n",
       " \" 'ARMAGAN ONUR'\",\n",
       " \" 'TERZI ELCIN HAKAN'\",\n",
       " \" 'CEMRI MUSTAFA'\",\n",
       " \" 'DEMIR HACER'\",\n",
       " \" 'KANAT AYHAN'\",\n",
       " \" 'VUJASINOVIC E'\",\n",
       " \"'ERTUERK AYSE'\",\n",
       " \" 'AGAR ERDAL'\",\n",
       " \" 'UNLU MURAT'\",\n",
       " \" 'ARMUTCU FERAH'\",\n",
       " \" 'GUENGOER MEHMET'\",\n",
       " \" 'ALP EMINE'\",\n",
       " \" 'SAGALTICI ESER'\",\n",
       " \" 'DUMLUDAG FATIH'\",\n",
       " \" 'SAGSEN BURAK'\",\n",
       " \" 'BEREKET ABDULLAH'\",\n",
       " \" 'BENEK BEDRI SELIM'\",\n",
       " \"'EROGLU SELMA'\",\n",
       " \"'AKTAS AYKUT RECEP'\",\n",
       " \" 'GURLER BULENT'\",\n",
       " \"'SARIKAYA DERYA'\",\n",
       " \"'DOGDU ORHAN'\",\n",
       " \" 'MELEK HUSEYIN'\",\n",
       " \" 'KAPUAGASI ARIF'\",\n",
       " \"'KARAKURT LOKMAN'\",\n",
       " \" 'MADEN EMIN'\",\n",
       " \" 'YUMUN HAVVA NUR ALPARSLAN'\",\n",
       " \" 'TURAN YAHYA'\",\n",
       " \" 'GULER TELAT'\",\n",
       " \" 'DOGAN ISMAIL S.'\",\n",
       " \" 'ERDOGAN AZMI'\",\n",
       " \" 'YUZGECER HUSEYIN'\",\n",
       " \" 'USLUOGULLARI ALPER CELIL'\",\n",
       " \" 'CEVIK MUAMMER OZGUR'\",\n",
       " \" 'CAM GOEKHAN'\",\n",
       " \"'YURDDAS ALI'\",\n",
       " \"'DURDU ALI'\",\n",
       " \" 'ERGUN HAKKI'\",\n",
       " \" 'SESLIOKUYUCU CEM'\",\n",
       " \" 'ALICI OMER'\",\n",
       " \" 'BAYSAL ZUBEYDE'\",\n",
       " \" 'SERIN MELTEM'\",\n",
       " \" 'KARS HAMIT ZAFER'\",\n",
       " \" 'SAHINTURK SERDAR'\",\n",
       " \"'CEYLAN HALIL'\",\n",
       " \" 'CAN SAFAK SEYHANEYILDIZ'\",\n",
       " \" 'ERCIYAS-YAVUZ KIRAZ'\",\n",
       " \" 'KURT SEMIHA GULSUM'\",\n",
       " \"'DENIZ HASAN'\",\n",
       " \" 'KARAKAYA EBRU'\",\n",
       " \" 'USTEBAY SEFER'\",\n",
       " \" 'POYRAZOGLU SUKRAN'\",\n",
       " \" 'BENEK BERK'\",\n",
       " \" 'TEMIZ AHMET'\",\n",
       " \" 'DEMIR M. KURSAT'\",\n",
       " \" 'CETIN EMEL OEYKUE'\",\n",
       " \" 'GUMUSTAS KORAY'\",\n",
       " \"'ALAN YUSUF'\",\n",
       " \"'CEKIC CEM'\",\n",
       " \" 'ULUS A. TULGA'\",\n",
       " \" 'YENITERZI MEHMET'\",\n",
       " \" 'EREN MERYEM'\",\n",
       " \"'YURTTUTAN MEHMET EMRE'\",\n",
       " \" 'PATIROGLU TURKAN'\",\n",
       " \" 'ERHAN SELMA SENGIZ'\",\n",
       " \"'TEMEL METIN'\",\n",
       " \"'INCI ABDULLAH'\",\n",
       " \"'DOGAN BEKIR'\",\n",
       " \" 'YAMAN AYHAN'\",\n",
       " \" 'TURAN GULUZAR A.'\",\n",
       " \" 'NUHOGLU CIGDEM'\",\n",
       " \" 'KAHRAMAN NILUFER KUZEYLI'\",\n",
       " \"'ILERI ZEHRA'\",\n",
       " \"'DIKMEN DERYA'\",\n",
       " \" 'EDGUNLU TUBA'\",\n",
       " \" 'DANE ASIM'\",\n",
       " \" 'YILMAZ MUHAMMET ENES'\",\n",
       " \" 'ARSLAN M. MUSTAFA'\",\n",
       " \"'BIYIK MURAT'\",\n",
       " \"'BEYLI PINAR TURAN'\",\n",
       " \" 'GOREN AHMET C.'\",\n",
       " \" 'TAMAM CUNEYT'\",\n",
       " \"'ICLI BURCAK'\",\n",
       " \" 'FUJIMOTO H'\",\n",
       " \" 'ERGIN MAKBULE'\",\n",
       " \" 'KOCAK BURAK'\",\n",
       " \" 'ROACH EMIR C.'\",\n",
       " \" 'TULUNAY AYSIN'\",\n",
       " \" 'KARAKAS ALI OZGUR'\",\n",
       " \"'OZDEM MUHSIN'\",\n",
       " \" 'ESKIN FATIH'\",\n",
       " \" 'BIYIK HALIL'\",\n",
       " \" 'SAVAS MURAT'\",\n",
       " \" 'YAZICI IPEK PERCINEL'\",\n",
       " \" 'VAROL ONUR'\",\n",
       " \"'ALTINDAG S. BURCU BOZKURT'\",\n",
       " \" 'TIAN LIPING'\",\n",
       " \"'SOLAK YALCIN'\",\n",
       " \" 'DILEK MEHMET KAMIL'\",\n",
       " \" 'SENDIL A. FATIH'\",\n",
       " \"'YUCEL HASAN'\",\n",
       " \" 'ALTIN GOKHAN'\",\n",
       " \" 'USLU NURHAN'\",\n",
       " \" 'TIMUR SUNA'\",\n",
       " \" 'OZBEK KEREM'\",\n",
       " \" 'CECEN GOKSEN'\",\n",
       " \"'CORBACIOGLU SITKI'\",\n",
       " \" 'AGAOGLU JALE'\",\n",
       " \" 'OZTURK MUNIR'\",\n",
       " \" 'YETER VOLKAN'\",\n",
       " \" 'KARAKUS YAVUZ SELIM'\",\n",
       " \" 'EPIKMEN ERKMEN TUGRUL'\",\n",
       " \"'AYAN MURAT'\",\n",
       " \" 'GOKSIN IBRAHIM'\",\n",
       " \" 'LEBLEBISATAN SERIFE'\",\n",
       " \" 'CETINCAKMAK MEHMET'\",\n",
       " \" 'KIM HK'\",\n",
       " \" 'ATAMAN SEBNEM'\",\n",
       " \" 'GURDAL CANAN'\",\n",
       " \" 'VURUSKAN ERTAN'\",\n",
       " \" 'KAUFMANN MARY E.'\",\n",
       " \" 'GENCTEN YUSUF'\",\n",
       " \"'OZGELEN SINAN'\",\n",
       " \" 'CELIKTAS AHMET'\",\n",
       " \" 'CAPAR SEDAT'\",\n",
       " \" 'USTABASIOGLU FETHI EMRE'\",\n",
       " \" 'AYDEMIR SOHRET'\",\n",
       " \" 'ISMAEL ALI NOORULDEEN ISMAEL'\",\n",
       " \" 'SAV HAFIZE'\",\n",
       " \" 'ISTANBULLUOGLU MUSTAFA OKAN'\",\n",
       " \" 'DOGRUL RAMAZAN'\",\n",
       " \" 'SIMSEK BARIS'\",\n",
       " \" 'GUL IBRAHIM'\",\n",
       " \" 'EROKSUZ YESARI'\",\n",
       " \" 'SAHIN SIBEL'\",\n",
       " \" 'YILDIRIM HAYRIYE A. K.'\",\n",
       " \" 'MEMIS CAGDAS O.'\",\n",
       " \" 'SELIMOGLU NEBIL'\",\n",
       " \"'PAKSU SULE'\",\n",
       " \" 'ASLAN TURAN'\",\n",
       " \" 'PODDAR BANIBRATA'\",\n",
       " \" 'OZERCAN IBRAHIM HANIFI'\",\n",
       " \" 'VAN DOORN WIM'\",\n",
       " \"'CEVIK CENGIZ'\",\n",
       " \" 'AKGUL NILGUN'\",\n",
       " \" 'GUVEN AYSEL'\",\n",
       " \" 'BAKOGLU NALAN'\",\n",
       " \" 'KILIC UNAL'\",\n",
       " \"'SUBASI MEHMET'\",\n",
       " \"'CAN ALP'\",\n",
       " \" 'ISIK MEHMET ALI'\",\n",
       " \"'TEKGUNDUZ EMRE'\",\n",
       " \" 'CETINKAYA NURALAY'\",\n",
       " \" 'GUL EVRIM'\",\n",
       " \" 'CORBACIOGLU SITKI'\",\n",
       " \" 'CANPOLAT SERPIL'\",\n",
       " \" 'DURSUN HAKAN'\",\n",
       " \" 'INEL MEHMET'\",\n",
       " \"'BALKARLI HUSEYIN'\",\n",
       " \" 'LONCARIC S'\",\n",
       " \" 'OZDEMIR FIGEN'\",\n",
       " \" 'OZCAN AYHAN'\",\n",
       " \" 'KAYNAR LEYLA GUL'\",\n",
       " \" 'PINAR AHMET MURAT'\",\n",
       " \" 'CAYLAN AYSE'\",\n",
       " \" 'YILMAZ HULYA'\",\n",
       " \" 'ULGEN CEVAT'\",\n",
       " \" 'YILDIRIR AYLIN'\",\n",
       " \" 'CELIK ORCUN'\",\n",
       " \" 'TUGRUL SENAY TUGBA'\",\n",
       " \" 'ALPTEKIN CEM'\",\n",
       " \"'SONMEZER MURAT'\",\n",
       " \" 'SENKAL BAHIRE FILIZ'\",\n",
       " \" 'AKTAS NAHIT'\",\n",
       " \"'SEMERCI C. NUR'\",\n",
       " \" 'GAYGUSUZ CIGDEM GURSOY'\",\n",
       " \"'MUTLU ESRA CANSEVER'\",\n",
       " \"'CAGLAR CAGATAY'\",\n",
       " \" 'ALTINSOY BULENT'\",\n",
       " \" 'GEZDIRICI ALPER'\",\n",
       " \"'BILICI MEKI'\",\n",
       " \" 'OZER ERDAL'\",\n",
       " \" 'GUTHRIDGE JOEL M.'\",\n",
       " \" 'RUSTEMOGLU AYDIN'\",\n",
       " \" 'CETEMEN SEBNEM'\",\n",
       " \" 'ATALAY CANAN'\",\n",
       " \" 'GUMUS MEHMET'\",\n",
       " \"'TERCAN MEVLUT'\",\n",
       " \" 'AL-JUHAIMI FAHAD'\",\n",
       " \" 'UCAR ELIF YILMAZEL'\",\n",
       " \" 'DURAN BULENT'\",\n",
       " \" 'CELEBI METIN'\",\n",
       " \" 'SERASLAN GAMZE'\",\n",
       " \" 'KUTANIS RANA OZEN'\",\n",
       " \" 'GOKSU KAMBER'\",\n",
       " \" 'AYGAR MUHITTIN'\",\n",
       " \" 'ATMACA ALI FUAT'\",\n",
       " \" 'ABAKAY OZLEM'\",\n",
       " \" 'GECIT ILHAN'\",\n",
       " \" 'KEPUZ SEDAT'\",\n",
       " \" 'TOPKARA ADEM'\",\n",
       " \" 'JURCZYK M'\",\n",
       " \"'TEKINDAL BENIAN'\",\n",
       " \" 'LESZCZYNSKI JERZY'\",\n",
       " \" 'TOPCU MERVE'\",\n",
       " \" 'TAS TEKIN'\",\n",
       " \" 'KURTULGAN HANDE KUCUK'\",\n",
       " \" 'YAMAN FATIMA'\",\n",
       " \" 'SELVER MEVLUT MELIH'\",\n",
       " \" 'ARICI S. EVRIM'\",\n",
       " \" 'BUYUKATES MUSTAFA'\",\n",
       " \" 'CICEKCIBASI AYNUR EMINE'\",\n",
       " \" 'CANDAN FEYZA'\",\n",
       " \"'SENTUERK BERRIN'\",\n",
       " \" 'DAWOOD ABDALLAH'\",\n",
       " \" 'EKICI FATIH MEHMET'\",\n",
       " \" 'AGACHAN AHMET'\",\n",
       " \" 'SAHINOZ ERDINC'\",\n",
       " \" 'AR CEM'\",\n",
       " \" 'BIRCAN AHMET'\",\n",
       " \" 'BALIM CANER'\",\n",
       " \" 'EROGLU EROL'\",\n",
       " \" 'HOPA CIGDEM'\",\n",
       " \"'OKUR NESLIHAN USTUNDAG'\",\n",
       " \" 'NERGIZ SULEYMAN'\",\n",
       " \" 'OVALI GULGUN YILMAZ'\",\n",
       " \" 'ASLAN SUKRAN'\",\n",
       " \" 'SEFIL FATIH'\",\n",
       " \" 'YILDIZ KARAMEHMET'\",\n",
       " \"'ERER BURAK'\",\n",
       " \" 'KOCAMAN NEVIN'\",\n",
       " \" 'CECE HASAN'\",\n",
       " \" 'PAMUK NURI'\",\n",
       " \"'YUKSEL NILAY'\",\n",
       " \" 'DURAN NIZAMI'\",\n",
       " \" 'YARGICI MERVE ERTINMAZ'\",\n",
       " \"'ATIK HASAN'\",\n",
       " \" 'ATAMANALP SABRISELCUK'\",\n",
       " \" 'KAYA MEHMET EMIN'\",\n",
       " \" 'GUNGOR OZKAN'\",\n",
       " \" 'KURTOGLU MUHAMMET GUZEL'\",\n",
       " \" 'MEMIC KADRIYE'\",\n",
       " \" 'ONOL MERIH'\",\n",
       " \" 'DEMIRCAN MEHMET'\",\n",
       " \"'OGUZ HAKAN'\",\n",
       " \"'KANAT MUSTAFA'\",\n",
       " \" 'OZBEK MEHMET'\",\n",
       " \" 'SELCUK ENGIN BURAK'\",\n",
       " \" 'ONEC KURSAD'\",\n",
       " \" 'UZ ZEHRA'\",\n",
       " \"'EMMILER MUSTAFA'\",\n",
       " \" 'MINARECI EDIBE'\",\n",
       " \"'TUFAN AYSE NUR'\",\n",
       " \" 'DEMIREL HUSEYIN CIHAN'\",\n",
       " \" 'OZEK EREN'\",\n",
       " \" 'UMAR SARA'\",\n",
       " \" 'SARI UTKU'\",\n",
       " \" 'ELMAS MUHSIN'\",\n",
       " \" 'DEMIRDUZEN SELAHATTIN'\",\n",
       " \"'ATES HAKAN'\",\n",
       " \" 'KARAKAYA HAYDAR'\",\n",
       " \" 'IZCI YUSUF'\",\n",
       " \" 'ALPTEKIN NILGUN OZLEM'\",\n",
       " \" 'CABALAR MURAT'\",\n",
       " \" 'LANGSTROM ELISABETH'\",\n",
       " \" 'BAYKAL BURHAN'\",\n",
       " \" 'ERTUGRUL OMER FARUK'\",\n",
       " \" 'KOCA SINAN'\",\n",
       " \" 'ONEC BIRGUL'\",\n",
       " \" 'ERIK AYSE AYDOGMUS'\",\n",
       " \" 'GUL TALIP'\",\n",
       " \" 'AKCI ONDER'\",\n",
       " \" 'EMRE HABIP'\",\n",
       " \" 'KARAGOZ YALCIN'\",\n",
       " \" 'KARA MURAT'\",\n",
       " \" 'OFLAZ SERAP BATMAZ'\",\n",
       " \" 'ELMACIOGLU FUNDA'\",\n",
       " \" 'YILDIZ B. YIGIT'\",\n",
       " \" 'SAKARYA ASLAN'\",\n",
       " \" 'MAEGAARD B'\",\n",
       " \" 'BAS NIHAL'\",\n",
       " \" 'FIDAN MUHAMMED SAID'\",\n",
       " \" 'USLU RABIYE'\",\n",
       " \" 'CAL CAG'\",\n",
       " \" 'SAYAR ADNAN'\",\n",
       " \" 'BATI SERKAN'\",\n",
       " \" 'DAYAN SERGUN'\",\n",
       " \" 'KARATAS ZEYNEL A.'\",\n",
       " \" 'AKCAY ALI'\",\n",
       " \" 'AYYILDIZ ERDEM'\",\n",
       " \" 'SAHIN DENIZ GOREN'\",\n",
       " \" 'YUCEL AYLIN'\",\n",
       " \" 'OZAY OZGUR'\",\n",
       " \" 'OZSOY METIN'\",\n",
       " \"'GOKKURT BURCIN'\",\n",
       " \" 'KIRLI ISMAIL'\",\n",
       " \" 'IDER Y. ZIYA'\",\n",
       " \" 'GOLCUK YALCIN'\",\n",
       " \" 'CENE ERHAN'\",\n",
       " \"'KARTALCI SUKRU'\",\n",
       " \" 'CIFTCI-YABANOGLU SAMIYE'\",\n",
       " \" 'CAN GOZCU MERVE'\",\n",
       " \" 'BUCAK ABDULKADIR'\",\n",
       " \" 'CECEN MEHMET AKIF'\",\n",
       " \" 'CELIKBILEK ASUMAN'\",\n",
       " \"'KOCKAR FERAY'\",\n",
       " \" 'KURNE ASLI TUNCER'\",\n",
       " \"'BASAY BURGE KABUKCU'\",\n",
       " \" 'YAZICI HUESEYIN UGUR'\",\n",
       " \" 'YUKSEL ARIF'\",\n",
       " \" 'SIK BULENT'\",\n",
       " \" 'AKINCI AYSEHAN'\",\n",
       " \" 'UZUN ERSAN'\",\n",
       " \" 'DURAK AHMET CANDAN'\",\n",
       " \" 'KILIC IBRAHIM'\",\n",
       " \" 'GOKTAS MELIS'\",\n",
       " \"'CELIKEL ADNAN'\",\n",
       " \" 'BALCI YASEMIN'\",\n",
       " \" 'KUNDI PINAR'\",\n",
       " \" 'KAPLAN MEHMET A.'\",\n",
       " \" 'GEDIKLI ESRA'\",\n",
       " \" 'OZER ALEV'\",\n",
       " \" 'BAYIK YILMAZ'\",\n",
       " \"'KARACA SEMSETTIN'\",\n",
       " \" 'YAZAR FATIH MEHMET'\",\n",
       " \"'KILINC H. HAKAN'\",\n",
       " \"'ZENGIN YILMAZ'\",\n",
       " \" 'BAKIRTAS MUSTAFA'\",\n",
       " \" 'KARAASLAN MUHARRREM'\",\n",
       " \" 'YENIN JULIDE ZEHRA'\",\n",
       " \" 'ERGUL AYE BETUL'\",\n",
       " \" 'DAGLI ABDULLAH ZUBEYR'\",\n",
       " \" 'AKTAS BEKIR'\",\n",
       " \" 'AYCAN CANSEL'\",\n",
       " \" 'CELIK SAIT'\",\n",
       " \" 'BARAN BULENT'\",\n",
       " \" 'KIKUCHI H'\",\n",
       " \" 'POYRAZ NECDET'\",\n",
       " \"'AKYUZ SERVET'\",\n",
       " \" 'BATMAZ GONCA'\",\n",
       " \" 'AYDIN BAYRAM'\",\n",
       " \"'SAR VEDAT'\",\n",
       " \" 'YILMAZ ATILLA'\",\n",
       " \" 'BHATT PRAMOD'\",\n",
       " \" 'CINER FEHIMAN'\",\n",
       " \" 'ERIS CENGIZ'\",\n",
       " \" 'GOCER MUSTAFA'\",\n",
       " \" 'KUSGOZ ADEM'\",\n",
       " \" 'BEKTAS CENGIZ'\",\n",
       " \" 'SAHIN SUMER'\",\n",
       " \" 'GULER HATICE AYHAN'\",\n",
       " \" 'AKSARAY SEBAHAT'\",\n",
       " \"'DEMIRCAN VECDI'\",\n",
       " \" 'EROL CENGIZ'\",\n",
       " \" 'YAY ARZU HANIM'\",\n",
       " \" 'AKCA HALISE'\",\n",
       " \" 'ACIR ADEM'\",\n",
       " \" 'EREN MEHMET'\",\n",
       " \"'KUCUK HARUN'\",\n",
       " \" 'SAGLAM LEYLA'\",\n",
       " \" 'HIZLI SAMIL'\",\n",
       " \" 'GUVEN SERDAR'\",\n",
       " \"'OZKAN SEVGI'\",\n",
       " \" 'BOYRAZ ISMAIL'\",\n",
       " \" 'LEVENT NESLIHAN'\",\n",
       " \"'AKSOY OSMAN'\",\n",
       " \" 'CELIK CANAN'\",\n",
       " \" 'ADIGUZEL UNAL'\",\n",
       " \" 'SAHIN ZAFER'\",\n",
       " \" 'CEKMEN MUSTAFA'\",\n",
       " \" 'KESER GOKHAN'\",\n",
       " \"'OZENOGLU ALIYE'\",\n",
       " \" 'OZTURK DERYA'\",\n",
       " \" 'TANRIVERDI HALIL'\",\n",
       " \"'TURKMEN FAIK'\",\n",
       " \"'NAJJARI VADOUD'\",\n",
       " \" 'DURLANIK GULGUN'\",\n",
       " \" 'YAGCI MEHMET ALI'\",\n",
       " \" 'KURBAN MEHMET'\",\n",
       " \" 'SIVGIN HAKAN'\",\n",
       " \" 'TAMER CENGAVER'\",\n",
       " \" 'SARGON MUSTAFA FEVZI'\",\n",
       " \" 'AZAK EMEL'\",\n",
       " \"'TASCI ENIS'\",\n",
       " \"'OK AHMET'\",\n",
       " \" 'EROL BEKIR'\",\n",
       " \" 'KOLAYLI FETIYE'\",\n",
       " \" 'AGGUN FIKRI'\",\n",
       " \" 'CEYLAN BAHADIR'\",\n",
       " \"'SAYAR GOKBEN HIZLI'\",\n",
       " \" 'UYAR MUHEMMET FATIH'\",\n",
       " \" 'OZ OZGE PARLAR'\",\n",
       " \" 'ZISAKIS ATHANASIOS K.'\",\n",
       " \" 'ARUN OGUZHAN'\",\n",
       " \" 'SOLMAZ BILGEHAN'\",\n",
       " \" 'ERKAYA SELCUK'\",\n",
       " \" 'OYMAK FATMA SEMA'\",\n",
       " \" 'ERKEN ESMA'\",\n",
       " \"'CAMKURT MEHMET AKIF'\",\n",
       " \"'YASAR MEHMET'\",\n",
       " \"'OZ AHMET'\",\n",
       " \" 'KUSKUCU MERT'\",\n",
       " \" 'AKYOL VEYSEL'\",\n",
       " \" 'DONMEZDIL SULEYMAN'\",\n",
       " \" 'AKPEK MAHMUT'\",\n",
       " \" 'OZTURK OZLEM'\",\n",
       " \" 'CINGU ABDULLAH'\",\n",
       " \"'SURUCU AHMET'\",\n",
       " \" 'YAVUZ ASUMAN H.'\",\n",
       " \" 'ERISOGLU MURAT'\",\n",
       " \" 'BIRO MARIANNA'\",\n",
       " \" 'DENIZ MUSTAFA SAYGIN'\",\n",
       " \" 'SAHINTURK PINAR'\",\n",
       " \" 'OZDEMIR HANIFE'\",\n",
       " \"'ONAN AYTUG'\",\n",
       " \" 'CALISKAN BAHADIR'\",\n",
       " \" 'OZDEM SEYMA'\",\n",
       " \"'DEMIRYUREK SENIZ'\",\n",
       " \" 'KAYAOGLU HUSEYIN AYHAN'\",\n",
       " \"'GUNGOR KADIR'\",\n",
       " \" 'ARENAS RUIZ-TAPIADOR JUAN'\",\n",
       " \"'YILDIZ DEMET'\",\n",
       " \" 'CELIK MURAT'\",\n",
       " \"'GUNEY ESRA'\",\n",
       " \"'EKMEKCI HAKAN AHMET'\",\n",
       " \" 'OZCAN MUSTAFA'\",\n",
       " \" 'INCE HALUK'\",\n",
       " \"'ALP HARUN'\",\n",
       " \"'OK NUSRET'\",\n",
       " \" 'ARTIM-ESEN BAHAR'\",\n",
       " \" 'HAYIRLI ARMAGAN'\",\n",
       " \" 'CANKURTARAN EYLEM'\",\n",
       " \"'AKTAS BILGE'\",\n",
       " \"'KILIC SUAR CAKI'\",\n",
       " \" 'SEN HADICE S.'\",\n",
       " \" 'INCI RAHIME'\",\n",
       " \" 'BEKTAS MEHMET'\",\n",
       " \" 'KOSTEK OSMAN'\",\n",
       " \"'PAMUKCU OZGE'\",\n",
       " \" 'UNSAL CUNEYT'\",\n",
       " \" 'OZCAN SEDAT'\",\n",
       " \" 'DEMIREL MUZEYYEN'\",\n",
       " \"'KARAKUS OZLEM OZEN'\",\n",
       " \" 'FAYEMI PETER O.'\",\n",
       " \"'POLAR ONUR'\",\n",
       " \" 'SAHIN HAKAN'\",\n",
       " \" 'TURAN BUNYAMIN CUNEYT'\",\n",
       " \" 'CORAKCI AYDIN'\",\n",
       " \" 'ARAS MEVLUT'\",\n",
       " \" 'DURUKAN IBRAHIM'\",\n",
       " \"'ISIK TURGAY'\",\n",
       " \" 'AKCIMEN MEHMET'\",\n",
       " \" 'ALDEMIR MEHMET NACI'\",\n",
       " \" 'KOCYIGIT BURHAN FATIH'\",\n",
       " \" 'CEYLAN CAVIT'\",\n",
       " \" 'ADIN-CINAR SUZAN'\",\n",
       " \" 'CICEK DEMET'\",\n",
       " \" 'ALI BARHAM'\",\n",
       " \" 'SEYRANTEPE VOLKAN'\",\n",
       " \"'GUNDUZ HUSEYIN'\",\n",
       " \"'YILMAZ BURAK'\",\n",
       " \"'YURDASAL BELKIS'\",\n",
       " \" 'SEVINC MURAT'\",\n",
       " \"'CAVDAR UGUR'\",\n",
       " \" 'DEMIRKOSE MESUT'\",\n",
       " \" 'ALAKOC NILUEFER PEKIN'\",\n",
       " \" 'KELESTIMUR FAHRFTTIN'\",\n",
       " \" 'OKUTUCU MEHMET AKIF'\",\n",
       " \" 'ASIKOGLU MAKBULE'\",\n",
       " \" 'SEYMEN HAKKI OKTAY'\",\n",
       " \" 'CAKIR NURI'\",\n",
       " \" 'ATA NECMI'\",\n",
       " \" 'BOZKAYA SULEYMAN'\",\n",
       " \"'KALAFAT SEZAI'\",\n",
       " \" 'NOYAN MEHMET ALICAN'\",\n",
       " \" 'CATLI SERAP'\",\n",
       " \" 'MAYADAGLI ALPASLAN'\",\n",
       " \" 'ERGINTAV SEMIH'\",\n",
       " \" 'OZEN METEHAN'\",\n",
       " \"'ORHAN FURKAN'\",\n",
       " \" 'CIFTCI SEMA'\",\n",
       " \" 'KARAKAYA SUAT'\",\n",
       " \" 'KURKLU NEHIR'\",\n",
       " \"'OZTURK FAHRETTIN'\",\n",
       " \" 'CARHAN AHMET'\",\n",
       " \" 'ULUTABANCA HALIL'\",\n",
       " \" 'CAN GUENAY'\",\n",
       " \" 'HUSA PETR'\",\n",
       " \" 'STREINU-CERCEL ANCA'\",\n",
       " \"'ENHOS SUKRU'\",\n",
       " \" 'BILGILI ERTUGRUL'\",\n",
       " \" 'ALTUNBAS KORHAN'\",\n",
       " \" 'BAYKAN HALIT'\",\n",
       " \" 'JONES PETER A.'\",\n",
       " \" 'YILMAZ ATAKAN'\",\n",
       " \"'AKDOGAN HATICE ARDAG'\",\n",
       " \" 'ALTINOK AYSEN'\",\n",
       " \" 'AKBULUT SUAT'\",\n",
       " \" 'DULGERLER O. NURI'\",\n",
       " \" 'AYBEK HULYA'\",\n",
       " \" 'SAIP PINAR'\",\n",
       " \" 'DEMIRPENCE OZLEM'\",\n",
       " \" 'GULER MUSTAFA O.'\",\n",
       " \" 'GOKCORA NAHIDE'\",\n",
       " \" 'DEMIR TEVFIK'\",\n",
       " \" 'POLAT TAHIR'\",\n",
       " \" 'EKSI SALIHA'\",\n",
       " \" 'RAGBETLI MURAT CETIN'\",\n",
       " \" 'KOL ICLAL OZDEMIR'\",\n",
       " \" 'BILICI SALIM'\",\n",
       " \" 'ALAN FURKAN'\",\n",
       " \" 'BAGCI SENOL'\",\n",
       " \" 'BATUR SEBNEM'\",\n",
       " \" 'ELBEYLI LEVENT'\",\n",
       " \" 'PARMAN YESIM'\",\n",
       " \" 'ACM'\",\n",
       " \" 'VURGUN NILGUN'\",\n",
       " \" 'KERTMEN NEYRAN'\",\n",
       " \" 'YAPALI SUNA'\",\n",
       " \" 'ARAS OZGEN'\",\n",
       " \" 'YUCE IMDAT'\",\n",
       " \" 'BICER UMIT'\",\n",
       " \" 'GUNER SUKRU NAIL'\",\n",
       " \" 'KHALIQ IMRAN'\",\n",
       " \"'YILDIZ OZLEM KAYIM'\",\n",
       " \"'KART SEVGI OZDEMIR'\",\n",
       " \" 'DEMIRCI HALIL IBRAHIM'\",\n",
       " \" 'OZCAN NIHAL'\",\n",
       " \" 'ERKORKMAZ UNAL'\",\n",
       " \"'MENZILCIOGLU MEHMET SAIT'\",\n",
       " \" 'KEREMCALGIN M.'\",\n",
       " \" 'BUYUKKAYA EYUP'\",\n",
       " \" 'BOZAN NAZIM'\",\n",
       " \" 'GUNDUZ ZUBEYDE'\",\n",
       " \" 'ORHAN DICLEHAN'\",\n",
       " \" 'KARLI RIFAT'\",\n",
       " \"'FAYETORBAY DILARA'\",\n",
       " \" 'ASLAN LOKMAN'\",\n",
       " \" 'ERIKOGLU MEHMET'\",\n",
       " \"'MENTESE MELTEM YOLAL'\",\n",
       " \" 'TUTAT ZAFER A.'\",\n",
       " \" 'KAZANCIOGLU MUSTAFA Z.'\",\n",
       " \"'ERKUTLU IBRAHIM'\",\n",
       " \"'SUCU MURAT M.'\",\n",
       " \"'TURKER YASEMIN'\",\n",
       " \" 'GUL MEHMET A.'\",\n",
       " \" 'BOLAY HAYRUNNISA'\",\n",
       " \" 'OZEN MUHAMMET ALI'\",\n",
       " \" 'GULER HUSEYIN'\",\n",
       " \" 'GUNAY ERSIN'\",\n",
       " \"'TURAMANLAR OZAN'\",\n",
       " \" 'SHAO LONGJIANG'\",\n",
       " \" 'KUTAS BARIS'\",\n",
       " \" 'COLAK NESRIN'\",\n",
       " \"'YALKIN HUSEYIN ERDEM'\",\n",
       " \" 'KUMRU MEHMET N.'\",\n",
       " \" 'POYRAZ AHMET KURSAD'\",\n",
       " \" 'SENGUL EMIN'\",\n",
       " \"'OZDEMIR RESUL'\",\n",
       " \"'CANBAY EMEL'\",\n",
       " \" 'ERSAN ISMAIL'\",\n",
       " \" 'OKTEM Y'\",\n",
       " \" 'ERBAY EKREM'\",\n",
       " \" 'HACIYEV YUSIF'\",\n",
       " \" 'YAGCI BAKI'\",\n",
       " \"'YULAFCI AHMET'\",\n",
       " \" 'GOKGOZ AHMET TANER'\",\n",
       " \"'EROL CENGIZ'\",\n",
       " \" 'RAMULU CHINTHAMALLA'\",\n",
       " \" 'VAN DER LINDEN SJEF'\",\n",
       " \" 'YAKUT OGUZ'\",\n",
       " \" 'OLMEZ HUSEYIN'\",\n",
       " ...}"
      ]
     },
     "execution_count": 12,
     "metadata": {},
     "output_type": "execute_result"
    }
   ],
   "source": [
    "undismissed"
   ]
  },
  {
   "cell_type": "code",
   "execution_count": 13,
   "metadata": {},
   "outputs": [
    {
     "name": "stdout",
     "output_type": "stream",
     "text": [
      "So, we have 34442 undismissed guys\n"
     ]
    }
   ],
   "source": [
    "print('So, we have ' + str(len(undismissed)) + ' undismissed guys')"
   ]
  },
  {
   "cell_type": "code",
   "execution_count": 14,
   "metadata": {},
   "outputs": [
    {
     "data": {
      "text/plain": [
       "34442"
      ]
     },
     "execution_count": 14,
     "metadata": {},
     "output_type": "execute_result"
    }
   ],
   "source": [
    "searchnames_undismiss_auths_query = []\n",
    "searchnames_undismiss_auths = []\n",
    "searchnames_undismiss_univ = []\n",
    "for undismissed_pers in undismissed: \n",
    "    QueryString_author =\"AU=\"+undismissed_pers\n",
    "    author = undismissed_pers\n",
    "    searchnames_undismiss_auths.append(author)\n",
    "    searchnames_undismiss_auths_query.append(QueryString_author)\n",
    "    \n",
    "#remove header\n",
    "searchnames_undismiss_auths_query = searchnames_undismiss_auths_query\n",
    "searchnames_undismiss_auths = searchnames_undismiss_auths\n",
    "\n",
    "len(searchnames_undismiss_auths_query)"
   ]
  },
  {
   "cell_type": "code",
   "execution_count": 17,
   "metadata": {},
   "outputs": [
    {
     "name": "stdout",
     "output_type": "stream",
     "text": [
      "Authenticated (SID: D54UI7TwcdIGj8QAVzW)\n",
      "0\n",
      "Authenticated (SID: D5HaqIGeC9SrPLWj2ZN)\n",
      "1\n",
      "2\n",
      "3\n",
      "4\n",
      "5\n",
      "6\n",
      "7\n",
      "8\n",
      "9\n",
      "10\n",
      "11\n",
      "ERROR ON AUT AU= 'PARMAKSIZ ISKENDER'\n",
      "12\n",
      "13\n",
      "14\n",
      "15\n",
      "16\n",
      "17\n",
      "18\n",
      "19\n",
      "20\n",
      "21\n",
      "22\n",
      "23\n",
      "24\n",
      "25\n",
      "ERROR ON AUT AU='ELLIS L. T.'\n",
      "26\n",
      "27\n",
      "28\n",
      "29\n",
      "30\n",
      "31\n",
      "32\n",
      "33\n",
      "34\n",
      "35\n",
      "36\n",
      "37\n",
      "38\n",
      "39\n",
      "40\n",
      "41\n",
      "42\n",
      "43\n",
      "ERROR ON AUT AU='AKGUL MEHMET'\n",
      "44\n",
      "45\n",
      "46\n",
      "47\n",
      "48\n",
      "49\n",
      "50\n",
      "51\n",
      "52\n",
      "53\n",
      "54\n",
      "55\n",
      "56\n",
      "57\n",
      "58\n",
      "59\n",
      "60\n",
      "61\n",
      "62\n",
      "63\n",
      "64\n",
      "65\n",
      "66\n",
      "67\n",
      "68\n",
      "69\n",
      "70\n",
      "71\n",
      "72\n",
      "73\n",
      "74\n",
      "75\n",
      "76\n",
      "77\n",
      "78\n",
      "79\n",
      "80\n",
      "81\n",
      "82\n",
      "83\n",
      "84\n",
      "85\n",
      "86\n",
      "87\n",
      "88\n",
      "89\n",
      "90\n",
      "91\n",
      "92\n",
      "93\n",
      "94\n",
      "95\n",
      "96\n",
      "97\n",
      "98\n",
      "99\n",
      "100\n",
      "101\n",
      "102\n",
      "103\n",
      "104\n",
      "105\n",
      "106\n",
      "107\n",
      "108\n",
      "ERROR ON AUT AU= 'YILDIZ ABDULLAH'\n",
      "109\n",
      "110\n",
      "111\n",
      "112\n",
      "113\n",
      "114\n",
      "115\n",
      "116\n",
      "117\n",
      "118\n",
      "119\n",
      "120\n",
      "121\n",
      "122\n",
      "123\n",
      "124\n",
      "125\n",
      "126\n",
      "127\n",
      "128\n",
      "129\n",
      "130\n",
      "131\n",
      "132\n",
      "133\n",
      "134\n",
      "135\n",
      "136\n",
      "137\n",
      "138\n",
      "139\n",
      "140\n",
      "141\n",
      "142\n",
      "143\n",
      "144\n",
      "145\n",
      "146\n",
      "147\n",
      "148\n",
      "149\n",
      "150\n",
      "151\n",
      "152\n",
      "153\n",
      "154\n",
      "155\n",
      "156\n",
      "157\n",
      "158\n",
      "159\n",
      "ERROR ON AUT AU='USTAALIOGLU BALA BASAK OVEN'\n",
      "160\n",
      "161\n",
      "162\n",
      "163\n",
      "164\n",
      "165\n",
      "166\n",
      "167\n",
      "168\n",
      "169\n",
      "170\n",
      "171\n",
      "172\n",
      "173\n",
      "174\n",
      "175\n",
      "176\n",
      "177\n",
      "178\n",
      "179\n",
      "180\n",
      "181\n",
      "182\n",
      "183\n",
      "184\n",
      "185\n",
      "186\n",
      "187\n",
      "188\n",
      "189\n",
      "190\n",
      "191\n",
      "192\n",
      "193\n",
      "194\n",
      "195\n",
      "196\n",
      "197\n",
      "198\n",
      "199\n",
      "200\n",
      "201\n",
      "202\n",
      "203\n",
      "204\n",
      "205\n",
      "206\n",
      "207\n",
      "208\n",
      "209\n",
      "210\n",
      "211\n",
      "212\n",
      "213\n",
      "214\n",
      "215\n",
      "216\n",
      "217\n",
      "218\n",
      "219\n",
      "220\n",
      "221\n",
      "222\n",
      "223\n",
      "224\n",
      "225\n",
      "226\n",
      "227\n",
      "228\n",
      "229\n",
      "230\n",
      "231\n",
      "232\n",
      "233\n",
      "234\n",
      "235\n",
      "236\n",
      "237\n",
      "238\n",
      "239\n",
      "240\n",
      "241\n",
      "242\n",
      "243\n",
      "244\n",
      "245\n",
      "246\n",
      "247\n",
      "248\n",
      "249\n",
      "250\n",
      "251\n",
      "252\n",
      "253\n",
      "254\n",
      "255\n",
      "256\n",
      "257\n",
      "258\n",
      "259\n",
      "260\n",
      "261\n",
      "262\n",
      "263\n",
      "264\n",
      "265\n",
      "266\n",
      "267\n",
      "268\n",
      "269\n",
      "270\n",
      "271\n",
      "272\n",
      "273\n",
      "274\n",
      "275\n",
      "276\n",
      "277\n",
      "278\n",
      "279\n",
      "280\n",
      "281\n",
      "282\n",
      "283\n",
      "284\n",
      "285\n",
      "286\n",
      "287\n",
      "288\n",
      "289\n",
      "290\n",
      "291\n",
      "292\n",
      "293\n",
      "294\n",
      "295\n",
      "296\n",
      "297\n",
      "298\n",
      "299\n",
      "300\n",
      "301\n",
      "302\n",
      "303\n",
      "304\n",
      "305\n",
      "306\n",
      "307\n",
      "308\n",
      "309\n",
      "310\n",
      "311\n",
      "312\n",
      "313\n",
      "314\n",
      "315\n",
      "316\n",
      "317\n",
      "318\n",
      "319\n",
      "320\n",
      "321\n",
      "322\n",
      "323\n",
      "324\n",
      "325\n",
      "326\n",
      "327\n",
      "328\n",
      "329\n",
      "330\n",
      "331\n",
      "332\n",
      "333\n",
      "334\n",
      "335\n",
      "336\n",
      "337\n",
      "338\n",
      "339\n",
      "340\n",
      "341\n",
      "342\n",
      "343\n",
      "344\n",
      "345\n",
      "346\n",
      "347\n",
      "348\n",
      "349\n",
      "350\n",
      "351\n",
      "352\n",
      "353\n",
      "354\n",
      "355\n",
      "356\n",
      "357\n",
      "358\n",
      "359\n",
      "360\n",
      "361\n",
      "362\n",
      "363\n",
      "364\n",
      "365\n",
      "366\n",
      "367\n",
      "368\n",
      "369\n",
      "370\n",
      "371\n",
      "372\n",
      "373\n",
      "374\n",
      "375\n",
      "376\n",
      "377\n",
      "378\n",
      "379\n",
      "380\n",
      "381\n",
      "382\n",
      "383\n",
      "384\n",
      "385\n",
      "386\n",
      "387\n",
      "388\n",
      "389\n",
      "390\n",
      "391\n",
      "392\n",
      "ERROR ON AUT AU='DOGAN HASAN'\n",
      "393\n",
      "394\n",
      "395\n",
      "396\n",
      "397\n",
      "398\n",
      "399\n",
      "400\n",
      "401\n",
      "402\n",
      "403\n",
      "404\n",
      "405\n",
      "406\n",
      "407\n",
      "408\n",
      "409\n",
      "410\n",
      "411\n",
      "412\n",
      "413\n",
      "414\n",
      "415\n",
      "ERROR ON AUT AU='TAGLIALATELA-SCAFATI ORAZIO'\n",
      "416\n",
      "417\n",
      "418\n",
      "419\n",
      "420\n",
      "421\n",
      "422\n",
      "423\n",
      "424\n",
      "425\n",
      "426\n",
      "427\n",
      "428\n",
      "429\n",
      "430\n",
      "431\n",
      "432\n",
      "433\n",
      "434\n",
      "435\n",
      "436\n",
      "437\n",
      "ERROR ON AUT AU= 'ARMUTCU FERAH'\n",
      "438\n",
      "439\n",
      "440\n",
      "441\n",
      "442\n",
      "443\n",
      "444\n",
      "445\n",
      "446\n",
      "447\n",
      "448\n",
      "449\n",
      "450\n",
      "451\n",
      "452\n",
      "453\n",
      "454\n",
      "455\n",
      "456\n",
      "457\n",
      "458\n",
      "459\n",
      "460\n",
      "461\n",
      "462\n",
      "463\n",
      "464\n",
      "465\n",
      "466\n",
      "467\n",
      "468\n",
      "469\n",
      "470\n",
      "471\n",
      "472\n",
      "473\n",
      "474\n",
      "475\n",
      "476\n",
      "477\n",
      "478\n",
      "479\n",
      "480\n",
      "481\n",
      "482\n",
      "483\n",
      "484\n",
      "485\n",
      "486\n",
      "487\n",
      "488\n",
      "489\n",
      "490\n",
      "491\n",
      "492\n",
      "493\n",
      "494\n",
      "495\n",
      "496\n",
      "497\n",
      "498\n",
      "499\n",
      "500\n",
      "501\n",
      "502\n",
      "503\n",
      "504\n",
      "505\n",
      "506\n",
      "507\n",
      "508\n",
      "509\n",
      "ERROR ON AUT AU= 'TAMAM CUNEYT'\n",
      "510\n",
      "511\n",
      "512\n",
      "513\n",
      "514\n",
      "515\n",
      "516\n",
      "517\n",
      "518\n",
      "519\n",
      "520\n",
      "521\n",
      "522\n",
      "523\n",
      "524\n",
      "525\n",
      "526\n",
      "527\n",
      "528\n",
      "529\n",
      "530\n",
      "531\n",
      "532\n",
      "533\n",
      "534\n",
      "535\n",
      "536\n",
      "537\n",
      "538\n",
      "539\n",
      "540\n",
      "541\n",
      "542\n",
      "543\n",
      "544\n",
      "ERROR ON AUT AU= 'KIM HK'\n",
      "545\n",
      "546\n",
      "547\n",
      "548\n",
      "549\n",
      "550\n",
      "551\n",
      "552\n",
      "553\n",
      "ERROR ON AUT AU= 'USTABASIOGLU FETHI EMRE'\n",
      "554\n",
      "555\n",
      "556\n",
      "557\n",
      "558\n",
      "559\n",
      "560\n",
      "561\n",
      "562\n",
      "563\n",
      "564\n",
      "565\n",
      "566\n",
      "567\n",
      "ERROR ON AUT AU= 'ASLAN TURAN'\n",
      "568\n",
      "569\n",
      "570\n",
      "571\n",
      "572\n",
      "573\n",
      "574\n",
      "575\n",
      "576\n",
      "577\n",
      "578\n",
      "579\n",
      "580\n",
      "581\n",
      "582\n",
      "583\n",
      "584\n",
      "585\n",
      "586\n",
      "587\n",
      "588\n",
      "589\n",
      "590\n",
      "591\n",
      "592\n",
      "593\n",
      "594\n",
      "595\n",
      "596\n",
      "ERROR ON AUT AU= 'CELIK ORCUN'\n",
      "597\n",
      "598\n",
      "599\n",
      "600\n",
      "601\n",
      "602\n",
      "603\n",
      "604\n",
      "605\n",
      "606\n",
      "607\n",
      "608\n",
      "609\n",
      "610\n",
      "611\n",
      "612\n",
      "613\n",
      "614\n",
      "615\n",
      "616\n",
      "617\n",
      "618\n",
      "619\n",
      "620\n",
      "621\n",
      "622\n",
      "623\n",
      "624\n",
      "625\n",
      "626\n",
      "627\n",
      "628\n",
      "629\n",
      "630\n",
      "631\n",
      "632\n",
      "633\n",
      "634\n",
      "635\n",
      "636\n",
      "637\n",
      "638\n",
      "639\n",
      "640\n",
      "641\n",
      "642\n",
      "643\n",
      "644\n",
      "645\n",
      "646\n",
      "647\n",
      "648\n",
      "649\n",
      "650\n",
      "651\n",
      "652\n",
      "653\n",
      "654\n",
      "655\n",
      "656\n",
      "657\n",
      "658\n",
      "659\n",
      "660\n",
      "661\n",
      "ERROR ON AUT AU='YUKSEL NILAY'\n",
      "662\n",
      "663\n",
      "664\n",
      "665\n",
      "666\n",
      "667\n",
      "668\n",
      "669\n",
      "670\n",
      "671\n",
      "672\n",
      "673\n",
      "674\n",
      "ERROR ON AUT AU= 'OZBEK MEHMET'\n",
      "675\n",
      "676\n",
      "677\n",
      "678\n",
      "679\n",
      "680\n",
      "681\n",
      "682\n",
      "683\n",
      "684\n",
      "685\n",
      "686\n",
      "687\n",
      "688\n",
      "689\n",
      "690\n",
      "691\n",
      "692\n",
      "693\n",
      "694\n",
      "695\n",
      "696\n",
      "697\n",
      "698\n",
      "699\n",
      "700\n",
      "701\n",
      "702\n",
      "703\n",
      "704\n",
      "705\n",
      "706\n",
      "707\n",
      "708\n",
      "709\n",
      "710\n",
      "711\n",
      "712\n",
      "713\n",
      "714\n",
      "715\n",
      "716\n",
      "717\n",
      "718\n",
      "719\n",
      "720\n",
      "721\n",
      "722\n",
      "723\n",
      "724\n",
      "725\n",
      "726\n",
      "727\n",
      "728\n",
      "729\n",
      "730\n",
      "731\n",
      "732\n",
      "733\n",
      "734\n",
      "735\n",
      "736\n",
      "737\n",
      "738\n",
      "739\n",
      "740\n",
      "741\n",
      "742\n",
      "743\n",
      "744\n",
      "745\n",
      "746\n",
      "747\n",
      "748\n",
      "749\n",
      "750\n",
      "751\n",
      "752\n",
      "753\n",
      "754\n",
      "755\n",
      "756\n",
      "757\n",
      "758\n",
      "759\n",
      "760\n",
      "761\n",
      "762\n",
      "763\n",
      "764\n",
      "ERROR ON AUT AU= 'KIKUCHI H'\n",
      "765\n",
      "766\n",
      "767\n",
      "768\n",
      "769\n",
      "770\n",
      "771\n",
      "772\n",
      "773\n",
      "774\n",
      "775\n",
      "776\n",
      "777\n",
      "778\n",
      "779\n",
      "780\n",
      "781\n",
      "782\n",
      "783\n",
      "784\n",
      "785\n",
      "786\n",
      "787\n",
      "788\n",
      "ERROR ON AUT AU= 'HIZLI SAMIL'\n",
      "789\n",
      "790\n",
      "791\n",
      "792\n",
      "793\n",
      "794\n",
      "795\n",
      "796\n",
      "797\n",
      "798\n",
      "799\n",
      "800\n",
      "801\n",
      "802\n",
      "803\n",
      "804\n",
      "805\n",
      "806\n",
      "807\n",
      "808\n",
      "809\n",
      "810\n",
      "811\n",
      "812\n",
      "813\n",
      "814\n",
      "815\n",
      "816\n",
      "ERROR ON AUT AU= 'CEYLAN BAHADIR'\n",
      "817\n",
      "818\n",
      "819\n",
      "820\n",
      "821\n",
      "822\n",
      "823\n",
      "824\n",
      "825\n",
      "826\n",
      "827\n",
      "828\n",
      "829\n",
      "830\n",
      "831\n",
      "832\n",
      "833\n",
      "834\n",
      "835\n",
      "836\n",
      "837\n",
      "838\n",
      "839\n",
      "840\n",
      "841\n",
      "842\n",
      "843\n",
      "844\n",
      "845\n",
      "846\n",
      "847\n",
      "848\n",
      "849\n",
      "850\n",
      "851\n",
      "852\n",
      "853\n",
      "854\n",
      "855\n",
      "856\n",
      "857\n",
      "858\n",
      "859\n",
      "860\n",
      "861\n",
      "862\n",
      "863\n",
      "864\n",
      "865\n",
      "866\n",
      "867\n",
      "868\n",
      "869\n",
      "870\n",
      "871\n",
      "872\n",
      "873\n",
      "874\n",
      "875\n",
      "876\n",
      "877\n",
      "878\n",
      "879\n",
      "880\n",
      "881\n",
      "882\n",
      "883\n",
      "884\n",
      "885\n",
      "886\n",
      "887\n",
      "888\n",
      "889\n",
      "890\n",
      "891\n",
      "892\n",
      "893\n",
      "894\n",
      "895\n",
      "896\n",
      "897\n",
      "898\n",
      "899\n",
      "900\n",
      "901\n",
      "902\n",
      "903\n",
      "904\n",
      "905\n",
      "906\n",
      "907\n",
      "908\n",
      "909\n",
      "910\n",
      "911\n",
      "912\n",
      "913\n",
      "914\n",
      "915\n",
      "916\n",
      "917\n",
      "918\n",
      "919\n",
      "920\n",
      "921\n",
      "922\n",
      "923\n",
      "924\n",
      "925\n",
      "926\n",
      "927\n",
      "928\n",
      "929\n",
      "930\n",
      "931\n",
      "932\n",
      "933\n",
      "934\n",
      "935\n",
      "936\n",
      "937\n",
      "938\n",
      "939\n",
      "940\n",
      "941\n",
      "942\n",
      "943\n",
      "944\n",
      "945\n",
      "946\n",
      "947\n",
      "948\n",
      "949\n",
      "950\n",
      "951\n",
      "952\n",
      "953\n",
      "954\n",
      "955\n",
      "956\n",
      "ERROR ON AUT AU= 'ERKORKMAZ UNAL'\n",
      "957\n",
      "958\n",
      "959\n",
      "960\n",
      "961\n",
      "962\n",
      "963\n",
      "964\n",
      "965\n",
      "966\n",
      "967\n",
      "968\n",
      "969\n",
      "970\n",
      "971\n",
      "972\n",
      "973\n",
      "974\n",
      "975\n",
      "976\n",
      "977\n",
      "978\n",
      "979\n",
      "980\n",
      "981\n",
      "982\n",
      "983\n",
      "984\n",
      "985\n",
      "986\n",
      "987\n",
      "988\n",
      "989\n",
      "990\n",
      "991\n",
      "992\n",
      "993\n",
      "994\n",
      "995\n",
      "996\n",
      "997\n",
      "998\n",
      "999\n",
      "1000\n",
      "1001\n",
      "1002\n",
      "1003\n",
      "1004\n",
      "1005\n",
      "1006\n",
      "1007\n",
      "1008\n",
      "1009\n",
      "1010\n",
      "1011\n",
      "1012\n",
      "1013\n",
      "1014\n",
      "1015\n",
      "1016\n",
      "1017\n",
      "1018\n",
      "1019\n",
      "1020\n",
      "1021\n",
      "1022\n",
      "1023\n",
      "1024\n",
      "1025\n",
      "1026\n",
      "1027\n",
      "1028\n",
      "1029\n",
      "1030\n",
      "1031\n",
      "1032\n",
      "1033\n",
      "1034\n",
      "1035\n",
      "1036\n",
      "1037\n",
      "1038\n",
      "1039\n",
      "1040\n",
      "1041\n",
      "1042\n",
      "1043\n",
      "1044\n",
      "1045\n",
      "1046\n",
      "1047\n",
      "1048\n",
      "1049\n",
      "1050\n",
      "1051\n",
      "1052\n",
      "1053\n",
      "1054\n",
      "1055\n",
      "1056\n",
      "1057\n",
      "1058\n",
      "1059\n",
      "1060\n",
      "1061\n",
      "1062\n",
      "1063\n",
      "1064\n",
      "1065\n",
      "1066\n",
      "1067\n",
      "1068\n",
      "1069\n",
      "1070\n",
      "1071\n",
      "1072\n",
      "1073\n",
      "1074\n",
      "1075\n",
      "1076\n",
      "1077\n",
      "1078\n",
      "1079\n",
      "ERROR ON AUT AU= 'AKKOYUNLU MUHAMMED'\n",
      "1080\n",
      "1081\n",
      "1082\n",
      "1083\n",
      "1084\n",
      "1085\n",
      "1086\n",
      "1087\n",
      "1088\n",
      "1089\n",
      "1090\n",
      "1091\n",
      "1092\n",
      "1093\n",
      "1094\n",
      "1095\n",
      "1096\n",
      "1097\n",
      "1098\n",
      "1099\n",
      "1100\n",
      "1101\n",
      "1102\n",
      "1103\n",
      "1104\n",
      "1105\n",
      "1106\n",
      "1107\n",
      "1108\n",
      "1109\n",
      "1110\n",
      "1111\n",
      "1112\n",
      "1113\n",
      "1114\n",
      "1115\n",
      "1116\n",
      "1117\n",
      "1118\n",
      "1119\n",
      "1120\n",
      "1121\n",
      "1122\n",
      "1123\n",
      "1124\n",
      "1125\n",
      "1126\n",
      "1127\n",
      "1128\n",
      "1129\n",
      "1130\n",
      "1131\n",
      "1132\n",
      "1133\n",
      "1134\n",
      "1135\n",
      "1136\n",
      "1137\n",
      "1138\n",
      "1139\n",
      "1140\n",
      "1141\n",
      "1142\n",
      "1143\n",
      "1144\n",
      "1145\n",
      "1146\n",
      "1147\n",
      "1148\n",
      "1149\n",
      "1150\n",
      "1151\n",
      "1152\n",
      "1153\n",
      "1154\n",
      "1155\n",
      "1156\n",
      "1157\n",
      "1158\n",
      "1159\n",
      "1160\n",
      "1161\n",
      "1162\n",
      "ERROR ON AUT AU= 'DVORAK V'\n",
      "1163\n",
      "1164\n",
      "1165\n",
      "1166\n",
      "1167\n",
      "1168\n",
      "1169\n",
      "1170\n",
      "1171\n",
      "1172\n",
      "1173\n",
      "1174\n",
      "1175\n",
      "1176\n",
      "1177\n",
      "1178\n",
      "1179\n",
      "1180\n",
      "ERROR ON AUT AU= 'PROKOP PAVOL'\n",
      "1181\n",
      "1182\n",
      "1183\n",
      "1184\n",
      "1185\n",
      "1186\n",
      "1187\n",
      "1188\n",
      "1189\n",
      "1190\n",
      "1191\n",
      "1192\n",
      "1193\n",
      "1194\n",
      "1195\n",
      "1196\n",
      "1197\n"
     ]
    },
    {
     "name": "stderr",
     "output_type": "stream",
     "text": [
      "<suds.sax.document.Document object at 0x145038dd8>\n"
     ]
    },
    {
     "name": "stdout",
     "output_type": "stream",
     "text": [
      "ERROR ON AUT AU= 'KAYA O.'\n",
      "1198\n",
      "1199\n",
      "1200\n",
      "ERROR ON AUT AU= 'ERYILDIRIM BILAL'\n",
      "1201\n",
      "1202\n",
      "1203\n",
      "1204\n",
      "1205\n",
      "1206\n",
      "1207\n",
      "1208\n",
      "1209\n",
      "1210\n",
      "1211\n",
      "1212\n",
      "1213\n",
      "1214\n",
      "1215\n",
      "1216\n",
      "1217\n",
      "1218\n",
      "1219\n",
      "1220\n",
      "ERROR ON AUT AU= 'MORENO P'\n",
      "1221\n",
      "1222\n",
      "1223\n",
      "1224\n",
      "1225\n",
      "1226\n",
      "1227\n",
      "1228\n",
      "1229\n",
      "1230\n",
      "1231\n",
      "1232\n",
      "1233\n",
      "1234\n",
      "1235\n",
      "1236\n",
      "1237\n",
      "1238\n",
      "1239\n",
      "1240\n",
      "1241\n",
      "1242\n",
      "1243\n",
      "1244\n",
      "1245\n",
      "1246\n",
      "1247\n",
      "1248\n",
      "1249\n",
      "1250\n",
      "1251\n",
      "1252\n",
      "1253\n",
      "1254\n",
      "1255\n",
      "1256\n",
      "1257\n",
      "1258\n",
      "1259\n",
      "ERROR ON AUT AU='DEMIR MUSTAFA'\n",
      "1260\n",
      "1261\n",
      "1262\n",
      "1263\n",
      "1264\n",
      "1265\n",
      "1266\n",
      "1267\n",
      "1268\n",
      "1269\n",
      "1270\n",
      "1271\n",
      "ERROR ON AUT AU= 'KAZERANI FARZANEH'\n",
      "1272\n",
      "1273\n",
      "1274\n",
      "1275\n",
      "1276\n",
      "1277\n",
      "1278\n",
      "1279\n",
      "1280\n",
      "1281\n",
      "1282\n",
      "1283\n",
      "1284\n",
      "1285\n",
      "1286\n",
      "1287\n",
      "1288\n",
      "1289\n",
      "1290\n",
      "1291\n",
      "1292\n",
      "1293\n",
      "1294\n",
      "1295\n",
      "1296\n",
      "1297\n",
      "1298\n",
      "1299\n",
      "1300\n",
      "1301\n",
      "1302\n",
      "1303\n",
      "1304\n",
      "1305\n",
      "1306\n",
      "1307\n",
      "1308\n",
      "1309\n",
      "1310\n",
      "1311\n",
      "1312\n",
      "1313\n",
      "1314\n",
      "1315\n",
      "ERROR ON AUT AU= 'SANTOS XAVIER'\n",
      "1316\n",
      "1317\n",
      "1318\n",
      "1319\n",
      "1320\n",
      "1321\n",
      "1322\n",
      "1323\n",
      "1324\n",
      "1325\n",
      "1326\n",
      "1327\n",
      "1328\n",
      "1329\n",
      "1330\n",
      "1331\n",
      "1332\n",
      "1333\n",
      "1334\n",
      "1335\n",
      "1336\n",
      "1337\n",
      "1338\n",
      "1339\n",
      "1340\n",
      "1341\n",
      "1342\n",
      "1343\n",
      "1344\n",
      "1345\n",
      "ERROR ON AUT AU='PAMUK GULSUM EMEL'\n",
      "1346\n",
      "1347\n",
      "1348\n",
      "1349\n",
      "1350\n",
      "1351\n",
      "1352\n",
      "1353\n",
      "1354\n",
      "1355\n",
      "1356\n",
      "1357\n",
      "1358\n",
      "1359\n",
      "1360\n",
      "1361\n",
      "1362\n",
      "1363\n",
      "1364\n",
      "1365\n",
      "1366\n",
      "1367\n",
      "1368\n",
      "1369\n",
      "1370\n",
      "1371\n",
      "1372\n",
      "1373\n",
      "1374\n",
      "1375\n",
      "1376\n",
      "1377\n",
      "1378\n",
      "1379\n",
      "1380\n",
      "1381\n",
      "1382\n",
      "1383\n",
      "1384\n",
      "1385\n",
      "1386\n",
      "1387\n",
      "1388\n",
      "1389\n",
      "1390\n",
      "1391\n",
      "1392\n",
      "1393\n",
      "1394\n",
      "1395\n",
      "1396\n",
      "1397\n",
      "1398\n",
      "1399\n",
      "1400\n",
      "1401\n",
      "1402\n",
      "1403\n",
      "1404\n",
      "1405\n",
      "1406\n",
      "1407\n",
      "1408\n",
      "1409\n",
      "1410\n",
      "1411\n",
      "1412\n",
      "1413\n",
      "1414\n",
      "ERROR ON AUT AU= 'ABRAHAM A'\n",
      "1415\n",
      "1416\n",
      "1417\n",
      "1418\n",
      "1419\n",
      "1420\n",
      "1421\n",
      "1422\n",
      "1423\n",
      "1424\n",
      "1425\n",
      "ERROR ON AUT AU= 'MUZNY DONNA'\n",
      "1426\n",
      "1427\n",
      "1428\n",
      "1429\n",
      "1430\n",
      "1431\n",
      "1432\n",
      "1433\n",
      "1434\n",
      "1435\n",
      "1436\n",
      "1437\n",
      "1438\n",
      "1439\n",
      "1440\n",
      "1441\n",
      "1442\n",
      "1443\n",
      "1444\n",
      "1445\n",
      "1446\n",
      "1447\n",
      "1448\n",
      "1449\n",
      "1450\n",
      "1451\n",
      "1452\n",
      "1453\n",
      "1454\n",
      "1455\n",
      "1456\n",
      "1457\n",
      "1458\n",
      "1459\n",
      "1460\n",
      "1461\n",
      "1462\n",
      "1463\n",
      "1464\n",
      "1465\n",
      "1466\n",
      "ERROR ON AUT AU= 'TOMAZIC IZTOK'\n",
      "1467\n",
      "1468\n",
      "1469\n",
      "1470\n",
      "1471\n",
      "1472\n",
      "1473\n",
      "1474\n",
      "1475\n",
      "1476\n",
      "1477\n",
      "1478\n",
      "1479\n",
      "1480\n",
      "1481\n",
      "1482\n",
      "1483\n",
      "1484\n",
      "1485\n",
      "1486\n",
      "1487\n",
      "ERROR ON AUT AU= 'ERSOY REYHAN'\n",
      "1488\n",
      "1489\n",
      "1490\n",
      "1491\n",
      "1492\n",
      "1493\n",
      "1494\n",
      "1495\n",
      "1496\n",
      "1497\n",
      "1498\n",
      "1499\n",
      "1500\n",
      "1501\n",
      "1502\n",
      "1503\n",
      "ERROR ON AUT AU= 'GERSTOFT JAN'\n",
      "1504\n",
      "1505\n",
      "1506\n",
      "1507\n",
      "1508\n",
      "1509\n",
      "1510\n",
      "1511\n",
      "1512\n",
      "1513\n",
      "1514\n",
      "1515\n",
      "1516\n",
      "1517\n",
      "1518\n",
      "1519\n",
      "1520\n",
      "1521\n",
      "1522\n",
      "1523\n",
      "1524\n",
      "1525\n",
      "1526\n",
      "1527\n",
      "1528\n",
      "1529\n",
      "1530\n",
      "1531\n",
      "1532\n",
      "1533\n",
      "1534\n",
      "1535\n",
      "1536\n",
      "1537\n",
      "1538\n",
      "1539\n",
      "1540\n",
      "1541\n",
      "1542\n",
      "1543\n",
      "ERROR ON AUT AU= 'ANAR CEYDA'\n",
      "1544\n",
      "1545\n",
      "1546\n",
      "1547\n",
      "1548\n",
      "1549\n",
      "1550\n",
      "1551\n",
      "1552\n",
      "1553\n",
      "1554\n",
      "1555\n",
      "1556\n",
      "1557\n",
      "1558\n",
      "1559\n",
      "1560\n",
      "1561\n",
      "1562\n",
      "1563\n",
      "1564\n",
      "1565\n",
      "1566\n",
      "1567\n",
      "1568\n",
      "1569\n",
      "1570\n",
      "1571\n",
      "1572\n",
      "1573\n",
      "1574\n",
      "1575\n",
      "ERROR ON AUT AU= 'BANDIRMALI NECLA'\n",
      "1576\n",
      "1577\n",
      "1578\n",
      "1579\n",
      "1580\n",
      "1581\n",
      "1582\n",
      "1583\n",
      "1584\n",
      "1585\n",
      "1586\n"
     ]
    },
    {
     "name": "stderr",
     "output_type": "stream",
     "text": [
      "<suds.sax.document.Document object at 0x1161cfdd8>\n"
     ]
    },
    {
     "name": "stdout",
     "output_type": "stream",
     "text": [
      "ERROR ON AUT AU= 'KARSLI VEDAT MEHMET'\n",
      "1587\n"
     ]
    },
    {
     "name": "stderr",
     "output_type": "stream",
     "text": [
      "<suds.sax.document.Document object at 0x113c59b38>\n"
     ]
    },
    {
     "name": "stdout",
     "output_type": "stream",
     "text": [
      "ERROR ON AUT AU= 'OZBAY GUNAY'\n",
      "1588\n"
     ]
    },
    {
     "name": "stderr",
     "output_type": "stream",
     "text": [
      "<suds.sax.document.Document object at 0x113c59160>\n"
     ]
    },
    {
     "name": "stdout",
     "output_type": "stream",
     "text": [
      "ERROR ON AUT AU= 'YILMAZ OKKES'\n",
      "1589\n"
     ]
    },
    {
     "name": "stderr",
     "output_type": "stream",
     "text": [
      "<suds.sax.document.Document object at 0x1161cf278>\n"
     ]
    },
    {
     "name": "stdout",
     "output_type": "stream",
     "text": [
      "ERROR ON AUT AU= 'BORLU FATIH'\n",
      "1590\n"
     ]
    },
    {
     "name": "stderr",
     "output_type": "stream",
     "text": [
      "<suds.sax.document.Document object at 0x112a87908>\n"
     ]
    },
    {
     "name": "stdout",
     "output_type": "stream",
     "text": [
      "ERROR ON AUT AU= 'EROL SERPIL'\n",
      "1591\n"
     ]
    },
    {
     "name": "stderr",
     "output_type": "stream",
     "text": [
      "<suds.sax.document.Document object at 0x112a87d30>\n"
     ]
    },
    {
     "name": "stdout",
     "output_type": "stream",
     "text": [
      "ERROR ON AUT AU= 'YANG SHI-YAO'\n",
      "1592\n"
     ]
    },
    {
     "name": "stderr",
     "output_type": "stream",
     "text": [
      "<suds.sax.document.Document object at 0x115f947f0>\n"
     ]
    },
    {
     "name": "stdout",
     "output_type": "stream",
     "text": [
      "ERROR ON AUT AU= 'GANIDAGLI SEFA'\n",
      "1593\n"
     ]
    },
    {
     "name": "stderr",
     "output_type": "stream",
     "text": [
      "<suds.sax.document.Document object at 0x115976160>\n"
     ]
    },
    {
     "name": "stdout",
     "output_type": "stream",
     "text": [
      "ERROR ON AUT AU='DEMIRKOL ISKENDER'\n",
      "1594\n"
     ]
    },
    {
     "name": "stderr",
     "output_type": "stream",
     "text": [
      "<suds.sax.document.Document object at 0x113c59cc0>\n"
     ]
    },
    {
     "name": "stdout",
     "output_type": "stream",
     "text": [
      "ERROR ON AUT AU= 'LEE EDWARD Y.'\n",
      "1595\n"
     ]
    },
    {
     "name": "stderr",
     "output_type": "stream",
     "text": [
      "<suds.sax.document.Document object at 0x113c81438>\n"
     ]
    },
    {
     "name": "stdout",
     "output_type": "stream",
     "text": [
      "ERROR ON AUT AU='OZEN ZEKI'\n",
      "1596\n"
     ]
    },
    {
     "name": "stderr",
     "output_type": "stream",
     "text": [
      "<suds.sax.document.Document object at 0x112a87be0>\n"
     ]
    },
    {
     "name": "stdout",
     "output_type": "stream",
     "text": [
      "ERROR ON AUT AU= 'CLARICH GABRIELLA'\n",
      "1597\n"
     ]
    },
    {
     "name": "stderr",
     "output_type": "stream",
     "text": [
      "<suds.sax.document.Document object at 0x112a87cc0>\n"
     ]
    },
    {
     "name": "stdout",
     "output_type": "stream",
     "text": [
      "ERROR ON AUT AU='UYAR ZAFER'\n",
      "1598\n"
     ]
    },
    {
     "name": "stderr",
     "output_type": "stream",
     "text": [
      "<suds.sax.document.Document object at 0x115f94b00>\n"
     ]
    },
    {
     "name": "stdout",
     "output_type": "stream",
     "text": [
      "ERROR ON AUT AU= 'TORNATORE MASSIMO'\n",
      "1599\n"
     ]
    },
    {
     "name": "stderr",
     "output_type": "stream",
     "text": [
      "<suds.sax.document.Document object at 0x115cde470>\n"
     ]
    },
    {
     "name": "stdout",
     "output_type": "stream",
     "text": [
      "ERROR ON AUT AU='SOLMAZ SONER'\n",
      "1600\n"
     ]
    },
    {
     "name": "stderr",
     "output_type": "stream",
     "text": [
      "<suds.sax.document.Document object at 0x115b25c50>\n"
     ]
    },
    {
     "name": "stdout",
     "output_type": "stream",
     "text": [
      "ERROR ON AUT AU='KAFKAS SAMET'\n",
      "1601\n"
     ]
    },
    {
     "name": "stderr",
     "output_type": "stream",
     "text": [
      "<suds.sax.document.Document object at 0x115976048>\n"
     ]
    },
    {
     "name": "stdout",
     "output_type": "stream",
     "text": [
      "ERROR ON AUT AU='DEMIRTAS ABDULLAH'\n",
      "1602\n"
     ]
    },
    {
     "name": "stderr",
     "output_type": "stream",
     "text": [
      "<suds.sax.document.Document object at 0x112a87358>\n"
     ]
    },
    {
     "name": "stdout",
     "output_type": "stream",
     "text": [
      "ERROR ON AUT AU='BEZ YASIN'\n",
      "1603\n"
     ]
    },
    {
     "name": "stderr",
     "output_type": "stream",
     "text": [
      "<suds.sax.document.Document object at 0x112a87da0>\n"
     ]
    },
    {
     "name": "stdout",
     "output_type": "stream",
     "text": [
      "ERROR ON AUT AU= 'KHAN WESAAL'\n",
      "1604\n"
     ]
    },
    {
     "name": "stderr",
     "output_type": "stream",
     "text": [
      "<suds.sax.document.Document object at 0x1159bc4e0>\n"
     ]
    },
    {
     "name": "stdout",
     "output_type": "stream",
     "text": [
      "ERROR ON AUT AU= 'GUNGOR OMER'\n",
      "1605\n"
     ]
    },
    {
     "name": "stderr",
     "output_type": "stream",
     "text": [
      "<suds.sax.document.Document object at 0x1161cfc50>\n"
     ]
    },
    {
     "name": "stdout",
     "output_type": "stream",
     "text": [
      "ERROR ON AUT AU= 'EREN TANJU'\n",
      "1606\n"
     ]
    },
    {
     "name": "stderr",
     "output_type": "stream",
     "text": [
      "<suds.sax.document.Document object at 0x115cb35c0>\n"
     ]
    },
    {
     "name": "stdout",
     "output_type": "stream",
     "text": [
      "ERROR ON AUT AU= 'KUK SALIH'\n",
      "1607\n"
     ]
    },
    {
     "name": "stderr",
     "output_type": "stream",
     "text": [
      "<suds.sax.document.Document object at 0x115976278>\n"
     ]
    },
    {
     "name": "stdout",
     "output_type": "stream",
     "text": [
      "ERROR ON AUT AU= 'COSKUN BELKIS NIHAN'\n",
      "1608\n"
     ]
    },
    {
     "name": "stderr",
     "output_type": "stream",
     "text": [
      "<suds.sax.document.Document object at 0x112a87278>\n"
     ]
    },
    {
     "name": "stdout",
     "output_type": "stream",
     "text": [
      "ERROR ON AUT AU= 'KARA SAMI'\n",
      "1609\n"
     ]
    },
    {
     "name": "stderr",
     "output_type": "stream",
     "text": [
      "<suds.sax.document.Document object at 0x112a87668>\n"
     ]
    },
    {
     "name": "stdout",
     "output_type": "stream",
     "text": [
      "ERROR ON AUT AU= 'YILDIRIM M. SELMAN'\n",
      "1610\n"
     ]
    },
    {
     "name": "stderr",
     "output_type": "stream",
     "text": [
      "<suds.sax.document.Document object at 0x1159762e8>\n"
     ]
    },
    {
     "name": "stdout",
     "output_type": "stream",
     "text": [
      "ERROR ON AUT AU= 'AMILKANTHWAR RAJENDRA HARIBHAU'\n",
      "1611\n"
     ]
    },
    {
     "name": "stderr",
     "output_type": "stream",
     "text": [
      "<suds.sax.document.Document object at 0x115b25a58>\n"
     ]
    },
    {
     "name": "stdout",
     "output_type": "stream",
     "text": [
      "ERROR ON AUT AU= 'GEZGIN MAN'\n",
      "1612\n"
     ]
    },
    {
     "name": "stderr",
     "output_type": "stream",
     "text": [
      "<suds.sax.document.Document object at 0x115b25e10>\n"
     ]
    },
    {
     "name": "stdout",
     "output_type": "stream",
     "text": [
      "ERROR ON AUT AU= 'CUBUKCU ERDEM'\n",
      "1613\n"
     ]
    },
    {
     "name": "stderr",
     "output_type": "stream",
     "text": [
      "<suds.sax.document.Document object at 0x113c810b8>\n"
     ]
    },
    {
     "name": "stdout",
     "output_type": "stream",
     "text": [
      "ERROR ON AUT AU= 'OZTURK FERAL'\n",
      "1614\n"
     ]
    },
    {
     "name": "stderr",
     "output_type": "stream",
     "text": [
      "<suds.sax.document.Document object at 0x112a87128>\n"
     ]
    },
    {
     "name": "stdout",
     "output_type": "stream",
     "text": [
      "ERROR ON AUT AU='YORUK UMIT'\n",
      "1615\n"
     ]
    },
    {
     "name": "stderr",
     "output_type": "stream",
     "text": [
      "<suds.sax.document.Document object at 0x112a87240>\n"
     ]
    },
    {
     "name": "stdout",
     "output_type": "stream",
     "text": [
      "ERROR ON AUT AU= 'JHANGIANI SHALINI N.'\n",
      "1616\n"
     ]
    },
    {
     "name": "stderr",
     "output_type": "stream",
     "text": [
      "<suds.sax.document.Document object at 0x115cde588>\n"
     ]
    },
    {
     "name": "stdout",
     "output_type": "stream",
     "text": [
      "ERROR ON AUT AU='AYDOGAN TIMUCIN'\n",
      "1617\n"
     ]
    },
    {
     "name": "stderr",
     "output_type": "stream",
     "text": [
      "<suds.sax.document.Document object at 0x113c59668>\n"
     ]
    },
    {
     "name": "stdout",
     "output_type": "stream",
     "text": [
      "ERROR ON AUT AU='YILMAZ HASAN'\n",
      "1618\n"
     ]
    },
    {
     "name": "stderr",
     "output_type": "stream",
     "text": [
      "<suds.sax.document.Document object at 0x113c595f8>\n"
     ]
    },
    {
     "name": "stdout",
     "output_type": "stream",
     "text": [
      "ERROR ON AUT AU= 'ALTINTOPRAK FATIH'\n",
      "1619\n"
     ]
    },
    {
     "name": "stderr",
     "output_type": "stream",
     "text": [
      "<suds.sax.document.Document object at 0x113c81940>\n"
     ]
    },
    {
     "name": "stdout",
     "output_type": "stream",
     "text": [
      "ERROR ON AUT AU= 'ERIS HUSEYIN NAIM'\n",
      "1620\n"
     ]
    },
    {
     "name": "stderr",
     "output_type": "stream",
     "text": [
      "<suds.sax.document.Document object at 0x115976160>\n"
     ]
    },
    {
     "name": "stdout",
     "output_type": "stream",
     "text": [
      "ERROR ON AUT AU='BAL MEHMET SUAT'\n",
      "1621\n"
     ]
    },
    {
     "name": "stderr",
     "output_type": "stream",
     "text": [
      "<suds.sax.document.Document object at 0x115f948d0>\n"
     ]
    },
    {
     "name": "stdout",
     "output_type": "stream",
     "text": [
      "ERROR ON AUT AU= 'AYDIN EROL'\n",
      "1622\n"
     ]
    },
    {
     "name": "stderr",
     "output_type": "stream",
     "text": [
      "<suds.sax.document.Document object at 0x115cde0b8>\n"
     ]
    },
    {
     "name": "stdout",
     "output_type": "stream",
     "text": [
      "ERROR ON AUT AU= 'ISIK AKLIME'\n",
      "1623\n"
     ]
    },
    {
     "name": "stderr",
     "output_type": "stream",
     "text": [
      "<suds.sax.document.Document object at 0x1159bccf8>\n"
     ]
    },
    {
     "name": "stdout",
     "output_type": "stream",
     "text": [
      "ERROR ON AUT AU= 'GULER IBRAHIM'\n",
      "1624\n"
     ]
    },
    {
     "name": "stderr",
     "output_type": "stream",
     "text": [
      "<suds.sax.document.Document object at 0x113c595f8>\n"
     ]
    },
    {
     "name": "stdout",
     "output_type": "stream",
     "text": [
      "ERROR ON AUT AU= 'CEKIN NECMI'\n",
      "1625\n"
     ]
    },
    {
     "name": "stderr",
     "output_type": "stream",
     "text": [
      "<suds.sax.document.Document object at 0x113c819b0>\n"
     ]
    },
    {
     "name": "stdout",
     "output_type": "stream",
     "text": [
      "ERROR ON AUT AU= 'DEGER YETER'\n",
      "1626\n"
     ]
    },
    {
     "name": "stderr",
     "output_type": "stream",
     "text": [
      "<suds.sax.document.Document object at 0x115e0d550>\n"
     ]
    },
    {
     "name": "stdout",
     "output_type": "stream",
     "text": [
      "ERROR ON AUT AU= 'BAYRAKTAR H. SUPHI'\n",
      "1627\n"
     ]
    },
    {
     "name": "stderr",
     "output_type": "stream",
     "text": [
      "<suds.sax.document.Document object at 0x115e0db70>\n"
     ]
    },
    {
     "name": "stdout",
     "output_type": "stream",
     "text": [
      "ERROR ON AUT AU= 'MANCELLARI ENEA'\n",
      "1628\n"
     ]
    },
    {
     "name": "stderr",
     "output_type": "stream",
     "text": [
      "<suds.sax.document.Document object at 0x115cde400>\n"
     ]
    },
    {
     "name": "stdout",
     "output_type": "stream",
     "text": [
      "ERROR ON AUT AU= 'YURDAKUL MEHMET'\n",
      "1629\n"
     ]
    },
    {
     "name": "stderr",
     "output_type": "stream",
     "text": [
      "<suds.sax.document.Document object at 0x113c590b8>\n"
     ]
    },
    {
     "name": "stdout",
     "output_type": "stream",
     "text": [
      "ERROR ON AUT AU= 'AYDOGAN TIMUCIN'\n",
      "1630\n"
     ]
    },
    {
     "name": "stderr",
     "output_type": "stream",
     "text": [
      "<suds.sax.document.Document object at 0x115b25278>\n"
     ]
    },
    {
     "name": "stdout",
     "output_type": "stream",
     "text": [
      "ERROR ON AUT AU= 'OZASLAN MEHMET'\n",
      "1631\n"
     ]
    },
    {
     "name": "stderr",
     "output_type": "stream",
     "text": [
      "<suds.sax.document.Document object at 0x113c814a8>\n"
     ]
    },
    {
     "name": "stdout",
     "output_type": "stream",
     "text": [
      "ERROR ON AUT AU= 'ANSAL A'\n",
      "1632\n"
     ]
    },
    {
     "name": "stderr",
     "output_type": "stream",
     "text": [
      "<suds.sax.document.Document object at 0x115f21550>\n"
     ]
    },
    {
     "name": "stdout",
     "output_type": "stream",
     "text": [
      "ERROR ON AUT AU='KARAAGAC LEMAN'\n",
      "1633\n"
     ]
    },
    {
     "name": "stderr",
     "output_type": "stream",
     "text": [
      "<suds.sax.document.Document object at 0x115f21668>\n"
     ]
    },
    {
     "name": "stdout",
     "output_type": "stream",
     "text": [
      "ERROR ON AUT AU= 'ERDIN SONER'\n",
      "1634\n"
     ]
    },
    {
     "name": "stderr",
     "output_type": "stream",
     "text": [
      "<suds.sax.document.Document object at 0x115cde9b0>\n"
     ]
    },
    {
     "name": "stdout",
     "output_type": "stream",
     "text": [
      "ERROR ON AUT AU= 'VATANSEVER SEZGIN'\n",
      "1635\n"
     ]
    },
    {
     "name": "stderr",
     "output_type": "stream",
     "text": [
      "<suds.sax.document.Document object at 0x115b256a0>\n"
     ]
    },
    {
     "name": "stdout",
     "output_type": "stream",
     "text": [
      "ERROR ON AUT AU= 'GEYIK SERDAR'\n",
      "1636\n"
     ]
    },
    {
     "name": "stderr",
     "output_type": "stream",
     "text": [
      "<suds.sax.document.Document object at 0x115b25e48>\n"
     ]
    },
    {
     "name": "stdout",
     "output_type": "stream",
     "text": [
      "ERROR ON AUT AU='KOC FATIH'\n",
      "1637\n"
     ]
    },
    {
     "name": "stderr",
     "output_type": "stream",
     "text": [
      "<suds.sax.document.Document object at 0x113c81ef0>\n"
     ]
    },
    {
     "name": "stdout",
     "output_type": "stream",
     "text": [
      "ERROR ON AUT AU='GERIN FETHULLAH'\n",
      "1638\n"
     ]
    },
    {
     "name": "stderr",
     "output_type": "stream",
     "text": [
      "<suds.sax.document.Document object at 0x1124c72e8>\n"
     ]
    },
    {
     "name": "stdout",
     "output_type": "stream",
     "text": [
      "ERROR ON AUT AU= 'AKTI NISA NUR'\n",
      "1639\n"
     ]
    },
    {
     "name": "stderr",
     "output_type": "stream",
     "text": [
      "<suds.sax.document.Document object at 0x115e0d940>\n"
     ]
    },
    {
     "name": "stdout",
     "output_type": "stream",
     "text": [
      "ERROR ON AUT AU= 'EGEMEN NIHAT'\n",
      "1640\n"
     ]
    },
    {
     "name": "stderr",
     "output_type": "stream",
     "text": [
      "<suds.sax.document.Document object at 0x115cde780>\n"
     ]
    },
    {
     "name": "stdout",
     "output_type": "stream",
     "text": [
      "ERROR ON AUT AU= 'BAKIS ABDULREZZAK'\n",
      "1641\n"
     ]
    },
    {
     "name": "stderr",
     "output_type": "stream",
     "text": [
      "<suds.sax.document.Document object at 0x1120c27b8>\n"
     ]
    },
    {
     "name": "stdout",
     "output_type": "stream",
     "text": [
      "ERROR ON AUT AU= 'ESIN FATMA'\n",
      "1642\n"
     ]
    },
    {
     "name": "stderr",
     "output_type": "stream",
     "text": [
      "<suds.sax.document.Document object at 0x1120c2828>\n"
     ]
    },
    {
     "name": "stdout",
     "output_type": "stream",
     "text": [
      "ERROR ON AUT AU= 'KARAKOC MEHMET'\n",
      "1643\n"
     ]
    },
    {
     "name": "stderr",
     "output_type": "stream",
     "text": [
      "<suds.sax.document.Document object at 0x115f21a90>\n"
     ]
    },
    {
     "name": "stdout",
     "output_type": "stream",
     "text": [
      "ERROR ON AUT AU='KORUK SUDA TEKIN'\n",
      "1644\n"
     ]
    },
    {
     "name": "stderr",
     "output_type": "stream",
     "text": [
      "<suds.sax.document.Document object at 0x1159bc518>\n"
     ]
    },
    {
     "name": "stdout",
     "output_type": "stream",
     "text": [
      "ERROR ON AUT AU= 'KARABULUT BUEYAMIN'\n",
      "1645\n"
     ]
    },
    {
     "name": "stderr",
     "output_type": "stream",
     "text": [
      "<suds.sax.document.Document object at 0x1159bc5c0>\n"
     ]
    },
    {
     "name": "stdout",
     "output_type": "stream",
     "text": [
      "ERROR ON AUT AU='SOYLU AHMET'\n",
      "1646\n"
     ]
    },
    {
     "name": "stderr",
     "output_type": "stream",
     "text": [
      "<suds.sax.document.Document object at 0x115e0dc18>\n"
     ]
    },
    {
     "name": "stdout",
     "output_type": "stream",
     "text": [
      "ERROR ON AUT AU= 'SHI Y'\n",
      "1647\n"
     ]
    },
    {
     "name": "stderr",
     "output_type": "stream",
     "text": [
      "<suds.sax.document.Document object at 0x1120c2780>\n"
     ]
    },
    {
     "name": "stdout",
     "output_type": "stream",
     "text": [
      "ERROR ON AUT AU= 'USTUNER MEHMET C.'\n",
      "1648\n"
     ]
    },
    {
     "name": "stderr",
     "output_type": "stream",
     "text": [
      "<suds.sax.document.Document object at 0x1124c78d0>\n"
     ]
    },
    {
     "name": "stdout",
     "output_type": "stream",
     "text": [
      "ERROR ON AUT AU= 'TAS HANIFE UZEL'\n",
      "1649\n"
     ]
    },
    {
     "name": "stderr",
     "output_type": "stream",
     "text": [
      "<suds.sax.document.Document object at 0x115f213c8>\n"
     ]
    },
    {
     "name": "stdout",
     "output_type": "stream",
     "text": [
      "ERROR ON AUT AU= 'OZGEN FATIH'\n",
      "1650\n"
     ]
    },
    {
     "name": "stderr",
     "output_type": "stream",
     "text": [
      "<suds.sax.document.Document object at 0x115cde438>\n"
     ]
    },
    {
     "name": "stdout",
     "output_type": "stream",
     "text": [
      "ERROR ON AUT AU= 'GUR ALI'\n",
      "1651\n"
     ]
    },
    {
     "name": "stderr",
     "output_type": "stream",
     "text": [
      "<suds.sax.document.Document object at 0x115cded68>\n"
     ]
    },
    {
     "name": "stdout",
     "output_type": "stream",
     "text": [
      "ERROR ON AUT AU= 'KARAAHMET FATIH'\n",
      "1652\n"
     ]
    },
    {
     "name": "stderr",
     "output_type": "stream",
     "text": [
      "<suds.sax.document.Document object at 0x115e0dcc0>\n"
     ]
    },
    {
     "name": "stdout",
     "output_type": "stream",
     "text": [
      "ERROR ON AUT AU='REIS SELCUK'\n",
      "1653\n"
     ]
    },
    {
     "name": "stderr",
     "output_type": "stream",
     "text": [
      "<suds.sax.document.Document object at 0x1124c7cc0>\n"
     ]
    },
    {
     "name": "stdout",
     "output_type": "stream",
     "text": [
      "ERROR ON AUT AU= 'ERTEN SUKRAN'\n",
      "1654\n"
     ]
    },
    {
     "name": "stderr",
     "output_type": "stream",
     "text": [
      "<suds.sax.document.Document object at 0x1124c7eb8>\n"
     ]
    },
    {
     "name": "stdout",
     "output_type": "stream",
     "text": [
      "ERROR ON AUT AU= 'YASAR TUGCE'\n",
      "1655\n"
     ]
    },
    {
     "name": "stderr",
     "output_type": "stream",
     "text": [
      "<suds.sax.document.Document object at 0x115f21080>\n"
     ]
    },
    {
     "name": "stdout",
     "output_type": "stream",
     "text": [
      "ERROR ON AUT AU='YILMAZ MERT'\n",
      "1656\n"
     ]
    },
    {
     "name": "stderr",
     "output_type": "stream",
     "text": [
      "<suds.sax.document.Document object at 0x113c598d0>\n"
     ]
    },
    {
     "name": "stdout",
     "output_type": "stream",
     "text": [
      "ERROR ON AUT AU= 'GOKTAS UNAL'\n",
      "1657\n"
     ]
    },
    {
     "name": "stderr",
     "output_type": "stream",
     "text": [
      "<suds.sax.document.Document object at 0x115cde6d8>\n"
     ]
    },
    {
     "name": "stdout",
     "output_type": "stream",
     "text": [
      "ERROR ON AUT AU= 'OZERCAN HANIFI I.'\n",
      "1658\n"
     ]
    },
    {
     "name": "stderr",
     "output_type": "stream",
     "text": [
      "<suds.sax.document.Document object at 0x115e0deb8>\n"
     ]
    },
    {
     "name": "stdout",
     "output_type": "stream",
     "text": [
      "ERROR ON AUT AU= 'KESKI AHMET'\n",
      "1659\n"
     ]
    },
    {
     "name": "stderr",
     "output_type": "stream",
     "text": [
      "<suds.sax.document.Document object at 0x1161cf630>\n"
     ]
    },
    {
     "name": "stdout",
     "output_type": "stream",
     "text": [
      "ERROR ON AUT AU='ATAS MUSA'\n",
      "1660\n"
     ]
    },
    {
     "name": "stderr",
     "output_type": "stream",
     "text": [
      "<suds.sax.document.Document object at 0x1124c7128>\n"
     ]
    },
    {
     "name": "stdout",
     "output_type": "stream",
     "text": [
      "ERROR ON AUT AU='ARASOGLU ALI'\n",
      "1661\n"
     ]
    },
    {
     "name": "stderr",
     "output_type": "stream",
     "text": [
      "<suds.sax.document.Document object at 0x115f21da0>\n"
     ]
    },
    {
     "name": "stdout",
     "output_type": "stream",
     "text": [
      "ERROR ON AUT AU='YAVUZ CELAL'\n",
      "1662\n"
     ]
    },
    {
     "name": "stderr",
     "output_type": "stream",
     "text": [
      "<suds.sax.document.Document object at 0x115cde128>\n"
     ]
    },
    {
     "name": "stdout",
     "output_type": "stream",
     "text": [
      "ERROR ON AUT AU= 'MAVIS TUGBA'\n",
      "1663\n"
     ]
    },
    {
     "name": "stderr",
     "output_type": "stream",
     "text": [
      "<suds.sax.document.Document object at 0x1159bc780>\n"
     ]
    },
    {
     "name": "stdout",
     "output_type": "stream",
     "text": [
      "ERROR ON AUT AU= 'KILIC SULEYMAN SIRRI'\n",
      "1664\n"
     ]
    },
    {
     "name": "stderr",
     "output_type": "stream",
     "text": [
      "<suds.sax.document.Document object at 0x115e0dba8>\n"
     ]
    },
    {
     "name": "stdout",
     "output_type": "stream",
     "text": [
      "ERROR ON AUT AU= 'SENOGLU NIMET'\n",
      "1665\n"
     ]
    },
    {
     "name": "stderr",
     "output_type": "stream",
     "text": [
      "<suds.sax.document.Document object at 0x1120c2f60>\n"
     ]
    },
    {
     "name": "stdout",
     "output_type": "stream",
     "text": [
      "ERROR ON AUT AU= 'SEVINC MEHMET KORAY'\n",
      "1666\n"
     ]
    },
    {
     "name": "stderr",
     "output_type": "stream",
     "text": [
      "<suds.sax.document.Document object at 0x115f94e80>\n"
     ]
    },
    {
     "name": "stdout",
     "output_type": "stream",
     "text": [
      "ERROR ON AUT AU= 'PAKSOY FATMA'\n",
      "1667\n"
     ]
    },
    {
     "name": "stderr",
     "output_type": "stream",
     "text": [
      "<suds.sax.document.Document object at 0x1161cf710>\n"
     ]
    },
    {
     "name": "stdout",
     "output_type": "stream",
     "text": [
      "ERROR ON AUT AU='ERKEN HAYDAR ALI'\n",
      "1668\n"
     ]
    },
    {
     "name": "stderr",
     "output_type": "stream",
     "text": [
      "<suds.sax.document.Document object at 0x115b250f0>\n"
     ]
    },
    {
     "name": "stdout",
     "output_type": "stream",
     "text": [
      "ERROR ON AUT AU= 'EVIRGEN SAMI'\n",
      "1669\n"
     ]
    },
    {
     "name": "stderr",
     "output_type": "stream",
     "text": [
      "<suds.sax.document.Document object at 0x115b25710>\n"
     ]
    },
    {
     "name": "stdout",
     "output_type": "stream",
     "text": [
      "ERROR ON AUT AU= 'YAYLALI OLGA'\n",
      "1670\n"
     ]
    },
    {
     "name": "stderr",
     "output_type": "stream",
     "text": [
      "<suds.sax.document.Document object at 0x1161cf978>\n"
     ]
    },
    {
     "name": "stdout",
     "output_type": "stream",
     "text": [
      "ERROR ON AUT AU= 'SAC MUSLIM MURAT'\n",
      "1671\n"
     ]
    },
    {
     "name": "stderr",
     "output_type": "stream",
     "text": [
      "<suds.sax.document.Document object at 0x1124c7e80>\n"
     ]
    },
    {
     "name": "stdout",
     "output_type": "stream",
     "text": [
      "ERROR ON AUT AU= 'ORDAHAN BANU'\n",
      "1672\n"
     ]
    },
    {
     "name": "stderr",
     "output_type": "stream",
     "text": [
      "<suds.sax.document.Document object at 0x1124c7d68>\n"
     ]
    },
    {
     "name": "stdout",
     "output_type": "stream",
     "text": [
      "ERROR ON AUT AU= 'OZTURK ABDULKADIR'\n",
      "1673\n"
     ]
    },
    {
     "name": "stderr",
     "output_type": "stream",
     "text": [
      "<suds.sax.document.Document object at 0x115f216d8>\n"
     ]
    },
    {
     "name": "stdout",
     "output_type": "stream",
     "text": [
      "ERROR ON AUT AU='YAKUT NURHAYAT'\n",
      "1674\n"
     ]
    },
    {
     "name": "stderr",
     "output_type": "stream",
     "text": [
      "<suds.sax.document.Document object at 0x112a87940>\n"
     ]
    },
    {
     "name": "stdout",
     "output_type": "stream",
     "text": [
      "ERROR ON AUT AU= 'BENTLI RECEP'\n",
      "1675\n"
     ]
    },
    {
     "name": "stderr",
     "output_type": "stream",
     "text": [
      "<suds.sax.document.Document object at 0x112a87940>\n"
     ]
    },
    {
     "name": "stdout",
     "output_type": "stream",
     "text": [
      "ERROR ON AUT AU= 'THAKUR SARIKA'\n",
      "1676\n"
     ]
    },
    {
     "name": "stderr",
     "output_type": "stream",
     "text": [
      "<suds.sax.document.Document object at 0x115cb3ef0>\n"
     ]
    },
    {
     "name": "stdout",
     "output_type": "stream",
     "text": [
      "ERROR ON AUT AU= 'OGUZ ELIF KAVAL'\n",
      "1677\n"
     ]
    },
    {
     "name": "stderr",
     "output_type": "stream",
     "text": [
      "<suds.sax.document.Document object at 0x112a87780>\n"
     ]
    },
    {
     "name": "stdout",
     "output_type": "stream",
     "text": [
      "ERROR ON AUT AU= 'AYDINKARAHALILOGLU DEMET'\n",
      "1678\n"
     ]
    },
    {
     "name": "stderr",
     "output_type": "stream",
     "text": [
      "<suds.sax.document.Document object at 0x112a87080>\n"
     ]
    },
    {
     "name": "stdout",
     "output_type": "stream",
     "text": [
      "ERROR ON AUT AU= 'SEFALI ABDURRAHMAN'\n",
      "1679\n"
     ]
    },
    {
     "name": "stderr",
     "output_type": "stream",
     "text": [
      "<suds.sax.document.Document object at 0x115b252b0>\n"
     ]
    },
    {
     "name": "stdout",
     "output_type": "stream",
     "text": [
      "ERROR ON AUT AU= 'BARDAK TIMUCIN'\n",
      "1680\n"
     ]
    },
    {
     "name": "stderr",
     "output_type": "stream",
     "text": [
      "<suds.sax.document.Document object at 0x115cb3438>\n"
     ]
    },
    {
     "name": "stdout",
     "output_type": "stream",
     "text": [
      "ERROR ON AUT AU='SAGARA YASUAKI'\n",
      "1681\n"
     ]
    },
    {
     "name": "stderr",
     "output_type": "stream",
     "text": [
      "<suds.sax.document.Document object at 0x115cb3c18>\n"
     ]
    },
    {
     "name": "stdout",
     "output_type": "stream",
     "text": [
      "ERROR ON AUT AU= 'DEMIR ESRA YANCAR'\n",
      "1682\n"
     ]
    },
    {
     "name": "stderr",
     "output_type": "stream",
     "text": [
      "<suds.sax.document.Document object at 0x115f94c88>\n"
     ]
    },
    {
     "name": "stdout",
     "output_type": "stream",
     "text": [
      "ERROR ON AUT AU= 'OEZTUERK BANU'\n",
      "1683\n"
     ]
    },
    {
     "name": "stderr",
     "output_type": "stream",
     "text": [
      "<suds.sax.document.Document object at 0x113c59668>\n"
     ]
    },
    {
     "name": "stdout",
     "output_type": "stream",
     "text": [
      "ERROR ON AUT AU= 'KURSUN OLCAY'\n",
      "1684\n"
     ]
    },
    {
     "name": "stderr",
     "output_type": "stream",
     "text": [
      "<suds.sax.document.Document object at 0x113c59b70>\n"
     ]
    },
    {
     "name": "stdout",
     "output_type": "stream",
     "text": [
      "ERROR ON AUT AU= 'HAZNEDAROGLU SEMINUR'\n",
      "1685\n"
     ]
    },
    {
     "name": "stderr",
     "output_type": "stream",
     "text": [
      "<suds.sax.document.Document object at 0x115b256d8>\n"
     ]
    },
    {
     "name": "stdout",
     "output_type": "stream",
     "text": [
      "ERROR ON AUT AU= 'MEYDAN NEZIH'\n",
      "1686\n"
     ]
    },
    {
     "name": "stderr",
     "output_type": "stream",
     "text": [
      "<suds.sax.document.Document object at 0x115cb3e80>\n"
     ]
    },
    {
     "name": "stdout",
     "output_type": "stream",
     "text": [
      "ERROR ON AUT AU= 'GUNDOGAN AYSUN'\n",
      "1687\n"
     ]
    },
    {
     "name": "stderr",
     "output_type": "stream",
     "text": [
      "<suds.sax.document.Document object at 0x115cb3588>\n"
     ]
    },
    {
     "name": "stdout",
     "output_type": "stream",
     "text": [
      "ERROR ON AUT AU= 'BEYZADEOGLU MURAT'\n",
      "1688\n"
     ]
    },
    {
     "name": "stderr",
     "output_type": "stream",
     "text": [
      "<suds.sax.document.Document object at 0x115f94dd8>\n"
     ]
    },
    {
     "name": "stdout",
     "output_type": "stream",
     "text": [
      "ERROR ON AUT AU= 'ERGULL NURHAN'\n",
      "1689\n"
     ]
    },
    {
     "name": "stderr",
     "output_type": "stream",
     "text": [
      "<suds.sax.document.Document object at 0x1120c2c50>\n"
     ]
    },
    {
     "name": "stdout",
     "output_type": "stream",
     "text": [
      "ERROR ON AUT AU='YAZICI AYLIN ERTEKIN'\n",
      "1690\n"
     ]
    },
    {
     "name": "stderr",
     "output_type": "stream",
     "text": [
      "<suds.sax.document.Document object at 0x1120c22b0>\n"
     ]
    },
    {
     "name": "stdout",
     "output_type": "stream",
     "text": [
      "ERROR ON AUT AU= 'SARICAM TULAY'\n",
      "1691\n"
     ]
    },
    {
     "name": "stderr",
     "output_type": "stream",
     "text": [
      "<suds.sax.document.Document object at 0x115b257b8>\n"
     ]
    },
    {
     "name": "stdout",
     "output_type": "stream",
     "text": [
      "ERROR ON AUT AU= 'KAN ELIF K.'\n",
      "1692\n"
     ]
    },
    {
     "name": "stderr",
     "output_type": "stream",
     "text": [
      "<suds.sax.document.Document object at 0x115cb3fd0>\n"
     ]
    },
    {
     "name": "stdout",
     "output_type": "stream",
     "text": [
      "ERROR ON AUT AU= 'AKALIN MEHMET KUDDUSI'\n",
      "1693\n"
     ]
    },
    {
     "name": "stderr",
     "output_type": "stream",
     "text": [
      "<suds.sax.document.Document object at 0x113c81ef0>\n"
     ]
    },
    {
     "name": "stdout",
     "output_type": "stream",
     "text": [
      "ERROR ON AUT AU= 'BALOGLU MURAT'\n",
      "1694\n"
     ]
    },
    {
     "name": "stderr",
     "output_type": "stream",
     "text": [
      "<suds.sax.document.Document object at 0x1159762e8>\n"
     ]
    },
    {
     "name": "stdout",
     "output_type": "stream",
     "text": [
      "ERROR ON AUT AU='SAVAS OMER'\n",
      "1695\n"
     ]
    },
    {
     "name": "stderr",
     "output_type": "stream",
     "text": [
      "<suds.sax.document.Document object at 0x1124c7a58>\n"
     ]
    },
    {
     "name": "stdout",
     "output_type": "stream",
     "text": [
      "ERROR ON AUT AU='KURT ERBAN'\n",
      "1696\n"
     ]
    },
    {
     "name": "stderr",
     "output_type": "stream",
     "text": [
      "<suds.sax.document.Document object at 0x115cde8d0>\n"
     ]
    },
    {
     "name": "stdout",
     "output_type": "stream",
     "text": [
      "ERROR ON AUT AU= 'TUFEK ADNAN'\n",
      "1697\n"
     ]
    },
    {
     "name": "stderr",
     "output_type": "stream",
     "text": [
      "<suds.sax.document.Document object at 0x112a878d0>\n"
     ]
    },
    {
     "name": "stdout",
     "output_type": "stream",
     "text": [
      "ERROR ON AUT AU='ATES MUTLU'\n",
      "1698\n"
     ]
    },
    {
     "name": "stderr",
     "output_type": "stream",
     "text": [
      "<suds.sax.document.Document object at 0x1161cf630>\n"
     ]
    },
    {
     "name": "stdout",
     "output_type": "stream",
     "text": [
      "ERROR ON AUT AU= 'YILMAZ ALI ABBAS'\n",
      "1699\n"
     ]
    },
    {
     "name": "stderr",
     "output_type": "stream",
     "text": [
      "<suds.sax.document.Document object at 0x113c81a90>\n"
     ]
    },
    {
     "name": "stdout",
     "output_type": "stream",
     "text": [
      "ERROR ON AUT AU= 'KIRECCI NURAY'\n",
      "1700\n"
     ]
    },
    {
     "name": "stderr",
     "output_type": "stream",
     "text": [
      "<suds.sax.document.Document object at 0x115b25e48>\n"
     ]
    },
    {
     "name": "stdout",
     "output_type": "stream",
     "text": [
      "ERROR ON AUT AU= 'SAHIN DURSUN ALI'\n",
      "1701\n"
     ]
    },
    {
     "name": "stderr",
     "output_type": "stream",
     "text": [
      "<suds.sax.document.Document object at 0x115e0d320>\n"
     ]
    },
    {
     "name": "stdout",
     "output_type": "stream",
     "text": [
      "ERROR ON AUT AU= 'KOSE CIGDEM'\n",
      "1702\n"
     ]
    },
    {
     "name": "stderr",
     "output_type": "stream",
     "text": [
      "<suds.sax.document.Document object at 0x115cde550>\n"
     ]
    },
    {
     "name": "stdout",
     "output_type": "stream",
     "text": [
      "ERROR ON AUT AU='KUCUK ISRAFIL'\n",
      "1703\n"
     ]
    },
    {
     "name": "stderr",
     "output_type": "stream",
     "text": [
      "<suds.sax.document.Document object at 0x115976278>\n"
     ]
    },
    {
     "name": "stdout",
     "output_type": "stream",
     "text": [
      "ERROR ON AUT AU='KAPSIZ MURAT'\n",
      "1704\n"
     ]
    },
    {
     "name": "stderr",
     "output_type": "stream",
     "text": [
      "<suds.sax.document.Document object at 0x115cb3e80>\n"
     ]
    },
    {
     "name": "stdout",
     "output_type": "stream",
     "text": [
      "ERROR ON AUT AU= 'YASAR BINNUR'\n",
      "1705\n"
     ]
    },
    {
     "name": "stderr",
     "output_type": "stream",
     "text": [
      "<suds.sax.document.Document object at 0x115f21a20>\n"
     ]
    },
    {
     "name": "stdout",
     "output_type": "stream",
     "text": [
      "ERROR ON AUT AU= 'HOGLER WOLFGANG'\n",
      "1706\n"
     ]
    },
    {
     "name": "stderr",
     "output_type": "stream",
     "text": [
      "<suds.sax.document.Document object at 0x115976128>\n"
     ]
    },
    {
     "name": "stdout",
     "output_type": "stream",
     "text": [
      "ERROR ON AUT AU= 'OZTURK SAIT'\n",
      "1707\n"
     ]
    },
    {
     "name": "stderr",
     "output_type": "stream",
     "text": [
      "<suds.sax.document.Document object at 0x1120c2828>\n"
     ]
    },
    {
     "name": "stdout",
     "output_type": "stream",
     "text": [
      "ERROR ON AUT AU= 'KARABACAK MEHMET'\n",
      "1708\n"
     ]
    },
    {
     "name": "stderr",
     "output_type": "stream",
     "text": [
      "<suds.sax.document.Document object at 0x113c59400>\n"
     ]
    },
    {
     "name": "stdout",
     "output_type": "stream",
     "text": [
      "ERROR ON AUT AU= 'DERICI HAYRULLAH'\n",
      "1709\n"
     ]
    },
    {
     "name": "stderr",
     "output_type": "stream",
     "text": [
      "<suds.sax.document.Document object at 0x1159761d0>\n"
     ]
    },
    {
     "name": "stdout",
     "output_type": "stream",
     "text": [
      "ERROR ON AUT AU= 'TEKIN RAHMI TUNA'\n",
      "1710\n"
     ]
    },
    {
     "name": "stderr",
     "output_type": "stream",
     "text": [
      "<suds.sax.document.Document object at 0x1159bcc88>\n"
     ]
    },
    {
     "name": "stdout",
     "output_type": "stream",
     "text": [
      "ERROR ON AUT AU= 'MAYADAGLI ARPASLAN'\n",
      "1711\n"
     ]
    },
    {
     "name": "stderr",
     "output_type": "stream",
     "text": [
      "<suds.sax.document.Document object at 0x115f21588>\n"
     ]
    },
    {
     "name": "stdout",
     "output_type": "stream",
     "text": [
      "ERROR ON AUT AU= 'OZYUREK SELAHATTIN'\n",
      "1712\n"
     ]
    },
    {
     "name": "stderr",
     "output_type": "stream",
     "text": [
      "<suds.sax.document.Document object at 0x1120c2828>\n"
     ]
    },
    {
     "name": "stdout",
     "output_type": "stream",
     "text": [
      "ERROR ON AUT AU= 'OYMAK YESIM'\n",
      "1713\n"
     ]
    },
    {
     "name": "stderr",
     "output_type": "stream",
     "text": [
      "<suds.sax.document.Document object at 0x1120bb160>\n"
     ]
    },
    {
     "name": "stdout",
     "output_type": "stream",
     "text": [
      "ERROR ON AUT AU= 'BASARAN SIBEL'\n",
      "1714\n"
     ]
    },
    {
     "name": "stderr",
     "output_type": "stream",
     "text": [
      "<suds.sax.document.Document object at 0x1159bce10>\n"
     ]
    },
    {
     "name": "stdout",
     "output_type": "stream",
     "text": [
      "ERROR ON AUT AU= 'ARLI CENGIZ'\n",
      "1715\n"
     ]
    },
    {
     "name": "stderr",
     "output_type": "stream",
     "text": [
      "<suds.sax.document.Document object at 0x115f21940>\n"
     ]
    },
    {
     "name": "stdout",
     "output_type": "stream",
     "text": [
      "ERROR ON AUT AU='KHAN SAFEER HUSSAIN'\n",
      "1716\n"
     ]
    },
    {
     "name": "stderr",
     "output_type": "stream",
     "text": [
      "<suds.sax.document.Document object at 0x115cde128>\n"
     ]
    },
    {
     "name": "stdout",
     "output_type": "stream",
     "text": [
      "ERROR ON AUT AU= 'DISLI GAYE'\n",
      "1717\n"
     ]
    },
    {
     "name": "stderr",
     "output_type": "stream",
     "text": [
      "<suds.sax.document.Document object at 0x115cde748>\n"
     ]
    },
    {
     "name": "stdout",
     "output_type": "stream",
     "text": [
      "ERROR ON AUT AU= 'DEVECI ERDEM'\n",
      "1718\n"
     ]
    },
    {
     "name": "stderr",
     "output_type": "stream",
     "text": [
      "<suds.sax.document.Document object at 0x115e0d780>\n"
     ]
    },
    {
     "name": "stdout",
     "output_type": "stream",
     "text": [
      "ERROR ON AUT AU= 'ERSEKERCI TULAY KARACAN'\n",
      "1719\n"
     ]
    },
    {
     "name": "stderr",
     "output_type": "stream",
     "text": [
      "<suds.sax.document.Document object at 0x1120c2748>\n"
     ]
    },
    {
     "name": "stdout",
     "output_type": "stream",
     "text": [
      "ERROR ON AUT AU= 'TARKAN ALI SERHAN'\n",
      "1720\n"
     ]
    },
    {
     "name": "stderr",
     "output_type": "stream",
     "text": [
      "<suds.sax.document.Document object at 0x1120c2a58>\n"
     ]
    },
    {
     "name": "stdout",
     "output_type": "stream",
     "text": [
      "ERROR ON AUT AU= 'ERMIS SAMET S.'\n",
      "1721\n"
     ]
    },
    {
     "name": "stderr",
     "output_type": "stream",
     "text": [
      "<suds.sax.document.Document object at 0x115f21d68>\n"
     ]
    },
    {
     "name": "stdout",
     "output_type": "stream",
     "text": [
      "ERROR ON AUT AU= 'BULUS HAKAN'\n",
      "1722\n"
     ]
    },
    {
     "name": "stderr",
     "output_type": "stream",
     "text": [
      "<suds.sax.document.Document object at 0x1159762b0>\n"
     ]
    },
    {
     "name": "stdout",
     "output_type": "stream",
     "text": [
      "ERROR ON AUT AU= 'YAZICI TARKAN'\n",
      "1723\n"
     ]
    },
    {
     "name": "stderr",
     "output_type": "stream",
     "text": [
      "<suds.sax.document.Document object at 0x115cdee80>\n"
     ]
    },
    {
     "name": "stdout",
     "output_type": "stream",
     "text": [
      "ERROR ON AUT AU= 'ARIKAN YUKSEL'\n",
      "1724\n"
     ]
    },
    {
     "name": "stderr",
     "output_type": "stream",
     "text": [
      "<suds.sax.document.Document object at 0x115e0d320>\n"
     ]
    },
    {
     "name": "stdout",
     "output_type": "stream",
     "text": [
      "ERROR ON AUT AU= 'ILIEVA GALINA'\n",
      "1725\n"
     ]
    },
    {
     "name": "stderr",
     "output_type": "stream",
     "text": [
      "<suds.sax.document.Document object at 0x111f74748>\n"
     ]
    },
    {
     "name": "stdout",
     "output_type": "stream",
     "text": [
      "ERROR ON AUT AU= 'URBANCIKOVA INGRID'\n",
      "1726\n"
     ]
    },
    {
     "name": "stderr",
     "output_type": "stream",
     "text": [
      "<suds.sax.document.Document object at 0x112a87438>\n"
     ]
    },
    {
     "name": "stdout",
     "output_type": "stream",
     "text": [
      "ERROR ON AUT AU='KOCAELI HASAN'\n",
      "1727\n"
     ]
    },
    {
     "name": "stderr",
     "output_type": "stream",
     "text": [
      "<suds.sax.document.Document object at 0x1159bc780>\n"
     ]
    },
    {
     "name": "stdout",
     "output_type": "stream",
     "text": [
      "ERROR ON AUT AU= 'CIHAN YASEMIN BENDERLI'\n",
      "1728\n"
     ]
    },
    {
     "name": "stderr",
     "output_type": "stream",
     "text": [
      "<suds.sax.document.Document object at 0x115cde390>\n"
     ]
    },
    {
     "name": "stdout",
     "output_type": "stream",
     "text": [
      "ERROR ON AUT AU= 'SENER SELCUK'\n",
      "1729\n"
     ]
    },
    {
     "name": "stderr",
     "output_type": "stream",
     "text": [
      "<suds.sax.document.Document object at 0x115cdee80>\n"
     ]
    },
    {
     "name": "stdout",
     "output_type": "stream",
     "text": [
      "ERROR ON AUT AU= 'KURUOGLU SEBUH'\n",
      "1730\n"
     ]
    },
    {
     "name": "stderr",
     "output_type": "stream",
     "text": [
      "<suds.sax.document.Document object at 0x115f21ef0>\n"
     ]
    },
    {
     "name": "stdout",
     "output_type": "stream",
     "text": [
      "ERROR ON AUT AU= 'AKSAKAL ERCUMENT'\n",
      "1731\n"
     ]
    },
    {
     "name": "stderr",
     "output_type": "stream",
     "text": [
      "<suds.sax.document.Document object at 0x1161cf3c8>\n"
     ]
    },
    {
     "name": "stdout",
     "output_type": "stream",
     "text": [
      "ERROR ON AUT AU='OFLAZ HUSEYIN'\n",
      "1732\n"
     ]
    },
    {
     "name": "stderr",
     "output_type": "stream",
     "text": [
      "<suds.sax.document.Document object at 0x115f949b0>\n"
     ]
    },
    {
     "name": "stdout",
     "output_type": "stream",
     "text": [
      "ERROR ON AUT AU= 'AKYIL DILEK'\n",
      "1733\n"
     ]
    },
    {
     "name": "stderr",
     "output_type": "stream",
     "text": [
      "<suds.sax.document.Document object at 0x1159bcdd8>\n"
     ]
    },
    {
     "name": "stdout",
     "output_type": "stream",
     "text": [
      "ERROR ON AUT AU= 'ALTINDAG ABDURRAHMAN'\n",
      "1734\n"
     ]
    },
    {
     "name": "stderr",
     "output_type": "stream",
     "text": [
      "<suds.sax.document.Document object at 0x1120bb668>\n"
     ]
    },
    {
     "name": "stdout",
     "output_type": "stream",
     "text": [
      "ERROR ON AUT AU= 'ANDRIEU MELTEM NALCA'\n",
      "1735\n"
     ]
    },
    {
     "name": "stderr",
     "output_type": "stream",
     "text": [
      "<suds.sax.document.Document object at 0x113c81a58>\n"
     ]
    },
    {
     "name": "stdout",
     "output_type": "stream",
     "text": [
      "ERROR ON AUT AU= 'OZAKIN CUNEYT'\n",
      "1736\n"
     ]
    },
    {
     "name": "stderr",
     "output_type": "stream",
     "text": [
      "<suds.sax.document.Document object at 0x115f21668>\n"
     ]
    },
    {
     "name": "stdout",
     "output_type": "stream",
     "text": [
      "ERROR ON AUT AU= 'TATAR ARZU'\n",
      "1737\n"
     ]
    },
    {
     "name": "stderr",
     "output_type": "stream",
     "text": [
      "<suds.sax.document.Document object at 0x113c59198>\n"
     ]
    },
    {
     "name": "stdout",
     "output_type": "stream",
     "text": [
      "ERROR ON AUT AU= 'ALTUG HICRAN'\n",
      "1738\n"
     ]
    },
    {
     "name": "stderr",
     "output_type": "stream",
     "text": [
      "<suds.sax.document.Document object at 0x113c59d68>\n"
     ]
    },
    {
     "name": "stdout",
     "output_type": "stream",
     "text": [
      "ERROR ON AUT AU='OZER ERDEM KAMIL'\n",
      "1739\n"
     ]
    },
    {
     "name": "stderr",
     "output_type": "stream",
     "text": [
      "<suds.sax.document.Document object at 0x1159bc2e8>\n"
     ]
    },
    {
     "name": "stdout",
     "output_type": "stream",
     "text": [
      "ERROR ON AUT AU='ARSLAN UGUR'\n",
      "1740\n"
     ]
    },
    {
     "name": "stderr",
     "output_type": "stream",
     "text": [
      "<suds.sax.document.Document object at 0x115b25c50>\n"
     ]
    },
    {
     "name": "stdout",
     "output_type": "stream",
     "text": [
      "ERROR ON AUT AU= 'OZKIRIS MAHMUT'\n",
      "1741\n"
     ]
    },
    {
     "name": "stderr",
     "output_type": "stream",
     "text": [
      "<suds.sax.document.Document object at 0x115b25588>\n"
     ]
    },
    {
     "name": "stdout",
     "output_type": "stream",
     "text": [
      "ERROR ON AUT AU= 'MUTLUER MUMTAZ'\n",
      "1742\n"
     ]
    },
    {
     "name": "stderr",
     "output_type": "stream",
     "text": [
      "<suds.sax.document.Document object at 0x115f21d30>\n"
     ]
    },
    {
     "name": "stdout",
     "output_type": "stream",
     "text": [
      "ERROR ON AUT AU= 'KILICLI MAHMUT'\n",
      "1743\n"
     ]
    },
    {
     "name": "stderr",
     "output_type": "stream",
     "text": [
      "<suds.sax.document.Document object at 0x1124c7588>\n"
     ]
    },
    {
     "name": "stdout",
     "output_type": "stream",
     "text": [
      "ERROR ON AUT AU= 'SOMUK BATTAL TAHSIN'\n",
      "1744\n"
     ]
    },
    {
     "name": "stderr",
     "output_type": "stream",
     "text": [
      "<suds.sax.document.Document object at 0x1124c7668>\n"
     ]
    },
    {
     "name": "stdout",
     "output_type": "stream",
     "text": [
      "ERROR ON AUT AU= 'BULUT ISMET'\n",
      "1745\n"
     ]
    },
    {
     "name": "stderr",
     "output_type": "stream",
     "text": [
      "<suds.sax.document.Document object at 0x112a87b38>\n"
     ]
    },
    {
     "name": "stdout",
     "output_type": "stream",
     "text": [
      "ERROR ON AUT AU= 'ERTAN SEMA'\n",
      "1746\n"
     ]
    },
    {
     "name": "stderr",
     "output_type": "stream",
     "text": [
      "<suds.sax.document.Document object at 0x115cb35f8>\n"
     ]
    },
    {
     "name": "stdout",
     "output_type": "stream",
     "text": [
      "ERROR ON AUT AU='AKKAYA ALPER'\n",
      "1747\n"
     ]
    },
    {
     "name": "stderr",
     "output_type": "stream",
     "text": [
      "<suds.sax.document.Document object at 0x113c81128>\n"
     ]
    },
    {
     "name": "stdout",
     "output_type": "stream",
     "text": [
      "ERROR ON AUT AU='UCAN MUSA CAN'\n",
      "1748\n"
     ]
    },
    {
     "name": "stderr",
     "output_type": "stream",
     "text": [
      "<suds.sax.document.Document object at 0x112a87320>\n"
     ]
    },
    {
     "name": "stdout",
     "output_type": "stream",
     "text": [
      "ERROR ON AUT AU= 'ISKURT ALI'\n",
      "1749\n"
     ]
    },
    {
     "name": "stderr",
     "output_type": "stream",
     "text": [
      "<suds.sax.document.Document object at 0x118542160>\n"
     ]
    },
    {
     "name": "stdout",
     "output_type": "stream",
     "text": [
      "ERROR ON AUT AU='BALTA ILKNUR'\n",
      "1750\n"
     ]
    },
    {
     "name": "stderr",
     "output_type": "stream",
     "text": [
      "<suds.sax.document.Document object at 0x115cb3f28>\n"
     ]
    },
    {
     "name": "stdout",
     "output_type": "stream",
     "text": [
      "ERROR ON AUT AU= 'KARAHAN OGUZ'\n",
      "1751\n"
     ]
    },
    {
     "name": "stderr",
     "output_type": "stream",
     "text": [
      "<suds.sax.document.Document object at 0x1120bbcf8>\n"
     ]
    },
    {
     "name": "stdout",
     "output_type": "stream",
     "text": [
      "ERROR ON AUT AU='SARIGUZEL FATMA MUTLU'\n",
      "1752\n"
     ]
    },
    {
     "name": "stderr",
     "output_type": "stream",
     "text": [
      "<suds.sax.document.Document object at 0x115f94e48>\n"
     ]
    },
    {
     "name": "stdout",
     "output_type": "stream",
     "text": [
      "ERROR ON AUT AU='BILGIC FUNDAGUL'\n",
      "1753\n"
     ]
    },
    {
     "name": "stderr",
     "output_type": "stream",
     "text": [
      "<suds.sax.document.Document object at 0x1159bc898>\n"
     ]
    },
    {
     "name": "stdout",
     "output_type": "stream",
     "text": [
      "ERROR ON AUT AU= 'URANUES SELMAN'\n",
      "1754\n"
     ]
    },
    {
     "name": "stderr",
     "output_type": "stream",
     "text": [
      "<suds.sax.document.Document object at 0x15151c9b0>\n"
     ]
    },
    {
     "name": "stdout",
     "output_type": "stream",
     "text": [
      "ERROR ON AUT AU= 'TUFAN ABDURRAHMAN'\n",
      "1755\n"
     ]
    },
    {
     "name": "stderr",
     "output_type": "stream",
     "text": [
      "<suds.sax.document.Document object at 0x115cb3cc0>\n"
     ]
    },
    {
     "name": "stdout",
     "output_type": "stream",
     "text": [
      "ERROR ON AUT AU='TOKAT ARIF OSMAN'\n",
      "1756\n"
     ]
    },
    {
     "name": "stderr",
     "output_type": "stream",
     "text": [
      "<suds.sax.document.Document object at 0x115cb35f8>\n"
     ]
    },
    {
     "name": "stdout",
     "output_type": "stream",
     "text": [
      "ERROR ON AUT AU='USTUNER MEHMET C.'\n",
      "1757\n"
     ]
    },
    {
     "name": "stderr",
     "output_type": "stream",
     "text": [
      "<suds.sax.document.Document object at 0x113c59080>\n"
     ]
    },
    {
     "name": "stdout",
     "output_type": "stream",
     "text": [
      "ERROR ON AUT AU='YUKSEL MEHMET AYTAC'\n",
      "1758\n"
     ]
    },
    {
     "name": "stderr",
     "output_type": "stream",
     "text": [
      "<suds.sax.document.Document object at 0x115976048>\n"
     ]
    },
    {
     "name": "stdout",
     "output_type": "stream",
     "text": [
      "ERROR ON AUT AU= 'ALIAGAOGLU CIHANGIR'\n",
      "1759\n"
     ]
    },
    {
     "name": "stderr",
     "output_type": "stream",
     "text": [
      "<suds.sax.document.Document object at 0x1124c7390>\n"
     ]
    },
    {
     "name": "stdout",
     "output_type": "stream",
     "text": [
      "ERROR ON AUT AU= 'AKSOY ADNAN'\n",
      "1760\n"
     ]
    },
    {
     "name": "stderr",
     "output_type": "stream",
     "text": [
      "<suds.sax.document.Document object at 0x1159bc3c8>\n"
     ]
    },
    {
     "name": "stdout",
     "output_type": "stream",
     "text": [
      "ERROR ON AUT AU='ARIOZ UMUT'\n",
      "1761\n"
     ]
    },
    {
     "name": "stderr",
     "output_type": "stream",
     "text": [
      "<suds.sax.document.Document object at 0x1120c2d68>\n"
     ]
    },
    {
     "name": "stdout",
     "output_type": "stream",
     "text": [
      "ERROR ON AUT AU= 'SOYLEMEZ BURCAK'\n",
      "1762\n"
     ]
    },
    {
     "name": "stderr",
     "output_type": "stream",
     "text": [
      "<suds.sax.document.Document object at 0x115b25748>\n"
     ]
    },
    {
     "name": "stdout",
     "output_type": "stream",
     "text": [
      "ERROR ON AUT AU= 'ISIKAY NURGUL'\n",
      "1763\n"
     ]
    },
    {
     "name": "stderr",
     "output_type": "stream",
     "text": [
      "<suds.sax.document.Document object at 0x1161cfb70>\n"
     ]
    },
    {
     "name": "stdout",
     "output_type": "stream",
     "text": [
      "ERROR ON AUT AU= 'KAP OZLEM'\n",
      "1764\n"
     ]
    },
    {
     "name": "stderr",
     "output_type": "stream",
     "text": [
      "<suds.sax.document.Document object at 0x115e0dd30>\n"
     ]
    },
    {
     "name": "stdout",
     "output_type": "stream",
     "text": [
      "ERROR ON AUT AU= 'CINAR MUSTAFA'\n",
      "1765\n"
     ]
    },
    {
     "name": "stderr",
     "output_type": "stream",
     "text": [
      "<suds.sax.document.Document object at 0x115e0d1d0>\n"
     ]
    },
    {
     "name": "stdout",
     "output_type": "stream",
     "text": [
      "ERROR ON AUT AU= 'BOZKURT MEHMET FATIH'\n",
      "1766\n"
     ]
    },
    {
     "name": "stderr",
     "output_type": "stream",
     "text": [
      "<suds.sax.document.Document object at 0x1159bc780>\n"
     ]
    },
    {
     "name": "stdout",
     "output_type": "stream",
     "text": [
      "ERROR ON AUT AU= 'KARA SEMRA'\n",
      "1767\n"
     ]
    },
    {
     "name": "stderr",
     "output_type": "stream",
     "text": [
      "<suds.sax.document.Document object at 0x113c81e48>\n"
     ]
    },
    {
     "name": "stdout",
     "output_type": "stream",
     "text": [
      "ERROR ON AUT AU= 'BACANLI ZEHRA'\n",
      "1768\n"
     ]
    },
    {
     "name": "stderr",
     "output_type": "stream",
     "text": [
      "<suds.sax.document.Document object at 0x113c81a90>\n"
     ]
    },
    {
     "name": "stdout",
     "output_type": "stream",
     "text": [
      "ERROR ON AUT AU= 'ALPER EMRAH'\n",
      "1769\n"
     ]
    },
    {
     "name": "stderr",
     "output_type": "stream",
     "text": [
      "<suds.sax.document.Document object at 0x113c59588>\n"
     ]
    },
    {
     "name": "stdout",
     "output_type": "stream",
     "text": [
      "ERROR ON AUT AU= 'KARALEZLI NAZIM'\n",
      "1770\n"
     ]
    },
    {
     "name": "stderr",
     "output_type": "stream",
     "text": [
      "<suds.sax.document.Document object at 0x115e0d978>\n"
     ]
    },
    {
     "name": "stdout",
     "output_type": "stream",
     "text": [
      "ERROR ON AUT AU='CAKMAKLIOGULLARI ELCIN KAL'\n",
      "1771\n"
     ]
    },
    {
     "name": "stderr",
     "output_type": "stream",
     "text": [
      "<suds.sax.document.Document object at 0x1124c7550>\n"
     ]
    },
    {
     "name": "stdout",
     "output_type": "stream",
     "text": [
      "ERROR ON AUT AU= 'DEMIRTAS SINAN'\n",
      "1772\n"
     ]
    },
    {
     "name": "stderr",
     "output_type": "stream",
     "text": [
      "<suds.sax.document.Document object at 0x115976160>\n"
     ]
    },
    {
     "name": "stdout",
     "output_type": "stream",
     "text": [
      "ERROR ON AUT AU='YIGIT TEVFIK'\n",
      "1773\n"
     ]
    },
    {
     "name": "stderr",
     "output_type": "stream",
     "text": [
      "<suds.sax.document.Document object at 0x115cdecc0>\n"
     ]
    },
    {
     "name": "stdout",
     "output_type": "stream",
     "text": [
      "ERROR ON AUT AU= 'OZIC CEM'\n",
      "1774\n"
     ]
    },
    {
     "name": "stderr",
     "output_type": "stream",
     "text": [
      "<suds.sax.document.Document object at 0x115cb3ba8>\n"
     ]
    },
    {
     "name": "stdout",
     "output_type": "stream",
     "text": [
      "ERROR ON AUT AU= 'BELASSEL MOHAMMED'\n",
      "1775\n"
     ]
    },
    {
     "name": "stderr",
     "output_type": "stream",
     "text": [
      "<suds.sax.document.Document object at 0x113c59550>\n"
     ]
    },
    {
     "name": "stdout",
     "output_type": "stream",
     "text": [
      "ERROR ON AUT AU= 'ILDIZLI MUGE'\n",
      "1776\n"
     ]
    },
    {
     "name": "stderr",
     "output_type": "stream",
     "text": [
      "<suds.sax.document.Document object at 0x115f21e80>\n"
     ]
    },
    {
     "name": "stdout",
     "output_type": "stream",
     "text": [
      "ERROR ON AUT AU= 'GIRGIN IBRAHIM'\n",
      "1777\n"
     ]
    },
    {
     "name": "stderr",
     "output_type": "stream",
     "text": [
      "<suds.sax.document.Document object at 0x115f21f98>\n"
     ]
    },
    {
     "name": "stdout",
     "output_type": "stream",
     "text": [
      "ERROR ON AUT AU= 'CEYLAN ERGUN'\n",
      "1778\n"
     ]
    },
    {
     "name": "stderr",
     "output_type": "stream",
     "text": [
      "<suds.sax.document.Document object at 0x1159bcf60>\n"
     ]
    },
    {
     "name": "stdout",
     "output_type": "stream",
     "text": [
      "ERROR ON AUT AU= 'BASARSLAN FATMAGUL'\n",
      "1779\n"
     ]
    },
    {
     "name": "stderr",
     "output_type": "stream",
     "text": [
      "<suds.sax.document.Document object at 0x111f74588>\n"
     ]
    },
    {
     "name": "stdout",
     "output_type": "stream",
     "text": [
      "ERROR ON AUT AU= 'ALICI HAYRI'\n",
      "1780\n"
     ]
    },
    {
     "name": "stderr",
     "output_type": "stream",
     "text": [
      "<suds.sax.document.Document object at 0x115cb35f8>\n"
     ]
    },
    {
     "name": "stdout",
     "output_type": "stream",
     "text": [
      "ERROR ON AUT AU='ASIL MEHMET'\n",
      "1781\n"
     ]
    },
    {
     "name": "stderr",
     "output_type": "stream",
     "text": [
      "<suds.sax.document.Document object at 0x113c59978>\n"
     ]
    },
    {
     "name": "stdout",
     "output_type": "stream",
     "text": [
      "ERROR ON AUT AU='ALTAN BURCU AYSE'\n",
      "1782\n"
     ]
    },
    {
     "name": "stderr",
     "output_type": "stream",
     "text": [
      "<suds.sax.document.Document object at 0x112a87470>\n"
     ]
    },
    {
     "name": "stdout",
     "output_type": "stream",
     "text": [
      "ERROR ON AUT AU= 'SENSOY GUELNAR'\n",
      "1783\n"
     ]
    },
    {
     "name": "stderr",
     "output_type": "stream",
     "text": [
      "<suds.sax.document.Document object at 0x1124c7dd8>\n"
     ]
    },
    {
     "name": "stdout",
     "output_type": "stream",
     "text": [
      "ERROR ON AUT AU='DINCBAS FAZILET ONER'\n",
      "1784\n"
     ]
    },
    {
     "name": "stderr",
     "output_type": "stream",
     "text": [
      "<suds.sax.document.Document object at 0x1159bc7b8>\n"
     ]
    },
    {
     "name": "stdout",
     "output_type": "stream",
     "text": [
      "ERROR ON AUT AU= 'YUECEL TUBA'\n",
      "1785\n"
     ]
    },
    {
     "name": "stderr",
     "output_type": "stream",
     "text": [
      "<suds.sax.document.Document object at 0x117f747f0>\n"
     ]
    },
    {
     "name": "stdout",
     "output_type": "stream",
     "text": [
      "ERROR ON AUT AU= 'ORAL MEHMET KEREM'\n",
      "1786\n"
     ]
    },
    {
     "name": "stderr",
     "output_type": "stream",
     "text": [
      "<suds.sax.document.Document object at 0x117f747b8>\n"
     ]
    },
    {
     "name": "stdout",
     "output_type": "stream",
     "text": [
      "ERROR ON AUT AU= 'YUCEL CEMIL'\n",
      "1787\n"
     ]
    },
    {
     "name": "stderr",
     "output_type": "stream",
     "text": [
      "<suds.sax.document.Document object at 0x115f217b8>\n"
     ]
    },
    {
     "name": "stdout",
     "output_type": "stream",
     "text": [
      "ERROR ON AUT AU= 'DINCER TUBA'\n",
      "1788\n"
     ]
    },
    {
     "name": "stderr",
     "output_type": "stream",
     "text": [
      "<suds.sax.document.Document object at 0x1161cfdd8>\n"
     ]
    },
    {
     "name": "stdout",
     "output_type": "stream",
     "text": [
      "ERROR ON AUT AU='YUR FATMAGUL'\n",
      "1789\n"
     ]
    },
    {
     "name": "stderr",
     "output_type": "stream",
     "text": [
      "<suds.sax.document.Document object at 0x115e0d080>\n"
     ]
    },
    {
     "name": "stdout",
     "output_type": "stream",
     "text": [
      "ERROR ON AUT AU= 'ALGUL OZTEKIN'\n",
      "1790\n"
     ]
    },
    {
     "name": "stderr",
     "output_type": "stream",
     "text": [
      "<suds.sax.document.Document object at 0x115cde550>\n"
     ]
    },
    {
     "name": "stdout",
     "output_type": "stream",
     "text": [
      "ERROR ON AUT AU= 'HAKYEMEZ ISMAIL'\n",
      "1791\n"
     ]
    },
    {
     "name": "stderr",
     "output_type": "stream",
     "text": [
      "<suds.sax.document.Document object at 0x1159761d0>\n"
     ]
    },
    {
     "name": "stdout",
     "output_type": "stream",
     "text": [
      "ERROR ON AUT AU= 'DOGER CIHAN'\n",
      "1792\n"
     ]
    },
    {
     "name": "stderr",
     "output_type": "stream",
     "text": [
      "<suds.sax.document.Document object at 0x117f74b70>\n"
     ]
    },
    {
     "name": "stdout",
     "output_type": "stream",
     "text": [
      "ERROR ON AUT AU= 'ERTENLI IHSAN'\n",
      "1793\n"
     ]
    },
    {
     "name": "stderr",
     "output_type": "stream",
     "text": [
      "<suds.sax.document.Document object at 0x115f21630>\n"
     ]
    },
    {
     "name": "stdout",
     "output_type": "stream",
     "text": [
      "ERROR ON AUT AU= 'ESER OZLEM'\n",
      "1794\n"
     ]
    },
    {
     "name": "stderr",
     "output_type": "stream",
     "text": [
      "<suds.sax.document.Document object at 0x1120bb2b0>\n"
     ]
    },
    {
     "name": "stdout",
     "output_type": "stream",
     "text": [
      "ERROR ON AUT AU= 'GOKTAN ASLI'\n",
      "1795\n"
     ]
    },
    {
     "name": "stderr",
     "output_type": "stream",
     "text": [
      "<suds.sax.document.Document object at 0x115e0dcf8>\n"
     ]
    },
    {
     "name": "stdout",
     "output_type": "stream",
     "text": [
      "ERROR ON AUT AU= 'CANPOLAT SILA'\n",
      "1796\n"
     ]
    },
    {
     "name": "stderr",
     "output_type": "stream",
     "text": [
      "<suds.sax.document.Document object at 0x115cde278>\n"
     ]
    },
    {
     "name": "stdout",
     "output_type": "stream",
     "text": [
      "ERROR ON AUT AU= 'SARICI MURAT'\n",
      "1797\n"
     ]
    },
    {
     "name": "stderr",
     "output_type": "stream",
     "text": [
      "<suds.sax.document.Document object at 0x113c59dd8>\n"
     ]
    },
    {
     "name": "stdout",
     "output_type": "stream",
     "text": [
      "ERROR ON AUT AU= 'BILGI AHMET SECKIN'\n",
      "1798\n"
     ]
    },
    {
     "name": "stderr",
     "output_type": "stream",
     "text": [
      "<suds.sax.document.Document object at 0x117f747b8>\n"
     ]
    },
    {
     "name": "stdout",
     "output_type": "stream",
     "text": [
      "ERROR ON AUT AU='BASARANOGLU SERDAR'\n",
      "1799\n"
     ]
    },
    {
     "name": "stderr",
     "output_type": "stream",
     "text": [
      "<suds.sax.document.Document object at 0x115f21668>\n"
     ]
    },
    {
     "name": "stdout",
     "output_type": "stream",
     "text": [
      "ERROR ON AUT AU= 'TAY TURGAY'\n",
      "1800\n"
     ]
    },
    {
     "name": "stderr",
     "output_type": "stream",
     "text": [
      "<suds.sax.document.Document object at 0x115b255f8>\n"
     ]
    },
    {
     "name": "stdout",
     "output_type": "stream",
     "text": [
      "ERROR ON AUT AU= 'FARIMAZ HATICE'\n",
      "1801\n"
     ]
    },
    {
     "name": "stderr",
     "output_type": "stream",
     "text": [
      "<suds.sax.document.Document object at 0x115b25080>\n"
     ]
    },
    {
     "name": "stdout",
     "output_type": "stream",
     "text": [
      "ERROR ON AUT AU= 'TASTAN BEKIR'\n",
      "1802\n"
     ]
    },
    {
     "name": "stderr",
     "output_type": "stream",
     "text": [
      "<suds.sax.document.Document object at 0x115cde4e0>\n"
     ]
    },
    {
     "name": "stdout",
     "output_type": "stream",
     "text": [
      "ERROR ON AUT AU='OZERBIL ONDER'\n",
      "1803\n"
     ]
    },
    {
     "name": "stderr",
     "output_type": "stream",
     "text": [
      "<suds.sax.document.Document object at 0x115cb32e8>\n"
     ]
    },
    {
     "name": "stdout",
     "output_type": "stream",
     "text": [
      "ERROR ON AUT AU='YAHAYA MUHAMAD ZAMRI'\n",
      "1804\n"
     ]
    },
    {
     "name": "stderr",
     "output_type": "stream",
     "text": [
      "<suds.sax.document.Document object at 0x115cb3400>\n"
     ]
    },
    {
     "name": "stdout",
     "output_type": "stream",
     "text": [
      "ERROR ON AUT AU= 'YALINKILIC BARIS'\n",
      "1805\n"
     ]
    },
    {
     "name": "stderr",
     "output_type": "stream",
     "text": [
      "<suds.sax.document.Document object at 0x115f21c18>\n"
     ]
    },
    {
     "name": "stdout",
     "output_type": "stream",
     "text": [
      "ERROR ON AUT AU= 'YILDIZ ISA'\n",
      "1806\n"
     ]
    },
    {
     "name": "stderr",
     "output_type": "stream",
     "text": [
      "<suds.sax.document.Document object at 0x115e0d320>\n"
     ]
    },
    {
     "name": "stdout",
     "output_type": "stream",
     "text": [
      "ERROR ON AUT AU= 'DAGLAR BAHADIR'\n",
      "1807\n"
     ]
    },
    {
     "name": "stderr",
     "output_type": "stream",
     "text": [
      "<suds.sax.document.Document object at 0x115e0d2b0>\n"
     ]
    },
    {
     "name": "stdout",
     "output_type": "stream",
     "text": [
      "ERROR ON AUT AU= 'KARAOGLU SEDA'\n",
      "1808\n"
     ]
    },
    {
     "name": "stderr",
     "output_type": "stream",
     "text": [
      "<suds.sax.document.Document object at 0x115cde048>\n"
     ]
    },
    {
     "name": "stdout",
     "output_type": "stream",
     "text": [
      "ERROR ON AUT AU= 'INANC BETUL BATTALOGLU'\n",
      "1809\n"
     ]
    },
    {
     "name": "stderr",
     "output_type": "stream",
     "text": [
      "<suds.sax.document.Document object at 0x1124c7668>\n"
     ]
    },
    {
     "name": "stdout",
     "output_type": "stream",
     "text": [
      "ERROR ON AUT AU= 'YILDIZDAS DINCER'\n",
      "1810\n"
     ]
    },
    {
     "name": "stderr",
     "output_type": "stream",
     "text": [
      "<suds.sax.document.Document object at 0x117f747b8>\n"
     ]
    },
    {
     "name": "stdout",
     "output_type": "stream",
     "text": [
      "ERROR ON AUT AU= 'ATABAY TENNUR'\n",
      "1811\n"
     ]
    },
    {
     "name": "stderr",
     "output_type": "stream",
     "text": [
      "<suds.sax.document.Document object at 0x115f21518>\n"
     ]
    },
    {
     "name": "stdout",
     "output_type": "stream",
     "text": [
      "ERROR ON AUT AU='TILKI MUAMMER'\n",
      "1812\n"
     ]
    },
    {
     "name": "stderr",
     "output_type": "stream",
     "text": [
      "<suds.sax.document.Document object at 0x1159762b0>\n"
     ]
    },
    {
     "name": "stdout",
     "output_type": "stream",
     "text": [
      "ERROR ON AUT AU= 'MENTESE AHMET'\n",
      "1813\n"
     ]
    },
    {
     "name": "stderr",
     "output_type": "stream",
     "text": [
      "<suds.sax.document.Document object at 0x1159bce80>\n"
     ]
    },
    {
     "name": "stdout",
     "output_type": "stream",
     "text": [
      "ERROR ON AUT AU='ILHAN SALIH'\n",
      "1814\n"
     ]
    },
    {
     "name": "stderr",
     "output_type": "stream",
     "text": [
      "<suds.sax.document.Document object at 0x115cdec50>\n"
     ]
    },
    {
     "name": "stdout",
     "output_type": "stream",
     "text": [
      "ERROR ON AUT AU= 'ASEE'\n",
      "1815\n"
     ]
    },
    {
     "name": "stderr",
     "output_type": "stream",
     "text": [
      "<suds.sax.document.Document object at 0x1124c7f28>\n"
     ]
    },
    {
     "name": "stdout",
     "output_type": "stream",
     "text": [
      "ERROR ON AUT AU= 'SAHIN NILAY'\n",
      "1816\n"
     ]
    },
    {
     "name": "stderr",
     "output_type": "stream",
     "text": [
      "<suds.sax.document.Document object at 0x117f74908>\n"
     ]
    },
    {
     "name": "stdout",
     "output_type": "stream",
     "text": [
      "ERROR ON AUT AU='OLMEZ ERCUMENT'\n",
      "1817\n"
     ]
    },
    {
     "name": "stderr",
     "output_type": "stream",
     "text": [
      "<suds.sax.document.Document object at 0x115f212e8>\n"
     ]
    },
    {
     "name": "stdout",
     "output_type": "stream",
     "text": [
      "ERROR ON AUT AU= 'OZEN UMUT'\n",
      "1818\n"
     ]
    },
    {
     "name": "stderr",
     "output_type": "stream",
     "text": [
      "<suds.sax.document.Document object at 0x115f94ba8>\n"
     ]
    },
    {
     "name": "stdout",
     "output_type": "stream",
     "text": [
      "ERROR ON AUT AU= 'MELETIS EFSTATHIOS I.'\n",
      "1819\n"
     ]
    },
    {
     "name": "stderr",
     "output_type": "stream",
     "text": [
      "<suds.sax.document.Document object at 0x115f94278>\n"
     ]
    },
    {
     "name": "stdout",
     "output_type": "stream",
     "text": [
      "ERROR ON AUT AU='KIRNAP MEHMET'\n",
      "1820\n"
     ]
    },
    {
     "name": "stderr",
     "output_type": "stream",
     "text": [
      "<suds.sax.document.Document object at 0x113c81940>\n"
     ]
    },
    {
     "name": "stdout",
     "output_type": "stream",
     "text": [
      "ERROR ON AUT AU= 'SARKILAR GAMZE'\n",
      "1821\n"
     ]
    },
    {
     "name": "stderr",
     "output_type": "stream",
     "text": [
      "<suds.sax.document.Document object at 0x113c818d0>\n"
     ]
    },
    {
     "name": "stdout",
     "output_type": "stream",
     "text": [
      "ERROR ON AUT AU= 'OZDEMIR SADIN'\n",
      "1822\n"
     ]
    },
    {
     "name": "stderr",
     "output_type": "stream",
     "text": [
      "<suds.sax.document.Document object at 0x113c814a8>\n"
     ]
    },
    {
     "name": "stdout",
     "output_type": "stream",
     "text": [
      "ERROR ON AUT AU= 'UCAR FILIZ'\n",
      "1823\n"
     ]
    },
    {
     "name": "stderr",
     "output_type": "stream",
     "text": [
      "<suds.sax.document.Document object at 0x1159bc358>\n"
     ]
    },
    {
     "name": "stdout",
     "output_type": "stream",
     "text": [
      "ERROR ON AUT AU= 'MEYDAN BILGE CAN'\n",
      "1824\n"
     ]
    },
    {
     "name": "stderr",
     "output_type": "stream",
     "text": [
      "<suds.sax.document.Document object at 0x115b25c50>\n"
     ]
    },
    {
     "name": "stdout",
     "output_type": "stream",
     "text": [
      "ERROR ON AUT AU= 'DUMAN ERMAN'\n",
      "1825\n"
     ]
    },
    {
     "name": "stderr",
     "output_type": "stream",
     "text": [
      "<suds.sax.document.Document object at 0x115b25a58>\n"
     ]
    },
    {
     "name": "stdout",
     "output_type": "stream",
     "text": [
      "ERROR ON AUT AU= 'ER SAID ENES'\n",
      "1826\n"
     ]
    },
    {
     "name": "stderr",
     "output_type": "stream",
     "text": [
      "<suds.sax.document.Document object at 0x1124c7860>\n"
     ]
    },
    {
     "name": "stdout",
     "output_type": "stream",
     "text": [
      "ERROR ON AUT AU= 'HASCELIK GULSEN'\n",
      "1827\n"
     ]
    },
    {
     "name": "stderr",
     "output_type": "stream",
     "text": [
      "<suds.sax.document.Document object at 0x117f74630>\n"
     ]
    },
    {
     "name": "stdout",
     "output_type": "stream",
     "text": [
      "ERROR ON AUT AU= 'YAGIZ AYSEGUL KARTAL'\n",
      "1828\n"
     ]
    },
    {
     "name": "stderr",
     "output_type": "stream",
     "text": [
      "<suds.sax.document.Document object at 0x113c814a8>\n"
     ]
    },
    {
     "name": "stdout",
     "output_type": "stream",
     "text": [
      "ERROR ON AUT AU='BAYRAM UMIT'\n",
      "1829\n"
     ]
    },
    {
     "name": "stderr",
     "output_type": "stream",
     "text": [
      "<suds.sax.document.Document object at 0x1159bc470>\n"
     ]
    },
    {
     "name": "stdout",
     "output_type": "stream",
     "text": [
      "ERROR ON AUT AU='BALKUV ECE'\n",
      "1830\n"
     ]
    },
    {
     "name": "stderr",
     "output_type": "stream",
     "text": [
      "<suds.sax.document.Document object at 0x115b25dd8>\n"
     ]
    },
    {
     "name": "stdout",
     "output_type": "stream",
     "text": [
      "ERROR ON AUT AU='ORUC SERDAR'\n",
      "1831\n"
     ]
    },
    {
     "name": "stderr",
     "output_type": "stream",
     "text": [
      "<suds.sax.document.Document object at 0x115b25e48>\n"
     ]
    },
    {
     "name": "stdout",
     "output_type": "stream",
     "text": [
      "ERROR ON AUT AU= 'KAHRAMAN CENGIZ'\n",
      "1832\n"
     ]
    },
    {
     "name": "stderr",
     "output_type": "stream",
     "text": [
      "<suds.sax.document.Document object at 0x1124c7630>\n"
     ]
    },
    {
     "name": "stdout",
     "output_type": "stream",
     "text": [
      "ERROR ON AUT AU= 'CINGI CEMAL'\n",
      "1833\n"
     ]
    },
    {
     "name": "stderr",
     "output_type": "stream",
     "text": [
      "<suds.sax.document.Document object at 0x113c597f0>\n"
     ]
    },
    {
     "name": "stdout",
     "output_type": "stream",
     "text": [
      "ERROR ON AUT AU= 'BAL UFUK'\n",
      "1834\n"
     ]
    },
    {
     "name": "stderr",
     "output_type": "stream",
     "text": [
      "<suds.sax.document.Document object at 0x113c81a90>\n"
     ]
    },
    {
     "name": "stdout",
     "output_type": "stream",
     "text": [
      "ERROR ON AUT AU='DEMIRCAN AYDIN'\n",
      "1835\n"
     ]
    },
    {
     "name": "stderr",
     "output_type": "stream",
     "text": [
      "<suds.sax.document.Document object at 0x1159bc978>\n"
     ]
    },
    {
     "name": "stdout",
     "output_type": "stream",
     "text": [
      "ERROR ON AUT AU= 'ALPASLAN MUHAMMED'\n",
      "1836\n"
     ]
    },
    {
     "name": "stderr",
     "output_type": "stream",
     "text": [
      "<suds.sax.document.Document object at 0x115976320>\n"
     ]
    },
    {
     "name": "stdout",
     "output_type": "stream",
     "text": [
      "ERROR ON AUT AU='YUCESIR ILKER'\n",
      "1837\n"
     ]
    },
    {
     "name": "stderr",
     "output_type": "stream",
     "text": [
      "<suds.sax.document.Document object at 0x112a872b0>\n"
     ]
    },
    {
     "name": "stdout",
     "output_type": "stream",
     "text": [
      "ERROR ON AUT AU= 'HAMMOUTI B.'\n",
      "1838\n"
     ]
    },
    {
     "name": "stderr",
     "output_type": "stream",
     "text": [
      "<suds.sax.document.Document object at 0x1124c76a0>\n"
     ]
    },
    {
     "name": "stdout",
     "output_type": "stream",
     "text": [
      "ERROR ON AUT AU='BADEMKIRAN SERVET'\n",
      "1839\n"
     ]
    },
    {
     "name": "stderr",
     "output_type": "stream",
     "text": [
      "<suds.sax.document.Document object at 0x115f94c88>\n"
     ]
    },
    {
     "name": "stdout",
     "output_type": "stream",
     "text": [
      "ERROR ON AUT AU= 'IPEK SEMRAN'\n",
      "1840\n"
     ]
    },
    {
     "name": "stderr",
     "output_type": "stream",
     "text": [
      "<suds.sax.document.Document object at 0x115f94128>\n"
     ]
    },
    {
     "name": "stdout",
     "output_type": "stream",
     "text": [
      "ERROR ON AUT AU= 'OZKAN TURKER'\n",
      "1841\n"
     ]
    },
    {
     "name": "stderr",
     "output_type": "stream",
     "text": [
      "<suds.sax.document.Document object at 0x1159bc8d0>\n"
     ]
    },
    {
     "name": "stdout",
     "output_type": "stream",
     "text": [
      "ERROR ON AUT AU='SUNNETCIOGLU AYSEL'\n",
      "1842\n"
     ]
    },
    {
     "name": "stderr",
     "output_type": "stream",
     "text": [
      "<suds.sax.document.Document object at 0x1161cfc50>\n"
     ]
    },
    {
     "name": "stdout",
     "output_type": "stream",
     "text": [
      "ERROR ON AUT AU= 'TUNCER MELTEM'\n",
      "1843\n"
     ]
    },
    {
     "name": "stderr",
     "output_type": "stream",
     "text": [
      "<suds.sax.document.Document object at 0x115cde198>\n"
     ]
    },
    {
     "name": "stdout",
     "output_type": "stream",
     "text": [
      "ERROR ON AUT AU= 'OZKANLAR YUNUSEMRE'\n",
      "1844\n"
     ]
    },
    {
     "name": "stderr",
     "output_type": "stream",
     "text": [
      "<suds.sax.document.Document object at 0x1124c7710>\n"
     ]
    },
    {
     "name": "stdout",
     "output_type": "stream",
     "text": [
      "ERROR ON AUT AU= 'YILDIZ MEHMET ERDEM'\n",
      "1845\n"
     ]
    },
    {
     "name": "stderr",
     "output_type": "stream",
     "text": [
      "<suds.sax.document.Document object at 0x1120c2748>\n"
     ]
    },
    {
     "name": "stdout",
     "output_type": "stream",
     "text": [
      "ERROR ON AUT AU= 'OZCAN VEFA'\n",
      "1846\n"
     ]
    },
    {
     "name": "stderr",
     "output_type": "stream",
     "text": [
      "<suds.sax.document.Document object at 0x115f94c88>\n"
     ]
    },
    {
     "name": "stdout",
     "output_type": "stream",
     "text": [
      "ERROR ON AUT AU='YILMAZ AMINE'\n",
      "1847\n"
     ]
    },
    {
     "name": "stderr",
     "output_type": "stream",
     "text": [
      "<suds.sax.document.Document object at 0x1159bcdd8>\n"
     ]
    },
    {
     "name": "stdout",
     "output_type": "stream",
     "text": [
      "ERROR ON AUT AU= 'MURK WILLIAM'\n",
      "1848\n"
     ]
    },
    {
     "name": "stderr",
     "output_type": "stream",
     "text": [
      "<suds.sax.document.Document object at 0x115f215f8>\n"
     ]
    },
    {
     "name": "stdout",
     "output_type": "stream",
     "text": [
      "ERROR ON AUT AU= 'DINLEYICI ENER CAGRI'\n",
      "1849\n"
     ]
    },
    {
     "name": "stderr",
     "output_type": "stream",
     "text": [
      "<suds.sax.document.Document object at 0x115f21d30>\n"
     ]
    },
    {
     "name": "stdout",
     "output_type": "stream",
     "text": [
      "ERROR ON AUT AU= 'ADAM MEHMET'\n",
      "1850\n"
     ]
    },
    {
     "name": "stderr",
     "output_type": "stream",
     "text": [
      "<suds.sax.document.Document object at 0x115cb3a20>\n"
     ]
    },
    {
     "name": "stdout",
     "output_type": "stream",
     "text": [
      "ERROR ON AUT AU= 'OZKALIPCI ONDER'\n",
      "1851\n"
     ]
    },
    {
     "name": "stderr",
     "output_type": "stream",
     "text": [
      "<suds.sax.document.Document object at 0x117f74630>\n"
     ]
    },
    {
     "name": "stdout",
     "output_type": "stream",
     "text": [
      "ERROR ON AUT AU= 'HUSAIN MALEHA'\n",
      "1852\n"
     ]
    },
    {
     "name": "stderr",
     "output_type": "stream",
     "text": [
      "<suds.sax.document.Document object at 0x115f94ba8>\n"
     ]
    },
    {
     "name": "stdout",
     "output_type": "stream",
     "text": [
      "ERROR ON AUT AU='ARIKAN KEMAL'\n",
      "1853\n"
     ]
    },
    {
     "name": "stderr",
     "output_type": "stream",
     "text": [
      "<suds.sax.document.Document object at 0x1124c7eb8>\n"
     ]
    },
    {
     "name": "stdout",
     "output_type": "stream",
     "text": [
      "ERROR ON AUT AU= 'GUZEL HALIL IBRAHIM'\n",
      "1854\n"
     ]
    },
    {
     "name": "stderr",
     "output_type": "stream",
     "text": [
      "<suds.sax.document.Document object at 0x115e0dbe0>\n"
     ]
    },
    {
     "name": "stdout",
     "output_type": "stream",
     "text": [
      "ERROR ON AUT AU= 'CAYCI MUHAMMET KASIM'\n",
      "1855\n"
     ]
    },
    {
     "name": "stderr",
     "output_type": "stream",
     "text": [
      "<suds.sax.document.Document object at 0x115f21668>\n"
     ]
    },
    {
     "name": "stdout",
     "output_type": "stream",
     "text": [
      "ERROR ON AUT AU= 'HENEIN MICHAEL'\n",
      "1856\n"
     ]
    },
    {
     "name": "stderr",
     "output_type": "stream",
     "text": [
      "<suds.sax.document.Document object at 0x115cb37f0>\n"
     ]
    },
    {
     "name": "stdout",
     "output_type": "stream",
     "text": [
      "ERROR ON AUT AU= 'GOETZ CHRISTOPHER G.'\n",
      "1857\n"
     ]
    },
    {
     "name": "stderr",
     "output_type": "stream",
     "text": [
      "<suds.sax.document.Document object at 0x116de80f0>\n"
     ]
    },
    {
     "name": "stdout",
     "output_type": "stream",
     "text": [
      "ERROR ON AUT AU='GOCKEN MUSTAFA'\n",
      "1858\n"
     ]
    },
    {
     "name": "stderr",
     "output_type": "stream",
     "text": [
      "<suds.sax.document.Document object at 0x116de8b70>\n"
     ]
    },
    {
     "name": "stdout",
     "output_type": "stream",
     "text": [
      "ERROR ON AUT AU= 'KHOSHVAGHTI HABIB'\n",
      "1859\n"
     ]
    },
    {
     "name": "stderr",
     "output_type": "stream",
     "text": [
      "<suds.sax.document.Document object at 0x115f21cf8>\n"
     ]
    },
    {
     "name": "stdout",
     "output_type": "stream",
     "text": [
      "ERROR ON AUT AU= 'IRMAK AYSE'\n",
      "1860\n"
     ]
    },
    {
     "name": "stderr",
     "output_type": "stream",
     "text": [
      "<suds.sax.document.Document object at 0x112a875c0>\n"
     ]
    },
    {
     "name": "stdout",
     "output_type": "stream",
     "text": [
      "ERROR ON AUT AU= 'HUANG T'\n",
      "1861\n"
     ]
    },
    {
     "name": "stderr",
     "output_type": "stream",
     "text": [
      "<suds.sax.document.Document object at 0x112a87978>\n"
     ]
    },
    {
     "name": "stdout",
     "output_type": "stream",
     "text": [
      "ERROR ON AUT AU='ZORBOZAN ONUR'\n",
      "1862\n"
     ]
    },
    {
     "name": "stderr",
     "output_type": "stream",
     "text": [
      "<suds.sax.document.Document object at 0x1161cf3c8>\n"
     ]
    },
    {
     "name": "stdout",
     "output_type": "stream",
     "text": [
      "ERROR ON AUT AU= 'KOCTURK SUMEYRA ALKIS'\n",
      "1863\n"
     ]
    },
    {
     "name": "stderr",
     "output_type": "stream",
     "text": [
      "<suds.sax.document.Document object at 0x115cb3e80>\n"
     ]
    },
    {
     "name": "stdout",
     "output_type": "stream",
     "text": [
      "ERROR ON AUT AU='DAI ALPER IBRAHIM'\n",
      "1864\n"
     ]
    },
    {
     "name": "stderr",
     "output_type": "stream",
     "text": [
      "<suds.sax.document.Document object at 0x115e0d3c8>\n"
     ]
    },
    {
     "name": "stdout",
     "output_type": "stream",
     "text": [
      "ERROR ON AUT AU= 'BOUAMOUD MAMMAR'\n",
      "1865\n"
     ]
    },
    {
     "name": "stderr",
     "output_type": "stream",
     "text": [
      "<suds.sax.document.Document object at 0x115f21668>\n"
     ]
    },
    {
     "name": "stdout",
     "output_type": "stream",
     "text": [
      "ERROR ON AUT AU='UCOK KAGAN'\n",
      "1866\n"
     ]
    },
    {
     "name": "stderr",
     "output_type": "stream",
     "text": [
      "<suds.sax.document.Document object at 0x112a87be0>\n"
     ]
    },
    {
     "name": "stdout",
     "output_type": "stream",
     "text": [
      "ERROR ON AUT AU= 'SKOWRON A'\n",
      "1867\n"
     ]
    },
    {
     "name": "stderr",
     "output_type": "stream",
     "text": [
      "<suds.sax.document.Document object at 0x112a87978>\n"
     ]
    },
    {
     "name": "stdout",
     "output_type": "stream",
     "text": [
      "ERROR ON AUT AU= 'HONG JI HEUN'\n",
      "1868\n"
     ]
    },
    {
     "name": "stderr",
     "output_type": "stream",
     "text": [
      "<suds.sax.document.Document object at 0x1120c2780>\n"
     ]
    },
    {
     "name": "stdout",
     "output_type": "stream",
     "text": [
      "ERROR ON AUT AU= 'OZ YASEMIN'\n",
      "1869\n"
     ]
    },
    {
     "name": "stderr",
     "output_type": "stream",
     "text": [
      "<suds.sax.document.Document object at 0x115f94d68>\n"
     ]
    },
    {
     "name": "stdout",
     "output_type": "stream",
     "text": [
      "ERROR ON AUT AU= 'SER GAZEL'\n",
      "1870\n"
     ]
    },
    {
     "name": "stderr",
     "output_type": "stream",
     "text": [
      "<suds.sax.document.Document object at 0x115f94f28>\n"
     ]
    },
    {
     "name": "stdout",
     "output_type": "stream",
     "text": [
      "ERROR ON AUT AU= 'GUNEYISI ERHAN'\n",
      "1871\n"
     ]
    },
    {
     "name": "stderr",
     "output_type": "stream",
     "text": [
      "<suds.sax.document.Document object at 0x115f21550>\n"
     ]
    },
    {
     "name": "stdout",
     "output_type": "stream",
     "text": [
      "ERROR ON AUT AU= 'TORAMAN ZULAL ASCI'\n",
      "1872\n"
     ]
    },
    {
     "name": "stderr",
     "output_type": "stream",
     "text": [
      "<suds.sax.document.Document object at 0x113c59978>\n"
     ]
    },
    {
     "name": "stdout",
     "output_type": "stream",
     "text": [
      "ERROR ON AUT AU='ATAS NUH'\n",
      "1873\n"
     ]
    },
    {
     "name": "stderr",
     "output_type": "stream",
     "text": [
      "<suds.sax.document.Document object at 0x113c59470>\n"
     ]
    },
    {
     "name": "stdout",
     "output_type": "stream",
     "text": [
      "ERROR ON AUT AU= 'OZGURTAS TANER'\n",
      "1874\n"
     ]
    },
    {
     "name": "stderr",
     "output_type": "stream",
     "text": [
      "<suds.sax.document.Document object at 0x115cdefd0>\n"
     ]
    },
    {
     "name": "stdout",
     "output_type": "stream",
     "text": [
      "ERROR ON AUT AU= 'CIFTLER BEKIR SAIT'\n",
      "1875\n"
     ]
    },
    {
     "name": "stderr",
     "output_type": "stream",
     "text": [
      "<suds.sax.document.Document object at 0x113c81a20>\n"
     ]
    },
    {
     "name": "stdout",
     "output_type": "stream",
     "text": [
      "ERROR ON AUT AU='GULEC TRKER'\n",
      "1876\n"
     ]
    },
    {
     "name": "stderr",
     "output_type": "stream",
     "text": [
      "<suds.sax.document.Document object at 0x113c81cf8>\n"
     ]
    },
    {
     "name": "stdout",
     "output_type": "stream",
     "text": [
      "ERROR ON AUT AU= 'ASLAN MEHMET'\n",
      "1877\n"
     ]
    },
    {
     "name": "stderr",
     "output_type": "stream",
     "text": [
      "<suds.sax.document.Document object at 0x1120c29e8>\n"
     ]
    },
    {
     "name": "stdout",
     "output_type": "stream",
     "text": [
      "ERROR ON AUT AU='SECKIN A. KEMAL'\n",
      "1878\n"
     ]
    },
    {
     "name": "stderr",
     "output_type": "stream",
     "text": [
      "<suds.sax.document.Document object at 0x113c59f60>\n"
     ]
    },
    {
     "name": "stdout",
     "output_type": "stream",
     "text": [
      "ERROR ON AUT AU= 'SEVIL ERGUN'\n",
      "1879\n"
     ]
    },
    {
     "name": "stderr",
     "output_type": "stream",
     "text": [
      "<suds.sax.document.Document object at 0x112a87e10>\n"
     ]
    },
    {
     "name": "stdout",
     "output_type": "stream",
     "text": [
      "ERROR ON AUT AU= 'KARASAHIN MUSTAFA'\n",
      "1880\n"
     ]
    },
    {
     "name": "stderr",
     "output_type": "stream",
     "text": [
      "<suds.sax.document.Document object at 0x1120c2a58>\n"
     ]
    },
    {
     "name": "stdout",
     "output_type": "stream",
     "text": [
      "ERROR ON AUT AU= 'PANAYTRCI ERDAL'\n",
      "1881\n"
     ]
    },
    {
     "name": "stderr",
     "output_type": "stream",
     "text": [
      "<suds.sax.document.Document object at 0x1124c7eb8>\n"
     ]
    },
    {
     "name": "stdout",
     "output_type": "stream",
     "text": [
      "ERROR ON AUT AU= 'SEVI LEVENT'\n",
      "1882\n"
     ]
    },
    {
     "name": "stderr",
     "output_type": "stream",
     "text": [
      "<suds.sax.document.Document object at 0x1124c7860>\n"
     ]
    },
    {
     "name": "stdout",
     "output_type": "stream",
     "text": [
      "ERROR ON AUT AU= 'TOKER OMER SAID'\n",
      "1883\n"
     ]
    },
    {
     "name": "stderr",
     "output_type": "stream",
     "text": [
      "<suds.sax.document.Document object at 0x1120c2748>\n"
     ]
    },
    {
     "name": "stdout",
     "output_type": "stream",
     "text": [
      "ERROR ON AUT AU='BEYLERGIL BERTAN'\n",
      "1884\n"
     ]
    },
    {
     "name": "stderr",
     "output_type": "stream",
     "text": [
      "<suds.sax.document.Document object at 0x112a87978>\n"
     ]
    },
    {
     "name": "stdout",
     "output_type": "stream",
     "text": [
      "ERROR ON AUT AU= 'GUVEN OLGAN'\n",
      "1885\n"
     ]
    },
    {
     "name": "stderr",
     "output_type": "stream",
     "text": [
      "<suds.sax.document.Document object at 0x112a87e80>\n"
     ]
    },
    {
     "name": "stdout",
     "output_type": "stream",
     "text": [
      "ERROR ON AUT AU= 'PEKTAS BAYRAM'\n",
      "1886\n"
     ]
    },
    {
     "name": "stderr",
     "output_type": "stream",
     "text": [
      "<suds.sax.document.Document object at 0x1120c2400>\n"
     ]
    },
    {
     "name": "stdout",
     "output_type": "stream",
     "text": [
      "ERROR ON AUT AU= 'DEMIRSOY NESRIN'\n",
      "1887\n"
     ]
    },
    {
     "name": "stderr",
     "output_type": "stream",
     "text": [
      "<suds.sax.document.Document object at 0x1159bc2e8>\n"
     ]
    },
    {
     "name": "stdout",
     "output_type": "stream",
     "text": [
      "ERROR ON AUT AU='TAS UFUK'\n",
      "1888\n"
     ]
    },
    {
     "name": "stderr",
     "output_type": "stream",
     "text": [
      "<suds.sax.document.Document object at 0x1124c7128>\n"
     ]
    },
    {
     "name": "stdout",
     "output_type": "stream",
     "text": [
      "ERROR ON AUT AU= 'AKSIT FILIZ'\n",
      "1889\n"
     ]
    },
    {
     "name": "stderr",
     "output_type": "stream",
     "text": [
      "<suds.sax.document.Document object at 0x115f21ac8>\n"
     ]
    },
    {
     "name": "stdout",
     "output_type": "stream",
     "text": [
      "ERROR ON AUT AU= 'SEVLI SERHAT'\n",
      "1890\n"
     ]
    },
    {
     "name": "stderr",
     "output_type": "stream",
     "text": [
      "<suds.sax.document.Document object at 0x115b257b8>\n"
     ]
    },
    {
     "name": "stdout",
     "output_type": "stream",
     "text": [
      "ERROR ON AUT AU= 'KANDEGER ALI'\n",
      "1891\n"
     ]
    },
    {
     "name": "stderr",
     "output_type": "stream",
     "text": [
      "<suds.sax.document.Document object at 0x112a87e10>\n"
     ]
    },
    {
     "name": "stdout",
     "output_type": "stream",
     "text": [
      "ERROR ON AUT AU= 'SEL KIVANC'\n",
      "1892\n"
     ]
    },
    {
     "name": "stderr",
     "output_type": "stream",
     "text": [
      "<suds.sax.document.Document object at 0x115cb3e80>\n"
     ]
    },
    {
     "name": "stdout",
     "output_type": "stream",
     "text": [
      "ERROR ON AUT AU='HUSSEIN ODAY A.'\n",
      "1893\n"
     ]
    },
    {
     "name": "stderr",
     "output_type": "stream",
     "text": [
      "<suds.sax.document.Document object at 0x115976128>\n"
     ]
    },
    {
     "name": "stdout",
     "output_type": "stream",
     "text": [
      "ERROR ON AUT AU= 'GOVINDARAJAN M.'\n",
      "1894\n"
     ]
    },
    {
     "name": "stderr",
     "output_type": "stream",
     "text": [
      "<suds.sax.document.Document object at 0x116e1a5f8>\n"
     ]
    },
    {
     "name": "stdout",
     "output_type": "stream",
     "text": [
      "ERROR ON AUT AU= 'ALTINDAG AHMET'\n",
      "1895\n"
     ]
    },
    {
     "name": "stderr",
     "output_type": "stream",
     "text": [
      "<suds.sax.document.Document object at 0x1159bc438>\n"
     ]
    },
    {
     "name": "stdout",
     "output_type": "stream",
     "text": [
      "ERROR ON AUT AU= 'KOCER DERYA'\n",
      "1896\n"
     ]
    },
    {
     "name": "stderr",
     "output_type": "stream",
     "text": [
      "<suds.sax.document.Document object at 0x117f74c88>\n"
     ]
    },
    {
     "name": "stdout",
     "output_type": "stream",
     "text": [
      "ERROR ON AUT AU= 'GOKTEKIN MEHMET C.'\n",
      "1897\n"
     ]
    },
    {
     "name": "stderr",
     "output_type": "stream",
     "text": [
      "<suds.sax.document.Document object at 0x115e0d080>\n"
     ]
    },
    {
     "name": "stdout",
     "output_type": "stream",
     "text": [
      "ERROR ON AUT AU= 'EGILMEZ HULUSI'\n",
      "1898\n"
     ]
    },
    {
     "name": "stderr",
     "output_type": "stream",
     "text": [
      "<suds.sax.document.Document object at 0x1124c7c50>\n"
     ]
    },
    {
     "name": "stdout",
     "output_type": "stream",
     "text": [
      "ERROR ON AUT AU= 'ATAR MURAT'\n",
      "1899\n"
     ]
    },
    {
     "name": "stderr",
     "output_type": "stream",
     "text": [
      "<suds.sax.document.Document object at 0x113c59438>\n"
     ]
    },
    {
     "name": "stdout",
     "output_type": "stream",
     "text": [
      "ERROR ON AUT AU='YILDIRIM HATICE'\n",
      "1900\n"
     ]
    },
    {
     "name": "stderr",
     "output_type": "stream",
     "text": [
      "<suds.sax.document.Document object at 0x113c59278>\n"
     ]
    },
    {
     "name": "stdout",
     "output_type": "stream",
     "text": [
      "ERROR ON AUT AU= 'AKYUREK FIKRET'\n",
      "1901\n"
     ]
    },
    {
     "name": "stderr",
     "output_type": "stream",
     "text": [
      "<suds.sax.document.Document object at 0x1159bc438>\n"
     ]
    },
    {
     "name": "stdout",
     "output_type": "stream",
     "text": [
      "ERROR ON AUT AU= 'BUYUKSARAC AYDIN'\n",
      "1902\n"
     ]
    },
    {
     "name": "stderr",
     "output_type": "stream",
     "text": [
      "<suds.sax.document.Document object at 0x116de8ba8>\n"
     ]
    },
    {
     "name": "stdout",
     "output_type": "stream",
     "text": [
      "ERROR ON AUT AU='INAL ESRA ERKOL'\n",
      "1903\n"
     ]
    },
    {
     "name": "stderr",
     "output_type": "stream",
     "text": [
      "<suds.sax.document.Document object at 0x115e0def0>\n"
     ]
    },
    {
     "name": "stdout",
     "output_type": "stream",
     "text": [
      "ERROR ON AUT AU= 'TURAN GULUZAR ARZU'\n",
      "1904\n"
     ]
    },
    {
     "name": "stderr",
     "output_type": "stream",
     "text": [
      "<suds.sax.document.Document object at 0x1124c7518>\n"
     ]
    },
    {
     "name": "stdout",
     "output_type": "stream",
     "text": [
      "ERROR ON AUT AU= 'KARAKAYA EKREM'\n",
      "1905\n"
     ]
    },
    {
     "name": "stderr",
     "output_type": "stream",
     "text": [
      "<suds.sax.document.Document object at 0x115b25278>\n"
     ]
    },
    {
     "name": "stdout",
     "output_type": "stream",
     "text": [
      "ERROR ON AUT AU= 'KAHRAMAN NERMIN'\n",
      "1906\n"
     ]
    },
    {
     "name": "stderr",
     "output_type": "stream",
     "text": [
      "<suds.sax.document.Document object at 0x115b25438>\n"
     ]
    },
    {
     "name": "stdout",
     "output_type": "stream",
     "text": [
      "ERROR ON AUT AU= 'BOSTAN BORA'\n",
      "1907\n"
     ]
    },
    {
     "name": "stderr",
     "output_type": "stream",
     "text": [
      "<suds.sax.document.Document object at 0x1159bc1d0>\n"
     ]
    },
    {
     "name": "stdout",
     "output_type": "stream",
     "text": [
      "ERROR ON AUT AU= 'KARA FUAT'\n",
      "1908\n"
     ]
    },
    {
     "name": "stderr",
     "output_type": "stream",
     "text": [
      "<suds.sax.document.Document object at 0x1161cf3c8>\n"
     ]
    },
    {
     "name": "stdout",
     "output_type": "stream",
     "text": [
      "ERROR ON AUT AU= 'KURU FERAH DIBA'\n",
      "1909\n"
     ]
    },
    {
     "name": "stderr",
     "output_type": "stream",
     "text": [
      "<suds.sax.document.Document object at 0x115f94be0>\n"
     ]
    },
    {
     "name": "stdout",
     "output_type": "stream",
     "text": [
      "ERROR ON AUT AU= 'OLTULU PEMBE'\n",
      "1910\n"
     ]
    },
    {
     "name": "stderr",
     "output_type": "stream",
     "text": [
      "<suds.sax.document.Document object at 0x1124c7e48>\n"
     ]
    },
    {
     "name": "stdout",
     "output_type": "stream",
     "text": [
      "ERROR ON AUT AU= 'SAHIN NUR'\n",
      "1911\n"
     ]
    },
    {
     "name": "stderr",
     "output_type": "stream",
     "text": [
      "<suds.sax.document.Document object at 0x115b25710>\n"
     ]
    },
    {
     "name": "stdout",
     "output_type": "stream",
     "text": [
      "ERROR ON AUT AU='CALISKAN OZLEM'\n",
      "1912\n"
     ]
    },
    {
     "name": "stderr",
     "output_type": "stream",
     "text": [
      "<suds.sax.document.Document object at 0x115b251d0>\n"
     ]
    },
    {
     "name": "stdout",
     "output_type": "stream",
     "text": [
      "ERROR ON AUT AU='TOKGOZ HUSEYIN'\n",
      "1913\n"
     ]
    },
    {
     "name": "stderr",
     "output_type": "stream",
     "text": [
      "<suds.sax.document.Document object at 0x1159bcd68>\n"
     ]
    },
    {
     "name": "stdout",
     "output_type": "stream",
     "text": [
      "ERROR ON AUT AU= 'HAKKI SEMA SEZGIN'\n",
      "1914\n"
     ]
    },
    {
     "name": "stderr",
     "output_type": "stream",
     "text": [
      "<suds.sax.document.Document object at 0x115cde9b0>\n"
     ]
    },
    {
     "name": "stdout",
     "output_type": "stream",
     "text": [
      "ERROR ON AUT AU= 'LEBLEBISATAN GOKSEL'\n",
      "1915\n"
     ]
    },
    {
     "name": "stderr",
     "output_type": "stream",
     "text": [
      "<suds.sax.document.Document object at 0x115f94390>\n"
     ]
    },
    {
     "name": "stdout",
     "output_type": "stream",
     "text": [
      "ERROR ON AUT AU= 'SENTURK AYSAN'\n",
      "1916\n"
     ]
    },
    {
     "name": "stderr",
     "output_type": "stream",
     "text": [
      "<suds.sax.document.Document object at 0x1124c7cc0>\n"
     ]
    },
    {
     "name": "stdout",
     "output_type": "stream",
     "text": [
      "ERROR ON AUT AU= 'SAFDAR MUHAMMAD'\n",
      "1917\n"
     ]
    },
    {
     "name": "stderr",
     "output_type": "stream",
     "text": [
      "<suds.sax.document.Document object at 0x115cb35f8>\n"
     ]
    },
    {
     "name": "stdout",
     "output_type": "stream",
     "text": [
      "ERROR ON AUT AU='SELAMET OMER FARUK'\n",
      "1918\n"
     ]
    },
    {
     "name": "stderr",
     "output_type": "stream",
     "text": [
      "<suds.sax.document.Document object at 0x115cb3b70>\n"
     ]
    },
    {
     "name": "stdout",
     "output_type": "stream",
     "text": [
      "ERROR ON AUT AU= 'AKAR ILKER'\n",
      "1919\n"
     ]
    },
    {
     "name": "stderr",
     "output_type": "stream",
     "text": [
      "<suds.sax.document.Document object at 0x1159bc358>\n"
     ]
    },
    {
     "name": "stdout",
     "output_type": "stream",
     "text": [
      "ERROR ON AUT AU= 'ONAL NAGIHAN TANIK'\n",
      "1920\n"
     ]
    },
    {
     "name": "stderr",
     "output_type": "stream",
     "text": [
      "<suds.sax.document.Document object at 0x115f211d0>\n"
     ]
    },
    {
     "name": "stdout",
     "output_type": "stream",
     "text": [
      "ERROR ON AUT AU= 'KOSTEN E. YESIM OZGEN'\n",
      "1921\n"
     ]
    },
    {
     "name": "stderr",
     "output_type": "stream",
     "text": [
      "<suds.sax.document.Document object at 0x115f21080>\n"
     ]
    },
    {
     "name": "stdout",
     "output_type": "stream",
     "text": [
      "ERROR ON AUT AU= 'PANCAR GUNSELI S.'\n",
      "1922\n"
     ]
    },
    {
     "name": "stderr",
     "output_type": "stream",
     "text": [
      "<suds.sax.document.Document object at 0x1161cf860>\n"
     ]
    },
    {
     "name": "stdout",
     "output_type": "stream",
     "text": [
      "ERROR ON AUT AU= 'DIKEL NEVIN HANDE'\n",
      "1923\n"
     ]
    },
    {
     "name": "stderr",
     "output_type": "stream",
     "text": [
      "<suds.sax.document.Document object at 0x115b25e10>\n"
     ]
    },
    {
     "name": "stdout",
     "output_type": "stream",
     "text": [
      "ERROR ON AUT AU= 'SHOJAOLSADATI PARIA'\n",
      "1924\n"
     ]
    },
    {
     "name": "stderr",
     "output_type": "stream",
     "text": [
      "<suds.sax.document.Document object at 0x115b25048>\n"
     ]
    },
    {
     "name": "stdout",
     "output_type": "stream",
     "text": [
      "ERROR ON AUT AU= 'OZDEMIR FATMA'\n",
      "1925\n"
     ]
    },
    {
     "name": "stderr",
     "output_type": "stream",
     "text": [
      "<suds.sax.document.Document object at 0x1159bce48>\n"
     ]
    },
    {
     "name": "stdout",
     "output_type": "stream",
     "text": [
      "ERROR ON AUT AU= 'ERDOGAN OKAN'\n",
      "1926\n"
     ]
    },
    {
     "name": "stderr",
     "output_type": "stream",
     "text": [
      "<suds.sax.document.Document object at 0x112a872e8>\n"
     ]
    },
    {
     "name": "stdout",
     "output_type": "stream",
     "text": [
      "ERROR ON AUT AU= 'YILDIRIM ARAFE'\n",
      "1927\n"
     ]
    },
    {
     "name": "stderr",
     "output_type": "stream",
     "text": [
      "<suds.sax.document.Document object at 0x115f21390>\n"
     ]
    },
    {
     "name": "stdout",
     "output_type": "stream",
     "text": [
      "ERROR ON AUT AU= 'DONMEZ INCI'\n",
      "1928\n"
     ]
    },
    {
     "name": "stderr",
     "output_type": "stream",
     "text": [
      "<suds.sax.document.Document object at 0x1161cf3c8>\n"
     ]
    },
    {
     "name": "stdout",
     "output_type": "stream",
     "text": [
      "ERROR ON AUT AU= 'SEMIZ SERAP'\n",
      "1929\n"
     ]
    },
    {
     "name": "stderr",
     "output_type": "stream",
     "text": [
      "<suds.sax.document.Document object at 0x1120bb518>\n"
     ]
    },
    {
     "name": "stdout",
     "output_type": "stream",
     "text": [
      "ERROR ON AUT AU='DEMIR AHMET'\n",
      "1930\n"
     ]
    },
    {
     "name": "stderr",
     "output_type": "stream",
     "text": [
      "<suds.sax.document.Document object at 0x116e4e278>\n"
     ]
    },
    {
     "name": "stdout",
     "output_type": "stream",
     "text": [
      "ERROR ON AUT AU= 'BUKYUKBERBER SULEYMAN'\n",
      "1931\n"
     ]
    },
    {
     "name": "stderr",
     "output_type": "stream",
     "text": [
      "<suds.sax.document.Document object at 0x115f21cc0>\n"
     ]
    },
    {
     "name": "stdout",
     "output_type": "stream",
     "text": [
      "ERROR ON AUT AU= 'DUTTA HEMEN'\n",
      "1932\n"
     ]
    },
    {
     "name": "stderr",
     "output_type": "stream",
     "text": [
      "<suds.sax.document.Document object at 0x115b25630>\n"
     ]
    },
    {
     "name": "stdout",
     "output_type": "stream",
     "text": [
      "ERROR ON AUT AU='ERDINC BAHATTIN'\n",
      "1933\n"
     ]
    },
    {
     "name": "stderr",
     "output_type": "stream",
     "text": [
      "<suds.sax.document.Document object at 0x115b25160>\n"
     ]
    },
    {
     "name": "stdout",
     "output_type": "stream",
     "text": [
      "ERROR ON AUT AU='TURKBEYLER IBRAHIM'\n",
      "1934\n"
     ]
    },
    {
     "name": "stderr",
     "output_type": "stream",
     "text": [
      "<suds.sax.document.Document object at 0x115cb32e8>\n"
     ]
    },
    {
     "name": "stdout",
     "output_type": "stream",
     "text": [
      "ERROR ON AUT AU= 'SAHIN HANDAN HAYDAROGLU'\n",
      "1935\n"
     ]
    },
    {
     "name": "stderr",
     "output_type": "stream",
     "text": [
      "<suds.sax.document.Document object at 0x112a87978>\n"
     ]
    },
    {
     "name": "stdout",
     "output_type": "stream",
     "text": [
      "ERROR ON AUT AU= 'BAHAT GULISTAN'\n",
      "1936\n"
     ]
    },
    {
     "name": "stderr",
     "output_type": "stream",
     "text": [
      "<suds.sax.document.Document object at 0x112a87278>\n"
     ]
    },
    {
     "name": "stdout",
     "output_type": "stream",
     "text": [
      "ERROR ON AUT AU= 'BULMUS OZGUR'\n",
      "1937\n"
     ]
    },
    {
     "name": "stderr",
     "output_type": "stream",
     "text": [
      "<suds.sax.document.Document object at 0x115f21f98>\n"
     ]
    },
    {
     "name": "stdout",
     "output_type": "stream",
     "text": [
      "ERROR ON AUT AU='BIRLIK ISIL'\n",
      "1938\n"
     ]
    },
    {
     "name": "stderr",
     "output_type": "stream",
     "text": [
      "<suds.sax.document.Document object at 0x116de8780>\n"
     ]
    },
    {
     "name": "stdout",
     "output_type": "stream",
     "text": [
      "ERROR ON AUT AU= 'EKINCI TURAN'\n",
      "1939\n"
     ]
    },
    {
     "name": "stderr",
     "output_type": "stream",
     "text": [
      "<suds.sax.document.Document object at 0x116de8860>\n"
     ]
    },
    {
     "name": "stdout",
     "output_type": "stream",
     "text": [
      "ERROR ON AUT AU= 'IVASKEVICIENE INGA'\n",
      "1940\n"
     ]
    },
    {
     "name": "stderr",
     "output_type": "stream",
     "text": [
      "<suds.sax.document.Document object at 0x115cdeac8>\n"
     ]
    },
    {
     "name": "stdout",
     "output_type": "stream",
     "text": [
      "ERROR ON AUT AU= 'KOSAR OZLEM'\n",
      "1941\n"
     ]
    },
    {
     "name": "stderr",
     "output_type": "stream",
     "text": [
      "<suds.sax.document.Document object at 0x112a87048>\n"
     ]
    },
    {
     "name": "stdout",
     "output_type": "stream",
     "text": [
      "ERROR ON AUT AU= 'YUKSEL BILGIN'\n",
      "1942\n"
     ]
    },
    {
     "name": "stderr",
     "output_type": "stream",
     "text": [
      "<suds.sax.document.Document object at 0x112a87588>\n"
     ]
    },
    {
     "name": "stdout",
     "output_type": "stream",
     "text": [
      "ERROR ON AUT AU= 'KIRZIOGLU FATMA YESIM'\n",
      "1943\n"
     ]
    },
    {
     "name": "stderr",
     "output_type": "stream",
     "text": [
      "<suds.sax.document.Document object at 0x115f21908>\n"
     ]
    },
    {
     "name": "stdout",
     "output_type": "stream",
     "text": [
      "ERROR ON AUT AU= 'MOCHIYAMA H'\n",
      "1944\n"
     ]
    },
    {
     "name": "stderr",
     "output_type": "stream",
     "text": [
      "<suds.sax.document.Document object at 0x1120c2cf8>\n"
     ]
    },
    {
     "name": "stdout",
     "output_type": "stream",
     "text": [
      "ERROR ON AUT AU= 'RINALDI ANTONIO'\n",
      "1945\n"
     ]
    },
    {
     "name": "stderr",
     "output_type": "stream",
     "text": [
      "<suds.sax.document.Document object at 0x1120c25c0>\n"
     ]
    },
    {
     "name": "stdout",
     "output_type": "stream",
     "text": [
      "ERROR ON AUT AU= 'BORU ELIF ORAK'\n",
      "1946\n"
     ]
    },
    {
     "name": "stderr",
     "output_type": "stream",
     "text": [
      "<suds.sax.document.Document object at 0x1161cf860>\n"
     ]
    },
    {
     "name": "stdout",
     "output_type": "stream",
     "text": [
      "ERROR ON AUT AU= 'SAYAR HAMIDE'\n",
      "1947\n"
     ]
    },
    {
     "name": "stderr",
     "output_type": "stream",
     "text": [
      "<suds.sax.document.Document object at 0x112a875c0>\n"
     ]
    },
    {
     "name": "stdout",
     "output_type": "stream",
     "text": [
      "ERROR ON AUT AU= 'KEYSAN M. KEMAL'\n",
      "1948\n"
     ]
    },
    {
     "name": "stderr",
     "output_type": "stream",
     "text": [
      "<suds.sax.document.Document object at 0x112a874e0>\n"
     ]
    },
    {
     "name": "stdout",
     "output_type": "stream",
     "text": [
      "ERROR ON AUT AU='SOMUNOGLU SINEM'\n",
      "1949\n"
     ]
    },
    {
     "name": "stderr",
     "output_type": "stream",
     "text": [
      "<suds.sax.document.Document object at 0x115cb3ac8>\n"
     ]
    },
    {
     "name": "stdout",
     "output_type": "stream",
     "text": [
      "ERROR ON AUT AU= 'WIESENBORN DENNIS'\n",
      "1950\n"
     ]
    },
    {
     "name": "stderr",
     "output_type": "stream",
     "text": [
      "<suds.sax.document.Document object at 0x113c814a8>\n"
     ]
    },
    {
     "name": "stdout",
     "output_type": "stream",
     "text": [
      "ERROR ON AUT AU= 'AFACAN ENGIN'\n",
      "1951\n"
     ]
    },
    {
     "name": "stderr",
     "output_type": "stream",
     "text": [
      "<suds.sax.document.Document object at 0x113c81a20>\n"
     ]
    },
    {
     "name": "stdout",
     "output_type": "stream",
     "text": [
      "ERROR ON AUT AU= 'OGUZ URAL'\n",
      "1952\n"
     ]
    },
    {
     "name": "stderr",
     "output_type": "stream",
     "text": [
      "<suds.sax.document.Document object at 0x115cdecc0>\n"
     ]
    },
    {
     "name": "stdout",
     "output_type": "stream",
     "text": [
      "ERROR ON AUT AU= 'BENLIGIRAY BURAK'\n",
      "1953\n"
     ]
    },
    {
     "name": "stderr",
     "output_type": "stream",
     "text": [
      "<suds.sax.document.Document object at 0x112a87a90>\n"
     ]
    },
    {
     "name": "stdout",
     "output_type": "stream",
     "text": [
      "ERROR ON AUT AU='AZEM FUNDA AK'\n",
      "1954\n"
     ]
    },
    {
     "name": "stderr",
     "output_type": "stream",
     "text": [
      "<suds.sax.document.Document object at 0x115f21518>\n"
     ]
    },
    {
     "name": "stdout",
     "output_type": "stream",
     "text": [
      "ERROR ON AUT AU='KILKIS BUKET TUG'\n",
      "1955\n"
     ]
    },
    {
     "name": "stderr",
     "output_type": "stream",
     "text": [
      "<suds.sax.document.Document object at 0x115cb3208>\n"
     ]
    },
    {
     "name": "stdout",
     "output_type": "stream",
     "text": [
      "ERROR ON AUT AU= 'TOPSAKAL ASLI'\n",
      "1956\n"
     ]
    },
    {
     "name": "stderr",
     "output_type": "stream",
     "text": [
      "<suds.sax.document.Document object at 0x117f746a0>\n"
     ]
    },
    {
     "name": "stdout",
     "output_type": "stream",
     "text": [
      "ERROR ON AUT AU= 'KORKMAZER BORA'\n",
      "1957\n"
     ]
    },
    {
     "name": "stderr",
     "output_type": "stream",
     "text": [
      "<suds.sax.document.Document object at 0x1120c2a58>\n"
     ]
    },
    {
     "name": "stdout",
     "output_type": "stream",
     "text": [
      "ERROR ON AUT AU= 'UNAL ONUR'\n",
      "1958\n"
     ]
    },
    {
     "name": "stderr",
     "output_type": "stream",
     "text": [
      "<suds.sax.document.Document object at 0x115b25470>\n"
     ]
    },
    {
     "name": "stdout",
     "output_type": "stream",
     "text": [
      "ERROR ON AUT AU= 'BAHCECI BULENT'\n",
      "1959\n"
     ]
    },
    {
     "name": "stderr",
     "output_type": "stream",
     "text": [
      "<suds.sax.document.Document object at 0x115f21dd8>\n"
     ]
    },
    {
     "name": "stdout",
     "output_type": "stream",
     "text": [
      "ERROR ON AUT AU='SAHBAZ CAFER'\n",
      "1960\n"
     ]
    },
    {
     "name": "stderr",
     "output_type": "stream",
     "text": [
      "<suds.sax.document.Document object at 0x115f210f0>\n"
     ]
    },
    {
     "name": "stdout",
     "output_type": "stream",
     "text": [
      "ERROR ON AUT AU='METAN GOEKHAN'\n",
      "1961\n"
     ]
    },
    {
     "name": "stderr",
     "output_type": "stream",
     "text": [
      "<suds.sax.document.Document object at 0x117f747f0>\n"
     ]
    },
    {
     "name": "stdout",
     "output_type": "stream",
     "text": [
      "ERROR ON AUT AU= 'TEO TIMOTHY'\n",
      "1962\n"
     ]
    },
    {
     "name": "stderr",
     "output_type": "stream",
     "text": [
      "<suds.sax.document.Document object at 0x113c59898>\n"
     ]
    },
    {
     "name": "stdout",
     "output_type": "stream",
     "text": [
      "ERROR ON AUT AU='DEMIRCI BUKET'\n",
      "1963\n"
     ]
    },
    {
     "name": "stderr",
     "output_type": "stream",
     "text": [
      "<suds.sax.document.Document object at 0x113c59ba8>\n"
     ]
    },
    {
     "name": "stdout",
     "output_type": "stream",
     "text": [
      "ERROR ON AUT AU= 'YILDIZ NAZAN'\n",
      "1964\n"
     ]
    },
    {
     "name": "stderr",
     "output_type": "stream",
     "text": [
      "<suds.sax.document.Document object at 0x112a87a90>\n"
     ]
    },
    {
     "name": "stdout",
     "output_type": "stream",
     "text": [
      "ERROR ON AUT AU='ERGIN ISIL'\n",
      "1965\n"
     ]
    },
    {
     "name": "stderr",
     "output_type": "stream",
     "text": [
      "<suds.sax.document.Document object at 0x116e4e128>\n"
     ]
    },
    {
     "name": "stdout",
     "output_type": "stream",
     "text": [
      "ERROR ON AUT AU= 'TOKGOZ ORHAN'\n",
      "1966\n"
     ]
    },
    {
     "name": "stderr",
     "output_type": "stream",
     "text": [
      "<suds.sax.document.Document object at 0x116e4e780>\n"
     ]
    },
    {
     "name": "stdout",
     "output_type": "stream",
     "text": [
      "ERROR ON AUT AU= 'SIMOS T'\n",
      "1967\n"
     ]
    },
    {
     "name": "stderr",
     "output_type": "stream",
     "text": [
      "<suds.sax.document.Document object at 0x113c81518>\n"
     ]
    },
    {
     "name": "stdout",
     "output_type": "stream",
     "text": [
      "ERROR ON AUT AU= 'ACIBUCU DUYGU OGUZ'\n",
      "1968\n"
     ]
    },
    {
     "name": "stderr",
     "output_type": "stream",
     "text": [
      "<suds.sax.document.Document object at 0x1159bcdd8>\n"
     ]
    },
    {
     "name": "stdout",
     "output_type": "stream",
     "text": [
      "ERROR ON AUT AU= 'HAJRO EDJON'\n",
      "1969\n"
     ]
    },
    {
     "name": "stderr",
     "output_type": "stream",
     "text": [
      "<suds.sax.document.Document object at 0x1159bc940>\n"
     ]
    },
    {
     "name": "stdout",
     "output_type": "stream",
     "text": [
      "ERROR ON AUT AU= 'KOPECKY V'\n",
      "1970\n"
     ]
    },
    {
     "name": "stderr",
     "output_type": "stream",
     "text": [
      "<suds.sax.document.Document object at 0x1124c72b0>\n"
     ]
    },
    {
     "name": "stdout",
     "output_type": "stream",
     "text": [
      "ERROR ON AUT AU= 'OZDEMIR NURIYE YILDIRIM'\n",
      "1971\n"
     ]
    },
    {
     "name": "stderr",
     "output_type": "stream",
     "text": [
      "<suds.sax.document.Document object at 0x113c59da0>\n"
     ]
    },
    {
     "name": "stdout",
     "output_type": "stream",
     "text": [
      "ERROR ON AUT AU= 'OBUZ FUNDA'\n",
      "1972\n"
     ]
    },
    {
     "name": "stderr",
     "output_type": "stream",
     "text": [
      "<suds.sax.document.Document object at 0x113c59da0>\n"
     ]
    },
    {
     "name": "stdout",
     "output_type": "stream",
     "text": [
      "ERROR ON AUT AU= 'KARAALI-SAVRUN FERAY'\n",
      "1973\n"
     ]
    },
    {
     "name": "stderr",
     "output_type": "stream",
     "text": [
      "<suds.sax.document.Document object at 0x115e0ddd8>\n"
     ]
    },
    {
     "name": "stdout",
     "output_type": "stream",
     "text": [
      "ERROR ON AUT AU= 'DURAN DURGUN'\n",
      "1974\n"
     ]
    },
    {
     "name": "stderr",
     "output_type": "stream",
     "text": [
      "<suds.sax.document.Document object at 0x112a87898>\n"
     ]
    },
    {
     "name": "stdout",
     "output_type": "stream",
     "text": [
      "ERROR ON AUT AU='ASIK SERAFETTIN'\n",
      "1975\n"
     ]
    },
    {
     "name": "stderr",
     "output_type": "stream",
     "text": [
      "<suds.sax.document.Document object at 0x112a87b00>\n"
     ]
    },
    {
     "name": "stdout",
     "output_type": "stream",
     "text": [
      "ERROR ON AUT AU= 'ALLI HASAN'\n",
      "1976\n"
     ]
    },
    {
     "name": "stderr",
     "output_type": "stream",
     "text": [
      "<suds.sax.document.Document object at 0x1124c7400>\n"
     ]
    },
    {
     "name": "stdout",
     "output_type": "stream",
     "text": [
      "ERROR ON AUT AU= 'SOZEN TUMAY'\n",
      "1977\n"
     ]
    },
    {
     "name": "stderr",
     "output_type": "stream",
     "text": [
      "<suds.sax.document.Document object at 0x115cb3438>\n"
     ]
    },
    {
     "name": "stdout",
     "output_type": "stream",
     "text": [
      "ERROR ON AUT AU= 'POYRAZOGLU HATICE GAMZE'\n",
      "1978\n"
     ]
    },
    {
     "name": "stderr",
     "output_type": "stream",
     "text": [
      "<suds.sax.document.Document object at 0x115cb3828>\n"
     ]
    },
    {
     "name": "stdout",
     "output_type": "stream",
     "text": [
      "ERROR ON AUT AU= 'ZEYDAN MITHAT'\n",
      "1979\n"
     ]
    },
    {
     "name": "stderr",
     "output_type": "stream",
     "text": [
      "<suds.sax.document.Document object at 0x115e0d748>\n"
     ]
    },
    {
     "name": "stdout",
     "output_type": "stream",
     "text": [
      "ERROR ON AUT AU= 'ACQUAH KOJO SEKYI'\n",
      "1980\n"
     ]
    },
    {
     "name": "stderr",
     "output_type": "stream",
     "text": [
      "<suds.sax.document.Document object at 0x112a87a20>\n"
     ]
    },
    {
     "name": "stdout",
     "output_type": "stream",
     "text": [
      "ERROR ON AUT AU= 'ARSLAN SIDDIK'\n",
      "1981\n"
     ]
    },
    {
     "name": "stderr",
     "output_type": "stream",
     "text": [
      "<suds.sax.document.Document object at 0x1120c2400>\n"
     ]
    },
    {
     "name": "stdout",
     "output_type": "stream",
     "text": [
      "ERROR ON AUT AU= 'CELIK GOKCEN Y.'\n",
      "1982\n"
     ]
    },
    {
     "name": "stderr",
     "output_type": "stream",
     "text": [
      "<suds.sax.document.Document object at 0x1124c7358>\n"
     ]
    },
    {
     "name": "stdout",
     "output_type": "stream",
     "text": [
      "ERROR ON AUT AU= 'CAVUSOGLU YUKSEL'\n",
      "1983\n"
     ]
    },
    {
     "name": "stderr",
     "output_type": "stream",
     "text": [
      "<suds.sax.document.Document object at 0x115cde470>\n"
     ]
    },
    {
     "name": "stdout",
     "output_type": "stream",
     "text": [
      "ERROR ON AUT AU= 'SAADAT SELVA MOHEB'\n",
      "1984\n"
     ]
    },
    {
     "name": "stderr",
     "output_type": "stream",
     "text": [
      "<suds.sax.document.Document object at 0x115cdee80>\n"
     ]
    },
    {
     "name": "stdout",
     "output_type": "stream",
     "text": [
      "ERROR ON AUT AU= 'GUNER TUNC'\n",
      "1985\n"
     ]
    },
    {
     "name": "stderr",
     "output_type": "stream",
     "text": [
      "<suds.sax.document.Document object at 0x1161cfb70>\n"
     ]
    },
    {
     "name": "stdout",
     "output_type": "stream",
     "text": [
      "ERROR ON AUT AU='KEMIK OZGUR'\n",
      "1986\n"
     ]
    },
    {
     "name": "stderr",
     "output_type": "stream",
     "text": [
      "<suds.sax.document.Document object at 0x1159bcdd8>\n"
     ]
    },
    {
     "name": "stdout",
     "output_type": "stream",
     "text": [
      "ERROR ON AUT AU='YILMAZ HATICE'\n",
      "1987\n"
     ]
    },
    {
     "name": "stderr",
     "output_type": "stream",
     "text": [
      "<suds.sax.document.Document object at 0x1159bccc0>\n"
     ]
    },
    {
     "name": "stdout",
     "output_type": "stream",
     "text": [
      "ERROR ON AUT AU= 'DODURGA YAVUZ'\n",
      "1988\n"
     ]
    },
    {
     "name": "stderr",
     "output_type": "stream",
     "text": [
      "<suds.sax.document.Document object at 0x113c811d0>\n"
     ]
    },
    {
     "name": "stdout",
     "output_type": "stream",
     "text": [
      "ERROR ON AUT AU= 'LOK UGUR'\n",
      "1989\n"
     ]
    },
    {
     "name": "stderr",
     "output_type": "stream",
     "text": [
      "<suds.sax.document.Document object at 0x115f947f0>\n"
     ]
    },
    {
     "name": "stdout",
     "output_type": "stream",
     "text": [
      "ERROR ON AUT AU= 'COLAK EMEL'\n",
      "1990\n"
     ]
    },
    {
     "name": "stderr",
     "output_type": "stream",
     "text": [
      "<suds.sax.document.Document object at 0x116e4e668>\n"
     ]
    },
    {
     "name": "stdout",
     "output_type": "stream",
     "text": [
      "ERROR ON AUT AU= 'NAPRSTEK J'\n",
      "1991\n"
     ]
    },
    {
     "name": "stderr",
     "output_type": "stream",
     "text": [
      "<suds.sax.document.Document object at 0x115e0df60>\n"
     ]
    },
    {
     "name": "stdout",
     "output_type": "stream",
     "text": [
      "ERROR ON AUT AU= 'BECK CHRISTINE R.'\n",
      "1992\n"
     ]
    },
    {
     "name": "stderr",
     "output_type": "stream",
     "text": [
      "<suds.sax.document.Document object at 0x115f217b8>\n"
     ]
    },
    {
     "name": "stdout",
     "output_type": "stream",
     "text": [
      "ERROR ON AUT AU= 'CAGLAR OZCAN'\n",
      "1993\n"
     ]
    },
    {
     "name": "stderr",
     "output_type": "stream",
     "text": [
      "<suds.sax.document.Document object at 0x115f215c0>\n"
     ]
    },
    {
     "name": "stdout",
     "output_type": "stream",
     "text": [
      "ERROR ON AUT AU= 'TELLI CUMALI'\n",
      "1994\n"
     ]
    },
    {
     "name": "stderr",
     "output_type": "stream",
     "text": [
      "<suds.sax.document.Document object at 0x1161cf710>\n"
     ]
    },
    {
     "name": "stdout",
     "output_type": "stream",
     "text": [
      "ERROR ON AUT AU='YILMAZ FATMA HILAL'\n",
      "1995\n"
     ]
    },
    {
     "name": "stderr",
     "output_type": "stream",
     "text": [
      "<suds.sax.document.Document object at 0x113c59f98>\n"
     ]
    },
    {
     "name": "stdout",
     "output_type": "stream",
     "text": [
      "ERROR ON AUT AU= 'UZUN CEM'\n",
      "1996\n"
     ]
    },
    {
     "name": "stderr",
     "output_type": "stream",
     "text": [
      "<suds.sax.document.Document object at 0x113c59668>\n"
     ]
    },
    {
     "name": "stdout",
     "output_type": "stream",
     "text": [
      "ERROR ON AUT AU='SOLAK ADEM'\n",
      "1997\n"
     ]
    },
    {
     "name": "stderr",
     "output_type": "stream",
     "text": [
      "<suds.sax.document.Document object at 0x115e0d470>\n"
     ]
    },
    {
     "name": "stdout",
     "output_type": "stream",
     "text": [
      "ERROR ON AUT AU= 'SAGLAM HAYRETTIN'\n",
      "1998\n"
     ]
    },
    {
     "name": "stderr",
     "output_type": "stream",
     "text": [
      "<suds.sax.document.Document object at 0x115b25b00>\n"
     ]
    },
    {
     "name": "stdout",
     "output_type": "stream",
     "text": [
      "ERROR ON AUT AU= 'SARIKAYA REMZI'\n",
      "1999\n"
     ]
    },
    {
     "name": "stderr",
     "output_type": "stream",
     "text": [
      "<suds.sax.document.Document object at 0x115f21160>\n"
     ]
    },
    {
     "name": "stdout",
     "output_type": "stream",
     "text": [
      "ERROR ON AUT AU= 'AKANSU BULENT'\n",
      "2000\n"
     ]
    },
    {
     "name": "stderr",
     "output_type": "stream",
     "text": [
      "<suds.sax.document.Document object at 0x112a870f0>\n"
     ]
    },
    {
     "name": "stdout",
     "output_type": "stream",
     "text": [
      "ERROR ON AUT AU= 'DEMIR MUSTAFA K.'\n",
      "2001\n"
     ]
    },
    {
     "name": "stderr",
     "output_type": "stream",
     "text": [
      "<suds.sax.document.Document object at 0x116e79d30>\n"
     ]
    },
    {
     "name": "stdout",
     "output_type": "stream",
     "text": [
      "ERROR ON AUT AU= 'DAGDEVIREN BIRSEN HARUN'\n",
      "2002\n"
     ]
    },
    {
     "name": "stderr",
     "output_type": "stream",
     "text": [
      "<suds.sax.document.Document object at 0x115b25710>\n"
     ]
    },
    {
     "name": "stdout",
     "output_type": "stream",
     "text": [
      "ERROR ON AUT AU= 'BERRIN I. S. I. K.'\n",
      "2003\n"
     ]
    },
    {
     "name": "stderr",
     "output_type": "stream",
     "text": [
      "<suds.sax.document.Document object at 0x115f218d0>\n"
     ]
    },
    {
     "name": "stdout",
     "output_type": "stream",
     "text": [
      "ERROR ON AUT AU= 'YILMAZ OZLEM'\n",
      "2004\n"
     ]
    },
    {
     "name": "stderr",
     "output_type": "stream",
     "text": [
      "<suds.sax.document.Document object at 0x1120c2748>\n"
     ]
    },
    {
     "name": "stdout",
     "output_type": "stream",
     "text": [
      "ERROR ON AUT AU='GOKER HAKAN'\n",
      "2005\n"
     ]
    },
    {
     "name": "stderr",
     "output_type": "stream",
     "text": [
      "<suds.sax.document.Document object at 0x115cdec50>\n"
     ]
    },
    {
     "name": "stdout",
     "output_type": "stream",
     "text": [
      "ERROR ON AUT AU= 'ARSLAN GOKHAN'\n",
      "2006\n"
     ]
    },
    {
     "name": "stderr",
     "output_type": "stream",
     "text": [
      "<suds.sax.document.Document object at 0x115f94470>\n"
     ]
    },
    {
     "name": "stdout",
     "output_type": "stream",
     "text": [
      "ERROR ON AUT AU='HAZER D. BURCU'\n",
      "2007\n"
     ]
    },
    {
     "name": "stderr",
     "output_type": "stream",
     "text": [
      "<suds.sax.document.Document object at 0x115cb3748>\n"
     ]
    },
    {
     "name": "stdout",
     "output_type": "stream",
     "text": [
      "ERROR ON AUT AU= 'BIRBEN ESRA'\n",
      "2008\n"
     ]
    },
    {
     "name": "stderr",
     "output_type": "stream",
     "text": [
      "<suds.sax.document.Document object at 0x115cb3a58>\n"
     ]
    },
    {
     "name": "stdout",
     "output_type": "stream",
     "text": [
      "ERROR ON AUT AU= 'KARWAL V'\n",
      "2009\n"
     ]
    },
    {
     "name": "stderr",
     "output_type": "stream",
     "text": [
      "<suds.sax.document.Document object at 0x115f21be0>\n"
     ]
    },
    {
     "name": "stdout",
     "output_type": "stream",
     "text": [
      "ERROR ON AUT AU= 'BOZKURT HAKAN'\n",
      "2010\n"
     ]
    },
    {
     "name": "stderr",
     "output_type": "stream",
     "text": [
      "<suds.sax.document.Document object at 0x115e0db38>\n"
     ]
    },
    {
     "name": "stdout",
     "output_type": "stream",
     "text": [
      "ERROR ON AUT AU= 'SABANCIOGULLARI VEDAT'\n",
      "2011\n"
     ]
    },
    {
     "name": "stderr",
     "output_type": "stream",
     "text": [
      "<suds.sax.document.Document object at 0x115e0dcc0>\n"
     ]
    },
    {
     "name": "stdout",
     "output_type": "stream",
     "text": [
      "ERROR ON AUT AU= 'GOKCE ZELIHA'\n",
      "2012\n"
     ]
    },
    {
     "name": "stderr",
     "output_type": "stream",
     "text": [
      "<suds.sax.document.Document object at 0x1161cf630>\n"
     ]
    },
    {
     "name": "stdout",
     "output_type": "stream",
     "text": [
      "ERROR ON AUT AU= 'TIKICI MEHMET'\n",
      "2013\n"
     ]
    },
    {
     "name": "stderr",
     "output_type": "stream",
     "text": [
      "<suds.sax.document.Document object at 0x115b25ac8>\n"
     ]
    },
    {
     "name": "stdout",
     "output_type": "stream",
     "text": [
      "ERROR ON AUT AU= 'OZDEMIR AYSE'\n",
      "2014\n"
     ]
    },
    {
     "name": "stderr",
     "output_type": "stream",
     "text": [
      "<suds.sax.document.Document object at 0x115b253c8>\n"
     ]
    },
    {
     "name": "stdout",
     "output_type": "stream",
     "text": [
      "ERROR ON AUT AU= 'DOGAN NURETTIN OZGUR'\n",
      "2015\n"
     ]
    },
    {
     "name": "stderr",
     "output_type": "stream",
     "text": [
      "<suds.sax.document.Document object at 0x115f21080>\n"
     ]
    },
    {
     "name": "stdout",
     "output_type": "stream",
     "text": [
      "ERROR ON AUT AU='PAMPAL HASAN KUTLUK'\n",
      "2016\n"
     ]
    },
    {
     "name": "stderr",
     "output_type": "stream",
     "text": [
      "<suds.sax.document.Document object at 0x112a87470>\n"
     ]
    },
    {
     "name": "stdout",
     "output_type": "stream",
     "text": [
      "ERROR ON AUT AU= 'DILEK ELIF'\n",
      "2017\n"
     ]
    },
    {
     "name": "stderr",
     "output_type": "stream",
     "text": [
      "<suds.sax.document.Document object at 0x112a87ef0>\n"
     ]
    },
    {
     "name": "stdout",
     "output_type": "stream",
     "text": [
      "ERROR ON AUT AU='TUGRUL IBRAHIM'\n",
      "2018\n"
     ]
    },
    {
     "name": "stderr",
     "output_type": "stream",
     "text": [
      "<suds.sax.document.Document object at 0x116e4e048>\n"
     ]
    },
    {
     "name": "stdout",
     "output_type": "stream",
     "text": [
      "ERROR ON AUT AU= 'YILMAZ ESRA'\n",
      "2019\n"
     ]
    },
    {
     "name": "stderr",
     "output_type": "stream",
     "text": [
      "<suds.sax.document.Document object at 0x115b25cf8>\n"
     ]
    },
    {
     "name": "stdout",
     "output_type": "stream",
     "text": [
      "ERROR ON AUT AU= 'GEREDE CEMALEDDIN'\n",
      "2020\n"
     ]
    },
    {
     "name": "stderr",
     "output_type": "stream",
     "text": [
      "<suds.sax.document.Document object at 0x115b25710>\n"
     ]
    },
    {
     "name": "stdout",
     "output_type": "stream",
     "text": [
      "ERROR ON AUT AU= 'TEKIN MAHMUT'\n",
      "2021\n"
     ]
    },
    {
     "name": "stderr",
     "output_type": "stream",
     "text": [
      "<suds.sax.document.Document object at 0x115f21940>\n"
     ]
    },
    {
     "name": "stdout",
     "output_type": "stream",
     "text": [
      "ERROR ON AUT AU= 'SUTTON RICHARD'\n",
      "2022\n"
     ]
    },
    {
     "name": "stderr",
     "output_type": "stream",
     "text": [
      "<suds.sax.document.Document object at 0x113c59320>\n"
     ]
    },
    {
     "name": "stdout",
     "output_type": "stream",
     "text": [
      "ERROR ON AUT AU='ALTAS MURAT'\n",
      "2023\n"
     ]
    },
    {
     "name": "stderr",
     "output_type": "stream",
     "text": [
      "<suds.sax.document.Document object at 0x115e0d358>\n"
     ]
    },
    {
     "name": "stdout",
     "output_type": "stream",
     "text": [
      "ERROR ON AUT AU= 'TOMASCH GORDANA'\n",
      "2024\n"
     ]
    },
    {
     "name": "stderr",
     "output_type": "stream",
     "text": [
      "<suds.sax.document.Document object at 0x115f945c0>\n"
     ]
    },
    {
     "name": "stdout",
     "output_type": "stream",
     "text": [
      "ERROR ON AUT AU= 'DOENMEZ NURCAN'\n",
      "2025\n"
     ]
    },
    {
     "name": "stderr",
     "output_type": "stream",
     "text": [
      "<suds.sax.document.Document object at 0x1124c75c0>\n"
     ]
    },
    {
     "name": "stdout",
     "output_type": "stream",
     "text": [
      "ERROR ON AUT AU='SARAL AYSEGUL'\n",
      "2026\n"
     ]
    },
    {
     "name": "stderr",
     "output_type": "stream",
     "text": [
      "<suds.sax.document.Document object at 0x1124c7b70>\n"
     ]
    },
    {
     "name": "stdout",
     "output_type": "stream",
     "text": [
      "ERROR ON AUT AU= 'KARSLIOGLU IHSAN'\n",
      "2027\n"
     ]
    },
    {
     "name": "stderr",
     "output_type": "stream",
     "text": [
      "<suds.sax.document.Document object at 0x1161cf978>\n"
     ]
    },
    {
     "name": "stdout",
     "output_type": "stream",
     "text": [
      "ERROR ON AUT AU='UCAR OMER'\n",
      "2028\n"
     ]
    },
    {
     "name": "stderr",
     "output_type": "stream",
     "text": [
      "<suds.sax.document.Document object at 0x113c815f8>\n"
     ]
    },
    {
     "name": "stdout",
     "output_type": "stream",
     "text": [
      "ERROR ON AUT AU= 'DEMIREZEN AYLIN'\n",
      "2029\n"
     ]
    },
    {
     "name": "stderr",
     "output_type": "stream",
     "text": [
      "<suds.sax.document.Document object at 0x113c819b0>\n"
     ]
    },
    {
     "name": "stdout",
     "output_type": "stream",
     "text": [
      "ERROR ON AUT AU= 'KAPAN OKTAY'\n",
      "2030\n"
     ]
    },
    {
     "name": "stderr",
     "output_type": "stream",
     "text": [
      "<suds.sax.document.Document object at 0x115f94710>\n"
     ]
    },
    {
     "name": "stdout",
     "output_type": "stream",
     "text": [
      "ERROR ON AUT AU= 'JUNE CYNTHIA M.'\n",
      "2031\n"
     ]
    },
    {
     "name": "stderr",
     "output_type": "stream",
     "text": [
      "<suds.sax.document.Document object at 0x1124c7400>\n"
     ]
    },
    {
     "name": "stdout",
     "output_type": "stream",
     "text": [
      "ERROR ON AUT AU= 'ALTINTEPE LUETFULLAH'\n",
      "2032\n"
     ]
    },
    {
     "name": "stderr",
     "output_type": "stream",
     "text": [
      "<suds.sax.document.Document object at 0x115b25710>\n"
     ]
    },
    {
     "name": "stdout",
     "output_type": "stream",
     "text": [
      "ERROR ON AUT AU= 'SAHAN AHMET OGUZ'\n",
      "2033\n"
     ]
    },
    {
     "name": "stderr",
     "output_type": "stream",
     "text": [
      "<suds.sax.document.Document object at 0x113c59320>\n"
     ]
    },
    {
     "name": "stdout",
     "output_type": "stream",
     "text": [
      "ERROR ON AUT AU='ENGIN VELITTIN SELCUK'\n",
      "2034\n"
     ]
    },
    {
     "name": "stderr",
     "output_type": "stream",
     "text": [
      "<suds.sax.document.Document object at 0x1159bcba8>\n"
     ]
    },
    {
     "name": "stdout",
     "output_type": "stream",
     "text": [
      "ERROR ON AUT AU= 'SERT MEHMET'\n",
      "2035\n"
     ]
    },
    {
     "name": "stderr",
     "output_type": "stream",
     "text": [
      "<suds.sax.document.Document object at 0x112a87080>\n"
     ]
    },
    {
     "name": "stdout",
     "output_type": "stream",
     "text": [
      "ERROR ON AUT AU= 'DEVECI HULYA'\n",
      "2036\n"
     ]
    },
    {
     "name": "stderr",
     "output_type": "stream",
     "text": [
      "<suds.sax.document.Document object at 0x116e4ec18>\n"
     ]
    },
    {
     "name": "stdout",
     "output_type": "stream",
     "text": [
      "ERROR ON AUT AU='BOZKURT YASAR'\n",
      "2037\n"
     ]
    },
    {
     "name": "stderr",
     "output_type": "stream",
     "text": [
      "<suds.sax.document.Document object at 0x1159bc668>\n"
     ]
    },
    {
     "name": "stdout",
     "output_type": "stream",
     "text": [
      "ERROR ON AUT AU= 'BICAKCI ADEM'\n",
      "2038\n"
     ]
    },
    {
     "name": "stderr",
     "output_type": "stream",
     "text": [
      "<suds.sax.document.Document object at 0x1159bc518>\n"
     ]
    },
    {
     "name": "stdout",
     "output_type": "stream",
     "text": [
      "ERROR ON AUT AU='EKERBICER HASAN CETIN'\n",
      "2039\n"
     ]
    },
    {
     "name": "stderr",
     "output_type": "stream",
     "text": [
      "<suds.sax.document.Document object at 0x116e4e128>\n"
     ]
    },
    {
     "name": "stdout",
     "output_type": "stream",
     "text": [
      "ERROR ON AUT AU= 'COKUN HALIL'\n",
      "2040\n"
     ]
    },
    {
     "name": "stderr",
     "output_type": "stream",
     "text": [
      "<suds.sax.document.Document object at 0x112a87f60>\n"
     ]
    },
    {
     "name": "stdout",
     "output_type": "stream",
     "text": [
      "ERROR ON AUT AU= 'VURAL H. IBRAHIM'\n",
      "2041\n"
     ]
    },
    {
     "name": "stderr",
     "output_type": "stream",
     "text": [
      "<suds.sax.document.Document object at 0x112a87b00>\n"
     ]
    },
    {
     "name": "stdout",
     "output_type": "stream",
     "text": [
      "ERROR ON AUT AU='AKIN ILKER'\n",
      "2042\n"
     ]
    },
    {
     "name": "stderr",
     "output_type": "stream",
     "text": [
      "<suds.sax.document.Document object at 0x113c59e80>\n"
     ]
    },
    {
     "name": "stdout",
     "output_type": "stream",
     "text": [
      "ERROR ON AUT AU= 'KOC AKIF'\n",
      "2043\n"
     ]
    },
    {
     "name": "stderr",
     "output_type": "stream",
     "text": [
      "<suds.sax.document.Document object at 0x1161cfc50>\n"
     ]
    },
    {
     "name": "stdout",
     "output_type": "stream",
     "text": [
      "ERROR ON AUT AU='PEHLIVAN SEDA'\n",
      "2044\n"
     ]
    },
    {
     "name": "stderr",
     "output_type": "stream",
     "text": [
      "<suds.sax.document.Document object at 0x117f74cc0>\n"
     ]
    },
    {
     "name": "stdout",
     "output_type": "stream",
     "text": [
      "ERROR ON AUT AU= 'LAVENDER CHRISTOPHER A.'\n",
      "2045\n"
     ]
    },
    {
     "name": "stderr",
     "output_type": "stream",
     "text": [
      "<suds.sax.document.Document object at 0x116de8518>\n"
     ]
    },
    {
     "name": "stdout",
     "output_type": "stream",
     "text": [
      "ERROR ON AUT AU= 'MUSLUMANOGLU M. HAMZA'\n",
      "2046\n"
     ]
    },
    {
     "name": "stderr",
     "output_type": "stream",
     "text": [
      "<suds.sax.document.Document object at 0x112a87f98>\n"
     ]
    },
    {
     "name": "stdout",
     "output_type": "stream",
     "text": [
      "ERROR ON AUT AU='OZKAYA AHMET'\n",
      "2047\n"
     ]
    },
    {
     "name": "stderr",
     "output_type": "stream",
     "text": [
      "<suds.sax.document.Document object at 0x112a87fd0>\n"
     ]
    },
    {
     "name": "stdout",
     "output_type": "stream",
     "text": [
      "ERROR ON AUT AU= 'MASRABACI KAAN'\n",
      "2048\n"
     ]
    },
    {
     "name": "stderr",
     "output_type": "stream",
     "text": [
      "<suds.sax.document.Document object at 0x116de8a20>\n"
     ]
    },
    {
     "name": "stdout",
     "output_type": "stream",
     "text": [
      "ERROR ON AUT AU= 'ERKOCAK OMER F.'\n",
      "2049\n"
     ]
    },
    {
     "name": "stderr",
     "output_type": "stream",
     "text": [
      "<suds.sax.document.Document object at 0x115e0d940>\n"
     ]
    },
    {
     "name": "stdout",
     "output_type": "stream",
     "text": [
      "ERROR ON AUT AU= 'KAYA MEHMET'\n",
      "2050\n"
     ]
    },
    {
     "name": "stderr",
     "output_type": "stream",
     "text": [
      "<suds.sax.document.Document object at 0x117f740f0>\n"
     ]
    },
    {
     "name": "stdout",
     "output_type": "stream",
     "text": [
      "ERROR ON AUT AU= 'AYDIN-TATLI IMREN'\n",
      "2051\n"
     ]
    },
    {
     "name": "stderr",
     "output_type": "stream",
     "text": [
      "<suds.sax.document.Document object at 0x116de8048>\n"
     ]
    },
    {
     "name": "stdout",
     "output_type": "stream",
     "text": [
      "ERROR ON AUT AU= 'CETIN MUSTAFA'\n",
      "2052\n"
     ]
    },
    {
     "name": "stderr",
     "output_type": "stream",
     "text": [
      "<suds.sax.document.Document object at 0x112a87470>\n"
     ]
    },
    {
     "name": "stdout",
     "output_type": "stream",
     "text": [
      "ERROR ON AUT AU= 'KABUKCU SIBEL'\n",
      "2053\n"
     ]
    },
    {
     "name": "stderr",
     "output_type": "stream",
     "text": [
      "<suds.sax.document.Document object at 0x112a87780>\n"
     ]
    },
    {
     "name": "stdout",
     "output_type": "stream",
     "text": [
      "ERROR ON AUT AU= 'SEVKETOGLU TIMUR'\n",
      "2054\n"
     ]
    },
    {
     "name": "stderr",
     "output_type": "stream",
     "text": [
      "<suds.sax.document.Document object at 0x1124c7ac8>\n"
     ]
    },
    {
     "name": "stdout",
     "output_type": "stream",
     "text": [
      "ERROR ON AUT AU= 'EMEKSIZ HAMDI CIHAN'\n",
      "2055\n"
     ]
    },
    {
     "name": "stderr",
     "output_type": "stream",
     "text": [
      "<suds.sax.document.Document object at 0x117f74c88>\n"
     ]
    },
    {
     "name": "stdout",
     "output_type": "stream",
     "text": [
      "ERROR ON AUT AU='ULGER SUKRAN'\n",
      "2056\n"
     ]
    },
    {
     "name": "stderr",
     "output_type": "stream",
     "text": [
      "<suds.sax.document.Document object at 0x115b25278>\n"
     ]
    },
    {
     "name": "stdout",
     "output_type": "stream",
     "text": [
      "ERROR ON AUT AU= 'CANKURT HASAN'\n",
      "2057\n"
     ]
    },
    {
     "name": "stderr",
     "output_type": "stream",
     "text": [
      "<suds.sax.document.Document object at 0x116de8b70>\n"
     ]
    },
    {
     "name": "stdout",
     "output_type": "stream",
     "text": [
      "ERROR ON AUT AU= 'CELIK RAZIYE CATAK'\n",
      "2058\n"
     ]
    },
    {
     "name": "stderr",
     "output_type": "stream",
     "text": [
      "<suds.sax.document.Document object at 0x115cb3400>\n"
     ]
    },
    {
     "name": "stdout",
     "output_type": "stream",
     "text": [
      "ERROR ON AUT AU= 'EROGLU FUSUN'\n",
      "2059\n"
     ]
    },
    {
     "name": "stderr",
     "output_type": "stream",
     "text": [
      "<suds.sax.document.Document object at 0x115cb3860>\n"
     ]
    },
    {
     "name": "stdout",
     "output_type": "stream",
     "text": [
      "ERROR ON AUT AU= 'KIRIS GULHANIM'\n",
      "2060\n"
     ]
    },
    {
     "name": "stderr",
     "output_type": "stream",
     "text": [
      "<suds.sax.document.Document object at 0x115b257b8>\n"
     ]
    },
    {
     "name": "stdout",
     "output_type": "stream",
     "text": [
      "ERROR ON AUT AU= 'GARCIAPEDRAJAS N'\n",
      "2061\n"
     ]
    },
    {
     "name": "stderr",
     "output_type": "stream",
     "text": [
      "<suds.sax.document.Document object at 0x115cde470>\n"
     ]
    },
    {
     "name": "stdout",
     "output_type": "stream",
     "text": [
      "ERROR ON AUT AU= 'OZER SERDAL'\n",
      "2062\n"
     ]
    },
    {
     "name": "stderr",
     "output_type": "stream",
     "text": [
      "<suds.sax.document.Document object at 0x115cdefd0>\n"
     ]
    },
    {
     "name": "stdout",
     "output_type": "stream",
     "text": [
      "ERROR ON AUT AU= 'SEKER MERYEM'\n",
      "2063\n"
     ]
    },
    {
     "name": "stderr",
     "output_type": "stream",
     "text": [
      "<suds.sax.document.Document object at 0x113c81ef0>\n"
     ]
    },
    {
     "name": "stdout",
     "output_type": "stream",
     "text": [
      "ERROR ON AUT AU= 'ERDEM OKTAY'\n",
      "2064\n"
     ]
    },
    {
     "name": "stderr",
     "output_type": "stream",
     "text": [
      "<suds.sax.document.Document object at 0x112a874a8>\n"
     ]
    },
    {
     "name": "stdout",
     "output_type": "stream",
     "text": [
      "ERROR ON AUT AU= 'HOSSAIN MD ALAMGIR'\n",
      "2065\n"
     ]
    },
    {
     "name": "stderr",
     "output_type": "stream",
     "text": [
      "<suds.sax.document.Document object at 0x115cb3b70>\n"
     ]
    },
    {
     "name": "stdout",
     "output_type": "stream",
     "text": [
      "ERROR ON AUT AU= 'DELICE TULAY KOC'\n",
      "2066\n"
     ]
    },
    {
     "name": "stderr",
     "output_type": "stream",
     "text": [
      "<suds.sax.document.Document object at 0x1124c7cf8>\n"
     ]
    },
    {
     "name": "stdout",
     "output_type": "stream",
     "text": [
      "ERROR ON AUT AU= 'OGUZ NIHAN'\n",
      "2067\n"
     ]
    },
    {
     "name": "stderr",
     "output_type": "stream",
     "text": [
      "<suds.sax.document.Document object at 0x115f21080>\n"
     ]
    },
    {
     "name": "stdout",
     "output_type": "stream",
     "text": [
      "ERROR ON AUT AU='TALO OZER'\n",
      "2068\n"
     ]
    },
    {
     "name": "stderr",
     "output_type": "stream",
     "text": [
      "<suds.sax.document.Document object at 0x115f21be0>\n"
     ]
    },
    {
     "name": "stdout",
     "output_type": "stream",
     "text": [
      "ERROR ON AUT AU= 'ERBAY FATIH'\n",
      "2069\n"
     ]
    },
    {
     "name": "stderr",
     "output_type": "stream",
     "text": [
      "<suds.sax.document.Document object at 0x1159bcdd8>\n"
     ]
    },
    {
     "name": "stdout",
     "output_type": "stream",
     "text": [
      "ERROR ON AUT AU= 'HANSMANN YVES'\n",
      "2070\n"
     ]
    },
    {
     "name": "stderr",
     "output_type": "stream",
     "text": [
      "<suds.sax.document.Document object at 0x13a3fd5c0>\n"
     ]
    },
    {
     "name": "stdout",
     "output_type": "stream",
     "text": [
      "ERROR ON AUT AU= 'CHANDRAJU SIDDEGOWDA'\n",
      "2071\n"
     ]
    },
    {
     "name": "stderr",
     "output_type": "stream",
     "text": [
      "<suds.sax.document.Document object at 0x13a3fdac8>\n"
     ]
    },
    {
     "name": "stdout",
     "output_type": "stream",
     "text": [
      "ERROR ON AUT AU='AKYEL AHMET'\n",
      "2072\n"
     ]
    },
    {
     "name": "stderr",
     "output_type": "stream",
     "text": [
      "<suds.sax.document.Document object at 0x1124c7a20>\n"
     ]
    },
    {
     "name": "stdout",
     "output_type": "stream",
     "text": [
      "ERROR ON AUT AU= 'OZESMI MUSTAFA'\n",
      "2073\n"
     ]
    },
    {
     "name": "stderr",
     "output_type": "stream",
     "text": [
      "<suds.sax.document.Document object at 0x11214b710>\n"
     ]
    },
    {
     "name": "stdout",
     "output_type": "stream",
     "text": [
      "ERROR ON AUT AU= 'TURHAN MEHMET'\n",
      "2074\n"
     ]
    },
    {
     "name": "stderr",
     "output_type": "stream",
     "text": [
      "<suds.sax.document.Document object at 0x13a3fd5c0>\n"
     ]
    },
    {
     "name": "stdout",
     "output_type": "stream",
     "text": [
      "ERROR ON AUT AU= 'GURAGAC FATMA BETUL'\n",
      "2075\n"
     ]
    },
    {
     "name": "stderr",
     "output_type": "stream",
     "text": [
      "<suds.sax.document.Document object at 0x1120c2780>\n"
     ]
    },
    {
     "name": "stdout",
     "output_type": "stream",
     "text": [
      "ERROR ON AUT AU= 'OKYAY TUGBA O.'\n",
      "2076\n"
     ]
    },
    {
     "name": "stderr",
     "output_type": "stream",
     "text": [
      "<suds.sax.document.Document object at 0x1124c7198>\n"
     ]
    },
    {
     "name": "stdout",
     "output_type": "stream",
     "text": [
      "ERROR ON AUT AU= 'HAJEK P'\n",
      "2077\n"
     ]
    },
    {
     "name": "stderr",
     "output_type": "stream",
     "text": [
      "<suds.sax.document.Document object at 0x1124c7358>\n"
     ]
    },
    {
     "name": "stdout",
     "output_type": "stream",
     "text": [
      "ERROR ON AUT AU= 'ETSOY CANAN'\n",
      "2078\n"
     ]
    },
    {
     "name": "stderr",
     "output_type": "stream",
     "text": [
      "<suds.sax.document.Document object at 0x115cdea90>\n"
     ]
    },
    {
     "name": "stdout",
     "output_type": "stream",
     "text": [
      "ERROR ON AUT AU='OSUN ARIF'\n",
      "2079\n"
     ]
    },
    {
     "name": "stderr",
     "output_type": "stream",
     "text": [
      "<suds.sax.document.Document object at 0x11214b2b0>\n"
     ]
    },
    {
     "name": "stdout",
     "output_type": "stream",
     "text": [
      "ERROR ON AUT AU= 'KELES TELAT'\n",
      "2080\n"
     ]
    },
    {
     "name": "stderr",
     "output_type": "stream",
     "text": [
      "<suds.sax.document.Document object at 0x13a3fdef0>\n"
     ]
    },
    {
     "name": "stdout",
     "output_type": "stream",
     "text": [
      "ERROR ON AUT AU='GOZUBUYUK ZINNUR'\n",
      "2081\n"
     ]
    },
    {
     "name": "stderr",
     "output_type": "stream",
     "text": [
      "<suds.sax.document.Document object at 0x115f21240>\n"
     ]
    },
    {
     "name": "stdout",
     "output_type": "stream",
     "text": [
      "ERROR ON AUT AU= 'ARSERIM NEVAL BERRIN'\n",
      "2082\n"
     ]
    },
    {
     "name": "stderr",
     "output_type": "stream",
     "text": [
      "<suds.sax.document.Document object at 0x115f947b8>\n"
     ]
    },
    {
     "name": "stdout",
     "output_type": "stream",
     "text": [
      "ERROR ON AUT AU= 'SURUCU MURAT'\n",
      "2083\n"
     ]
    },
    {
     "name": "stderr",
     "output_type": "stream",
     "text": [
      "<suds.sax.document.Document object at 0x1124c7c18>\n"
     ]
    },
    {
     "name": "stdout",
     "output_type": "stream",
     "text": [
      "ERROR ON AUT AU='ADAM GURHAN'\n",
      "2084\n"
     ]
    },
    {
     "name": "stderr",
     "output_type": "stream",
     "text": [
      "<suds.sax.document.Document object at 0x115cde4e0>\n"
     ]
    },
    {
     "name": "stdout",
     "output_type": "stream",
     "text": [
      "ERROR ON AUT AU= 'AVSAR UMMU ZEYNEP'\n",
      "2085\n"
     ]
    },
    {
     "name": "stderr",
     "output_type": "stream",
     "text": [
      "<suds.sax.document.Document object at 0x13a3fdbe0>\n"
     ]
    },
    {
     "name": "stdout",
     "output_type": "stream",
     "text": [
      "ERROR ON AUT AU= 'KEMIK OZGUR'\n",
      "2086\n"
     ]
    },
    {
     "name": "stderr",
     "output_type": "stream",
     "text": [
      "<suds.sax.document.Document object at 0x1159bc668>\n"
     ]
    },
    {
     "name": "stdout",
     "output_type": "stream",
     "text": [
      "ERROR ON AUT AU= 'DOGAN AKAR'\n",
      "2087\n"
     ]
    },
    {
     "name": "stderr",
     "output_type": "stream",
     "text": [
      "<suds.sax.document.Document object at 0x115f21780>\n"
     ]
    },
    {
     "name": "stdout",
     "output_type": "stream",
     "text": [
      "ERROR ON AUT AU= 'TURHANOGLU SELIM'\n",
      "2088\n"
     ]
    },
    {
     "name": "stderr",
     "output_type": "stream",
     "text": [
      "<suds.sax.document.Document object at 0x115e0d470>\n"
     ]
    },
    {
     "name": "stdout",
     "output_type": "stream",
     "text": [
      "ERROR ON AUT AU= 'ERDOGAN TURAN'\n",
      "2089\n"
     ]
    },
    {
     "name": "stderr",
     "output_type": "stream",
     "text": [
      "<suds.sax.document.Document object at 0x1124c7550>\n"
     ]
    },
    {
     "name": "stdout",
     "output_type": "stream",
     "text": [
      "ERROR ON AUT AU='ARSLAN MEHMET'\n",
      "2090\n"
     ]
    },
    {
     "name": "stderr",
     "output_type": "stream",
     "text": [
      "<suds.sax.document.Document object at 0x13a3fda58>\n"
     ]
    },
    {
     "name": "stdout",
     "output_type": "stream",
     "text": [
      "ERROR ON AUT AU= 'ERBAS MELIKE'\n",
      "2091\n"
     ]
    },
    {
     "name": "stderr",
     "output_type": "stream",
     "text": [
      "<suds.sax.document.Document object at 0x117f747f0>\n"
     ]
    },
    {
     "name": "stdout",
     "output_type": "stream",
     "text": [
      "ERROR ON AUT AU= 'KAYHAN AYSEGUL'\n",
      "2092\n"
     ]
    },
    {
     "name": "stderr",
     "output_type": "stream",
     "text": [
      "<suds.sax.document.Document object at 0x116e79e10>\n"
     ]
    },
    {
     "name": "stdout",
     "output_type": "stream",
     "text": [
      "ERROR ON AUT AU= 'GUNGOREN ARIF'\n",
      "2093\n"
     ]
    },
    {
     "name": "stderr",
     "output_type": "stream",
     "text": [
      "<suds.sax.document.Document object at 0x115f21b70>\n"
     ]
    },
    {
     "name": "stdout",
     "output_type": "stream",
     "text": [
      "ERROR ON AUT AU= 'CATIKKAS FATIH'\n",
      "2094\n"
     ]
    },
    {
     "name": "stderr",
     "output_type": "stream",
     "text": [
      "<suds.sax.document.Document object at 0x115f94978>\n"
     ]
    },
    {
     "name": "stdout",
     "output_type": "stream",
     "text": [
      "ERROR ON AUT AU= 'ELSHIKH MOHAMED SOLIMAN'\n",
      "2095\n"
     ]
    },
    {
     "name": "stderr",
     "output_type": "stream",
     "text": [
      "<suds.sax.document.Document object at 0x115e0d5c0>\n"
     ]
    },
    {
     "name": "stdout",
     "output_type": "stream",
     "text": [
      "ERROR ON AUT AU= 'GUNES ALIME'\n",
      "2096\n"
     ]
    },
    {
     "name": "stderr",
     "output_type": "stream",
     "text": [
      "<suds.sax.document.Document object at 0x115cde240>\n"
     ]
    },
    {
     "name": "stdout",
     "output_type": "stream",
     "text": [
      "ERROR ON AUT AU= 'HALAC METIN'\n",
      "2097\n"
     ]
    },
    {
     "name": "stderr",
     "output_type": "stream",
     "text": [
      "<suds.sax.document.Document object at 0x11214ba20>\n"
     ]
    },
    {
     "name": "stdout",
     "output_type": "stream",
     "text": [
      "ERROR ON AUT AU= 'SARDAR ALI'\n",
      "2098\n"
     ]
    },
    {
     "name": "stderr",
     "output_type": "stream",
     "text": [
      "<suds.sax.document.Document object at 0x113c591d0>\n"
     ]
    },
    {
     "name": "stdout",
     "output_type": "stream",
     "text": [
      "ERROR ON AUT AU='DURGUT RAMAZAN'\n",
      "2099\n"
     ]
    },
    {
     "name": "stderr",
     "output_type": "stream",
     "text": [
      "<suds.sax.document.Document object at 0x115f21d30>\n"
     ]
    },
    {
     "name": "stdout",
     "output_type": "stream",
     "text": [
      "ERROR ON AUT AU= 'HAMID SYED MUHAMMAD'\n",
      "2100\n"
     ]
    },
    {
     "name": "stderr",
     "output_type": "stream",
     "text": [
      "<suds.sax.document.Document object at 0x112a878d0>\n"
     ]
    },
    {
     "name": "stdout",
     "output_type": "stream",
     "text": [
      "ERROR ON AUT AU= 'SAL ERTAN'\n",
      "2101\n"
     ]
    },
    {
     "name": "stderr",
     "output_type": "stream",
     "text": [
      "<suds.sax.document.Document object at 0x112a872b0>\n"
     ]
    },
    {
     "name": "stdout",
     "output_type": "stream",
     "text": [
      "ERROR ON AUT AU= 'UNAL HILAL'\n",
      "2102\n"
     ]
    },
    {
     "name": "stderr",
     "output_type": "stream",
     "text": [
      "<suds.sax.document.Document object at 0x115cdeb70>\n"
     ]
    },
    {
     "name": "stdout",
     "output_type": "stream",
     "text": [
      "ERROR ON AUT AU= 'ALTAY MEHMET AKIF'\n",
      "2103\n"
     ]
    },
    {
     "name": "stderr",
     "output_type": "stream",
     "text": [
      "<suds.sax.document.Document object at 0x113c59cc0>\n"
     ]
    },
    {
     "name": "stdout",
     "output_type": "stream",
     "text": [
      "ERROR ON AUT AU= 'CELEN ZEKI'\n",
      "2104\n"
     ]
    },
    {
     "name": "stderr",
     "output_type": "stream",
     "text": [
      "<suds.sax.document.Document object at 0x116e79d30>\n"
     ]
    },
    {
     "name": "stdout",
     "output_type": "stream",
     "text": [
      "ERROR ON AUT AU= 'YAZICI KEMAL UTKU'\n",
      "2105\n"
     ]
    },
    {
     "name": "stderr",
     "output_type": "stream",
     "text": [
      "<suds.sax.document.Document object at 0x115f21e80>\n"
     ]
    },
    {
     "name": "stdout",
     "output_type": "stream",
     "text": [
      "ERROR ON AUT AU='OZVEREN OLCAY'\n",
      "2106\n"
     ]
    },
    {
     "name": "stderr",
     "output_type": "stream",
     "text": [
      "<suds.sax.document.Document object at 0x115b25d30>\n"
     ]
    },
    {
     "name": "stdout",
     "output_type": "stream",
     "text": [
      "ERROR ON AUT AU='SOMER GULER'\n",
      "2107\n"
     ]
    },
    {
     "name": "stderr",
     "output_type": "stream",
     "text": [
      "<suds.sax.document.Document object at 0x115b25cf8>\n"
     ]
    },
    {
     "name": "stdout",
     "output_type": "stream",
     "text": [
      "ERROR ON AUT AU= 'YONGUC GOKSIN NILUFER'\n",
      "2108\n"
     ]
    },
    {
     "name": "stderr",
     "output_type": "stream",
     "text": [
      "<suds.sax.document.Document object at 0x115cb3c18>\n"
     ]
    },
    {
     "name": "stdout",
     "output_type": "stream",
     "text": [
      "ERROR ON AUT AU='CETIN EBRU N.'\n",
      "2109\n"
     ]
    },
    {
     "name": "stderr",
     "output_type": "stream",
     "text": [
      "<suds.sax.document.Document object at 0x115b25240>\n"
     ]
    },
    {
     "name": "stdout",
     "output_type": "stream",
     "text": [
      "ERROR ON AUT AU= 'BARNETT MICHAEL'\n",
      "2110\n"
     ]
    },
    {
     "name": "stderr",
     "output_type": "stream",
     "text": [
      "<suds.sax.document.Document object at 0x115b25198>\n"
     ]
    },
    {
     "name": "stdout",
     "output_type": "stream",
     "text": [
      "ERROR ON AUT AU= 'CERI VEYSI'\n",
      "2111\n"
     ]
    },
    {
     "name": "stderr",
     "output_type": "stream",
     "text": [
      "<suds.sax.document.Document object at 0x112a87198>\n"
     ]
    },
    {
     "name": "stdout",
     "output_type": "stream",
     "text": [
      "ERROR ON AUT AU= 'SERTER ASLI'\n",
      "2112\n"
     ]
    },
    {
     "name": "stderr",
     "output_type": "stream",
     "text": [
      "<suds.sax.document.Document object at 0x115e0df60>\n"
     ]
    },
    {
     "name": "stdout",
     "output_type": "stream",
     "text": [
      "ERROR ON AUT AU='CETINKAYA KADIR'\n",
      "2113\n"
     ]
    },
    {
     "name": "stderr",
     "output_type": "stream",
     "text": [
      "<suds.sax.document.Document object at 0x115e0d1d0>\n"
     ]
    },
    {
     "name": "stdout",
     "output_type": "stream",
     "text": [
      "ERROR ON AUT AU='DUMAN RESAT'\n",
      "2114\n"
     ]
    },
    {
     "name": "stderr",
     "output_type": "stream",
     "text": [
      "<suds.sax.document.Document object at 0x113c59ba8>\n"
     ]
    },
    {
     "name": "stdout",
     "output_type": "stream",
     "text": [
      "ERROR ON AUT AU= 'MENGELOGLU FIRAT ZAFER'\n",
      "2115\n"
     ]
    },
    {
     "name": "stderr",
     "output_type": "stream",
     "text": [
      "<suds.sax.document.Document object at 0x115f21320>\n"
     ]
    },
    {
     "name": "stdout",
     "output_type": "stream",
     "text": [
      "ERROR ON AUT AU= 'SOYLU M. SERKAN'\n",
      "2116\n"
     ]
    },
    {
     "name": "stderr",
     "output_type": "stream",
     "text": [
      "<suds.sax.document.Document object at 0x115f21cf8>\n"
     ]
    },
    {
     "name": "stdout",
     "output_type": "stream",
     "text": [
      "ERROR ON AUT AU= 'KAYA ALI HAKAN'\n",
      "2117\n"
     ]
    },
    {
     "name": "stderr",
     "output_type": "stream",
     "text": [
      "<suds.sax.document.Document object at 0x112a875c0>\n"
     ]
    },
    {
     "name": "stdout",
     "output_type": "stream",
     "text": [
      "ERROR ON AUT AU= 'SAKARYA ENGIN UMUT'\n",
      "2118\n"
     ]
    },
    {
     "name": "stderr",
     "output_type": "stream",
     "text": [
      "<suds.sax.document.Document object at 0x1159bcef0>\n"
     ]
    },
    {
     "name": "stdout",
     "output_type": "stream",
     "text": [
      "ERROR ON AUT AU= 'ERGUN DILEK'\n",
      "2119\n"
     ]
    },
    {
     "name": "stderr",
     "output_type": "stream",
     "text": [
      "<suds.sax.document.Document object at 0x1159bc358>\n"
     ]
    },
    {
     "name": "stdout",
     "output_type": "stream",
     "text": [
      "ERROR ON AUT AU= 'YURTSEVEN TASKIN'\n",
      "2120\n"
     ]
    },
    {
     "name": "stderr",
     "output_type": "stream",
     "text": [
      "<suds.sax.document.Document object at 0x113c59710>\n"
     ]
    },
    {
     "name": "stdout",
     "output_type": "stream",
     "text": [
      "ERROR ON AUT AU= 'TEKINBAS CELAL'\n",
      "2121\n"
     ]
    },
    {
     "name": "stderr",
     "output_type": "stream",
     "text": [
      "<suds.sax.document.Document object at 0x115f21320>\n"
     ]
    },
    {
     "name": "stdout",
     "output_type": "stream",
     "text": [
      "ERROR ON AUT AU='EKINCI ARIFE PINAR'\n",
      "2122\n"
     ]
    },
    {
     "name": "stderr",
     "output_type": "stream",
     "text": [
      "<suds.sax.document.Document object at 0x116e4e278>\n"
     ]
    },
    {
     "name": "stdout",
     "output_type": "stream",
     "text": [
      "ERROR ON AUT AU= 'YUECE IMDAT'\n",
      "2123\n"
     ]
    },
    {
     "name": "stderr",
     "output_type": "stream",
     "text": [
      "<suds.sax.document.Document object at 0x112a87c88>\n"
     ]
    },
    {
     "name": "stdout",
     "output_type": "stream",
     "text": [
      "ERROR ON AUT AU='ISIK CENGIZ'\n",
      "2124\n"
     ]
    },
    {
     "name": "stderr",
     "output_type": "stream",
     "text": [
      "<suds.sax.document.Document object at 0x115f94160>\n"
     ]
    },
    {
     "name": "stdout",
     "output_type": "stream",
     "text": [
      "ERROR ON AUT AU= 'IBAS ERHAN'\n",
      "2125\n"
     ]
    },
    {
     "name": "stderr",
     "output_type": "stream",
     "text": [
      "<suds.sax.document.Document object at 0x115f94c50>\n"
     ]
    },
    {
     "name": "stdout",
     "output_type": "stream",
     "text": [
      "ERROR ON AUT AU= 'GONUL TURGAY'\n",
      "2126\n"
     ]
    },
    {
     "name": "stderr",
     "output_type": "stream",
     "text": [
      "<suds.sax.document.Document object at 0x113c81518>\n"
     ]
    },
    {
     "name": "stdout",
     "output_type": "stream",
     "text": [
      "ERROR ON AUT AU= 'CORTINA JL'\n",
      "2127\n"
     ]
    },
    {
     "name": "stderr",
     "output_type": "stream",
     "text": [
      "<suds.sax.document.Document object at 0x1159761d0>\n"
     ]
    },
    {
     "name": "stdout",
     "output_type": "stream",
     "text": [
      "ERROR ON AUT AU= 'GIRGIN MEHMET CAN'\n",
      "2128\n"
     ]
    },
    {
     "name": "stderr",
     "output_type": "stream",
     "text": [
      "<suds.sax.document.Document object at 0x13a3fdf28>\n"
     ]
    },
    {
     "name": "stdout",
     "output_type": "stream",
     "text": [
      "ERROR ON AUT AU= 'CASTILLO O'\n",
      "2129\n"
     ]
    },
    {
     "name": "stderr",
     "output_type": "stream",
     "text": [
      "<suds.sax.document.Document object at 0x112a87278>\n"
     ]
    },
    {
     "name": "stdout",
     "output_type": "stream",
     "text": [
      "ERROR ON AUT AU='ORSAL EBRU'\n",
      "2130\n"
     ]
    },
    {
     "name": "stderr",
     "output_type": "stream",
     "text": [
      "<suds.sax.document.Document object at 0x115f948d0>\n"
     ]
    },
    {
     "name": "stdout",
     "output_type": "stream",
     "text": [
      "ERROR ON AUT AU='DEMIRDAG RAMAZAN'\n",
      "2131\n"
     ]
    },
    {
     "name": "stderr",
     "output_type": "stream",
     "text": [
      "<suds.sax.document.Document object at 0x115e0d048>\n"
     ]
    },
    {
     "name": "stdout",
     "output_type": "stream",
     "text": [
      "ERROR ON AUT AU= 'DEMIRTAS SELIM'\n",
      "2132\n"
     ]
    },
    {
     "name": "stderr",
     "output_type": "stream",
     "text": [
      "<suds.sax.document.Document object at 0x116e4e668>\n"
     ]
    },
    {
     "name": "stdout",
     "output_type": "stream",
     "text": [
      "ERROR ON AUT AU= 'KILINC VELI'\n",
      "2133\n"
     ]
    },
    {
     "name": "stderr",
     "output_type": "stream",
     "text": [
      "<suds.sax.document.Document object at 0x115cdef98>\n"
     ]
    },
    {
     "name": "stdout",
     "output_type": "stream",
     "text": [
      "ERROR ON AUT AU= 'ARSLAN NUR'\n",
      "2134\n"
     ]
    },
    {
     "name": "stderr",
     "output_type": "stream",
     "text": [
      "<suds.sax.document.Document object at 0x116e79f98>\n"
     ]
    },
    {
     "name": "stdout",
     "output_type": "stream",
     "text": [
      "ERROR ON AUT AU= 'ALACACIOGLU AHMET'\n",
      "2135\n"
     ]
    },
    {
     "name": "stderr",
     "output_type": "stream",
     "text": [
      "<suds.sax.document.Document object at 0x115f946a0>\n"
     ]
    },
    {
     "name": "stdout",
     "output_type": "stream",
     "text": [
      "ERROR ON AUT AU= 'CANSABUNCU SENA GOKSU'\n",
      "2136\n"
     ]
    },
    {
     "name": "stderr",
     "output_type": "stream",
     "text": [
      "<suds.sax.document.Document object at 0x1120c2d68>\n"
     ]
    },
    {
     "name": "stdout",
     "output_type": "stream",
     "text": [
      "ERROR ON AUT AU= 'DEMIR BERAT'\n",
      "2137\n"
     ]
    },
    {
     "name": "stderr",
     "output_type": "stream",
     "text": [
      "<suds.sax.document.Document object at 0x1120c2cf8>\n"
     ]
    },
    {
     "name": "stdout",
     "output_type": "stream",
     "text": [
      "ERROR ON AUT AU='ATIK KEMAL'\n",
      "2138\n"
     ]
    },
    {
     "name": "stderr",
     "output_type": "stream",
     "text": [
      "<suds.sax.document.Document object at 0x113c81748>\n"
     ]
    },
    {
     "name": "stdout",
     "output_type": "stream",
     "text": [
      "ERROR ON AUT AU= 'SENER MUSTAFA TALIP'\n",
      "2139\n"
     ]
    },
    {
     "name": "stderr",
     "output_type": "stream",
     "text": [
      "<suds.sax.document.Document object at 0x115b25eb8>\n"
     ]
    },
    {
     "name": "stdout",
     "output_type": "stream",
     "text": [
      "ERROR ON AUT AU= 'ERDOGAN YURDANUR'\n",
      "2140\n"
     ]
    },
    {
     "name": "stderr",
     "output_type": "stream",
     "text": [
      "<suds.sax.document.Document object at 0x115b25b00>\n"
     ]
    },
    {
     "name": "stdout",
     "output_type": "stream",
     "text": [
      "ERROR ON AUT AU='KARA ISKENDER'\n",
      "2141\n"
     ]
    },
    {
     "name": "stderr",
     "output_type": "stream",
     "text": [
      "<suds.sax.document.Document object at 0x113c59518>\n"
     ]
    },
    {
     "name": "stdout",
     "output_type": "stream",
     "text": [
      "ERROR ON AUT AU='CAPAL ISMAIL DAVUT'\n",
      "2142\n"
     ]
    },
    {
     "name": "stderr",
     "output_type": "stream",
     "text": [
      "<suds.sax.document.Document object at 0x1124c7400>\n"
     ]
    },
    {
     "name": "stdout",
     "output_type": "stream",
     "text": [
      "ERROR ON AUT AU= 'YAMAN YAVUZ'\n",
      "2143\n"
     ]
    },
    {
     "name": "stderr",
     "output_type": "stream",
     "text": [
      "<suds.sax.document.Document object at 0x1161cf710>\n"
     ]
    },
    {
     "name": "stdout",
     "output_type": "stream",
     "text": [
      "ERROR ON AUT AU= 'BABAOGLU MELIH O.'\n",
      "2144\n"
     ]
    },
    {
     "name": "stderr",
     "output_type": "stream",
     "text": [
      "<suds.sax.document.Document object at 0x113c81438>\n"
     ]
    },
    {
     "name": "stdout",
     "output_type": "stream",
     "text": [
      "ERROR ON AUT AU= 'AKKAR OZLEM BOZOKLU'\n",
      "2145\n"
     ]
    },
    {
     "name": "stderr",
     "output_type": "stream",
     "text": [
      "<suds.sax.document.Document object at 0x116e79198>\n"
     ]
    },
    {
     "name": "stdout",
     "output_type": "stream",
     "text": [
      "ERROR ON AUT AU= 'INAL MIKAIL'\n",
      "2146\n"
     ]
    },
    {
     "name": "stderr",
     "output_type": "stream",
     "text": [
      "<suds.sax.document.Document object at 0x13a183b70>\n"
     ]
    },
    {
     "name": "stdout",
     "output_type": "stream",
     "text": [
      "ERROR ON AUT AU= 'DELICE ALI'\n",
      "2147\n"
     ]
    },
    {
     "name": "stderr",
     "output_type": "stream",
     "text": [
      "<suds.sax.document.Document object at 0x115cb3fd0>\n"
     ]
    },
    {
     "name": "stdout",
     "output_type": "stream",
     "text": [
      "ERROR ON AUT AU='OBA AYLIN AKBAY'\n",
      "2148\n"
     ]
    },
    {
     "name": "stderr",
     "output_type": "stream",
     "text": [
      "<suds.sax.document.Document object at 0x116e4eb70>\n"
     ]
    },
    {
     "name": "stdout",
     "output_type": "stream",
     "text": [
      "ERROR ON AUT AU='CALBAN TURAN'\n",
      "2149\n"
     ]
    },
    {
     "name": "stderr",
     "output_type": "stream",
     "text": [
      "<suds.sax.document.Document object at 0x13a3fd518>\n"
     ]
    },
    {
     "name": "stdout",
     "output_type": "stream",
     "text": [
      "ERROR ON AUT AU= 'BOZKURT MAHMUT'\n",
      "2150\n"
     ]
    },
    {
     "name": "stderr",
     "output_type": "stream",
     "text": [
      "<suds.sax.document.Document object at 0x115cdeb70>\n"
     ]
    },
    {
     "name": "stdout",
     "output_type": "stream",
     "text": [
      "ERROR ON AUT AU= 'BESIROGLU MEHMET'\n",
      "2151\n"
     ]
    },
    {
     "name": "stderr",
     "output_type": "stream",
     "text": [
      "<suds.sax.document.Document object at 0x13a183e48>\n"
     ]
    },
    {
     "name": "stdout",
     "output_type": "stream",
     "text": [
      "ERROR ON AUT AU= 'SEVINC RUKIYE'\n",
      "2152\n"
     ]
    },
    {
     "name": "stderr",
     "output_type": "stream",
     "text": [
      "<suds.sax.document.Document object at 0x13a183438>\n"
     ]
    },
    {
     "name": "stdout",
     "output_type": "stream",
     "text": [
      "ERROR ON AUT AU='BORKU MEHMET KAZIM'\n",
      "2153\n"
     ]
    },
    {
     "name": "stderr",
     "output_type": "stream",
     "text": [
      "<suds.sax.document.Document object at 0x115cb33c8>\n"
     ]
    },
    {
     "name": "stdout",
     "output_type": "stream",
     "text": [
      "ERROR ON AUT AU= 'CORDANO CHRISTIAN'\n",
      "2154\n"
     ]
    },
    {
     "name": "stderr",
     "output_type": "stream",
     "text": [
      "<suds.sax.document.Document object at 0x1161cf860>\n"
     ]
    },
    {
     "name": "stdout",
     "output_type": "stream",
     "text": [
      "ERROR ON AUT AU='KACAR EMRE'\n",
      "2155\n"
     ]
    },
    {
     "name": "stderr",
     "output_type": "stream",
     "text": [
      "<suds.sax.document.Document object at 0x11214b390>\n"
     ]
    },
    {
     "name": "stdout",
     "output_type": "stream",
     "text": [
      "ERROR ON AUT AU= 'IPCI OZLEM'\n",
      "2156\n"
     ]
    },
    {
     "name": "stderr",
     "output_type": "stream",
     "text": [
      "<suds.sax.document.Document object at 0x115b25080>\n"
     ]
    },
    {
     "name": "stdout",
     "output_type": "stream",
     "text": [
      "ERROR ON AUT AU= 'BUYUKCAN MEHMET BURAK'\n",
      "2157\n"
     ]
    },
    {
     "name": "stderr",
     "output_type": "stream",
     "text": [
      "<suds.sax.document.Document object at 0x1124c7c50>\n"
     ]
    },
    {
     "name": "stdout",
     "output_type": "stream",
     "text": [
      "ERROR ON AUT AU='ICLAL BAYHAN GULSUM'\n",
      "2158\n"
     ]
    },
    {
     "name": "stderr",
     "output_type": "stream",
     "text": [
      "<suds.sax.document.Document object at 0x1124c77f0>\n"
     ]
    },
    {
     "name": "stdout",
     "output_type": "stream",
     "text": [
      "ERROR ON AUT AU= 'SELIGER G'\n",
      "2159\n"
     ]
    },
    {
     "name": "stderr",
     "output_type": "stream",
     "text": [
      "<suds.sax.document.Document object at 0x115cb32e8>\n"
     ]
    },
    {
     "name": "stdout",
     "output_type": "stream",
     "text": [
      "ERROR ON AUT AU= 'BAYSAN BETIL OZHAK'\n",
      "2160\n"
     ]
    },
    {
     "name": "stderr",
     "output_type": "stream",
     "text": [
      "<suds.sax.document.Document object at 0x115976278>\n"
     ]
    },
    {
     "name": "stdout",
     "output_type": "stream",
     "text": [
      "ERROR ON AUT AU= 'ERKAN FARUK'\n",
      "2161\n"
     ]
    },
    {
     "name": "stderr",
     "output_type": "stream",
     "text": [
      "<suds.sax.document.Document object at 0x115f94ac8>\n"
     ]
    },
    {
     "name": "stdout",
     "output_type": "stream",
     "text": [
      "ERROR ON AUT AU='YESIL YUSUF'\n",
      "2162\n"
     ]
    },
    {
     "name": "stderr",
     "output_type": "stream",
     "text": [
      "<suds.sax.document.Document object at 0x13a3fdc18>\n"
     ]
    },
    {
     "name": "stdout",
     "output_type": "stream",
     "text": [
      "ERROR ON AUT AU= 'KURT SEFA'\n",
      "2163\n"
     ]
    },
    {
     "name": "stderr",
     "output_type": "stream",
     "text": [
      "<suds.sax.document.Document object at 0x117f746a0>\n"
     ]
    },
    {
     "name": "stdout",
     "output_type": "stream",
     "text": [
      "ERROR ON AUT AU= 'KOSEOGLU ZIKRET'\n",
      "2164\n"
     ]
    },
    {
     "name": "stderr",
     "output_type": "stream",
     "text": [
      "<suds.sax.document.Document object at 0x113c59470>\n"
     ]
    },
    {
     "name": "stdout",
     "output_type": "stream",
     "text": [
      "ERROR ON AUT AU= 'KOC EBRU'\n",
      "2165\n"
     ]
    },
    {
     "name": "stderr",
     "output_type": "stream",
     "text": [
      "<suds.sax.document.Document object at 0x115cb3d30>\n"
     ]
    },
    {
     "name": "stdout",
     "output_type": "stream",
     "text": [
      "ERROR ON AUT AU= 'ZELJKOVIC SANJA CAVAR'\n",
      "2166\n"
     ]
    },
    {
     "name": "stderr",
     "output_type": "stream",
     "text": [
      "<suds.sax.document.Document object at 0x113c81cf8>\n"
     ]
    },
    {
     "name": "stdout",
     "output_type": "stream",
     "text": [
      "ERROR ON AUT AU='KUCUKDURMAZ ZEKERIYA'\n",
      "2167\n"
     ]
    },
    {
     "name": "stderr",
     "output_type": "stream",
     "text": [
      "<suds.sax.document.Document object at 0x113c814a8>\n"
     ]
    },
    {
     "name": "stdout",
     "output_type": "stream",
     "text": [
      "ERROR ON AUT AU= 'VERBURG PETER H.'\n",
      "2168\n"
     ]
    },
    {
     "name": "stderr",
     "output_type": "stream",
     "text": [
      "<suds.sax.document.Document object at 0x115cdecc0>\n"
     ]
    },
    {
     "name": "stdout",
     "output_type": "stream",
     "text": [
      "ERROR ON AUT AU= 'TURKBEYLER IBRAHIM'\n",
      "2169\n"
     ]
    },
    {
     "name": "stderr",
     "output_type": "stream",
     "text": [
      "<suds.sax.document.Document object at 0x115f211d0>\n"
     ]
    },
    {
     "name": "stdout",
     "output_type": "stream",
     "text": [
      "ERROR ON AUT AU= 'BUYUKTORTOP NESRIN'\n",
      "2170\n"
     ]
    },
    {
     "name": "stderr",
     "output_type": "stream",
     "text": [
      "<suds.sax.document.Document object at 0x115f21128>\n"
     ]
    },
    {
     "name": "stdout",
     "output_type": "stream",
     "text": [
      "ERROR ON AUT AU= 'YENICESU GONCA IMIR'\n",
      "2171\n"
     ]
    },
    {
     "name": "stderr",
     "output_type": "stream",
     "text": [
      "<suds.sax.document.Document object at 0x115cb3a20>\n"
     ]
    },
    {
     "name": "stdout",
     "output_type": "stream",
     "text": [
      "ERROR ON AUT AU= 'HAKVERDI SIBEL'\n",
      "2172\n"
     ]
    },
    {
     "name": "stderr",
     "output_type": "stream",
     "text": [
      "<suds.sax.document.Document object at 0x115e0d588>\n"
     ]
    },
    {
     "name": "stdout",
     "output_type": "stream",
     "text": [
      "ERROR ON AUT AU= 'INANIR FEDAI'\n",
      "2173\n"
     ]
    },
    {
     "name": "stderr",
     "output_type": "stream",
     "text": [
      "<suds.sax.document.Document object at 0x115e0d8d0>\n"
     ]
    },
    {
     "name": "stdout",
     "output_type": "stream",
     "text": [
      "ERROR ON AUT AU='KOCAK ABDULLAH O.'\n",
      "2174\n"
     ]
    },
    {
     "name": "stderr",
     "output_type": "stream",
     "text": [
      "<suds.sax.document.Document object at 0x115cdef60>\n"
     ]
    },
    {
     "name": "stdout",
     "output_type": "stream",
     "text": [
      "ERROR ON AUT AU= 'KARADAYI HUSNA'\n",
      "2175\n"
     ]
    },
    {
     "name": "stderr",
     "output_type": "stream",
     "text": [
      "<suds.sax.document.Document object at 0x113c59ac8>\n"
     ]
    },
    {
     "name": "stdout",
     "output_type": "stream",
     "text": [
      "ERROR ON AUT AU= 'KURTGOZ SERKAN'\n",
      "2176\n"
     ]
    },
    {
     "name": "stderr",
     "output_type": "stream",
     "text": [
      "<suds.sax.document.Document object at 0x113c59978>\n"
     ]
    },
    {
     "name": "stdout",
     "output_type": "stream",
     "text": [
      "ERROR ON AUT AU='ASIK MURAT'\n",
      "2177\n"
     ]
    },
    {
     "name": "stderr",
     "output_type": "stream",
     "text": [
      "<suds.sax.document.Document object at 0x115cb30b8>\n"
     ]
    },
    {
     "name": "stdout",
     "output_type": "stream",
     "text": [
      "ERROR ON AUT AU= 'SOLAK SAMET'\n",
      "2178\n"
     ]
    },
    {
     "name": "stderr",
     "output_type": "stream",
     "text": [
      "<suds.sax.document.Document object at 0x116de8780>\n"
     ]
    },
    {
     "name": "stdout",
     "output_type": "stream",
     "text": [
      "ERROR ON AUT AU='DOLU NURGUL'\n",
      "2179\n"
     ]
    },
    {
     "name": "stderr",
     "output_type": "stream",
     "text": [
      "<suds.sax.document.Document object at 0x115e0d9e8>\n"
     ]
    },
    {
     "name": "stdout",
     "output_type": "stream",
     "text": [
      "ERROR ON AUT AU='ERYUREK MUSTAFA'\n",
      "2180\n"
     ]
    },
    {
     "name": "stderr",
     "output_type": "stream",
     "text": [
      "<suds.sax.document.Document object at 0x113c81358>\n"
     ]
    },
    {
     "name": "stdout",
     "output_type": "stream",
     "text": [
      "ERROR ON AUT AU= 'ALUCLU M. UFUK'\n",
      "2181\n"
     ]
    },
    {
     "name": "stderr",
     "output_type": "stream",
     "text": [
      "<suds.sax.document.Document object at 0x116de8a90>\n"
     ]
    },
    {
     "name": "stdout",
     "output_type": "stream",
     "text": [
      "ERROR ON AUT AU='TOREN PELIN'\n",
      "2182\n"
     ]
    },
    {
     "name": "stderr",
     "output_type": "stream",
     "text": [
      "<suds.sax.document.Document object at 0x116de8a20>\n"
     ]
    },
    {
     "name": "stdout",
     "output_type": "stream",
     "text": [
      "ERROR ON AUT AU= 'OZYUREK OMER'\n",
      "2183\n"
     ]
    },
    {
     "name": "stderr",
     "output_type": "stream",
     "text": [
      "<suds.sax.document.Document object at 0x115e0d518>\n"
     ]
    },
    {
     "name": "stdout",
     "output_type": "stream",
     "text": [
      "ERROR ON AUT AU= 'SARAC ELIF TUBA'\n",
      "2184\n"
     ]
    },
    {
     "name": "stderr",
     "output_type": "stream",
     "text": [
      "<suds.sax.document.Document object at 0x115b25e80>\n"
     ]
    },
    {
     "name": "stdout",
     "output_type": "stream",
     "text": [
      "ERROR ON AUT AU= 'HISMIOGULLARI SAHVER E.'\n",
      "2185\n"
     ]
    },
    {
     "name": "stderr",
     "output_type": "stream",
     "text": [
      "<suds.sax.document.Document object at 0x115b256d8>\n"
     ]
    },
    {
     "name": "stdout",
     "output_type": "stream",
     "text": [
      "ERROR ON AUT AU= 'TASDEMIR SEDA'\n",
      "2186\n"
     ]
    },
    {
     "name": "stderr",
     "output_type": "stream",
     "text": [
      "<suds.sax.document.Document object at 0x113c59470>\n"
     ]
    },
    {
     "name": "stdout",
     "output_type": "stream",
     "text": [
      "ERROR ON AUT AU='KUZU OMUR HAKAN'\n",
      "2187\n"
     ]
    },
    {
     "name": "stderr",
     "output_type": "stream",
     "text": [
      "<suds.sax.document.Document object at 0x112a872e8>\n"
     ]
    },
    {
     "name": "stdout",
     "output_type": "stream",
     "text": [
      "ERROR ON AUT AU= 'KOSE GAYE'\n",
      "2188\n"
     ]
    },
    {
     "name": "stderr",
     "output_type": "stream",
     "text": [
      "<suds.sax.document.Document object at 0x112a87ef0>\n"
     ]
    },
    {
     "name": "stdout",
     "output_type": "stream",
     "text": [
      "ERROR ON AUT AU= 'GURBUZ MELEK'\n",
      "2189\n"
     ]
    },
    {
     "name": "stderr",
     "output_type": "stream",
     "text": [
      "<suds.sax.document.Document object at 0x117f741d0>\n"
     ]
    },
    {
     "name": "stdout",
     "output_type": "stream",
     "text": [
      "ERROR ON AUT AU= 'ATALAY FUNDA'\n",
      "2190\n"
     ]
    },
    {
     "name": "stderr",
     "output_type": "stream",
     "text": [
      "<suds.sax.document.Document object at 0x11214b470>\n"
     ]
    },
    {
     "name": "stdout",
     "output_type": "stream",
     "text": [
      "ERROR ON AUT AU= 'MERGEN HATICE'\n",
      "2191\n"
     ]
    },
    {
     "name": "stderr",
     "output_type": "stream",
     "text": [
      "<suds.sax.document.Document object at 0x1161cfdd8>\n"
     ]
    },
    {
     "name": "stdout",
     "output_type": "stream",
     "text": [
      "ERROR ON AUT AU= 'KOBAT SABIHA'\n",
      "2192\n"
     ]
    },
    {
     "name": "stderr",
     "output_type": "stream",
     "text": [
      "<suds.sax.document.Document object at 0x113c597f0>\n"
     ]
    },
    {
     "name": "stdout",
     "output_type": "stream",
     "text": [
      "ERROR ON AUT AU= 'DEMIRTAS CANAN'\n",
      "2193\n"
     ]
    },
    {
     "name": "stderr",
     "output_type": "stream",
     "text": [
      "<suds.sax.document.Document object at 0x112a87080>\n"
     ]
    },
    {
     "name": "stdout",
     "output_type": "stream",
     "text": [
      "ERROR ON AUT AU= 'YOKUS OZLEM AKTAS'\n",
      "2194\n"
     ]
    },
    {
     "name": "stderr",
     "output_type": "stream",
     "text": [
      "<suds.sax.document.Document object at 0x112a87240>\n"
     ]
    },
    {
     "name": "stdout",
     "output_type": "stream",
     "text": [
      "ERROR ON AUT AU= 'HACIYEV YUSUF'\n",
      "2195\n"
     ]
    },
    {
     "name": "stderr",
     "output_type": "stream",
     "text": [
      "<suds.sax.document.Document object at 0x115f215f8>\n"
     ]
    },
    {
     "name": "stdout",
     "output_type": "stream",
     "text": [
      "ERROR ON AUT AU= 'TURSUN IRFAN'\n",
      "2196\n"
     ]
    },
    {
     "name": "stderr",
     "output_type": "stream",
     "text": [
      "<suds.sax.document.Document object at 0x1124c70f0>\n"
     ]
    },
    {
     "name": "stdout",
     "output_type": "stream",
     "text": [
      "ERROR ON AUT AU= 'YURTSEVEN SABRI'\n",
      "2197\n"
     ]
    },
    {
     "name": "stderr",
     "output_type": "stream",
     "text": [
      "<suds.sax.document.Document object at 0x1124c7f60>\n"
     ]
    },
    {
     "name": "stdout",
     "output_type": "stream",
     "text": [
      "ERROR ON AUT AU= 'TERUYA-FELDSTEIN JULIE'\n",
      "2198\n"
     ]
    },
    {
     "name": "stderr",
     "output_type": "stream",
     "text": [
      "<suds.sax.document.Document object at 0x113c59128>\n"
     ]
    },
    {
     "name": "stdout",
     "output_type": "stream",
     "text": [
      "ERROR ON AUT AU= 'SEZGIN SERCAN'\n",
      "2199\n"
     ]
    },
    {
     "name": "stderr",
     "output_type": "stream",
     "text": [
      "<suds.sax.document.Document object at 0x115cde4e0>\n"
     ]
    },
    {
     "name": "stdout",
     "output_type": "stream",
     "text": [
      "ERROR ON AUT AU= 'GOPAL DHANANJAY'\n",
      "2200\n"
     ]
    },
    {
     "name": "stderr",
     "output_type": "stream",
     "text": [
      "<suds.sax.document.Document object at 0x115cdef98>\n"
     ]
    },
    {
     "name": "stdout",
     "output_type": "stream",
     "text": [
      "ERROR ON AUT AU='KOSE DOGAN'\n",
      "2201\n"
     ]
    },
    {
     "name": "stderr",
     "output_type": "stream",
     "text": [
      "<suds.sax.document.Document object at 0x115f21780>\n"
     ]
    },
    {
     "name": "stdout",
     "output_type": "stream",
     "text": [
      "ERROR ON AUT AU= 'KOSTU BULENT'\n",
      "2202\n"
     ]
    },
    {
     "name": "stderr",
     "output_type": "stream",
     "text": [
      "<suds.sax.document.Document object at 0x1124c7320>\n"
     ]
    },
    {
     "name": "stdout",
     "output_type": "stream",
     "text": [
      "ERROR ON AUT AU='YAMAK NESIBE'\n",
      "2203\n"
     ]
    },
    {
     "name": "stderr",
     "output_type": "stream",
     "text": [
      "<suds.sax.document.Document object at 0x1124c74e0>\n"
     ]
    },
    {
     "name": "stdout",
     "output_type": "stream",
     "text": [
      "ERROR ON AUT AU= 'YILDIZ HASAN'\n",
      "2204\n"
     ]
    },
    {
     "name": "stderr",
     "output_type": "stream",
     "text": [
      "<suds.sax.document.Document object at 0x113c59f98>\n"
     ]
    },
    {
     "name": "stdout",
     "output_type": "stream",
     "text": [
      "ERROR ON AUT AU='BOZDOGAN SEVCAN TUG'\n",
      "2205\n"
     ]
    },
    {
     "name": "stderr",
     "output_type": "stream",
     "text": [
      "<suds.sax.document.Document object at 0x115f94160>\n"
     ]
    },
    {
     "name": "stdout",
     "output_type": "stream",
     "text": [
      "ERROR ON AUT AU= 'CAYCI YELIZ TANRIVERDI'\n",
      "2206\n"
     ]
    },
    {
     "name": "stderr",
     "output_type": "stream",
     "text": [
      "<suds.sax.document.Document object at 0x115f94cc0>\n"
     ]
    },
    {
     "name": "stdout",
     "output_type": "stream",
     "text": [
      "ERROR ON AUT AU= 'MENEMENLIOGLU DILEK'\n",
      "2207\n"
     ]
    },
    {
     "name": "stderr",
     "output_type": "stream",
     "text": [
      "<suds.sax.document.Document object at 0x115e0d6d8>\n"
     ]
    },
    {
     "name": "stdout",
     "output_type": "stream",
     "text": [
      "ERROR ON AUT AU= 'GOERKEMLI HUEYIN'\n",
      "2208\n"
     ]
    },
    {
     "name": "stderr",
     "output_type": "stream",
     "text": [
      "<suds.sax.document.Document object at 0x115b256d8>\n"
     ]
    },
    {
     "name": "stdout",
     "output_type": "stream",
     "text": [
      "ERROR ON AUT AU= 'ORHUN SIBEL'\n",
      "2209\n"
     ]
    },
    {
     "name": "stderr",
     "output_type": "stream",
     "text": [
      "<suds.sax.document.Document object at 0x1120c2dd8>\n"
     ]
    },
    {
     "name": "stdout",
     "output_type": "stream",
     "text": [
      "ERROR ON AUT AU='ALTAN GUERKAN'\n",
      "2210\n"
     ]
    },
    {
     "name": "stderr",
     "output_type": "stream",
     "text": [
      "<suds.sax.document.Document object at 0x116de8a20>\n"
     ]
    },
    {
     "name": "stdout",
     "output_type": "stream",
     "text": [
      "ERROR ON AUT AU= 'GURPINAR BARIS'\n",
      "2211\n"
     ]
    },
    {
     "name": "stderr",
     "output_type": "stream",
     "text": [
      "<suds.sax.document.Document object at 0x115cb3fd0>\n"
     ]
    },
    {
     "name": "stdout",
     "output_type": "stream",
     "text": [
      "ERROR ON AUT AU='BEKTAS OSMAN'\n",
      "2212\n"
     ]
    },
    {
     "name": "stderr",
     "output_type": "stream",
     "text": [
      "<suds.sax.document.Document object at 0x115f94ba8>\n"
     ]
    },
    {
     "name": "stdout",
     "output_type": "stream",
     "text": [
      "ERROR ON AUT AU= 'OZKAYA Y. GUL'\n",
      "2213\n"
     ]
    },
    {
     "name": "stderr",
     "output_type": "stream",
     "text": [
      "<suds.sax.document.Document object at 0x115e0dd30>\n"
     ]
    },
    {
     "name": "stdout",
     "output_type": "stream",
     "text": [
      "ERROR ON AUT AU='GARIPARDIC MESUT'\n",
      "2214\n"
     ]
    },
    {
     "name": "stderr",
     "output_type": "stream",
     "text": [
      "<suds.sax.document.Document object at 0x11214b470>\n"
     ]
    },
    {
     "name": "stdout",
     "output_type": "stream",
     "text": [
      "ERROR ON AUT AU= 'YORGANCIGIL EMRE'\n",
      "2215\n"
     ]
    },
    {
     "name": "stderr",
     "output_type": "stream",
     "text": [
      "<suds.sax.document.Document object at 0x1120c2710>\n"
     ]
    },
    {
     "name": "stdout",
     "output_type": "stream",
     "text": [
      "ERROR ON AUT AU= 'YAZICI AYSE CANAN'\n",
      "2216\n"
     ]
    },
    {
     "name": "stderr",
     "output_type": "stream",
     "text": [
      "<suds.sax.document.Document object at 0x1124c7400>\n"
     ]
    },
    {
     "name": "stdout",
     "output_type": "stream",
     "text": [
      "ERROR ON AUT AU= 'KARA MUAMMER'\n",
      "2217\n"
     ]
    },
    {
     "name": "stderr",
     "output_type": "stream",
     "text": [
      "<suds.sax.document.Document object at 0x13a16e898>\n"
     ]
    },
    {
     "name": "stdout",
     "output_type": "stream",
     "text": [
      "ERROR ON AUT AU='PALA ERKAN'\n",
      "2218\n"
     ]
    },
    {
     "name": "stderr",
     "output_type": "stream",
     "text": [
      "<suds.sax.document.Document object at 0x13a16e4a8>\n"
     ]
    },
    {
     "name": "stdout",
     "output_type": "stream",
     "text": [
      "ERROR ON AUT AU= 'USLUER GAYE'\n",
      "2219\n"
     ]
    },
    {
     "name": "stderr",
     "output_type": "stream",
     "text": [
      "<suds.sax.document.Document object at 0x115cb35f8>\n"
     ]
    },
    {
     "name": "stdout",
     "output_type": "stream",
     "text": [
      "ERROR ON AUT AU= 'GUCER TULUN KAYA'\n",
      "2220\n"
     ]
    },
    {
     "name": "stderr",
     "output_type": "stream",
     "text": [
      "<suds.sax.document.Document object at 0x115f212b0>\n"
     ]
    },
    {
     "name": "stdout",
     "output_type": "stream",
     "text": [
      "ERROR ON AUT AU= 'AGACKIRAN YETKIN'\n",
      "2221\n"
     ]
    },
    {
     "name": "stderr",
     "output_type": "stream",
     "text": [
      "<suds.sax.document.Document object at 0x115f21550>\n"
     ]
    },
    {
     "name": "stdout",
     "output_type": "stream",
     "text": [
      "ERROR ON AUT AU= 'KERMEN EDA'\n",
      "2222\n"
     ]
    },
    {
     "name": "stderr",
     "output_type": "stream",
     "text": [
      "<suds.sax.document.Document object at 0x115f94a90>\n"
     ]
    },
    {
     "name": "stdout",
     "output_type": "stream",
     "text": [
      "ERROR ON AUT AU= 'ADILOGLU ALI'\n",
      "2223\n"
     ]
    },
    {
     "name": "stderr",
     "output_type": "stream",
     "text": [
      "<suds.sax.document.Document object at 0x13a183d68>\n"
     ]
    },
    {
     "name": "stdout",
     "output_type": "stream",
     "text": [
      "ERROR ON AUT AU= 'AYTAN HAKAN'\n",
      "2224\n"
     ]
    },
    {
     "name": "stderr",
     "output_type": "stream",
     "text": [
      "<suds.sax.document.Document object at 0x13a183b70>\n"
     ]
    },
    {
     "name": "stdout",
     "output_type": "stream",
     "text": [
      "ERROR ON AUT AU= 'BUDAKOGLU IREM'\n",
      "2225\n"
     ]
    },
    {
     "name": "stderr",
     "output_type": "stream",
     "text": [
      "<suds.sax.document.Document object at 0x115cb3f28>\n"
     ]
    },
    {
     "name": "stdout",
     "output_type": "stream",
     "text": [
      "ERROR ON AUT AU='TEMEL MEHMET'\n",
      "2226\n"
     ]
    },
    {
     "name": "stderr",
     "output_type": "stream",
     "text": [
      "<suds.sax.document.Document object at 0x11214b710>\n"
     ]
    },
    {
     "name": "stdout",
     "output_type": "stream",
     "text": [
      "ERROR ON AUT AU= 'DINC SEMRA'\n",
      "2227\n"
     ]
    },
    {
     "name": "stderr",
     "output_type": "stream",
     "text": [
      "<suds.sax.document.Document object at 0x117f746a0>\n"
     ]
    },
    {
     "name": "stdout",
     "output_type": "stream",
     "text": [
      "ERROR ON AUT AU= 'YILMAZ YUNUS K.'\n",
      "2228\n"
     ]
    },
    {
     "name": "stderr",
     "output_type": "stream",
     "text": [
      "<suds.sax.document.Document object at 0x115f94400>\n"
     ]
    },
    {
     "name": "stdout",
     "output_type": "stream",
     "text": [
      "ERROR ON AUT AU='TAKTAK SAFAK'\n",
      "2229\n"
     ]
    },
    {
     "name": "stderr",
     "output_type": "stream",
     "text": [
      "<suds.sax.document.Document object at 0x1124c7f60>\n"
     ]
    },
    {
     "name": "stdout",
     "output_type": "stream",
     "text": [
      "ERROR ON AUT AU= 'OLMEZOGLU ALI'\n",
      "2230\n"
     ]
    },
    {
     "name": "stderr",
     "output_type": "stream",
     "text": [
      "<suds.sax.document.Document object at 0x13a16e6a0>\n"
     ]
    },
    {
     "name": "stdout",
     "output_type": "stream",
     "text": [
      "ERROR ON AUT AU='ARSLAN MEHMET SERIF'\n",
      "2231\n"
     ]
    },
    {
     "name": "stderr",
     "output_type": "stream",
     "text": [
      "<suds.sax.document.Document object at 0x115cb32b0>\n"
     ]
    },
    {
     "name": "stdout",
     "output_type": "stream",
     "text": [
      "ERROR ON AUT AU='OZDEMIR PINAR GUZEL'\n",
      "2232\n"
     ]
    },
    {
     "name": "stderr",
     "output_type": "stream",
     "text": [
      "<suds.sax.document.Document object at 0x117f746d8>\n"
     ]
    },
    {
     "name": "stdout",
     "output_type": "stream",
     "text": [
      "ERROR ON AUT AU= 'MAKSYMOWYCH WALTER P.'\n",
      "2233\n"
     ]
    },
    {
     "name": "stderr",
     "output_type": "stream",
     "text": [
      "<suds.sax.document.Document object at 0x112a87240>\n"
     ]
    },
    {
     "name": "stdout",
     "output_type": "stream",
     "text": [
      "ERROR ON AUT AU= 'ISIK MESUT'\n",
      "2234\n"
     ]
    },
    {
     "name": "stderr",
     "output_type": "stream",
     "text": [
      "<suds.sax.document.Document object at 0x115f94dd8>\n"
     ]
    },
    {
     "name": "stdout",
     "output_type": "stream",
     "text": [
      "ERROR ON AUT AU= 'GUMUS HASAN O.'\n",
      "2235\n"
     ]
    },
    {
     "name": "stderr",
     "output_type": "stream",
     "text": [
      "<suds.sax.document.Document object at 0x113c59f98>\n"
     ]
    },
    {
     "name": "stdout",
     "output_type": "stream",
     "text": [
      "ERROR ON AUT AU= 'BASKAN SAIM'\n",
      "2236\n"
     ]
    },
    {
     "name": "stderr",
     "output_type": "stream",
     "text": [
      "<suds.sax.document.Document object at 0x113c59390>\n"
     ]
    },
    {
     "name": "stdout",
     "output_type": "stream",
     "text": [
      "ERROR ON AUT AU= 'DEVRIM ILKER'\n",
      "2237\n"
     ]
    },
    {
     "name": "stderr",
     "output_type": "stream",
     "text": [
      "<suds.sax.document.Document object at 0x115cb36a0>\n"
     ]
    },
    {
     "name": "stdout",
     "output_type": "stream",
     "text": [
      "ERROR ON AUT AU= 'KAYAALTI ZELIHA'\n",
      "2238\n"
     ]
    },
    {
     "name": "stderr",
     "output_type": "stream",
     "text": [
      "<suds.sax.document.Document object at 0x1159bc780>\n"
     ]
    },
    {
     "name": "stdout",
     "output_type": "stream",
     "text": [
      "ERROR ON AUT AU='KAYA ABDURRAHMAN'\n",
      "2239\n"
     ]
    },
    {
     "name": "stderr",
     "output_type": "stream",
     "text": [
      "<suds.sax.document.Document object at 0x1159bcba8>\n"
     ]
    },
    {
     "name": "stdout",
     "output_type": "stream",
     "text": [
      "ERROR ON AUT AU= 'SHER MUHAMMAD'\n",
      "2240\n"
     ]
    },
    {
     "name": "stderr",
     "output_type": "stream",
     "text": [
      "<suds.sax.document.Document object at 0x115f940b8>\n"
     ]
    },
    {
     "name": "stdout",
     "output_type": "stream",
     "text": [
      "ERROR ON AUT AU= 'GENCTOY GULTEKIN'\n",
      "2241\n"
     ]
    },
    {
     "name": "stderr",
     "output_type": "stream",
     "text": [
      "<suds.sax.document.Document object at 0x1120c2128>\n"
     ]
    },
    {
     "name": "stdout",
     "output_type": "stream",
     "text": [
      "ERROR ON AUT AU= 'KAYHAN FATIH'\n",
      "2242\n"
     ]
    },
    {
     "name": "stderr",
     "output_type": "stream",
     "text": [
      "<suds.sax.document.Document object at 0x1120c2400>\n"
     ]
    },
    {
     "name": "stdout",
     "output_type": "stream",
     "text": [
      "ERROR ON AUT AU= 'CAGLI KUMRAL'\n",
      "2243\n"
     ]
    },
    {
     "name": "stderr",
     "output_type": "stream",
     "text": [
      "<suds.sax.document.Document object at 0x115cb3208>\n"
     ]
    },
    {
     "name": "stdout",
     "output_type": "stream",
     "text": [
      "ERROR ON AUT AU= 'KARRER GERHARD'\n",
      "2244\n"
     ]
    },
    {
     "name": "stderr",
     "output_type": "stream",
     "text": [
      "<suds.sax.document.Document object at 0x115f210f0>\n"
     ]
    },
    {
     "name": "stdout",
     "output_type": "stream",
     "text": [
      "ERROR ON AUT AU= 'KENDALL MICHAELA'\n",
      "2245\n"
     ]
    },
    {
     "name": "stderr",
     "output_type": "stream",
     "text": [
      "<suds.sax.document.Document object at 0x115e0d438>\n"
     ]
    },
    {
     "name": "stdout",
     "output_type": "stream",
     "text": [
      "ERROR ON AUT AU='CAYIR KERIM'\n",
      "2246\n"
     ]
    },
    {
     "name": "stderr",
     "output_type": "stream",
     "text": [
      "<suds.sax.document.Document object at 0x113c814a8>\n"
     ]
    },
    {
     "name": "stdout",
     "output_type": "stream",
     "text": [
      "ERROR ON AUT AU= 'TETIK ERKAN'\n",
      "2247\n"
     ]
    },
    {
     "name": "stderr",
     "output_type": "stream",
     "text": [
      "<suds.sax.document.Document object at 0x13a16e438>\n"
     ]
    },
    {
     "name": "stdout",
     "output_type": "stream",
     "text": [
      "ERROR ON AUT AU= 'DENIZ ORHAN'\n",
      "2248\n"
     ]
    },
    {
     "name": "stderr",
     "output_type": "stream",
     "text": [
      "<suds.sax.document.Document object at 0x116e4eb70>\n"
     ]
    },
    {
     "name": "stdout",
     "output_type": "stream",
     "text": [
      "ERROR ON AUT AU= 'AYSEV AHMET DERYA'\n",
      "2249\n"
     ]
    },
    {
     "name": "stderr",
     "output_type": "stream",
     "text": [
      "<suds.sax.document.Document object at 0x116de8cf8>\n"
     ]
    },
    {
     "name": "stdout",
     "output_type": "stream",
     "text": [
      "ERROR ON AUT AU= 'DEMIRCI H. IBRAHIM'\n",
      "2250\n"
     ]
    },
    {
     "name": "stderr",
     "output_type": "stream",
     "text": [
      "<suds.sax.document.Document object at 0x115b25b70>\n"
     ]
    },
    {
     "name": "stdout",
     "output_type": "stream",
     "text": [
      "ERROR ON AUT AU='POLAT CIHAT'\n",
      "2251\n"
     ]
    },
    {
     "name": "stderr",
     "output_type": "stream",
     "text": [
      "<suds.sax.document.Document object at 0x115e0d390>\n"
     ]
    },
    {
     "name": "stdout",
     "output_type": "stream",
     "text": [
      "ERROR ON AUT AU='CAKMAK CENAP'\n",
      "2252\n"
     ]
    },
    {
     "name": "stderr",
     "output_type": "stream",
     "text": [
      "<suds.sax.document.Document object at 0x116de8ba8>\n"
     ]
    },
    {
     "name": "stdout",
     "output_type": "stream",
     "text": [
      "ERROR ON AUT AU='AKKAYA NEVZAT'\n",
      "2253\n"
     ]
    },
    {
     "name": "stderr",
     "output_type": "stream",
     "text": [
      "<suds.sax.document.Document object at 0x1420386a0>\n"
     ]
    },
    {
     "name": "stdout",
     "output_type": "stream",
     "text": [
      "ERROR ON AUT AU= 'CETIN NURULLAH'\n",
      "2254\n"
     ]
    },
    {
     "name": "stderr",
     "output_type": "stream",
     "text": [
      "<suds.sax.document.Document object at 0x115b25710>\n"
     ]
    },
    {
     "name": "stdout",
     "output_type": "stream",
     "text": [
      "ERROR ON AUT AU= 'TUNC AZIZ'\n",
      "2255\n"
     ]
    },
    {
     "name": "stderr",
     "output_type": "stream",
     "text": [
      "<suds.sax.document.Document object at 0x115e0dac8>\n"
     ]
    },
    {
     "name": "stdout",
     "output_type": "stream",
     "text": [
      "ERROR ON AUT AU= 'TUTAK MUSTAFA'\n",
      "2256\n"
     ]
    },
    {
     "name": "stderr",
     "output_type": "stream",
     "text": [
      "<suds.sax.document.Document object at 0x13a16e710>\n"
     ]
    },
    {
     "name": "stdout",
     "output_type": "stream",
     "text": [
      "ERROR ON AUT AU='KANDEMIRLI FATMA'\n",
      "2257\n"
     ]
    },
    {
     "name": "stderr",
     "output_type": "stream",
     "text": [
      "<suds.sax.document.Document object at 0x13a16e390>\n"
     ]
    },
    {
     "name": "stdout",
     "output_type": "stream",
     "text": [
      "ERROR ON AUT AU= 'BUYUKUYSAL MUSTAFA CAGATAY'\n",
      "2258\n"
     ]
    },
    {
     "name": "stderr",
     "output_type": "stream",
     "text": [
      "<suds.sax.document.Document object at 0x1159bc438>\n"
     ]
    },
    {
     "name": "stdout",
     "output_type": "stream",
     "text": [
      "ERROR ON AUT AU='SEHITOGLU IBRAHIM'\n",
      "2259\n"
     ]
    },
    {
     "name": "stderr",
     "output_type": "stream",
     "text": [
      "<suds.sax.document.Document object at 0x115976320>\n"
     ]
    },
    {
     "name": "stdout",
     "output_type": "stream",
     "text": [
      "ERROR ON AUT AU= 'SENOCAKY AYSEGUEL'\n",
      "2260\n"
     ]
    },
    {
     "name": "stderr",
     "output_type": "stream",
     "text": [
      "<suds.sax.document.Document object at 0x115b25e10>\n"
     ]
    },
    {
     "name": "stdout",
     "output_type": "stream",
     "text": [
      "ERROR ON AUT AU= 'GUNVAR TOLGA'\n",
      "2261\n"
     ]
    },
    {
     "name": "stderr",
     "output_type": "stream",
     "text": [
      "<suds.sax.document.Document object at 0x1420386a0>\n"
     ]
    },
    {
     "name": "stdout",
     "output_type": "stream",
     "text": [
      "ERROR ON AUT AU='ORAN ISMAIL'\n",
      "2262\n"
     ]
    },
    {
     "name": "stderr",
     "output_type": "stream",
     "text": [
      "<suds.sax.document.Document object at 0x116e4e278>\n"
     ]
    },
    {
     "name": "stdout",
     "output_type": "stream",
     "text": [
      "ERROR ON AUT AU='AKTAS CEVAT'\n",
      "2263\n"
     ]
    },
    {
     "name": "stderr",
     "output_type": "stream",
     "text": [
      "<suds.sax.document.Document object at 0x112a87898>\n"
     ]
    },
    {
     "name": "stdout",
     "output_type": "stream",
     "text": [
      "ERROR ON AUT AU= 'KULAC IBRAHIM'\n",
      "2264\n"
     ]
    },
    {
     "name": "stderr",
     "output_type": "stream",
     "text": [
      "<suds.sax.document.Document object at 0x1159bcef0>\n"
     ]
    },
    {
     "name": "stdout",
     "output_type": "stream",
     "text": [
      "ERROR ON AUT AU= 'CANDER SONER'\n",
      "2265\n"
     ]
    },
    {
     "name": "stderr",
     "output_type": "stream",
     "text": [
      "<suds.sax.document.Document object at 0x1161cf860>\n"
     ]
    },
    {
     "name": "stdout",
     "output_type": "stream",
     "text": [
      "ERROR ON AUT AU= 'BASAY BURGE KABUKCU'\n",
      "2266\n"
     ]
    },
    {
     "name": "stderr",
     "output_type": "stream",
     "text": [
      "<suds.sax.document.Document object at 0x116de8cf8>\n"
     ]
    },
    {
     "name": "stdout",
     "output_type": "stream",
     "text": [
      "ERROR ON AUT AU= 'BERGER JENS'\n",
      "2267\n"
     ]
    },
    {
     "name": "stderr",
     "output_type": "stream",
     "text": [
      "<suds.sax.document.Document object at 0x13a16e208>\n"
     ]
    },
    {
     "name": "stdout",
     "output_type": "stream",
     "text": [
      "ERROR ON AUT AU= 'KILINC SEYMA'\n",
      "2268\n"
     ]
    },
    {
     "name": "stderr",
     "output_type": "stream",
     "text": [
      "<suds.sax.document.Document object at 0x117f74630>\n"
     ]
    },
    {
     "name": "stdout",
     "output_type": "stream",
     "text": [
      "ERROR ON AUT AU='ERDEM FATMA HIZAL'\n",
      "2269\n"
     ]
    },
    {
     "name": "stderr",
     "output_type": "stream",
     "text": [
      "<suds.sax.document.Document object at 0x112a879e8>\n"
     ]
    },
    {
     "name": "stdout",
     "output_type": "stream",
     "text": [
      "ERROR ON AUT AU= 'METE MAHMUT'\n",
      "2270\n"
     ]
    },
    {
     "name": "stderr",
     "output_type": "stream",
     "text": [
      "<suds.sax.document.Document object at 0x1159bc780>\n"
     ]
    },
    {
     "name": "stdout",
     "output_type": "stream",
     "text": [
      "ERROR ON AUT AU= 'CEKEN FATMA'\n",
      "2271\n"
     ]
    },
    {
     "name": "stderr",
     "output_type": "stream",
     "text": [
      "<suds.sax.document.Document object at 0x115f94400>\n"
     ]
    },
    {
     "name": "stdout",
     "output_type": "stream",
     "text": [
      "ERROR ON AUT AU='BABA SAMET'\n",
      "2272\n"
     ]
    },
    {
     "name": "stderr",
     "output_type": "stream",
     "text": [
      "<suds.sax.document.Document object at 0x115f949e8>\n"
     ]
    },
    {
     "name": "stdout",
     "output_type": "stream",
     "text": [
      "ERROR ON AUT AU='HAKYEMEZ ISMAIL NECATI'\n",
      "2273\n"
     ]
    },
    {
     "name": "stderr",
     "output_type": "stream",
     "text": [
      "<suds.sax.document.Document object at 0x13a16e390>\n"
     ]
    },
    {
     "name": "stdout",
     "output_type": "stream",
     "text": [
      "ERROR ON AUT AU='POLAT HACI'\n",
      "2274\n"
     ]
    },
    {
     "name": "stderr",
     "output_type": "stream",
     "text": [
      "<suds.sax.document.Document object at 0x115cde4e0>\n"
     ]
    },
    {
     "name": "stdout",
     "output_type": "stream",
     "text": [
      "ERROR ON AUT AU= 'SEVINC AHMET H.'\n",
      "2275\n"
     ]
    },
    {
     "name": "stderr",
     "output_type": "stream",
     "text": [
      "<suds.sax.document.Document object at 0x115cdeeb8>\n"
     ]
    },
    {
     "name": "stdout",
     "output_type": "stream",
     "text": [
      "ERROR ON AUT AU='DEMIRCI HAKAN'\n",
      "2276\n"
     ]
    },
    {
     "name": "stderr",
     "output_type": "stream",
     "text": [
      "<suds.sax.document.Document object at 0x1159bcfd0>\n"
     ]
    },
    {
     "name": "stdout",
     "output_type": "stream",
     "text": [
      "ERROR ON AUT AU= 'KUTHI MERIH'\n",
      "2277\n"
     ]
    },
    {
     "name": "stderr",
     "output_type": "stream",
     "text": [
      "<suds.sax.document.Document object at 0x1124c7908>\n"
     ]
    },
    {
     "name": "stdout",
     "output_type": "stream",
     "text": [
      "ERROR ON AUT AU= 'OZDEMIR ISIL'\n",
      "2278\n"
     ]
    },
    {
     "name": "stderr",
     "output_type": "stream",
     "text": [
      "<suds.sax.document.Document object at 0x1124c7dd8>\n"
     ]
    },
    {
     "name": "stdout",
     "output_type": "stream",
     "text": [
      "ERROR ON AUT AU= 'KAMAK GULEN'\n",
      "2279\n"
     ]
    },
    {
     "name": "stderr",
     "output_type": "stream",
     "text": [
      "<suds.sax.document.Document object at 0x13a16ebe0>\n"
     ]
    },
    {
     "name": "stdout",
     "output_type": "stream",
     "text": [
      "ERROR ON AUT AU= 'OZDAMAR NILGUN'\n",
      "2280\n"
     ]
    },
    {
     "name": "stderr",
     "output_type": "stream",
     "text": [
      "<suds.sax.document.Document object at 0x113c59940>\n"
     ]
    },
    {
     "name": "stdout",
     "output_type": "stream",
     "text": [
      "ERROR ON AUT AU= 'KOCKAR M. CEM'\n",
      "2281\n"
     ]
    },
    {
     "name": "stderr",
     "output_type": "stream",
     "text": [
      "<suds.sax.document.Document object at 0x113c59fd0>\n"
     ]
    },
    {
     "name": "stdout",
     "output_type": "stream",
     "text": [
      "ERROR ON AUT AU='AYDIN BUNYAMIN'\n",
      "2282\n"
     ]
    },
    {
     "name": "stderr",
     "output_type": "stream",
     "text": [
      "<suds.sax.document.Document object at 0x142038d30>\n"
     ]
    },
    {
     "name": "stdout",
     "output_type": "stream",
     "text": [
      "ERROR ON AUT AU= 'OZGERMEN BASAK BOZTOK'\n",
      "2283\n"
     ]
    },
    {
     "name": "stderr",
     "output_type": "stream",
     "text": [
      "<suds.sax.document.Document object at 0x115cb3978>\n"
     ]
    },
    {
     "name": "stdout",
     "output_type": "stream",
     "text": [
      "ERROR ON AUT AU= 'KEBAPCI MEDINE NUR'\n",
      "2284\n"
     ]
    },
    {
     "name": "stderr",
     "output_type": "stream",
     "text": [
      "<suds.sax.document.Document object at 0x1124c7860>\n"
     ]
    },
    {
     "name": "stdout",
     "output_type": "stream",
     "text": [
      "ERROR ON AUT AU= 'BASIBUYUK MUSTAFA'\n",
      "2285\n"
     ]
    },
    {
     "name": "stderr",
     "output_type": "stream",
     "text": [
      "<suds.sax.document.Document object at 0x1120c22b0>\n"
     ]
    },
    {
     "name": "stdout",
     "output_type": "stream",
     "text": [
      "ERROR ON AUT AU= 'AYDIN SALIH'\n",
      "2286\n"
     ]
    },
    {
     "name": "stderr",
     "output_type": "stream",
     "text": [
      "<suds.sax.document.Document object at 0x115f21d68>\n"
     ]
    },
    {
     "name": "stdout",
     "output_type": "stream",
     "text": [
      "ERROR ON AUT AU= 'OVER UFUK'\n",
      "2287\n"
     ]
    },
    {
     "name": "stderr",
     "output_type": "stream",
     "text": [
      "<suds.sax.document.Document object at 0x115f21208>\n"
     ]
    },
    {
     "name": "stdout",
     "output_type": "stream",
     "text": [
      "ERROR ON AUT AU= 'KOK EMEL'\n",
      "2288\n"
     ]
    },
    {
     "name": "stderr",
     "output_type": "stream",
     "text": [
      "<suds.sax.document.Document object at 0x13a3fd320>\n"
     ]
    },
    {
     "name": "stdout",
     "output_type": "stream",
     "text": [
      "ERROR ON AUT AU= 'YALCIN NUMAN'\n",
      "2289\n"
     ]
    },
    {
     "name": "stderr",
     "output_type": "stream",
     "text": [
      "<suds.sax.document.Document object at 0x13a3fd2e8>\n"
     ]
    },
    {
     "name": "stdout",
     "output_type": "stream",
     "text": [
      "ERROR ON AUT AU='AKYILDIRIM ERDINC'\n",
      "2290\n"
     ]
    },
    {
     "name": "stderr",
     "output_type": "stream",
     "text": [
      "<suds.sax.document.Document object at 0x13a3fd898>\n"
     ]
    },
    {
     "name": "stdout",
     "output_type": "stream",
     "text": [
      "ERROR ON AUT AU= 'TURAN HAKAN'\n",
      "2291\n"
     ]
    },
    {
     "name": "stderr",
     "output_type": "stream",
     "text": [
      "<suds.sax.document.Document object at 0x115cb3dd8>\n"
     ]
    },
    {
     "name": "stdout",
     "output_type": "stream",
     "text": [
      "ERROR ON AUT AU= 'HISAR OLCAY'\n",
      "2292\n"
     ]
    },
    {
     "name": "stderr",
     "output_type": "stream",
     "text": [
      "<suds.sax.document.Document object at 0x13a1839e8>\n"
     ]
    },
    {
     "name": "stdout",
     "output_type": "stream",
     "text": [
      "ERROR ON AUT AU='KOKLU HAYRETDIN'\n",
      "2293\n"
     ]
    },
    {
     "name": "stderr",
     "output_type": "stream",
     "text": [
      "<suds.sax.document.Document object at 0x115f94ba8>\n"
     ]
    },
    {
     "name": "stdout",
     "output_type": "stream",
     "text": [
      "ERROR ON AUT AU= 'SOZUBIR SELAMI'\n",
      "2294\n"
     ]
    },
    {
     "name": "stderr",
     "output_type": "stream",
     "text": [
      "<suds.sax.document.Document object at 0x1124c7908>\n"
     ]
    },
    {
     "name": "stdout",
     "output_type": "stream",
     "text": [
      "ERROR ON AUT AU='KOCAK A. KADIR'\n",
      "2295\n"
     ]
    },
    {
     "name": "stderr",
     "output_type": "stream",
     "text": [
      "<suds.sax.document.Document object at 0x116e79e10>\n"
     ]
    },
    {
     "name": "stdout",
     "output_type": "stream",
     "text": [
      "ERROR ON AUT AU= 'KERIMOGLU OZLEM SECIL'\n",
      "2296\n"
     ]
    },
    {
     "name": "stderr",
     "output_type": "stream",
     "text": [
      "<suds.sax.document.Document object at 0x117f747f0>\n"
     ]
    },
    {
     "name": "stdout",
     "output_type": "stream",
     "text": [
      "ERROR ON AUT AU= 'TASKIN LALE'\n",
      "2297\n"
     ]
    },
    {
     "name": "stderr",
     "output_type": "stream",
     "text": [
      "<suds.sax.document.Document object at 0x115cb3208>\n"
     ]
    },
    {
     "name": "stdout",
     "output_type": "stream",
     "text": [
      "ERROR ON AUT AU= 'KALKANCI OZGUR'\n",
      "2298\n"
     ]
    },
    {
     "name": "stderr",
     "output_type": "stream",
     "text": [
      "<suds.sax.document.Document object at 0x116de8518>\n"
     ]
    },
    {
     "name": "stdout",
     "output_type": "stream",
     "text": [
      "ERROR ON AUT AU= 'UZMEZ OZLEM OZDEN'\n",
      "2299\n"
     ]
    },
    {
     "name": "stderr",
     "output_type": "stream",
     "text": [
      "<suds.sax.document.Document object at 0x115f94fd0>\n"
     ]
    },
    {
     "name": "stdout",
     "output_type": "stream",
     "text": [
      "ERROR ON AUT AU= 'SEVINDIK HANDAN G.'\n",
      "2300\n"
     ]
    },
    {
     "name": "stderr",
     "output_type": "stream",
     "text": [
      "<suds.sax.document.Document object at 0x1124c7668>\n"
     ]
    },
    {
     "name": "stdout",
     "output_type": "stream",
     "text": [
      "ERROR ON AUT AU='ERDURMUS MESUT'\n",
      "2301\n"
     ]
    },
    {
     "name": "stderr",
     "output_type": "stream",
     "text": [
      "<suds.sax.document.Document object at 0x112a87128>\n"
     ]
    },
    {
     "name": "stdout",
     "output_type": "stream",
     "text": [
      "ERROR ON AUT AU= 'KATIRCI YAVUZ'\n",
      "2302\n"
     ]
    },
    {
     "name": "stderr",
     "output_type": "stream",
     "text": [
      "<suds.sax.document.Document object at 0x117f741d0>\n"
     ]
    },
    {
     "name": "stdout",
     "output_type": "stream",
     "text": [
      "ERROR ON AUT AU= 'ASLAY SEMRA'\n",
      "2303\n"
     ]
    },
    {
     "name": "stderr",
     "output_type": "stream",
     "text": [
      "<suds.sax.document.Document object at 0x115cb3358>\n"
     ]
    },
    {
     "name": "stdout",
     "output_type": "stream",
     "text": [
      "ERROR ON AUT AU= 'UENLUE ERCUEMENT'\n",
      "2304\n"
     ]
    },
    {
     "name": "stderr",
     "output_type": "stream",
     "text": [
      "<suds.sax.document.Document object at 0x115b253c8>\n"
     ]
    },
    {
     "name": "stdout",
     "output_type": "stream",
     "text": [
      "ERROR ON AUT AU='OZTURK TULUN'\n",
      "2305\n"
     ]
    },
    {
     "name": "stderr",
     "output_type": "stream",
     "text": [
      "<suds.sax.document.Document object at 0x115b25080>\n"
     ]
    },
    {
     "name": "stdout",
     "output_type": "stream",
     "text": [
      "ERROR ON AUT AU='OZCAN UGUR'\n",
      "2306\n"
     ]
    },
    {
     "name": "stderr",
     "output_type": "stream",
     "text": [
      "<suds.sax.document.Document object at 0x1124c7c18>\n"
     ]
    },
    {
     "name": "stdout",
     "output_type": "stream",
     "text": [
      "ERROR ON AUT AU= 'TURKOGLU ISMAIL'\n",
      "2307\n"
     ]
    },
    {
     "name": "stderr",
     "output_type": "stream",
     "text": [
      "<suds.sax.document.Document object at 0x13a3fd518>\n"
     ]
    },
    {
     "name": "stdout",
     "output_type": "stream",
     "text": [
      "ERROR ON AUT AU= 'EMIRIK MUSTAFA'\n",
      "2308\n"
     ]
    },
    {
     "name": "stderr",
     "output_type": "stream",
     "text": [
      "<suds.sax.document.Document object at 0x1159bc6a0>\n"
     ]
    },
    {
     "name": "stdout",
     "output_type": "stream",
     "text": [
      "ERROR ON AUT AU= 'AKSU HATICE'\n",
      "2309\n"
     ]
    },
    {
     "name": "stderr",
     "output_type": "stream",
     "text": [
      "<suds.sax.document.Document object at 0x115cb32b0>\n"
     ]
    },
    {
     "name": "stdout",
     "output_type": "stream",
     "text": [
      "ERROR ON AUT AU= 'AKDEMIR RAMAZAN'\n",
      "2310\n"
     ]
    },
    {
     "name": "stderr",
     "output_type": "stream",
     "text": [
      "<suds.sax.document.Document object at 0x113c81ef0>\n"
     ]
    },
    {
     "name": "stdout",
     "output_type": "stream",
     "text": [
      "ERROR ON AUT AU= 'HTWAY ZARNI'\n",
      "2311\n"
     ]
    },
    {
     "name": "stderr",
     "output_type": "stream",
     "text": [
      "<suds.sax.document.Document object at 0x113c81748>\n"
     ]
    },
    {
     "name": "stdout",
     "output_type": "stream",
     "text": [
      "ERROR ON AUT AU= 'OZALP V. CENGIZ'\n",
      "2312\n"
     ]
    },
    {
     "name": "stderr",
     "output_type": "stream",
     "text": [
      "<suds.sax.document.Document object at 0x1124c7278>\n"
     ]
    },
    {
     "name": "stdout",
     "output_type": "stream",
     "text": [
      "ERROR ON AUT AU= 'DENIZ CAGLA'\n",
      "2313\n"
     ]
    },
    {
     "name": "stderr",
     "output_type": "stream",
     "text": [
      "<suds.sax.document.Document object at 0x115e0d320>\n"
     ]
    },
    {
     "name": "stdout",
     "output_type": "stream",
     "text": [
      "ERROR ON AUT AU= 'TAVARES PJS'\n",
      "2314\n"
     ]
    },
    {
     "name": "stderr",
     "output_type": "stream",
     "text": [
      "<suds.sax.document.Document object at 0x115e0d780>\n"
     ]
    },
    {
     "name": "stdout",
     "output_type": "stream",
     "text": [
      "ERROR ON AUT AU= 'KOSE OZAY'\n",
      "2315\n"
     ]
    },
    {
     "name": "stderr",
     "output_type": "stream",
     "text": [
      "<suds.sax.document.Document object at 0x115f21ef0>\n"
     ]
    },
    {
     "name": "stdout",
     "output_type": "stream",
     "text": [
      "ERROR ON AUT AU='OZ MUSTAFA'\n",
      "2316\n"
     ]
    },
    {
     "name": "stderr",
     "output_type": "stream",
     "text": [
      "<suds.sax.document.Document object at 0x115b25fd0>\n"
     ]
    },
    {
     "name": "stdout",
     "output_type": "stream",
     "text": [
      "ERROR ON AUT AU= 'OZAKPINAR OZLEM'\n",
      "2317\n"
     ]
    },
    {
     "name": "stderr",
     "output_type": "stream",
     "text": [
      "<suds.sax.document.Document object at 0x113c81ef0>\n"
     ]
    },
    {
     "name": "stdout",
     "output_type": "stream",
     "text": [
      "ERROR ON AUT AU= 'HAMIDI MEHMET M.'\n",
      "2318\n"
     ]
    },
    {
     "name": "stderr",
     "output_type": "stream",
     "text": [
      "<suds.sax.document.Document object at 0x1124c7550>\n"
     ]
    },
    {
     "name": "stdout",
     "output_type": "stream",
     "text": [
      "ERROR ON AUT AU= 'CICEK AHMET'\n",
      "2319\n"
     ]
    },
    {
     "name": "stderr",
     "output_type": "stream",
     "text": [
      "<suds.sax.document.Document object at 0x117f74c88>\n"
     ]
    },
    {
     "name": "stdout",
     "output_type": "stream",
     "text": [
      "ERROR ON AUT AU='SARI GOZDE'\n",
      "2320\n"
     ]
    },
    {
     "name": "stderr",
     "output_type": "stream",
     "text": [
      "<suds.sax.document.Document object at 0x113c59cf8>\n"
     ]
    },
    {
     "name": "stdout",
     "output_type": "stream",
     "text": [
      "ERROR ON AUT AU= 'YAZAR UGUR'\n",
      "2321\n"
     ]
    },
    {
     "name": "stderr",
     "output_type": "stream",
     "text": [
      "<suds.sax.document.Document object at 0x115f211d0>\n"
     ]
    },
    {
     "name": "stdout",
     "output_type": "stream",
     "text": [
      "ERROR ON AUT AU= 'KUCUKOGLU M. SERDAR'\n",
      "2322\n"
     ]
    },
    {
     "name": "stderr",
     "output_type": "stream",
     "text": [
      "<suds.sax.document.Document object at 0x142038f60>\n"
     ]
    },
    {
     "name": "stdout",
     "output_type": "stream",
     "text": [
      "ERROR ON AUT AU= 'EKEN LEVENT'\n",
      "2323\n"
     ]
    },
    {
     "name": "stderr",
     "output_type": "stream",
     "text": [
      "<suds.sax.document.Document object at 0x115cde550>\n"
     ]
    },
    {
     "name": "stdout",
     "output_type": "stream",
     "text": [
      "ERROR ON AUT AU= 'CENGEL ADYE'\n",
      "2324\n"
     ]
    },
    {
     "name": "stderr",
     "output_type": "stream",
     "text": [
      "<suds.sax.document.Document object at 0x115cb3e10>\n"
     ]
    },
    {
     "name": "stdout",
     "output_type": "stream",
     "text": [
      "ERROR ON AUT AU= 'KIRIS TUNCAY'\n",
      "2325\n"
     ]
    },
    {
     "name": "stderr",
     "output_type": "stream",
     "text": [
      "<suds.sax.document.Document object at 0x1242dd9b0>\n"
     ]
    },
    {
     "name": "stdout",
     "output_type": "stream",
     "text": [
      "ERROR ON AUT AU= 'KAPTAN HAKAN'\n",
      "2326\n"
     ]
    },
    {
     "name": "stderr",
     "output_type": "stream",
     "text": [
      "<suds.sax.document.Document object at 0x1242dd978>\n"
     ]
    },
    {
     "name": "stdout",
     "output_type": "stream",
     "text": [
      "ERROR ON AUT AU= 'AKSOY TAMER'\n",
      "2327\n"
     ]
    },
    {
     "name": "stderr",
     "output_type": "stream",
     "text": [
      "<suds.sax.document.Document object at 0x115e0df60>\n"
     ]
    },
    {
     "name": "stdout",
     "output_type": "stream",
     "text": [
      "ERROR ON AUT AU= 'JEGDIC K'\n",
      "2328\n"
     ]
    },
    {
     "name": "stderr",
     "output_type": "stream",
     "text": [
      "<suds.sax.document.Document object at 0x1159761d0>\n"
     ]
    },
    {
     "name": "stdout",
     "output_type": "stream",
     "text": [
      "ERROR ON AUT AU= 'CAN BEHZAT'\n",
      "2329\n"
     ]
    },
    {
     "name": "stderr",
     "output_type": "stream",
     "text": [
      "<suds.sax.document.Document object at 0x115b25438>\n"
     ]
    },
    {
     "name": "stdout",
     "output_type": "stream",
     "text": [
      "ERROR ON AUT AU= 'BASPINAR M. SERHAT'\n",
      "2330\n"
     ]
    },
    {
     "name": "stderr",
     "output_type": "stream",
     "text": [
      "<suds.sax.document.Document object at 0x116e4e668>\n"
     ]
    },
    {
     "name": "stdout",
     "output_type": "stream",
     "text": [
      "ERROR ON AUT AU= 'KAYA MELINIET GUNGOR'\n",
      "2331\n"
     ]
    },
    {
     "name": "stderr",
     "output_type": "stream",
     "text": [
      "<suds.sax.document.Document object at 0x115f21e80>\n"
     ]
    },
    {
     "name": "stdout",
     "output_type": "stream",
     "text": [
      "ERROR ON AUT AU='YILDRIM SAHIN'\n",
      "2332\n"
     ]
    },
    {
     "name": "stderr",
     "output_type": "stream",
     "text": [
      "<suds.sax.document.Document object at 0x115f21ef0>\n"
     ]
    },
    {
     "name": "stdout",
     "output_type": "stream",
     "text": [
      "ERROR ON AUT AU= 'AKYOL ALI'\n",
      "2333\n"
     ]
    },
    {
     "name": "stderr",
     "output_type": "stream",
     "text": [
      "<suds.sax.document.Document object at 0x1242dda58>\n"
     ]
    },
    {
     "name": "stdout",
     "output_type": "stream",
     "text": [
      "ERROR ON AUT AU='CAKIR OZLEM OZER'\n",
      "2334\n"
     ]
    },
    {
     "name": "stderr",
     "output_type": "stream",
     "text": [
      "<suds.sax.document.Document object at 0x112a87198>\n"
     ]
    },
    {
     "name": "stdout",
     "output_type": "stream",
     "text": [
      "ERROR ON AUT AU= 'BAS AHMET'\n",
      "2335\n"
     ]
    },
    {
     "name": "stderr",
     "output_type": "stream",
     "text": [
      "<suds.sax.document.Document object at 0x112a87198>\n"
     ]
    },
    {
     "name": "stdout",
     "output_type": "stream",
     "text": [
      "ERROR ON AUT AU= 'TOMAN HUSEYIN'\n",
      "2336\n"
     ]
    },
    {
     "name": "stderr",
     "output_type": "stream",
     "text": [
      "<suds.sax.document.Document object at 0x1120c22b0>\n"
     ]
    },
    {
     "name": "stdout",
     "output_type": "stream",
     "text": [
      "ERROR ON AUT AU= 'MUTLUAY RUYA'\n",
      "2337\n"
     ]
    },
    {
     "name": "stderr",
     "output_type": "stream",
     "text": [
      "<suds.sax.document.Document object at 0x142038240>\n"
     ]
    },
    {
     "name": "stdout",
     "output_type": "stream",
     "text": [
      "ERROR ON AUT AU= 'KAHLER ELKE'\n",
      "2338\n"
     ]
    },
    {
     "name": "stderr",
     "output_type": "stream",
     "text": [
      "<suds.sax.document.Document object at 0x113c597b8>\n"
     ]
    },
    {
     "name": "stdout",
     "output_type": "stream",
     "text": [
      "ERROR ON AUT AU='EROGLU HASAN'\n",
      "2339\n"
     ]
    },
    {
     "name": "stderr",
     "output_type": "stream",
     "text": [
      "<suds.sax.document.Document object at 0x115e0d748>\n"
     ]
    },
    {
     "name": "stdout",
     "output_type": "stream",
     "text": [
      "ERROR ON AUT AU= 'DAGLIOGLU ERDEM'\n",
      "2340\n"
     ]
    },
    {
     "name": "stderr",
     "output_type": "stream",
     "text": [
      "<suds.sax.document.Document object at 0x1124c7940>\n"
     ]
    },
    {
     "name": "stdout",
     "output_type": "stream",
     "text": [
      "ERROR ON AUT AU='USLUKAYA OMER'\n",
      "2341\n"
     ]
    },
    {
     "name": "stderr",
     "output_type": "stream",
     "text": [
      "<suds.sax.document.Document object at 0x1124c75c0>\n"
     ]
    },
    {
     "name": "stdout",
     "output_type": "stream",
     "text": [
      "ERROR ON AUT AU= 'YAZILITAS FATMA'\n",
      "2342\n"
     ]
    },
    {
     "name": "stderr",
     "output_type": "stream",
     "text": [
      "<suds.sax.document.Document object at 0x1120c2fd0>\n"
     ]
    },
    {
     "name": "stdout",
     "output_type": "stream",
     "text": [
      "ERROR ON AUT AU= 'PITHON MATHEUS M.'\n",
      "2343\n"
     ]
    },
    {
     "name": "stderr",
     "output_type": "stream",
     "text": [
      "<suds.sax.document.Document object at 0x13a3fd2b0>\n"
     ]
    },
    {
     "name": "stdout",
     "output_type": "stream",
     "text": [
      "ERROR ON AUT AU='YILDIRIM MELAHAT'\n",
      "2344\n"
     ]
    },
    {
     "name": "stderr",
     "output_type": "stream",
     "text": [
      "<suds.sax.document.Document object at 0x11214b390>\n"
     ]
    },
    {
     "name": "stdout",
     "output_type": "stream",
     "text": [
      "ERROR ON AUT AU='SUNGU HILMI'\n",
      "2345\n"
     ]
    },
    {
     "name": "stderr",
     "output_type": "stream",
     "text": [
      "<suds.sax.document.Document object at 0x1120c2668>\n"
     ]
    },
    {
     "name": "stdout",
     "output_type": "stream",
     "text": [
      "ERROR ON AUT AU='CALISKAN EMEL'\n",
      "2346\n"
     ]
    },
    {
     "name": "stderr",
     "output_type": "stream",
     "text": [
      "<suds.sax.document.Document object at 0x115cde630>\n"
     ]
    },
    {
     "name": "stdout",
     "output_type": "stream",
     "text": [
      "ERROR ON AUT AU='SAHIN ZIVER'\n",
      "2347\n"
     ]
    },
    {
     "name": "stderr",
     "output_type": "stream",
     "text": [
      "<suds.sax.document.Document object at 0x115cdef98>\n"
     ]
    },
    {
     "name": "stdout",
     "output_type": "stream",
     "text": [
      "ERROR ON AUT AU= 'CIVI MELEK'\n",
      "2348\n"
     ]
    },
    {
     "name": "stderr",
     "output_type": "stream",
     "text": [
      "<suds.sax.document.Document object at 0x1159bc278>\n"
     ]
    },
    {
     "name": "stdout",
     "output_type": "stream",
     "text": [
      "ERROR ON AUT AU='OCAK HAMZA YASAR'\n",
      "2349\n"
     ]
    },
    {
     "name": "stderr",
     "output_type": "stream",
     "text": [
      "<suds.sax.document.Document object at 0x116de80f0>\n"
     ]
    },
    {
     "name": "stdout",
     "output_type": "stream",
     "text": [
      "ERROR ON AUT AU= 'DAGGULI MANSUR'\n",
      "2350\n"
     ]
    },
    {
     "name": "stderr",
     "output_type": "stream",
     "text": [
      "<suds.sax.document.Document object at 0x13a183240>\n"
     ]
    },
    {
     "name": "stdout",
     "output_type": "stream",
     "text": [
      "ERROR ON AUT AU= 'SEVINC OEZGUER'\n",
      "2351\n"
     ]
    },
    {
     "name": "stderr",
     "output_type": "stream",
     "text": [
      "<suds.sax.document.Document object at 0x115e0d1d0>\n"
     ]
    },
    {
     "name": "stdout",
     "output_type": "stream",
     "text": [
      "ERROR ON AUT AU= 'ARRIAZA MANUEL'\n",
      "2352\n"
     ]
    },
    {
     "name": "stderr",
     "output_type": "stream",
     "text": [
      "<suds.sax.document.Document object at 0x115cdee80>\n"
     ]
    },
    {
     "name": "stdout",
     "output_type": "stream",
     "text": [
      "ERROR ON AUT AU='SAHIN MEHMET A.'\n",
      "2353\n"
     ]
    },
    {
     "name": "stderr",
     "output_type": "stream",
     "text": [
      "<suds.sax.document.Document object at 0x115b25da0>\n"
     ]
    },
    {
     "name": "stdout",
     "output_type": "stream",
     "text": [
      "ERROR ON AUT AU='BALI ILHAN'\n",
      "2354\n"
     ]
    },
    {
     "name": "stderr",
     "output_type": "stream",
     "text": [
      "<suds.sax.document.Document object at 0x1120c25c0>\n"
     ]
    },
    {
     "name": "stdout",
     "output_type": "stream",
     "text": [
      "ERROR ON AUT AU='KOSE ETEM'\n",
      "2355\n"
     ]
    },
    {
     "name": "stderr",
     "output_type": "stream",
     "text": [
      "<suds.sax.document.Document object at 0x115cb3828>\n"
     ]
    },
    {
     "name": "stdout",
     "output_type": "stream",
     "text": [
      "ERROR ON AUT AU= 'MIZRAK CIHAN'\n",
      "2356\n"
     ]
    },
    {
     "name": "stderr",
     "output_type": "stream",
     "text": [
      "<suds.sax.document.Document object at 0x13a183208>\n"
     ]
    },
    {
     "name": "stdout",
     "output_type": "stream",
     "text": [
      "ERROR ON AUT AU= 'OZCELIK YILMAZ'\n",
      "2357\n"
     ]
    },
    {
     "name": "stderr",
     "output_type": "stream",
     "text": [
      "<suds.sax.document.Document object at 0x115e0d2b0>\n"
     ]
    },
    {
     "name": "stdout",
     "output_type": "stream",
     "text": [
      "ERROR ON AUT AU= 'BAYINDIR NIDA'\n",
      "2358\n"
     ]
    },
    {
     "name": "stderr",
     "output_type": "stream",
     "text": [
      "<suds.sax.document.Document object at 0x115f94908>\n"
     ]
    },
    {
     "name": "stdout",
     "output_type": "stream",
     "text": [
      "ERROR ON AUT AU= 'GUMUS KAZIM Z.'\n",
      "2359\n"
     ]
    },
    {
     "name": "stderr",
     "output_type": "stream",
     "text": [
      "<suds.sax.document.Document object at 0x112a874a8>\n"
     ]
    },
    {
     "name": "stdout",
     "output_type": "stream",
     "text": [
      "ERROR ON AUT AU= 'TUNAY KAMIL'\n",
      "2360\n"
     ]
    },
    {
     "name": "stderr",
     "output_type": "stream",
     "text": [
      "<suds.sax.document.Document object at 0x1120c2128>\n"
     ]
    },
    {
     "name": "stdout",
     "output_type": "stream",
     "text": [
      "ERROR ON AUT AU= 'SENEL EGEMEN'\n",
      "2361\n"
     ]
    },
    {
     "name": "stderr",
     "output_type": "stream",
     "text": [
      "<suds.sax.document.Document object at 0x113c81cf8>\n"
     ]
    },
    {
     "name": "stdout",
     "output_type": "stream",
     "text": [
      "ERROR ON AUT AU= 'CATAK ZEKIYE'\n",
      "2362\n"
     ]
    },
    {
     "name": "stderr",
     "output_type": "stream",
     "text": [
      "<suds.sax.document.Document object at 0x113c819b0>\n"
     ]
    },
    {
     "name": "stdout",
     "output_type": "stream",
     "text": [
      "ERROR ON AUT AU= 'OZTURK NURUNNISA'\n",
      "2363\n"
     ]
    },
    {
     "name": "stderr",
     "output_type": "stream",
     "text": [
      "<suds.sax.document.Document object at 0x115cb3c88>\n"
     ]
    },
    {
     "name": "stdout",
     "output_type": "stream",
     "text": [
      "ERROR ON AUT AU= 'ERGUN RAZIYE'\n",
      "2364\n"
     ]
    },
    {
     "name": "stderr",
     "output_type": "stream",
     "text": [
      "<suds.sax.document.Document object at 0x117f74cc0>\n"
     ]
    },
    {
     "name": "stdout",
     "output_type": "stream",
     "text": [
      "ERROR ON AUT AU='SEN VELAT'\n",
      "2365\n"
     ]
    },
    {
     "name": "stderr",
     "output_type": "stream",
     "text": [
      "<suds.sax.document.Document object at 0x142038748>\n"
     ]
    },
    {
     "name": "stdout",
     "output_type": "stream",
     "text": [
      "ERROR ON AUT AU='ORSCELIK OZCAN'\n",
      "2366\n"
     ]
    },
    {
     "name": "stderr",
     "output_type": "stream",
     "text": [
      "<suds.sax.document.Document object at 0x1161cfdd8>\n"
     ]
    },
    {
     "name": "stdout",
     "output_type": "stream",
     "text": [
      "ERROR ON AUT AU= 'GOYMEN MERVE'\n",
      "2367\n"
     ]
    },
    {
     "name": "stderr",
     "output_type": "stream",
     "text": [
      "<suds.sax.document.Document object at 0x1120c2dd8>\n"
     ]
    },
    {
     "name": "stdout",
     "output_type": "stream",
     "text": [
      "ERROR ON AUT AU= 'AKGUN SELDA'\n",
      "2368\n"
     ]
    },
    {
     "name": "stderr",
     "output_type": "stream",
     "text": [
      "<suds.sax.document.Document object at 0x121fb9588>\n"
     ]
    },
    {
     "name": "stdout",
     "output_type": "stream",
     "text": [
      "ERROR ON AUT AU='EKMEKYAPAR AHMET'\n",
      "2369\n"
     ]
    },
    {
     "name": "stderr",
     "output_type": "stream",
     "text": [
      "<suds.sax.document.Document object at 0x115cb3400>\n"
     ]
    },
    {
     "name": "stdout",
     "output_type": "stream",
     "text": [
      "ERROR ON AUT AU='AKGUN LEVENT'\n",
      "2370\n"
     ]
    },
    {
     "name": "stderr",
     "output_type": "stream",
     "text": [
      "<suds.sax.document.Document object at 0x1420386a0>\n"
     ]
    },
    {
     "name": "stdout",
     "output_type": "stream",
     "text": [
      "ERROR ON AUT AU= 'AKSAKALLI ELIF'\n",
      "2371\n"
     ]
    },
    {
     "name": "stderr",
     "output_type": "stream",
     "text": [
      "<suds.sax.document.Document object at 0x1124c77f0>\n"
     ]
    },
    {
     "name": "stdout",
     "output_type": "stream",
     "text": [
      "ERROR ON AUT AU='DUMAN NILAY'\n",
      "2372\n"
     ]
    },
    {
     "name": "stderr",
     "output_type": "stream",
     "text": [
      "<suds.sax.document.Document object at 0x13a183438>\n"
     ]
    },
    {
     "name": "stdout",
     "output_type": "stream",
     "text": [
      "ERROR ON AUT AU= 'ALBAYRAK ERHAN'\n",
      "2373\n"
     ]
    },
    {
     "name": "stderr",
     "output_type": "stream",
     "text": [
      "<suds.sax.document.Document object at 0x13a16ec88>\n"
     ]
    },
    {
     "name": "stdout",
     "output_type": "stream",
     "text": [
      "ERROR ON AUT AU='SENGUL FATIH'\n",
      "2374\n"
     ]
    },
    {
     "name": "stderr",
     "output_type": "stream",
     "text": [
      "<suds.sax.document.Document object at 0x13a16e400>\n"
     ]
    },
    {
     "name": "stdout",
     "output_type": "stream",
     "text": [
      "ERROR ON AUT AU='DAVASAKSAN ASLI'\n",
      "2375\n"
     ]
    },
    {
     "name": "stderr",
     "output_type": "stream",
     "text": [
      "<suds.sax.document.Document object at 0x13a183160>\n"
     ]
    },
    {
     "name": "stdout",
     "output_type": "stream",
     "text": [
      "ERROR ON AUT AU= 'AYDIN OMER'\n",
      "2376\n"
     ]
    },
    {
     "name": "stderr",
     "output_type": "stream",
     "text": [
      "<suds.sax.document.Document object at 0x1124c7668>\n"
     ]
    },
    {
     "name": "stdout",
     "output_type": "stream",
     "text": [
      "ERROR ON AUT AU= 'MUTLU BENGU'\n",
      "2377\n"
     ]
    },
    {
     "name": "stderr",
     "output_type": "stream",
     "text": [
      "<suds.sax.document.Document object at 0x1124c76a0>\n"
     ]
    },
    {
     "name": "stdout",
     "output_type": "stream",
     "text": [
      "ERROR ON AUT AU= 'GOKTURK KADIR'\n",
      "2378\n"
     ]
    },
    {
     "name": "stderr",
     "output_type": "stream",
     "text": [
      "<suds.sax.document.Document object at 0x1242dde80>\n"
     ]
    },
    {
     "name": "stdout",
     "output_type": "stream",
     "text": [
      "ERROR ON AUT AU='BASOL OMER'\n",
      "2379\n"
     ]
    },
    {
     "name": "stderr",
     "output_type": "stream",
     "text": [
      "<suds.sax.document.Document object at 0x112a87cf8>\n"
     ]
    },
    {
     "name": "stdout",
     "output_type": "stream",
     "text": [
      "ERROR ON AUT AU= 'GURBUZ GOKHAN'\n",
      "2380\n"
     ]
    },
    {
     "name": "stderr",
     "output_type": "stream",
     "text": [
      "<suds.sax.document.Document object at 0x13a16ee80>\n"
     ]
    },
    {
     "name": "stdout",
     "output_type": "stream",
     "text": [
      "ERROR ON AUT AU= 'KARAVELIOGLU ERGUN'\n",
      "2381\n"
     ]
    },
    {
     "name": "stderr",
     "output_type": "stream",
     "text": [
      "<suds.sax.document.Document object at 0x116de8cf8>\n"
     ]
    },
    {
     "name": "stdout",
     "output_type": "stream",
     "text": [
      "ERROR ON AUT AU= 'BASARAN MURAT A.'\n",
      "2382\n"
     ]
    },
    {
     "name": "stderr",
     "output_type": "stream",
     "text": [
      "<suds.sax.document.Document object at 0x1159bc9b0>\n"
     ]
    },
    {
     "name": "stdout",
     "output_type": "stream",
     "text": [
      "ERROR ON AUT AU='TUNAY KAMIL'\n",
      "2383\n"
     ]
    },
    {
     "name": "stderr",
     "output_type": "stream",
     "text": [
      "<suds.sax.document.Document object at 0x1159bc358>\n"
     ]
    },
    {
     "name": "stdout",
     "output_type": "stream",
     "text": [
      "ERROR ON AUT AU= 'KIZILDA BETUL'\n",
      "2384\n"
     ]
    },
    {
     "name": "stderr",
     "output_type": "stream",
     "text": [
      "<suds.sax.document.Document object at 0x1242dde80>\n"
     ]
    },
    {
     "name": "stdout",
     "output_type": "stream",
     "text": [
      "ERROR ON AUT AU= 'KAYA SEHNAZ'\n",
      "2385\n"
     ]
    },
    {
     "name": "stderr",
     "output_type": "stream",
     "text": [
      "<suds.sax.document.Document object at 0x115f21358>\n"
     ]
    },
    {
     "name": "stdout",
     "output_type": "stream",
     "text": [
      "ERROR ON AUT AU= 'USTUNER BERNA'\n",
      "2386\n"
     ]
    },
    {
     "name": "stderr",
     "output_type": "stream",
     "text": [
      "<suds.sax.document.Document object at 0x115f210f0>\n"
     ]
    },
    {
     "name": "stdout",
     "output_type": "stream",
     "text": [
      "ERROR ON AUT AU= 'SOLAK OKAN'\n",
      "2387\n"
     ]
    },
    {
     "name": "stderr",
     "output_type": "stream",
     "text": [
      "<suds.sax.document.Document object at 0x115f94860>\n"
     ]
    },
    {
     "name": "stdout",
     "output_type": "stream",
     "text": [
      "ERROR ON AUT AU= 'KARADUZ ADNAN'\n",
      "2388\n"
     ]
    },
    {
     "name": "stderr",
     "output_type": "stream",
     "text": [
      "<suds.sax.document.Document object at 0x13a3fd5c0>\n"
     ]
    },
    {
     "name": "stdout",
     "output_type": "stream",
     "text": [
      "ERROR ON AUT AU='ABALI OSMAN'\n",
      "2389\n"
     ]
    },
    {
     "name": "stderr",
     "output_type": "stream",
     "text": [
      "<suds.sax.document.Document object at 0x1159bc9b0>\n"
     ]
    },
    {
     "name": "stdout",
     "output_type": "stream",
     "text": [
      "ERROR ON AUT AU='ARIDICI RIFAT'\n",
      "2390\n"
     ]
    },
    {
     "name": "stderr",
     "output_type": "stream",
     "text": [
      "<suds.sax.document.Document object at 0x13a183f98>\n"
     ]
    },
    {
     "name": "stdout",
     "output_type": "stream",
     "text": [
      "ERROR ON AUT AU= 'BALCI TANSEL ANSAL'\n",
      "2391\n"
     ]
    },
    {
     "name": "stderr",
     "output_type": "stream",
     "text": [
      "<suds.sax.document.Document object at 0x115e0d748>\n"
     ]
    },
    {
     "name": "stdout",
     "output_type": "stream",
     "text": [
      "ERROR ON AUT AU= 'KULEKCI MUSTAFA KEMAL'\n",
      "2392\n"
     ]
    },
    {
     "name": "stderr",
     "output_type": "stream",
     "text": [
      "<suds.sax.document.Document object at 0x115e0d240>\n"
     ]
    },
    {
     "name": "stdout",
     "output_type": "stream",
     "text": [
      "ERROR ON AUT AU= 'ERDEN ERSIN SUKRU'\n",
      "2393\n"
     ]
    },
    {
     "name": "stderr",
     "output_type": "stream",
     "text": [
      "<suds.sax.document.Document object at 0x115f94908>\n"
     ]
    },
    {
     "name": "stdout",
     "output_type": "stream",
     "text": [
      "ERROR ON AUT AU= 'UCAK ALPER'\n",
      "2394\n"
     ]
    },
    {
     "name": "stderr",
     "output_type": "stream",
     "text": [
      "<suds.sax.document.Document object at 0x115b25710>\n"
     ]
    },
    {
     "name": "stdout",
     "output_type": "stream",
     "text": [
      "ERROR ON AUT AU= 'OZ MEHMET'\n",
      "2395\n"
     ]
    },
    {
     "name": "stderr",
     "output_type": "stream",
     "text": [
      "<suds.sax.document.Document object at 0x115b259b0>\n"
     ]
    },
    {
     "name": "stdout",
     "output_type": "stream",
     "text": [
      "ERROR ON AUT AU= 'AKTAS TURAN'\n",
      "2396\n"
     ]
    },
    {
     "name": "stderr",
     "output_type": "stream",
     "text": [
      "<suds.sax.document.Document object at 0x115e0d240>\n"
     ]
    },
    {
     "name": "stdout",
     "output_type": "stream",
     "text": [
      "ERROR ON AUT AU='HUDSON PETER'\n",
      "2397\n"
     ]
    },
    {
     "name": "stderr",
     "output_type": "stream",
     "text": [
      "<suds.sax.document.Document object at 0x115b252e8>\n"
     ]
    },
    {
     "name": "stdout",
     "output_type": "stream",
     "text": [
      "ERROR ON AUT AU= 'DAMAR OMER'\n",
      "2398\n"
     ]
    },
    {
     "name": "stderr",
     "output_type": "stream",
     "text": [
      "<suds.sax.document.Document object at 0x115b25c18>\n"
     ]
    },
    {
     "name": "stdout",
     "output_type": "stream",
     "text": [
      "ERROR ON AUT AU= 'DURDU YASEMIN'\n",
      "2399\n"
     ]
    },
    {
     "name": "stderr",
     "output_type": "stream",
     "text": [
      "<suds.sax.document.Document object at 0x116de8a90>\n"
     ]
    },
    {
     "name": "stdout",
     "output_type": "stream",
     "text": [
      "ERROR ON AUT AU= 'KARA ISA M.'\n",
      "2400\n",
      "Authenticated (SID: D4qUaTRLmByJsdYxQaE)\n",
      "2401\n",
      "2402\n",
      "2403\n",
      "2404\n",
      "2405\n",
      "2406\n",
      "2407\n",
      "2408\n",
      "2409\n",
      "2410\n",
      "2411\n",
      "2412\n",
      "2413\n",
      "2414\n",
      "2415\n",
      "2416\n",
      "2417\n",
      "ERROR ON AUT AU= 'WAHL JANICE'\n",
      "2418\n",
      "2419\n",
      "2420\n",
      "2421\n",
      "2422\n",
      "2423\n",
      "2424\n",
      "2425\n",
      "2426\n",
      "2427\n",
      "2428\n",
      "2429\n",
      "2430\n",
      "2431\n",
      "2432\n",
      "2433\n",
      "2434\n",
      "2435\n",
      "2436\n",
      "2437\n",
      "2438\n",
      "2439\n",
      "2440\n",
      "2441\n",
      "2442\n",
      "2443\n",
      "2444\n",
      "2445\n",
      "2446\n",
      "2447\n",
      "2448\n",
      "2449\n",
      "2450\n",
      "2451\n",
      "2452\n",
      "2453\n",
      "2454\n",
      "2455\n",
      "2456\n",
      "2457\n",
      "2458\n",
      "2459\n",
      "2460\n",
      "2461\n",
      "2462\n",
      "2463\n",
      "2464\n",
      "2465\n",
      "2466\n",
      "2467\n",
      "2468\n",
      "2469\n",
      "2470\n",
      "2471\n",
      "2472\n",
      "2473\n",
      "2474\n",
      "2475\n",
      "2476\n",
      "2477\n",
      "2478\n",
      "2479\n",
      "2480\n",
      "2481\n",
      "2482\n",
      "2483\n",
      "2484\n",
      "2485\n",
      "2486\n",
      "2487\n",
      "2488\n",
      "2489\n",
      "2490\n",
      "2491\n",
      "2492\n",
      "2493\n",
      "2494\n",
      "2495\n",
      "2496\n",
      "2497\n",
      "2498\n",
      "2499\n",
      "2500\n",
      "2501\n",
      "2502\n",
      "2503\n",
      "2504\n",
      "2505\n",
      "2506\n",
      "2507\n",
      "2508\n",
      "2509\n",
      "2510\n",
      "2511\n",
      "2512\n",
      "2513\n",
      "2514\n",
      "2515\n",
      "2516\n",
      "2517\n",
      "2518\n",
      "2519\n",
      "2520\n",
      "2521\n",
      "2522\n",
      "2523\n",
      "2524\n",
      "2525\n",
      "2526\n",
      "2527\n",
      "2528\n",
      "2529\n",
      "2530\n",
      "2531\n",
      "2532\n",
      "2533\n",
      "2534\n",
      "2535\n"
     ]
    },
    {
     "name": "stderr",
     "output_type": "stream",
     "text": [
      "<suds.sax.document.Document object at 0x1178b85f8>\n"
     ]
    },
    {
     "name": "stdout",
     "output_type": "stream",
     "text": [
      "ERROR ON AUT AU= 'NAVARRO L'\n",
      "2536\n",
      "2537\n",
      "2538\n",
      "2539\n",
      "2540\n",
      "2541\n",
      "2542\n",
      "2543\n",
      "2544\n",
      "2545\n",
      "2546\n",
      "2547\n",
      "ERROR ON AUT AU= 'DEMIR MUSTAFA KEMAL'\n",
      "2548\n",
      "2549\n",
      "2550\n",
      "2551\n",
      "2552\n",
      "2553\n",
      "2554\n",
      "2555\n",
      "2556\n",
      "2557\n",
      "2558\n",
      "2559\n",
      "2560\n",
      "2561\n",
      "2562\n",
      "2563\n",
      "2564\n",
      "2565\n",
      "2566\n",
      "2567\n",
      "2568\n",
      "2569\n",
      "2570\n",
      "2571\n",
      "2572\n",
      "2573\n",
      "2574\n",
      "2575\n",
      "2576\n",
      "2577\n",
      "2578\n",
      "2579\n",
      "2580\n",
      "2581\n",
      "2582\n",
      "2583\n",
      "2584\n",
      "2585\n",
      "2586\n",
      "2587\n",
      "2588\n",
      "2589\n",
      "2590\n",
      "2591\n",
      "2592\n",
      "2593\n",
      "2594\n",
      "2595\n",
      "2596\n",
      "2597\n",
      "2598\n",
      "2599\n",
      "2600\n",
      "2601\n",
      "2602\n",
      "2603\n",
      "2604\n",
      "2605\n",
      "2606\n",
      "2607\n",
      "2608\n",
      "2609\n",
      "2610\n",
      "2611\n",
      "2612\n",
      "2613\n",
      "2614\n",
      "2615\n",
      "2616\n",
      "2617\n",
      "2618\n",
      "2619\n",
      "2620\n",
      "2621\n",
      "2622\n",
      "2623\n",
      "2624\n",
      "2625\n",
      "2626\n",
      "2627\n",
      "2628\n",
      "2629\n",
      "2630\n",
      "2631\n",
      "2632\n",
      "2633\n",
      "ERROR ON AUT AU= 'BUDAK SALIH'\n",
      "2634\n",
      "2635\n",
      "2636\n",
      "2637\n",
      "2638\n",
      "2639\n",
      "2640\n",
      "ERROR ON AUT AU= 'TARHAN SERDAR'\n",
      "2641\n",
      "2642\n",
      "2643\n",
      "2644\n",
      "2645\n",
      "2646\n",
      "2647\n",
      "2648\n",
      "2649\n",
      "2650\n",
      "2651\n",
      "2652\n",
      "2653\n",
      "2654\n",
      "2655\n",
      "2656\n",
      "2657\n",
      "2658\n",
      "2659\n",
      "2660\n",
      "2661\n",
      "2662\n",
      "2663\n",
      "2664\n",
      "2665\n",
      "2666\n",
      "2667\n",
      "2668\n",
      "2669\n",
      "2670\n",
      "2671\n",
      "2672\n",
      "2673\n",
      "2674\n",
      "2675\n",
      "2676\n",
      "2677\n",
      "2678\n",
      "2679\n",
      "2680\n",
      "2681\n",
      "2682\n",
      "2683\n",
      "2684\n",
      "2685\n",
      "2686\n",
      "2687\n",
      "2688\n",
      "2689\n",
      "2690\n",
      "2691\n",
      "2692\n",
      "2693\n",
      "2694\n",
      "2695\n",
      "2696\n",
      "2697\n",
      "2698\n",
      "2699\n",
      "2700\n",
      "2701\n",
      "ERROR ON AUT AU= 'ERDEM OZGUR'\n",
      "2702\n",
      "2703\n",
      "2704\n",
      "2705\n",
      "2706\n",
      "2707\n",
      "2708\n",
      "2709\n",
      "2710\n",
      "2711\n",
      "2712\n",
      "2713\n",
      "2714\n",
      "2715\n",
      "2716\n",
      "2717\n",
      "2718\n",
      "2719\n",
      "2720\n",
      "2721\n",
      "2722\n",
      "2723\n",
      "2724\n",
      "2725\n",
      "2726\n",
      "2727\n",
      "2728\n",
      "2729\n",
      "2730\n",
      "2731\n",
      "2732\n",
      "2733\n",
      "2734\n",
      "2735\n",
      "2736\n",
      "2737\n",
      "2738\n",
      "2739\n",
      "2740\n",
      "2741\n",
      "2742\n",
      "2743\n",
      "2744\n",
      "2745\n",
      "2746\n",
      "2747\n",
      "2748\n",
      "2749\n",
      "2750\n",
      "2751\n",
      "2752\n",
      "2753\n",
      "2754\n",
      "2755\n",
      "2756\n",
      "2757\n",
      "2758\n",
      "2759\n",
      "2760\n",
      "2761\n",
      "2762\n",
      "2763\n",
      "2764\n",
      "2765\n",
      "2766\n",
      "2767\n",
      "2768\n",
      "2769\n",
      "2770\n",
      "2771\n",
      "2772\n",
      "2773\n",
      "2774\n",
      "2775\n",
      "2776\n",
      "2777\n",
      "2778\n",
      "2779\n",
      "2780\n",
      "2781\n",
      "2782\n",
      "2783\n",
      "2784\n",
      "2785\n",
      "2786\n",
      "2787\n",
      "ERROR ON AUT AU= 'SABOVLJEVIC M.'\n",
      "2788\n",
      "2789\n",
      "2790\n",
      "2791\n",
      "2792\n",
      "2793\n",
      "2794\n",
      "2795\n",
      "2796\n",
      "2797\n",
      "2798\n",
      "2799\n",
      "2800\n",
      "2801\n",
      "2802\n",
      "2803\n",
      "2804\n",
      "2805\n",
      "2806\n",
      "2807\n",
      "2808\n",
      "2809\n",
      "2810\n",
      "2811\n",
      "2812\n",
      "2813\n",
      "2814\n",
      "2815\n",
      "2816\n",
      "2817\n",
      "2818\n",
      "2819\n",
      "2820\n",
      "2821\n",
      "2822\n",
      "2823\n",
      "2824\n",
      "2825\n",
      "2826\n",
      "2827\n",
      "2828\n",
      "2829\n",
      "2830\n",
      "2831\n",
      "2832\n",
      "2833\n",
      "2834\n",
      "2835\n",
      "2836\n",
      "2837\n",
      "2838\n",
      "2839\n",
      "2840\n",
      "2841\n",
      "2842\n",
      "2843\n",
      "2844\n",
      "2845\n",
      "2846\n",
      "2847\n",
      "2848\n",
      "2849\n",
      "2850\n",
      "2851\n",
      "2852\n",
      "2853\n",
      "2854\n",
      "2855\n",
      "2856\n",
      "2857\n",
      "2858\n",
      "2859\n",
      "2860\n",
      "2861\n",
      "2862\n",
      "2863\n",
      "2864\n",
      "2865\n",
      "2866\n",
      "2867\n",
      "2868\n",
      "2869\n",
      "2870\n",
      "2871\n",
      "2872\n",
      "2873\n",
      "2874\n",
      "2875\n",
      "2876\n",
      "2877\n",
      "2878\n",
      "2879\n",
      "2880\n",
      "2881\n",
      "2882\n",
      "2883\n",
      "2884\n",
      "2885\n",
      "2886\n",
      "2887\n",
      "2888\n",
      "2889\n",
      "2890\n",
      "2891\n",
      "2892\n",
      "2893\n",
      "2894\n",
      "2895\n",
      "2896\n",
      "2897\n",
      "2898\n",
      "2899\n",
      "2900\n",
      "2901\n",
      "2902\n",
      "2903\n",
      "2904\n",
      "2905\n",
      "2906\n",
      "2907\n",
      "2908\n",
      "2909\n",
      "2910\n",
      "2911\n",
      "2912\n",
      "2913\n",
      "2914\n",
      "2915\n",
      "2916\n",
      "2917\n",
      "2918\n",
      "2919\n",
      "2920\n",
      "2921\n",
      "2922\n",
      "2923\n",
      "2924\n",
      "2925\n",
      "2926\n",
      "2927\n",
      "2928\n",
      "2929\n",
      "2930\n",
      "2931\n",
      "2932\n",
      "2933\n",
      "2934\n",
      "2935\n",
      "2936\n",
      "2937\n",
      "2938\n",
      "2939\n",
      "2940\n",
      "2941\n",
      "2942\n",
      "2943\n",
      "2944\n",
      "2945\n",
      "2946\n",
      "2947\n",
      "2948\n",
      "2949\n",
      "2950\n",
      "2951\n",
      "2952\n",
      "ERROR ON AUT AU= 'GUO M'\n",
      "2953\n",
      "2954\n",
      "2955\n",
      "2956\n",
      "2957\n",
      "2958\n",
      "2959\n",
      "2960\n",
      "2961\n",
      "2962\n",
      "2963\n",
      "2964\n",
      "2965\n",
      "2966\n",
      "2967\n",
      "2968\n",
      "2969\n",
      "2970\n",
      "2971\n",
      "2972\n",
      "2973\n",
      "2974\n",
      "2975\n",
      "2976\n",
      "2977\n",
      "2978\n",
      "2979\n",
      "2980\n",
      "2981\n",
      "2982\n",
      "2983\n",
      "2984\n",
      "2985\n",
      "2986\n",
      "2987\n",
      "2988\n",
      "ERROR ON AUT AU= 'ROBERTS ANDREW. P.'\n",
      "2989\n",
      "2990\n",
      "2991\n",
      "2992\n",
      "ERROR ON AUT AU= 'AKIN OKHAN'\n",
      "2993\n",
      "2994\n",
      "2995\n",
      "2996\n",
      "2997\n",
      "2998\n",
      "2999\n",
      "3000\n",
      "3001\n",
      "3002\n",
      "3003\n",
      "3004\n",
      "3005\n",
      "3006\n",
      "3007\n",
      "3008\n",
      "3009\n",
      "3010\n",
      "3011\n",
      "3012\n",
      "3013\n",
      "3014\n",
      "3015\n",
      "3016\n",
      "3017\n",
      "3018\n",
      "3019\n",
      "3020\n",
      "3021\n",
      "3022\n",
      "3023\n",
      "3024\n",
      "3025\n",
      "3026\n",
      "3027\n",
      "3028\n",
      "3029\n",
      "3030\n",
      "3031\n",
      "3032\n",
      "3033\n",
      "3034\n",
      "3035\n",
      "3036\n",
      "3037\n",
      "3038\n",
      "3039\n",
      "3040\n",
      "3041\n",
      "3042\n",
      "3043\n",
      "3044\n",
      "3045\n",
      "3046\n",
      "3047\n",
      "3048\n",
      "3049\n",
      "3050\n",
      "3051\n",
      "3052\n",
      "3053\n",
      "3054\n",
      "3055\n",
      "3056\n",
      "3057\n",
      "3058\n",
      "3059\n",
      "3060\n",
      "3061\n",
      "3062\n",
      "3063\n",
      "3064\n",
      "3065\n",
      "ERROR ON AUT AU= 'DEMIRCI UMUT'\n",
      "3066\n",
      "3067\n",
      "3068\n",
      "3069\n",
      "3070\n",
      "3071\n",
      "3072\n",
      "3073\n",
      "3074\n",
      "3075\n",
      "3076\n",
      "3077\n",
      "3078\n",
      "3079\n",
      "3080\n",
      "3081\n",
      "3082\n",
      "3083\n",
      "3084\n",
      "3085\n",
      "3086\n",
      "3087\n",
      "3088\n",
      "3089\n",
      "3090\n",
      "3091\n",
      "3092\n",
      "3093\n",
      "3094\n",
      "3095\n",
      "3096\n",
      "3097\n",
      "3098\n",
      "3099\n",
      "3100\n",
      "3101\n",
      "3102\n",
      "3103\n",
      "3104\n",
      "3105\n",
      "3106\n",
      "3107\n",
      "3108\n",
      "3109\n",
      "3110\n",
      "3111\n",
      "3112\n",
      "3113\n",
      "3114\n",
      "3115\n",
      "3116\n",
      "3117\n",
      "3118\n",
      "3119\n",
      "3120\n",
      "3121\n",
      "3122\n",
      "3123\n",
      "3124\n",
      "3125\n",
      "3126\n",
      "3127\n",
      "3128\n",
      "3129\n",
      "3130\n",
      "3131\n",
      "3132\n",
      "3133\n",
      "3134\n",
      "3135\n",
      "3136\n",
      "3137\n",
      "3138\n",
      "ERROR ON AUT AU= 'BAYRAKTAR CEM'\n",
      "3139\n",
      "3140\n",
      "3141\n",
      "3142\n",
      "3143\n",
      "3144\n",
      "3145\n",
      "3146\n",
      "3147\n",
      "3148\n",
      "3149\n",
      "3150\n",
      "3151\n",
      "3152\n",
      "3153\n",
      "3154\n",
      "3155\n",
      "3156\n",
      "3157\n",
      "3158\n",
      "3159\n",
      "3160\n",
      "3161\n",
      "3162\n",
      "3163\n",
      "3164\n",
      "3165\n",
      "3166\n",
      "3167\n",
      "3168\n",
      "3169\n",
      "3170\n",
      "3171\n",
      "3172\n",
      "3173\n",
      "3174\n",
      "3175\n",
      "3176\n",
      "3177\n",
      "3178\n",
      "3179\n",
      "3180\n",
      "3181\n",
      "3182\n",
      "3183\n",
      "3184\n",
      "3185\n",
      "3186\n",
      "3187\n",
      "3188\n",
      "3189\n",
      "3190\n",
      "3191\n",
      "3192\n",
      "3193\n",
      "3194\n",
      "3195\n",
      "3196\n",
      "3197\n",
      "3198\n",
      "3199\n",
      "3200\n",
      "3201\n",
      "3202\n",
      "3203\n",
      "3204\n",
      "3205\n",
      "3206\n",
      "3207\n",
      "3208\n",
      "3209\n",
      "3210\n",
      "3211\n",
      "3212\n",
      "3213\n",
      "3214\n",
      "3215\n",
      "3216\n",
      "3217\n",
      "3218\n",
      "3219\n",
      "3220\n",
      "3221\n",
      "3222\n",
      "3223\n",
      "3224\n",
      "3225\n",
      "3226\n",
      "3227\n",
      "3228\n",
      "3229\n",
      "3230\n",
      "3231\n",
      "3232\n",
      "3233\n",
      "3234\n",
      "3235\n",
      "3236\n",
      "3237\n",
      "3238\n",
      "3239\n",
      "3240\n",
      "3241\n",
      "3242\n",
      "3243\n",
      "3244\n",
      "ERROR ON AUT AU= 'AKSOY SIBEL'\n",
      "3245\n",
      "3246\n",
      "3247\n",
      "3248\n",
      "3249\n",
      "ERROR ON AUT AU='KARAKUS SULEYMAN CUNEYT'\n",
      "3250\n",
      "3251\n",
      "3252\n",
      "3253\n",
      "3254\n",
      "3255\n",
      "3256\n",
      "3257\n",
      "3258\n",
      "3259\n",
      "3260\n",
      "3261\n",
      "3262\n",
      "3263\n",
      "3264\n",
      "3265\n",
      "3266\n",
      "3267\n",
      "3268\n",
      "3269\n",
      "3270\n",
      "3271\n",
      "3272\n",
      "3273\n",
      "3274\n",
      "3275\n",
      "3276\n",
      "3277\n",
      "3278\n",
      "3279\n",
      "3280\n",
      "3281\n",
      "3282\n",
      "3283\n",
      "ERROR ON AUT AU= 'KUMAR M'\n",
      "3284\n",
      "3285\n",
      "3286\n",
      "3287\n",
      "3288\n",
      "3289\n",
      "3290\n",
      "3291\n",
      "3292\n",
      "3293\n",
      "3294\n",
      "3295\n",
      "3296\n",
      "3297\n",
      "3298\n",
      "3299\n",
      "3300\n",
      "3301\n",
      "3302\n",
      "3303\n",
      "3304\n",
      "3305\n",
      "3306\n",
      "3307\n",
      "3308\n",
      "3309\n",
      "3310\n",
      "3311\n",
      "3312\n",
      "3313\n",
      "3314\n",
      "3315\n",
      "3316\n",
      "3317\n",
      "3318\n",
      "3319\n",
      "3320\n",
      "3321\n",
      "3322\n",
      "3323\n",
      "3324\n",
      "3325\n",
      "3326\n",
      "3327\n",
      "3328\n",
      "3329\n",
      "3330\n",
      "3331\n",
      "3332\n",
      "3333\n",
      "3334\n",
      "3335\n",
      "3336\n",
      "3337\n",
      "3338\n",
      "3339\n",
      "3340\n",
      "3341\n",
      "3342\n",
      "ERROR ON AUT AU= 'YILDIZ BAYRAM'\n",
      "3343\n",
      "3344\n",
      "3345\n",
      "3346\n",
      "3347\n",
      "3348\n",
      "3349\n",
      "3350\n",
      "3351\n",
      "3352\n",
      "3353\n",
      "3354\n",
      "3355\n",
      "3356\n",
      "3357\n",
      "3358\n",
      "3359\n",
      "3360\n",
      "3361\n",
      "3362\n",
      "3363\n",
      "3364\n",
      "3365\n",
      "3366\n",
      "3367\n",
      "3368\n",
      "3369\n",
      "3370\n",
      "3371\n",
      "3372\n",
      "3373\n",
      "3374\n",
      "3375\n",
      "3376\n",
      "3377\n",
      "3378\n",
      "3379\n",
      "3380\n",
      "3381\n",
      "3382\n",
      "3383\n",
      "3384\n",
      "3385\n",
      "3386\n",
      "3387\n",
      "3388\n",
      "3389\n",
      "3390\n",
      "3391\n",
      "3392\n",
      "3393\n",
      "3394\n",
      "3395\n",
      "3396\n",
      "3397\n",
      "3398\n",
      "3399\n",
      "3400\n",
      "3401\n",
      "3402\n",
      "3403\n",
      "3404\n",
      "3405\n",
      "3406\n",
      "3407\n",
      "3408\n",
      "3409\n",
      "3410\n",
      "3411\n",
      "3412\n",
      "3413\n",
      "3414\n",
      "3415\n",
      "3416\n",
      "3417\n",
      "3418\n",
      "3419\n",
      "3420\n",
      "3421\n",
      "3422\n",
      "3423\n",
      "3424\n",
      "3425\n",
      "3426\n",
      "3427\n",
      "3428\n",
      "3429\n",
      "3430\n",
      "3431\n",
      "3432\n",
      "3433\n",
      "3434\n",
      "3435\n",
      "3436\n",
      "3437\n",
      "3438\n",
      "3439\n",
      "3440\n",
      "3441\n",
      "3442\n",
      "3443\n",
      "3444\n",
      "3445\n",
      "3446\n",
      "3447\n",
      "3448\n",
      "3449\n",
      "3450\n",
      "3451\n",
      "3452\n",
      "3453\n",
      "3454\n",
      "3455\n",
      "3456\n",
      "3457\n",
      "3458\n",
      "3459\n",
      "3460\n",
      "3461\n",
      "3462\n",
      "ERROR ON AUT AU= 'YUCEL CEM'\n",
      "3463\n",
      "3464\n",
      "3465\n",
      "3466\n",
      "3467\n",
      "3468\n",
      "3469\n",
      "3470\n",
      "3471\n",
      "3472\n",
      "3473\n",
      "3474\n",
      "3475\n",
      "3476\n",
      "3477\n",
      "3478\n",
      "3479\n",
      "3480\n",
      "3481\n",
      "3482\n",
      "3483\n",
      "3484\n",
      "3485\n",
      "3486\n",
      "3487\n",
      "3488\n",
      "3489\n",
      "3490\n",
      "3491\n",
      "3492\n",
      "3493\n",
      "3494\n",
      "3495\n",
      "3496\n",
      "3497\n",
      "ERROR ON AUT AU='KILIC AYSE'\n",
      "3498\n",
      "3499\n",
      "3500\n",
      "3501\n",
      "3502\n",
      "3503\n",
      "3504\n",
      "3505\n",
      "3506\n",
      "3507\n",
      "3508\n",
      "3509\n",
      "3510\n",
      "3511\n",
      "3512\n",
      "3513\n",
      "3514\n",
      "3515\n",
      "3516\n",
      "3517\n",
      "3518\n",
      "3519\n",
      "3520\n",
      "3521\n",
      "3522\n",
      "3523\n",
      "3524\n",
      "3525\n",
      "3526\n",
      "3527\n",
      "3528\n",
      "3529\n",
      "3530\n",
      "3531\n",
      "3532\n",
      "3533\n",
      "3534\n",
      "3535\n",
      "3536\n",
      "3537\n",
      "3538\n",
      "3539\n",
      "3540\n",
      "3541\n",
      "3542\n",
      "3543\n",
      "3544\n",
      "3545\n",
      "3546\n",
      "3547\n",
      "3548\n",
      "3549\n",
      "3550\n",
      "3551\n",
      "3552\n",
      "3553\n",
      "3554\n",
      "3555\n",
      "3556\n",
      "3557\n",
      "3558\n",
      "3559\n",
      "3560\n",
      "3561\n",
      "3562\n",
      "3563\n",
      "3564\n",
      "3565\n",
      "3566\n",
      "3567\n",
      "3568\n",
      "3569\n",
      "3570\n",
      "3571\n",
      "3572\n",
      "3573\n",
      "3574\n",
      "3575\n",
      "3576\n",
      "3577\n",
      "3578\n",
      "3579\n",
      "3580\n",
      "3581\n",
      "ERROR ON AUT AU= 'GRKOVIC ANA'\n",
      "3582\n",
      "3583\n",
      "3584\n",
      "3585\n",
      "3586\n",
      "3587\n",
      "3588\n",
      "ERROR ON AUT AU= 'MIKHAILIDIS DIMITRI P.'\n",
      "3589\n",
      "3590\n",
      "3591\n",
      "3592\n",
      "3593\n",
      "3594\n",
      "3595\n",
      "3596\n",
      "3597\n",
      "3598\n",
      "3599\n",
      "3600\n",
      "3601\n",
      "3602\n",
      "3603\n",
      "3604\n",
      "3605\n",
      "3606\n",
      "3607\n",
      "3608\n",
      "3609\n",
      "3610\n",
      "3611\n",
      "3612\n",
      "3613\n",
      "3614\n",
      "3615\n",
      "3616\n",
      "3617\n",
      "3618\n",
      "3619\n",
      "3620\n",
      "3621\n",
      "3622\n",
      "3623\n",
      "3624\n",
      "3625\n",
      "3626\n",
      "3627\n",
      "3628\n",
      "3629\n",
      "3630\n",
      "3631\n",
      "3632\n",
      "3633\n",
      "3634\n",
      "3635\n",
      "3636\n",
      "3637\n",
      "3638\n",
      "3639\n",
      "3640\n",
      "3641\n",
      "3642\n",
      "3643\n",
      "3644\n",
      "3645\n",
      "3646\n",
      "3647\n",
      "3648\n",
      "3649\n",
      "3650\n",
      "3651\n",
      "3652\n",
      "3653\n",
      "3654\n",
      "3655\n",
      "3656\n",
      "3657\n",
      "3658\n",
      "3659\n",
      "3660\n",
      "3661\n",
      "3662\n",
      "3663\n",
      "3664\n",
      "3665\n",
      "3666\n",
      "3667\n",
      "3668\n",
      "3669\n",
      "3670\n",
      "3671\n",
      "ERROR ON AUT AU= 'TEL EYYUP'\n",
      "3672\n",
      "3673\n",
      "3674\n",
      "3675\n"
     ]
    },
    {
     "name": "stderr",
     "output_type": "stream",
     "text": [
      "<suds.sax.document.Document object at 0x14f7d35f8>\n"
     ]
    },
    {
     "name": "stdout",
     "output_type": "stream",
     "text": [
      "ERROR ON AUT AU= 'CETIN SA'\n",
      "3676\n",
      "3677\n",
      "3678\n",
      "3679\n",
      "3680\n",
      "3681\n",
      "3682\n",
      "3683\n",
      "3684\n",
      "3685\n",
      "3686\n",
      "3687\n",
      "3688\n",
      "3689\n",
      "3690\n",
      "3691\n",
      "3692\n",
      "3693\n",
      "3694\n",
      "3695\n",
      "3696\n",
      "3697\n",
      "3698\n",
      "3699\n",
      "3700\n",
      "3701\n",
      "3702\n",
      "3703\n",
      "3704\n",
      "3705\n",
      "3706\n",
      "3707\n",
      "3708\n",
      "3709\n",
      "3710\n",
      "3711\n",
      "3712\n",
      "3713\n",
      "3714\n",
      "3715\n",
      "3716\n",
      "3717\n",
      "3718\n",
      "3719\n",
      "3720\n",
      "3721\n",
      "3722\n",
      "3723\n",
      "3724\n",
      "3725\n",
      "3726\n",
      "3727\n",
      "3728\n",
      "3729\n",
      "3730\n",
      "3731\n",
      "3732\n",
      "3733\n",
      "3734\n",
      "3735\n",
      "3736\n",
      "3737\n",
      "3738\n",
      "3739\n",
      "3740\n",
      "3741\n",
      "3742\n",
      "3743\n",
      "3744\n",
      "3745\n",
      "3746\n",
      "3747\n",
      "3748\n",
      "3749\n",
      "3750\n",
      "3751\n",
      "3752\n",
      "3753\n",
      "3754\n",
      "3755\n",
      "3756\n",
      "3757\n",
      "3758\n",
      "3759\n",
      "3760\n",
      "3761\n",
      "3762\n",
      "3763\n",
      "3764\n",
      "3765\n",
      "3766\n",
      "3767\n",
      "3768\n",
      "3769\n",
      "3770\n",
      "3771\n",
      "3772\n",
      "3773\n",
      "3774\n",
      "3775\n",
      "3776\n",
      "3777\n",
      "3778\n",
      "3779\n",
      "3780\n",
      "3781\n",
      "3782\n",
      "3783\n",
      "3784\n",
      "3785\n",
      "3786\n",
      "3787\n",
      "3788\n",
      "3789\n",
      "3790\n",
      "3791\n",
      "3792\n",
      "3793\n",
      "3794\n",
      "3795\n",
      "3796\n",
      "3797\n",
      "3798\n",
      "3799\n",
      "3800\n",
      "3801\n",
      "3802\n",
      "3803\n",
      "3804\n",
      "3805\n",
      "3806\n",
      "3807\n",
      "3808\n",
      "3809\n",
      "3810\n",
      "3811\n",
      "3812\n",
      "3813\n",
      "3814\n",
      "3815\n",
      "3816\n",
      "3817\n",
      "3818\n",
      "3819\n",
      "3820\n",
      "3821\n",
      "3822\n",
      "3823\n",
      "3824\n",
      "3825\n",
      "3826\n",
      "3827\n",
      "3828\n",
      "3829\n",
      "3830\n",
      "3831\n",
      "3832\n",
      "3833\n",
      "3834\n",
      "3835\n",
      "3836\n",
      "3837\n",
      "3838\n",
      "3839\n",
      "3840\n",
      "3841\n",
      "3842\n",
      "3843\n",
      "3844\n",
      "3845\n",
      "3846\n",
      "ERROR ON AUT AU= 'MEYER MICHAEL'\n",
      "3847\n",
      "3848\n",
      "3849\n",
      "3850\n",
      "3851\n",
      "3852\n",
      "3853\n",
      "3854\n",
      "3855\n",
      "3856\n",
      "3857\n",
      "3858\n",
      "3859\n",
      "3860\n",
      "3861\n",
      "3862\n",
      "3863\n",
      "3864\n",
      "3865\n",
      "3866\n",
      "3867\n",
      "3868\n",
      "3869\n",
      "3870\n",
      "3871\n",
      "3872\n",
      "3873\n",
      "3874\n",
      "3875\n",
      "3876\n",
      "3877\n",
      "3878\n",
      "3879\n",
      "3880\n",
      "3881\n",
      "3882\n",
      "3883\n",
      "3884\n",
      "3885\n",
      "ERROR ON AUT AU= 'CUNNINGHAME-GRAHAM DEBORAH S.'\n",
      "3886\n",
      "3887\n",
      "3888\n",
      "3889\n",
      "3890\n",
      "3891\n",
      "3892\n",
      "3893\n",
      "3894\n",
      "3895\n",
      "3896\n",
      "3897\n",
      "3898\n",
      "3899\n",
      "3900\n",
      "3901\n",
      "3902\n",
      "3903\n",
      "3904\n",
      "3905\n",
      "3906\n",
      "3907\n",
      "3908\n",
      "3909\n",
      "3910\n",
      "3911\n",
      "3912\n",
      "3913\n",
      "3914\n",
      "3915\n",
      "3916\n",
      "3917\n",
      "3918\n",
      "3919\n",
      "3920\n",
      "3921\n",
      "3922\n",
      "3923\n",
      "3924\n",
      "3925\n",
      "3926\n",
      "3927\n",
      "3928\n",
      "3929\n",
      "3930\n",
      "3931\n",
      "3932\n",
      "3933\n",
      "3934\n",
      "3935\n",
      "3936\n",
      "3937\n",
      "3938\n",
      "3939\n",
      "3940\n",
      "3941\n",
      "3942\n",
      "3943\n",
      "3944\n",
      "3945\n",
      "3946\n",
      "3947\n",
      "3948\n",
      "3949\n",
      "3950\n",
      "3951\n",
      "3952\n",
      "ERROR ON AUT AU='KAYADUMAN KUDDUSI'\n",
      "3953\n",
      "3954\n",
      "3955\n",
      "3956\n",
      "3957\n",
      "3958\n",
      "3959\n",
      "3960\n",
      "3961\n",
      "3962\n",
      "3963\n",
      "3964\n",
      "3965\n",
      "3966\n",
      "3967\n",
      "3968\n",
      "3969\n",
      "3970\n",
      "3971\n",
      "3972\n",
      "3973\n",
      "3974\n",
      "3975\n",
      "3976\n",
      "3977\n",
      "3978\n",
      "3979\n",
      "3980\n",
      "3981\n",
      "3982\n",
      "3983\n",
      "3984\n",
      "3985\n",
      "3986\n",
      "3987\n",
      "3988\n",
      "3989\n",
      "3990\n",
      "3991\n",
      "3992\n",
      "3993\n",
      "3994\n",
      "3995\n",
      "3996\n",
      "3997\n",
      "3998\n",
      "3999\n"
     ]
    }
   ],
   "source": [
    "undismissed_dataset = pd.DataFrame()\n",
    "soap = WosClient(user= 'SWISS10_reproj', password= 'Welcome#10 ', lite=False)\n",
    "soap.connect()\n",
    "for i in range(4000):\n",
    "    try : \n",
    "        print(i)\n",
    "        if i%2400==0: # WOS constraints that each ID can only search for 2500 times. Just set smaller counts to renew the ID.\n",
    "            soap = WosClient(user= 'SWISS10_reproj', password= 'Welcome#10 ', lite=False)\n",
    "            soap.connect()\n",
    "        QueryString = searchnames_undismiss_auths_query[i]\n",
    "        results = pub_of_author(QueryString)\n",
    "        time.sleep(0.5)\n",
    "        Soup = BeautifulSoup(results.records,'lxml')\n",
    "        dataset = construct_dataset(Soup,searchnames_undismiss_auths[i])\n",
    "        undismissed_dataset=undismissed_dataset.append(dataset,ignore_index=True)\n",
    "        #auth = auth.append(authors,ignore_index=True)\n",
    "    except:\n",
    "        print('ERROR ON AUT',QueryString)"
   ]
  },
  {
   "cell_type": "code",
   "execution_count": 29,
   "metadata": {},
   "outputs": [],
   "source": [
    "undismissed_dataset['labels'] = np.zeros(len(undismissed_dataset))"
   ]
  },
  {
   "cell_type": "code",
   "execution_count": 31,
   "metadata": {},
   "outputs": [],
   "source": [
    "undismissed_dataset.to_csv('../data/UNDISMISSED_final.csv')"
   ]
  },
  {
   "cell_type": "code",
   "execution_count": 22,
   "metadata": {},
   "outputs": [
    {
     "data": {
      "text/plain": [
       "3123"
      ]
     },
     "execution_count": 22,
     "metadata": {},
     "output_type": "execute_result"
    }
   ],
   "source": [
    "len(set(undismissed_dataset.author))"
   ]
  },
  {
   "cell_type": "markdown",
   "metadata": {},
   "source": [
    "DISAMBIGUATION"
   ]
  },
  {
   "cell_type": "markdown",
   "metadata": {},
   "source": [
    "## Parsing and Saving\n",
    "\n",
    "TBC."
   ]
  }
 ],
 "metadata": {
  "kernelspec": {
   "display_name": "Python 3",
   "language": "python",
   "name": "python3"
  },
  "language_info": {
   "codemirror_mode": {
    "name": "ipython",
    "version": 3
   },
   "file_extension": ".py",
   "mimetype": "text/x-python",
   "name": "python",
   "nbconvert_exporter": "python",
   "pygments_lexer": "ipython3",
   "version": "3.6.5"
  }
 },
 "nbformat": 4,
 "nbformat_minor": 2
}
