{
 "cells": [
  {
   "cell_type": "markdown",
   "metadata": {},
   "source": [
    "# Scrapping on WoS to get author and papers information"
   ]
  },
  {
   "cell_type": "code",
   "execution_count": 1,
   "metadata": {},
   "outputs": [],
   "source": [
    "from suds.client import Client\n",
    "import time\n",
    "import pandas as pd\n",
    "import csv\n",
    "import numpy as np\n",
    "import re"
   ]
  },
  {
   "cell_type": "code",
   "execution_count": 2,
   "metadata": {},
   "outputs": [],
   "source": [
    "#from scraper_WoS_UpdatedVer import *\n",
    "from scraper_WoS import *\n",
    "from parsing import *\n",
    "from data_extraction import *"
   ]
  },
  {
   "cell_type": "code",
   "execution_count": 3,
   "metadata": {},
   "outputs": [
    {
     "name": "stdout",
     "output_type": "stream",
     "text": [
      "../data/Dismis_Acad_List_cl.txt\n"
     ]
    }
   ],
   "source": [
    "#create dataframe qith name of author, query and affiliation\n",
    "searchnames_dismiss_auths_query, searchnames_dismiss_auths,searchnames_dismiss_univ = list_dismissed('../data/Dismis_Acad_List_cl.txt')\n",
    "d = {'Query':searchnames_dismiss_auths_query,'Authors':searchnames_dismiss_auths,'organisation':searchnames_dismiss_univ}\n",
    "df = pd.DataFrame(d)\n",
    "\n",
    "#get information about dismissed people\n",
    "dismissed_dataset = get_info_authors(searchnames_dismiss_auths_query)\n",
    "\n",
    "#disambiguate between people from same university as we have in Gabriele's list\n",
    "#disambiguation_dismissed_dataset = disambiguation_authors(df, dismissed_dataset)\n",
    "#disambiguation_dismissed_dataset.to_csv('../data/DISMISSED_final.csv')\n",
    "disambiguation_dismissed_dataset = pd.read_csv('../data/DISMISSED_final.csv')\n",
    "\n",
    "disambiguation_dismissed_dataset = add_labels(disambiguation_dismissed_dataset,1)\n",
    "\n",
    "#counters\n",
    "nb_coauthors, co_aut = count_coauthors(disambiguation_dismissed_dataset)\n",
    "print('Totally ' + str(nb_coauthors) + ' guys were downloaded as coauthors')\n",
    "\n",
    "dismissed = set(disambiguation_dismissed_dataset.Authors\n",
    "co_authors = reformat_coauthors(co_aut))\n",
    "\n",
    "print('Totally we have ' + str(len(dismissed)) + ' dismissed and ' + str(len(co_authors)) + ' unique coauthors')\n",
    "\n",
    "#define undismissed people among coauthors\n",
    "undismissed = co_authors - dismissed\n",
    "\n",
    "print('So, we have ' + str(len(undismissed)) + ' undismissed guys')\n",
    "\n",
    "searchnames_undismiss_auths_query,searchnames_undismiss_auths = create_undismissed_query(undismissed)\n",
    "undismissed_dataset = get_info_authors(searchnames_undismiss_auths_query)\n",
    "\n",
    "undismissed_dataset = add_labels(undismissed_dataset,0)\n",
    "undismissed_dataset.to_csv('../data/UNDISMISSED_final.csv')\n"
   ]
  },
  {
   "cell_type": "code",
   "execution_count": 9,
   "metadata": {},
   "outputs": [
    {
     "name": "stdout",
     "output_type": "stream",
     "text": [
      "0\n",
      "Error on loop AU=SARAC CEMAL\n",
      "1\n",
      "Error on loop AU=KOSE IBRAHIM\n",
      "2\n",
      "Error on loop AU=YENIDUNYA AHMET\n",
      "3\n",
      "Error on loop AU=MALKOC SIDDIK\n",
      "4\n",
      "Error on loop AU=ARASOGLU ALI\n",
      "5\n",
      "Error on loop AU=HIRCA NECATI\n",
      "6\n",
      "Error on loop AU=ACEMOGLU HAMIT\n",
      "7\n",
      "Error on loop AU=GURSUL FATIH\n",
      "8\n",
      "Error on loop AU=OZEL ERDOGAN\n",
      "9\n",
      "Error on loop AU=YAYLA AHMET\n",
      "10\n",
      "Error on loop AU=PERKMEN SERKAN\n",
      "11\n",
      "Error on loop AU=KOCYIGIT ALI\n",
      "12\n",
      "Error on loop AU=OZTUZCU SERDAR\n",
      "13\n",
      "Error on loop AU=KOC EMINE\n",
      "14\n",
      "Error on loop AU=CEBER MEHMET\n",
      "15\n",
      "Error on loop AU=DAGLI ARIF\n",
      "16\n",
      "Error on loop AU=BERTLEK SEYDI\n",
      "17\n",
      "Error on loop AU=BORAZAN HALE\n",
      "18\n",
      "Error on loop AU=SAGLAM MUSA\n",
      "19\n",
      "Error on loop AU=SELCUK MUSTAFA\n",
      "20\n",
      "Error on loop AU=GUNEYISI ERHAN\n",
      "21\n",
      "Error on loop AU=ASLANKURT MURAT\n",
      "22\n",
      "Error on loop AU=KESKIN YILDIRAY\n",
      "23\n",
      "Error on loop AU=ERAYMAN ALI\n",
      "24\n",
      "Error on loop AU=TATLI MUSTAFA\n",
      "25\n",
      "Error on loop AU=BALCIOGLU ERCAN\n",
      "26\n",
      "Error on loop AU=BARGAN HUSEYIN\n",
      "27\n",
      "Error on loop AU=YUCEL GERCEK\n",
      "28\n",
      "Error on loop AU=KASLI MEHMET\n",
      "29\n",
      "Error on loop AU=CACAN IHSAN\n",
      "30\n",
      "Error on loop AU=AYDIN NECMEDDIN\n",
      "31\n",
      "Error on loop AU=YILMAZ NIHAT\n",
      "32\n",
      "Error on loop AU=CETIN OZDEMIR\n",
      "33\n",
      "Error on loop AU=NARGUL VEYSEL\n",
      "34\n",
      "Error on loop AU=AKTAS DAVUT\n",
      "35\n",
      "Error on loop AU=TEKELIOGLU UMIT\n",
      "36\n",
      "Error on loop AU=YILMAZ NAZIRE\n",
      "37\n",
      "Error on loop AU=ILHAN AZIME\n",
      "38\n",
      "Error on loop AU=DEMIR SERVET\n",
      "39\n",
      "Error on loop AU=GUMUS METEHAN\n",
      "40\n",
      "Error on loop AU=ATASOGLU CENGIZ\n",
      "41\n",
      "Error on loop AU=SENGUN ABDULKADIR\n",
      "42\n",
      "Error on loop AU=OZ AHMET\n",
      "43\n",
      "Error on loop AU=TOY HATICE\n",
      "44\n",
      "Error on loop AU=SAKALAR CAGRI\n",
      "45\n",
      "Error on loop AU=PEKGOZLU ILHAN\n",
      "46\n",
      "Error on loop AU=YAPRAK MUSTAFA\n",
      "47\n",
      "Error on loop AU=KARACA ZEKI\n",
      "48\n",
      "Error on loop AU=CATALBAS BULENT\n",
      "49\n",
      "Error on loop AU=KILIC TUNCER\n",
      "50\n",
      "Error on loop AU=CURE ERKAN\n",
      "51\n",
      "Error on loop AU=KIRBAS SERKAN\n",
      "52\n",
      "Error on loop AU=BALCI MURAT\n",
      "53\n",
      "Error on loop AU=KIRAZ AYHAN\n",
      "54\n",
      "Error on loop AU=DOGAN MEVLUT\n",
      "55\n",
      "Error on loop AU=YUCE ABDULHAKIM\n",
      "56\n",
      "Error on loop AU=USAK ESMA\n",
      "57\n",
      "Error on loop AU=ARICAN MEHMET\n",
      "58\n",
      "Error on loop AU=YAZICILAR TURAN\n",
      "59\n",
      "Error on loop AU=SUNGU HILMI\n",
      "60\n",
      "Error on loop AU=KAMCI HAMDI\n",
      "61\n",
      "Error on loop AU=KOKSAL YUKSEL\n",
      "62\n",
      "Error on loop AU=ATA HACI\n",
      "63\n",
      "Error on loop AU=ESKIKURT HALIL\n",
      "64\n",
      "Error on loop AU=ALPAK GOKAY\n",
      "65\n",
      "Error on loop AU=ALTUN IBRAHIM\n",
      "66\n",
      "Error on loop AU=SACAN SUNAY\n",
      "67\n",
      "Error on loop AU=UZUNOGLU SELIM\n",
      "68\n",
      "Error on loop AU=COLAK ALI\n",
      "69\n",
      "Error on loop AU=CALISKAN ALI\n",
      "70\n",
      "Error on loop AU=GUNES AHMET\n",
      "71\n",
      "Error on loop AU=CEVHER EZGI\n",
      "72\n",
      "Error on loop AU=BESIR FAHRI\n",
      "73\n",
      "Error on loop AU=DAGLIOGLU MUTLU\n",
      "74\n",
      "Error on loop AU=KUCUK HARUN\n",
      "75\n",
      "Error on loop AU=UCUN ISMAIL\n",
      "76\n",
      "Error on loop AU=USTUN IHSAN\n",
      "77\n",
      "Error on loop AU=YALCIN ALI\n",
      "78\n",
      "Error on loop AU=ATAY TOLGA\n",
      "79\n",
      "Error on loop AU=AVCI MEHMET\n",
      "80\n",
      "Error on loop AU=IBICIOGLU HASAN\n",
      "81\n",
      "Error on loop AU=ORNEK KEMAL\n",
      "82\n",
      "Error on loop AU=YAZICI HUSEYIN\n",
      "83\n",
      "Error on loop AU=GULTEKIN ERDOGAN\n",
      "84\n",
      "Error on loop AU=TEMIZER AYDIN\n",
      "85\n",
      "Error on loop AU=KARAKAYA SUKRU\n",
      "86\n",
      "Error on loop AU=COSKUN EYYUP\n",
      "87\n",
      "Error on loop AU=CETINKAYA NIHAT\n",
      "88\n",
      "Error on loop AU=CAKIR UGUR\n",
      "89\n",
      "Error on loop AU=TATLIOGLU DURMUS\n",
      "90\n",
      "Error on loop AU=ONDER MEHMET\n",
      "91\n",
      "Error on loop AU=TETIN MEHMET\n",
      "92\n",
      "Error on loop AU=COSKUN ALI\n",
      "93\n",
      "Error on loop AU=TATAR ERDAL\n",
      "94\n",
      "Error on loop AU=TUTAK MUSTAFA\n",
      "95\n",
      "Error on loop AU=BAKIS MURAT\n",
      "96\n",
      "Error on loop AU=CELIK AKIN\n",
      "97\n",
      "Error on loop AU=SANCAKDAR ENVER\n",
      "98\n",
      "Error on loop AU=TOPCU MUZAFFER\n",
      "99\n",
      "Error on loop AU=ULASLI MUSTAFA\n",
      "100\n",
      "Error on loop AU=CORUMLUOGLU OZSEN\n",
      "101\n",
      "Error on loop AU=MEMIS NURAY\n",
      "102\n",
      "Error on loop AU=SATILMIS HASAN\n",
      "103\n",
      "Error on loop AU=AYDOGAN FATIH\n",
      "104\n",
      "Error on loop AU=CETIN DOGAN\n",
      "105\n",
      "Error on loop AU=YILMAZ MEHMET\n",
      "106\n",
      "Error on loop AU=DEMIRKIRAN DAVUT\n",
      "107\n",
      "Error on loop AU=GUNES HAYATI\n",
      "108\n",
      "Error on loop AU=ONCEL ALI\n",
      "109\n",
      "Error on loop AU=OZDEMIR ISMAIL\n",
      "110\n",
      "Error on loop AU=SULAK MERAL\n",
      "111\n",
      "Error on loop AU=OZ SALIH\n",
      "112\n",
      "Error on loop AU=ZENGIN HALIT\n",
      "113\n",
      "Error on loop AU=GENC LUTFI\n",
      "114\n",
      "Error on loop AU=PAKSOY KADIR\n",
      "115\n",
      "Error on loop AU=CELIKSOZ ALI\n",
      "116\n",
      "Error on loop AU=UYSAL HUSEYIN\n",
      "117\n",
      "Error on loop AU=KILINC HALIL\n",
      "118\n",
      "Error on loop AU=TUTAR EDIZ\n",
      "119\n",
      "Error on loop AU=INCI MEHMET\n",
      "120\n",
      "Error on loop AU=KESICI MEHMET\n",
      "121\n",
      "Error on loop AU=DULGERGIL CORUH\n",
      "122\n",
      "Error on loop AU=KIRAZ NURI\n",
      "123\n",
      "Error on loop AU=BOZKURT FATMA\n",
      "124\n",
      "Error on loop AU=SAVAS HALUK\n",
      "125\n",
      "Error on loop AU=ALDEMIR OZGUR\n",
      "126\n",
      "Error on loop AU=VIRIT OSMAN\n",
      "127\n",
      "Error on loop AU=VURAL MEHMET\n",
      "128\n",
      "Error on loop AU=POLAT AYTEKIN\n",
      "129\n",
      "Error on loop AU=CAN ALPER\n",
      "130\n",
      "Error on loop AU=ACARTURK GURSEL\n",
      "131\n",
      "Error on loop AU=OKAY AYDEMIR\n",
      "132\n",
      "Error on loop AU=ARAS ERDAL\n",
      "133\n",
      "Error on loop AU=SOYDAN YAVUZ\n",
      "134\n",
      "Error on loop AU=SULAK OSMAN\n",
      "135\n",
      "Error on loop AU=OZ AHMET\n",
      "136\n",
      "Error on loop AU=KAHRAMAN NURCAN\n",
      "137\n",
      "Error on loop AU=BOREKCI SULEYMAN\n",
      "138\n",
      "Error on loop AU=AKSU MUHARREM\n",
      "139\n",
      "Error on loop AU=OZBEK IBRAHIM\n",
      "140\n",
      "Error on loop AU=SEN GUL\n",
      "141\n",
      "Error on loop AU=CALKA OMER\n",
      "142\n",
      "Error on loop AU=ERDEN KADRIYE\n",
      "143\n",
      "Error on loop AU=UZUN HAKAN\n",
      "144\n",
      "Error on loop AU=TOPALOGLU NACI\n",
      "145\n",
      "Error on loop AU=YURTTUTAR MUSTAFA\n",
      "146\n",
      "Error on loop AU=CINKAYA MUHAMMED\n",
      "147\n",
      "Error on loop AU=SAHIN SERKAN\n",
      "148\n",
      "Error on loop AU=AKBULUT HALIM\n",
      "149\n",
      "Error on loop AU=SIMSEK LEVENT\n",
      "150\n",
      "Error on loop AU=GEYIKLI TURABI\n",
      "151\n",
      "Error on loop AU=AKYOL OMER\n",
      "152\n",
      "Error on loop AU=UCGUN ERCAN\n",
      "153\n",
      "Error on loop AU=ERTIK HUSEYIN\n",
      "154\n",
      "Error on loop AU=KAPAN MURAT\n",
      "155\n",
      "Error on loop AU=CAN AHMET\n",
      "156\n",
      "Error on loop AU=AKBIYIK CENK\n",
      "157\n",
      "Error on loop AU=AKPINAR IBRAHIM\n",
      "158\n",
      "Error on loop AU=UCAR AHMET\n",
      "159\n",
      "Error on loop AU=YALCIN MUHAMMET\n",
      "160\n",
      "Error on loop AU=CICEK ERSAN\n",
      "161\n",
      "Error on loop AU=TURKMEN MUSTAFA\n",
      "162\n",
      "Error on loop AU=OZEL ALI\n",
      "163\n",
      "Error on loop AU=SEZAN HATICE\n",
      "164\n",
      "Error on loop AU=BILGEN OSMAN\n",
      "165\n",
      "Error on loop AU=ULUKAN MEHMET\n",
      "166\n",
      "Error on loop AU=YUCEKAYA GULAY\n",
      "167\n",
      "Error on loop AU=ERDAL MESUT\n",
      "168\n",
      "Error on loop AU=BULCUN EMEL\n",
      "169\n",
      "Error on loop AU=TAN KADIR\n",
      "170\n",
      "Error on loop AU=CUKURCAYIR MEHMET\n",
      "171\n",
      "Error on loop AU=CAPKIN MUSA\n",
      "172\n",
      "Error on loop AU=VAROL HUSEYIN\n",
      "173\n",
      "Error on loop AU=ACAR MUSTAFA\n",
      "174\n",
      "Error on loop AU=KOCAMAN SERPIL\n",
      "175\n",
      "Error on loop AU=AYDIN MUSA\n",
      "176\n",
      "Error on loop AU=BOZKURT ILKAY\n",
      "177\n",
      "Error on loop AU=OZKOKELI NURETTIN\n",
      "178\n",
      "Error on loop AU=TURAN YUSUF\n",
      "179\n",
      "Error on loop AU=KAYA ZEKERIYA\n",
      "180\n",
      "Error on loop AU=YAYKASLI KURSAT\n",
      "181\n",
      "Error on loop AU=ERKAYA SELCUK\n",
      "182\n",
      "Error on loop AU=ULUKOK ZUBEYDE\n",
      "183\n",
      "Error on loop AU=ERDIK CENGIZ\n",
      "184\n",
      "Error on loop AU=ARSLAN SIDDIK\n",
      "185\n",
      "Error on loop AU=YAYLAGUL MIYASE\n",
      "186\n",
      "Error on loop AU=ALTUNTAS IRFAN\n",
      "187\n",
      "Error on loop AU=DEMIR CEVDET\n",
      "188\n",
      "Error on loop AU=OZDEMIR HABIB\n",
      "189\n",
      "Error on loop AU=DEMIRER SERHAT\n",
      "190\n",
      "Error on loop AU=DUMAN SITKI\n",
      "191\n",
      "Error on loop AU=OZKAN FILIZ\n",
      "192\n",
      "Error on loop AU=ILHAN NILUFER\n",
      "193\n",
      "Error on loop AU=YAZICI SELMA\n",
      "194\n",
      "Error on loop AU=GURBUZLER LEVENT\n",
      "195\n",
      "Error on loop AU=ALTINDAG SERIFE\n",
      "196\n",
      "Error on loop AU=YURT EYUP\n",
      "197\n",
      "Error on loop AU=SEKMEN YAKUP\n",
      "198\n",
      "Error on loop AU=CIPIL HANDAN\n",
      "199\n",
      "Error on loop AU=EKIM SEFIKA\n",
      "200\n",
      "Error on loop AU=MAZI FIKRET\n",
      "201\n",
      "Error on loop AU=OKUTAN HALIL\n",
      "202\n",
      "Error on loop AU=ERDEM IDRIS\n",
      "203\n",
      "Error on loop AU=SAHIN LEVENT\n",
      "204\n",
      "Error on loop AU=BAKIR IHSAN\n",
      "205\n",
      "Error on loop AU=YILMAZ MHMET\n",
      "206\n",
      "Error on loop AU=DURAN MUHARREM\n",
      "207\n",
      "Error on loop AU=BOLEK YUKSEL\n",
      "208\n",
      "Error on loop AU=YILMAZ MUSTAFA\n",
      "209\n",
      "Error on loop AU=KARADENIZ ALI\n",
      "210\n",
      "Error on loop AU=GULCU ISMAIL\n",
      "211\n",
      "Error on loop AU=TEMEL METIN\n",
      "212\n",
      "Error on loop AU=BILGIC OZLEM\n",
      "213\n",
      "Error on loop AU=TANRIKULU AHMED\n",
      "214\n",
      "Error on loop AU=AGCA VEYSEL\n",
      "215\n",
      "Error on loop AU=SARICI KAZIM\n",
      "216\n",
      "Error on loop AU=BULGAN ERDAL\n",
      "217\n",
      "Error on loop AU=DELIGOZ HASALETTIN\n",
      "218\n",
      "Error on loop AU=TURKMEN SEYFULLAH\n",
      "219\n",
      "Error on loop AU=SUMER CETIN\n",
      "220\n",
      "Error on loop AU=SARICA MEHMET\n",
      "221\n",
      "Error on loop AU=LODOGLU NILAY\n",
      "222\n",
      "Error on loop AU=SONMEZ MEHMET\n",
      "223\n",
      "Error on loop AU=GUNEY BAHA\n",
      "224\n",
      "Error on loop AU=KAYMAKCI OGUZ\n",
      "225\n",
      "Error on loop AU=TAKTAK SUKRU\n",
      "226\n",
      "Error on loop AU=OZTURK METIN\n",
      "227\n",
      "Error on loop AU=BOLUKOGLU ILHAN\n",
      "228\n",
      "Error on loop AU=SENYER NURETTIN\n",
      "229\n",
      "Error on loop AU=YONDEN ARZU\n",
      "230\n",
      "Error on loop AU=EROL AHMET\n",
      "231\n",
      "Error on loop AU=CEVIKOGLU HASAN\n",
      "232\n",
      "Error on loop AU=ARI SEYHMUS\n",
      "233\n",
      "Error on loop AU=KOSE SACIT\n",
      "234\n",
      "Error on loop AU=KORUKCU ADEM\n",
      "235\n",
      "Error on loop AU=TUZEL SAIT\n",
      "236\n",
      "Error on loop AU=YAVUZ MUSTAFA\n",
      "237\n",
      "Error on loop AU=OZKAN OZALKAN\n",
      "238\n",
      "Error on loop AU=SARMAN HAKAN\n",
      "239\n",
      "Error on loop AU=SEN HALIL\n",
      "240\n",
      "Error on loop AU=ULVI HIZIR\n",
      "241\n",
      "Error on loop AU=AYTEKIN METIN\n",
      "242\n",
      "Error on loop AU=CETIN EYUP\n",
      "243\n",
      "Error on loop AU=OZKAYA ERDOGAN\n",
      "244\n",
      "Error on loop AU=KABACIK MEHMET\n",
      "245\n",
      "Error on loop AU=AYTEKIN VAHIT\n",
      "246\n",
      "Error on loop AU=OZTURK ONDER\n",
      "247\n",
      "Error on loop AU=BAY ALI\n",
      "248\n",
      "Error on loop AU=COSKUN EROL\n",
      "249\n",
      "Error on loop AU=YILMAZ SAZIYE\n",
      "250\n",
      "Error on loop AU=ISKURT ALI\n",
      "251\n",
      "Error on loop AU=TOPAL YUSUF\n",
      "252\n",
      "Error on loop AU=OZEREN SULEYMAN\n",
      "253\n",
      "Error on loop AU=OZKAN ADEM\n",
      "254\n",
      "Error on loop AU=GURBUZ RIZA\n",
      "255\n",
      "Error on loop AU=AKKAR OZLEM\n",
      "256\n",
      "Error on loop AU=KETEN ALPER\n",
      "257\n",
      "Error on loop AU=POLAT EDIZ\n",
      "258\n",
      "Error on loop AU=SINAN OLCAY\n",
      "259\n",
      "Error on loop AU=GUNES TEVFIK\n",
      "260\n",
      "Error on loop AU=BASAK SUNA\n",
      "261\n",
      "Error on loop AU=OZDIN KAMIL\n",
      "262\n",
      "Error on loop AU=TOSUN HAMZA\n",
      "263\n",
      "Error on loop AU=TULUBAS FETI\n",
      "264\n",
      "Error on loop AU=GURBUZ BILAL\n",
      "265\n",
      "Error on loop AU=KIZILCI ESRA\n",
      "266\n",
      "Error on loop AU=ATIK KEMAL\n",
      "267\n",
      "Error on loop AU=AKTAS ALI\n",
      "268\n",
      "Error on loop AU=BAGIRCI FARUK\n",
      "269\n",
      "Error on loop AU=KARAPIRLI MUSTAFA\n",
      "270\n",
      "Error on loop AU=DELICAY TAHSIN\n",
      "271\n",
      "Error on loop AU=DAS HUSEYIN\n",
      "272\n",
      "Error on loop AU=OZ FARUK\n",
      "273\n",
      "Error on loop AU=ARAS MEVLUT\n",
      "274\n",
      "Error on loop AU=EGRI OSMAN\n",
      "275\n",
      "Error on loop AU=UCAR IBRAHIM\n",
      "276\n",
      "Error on loop AU=TOPRAK SELCUK\n",
      "277\n",
      "Error on loop AU=AYDIN SERKAN\n",
      "278\n",
      "Error on loop AU=ZEYREK SUAT\n",
      "279\n",
      "Error on loop AU=OZSARAC MURAT\n",
      "280\n",
      "Error on loop AU=DOLAPCI IHSAN\n",
      "281\n",
      "Error on loop AU=ARIKAN YUSUF\n",
      "282\n",
      "Error on loop AU=GUNGOREN MUAZ\n",
      "283\n",
      "Error on loop AU=ULU MELIKE\n",
      "284\n",
      "Error on loop AU=BEZ YASIN\n",
      "285\n",
      "Error on loop AU=GUNES YAVUZ\n",
      "286\n",
      "Error on loop AU=HOKELEK MURAT\n",
      "287\n",
      "Error on loop AU=AYDOGAN TIMUCIN\n",
      "288\n",
      "Error on loop AU=GENCTURK MUHARREM\n",
      "289\n",
      "Error on loop AU=ANNAGUR ALI\n",
      "290\n",
      "Error on loop AU=COREKCI BARAM\n",
      "291\n",
      "Error on loop AU=UNIVERSITYER MEHMET\n",
      "292\n",
      "Error on loop AU=CEGIL OZKAN\n",
      "293\n",
      "Error on loop AU=KAVAS HUSEYIN\n",
      "294\n",
      "Error on loop AU=UNAL MUSTAFA\n",
      "295\n",
      "Error on loop AU=KULA SEHER\n",
      "296\n",
      "Error on loop AU=KAYRAK MEHMET\n",
      "297\n",
      "Error on loop AU=KURDOGLU MERTIHAN\n",
      "298\n",
      "Error on loop AU=TASKIN FERHAT\n",
      "299\n",
      "Error on loop AU=EREN SELIM\n",
      "300\n",
      "Error on loop AU=YIGIT ALPER\n",
      "301\n",
      "Error on loop AU=PINAR GUL\n",
      "302\n",
      "Error on loop AU=FARUKNOYAN OMER\n",
      "303\n",
      "Error on loop AU=VAN NUREDDIN\n",
      "304\n",
      "Error on loop AU=CAKIR OMER\n",
      "305\n",
      "Error on loop AU=SIMSEK MESUT\n",
      "306\n",
      "Error on loop AU=KADAK UGUR\n",
      "307\n",
      "Error on loop AU=AKTUMEN MUHARREM\n",
      "308\n",
      "Error on loop AU=BABACAN HASAN\n",
      "309\n",
      "Error on loop AU=CELIK ALI\n",
      "310\n",
      "Error on loop AU=CETIN SEDAT\n",
      "311\n",
      "Error on loop AU=ER DILEK\n",
      "312\n",
      "Error on loop AU=TEZCAN ERCUMENT\n",
      "313\n",
      "Error on loop AU=KIROGLU YILMAZ\n",
      "314\n",
      "Error on loop AU=ULKER MUSTAFA\n",
      "315\n",
      "Error on loop AU=OZEL EMINE\n",
      "316\n",
      "Error on loop AU=GOKTAS UGUR\n",
      "317\n",
      "Error on loop AU=OZCAN AHMET\n",
      "318\n",
      "Error on loop AU=ACAR SRDAR\n",
      "319\n",
      "Error on loop AU=PENABGUL NECMETTIN\n",
      "320\n",
      "Error on loop AU=OKTAY MURAT\n",
      "321\n",
      "Error on loop AU=ARSLAN RAMAZAN\n",
      "322\n",
      "Error on loop AU=ALTAY HUSEYIN\n",
      "323\n",
      "Error on loop AU=OZTURK OZGUR\n",
      "324\n",
      "Error on loop AU=KIYMAZ NEJMI\n",
      "325\n",
      "Error on loop AU=KOROGLU MEHMET\n",
      "326\n",
      "Error on loop AU=DEMIRCI SULEYMAN\n",
      "327\n",
      "Error on loop AU=ISIK MUSTAFA\n",
      "328\n",
      "Error on loop AU=UCAL HALIL\n",
      "329\n",
      "Error on loop AU=YILDIRIM CIHAN\n",
      "330\n",
      "Error on loop AU=KARACA ADEM\n",
      "331\n",
      "Error on loop AU=KARAKURT HASAN\n",
      "332\n",
      "Error on loop AU=UYSAL AHMET\n",
      "333\n",
      "Error on loop AU=DEMIR SULEYMAN\n",
      "334\n",
      "Error on loop AU=KURT AYSE\n",
      "335\n",
      "Error on loop AU=DOGAN HAKAN\n",
      "336\n",
      "Error on loop AU=DELIBASI TUNCAY\n",
      "337\n",
      "Error on loop AU=UYANIK EMRAH\n",
      "338\n",
      "Error on loop AU=ELBEY MEHMET\n",
      "339\n",
      "Error on loop AU=PEKCAN AHMET\n",
      "340\n",
      "Error on loop AU=SUNBUL MUSTAFA\n",
      "341\n",
      "Error on loop AU=CIVAN MEHMET\n",
      "342\n",
      "Error on loop AU=KAYIM MURATHAN\n",
      "343\n",
      "Error on loop AU=ATA SEVKET\n",
      "344\n",
      "Error on loop AU=OCAK IBRAHIM\n",
      "345\n",
      "Error on loop AU=GENCER ERCAN\n",
      "346\n",
      "Error on loop AU=CETIN ALTAN\n",
      "347\n",
      "Error on loop AU=YILDIRIM MUSTAFA\n",
      "348\n",
      "Error on loop AU=SENGONUL MEHMET\n",
      "349\n",
      "Error on loop AU=KARA EKREM\n",
      "350\n",
      "Error on loop AU=ARI ERDOGAN\n",
      "351\n",
      "Error on loop AU=BULUT ICLAL\n",
      "352\n",
      "Error on loop AU=BASAR OMER\n",
      "353\n",
      "Error on loop AU=UYSAL MURAT\n",
      "354\n",
      "Error on loop AU=KAPTAN HAKAN\n",
      "355\n",
      "Error on loop AU=ARIK MUHAMMET\n",
      "356\n",
      "Error on loop AU=EROL HASAN\n",
      "357\n",
      "Error on loop AU=DEMIR MUSTAFA\n",
      "358\n",
      "Error on loop AU=PAMUK BILGEHAN\n",
      "359\n",
      "Error on loop AU=ATIK BEKIR\n",
      "360\n",
      "Error on loop AU=AY GUNGOR\n",
      "361\n",
      "Error on loop AU=TURAN BUNYAMIN\n",
      "362\n",
      "Error on loop AU=DAMLAR IBRAHIM\n",
      "363\n",
      "Error on loop AU=ERSOZLU ZEHRA\n",
      "364\n",
      "Error on loop AU=KOCA IRFAN\n",
      "365\n",
      "Error on loop AU=SAVAS ESEN\n",
      "366\n",
      "Error on loop AU=KIRILMIS YASIN\n",
      "367\n",
      "Error on loop AU=YAMAN MELDA\n",
      "368\n",
      "Error on loop AU=KILIC SUKRU\n",
      "369\n",
      "Error on loop AU=YUKSEL SULEYMAN\n",
      "370\n",
      "Error on loop AU=GOKBEL HAKKI\n",
      "371\n",
      "Error on loop AU=CIVELEK SEVKET\n",
      "372\n",
      "Error on loop AU=OYSAL YUSUF\n",
      "373\n",
      "Error on loop AU=YENICERI HARUN\n",
      "374\n",
      "Error on loop AU=OZARAS RESAT\n",
      "375\n",
      "Error on loop AU=GURE MULAYIM\n",
      "376\n",
      "Error on loop AU=KOIZHAIGANOVA MERUYERT\n",
      "377\n",
      "Error on loop AU=BOZKURT NURGUL\n",
      "378\n",
      "Error on loop AU=TASKIN IHSAN\n",
      "379\n",
      "Error on loop AU=SARISOY SINAN\n",
      "380\n",
      "Error on loop AU=CATAL MEHMET\n",
      "381\n",
      "Error on loop AU=KIVILCIM ZEYNEP\n",
      "382\n",
      "Error on loop AU=KARADAS CELALETTIN\n",
      "383\n",
      "Error on loop AU=GOGEBAKAN BULENT\n",
      "384\n",
      "Error on loop AU=ZAL UNAL\n",
      "385\n",
      "Error on loop AU=GOCER ISMET\n",
      "386\n",
      "Error on loop AU=YILDIRIM EREN\n",
      "387\n",
      "Error on loop AU=OGUZ MUSTAFA\n",
      "388\n",
      "Error on loop AU=FICICI FERIT\n",
      "389\n",
      "Error on loop AU=KUZHAN ABDURRAHMAN\n",
      "390\n",
      "Error on loop AU=CANKURT MURAT\n",
      "391\n",
      "Error on loop AU=OZTURK ERTAN\n",
      "392\n",
      "Error on loop AU=NANE ONUR\n",
      "393\n",
      "Error on loop AU=KURT HASAN\n",
      "394\n",
      "Error on loop AU=DUNDAR EKREM\n",
      "395\n",
      "Error on loop AU=BALCI YASEMIN\n",
      "396\n",
      "Error on loop AU=ISIK ABDULKADIR\n",
      "397\n",
      "Error on loop AU=GUNER MEHMET\n",
      "398\n",
      "Error on loop AU=ALTUN NURULLAH\n",
      "399\n",
      "Error on loop AU=SAHIN HAKAN\n",
      "400\n",
      "Error on loop AU=DEVEER MEHMET\n",
      "401\n",
      "Error on loop AU=OZTURK BORA\n",
      "402\n",
      "Error on loop AU=YILDIZ OMER\n",
      "403\n",
      "Error on loop AU=KUSCU IRFAN\n",
      "404\n",
      "Error on loop AU=DAYIK MEHMET\n",
      "405\n",
      "Error on loop AU=UNAL OMER\n",
      "406\n",
      "Error on loop AU=SARITEMUR MURAT\n",
      "407\n",
      "Error on loop AU=CAKMAK HACI\n",
      "408\n",
      "Error on loop AU=OZUGUZ UFUK\n",
      "409\n",
      "Error on loop AU=MALKOC MUZAFFER\n",
      "410\n",
      "Error on loop AU=GILGIL ERDAL\n",
      "411\n",
      "Error on loop AU=DEMIRCI TEVFIK\n",
      "412\n",
      "Error on loop AU=ATES MURAT\n",
      "413\n",
      "Error on loop AU=UZER ALI\n",
      "414\n",
      "Error on loop AU=BORAN TUGCE\n",
      "415\n",
      "Error on loop AU=CENGELOGLU YUNUS\n",
      "416\n",
      "Error on loop AU=CELIK RAMAZAN\n",
      "417\n",
      "Error on loop AU=IMAT FATIH\n",
      "418\n",
      "Error on loop AU=DALGIC ABDURRAHMAN\n",
      "419\n",
      "Error on loop AU=SERINKEN MUSTAFA\n",
      "420\n",
      "Error on loop AU=ATCI NESRIN\n",
      "421\n",
      "Error on loop AU=TUFAN FATIH\n",
      "422\n",
      "Error on loop AU=KARATAS BEKIR\n",
      "423\n",
      "Error on loop AU=COSKUN NART\n",
      "424\n",
      "Error on loop AU=MERMERKAYA HAMIT\n",
      "425\n",
      "Error on loop AU=ULUDAG AYSEUL\n",
      "426\n",
      "Error on loop AU=DEMIRER AHMET\n",
      "427\n",
      "Error on loop AU=DEMIRAY MEHMET\n",
      "428\n",
      "Error on loop AU=CETIN FIRDEVS\n",
      "429\n",
      "Error on loop AU=YALCIN ARZU\n",
      "430\n",
      "Error on loop AU=AKTAR ISMAIL\n",
      "431\n",
      "Error on loop AU=ORNEK TACETTIN\n",
      "432\n",
      "Error on loop AU=KARABAG OZGUR\n",
      "433\n",
      "Error on loop AU=DEMIRCI YUCEL\n",
      "434\n",
      "Error on loop AU=TANRIOVEN MUGDESEM\n",
      "435\n",
      "Error on loop AU=AVCI MUSA\n",
      "436\n",
      "Error on loop AU=AKSU MUHAMMET\n",
      "437\n",
      "Error on loop AU=AYDIN KAMIL\n",
      "438\n",
      "Error on loop AU=GENC OSMAN\n",
      "439\n",
      "Error on loop AU=OZLER HALIL\n",
      "440\n",
      "Error on loop AU=KALE BANU\n",
      "441\n",
      "Error on loop AU=OZDEMIR HASAN\n",
      "442\n",
      "Error on loop AU=DERVISOGLU MUHAMMET\n",
      "443\n",
      "Error on loop AU=TUZCU KASIM\n",
      "444\n",
      "Error on loop AU=TEMEL MEHMET\n",
      "445\n",
      "Error on loop AU=GUNES MUSTAFA\n",
      "446\n",
      "Error on loop AU=ULKER SERDAR\n",
      "447\n",
      "Error on loop AU=CEYLAN KADIR\n",
      "448\n",
      "Error on loop AU=BASARAN ENGIN\n",
      "449\n",
      "Error on loop AU=SAYLI OMER\n",
      "450\n",
      "Error on loop AU=GONEN YAKUP\n",
      "451\n",
      "Error on loop AU=CAKMAK EBUBEKIR\n",
      "452\n",
      "Error on loop AU=AKAR NESET\n",
      "453\n",
      "Error on loop AU=YILMAZ MUSTAFA\n",
      "454\n",
      "Error on loop AU=UYSAL ELIF\n",
      "455\n",
      "Error on loop AU=TOSUN HALIL\n",
      "456\n",
      "Error on loop AU=OZDEMIR DAVUT\n",
      "457\n",
      "Error on loop AU=SAKA IRFAN\n",
      "458\n",
      "Error on loop AU=KARAKAS MEHMET\n",
      "459\n",
      "Error on loop AU=YIGITER REMZI\n",
      "460\n",
      "Error on loop AU=EMRE HABIB\n",
      "461\n",
      "Error on loop AU=ERDEM MEHMET\n",
      "462\n",
      "Error on loop AU=GUNAY BEKIR\n",
      "463\n",
      "Error on loop AU=ABDIOGLU HASAN\n",
      "464\n",
      "Error on loop AU=SOYSAL AHMET\n",
      "465\n",
      "Error on loop AU=COSKUN UGUR\n",
      "466\n",
      "Error on loop AU=TIRASCI YUSUF\n",
      "467\n",
      "Error on loop AU=ARMUTCU FERAH\n",
      "468\n",
      "Error on loop AU=AKPINAR IHSAN\n",
      "469\n",
      "Error on loop AU=ESER IRFAN\n",
      "470\n",
      "Error on loop AU=AKYEL SALIH\n",
      "471\n",
      "Error on loop AU=BAYRAM OMER\n",
      "472\n",
      "Error on loop AU=MEMISOGULLARI RAMAZAN\n",
      "473\n",
      "Error on loop AU=KARAKUS ONDER\n",
      "474\n",
      "Error on loop AU=CAGLI BEKIR\n",
      "475\n",
      "Error on loop AU=YAZICI SUZAN\n",
      "476\n",
      "Error on loop AU=ALTAN MEHMET\n",
      "477\n",
      "Error on loop AU=CANKO OSMAN\n",
      "478\n",
      "Error on loop AU=KARATAS AHMET\n",
      "479\n",
      "Error on loop AU=GUREL CEM\n",
      "480\n",
      "Error on loop AU=SELAMET OMER\n",
      "481\n",
      "Error on loop AU=KURTGOZ SERKAN\n",
      "482\n",
      "Error on loop AU=OZEL MURAT\n",
      "483\n",
      "Error on loop AU=SOLAK MEHMET\n",
      "484\n",
      "Error on loop AU=KILINC AZIZ\n",
      "485\n",
      "Error on loop AU=KAYGANA MEHMET\n",
      "486\n",
      "Error on loop AU=COLAK MEHMET\n",
      "487\n",
      "Error on loop AU=YENITERZI MEHMET\n",
      "488\n",
      "Error on loop AU=GULEN YASIR\n",
      "489\n",
      "Error on loop AU=ZENGIN EYUP\n",
      "490\n",
      "Error on loop AU=ADIGUZEL ORHAN\n",
      "491\n",
      "Error on loop AU=ASKIN SUAT\n",
      "492\n",
      "Error on loop AU=BALKANLIOGLU MEHMET\n",
      "493\n",
      "Error on loop AU=KELEN MUSTAFA\n",
      "494\n",
      "Error on loop AU=DONMEZ MUSTAFA\n",
      "495\n",
      "Error on loop AU=SAGLAM DERYA\n",
      "496\n",
      "Error on loop AU=SAGLAM ERDL\n",
      "497\n",
      "Error on loop AU=KESKIN ALI\n",
      "498\n",
      "Error on loop AU=IGCI YUSUF\n",
      "499\n",
      "Error on loop AU=LEBLEBICIOGLU OSMAN\n",
      "500\n",
      "Error on loop AU=ERTAS HUSEYIN\n",
      "501\n",
      "Error on loop AU=GUMUS HUSEYIN\n",
      "502\n",
      "Error on loop AU=SARIKAYA ORHAN\n",
      "503\n",
      "Error on loop AU=KARGI ERTUGRUL\n",
      "504\n",
      "Error on loop AU=TEMIZ AHMET\n",
      "505\n",
      "Error on loop AU=SEN HACER\n",
      "506\n",
      "Error on loop AU=YENER ALI\n",
      "507\n",
      "Error on loop AU=CELIMLI NUREDDIN\n",
      "508\n",
      "Error on loop AU=EJDER TUBA\n",
      "509\n",
      "Error on loop AU=INCE KAYHAN\n",
      "510\n",
      "Error on loop AU=SELCUK ENGIN\n",
      "511\n",
      "Error on loop AU=MUTLU ABDULLAH\n",
      "512\n",
      "Error on loop AU=EKINCI ZELAL\n",
      "513\n",
      "Error on loop AU=CECE HASAN\n",
      "514\n",
      "Error on loop AU=SOY HACI\n",
      "515\n",
      "Error on loop AU=KOCA GULER\n",
      "516\n",
      "Error on loop AU=CERIT MUHAMMET\n",
      "517\n",
      "Error on loop AU=KARACA YUNIS\n",
      "518\n",
      "Error on loop AU=YILMAZ HAVA\n",
      "519\n",
      "Error on loop AU=TOMBAK NURDOGAN\n",
      "520\n",
      "Error on loop AU=AKINLAR CUNEYT\n",
      "521\n",
      "Error on loop AU=SARI ERHAN\n",
      "522\n",
      "Error on loop AU=YILDIRIM UNAL\n",
      "523\n",
      "Error on loop AU=ETOZ OSMAN\n",
      "524\n",
      "Error on loop AU=SENTURK ERDOGAN\n",
      "525\n",
      "Error on loop AU=ERTURK NECLA\n",
      "526\n",
      "Error on loop AU=AKBAS HATICE\n",
      "527\n",
      "Error on loop AU=KUNDURACIOGLU AHMET\n",
      "528\n",
      "Error on loop AU=UCAN YUNUS\n",
      "529\n",
      "Error on loop AU=DEMIR TUNCER\n",
      "530\n",
      "Error on loop AU=BUYUKASLAN HASAN\n",
      "531\n",
      "Error on loop AU=ERSOZ MUSTAFA\n",
      "532\n",
      "Error on loop AU=KOSAR YASAR\n",
      "533\n",
      "Error on loop AU=SAKARYA MEHMET\n",
      "534\n",
      "Error on loop AU=TOKER SERDAR\n",
      "535\n",
      "Error on loop AU=HEPSEN IBRAHIM\n",
      "536\n",
      "Error on loop AU=ERCAL BARIS\n",
      "537\n",
      "Error on loop AU=SAHIN SULEYMAN\n",
      "538\n",
      "Error on loop AU=SOZUTOK BUNYAMIN\n",
      "539\n",
      "Error on loop AU=KARA HATIBE\n",
      "540\n",
      "Error on loop AU=KARAHAN OGUZ\n",
      "541\n",
      "Error on loop AU=ORUC CEM\n",
      "542\n",
      "Error on loop AU=KIRBAS AYNUR\n",
      "543\n",
      "Error on loop AU=OZEN NUMAN\n",
      "544\n",
      "Error on loop AU=VAROGLU ERHAN\n",
      "545\n",
      "Error on loop AU=KARAGOZ KASIM\n",
      "546\n",
      "Error on loop AU=BOYACI HAKAN\n",
      "547\n",
      "Error on loop AU=KAYISIZ KENAN\n",
      "548\n",
      "Error on loop AU=AKDEMIR MUSTAFA\n",
      "549\n",
      "Error on loop AU=TOY EBUBEKIR\n",
      "550\n",
      "Error on loop AU=ERCAN IBRAHIM\n",
      "551\n",
      "Error on loop AU=CAKIR UGUR\n",
      "552\n",
      "Error on loop AU=YORDEM ABDULLAH\n",
      "553\n",
      "Error on loop AU=KESLIOGLU KAZIM\n",
      "554\n",
      "Error on loop AU=SARIKURKCU CENGIZ\n",
      "555\n",
      "Error on loop AU=TARIM NEVZAT\n",
      "556\n",
      "Error on loop AU=TASCI HACI\n",
      "557\n",
      "Error on loop AU=KARAHAN SAMI\n",
      "558\n",
      "Error on loop AU=KUCUKTUFEKCI MURAT\n",
      "559\n",
      "Error on loop AU=AKBULUT MEHMET\n",
      "560\n",
      "Error on loop AU=KARAGOZ MURAT\n",
      "561\n",
      "Error on loop AU=BOLUKBASI ABDURREHIM\n",
      "562\n",
      "Error on loop AU=SAHIN SALIM\n",
      "563\n",
      "Error on loop AU=AKSOY YILMAZ\n",
      "564\n",
      "Error on loop AU=KARAKUS OZLEM\n",
      "565\n",
      "Error on loop AU=DOGAN ISMAIL\n",
      "566\n",
      "Error on loop AU=OZEN MUSTAFA\n",
      "567\n",
      "Error on loop AU=TASLI MEHMET\n",
      "568\n",
      "Error on loop AU=HATIPOGLU OKTAY\n",
      "569\n",
      "Error on loop AU=GULTURK SEFA\n",
      "570\n",
      "Error on loop AU=GUNBEY EMRE\n",
      "571\n",
      "Error on loop AU=TIKICI MEHMET\n",
      "572\n",
      "Error on loop AU=MERIC METIN\n",
      "573\n",
      "Error on loop AU=DEVELIOGLU KAZIM\n",
      "574\n",
      "Error on loop AU=TOSUN MEHMET\n",
      "575\n",
      "Error on loop AU=MOTOR SEDAT\n",
      "576\n",
      "Error on loop AU=SACAR SUZAN\n",
      "577\n",
      "Error on loop AU=BIBER ERDAL\n",
      "578\n",
      "Error on loop AU=KAYA HARUN\n",
      "579\n",
      "Error on loop AU=PETIK BULENT\n",
      "580\n",
      "Error on loop AU=KOKSAL NURULLAH\n",
      "581\n",
      "Error on loop AU=KURT MEVLUT\n",
      "582\n",
      "Error on loop AU=CATIR MUSTAFA\n",
      "583\n",
      "Error on loop AU=AKBAS AHMET\n",
      "584\n",
      "Error on loop AU=GULEZ KAYHAN\n",
      "585\n",
      "Error on loop AU=BILIR UNAL\n",
      "586\n",
      "Error on loop AU=DOKUZOGLU MEHMET\n",
      "587\n",
      "Error on loop AU=KABLAMACI AHSEN\n",
      "588\n",
      "Error on loop AU=AKSOY NURTEN\n",
      "589\n",
      "Error on loop AU=KANER TUNCAY\n",
      "590\n",
      "Error on loop AU=AFYON SEMIH\n",
      "591\n",
      "Error on loop AU=ARBATLI MEHMET\n",
      "592\n",
      "Error on loop AU=YILDIRIM UGUR\n",
      "593\n",
      "Error on loop AU=GESOGLU MEHMET\n",
      "594\n",
      "Error on loop AU=YILMAZ MEHMET\n",
      "595\n",
      "Error on loop AU=YAZICI MEHMET\n",
      "596\n",
      "Error on loop AU=ONER VEYSI\n",
      "597\n",
      "Error on loop AU=OZTURK OZGUR\n",
      "598\n",
      "Error on loop AU=CELIK MUHSIN\n",
      "599\n",
      "Error on loop AU=IBRAHIMOGLU NURETTIN\n",
      "600\n",
      "Error on loop AU=YASAR ZEHRA\n",
      "601\n",
      "Error on loop AU=SEVINDIK EMRE\n",
      "602\n",
      "Error on loop AU=ARI TUBA\n",
      "603\n",
      "Error on loop AU=ILKAYA FATIH\n",
      "604\n",
      "Error on loop AU=BOZKUS FERHAT\n",
      "605\n",
      "Error on loop AU=INCI MELEK\n",
      "606\n",
      "Error on loop AU=OZCAN DURDU\n",
      "607\n",
      "Error on loop AU=ULGER MEHMET\n",
      "608\n",
      "Error on loop AU=TUNC MEVLUNT\n",
      "609\n",
      "Error on loop AU=ARI ERCAN\n",
      "610\n",
      "Error on loop AU=ESER OLCAY\n",
      "611\n",
      "Error on loop AU=AKMAZ HAKAN\n",
      "612\n",
      "Error on loop AU=DEMIR VEYSEL\n",
      "613\n",
      "Error on loop AU=AKPINAR ABDULLAH\n",
      "614\n",
      "Error on loop AU=DANE ARIF\n",
      "615\n",
      "Error on loop AU=YILDIRIM OSMAN\n",
      "616\n",
      "Error on loop AU=TOY HARUN\n",
      "617\n",
      "Error on loop AU=CIGLIK HIKMET\n",
      "618\n",
      "Error on loop AU=SEKER HAYATI\n",
      "619\n",
      "Error on loop AU=DIKICI SUBER\n",
      "620\n",
      "Error on loop AU=AYDIN MURAT\n",
      "621\n",
      "Error on loop AU=KARAMAN TAHA\n",
      "622\n",
      "Error on loop AU=UGAN YUNUS\n",
      "623\n",
      "Error on loop AU=ILBAY AZMI\n",
      "624\n",
      "Error on loop AU=UCAR TAMER\n",
      "625\n",
      "Error on loop AU=OZDEMIR MUKERREM\n",
      "626\n",
      "Error on loop AU=PINAR TEVFIK\n",
      "627\n",
      "Error on loop AU=ZEREN CEM\n",
      "628\n",
      "Error on loop AU=KORKMAZ YUKSEL\n",
      "629\n",
      "Error on loop AU=YAGIZ DURSUN\n",
      "630\n",
      "Error on loop AU=DEMIR VEDAT\n",
      "631\n",
      "Error on loop AU=KILICASLAN ERDOGAN\n",
      "632\n",
      "Error on loop AU=ERBILGIN EVRIM\n",
      "633\n",
      "Error on loop AU=HALILOGLU HALIL\n",
      "634\n",
      "Error on loop AU=KARATAS ADEM\n",
      "635\n",
      "Error on loop AU=GARCA MEHMET\n",
      "636\n",
      "Error on loop AU=AKPINAR ZAFER\n",
      "637\n",
      "Error on loop AU=ONAL ALI\n",
      "638\n",
      "Error on loop AU=KARADUZ ADNAN\n",
      "639\n",
      "Error on loop AU=DOGAN ZAFER\n",
      "640\n",
      "Error on loop AU=CEYHAN KOKSAL\n",
      "641\n",
      "Error on loop AU=YAGIZ NURKAN\n",
      "642\n",
      "Error on loop AU=BASKAL TAMER\n",
      "643\n",
      "Error on loop AU=GUNEY DENIZ\n",
      "644\n",
      "Error on loop AU=KIRAC FATIH\n",
      "645\n",
      "Error on loop AU=TERZI MEHMET\n",
      "646\n",
      "Error on loop AU=KURSUN GUNAL\n",
      "647\n",
      "Error on loop AU=TEKELIOGLU OGUZ\n",
      "648\n",
      "Error on loop AU=PARMAKSIZ ISKENDER\n",
      "649\n",
      "Error on loop AU=BAGDIGEN MUHLIS\n",
      "650\n",
      "Error on loop AU=AYDIN MURAT\n",
      "651\n",
      "Error on loop AU=OZDENIZ ABDULHADI\n",
      "652\n",
      "Error on loop AU=SAVIK EMIN\n",
      "653\n",
      "Error on loop AU=KILIC AHMET\n",
      "654\n",
      "Error on loop AU=KURNAZ AYDIN\n",
      "655\n",
      "Error on loop AU=HACIEFENDIOGLU KEMAL\n",
      "656\n",
      "Error on loop AU=KARAKAYA FUAT\n",
      "657\n",
      "Error on loop AU=BABACAN ISRAFIL\n",
      "658\n",
      "Error on loop AU=OZGISI TUNCA\n",
      "659\n",
      "Error on loop AU=ARDICLIOGLU MEHMET\n",
      "660\n",
      "Error on loop AU=KURT MUSTAFA\n",
      "661\n",
      "Error on loop AU=SEVER MURAT\n",
      "662\n",
      "Error on loop AU=AYAS CEMALETTIN\n",
      "663\n",
      "Error on loop AU=BAGLAM TEKIN\n",
      "664\n",
      "Error on loop AU=HAKTANIR ALPAY\n",
      "665\n",
      "Error on loop AU=DENIZ MUSTAFA\n",
      "666\n",
      "Error on loop AU=SEMIZ SULEYMAN\n",
      "667\n",
      "Error on loop AU=BAGCIOGLU ERMAN\n",
      "668\n",
      "Error on loop AU=KAVACIK MUSTAFA\n",
      "669\n",
      "Error on loop AU=KURT RAZIYE\n",
      "670\n",
      "Error on loop AU=GOK ABDULVAHAP\n",
      "671\n",
      "Error on loop AU=SARGIN SEYIT\n",
      "672\n",
      "Error on loop AU=AKKUCUK SEECKIN\n",
      "673\n",
      "Error on loop AU=KAYTAZ ALI\n",
      "674\n",
      "Error on loop AU=AHMETOGLU FUAT\n",
      "675\n",
      "Error on loop AU=ANKARALIOGLU NURULLAH\n",
      "676\n",
      "Error on loop AU=CETIN HAKAN\n",
      "677\n",
      "Error on loop AU=EKMEKYAPAR AHMET\n",
      "678\n",
      "Error on loop AU=DULGER HASAN\n",
      "679\n",
      "Error on loop AU=TEMIZ BILAL\n",
      "680\n",
      "Error on loop AU=GOLGE UMUT\n",
      "681\n",
      "Error on loop AU=DEMIRTAS OMER\n",
      "682\n",
      "Error on loop AU=HAZAR MEHMET\n",
      "683\n",
      "Error on loop AU=ATA MURSEL\n",
      "684\n",
      "Error on loop AU=IYIDIL FILIZ\n",
      "685\n",
      "Error on loop AU=ARSLAN SONMEZ\n",
      "686\n",
      "Error on loop AU=HASILOGLU ZEHRA\n",
      "687\n",
      "Error on loop AU=ISMAN MUSTAFA\n",
      "688\n",
      "Error on loop AU=ULUDAG AHMET\n",
      "689\n",
      "Error on loop AU=CAGLAROGLU MURAT\n",
      "690\n",
      "Error on loop AU=ERDEM MUSTAFA\n",
      "691\n",
      "Error on loop AU=KULAK OSMAN\n",
      "692\n",
      "Error on loop AU=KAHYAOGLU MEHMET\n",
      "693\n",
      "Error on loop AU=SEZER RIFAT\n",
      "694\n",
      "Error on loop AU=OZDEN MUSTAFA\n",
      "695\n",
      "Error on loop AU=KANDAZ MEHMET\n",
      "696\n",
      "Error on loop AU=UNALACAK MURAT\n",
      "697\n",
      "Error on loop AU=KARABOGA TUBA\n",
      "698\n",
      "Error on loop AU=BAKIR MUSTAFA\n",
      "699\n",
      "Error on loop AU=SAHIN FIGEN\n",
      "700\n",
      "Error on loop AU=DEMIRTAS OZGUR\n",
      "701\n",
      "Error on loop AU=BAS YALCIN\n",
      "702\n",
      "Error on loop AU=KOC OKAN\n",
      "703\n",
      "Error on loop AU=DILEK AHMET\n",
      "704\n",
      "Error on loop AU=BUYUKKAYA RAMAZAN\n",
      "705\n",
      "Error on loop AU=AYDIN YUSUF\n",
      "706\n",
      "Error on loop AU=TOK ADEM\n",
      "707\n",
      "Error on loop AU=CIVITCI SULE\n",
      "708\n",
      "Error on loop AU=AKIN GULDEN\n",
      "709\n",
      "Error on loop AU=DUZENLI GURSEL\n",
      "710\n",
      "Error on loop AU=KARA RECEP\n",
      "711\n",
      "Error on loop AU=GUL BILAL\n",
      "712\n",
      "Error on loop AU=OZCAN ERDAL\n",
      "713\n",
      "Error on loop AU=ISIK BUNYAMIN\n",
      "714\n",
      "Error on loop AU=OZTURK OZCAN\n",
      "715\n",
      "Error on loop AU=UNAL MUCAHIT\n",
      "716\n",
      "Error on loop AU=NESLITURK ALI\n",
      "717\n",
      "Error on loop AU=OZYALVACLI MEHMET\n",
      "718\n",
      "Error on loop AU=GOREN SULEYMAN\n",
      "719\n",
      "Error on loop AU=YUKSEL ILHAMI\n",
      "720\n",
      "Error on loop AU=TUNC AZIZ\n",
      "721\n",
      "Error on loop AU=CANKAYA HASAN\n",
      "722\n",
      "Error on loop AU=ILHAN OZGUR\n",
      "723\n",
      "Error on loop AU=AVCI ALI\n",
      "724\n",
      "Error on loop AU=GULSAR TUGBA\n",
      "725\n",
      "Error on loop AU=ALAN BIRCAN\n",
      "726\n",
      "Error on loop AU=CELENK FATIH\n",
      "727\n",
      "Error on loop AU=ERSOY RASIT\n",
      "728\n",
      "Error on loop AU=YASEMIN MEHMET\n",
      "729\n",
      "Error on loop AU=YILDIZ ALI\n",
      "730\n",
      "Error on loop AU=ALTUNTOP BESIR\n",
      "731\n",
      "Error on loop AU=BASER KADIR\n",
      "732\n",
      "Error on loop AU=SENER UMIT\n",
      "733\n",
      "Error on loop AU=GUL ZAKIR\n",
      "734\n",
      "Error on loop AU=BEDIR AHMET\n",
      "735\n"
     ]
    },
    {
     "name": "stdout",
     "output_type": "stream",
     "text": [
      "Error on loop AU=GONCA ERGUN\n",
      "736\n",
      "Error on loop AU=CALISKAN HALIL\n",
      "737\n",
      "Error on loop AU=RIFAIOGLU EMINE\n",
      "738\n",
      "Error on loop AU=GUZELOGLU AYDIN\n",
      "739\n",
      "Error on loop AU=CEBE MEHMET\n",
      "740\n",
      "Error on loop AU=SOLAK ADEM\n",
      "741\n",
      "Error on loop AU=ONEN HUSEYIN\n",
      "742\n",
      "Error on loop AU=DOGAR CETIN\n",
      "743\n",
      "Error on loop AU=ERCAG EROL\n",
      "744\n",
      "Error on loop AU=YILDIZ YUKSEL\n",
      "745\n",
      "Error on loop AU=HALAT ERDOGAN\n",
      "746\n",
      "Error on loop AU=DEMIRER YUCEL\n",
      "747\n",
      "Error on loop AU=GUNAY MEHMET\n",
      "748\n",
      "Error on loop AU=KARSLI SULEYMAN\n",
      "749\n",
      "Error on loop AU=DOGAN DIDEM\n",
      "750\n",
      "Error on loop AU=UZUN ISMAIL\n",
      "751\n",
      "Error on loop AU=EKINCI ARIFE\n",
      "752\n",
      "Error on loop AU=BULBUL FERIDUN\n",
      "753\n",
      "Error on loop AU=BOZ NIHAT\n",
      "754\n",
      "Error on loop AU=INCEBACAK DAVUT\n",
      "755\n",
      "Error on loop AU=AKBALIK ESRA\n",
      "756\n",
      "Error on loop AU=KAYMAKCI MUSTAFA\n",
      "757\n",
      "Error on loop AU=SAVAS MUHMMET\n",
      "758\n",
      "Error on loop AU=AKMAN ZEKERIYA\n",
      "759\n",
      "Error on loop AU=AKTAN ALI\n",
      "760\n",
      "Error on loop AU=BAKIRCI MELIKE\n",
      "761\n",
      "Error on loop AU=OTKUN OZCAN\n",
      "762\n",
      "Error on loop AU=YILMAZ HAUDAI\n",
      "763\n",
      "Error on loop AU=KELEKCI SELVI\n",
      "764\n",
      "Error on loop AU=ATALAY HUSEYIN\n",
      "765\n",
      "Error on loop AU=DEMIRTAS OMER\n",
      "766\n",
      "Error on loop AU=ASLAN HUSEYIN\n",
      "767\n",
      "Error on loop AU=OKUR SALIH\n",
      "768\n",
      "Error on loop AU=KOKEN RESIT\n",
      "769\n",
      "Error on loop AU=CITCI SINAN\n",
      "770\n",
      "Error on loop AU=AYDOGMUS HACER\n",
      "771\n",
      "Error on loop AU=BULBUL CEMIL\n",
      "772\n",
      "Error on loop AU=YUKSEL ISMAIL\n",
      "773\n",
      "Error on loop AU=OKSUZ ADIL\n",
      "774\n",
      "Error on loop AU=KARAYEL METE\n",
      "775\n",
      "Error on loop AU=BESE ERTAN\n",
      "776\n",
      "Error on loop AU=GORGEN VELI\n",
      "777\n",
      "Error on loop AU=ERMIS SITKI\n",
      "778\n",
      "Error on loop AU=ISIK ADEM\n",
      "779\n",
      "Error on loop AU=IZGI MUSTAFA\n",
      "780\n",
      "Error on loop AU=KOCA HAVVA\n",
      "781\n",
      "Error on loop AU=KURUL MUSTAFA\n",
      "782\n",
      "Error on loop AU=LLUKACAJ EDONA\n",
      "783\n",
      "Error on loop AU=TUNCEL HAYRETTIN\n",
      "784\n",
      "Error on loop AU=KARATAS OMER\n",
      "785\n",
      "Error on loop AU=DEMIRCI ZEKI\n",
      "786\n",
      "Error on loop AU=ERER SAIT\n",
      "787\n",
      "Error on loop AU=ERDURMUS MESUT\n",
      "788\n",
      "Error on loop AU=UYANOZ REFIK\n",
      "789\n",
      "Error on loop AU=SEKER BETUL\n",
      "790\n",
      "Error on loop AU=KILDAN ABDULLAH\n",
      "791\n",
      "Error on loop AU=FILIZ ORHAN\n",
      "792\n",
      "Error on loop AU=AKTAS ABDURRAZZAK\n",
      "793\n",
      "Error on loop AU=SACAR MUSTAFA\n",
      "794\n",
      "Error on loop AU=DAVARCI ISIL\n",
      "795\n",
      "Error on loop AU=ORENC ASIR\n",
      "796\n",
      "Error on loop AU=OZDEMIR ISMET\n",
      "797\n",
      "Error on loop AU=AKMAZ MUNTEHA\n",
      "798\n",
      "Error on loop AU=KOCABAS RAMAZAN\n",
      "799\n",
      "Error on loop AU=ULUSOY HASAN\n",
      "800\n",
      "Error on loop AU=OFLAZ MUSTAFA\n",
      "801\n",
      "Error on loop AU=ASOGLU VEYSEL\n",
      "802\n",
      "Error on loop AU=KURT AYSEL\n",
      "803\n",
      "Error on loop AU=ERTAS AHMET\n",
      "804\n",
      "Error on loop AU=ALKAWASMEI BASSAM\n",
      "805\n",
      "Error on loop AU=AKIS RIFAT\n",
      "806\n",
      "Error on loop AU=GIREN SONGUL\n",
      "807\n",
      "Error on loop AU=YILDIZ MURAT\n",
      "808\n",
      "Error on loop AU=SEZER MEHMET\n",
      "809\n",
      "Error on loop AU=BOZKURT ESAT\n",
      "810\n",
      "Error on loop AU=GUNGOR ADEM\n",
      "811\n",
      "Error on loop AU=ERTAS HASAN\n",
      "812\n",
      "Error on loop AU=ARSLAN ALI\n",
      "813\n",
      "Error on loop AU=OKSUZLER OKTAY\n",
      "814\n",
      "Error on loop AU=TURKAN ALI\n",
      "815\n",
      "Error on loop AU=COBANOGLU BULENT\n",
      "816\n",
      "Error on loop AU=CEYHAN ALI\n",
      "817\n",
      "Error on loop AU=FIRINCI FATIH\n",
      "818\n",
      "Error on loop AU=SAHIN SEMSETTIN\n",
      "819\n",
      "Error on loop AU=YILMAZ NEBI\n",
      "820\n",
      "Error on loop AU=YILDIRIM YUNUS\n",
      "821\n",
      "Error on loop AU=OZTURK VEYSI\n",
      "822\n",
      "Error on loop AU=GUR ALIM\n",
      "823\n",
      "Error on loop AU=KARGIN TAYYIBE\n",
      "824\n",
      "Error on loop AU=GUNAY ORHAN\n",
      "825\n",
      "Error on loop AU=KOSE MURTAZA\n",
      "826\n",
      "Error on loop AU=DEMIRCIOGLU FATIH\n",
      "827\n",
      "Error on loop AU=AKTURK SELCUK\n",
      "828\n",
      "Error on loop AU=PARMAKSIZ RAMAZAN\n",
      "829\n",
      "Error on loop AU=GOCEN ERKAN\n",
      "830\n",
      "Error on loop AU=CETIN HALIL\n",
      "831\n",
      "Error on loop AU=AKKOYUN DURSUN\n",
      "832\n",
      "Error on loop AU=KOSEOGLU YUKSEL\n",
      "833\n",
      "Error on loop AU=AKDAG METIN\n",
      "834\n",
      "Error on loop AU=GORAL MEHMET\n",
      "835\n",
      "Error on loop AU=DURAN ISMET\n",
      "836\n",
      "Error on loop AU=SEZEN YUSUF\n",
      "837\n",
      "Error on loop AU=GORMUS ALPARSLAN\n",
      "838\n",
      "Error on loop AU=OKSUZ AHMET\n",
      "839\n",
      "Error on loop AU=AKTAS ALAATTIN\n",
      "840\n",
      "Error on loop AU=USLU IBRAHIM\n",
      "841\n",
      "Error on loop AU=ISA KADIR\n",
      "842\n",
      "Error on loop AU=AGPAK KURSAD\n",
      "843\n",
      "Error on loop AU=TASPINAR HACI\n",
      "844\n",
      "Error on loop AU=ODABASIOGLU NIYAZI\n",
      "845\n",
      "Error on loop AU=UGURTAS ISMAIL\n",
      "846\n",
      "Error on loop AU=BUCAKTEPE ADIL\n",
      "847\n",
      "Error on loop AU=KENAR ISMAIL\n",
      "848\n",
      "Error on loop AU=ALTUNDAG MUSTAFA\n",
      "849\n",
      "Error on loop AU=YALCIN MAHMUT\n",
      "850\n",
      "Error on loop AU=KURNAZ AYSEGUL\n",
      "851\n",
      "Error on loop AU=HATTATOGLU FATIH\n",
      "852\n",
      "Error on loop AU=KOKLUKAYA ETEM\n",
      "853\n",
      "Error on loop AU=OZDEMIR EMIN\n",
      "854\n",
      "Error on loop AU=EKINCI DENIZ\n",
      "855\n",
      "Error on loop AU=OZKECECI ZIYA\n",
      "856\n",
      "Error on loop AU=DAGDELEN AYHAN\n",
      "857\n",
      "Error on loop AU=ALTIN REMZI\n",
      "858\n",
      "Error on loop AU=ISIK OZLEM\n",
      "859\n",
      "Error on loop AU=UNAL HALIL\n",
      "860\n",
      "Error on loop AU=UCAN KENAN\n",
      "861\n",
      "Error on loop AU=UNAL SUZAN\n",
      "862\n",
      "Error on loop AU=AYTEKIN AHMET\n",
      "863\n",
      "Error on loop AU=KORKUT ALI\n",
      "864\n",
      "Error on loop AU=KILIC MESUT\n",
      "865\n",
      "Error on loop AU=YAZAR HARUN\n",
      "866\n",
      "Error on loop AU=KOLTUKSUZ UGUR\n",
      "867\n",
      "Error on loop AU=HISAR OLCAY\n",
      "868\n",
      "Error on loop AU=BILGIN IBRAHIM\n",
      "869\n",
      "Error on loop AU=ARTIS ABDUSSELAM\n",
      "870\n",
      "Error on loop AU=KUCUKDURMAZ ALPER\n",
      "871\n",
      "Error on loop AU=ATESOGLU IRFAN\n",
      "872\n",
      "Error on loop AU=AKYOL MAHMUT\n",
      "873\n",
      "Error on loop AU=SENGUN MUSTAFA\n",
      "874\n",
      "Error on loop AU=KARAKAYA MUHITTIN\n",
      "875\n",
      "Error on loop AU=OZMAN FERHAT\n",
      "876\n",
      "Error on loop AU=ZOROGLU SULEMAN\n",
      "877\n",
      "Error on loop AU=OZBAY YUKSEL\n",
      "878\n",
      "Error on loop AU=UN HAYRI\n",
      "879\n",
      "Error on loop AU=KOCYIGIT NECATI\n",
      "880\n",
      "Error on loop AU=ALLI HASAN\n",
      "881\n",
      "Error on loop AU=ZORBA YAHYA\n",
      "882\n",
      "Error on loop AU=YILMAZ SALIH\n",
      "883\n",
      "Error on loop AU=DEMIR ADALET\n",
      "884\n",
      "Error on loop AU=SINAN SELMA\n",
      "885\n",
      "Error on loop AU=SEKERCI AHMET\n",
      "886\n",
      "Error on loop AU=MUS EKREM\n",
      "887\n",
      "Error on loop AU=YUKSEL SEREF\n",
      "888\n",
      "Error on loop AU=DEMIRCAN AYDIN\n",
      "889\n",
      "Error on loop AU=OZCELIK MUCAHIT\n",
      "890\n",
      "Error on loop AU=SARICI GULBEN\n",
      "891\n",
      "Error on loop AU=SAHIN EYLEM\n",
      "892\n",
      "Error on loop AU=OZDEMIROGLU FILIZ\n",
      "893\n",
      "Error on loop AU=EVIRGEN OMER\n",
      "894\n",
      "Error on loop AU=KALENDER MEHMET\n",
      "895\n",
      "Error on loop AU=KISACIKOGLU MITHAT\n",
      "896\n",
      "Error on loop AU=GEMCI REMZI\n",
      "897\n",
      "Error on loop AU=AKBAS YAVUZ\n",
      "898\n",
      "Error on loop AU=AKCAY HAKAN\n",
      "899\n",
      "Error on loop AU=TERZIOGLU SULEYMAN\n",
      "900\n",
      "Error on loop AU=ERCAN SULEYMAN\n",
      "901\n",
      "Error on loop AU=ERTAS ELIF\n",
      "902\n",
      "Error on loop AU=ASILKAN OZCAN\n",
      "903\n",
      "Error on loop AU=SECKIN ABDULLAH\n",
      "904\n",
      "Error on loop AU=CELIK CEMIL\n",
      "905\n",
      "Error on loop AU=ALKILINC ORUC\n",
      "906\n",
      "Error on loop AU=SOYORAL LOKMAN\n",
      "907\n",
      "Error on loop AU=ERCIN MEHMET\n",
      "908\n",
      "Error on loop AU=BAGLIBEL MURAT\n",
      "909\n",
      "Error on loop AU=KIR IBRAHIM\n",
      "910\n",
      "Error on loop AU=AYDIN MUSTAFA\n",
      "911\n",
      "Error on loop AU=INCE GULSUM\n",
      "912\n",
      "Error on loop AU=YERDELEN KADIR\n",
      "913\n",
      "Error on loop AU=KACAN ERKAN\n",
      "914\n",
      "Error on loop AU=KIR MUHAMMED\n",
      "915\n",
      "Error on loop AU=KARACA MEHMET\n",
      "916\n",
      "Error on loop AU=ALTAN MIKAIL\n",
      "917\n",
      "Error on loop AU=ERCAN SERHAT\n",
      "918\n",
      "Error on loop AU=KARSLI VEDAT\n",
      "919\n",
      "Error on loop AU=AKCA HASAN\n",
      "920\n",
      "Error on loop AU=YANIK MURAT\n",
      "921\n",
      "Error on loop AU=CENET OSMAN\n",
      "922\n",
      "Error on loop AU=ALISKAN TAMER\n",
      "923\n",
      "Error on loop AU=GOKSU TURGUT\n",
      "924\n",
      "Error on loop AU=INAL MEHMET\n",
      "925\n",
      "Error on loop AU=DAMA DAVUT\n",
      "926\n",
      "Error on loop AU=BAL DURMUS\n",
      "927\n",
      "Error on loop AU=CAKAR BURCU\n",
      "928\n",
      "Error on loop AU=USTUN ABDULLAH\n",
      "929\n",
      "Error on loop AU=BAYRAKTAR ASLIHAN\n",
      "930\n",
      "Error on loop AU=VARDI RECEP\n",
      "931\n",
      "Error on loop AU=DEMIRELI CEMALETTIN\n",
      "932\n",
      "Error on loop AU=SIMSEK HALIL\n",
      "933\n",
      "Error on loop AU=TAN ENES\n",
      "934\n",
      "Error on loop AU=SEN YASAR\n",
      "935\n",
      "Error on loop AU=BALCI SERDAL\n",
      "936\n",
      "Error on loop AU=DEMIR ABDULLAH\n",
      "937\n",
      "Error on loop AU=DOGANLI GULUMSER\n",
      "938\n",
      "Error on loop AU=KOCAK YUSUF\n",
      "939\n",
      "Error on loop AU=UYAR YAVUZ\n",
      "940\n",
      "Error on loop AU=TEGIN IBRAHIM\n",
      "941\n",
      "Error on loop AU=SARI GOZDE\n",
      "942\n",
      "Error on loop AU=DEMIR OGUZHAN\n",
      "943\n",
      "Error on loop AU=GUDER HUSNU\n",
      "944\n",
      "Error on loop AU=ACAR GURKAN\n",
      "945\n",
      "Error on loop AU=KAYA MEHMET\n",
      "946\n",
      "Error on loop AU=TANRIVERDI HAKAN\n",
      "947\n",
      "Error on loop AU=OKSUZ MUSA\n",
      "948\n",
      "Error on loop AU=MUFTUOGLU AHMET\n",
      "949\n",
      "Error on loop AU=KABADAYI BURHAN\n",
      "950\n",
      "Error on loop AU=KUK SALIH\n",
      "951\n",
      "Error on loop AU=GORGULU MURAT\n",
      "952\n",
      "Error on loop AU=AKTOP ZIYAEDDEIN\n",
      "953\n",
      "Error on loop AU=KARADAG AHMET\n",
      "954\n",
      "Error on loop AU=UCAR SELCUK\n",
      "955\n",
      "Error on loop AU=BADEM CANDAN\n",
      "956\n",
      "Error on loop AU=KOCYIGIT FIGEN\n",
      "957\n",
      "Error on loop AU=GOZUBENLI BESIR\n",
      "958\n",
      "Error on loop AU=DOGRUYOL ZEKERIYA\n",
      "959\n",
      "Error on loop AU=AKCAY HUSEYIN\n",
      "960\n",
      "Error on loop AU=KAHRAMAN SULEYMAN\n",
      "961\n",
      "Error on loop AU=EROL ILKNUR\n",
      "962\n",
      "Error on loop AU=BUYUKBERBER SULEYMAN\n",
      "963\n",
      "Error on loop AU=CELIK AHMET\n",
      "964\n",
      "Error on loop AU=AKYUZ BULENT\n",
      "965\n",
      "Error on loop AU=AKCAY MUSTAFA\n",
      "966\n",
      "Error on loop AU=KACAR SEVAL\n",
      "967\n",
      "Error on loop AU=CETISLI BAYRAM\n",
      "968\n",
      "Error on loop AU=GUNAY MUSA\n",
      "969\n",
      "Error on loop AU=TERZI ELCIN\n",
      "970\n",
      "Error on loop AU=KABA MEHMET\n",
      "971\n",
      "Error on loop AU=AKSOY SEFIKA\n",
      "972\n",
      "Error on loop AU=KARAAGAC UGUR\n",
      "973\n",
      "Error on loop AU=YUKSEL MELIH\n",
      "974\n",
      "Error on loop AU=ERDEMIR LOKMAN\n",
      "975\n",
      "Error on loop AU=HERKEN EMINE\n",
      "976\n",
      "Error on loop AU=ALTUNKAS FATIH\n",
      "977\n",
      "Error on loop AU=BAYTUN UGUR\n",
      "978\n",
      "Error on loop AU=ATA AHMET\n",
      "979\n",
      "Error on loop AU=TURKYILMAZ IBRAHIM\n",
      "980\n",
      "Error on loop AU=BOZGEYIK ZULKIF\n",
      "981\n",
      "Error on loop AU=METIN MUSTAFA\n",
      "982\n",
      "Error on loop AU=KARCIOGLU MURAT\n",
      "983\n",
      "Error on loop AU=TOK GULER\n",
      "984\n",
      "Error on loop AU=BAYRAKTAR FATMA\n",
      "985\n",
      "Error on loop AU=CAMAS MUSTAFA\n",
      "986\n",
      "Error on loop AU=SEVINC MURAT\n",
      "987\n",
      "Error on loop AU=KOCTURK FATIH\n",
      "988\n",
      "Error on loop AU=KORKMAZ NILUFER\n",
      "989\n",
      "Error on loop AU=AKBAY ERCAN\n",
      "990\n",
      "Error on loop AU=ERDEM ALIM\n",
      "991\n",
      "Error on loop AU=BIRCAN RECEP\n",
      "992\n",
      "Error on loop AU=CAGATAY ULUC\n",
      "993\n",
      "Error on loop AU=INAN MUHARREM\n",
      "994\n",
      "Error on loop AU=YILMAZ MEHMET\n",
      "995\n",
      "Error on loop AU=DEMIRCIOGLU AYTEKIN\n",
      "996\n",
      "Error on loop AU=COPOGLU UMIT\n",
      "997\n",
      "Error on loop AU=KESKIN SUAT\n",
      "998\n",
      "Error on loop AU=CIRALIK HARUN\n",
      "999\n",
      "Error on loop AU=KARADAG YASIN\n",
      "1000\n",
      "Error on loop AU=SAHIN MEHMET\n",
      "1001\n",
      "Error on loop AU=GUVEN MUSTAFA\n",
      "1002\n",
      "Error on loop AU=UNAL BURHAN\n",
      "1003\n",
      "Error on loop AU=AYHAN SUZI\n",
      "1004\n",
      "Error on loop AU=USTUN NILGUL\n",
      "1005\n",
      "Error on loop AU=ADAK MUTLU\n",
      "1006\n",
      "Error on loop AU=SOYLEMEZ MIKAIL\n",
      "1007\n",
      "Error on loop AU=CETIN HAYRULLAH\n",
      "1008\n",
      "Error on loop AU=SARI YASIN\n",
      "1009\n",
      "Error on loop AU=ULUCAY TARIK\n",
      "1010\n",
      "Error on loop AU=KUTUK MEHMET\n",
      "1011\n",
      "Error on loop AU=AYAN MURAT\n",
      "1012\n",
      "Error on loop AU=GULES OZAY\n",
      "1013\n",
      "Error on loop AU=YILDIZ ESMA\n",
      "1014\n",
      "Error on loop AU=CAPAR ISMAIL\n",
      "1015\n",
      "Error on loop AU=PAMUK SONMEZ\n",
      "1016\n",
      "Error on loop AU=DEMIRTAS HAKAN\n",
      "1017\n",
      "Error on loop AU=UCAR FARUK\n",
      "1018\n",
      "Error on loop AU=AZAKLI SEDA\n",
      "1019\n",
      "Error on loop AU=KAYA IBRAHIM\n",
      "1020\n",
      "Error on loop AU=DOS IZZET\n",
      "1021\n",
      "Error on loop AU=MARULCU ISMAIL\n",
      "1022\n",
      "Error on loop AU=OZDEM MUHSIN\n",
      "1023\n",
      "Error on loop AU=OZYILMAZ ADNAN\n",
      "1024\n",
      "Error on loop AU=AKTAS MUHARREM\n",
      "1025\n",
      "Error on loop AU=MENKU AHMET\n",
      "1026\n",
      "Error on loop AU=ERCAN ERTUGRUL\n",
      "1027\n",
      "Error on loop AU=GUNES ISMAIL\n",
      "1028\n",
      "Error on loop AU=SARAC HANIFI\n",
      "1029\n",
      "Error on loop AU=KAYGUSUZ CANANI\n",
      "1030\n",
      "Error on loop AU=AKKAS ISMAIL\n",
      "1031\n",
      "Error on loop AU=SERT TIJEN\n",
      "1032\n",
      "Error on loop AU=SARIKAYA MUHAMMED\n",
      "1033\n",
      "Error on loop AU=GOKGOZ AHMET\n",
      "1034\n",
      "Error on loop AU=KARABULUT AYSUN\n",
      "1035\n",
      "Error on loop AU=DEMIRER DERYA\n",
      "1036\n",
      "Error on loop AU=MERAL KADEM\n",
      "1037\n",
      "Error on loop AU=SARIBOGA NEZAKET\n",
      "1038\n",
      "Error on loop AU=SANLI RAMAZAN\n",
      "1039\n",
      "Error on loop AU=BALABAN HATICE\n",
      "1040\n",
      "Error on loop AU=SAHIN ISMAIL\n",
      "1041\n",
      "Error on loop AU=GUN RAMAZAN\n",
      "1042\n",
      "Error on loop AU=EMIR SEYFI\n",
      "1043\n",
      "Error on loop AU=TEKINKUS MEHMET\n",
      "1044\n",
      "Error on loop AU=ALPSOY HUSEYIN\n",
      "1045\n",
      "Error on loop AU=KUTANIS RANA\n",
      "1046\n",
      "Error on loop AU=OZBAY ERDOGAN\n",
      "1047\n",
      "Error on loop AU=KARACA SEMSETTIN\n",
      "1048\n",
      "Error on loop AU=ERKURAN MANSUR\n",
      "1049\n",
      "Error on loop AU=AKTAS TURAN\n",
      "1050\n",
      "Error on loop AU=BINICI HANIFI\n",
      "1051\n",
      "Error on loop AU=UYSAL BANU\n",
      "1052\n",
      "Error on loop AU=ACIKKAYA SAVAS\n",
      "1053\n",
      "Error on loop AU=ARI SAIM\n",
      "1054\n",
      "Error on loop AU=GUNDOGDU FATMA\n",
      "1055\n",
      "Error on loop AU=GULENDAM RAMAZAN\n",
      "1056\n",
      "Error on loop AU=MANGALTEPE ISMAIL\n",
      "1057\n",
      "Error on loop AU=TASCI ZEYNEP\n",
      "1058\n",
      "Error on loop AU=TOKSEN EROL\n",
      "1059\n",
      "Error on loop AU=BAYRAM RECEP\n",
      "1060\n",
      "Error on loop AU=KANBUR MEHMET\n",
      "1061\n",
      "Error on loop AU=COBAN HARUN\n",
      "1062\n",
      "Error on loop AU=TANKUT NURGUL\n",
      "1063\n",
      "Error on loop AU=KARAKOC MEHMET\n",
      "1064\n",
      "Error on loop AU=KARPUZ ORHAN\n",
      "1065\n",
      "Error on loop AU=AYDOGAN FUSUN\n",
      "1066\n",
      "Error on loop AU=LACINER SAADET\n",
      "1067\n",
      "Error on loop AU=SAKAR GURKAN\n",
      "1068\n",
      "Error on loop AU=ANAR MUSTAFA\n",
      "1069\n",
      "Error on loop AU=TAS SEBAHATTIN\n",
      "1070\n",
      "Error on loop AU=AKGUL ARIF\n",
      "1071\n",
      "Error on loop AU=UZ EBRU\n",
      "1072\n",
      "Error on loop AU=ARSLAN CANER\n",
      "1073\n",
      "Error on loop AU=GURSAN NESRIN\n",
      "1074\n",
      "Error on loop AU=KARA EMIN\n",
      "1075\n",
      "Error on loop AU=SARIKAYA SAVAS\n",
      "1076\n",
      "Error on loop AU=IZMIRLI MUZEYYEN\n",
      "1077\n",
      "Error on loop AU=DENIZ YUSUF\n",
      "1078\n",
      "Error on loop AU=ATILGAN ZUHAL\n",
      "1079\n",
      "Error on loop AU=ACARTURK ERTUGRUL\n",
      "1080\n",
      "Error on loop AU=SEKMEN MUSTAFA\n",
      "1081\n",
      "Error on loop AU=KAYA NIHAT\n",
      "1082\n",
      "Error on loop AU=OZSAKER MURAT\n",
      "1083\n",
      "Error on loop AU=OZDOGRU IBRAHIM\n",
      "1084\n",
      "Error on loop AU=GUCLU DUNYAMIN\n",
      "1085\n",
      "Error on loop AU=SENGUL ENGIN\n",
      "1086\n",
      "Error on loop AU=SENGUL OZLEM\n",
      "1087\n",
      "Error on loop AU=NART ERGUN\n",
      "1088\n",
      "Error on loop AU=OGELMAN HULYA\n",
      "1089\n",
      "Error on loop AU=KARABIBER MEHMET\n",
      "1090\n",
      "Error on loop AU=ABUHANDAN MAHMUT\n",
      "1091\n",
      "Error on loop AU=ERKAL ATILA\n",
      "1092\n",
      "Error on loop AU=CETINEL HAKAN\n",
      "1093\n",
      "Error on loop AU=SEYDI SULEYMAN\n",
      "1094\n",
      "Error on loop AU=KORUCU DEMET\n",
      "1095\n",
      "Error on loop AU=SARIBAS SULEYMAN\n",
      "1096\n",
      "Error on loop AU=SENGUL ABDULLAH\n",
      "1097\n",
      "Error on loop AU=MADENCI ERCAN\n",
      "1098\n",
      "Error on loop AU=BASKAN SAIM\n",
      "1099\n",
      "Error on loop AU=DEMIRKOL AYHMET\n",
      "1100\n",
      "Error on loop AU=BAL ABDULLAH\n",
      "1101\n",
      "Error on loop AU=CENGELCI BEKIR\n",
      "1102\n",
      "Error on loop AU=AYDIN ALIHAN\n",
      "1103\n",
      "Error on loop AU=UNLU MEHMET\n",
      "1104\n",
      "Error on loop AU=HISAR SUKRIYE\n",
      "1105\n",
      "Error on loop AU=KOYUNCU MUSTAFA\n",
      "1106\n",
      "Error on loop AU=BAGCI MUHIDDIN\n",
      "1107\n",
      "Error on loop AU=EKEN CENKER\n",
      "1108\n",
      "Error on loop AU=CABUK MEHMET\n",
      "1109\n",
      "Error on loop AU=ERYILMAZ AYTEKIN\n",
      "1110\n",
      "Error on loop AU=SALTEK NECDET\n",
      "1111\n",
      "Error on loop AU=ALDEMIR MUSTAFA\n",
      "1112\n",
      "Error on loop AU=KAYIKCI RAMAZAN\n",
      "1113\n",
      "Error on loop AU=TEZCAN ORHAN\n",
      "1114\n",
      "Error on loop AU=KAHYAOGLU TALIP\n",
      "1115\n",
      "Error on loop AU=KOKSAL SAKIP\n",
      "1116\n",
      "Error on loop AU=ERBAY FATIH\n",
      "1117\n",
      "Error on loop AU=KILINC NECMETTIN\n",
      "1118\n",
      "Error on loop AU=YILDIRIM ZEKI\n",
      "1119\n",
      "Error on loop AU=KORUCU MEHTAP\n",
      "1120\n",
      "Error on loop AU=UYGUR FIRAT\n",
      "1121\n",
      "Error on loop AU=KIRLIOGLU HILMI\n",
      "1122\n",
      "Error on loop AU=RENCBER AKIF\n",
      "1123\n",
      "Error on loop AU=KANTARCI FATIH\n",
      "1124\n",
      "Error on loop AU=KENTLI FULYA\n",
      "1125\n",
      "Error on loop AU=POLAT AZIZ\n",
      "1126\n",
      "Error on loop AU=SEVER ALI\n",
      "1127\n",
      "Error on loop AU=TAN MEHMET\n",
      "1128\n",
      "Error on loop AU=UYSAL TANCAN\n",
      "1129\n",
      "Error on loop AU=YULA ERKAN\n",
      "1130\n",
      "Error on loop AU=TURK CIHAN\n",
      "1131\n",
      "Error on loop AU=KARTALCIK VEDAT\n",
      "1132\n",
      "Error on loop AU=CETINKARA HACI\n",
      "1133\n",
      "Error on loop AU=KOCATURK TURGUT\n",
      "1134\n",
      "Error on loop AU=SIRKECIOGLU AHMET\n",
      "1135\n",
      "Error on loop AU=AKKAYA LEVENT\n",
      "1136\n",
      "Error on loop AU=CELIK FIRAT\n",
      "1137\n",
      "Error on loop AU=ILDES OZGUR\n",
      "1138\n",
      "Error on loop AU=ILHAN ATILLA\n",
      "1139\n",
      "Error on loop AU=BOZKURT HASAN\n",
      "1140\n",
      "Error on loop AU=KAYMAZ HACI\n",
      "1141\n",
      "Error on loop AU=LACINER SEDAT\n",
      "1142\n",
      "Error on loop AU=OZLEN SERIFE\n",
      "1143\n",
      "Error on loop AU=ARSLAN MUHAMMET\n",
      "1144\n",
      "Error on loop AU=DELIBAS NAMIK\n",
      "1145\n",
      "Error on loop AU=IC SULEYMAN\n",
      "1146\n",
      "Error on loop AU=OZEN HILAL\n",
      "1147\n",
      "Error on loop AU=BOYACIOGLU FUAT\n",
      "1148\n",
      "Error on loop AU=USLU RAMAZAN\n",
      "1149\n",
      "Error on loop AU=KIZILTUNC MUHAMMED\n",
      "1150\n",
      "Error on loop AU=GORUR MESUT\n",
      "1151\n",
      "Error on loop AU=GULHAN BARIS\n",
      "1152\n",
      "Error on loop AU=YAVUZ GULER\n",
      "1153\n",
      "Error on loop AU=YURTCU HASAN\n",
      "1154\n",
      "Error on loop AU=COMLEKCIOGLU UGUR\n",
      "1155\n",
      "Error on loop AU=ONDER HALIL\n",
      "1156\n",
      "Error on loop AU=ABDULHAKIMOGULLARI ERDAL\n",
      "1157\n",
      "Error on loop AU=BULUT EMRAH\n",
      "1158\n",
      "Error on loop AU=KANTER MEHMET\n",
      "1159\n",
      "Error on loop AU=EYIBILEN AHMET\n",
      "1160\n",
      "Error on loop AU=HAMIDI MEHMET\n",
      "1161\n",
      "Error on loop AU=KENAR FETHULLAH\n",
      "1162\n",
      "Error on loop AU=KARABULUT MUSTAFA\n",
      "1163\n",
      "Error on loop AU=BILMEDI NAIF\n",
      "1164\n",
      "Error on loop AU=MENEMENCIOGLU KAYHAN\n",
      "1165\n",
      "Error on loop AU=BARAK OSMAN\n",
      "1166\n",
      "Error on loop AU=OZBAY MUSA\n",
      "1167\n",
      "Error on loop AU=ERDOGAN OGUZ\n",
      "1168\n",
      "Error on loop AU=SARI MURAT\n",
      "1169\n",
      "Error on loop AU=CATALBAS RESUL\n",
      "1170\n",
      "Error on loop AU=PALANCI YILMAZ\n",
      "1171\n",
      "Error on loop AU=KUTLU AKIF\n",
      "1172\n",
      "Error on loop AU=DENK AFFAN\n",
      "1173\n",
      "Error on loop AU=BAYTAR MUSTAFA\n",
      "1174\n",
      "Error on loop AU=KURSUN UMIT\n",
      "1175\n",
      "Error on loop AU=KARAKUS AKAN\n",
      "1176\n",
      "Error on loop AU=KABA SULTAN\n",
      "1177\n",
      "Error on loop AU=KOC EMINE\n",
      "1178\n",
      "Error on loop AU=BILICI ASLAN\n",
      "1179\n",
      "Error on loop AU=GUVENC SERDAR\n",
      "1180\n",
      "Error on loop AU=TALAY FAHRETTIN\n",
      "1181\n",
      "Error on loop AU=KAYA ZIYA\n",
      "1182\n",
      "Error on loop AU=KARATAS MUSTAFA\n",
      "1183\n",
      "Error on loop AU=GUL MUSTAFA\n",
      "1184\n",
      "Error on loop AU=ASLAN ABDULSELAM\n",
      "1185\n",
      "Error on loop AU=GEZER KUTRET\n",
      "1186\n",
      "Error on loop AU=TAVIL EMINE\n",
      "1187\n",
      "Error on loop AU=YAMAN MEHMET\n",
      "1188\n",
      "Error on loop AU=DURSUN ALI\n",
      "1189\n",
      "Error on loop AU=YILDIRIM MUSTAFA\n",
      "1190\n",
      "Error on loop AU=KARAISA ALI\n",
      "1191\n",
      "Error on loop AU=SELIM YAVUZ\n",
      "1192\n",
      "Error on loop AU=OZCAN ALI\n",
      "1193\n",
      "Error on loop AU=CAMAN MEHMET\n",
      "1194\n",
      "Error on loop AU=CANATAN HALIT\n",
      "1195\n",
      "Error on loop AU=CAKICI SULEYMAN\n",
      "1196\n",
      "Error on loop AU=ERKUT ADEM\n",
      "1197\n",
      "Error on loop AU=CELIK AHMET\n",
      "1198\n",
      "Error on loop AU=DEMIR HACI\n",
      "1199\n",
      "Error on loop AU=ALTUNOK MUHAMMET\n",
      "1200\n",
      "Error on loop AU=ERZURUMLUOGLU BAYRAM\n",
      "1201\n",
      "Error on loop AU=AKTAS CEVAT\n",
      "1202\n",
      "Error on loop AU=GUR AYCAN\n",
      "1203\n",
      "Error on loop AU=UCOK KAGAN\n",
      "1204\n",
      "Error on loop AU=RIFAIOGLU MEHMET\n",
      "1205\n",
      "Error on loop AU=SAGLAM YILMAZ\n",
      "1206\n",
      "Error on loop AU=ALTUNCU ISMAIL\n",
      "1207\n",
      "Error on loop AU=YILMAZ YUNUS\n",
      "1208\n",
      "Error on loop AU=BUDAK ALI\n",
      "1209\n",
      "Error on loop AU=OKMEN MUSTAFA\n",
      "1210\n",
      "Error on loop AU=TUNCER FARUK\n",
      "1211\n",
      "Error on loop AU=BASTURK RAMAZAN\n",
      "1212\n",
      "Error on loop AU=AKAYDIN MUHAMMET\n",
      "1213\n",
      "Error on loop AU=TERGIP AYHAN\n",
      "1214\n",
      "Error on loop AU=SENEL MEHMET\n",
      "1215\n",
      "Error on loop AU=AZTEKIN SERDAR\n",
      "1216\n",
      "Error on loop AU=EMET MUCAHIT\n",
      "1217\n",
      "Error on loop AU=KESKINTURK TIMUR\n",
      "1218\n",
      "Error on loop AU=YORULMAZ BILAL\n",
      "1219\n",
      "Error on loop AU=KATI ISMAIL\n",
      "1220\n",
      "Error on loop AU=BERK VELI\n",
      "1221\n",
      "Error on loop AU=GURKAN MEHMET\n",
      "1222\n",
      "Error on loop AU=BUDAK IBRAHIM\n",
      "1223\n",
      "Error on loop AU=OZKOKELI HAKAN\n",
      "1224\n",
      "Error on loop AU=ERDINC AHMET\n",
      "1225\n",
      "Error on loop AU=TURK SULEYMAN\n",
      "1226\n",
      "Error on loop AU=AKSOY ADNAN\n",
      "1227\n",
      "Error on loop AU=ABAKAY OZLEM\n",
      "1228\n",
      "Error on loop AU=KILICARSLAN ALPASLAN\n",
      "1229\n",
      "Error on loop AU=POLAT CIHAT\n",
      "1230\n",
      "Error on loop AU=CHIFANE CRISTINA\n",
      "1231\n",
      "Error on loop AU=AYVAZ MUAVVIZ\n",
      "1232\n",
      "Error on loop AU=DIKMEN ERDAL\n",
      "1233\n",
      "Error on loop AU=YAMAN ERKAN\n",
      "1234\n",
      "Error on loop AU=DURAN ARIF\n",
      "1235\n",
      "Error on loop AU=GUL ISMAIL\n",
      "1236\n",
      "Error on loop AU=SIVASLI ERCAN\n",
      "1237\n",
      "Error on loop AU=CARDAK MEHMET\n",
      "1238\n",
      "Error on loop AU=DEMIRCI NESET\n",
      "1239\n",
      "Error on loop AU=PAKDEMIRLI MEFKURE\n",
      "1240\n",
      "Error on loop AU=UZ BURAK\n",
      "1241\n",
      "Error on loop AU=YAGCI RAMAZAN\n",
      "1242\n",
      "Error on loop AU=BALDEMIR ISA\n",
      "1243\n",
      "Error on loop AU=AKMAN HALIL\n",
      "1244\n",
      "Error on loop AU=ERTURK YASAR\n",
      "1245\n",
      "Error on loop AU=TANYERI BUKET\n",
      "1246\n",
      "Error on loop AU=BUNARCIOGLU DURMUS\n",
      "1247\n",
      "Error on loop AU=ERDOGAN NECMETTIN\n",
      "1248\n",
      "Error on loop AU=ORAN BULENT\n",
      "1249\n",
      "Error on loop AU=SAHIN DURSUN\n",
      "1250\n",
      "Error on loop AU=YAMANER CIGDEM\n",
      "1251\n",
      "Error on loop AU=KOC EYUP\n",
      "1252\n",
      "Error on loop AU=DIZKIRICI AHMET\n",
      "1253\n",
      "Error on loop AU=KOMURCU ERKAM\n",
      "1254\n",
      "Error on loop AU=CEVRI MEHMET\n",
      "1255\n",
      "Error on loop AU=CELEB TURAN\n",
      "1256\n",
      "Error on loop AU=GOKSEL FERDI\n",
      "1257\n",
      "Error on loop AU=ALCELIK AYTEKIN\n",
      "1258\n",
      "Error on loop AU=KAMAK GULEN\n",
      "1259\n",
      "Error on loop AU=KARAGOZOGLU NAZIKE\n",
      "1260\n",
      "Error on loop AU=KURT OMER\n",
      "1261\n",
      "Error on loop AU=ERMIS BAHRI\n",
      "1262\n",
      "Error on loop AU=KAYHAN FATIH\n",
      "1263\n",
      "Error on loop AU=BAHADIR GURHAN\n",
      "1264\n",
      "Error on loop AU=UYAR ZAFER\n",
      "1265\n",
      "Error on loop AU=ISIK CEMAL\n",
      "1266\n",
      "Error on loop AU=KORUCU TAYFUN\n",
      "1267\n",
      "Error on loop AU=SAYAN YUKSEL\n",
      "1268\n",
      "Error on loop AU=POLAT TURGAY\n",
      "1269\n",
      "Error on loop AU=DURAN AHMET\n",
      "1270\n",
      "Error on loop AU=ISIKLAN MUHAMMET\n",
      "1271\n",
      "Error on loop AU=CETINKAYA AHMET\n",
      "1272\n",
      "Error on loop AU=YENER MAHMUT\n",
      "1273\n",
      "Error on loop AU=MIRAN BULENT\n",
      "1274\n",
      "Error on loop AU=ERTAS HASAN\n",
      "1275\n",
      "Error on loop AU=ARSLANOGLU ZEKI\n",
      "1276\n",
      "Error on loop AU=OZBAY CAN\n",
      "1277\n",
      "Error on loop AU=ASLAN HASBI\n",
      "1278\n",
      "Error on loop AU=BORAN HALIS\n",
      "1279\n",
      "Error on loop AU=YILDIRIM KADIR\n",
      "1280\n",
      "Error on loop AU=BAHSI SUMEYYE\n",
      "1281\n",
      "Error on loop AU=BARANOGLU SAHIN\n",
      "1282\n",
      "Error on loop AU=GUNES YUSUF\n",
      "1283\n",
      "Error on loop AU=ISMAN NURETTIN\n",
      "1284\n",
      "Error on loop AU=YILMAZ UMMIHAN\n",
      "1285\n",
      "Error on loop AU=SIK BULENT\n",
      "1286\n",
      "Error on loop AU=CAN ALI\n",
      "1287\n",
      "Error on loop AU=KOKSAL BAYRAM\n",
      "1288\n",
      "Error on loop AU=SAYILI MURAT\n",
      "1289\n",
      "Error on loop AU=BAYRAKTAR HASAN\n",
      "1290\n",
      "Error on loop AU=KALKAN YILDIRAY\n",
      "1291\n",
      "Error on loop AU=GOKNAR HULYA\n",
      "1292\n",
      "Error on loop AU=ULUTAS ISMAIL\n",
      "1293\n",
      "Error on loop AU=BAYIR HAKAN\n",
      "1294\n",
      "Error on loop AU=YAMAN HAVVA\n",
      "1295\n",
      "Error on loop AU=BAKAN HAKAN\n",
      "1296\n",
      "Error on loop AU=ARSLAN TANER\n",
      "1297\n",
      "Error on loop AU=BUKER HASAN\n",
      "1298\n",
      "Error on loop AU=LEBE FUAT\n",
      "1299\n",
      "Error on loop AU=ELA YUKSEL\n",
      "1300\n",
      "Error on loop AU=ERYILMAZ MESUR\n",
      "1301\n",
      "Error on loop AU=UZ EFKAN\n",
      "1302\n",
      "Error on loop AU=YAKUT MEHMET\n",
      "1303\n",
      "Error on loop AU=GURBUZ ADNAN\n",
      "1304\n",
      "Error on loop AU=JR CLYDE\n",
      "1305\n",
      "Error on loop AU=GUVEN TUMER\n",
      "1306\n",
      "Error on loop AU=OZDEMIR ESIN\n",
      "1307\n",
      "Error on loop AU=ATLI AHMET\n",
      "1308\n",
      "Error on loop AU=TURGUT SEBAHAT\n",
      "1309\n",
      "Error on loop AU=KAPSIZ MURAT\n",
      "1310\n",
      "Error on loop AU=SAT MURAT\n",
      "1311\n",
      "Error on loop AU=KOKLU SEYFETTIN\n",
      "1312\n",
      "Error on loop AU=AKSOY MEHMET\n",
      "1313\n",
      "Error on loop AU=AKBAS SELCUK\n",
      "1314\n",
      "Error on loop AU=UN ADEM\n",
      "1315\n",
      "Error on loop AU=ACLAN YENER\n",
      "1316\n",
      "Error on loop AU=TURKMEN DURMUS\n",
      "1317\n",
      "Error on loop AU=EROL MUSTAFA\n",
      "1318\n",
      "Error on loop AU=APILIOGULLARI SEZA\n",
      "1319\n",
      "Error on loop AU=BODUR ABDURRAHMAN\n",
      "1320\n",
      "Error on loop AU=GOLCU MUSTAFA\n",
      "1321\n",
      "Error on loop AU=ATAGUN AKIN\n",
      "1322\n",
      "Error on loop AU=ERTURK ISMAIL\n",
      "1323\n",
      "Error on loop AU=DEMIRCI MUSTAFA\n",
      "1324\n",
      "Error on loop AU=DELICE ENGIN\n",
      "1325\n",
      "Error on loop AU=ERDEN ERSIN\n",
      "1326\n",
      "Error on loop AU=YAGMUR FATIH\n",
      "1327\n",
      "Error on loop AU=OZTURK IBRAHIM\n",
      "1328\n",
      "Error on loop AU=KARAOSMANOGLU FATIH\n",
      "1329\n",
      "Error on loop AU=YUMUSAK SEDAT\n",
      "1330\n",
      "Error on loop AU=DEMIR MUSLIM\n",
      "1331\n",
      "Error on loop AU=YUKSEL MEHMET\n",
      "1332\n",
      "Error on loop AU=BAL AHMET\n",
      "1333\n",
      "Error on loop AU=CANSUNAR HATICE\n",
      "1334\n",
      "Error on loop AU=OZBUGUTU EMRAH\n",
      "1335\n",
      "Error on loop AU=GOK HASAN\n",
      "1336\n",
      "Error on loop AU=OZBENLI TANER\n",
      "1337\n",
      "Error on loop AU=GEDIK KADIR\n",
      "1338\n",
      "Error on loop AU=CAVDAR FARUK\n",
      "1339\n",
      "Error on loop AU=GOK VELI\n",
      "1340\n",
      "Error on loop AU=UYANIK ZEKI\n",
      "1341\n",
      "Error on loop AU=OZGEN MUSTAFA\n",
      "1342\n",
      "Error on loop AU=OZDEMIR OSMAN\n",
      "1343\n",
      "Error on loop AU=CEPNI MURSEL\n",
      "1344\n",
      "Error on loop AU=NALIN HALIME\n",
      "1345\n",
      "Error on loop AU=KARS GOKHAN\n",
      "1346\n",
      "Error on loop AU=SEYMEN MURAT\n",
      "1347\n",
      "Error on loop AU=TOPAC OSMAN\n",
      "1348\n",
      "Error on loop AU=FILIZ ALI\n",
      "1349\n",
      "Error on loop AU=VANLI ISMAIL\n",
      "1350\n",
      "Error on loop AU=ILHAN SALIH\n",
      "1351\n",
      "Error on loop AU=CELEP FERHAT\n",
      "1352\n",
      "Error on loop AU=ANDIRAN FATIH\n",
      "1353\n",
      "Error on loop AU=AKCICEK EKREM\n",
      "1354\n",
      "Error on loop AU=YILDIZ NUERTTIN\n",
      "1355\n",
      "Error on loop AU=VEKLI MUSTAFA\n",
      "1356\n",
      "Error on loop AU=DAVUTOGLU VEDAT\n",
      "1357\n",
      "Error on loop AU=CATLIOGLU HAKAN\n",
      "1358\n",
      "Error on loop AU=SAHIN IBRAHIM\n",
      "1359\n",
      "Error on loop AU=SOLAK OMER\n",
      "1360\n",
      "Error on loop AU=DURAN MUHAMMET\n",
      "1361\n",
      "Error on loop AU=OZCIVAN AHMET\n",
      "1362\n",
      "Error on loop AU=YUKSEL HARUN\n",
      "1363\n",
      "Error on loop AU=YILMAZ CAHIDE\n",
      "1364\n",
      "Error on loop AU=OZKAN YUSUF\n",
      "1365\n",
      "Error on loop AU=BAYRAM PARVANA\n",
      "1366\n",
      "Error on loop AU=DOLU OSMAN\n",
      "1367\n",
      "Error on loop AU=BULUT MEHMET\n",
      "1368\n",
      "Error on loop AU=YUKSEL FATIH\n",
      "1369\n",
      "Error on loop AU=DINCEL OGUZHAN\n",
      "1370\n",
      "Error on loop AU=SAHIN ISMAIL\n",
      "1371\n",
      "Error on loop AU=OZBULUT OMER\n",
      "1372\n",
      "Error on loop AU=BOLAT HAKAN\n",
      "1373\n",
      "Error on loop AU=KUMRAL BAHADIR\n",
      "1374\n",
      "Error on loop AU=OZEN SELIM\n",
      "1375\n",
      "Error on loop AU=CENESIZ YUCEL\n",
      "1376\n",
      "Error on loop AU=TURMUS MEHMET\n",
      "1377\n",
      "Error on loop AU=ELITAS CEMAL\n",
      "1378\n",
      "Error on loop AU=KARAKURT LOKMAN\n",
      "1379\n",
      "Error on loop AU=EVRENGUL HARUN\n",
      "1380\n",
      "Error on loop AU=OGUZTURK BURCU\n",
      "1381\n",
      "Error on loop AU=SAVAS MURAT\n",
      "1382\n",
      "Error on loop AU=ZORBAZ KEMAL\n",
      "1383\n",
      "Error on loop AU=GOKCE CUMALI\n",
      "1384\n",
      "Error on loop AU=BAHAR HALIL\n",
      "1385\n",
      "Error on loop AU=KAPLAN HASAN\n",
      "1386\n",
      "Error on loop AU=BAYANSAL FATIH\n",
      "1387\n",
      "Error on loop AU=ERKAN MELIH\n",
      "1388\n",
      "Error on loop AU=CITIR MURAT\n",
      "1389\n",
      "Error on loop AU=ERGUN ALI\n",
      "1390\n",
      "Error on loop AU=BULGURCU HUSEYIN\n",
      "1391\n",
      "Error on loop AU=GONUL YUCEL\n",
      "1392\n",
      "Error on loop AU=AYDEMIR NURDANE\n",
      "1393\n",
      "Error on loop AU=IRGIN CELAL\n",
      "1394\n",
      "Error on loop AU=IRAZ MUSTAFA\n",
      "1395\n",
      "Error on loop AU=ERGUN EMIN\n",
      "1396\n",
      "Error on loop AU=TUNC BAHATTIN\n",
      "1397\n",
      "Error on loop AU=BUYUKBERBER NURAY\n",
      "1398\n",
      "Error on loop AU=SEN BILGE\n",
      "1399\n",
      "Error on loop AU=CETIN ALI\n",
      "1400\n",
      "Error on loop AU=OZDEVECIOGLU MAHMUT\n",
      "1401\n"
     ]
    },
    {
     "name": "stdout",
     "output_type": "stream",
     "text": [
      "Error on loop AU=TELCEKEN SEDAT\n",
      "1402\n",
      "Error on loop AU=ADAKLI GULSEREN\n",
      "1403\n",
      "Error on loop AU=MUMYAKMAZ BEKIR\n",
      "1404\n",
      "Error on loop AU=TOK MEHMET\n",
      "1405\n",
      "Error on loop AU=CELIK EROL\n",
      "1406\n",
      "Error on loop AU=BAYRAKTAR AHMET\n",
      "1407\n",
      "Error on loop AU=CELIK FATIH\n",
      "1408\n",
      "Error on loop AU=KARAHAN ALPER\n",
      "1409\n",
      "Error on loop AU=MUTLU SALIH\n",
      "1410\n",
      "Error on loop AU=COSKUN TAMER\n",
      "1411\n",
      "Error on loop AU=CAN EMRE\n",
      "1412\n",
      "Error on loop AU=UNALDI IHSAN\n",
      "1413\n",
      "Error on loop AU=KESKIN YAKUP\n",
      "1414\n",
      "Error on loop AU=TURKMEN HASAN\n",
      "1415\n",
      "Error on loop AU=SEYHAN BEYAZIT\n",
      "1416\n",
      "Error on loop AU=SENGUL MEHMET\n",
      "1417\n",
      "Error on loop AU=BOZKURT RAMAZAN\n",
      "1418\n",
      "Error on loop AU=TEZEL TIMUR\n",
      "1419\n",
      "Error on loop AU=CAGLAR MEHMET\n",
      "1420\n",
      "Error on loop AU=KOCAMAN SINAN\n",
      "1421\n",
      "Error on loop AU=SAGLAM SADULLAH\n",
      "1422\n",
      "Error on loop AU=KISACIK BUNYAMIN\n",
      "1423\n",
      "Error on loop AU=ZORLU MUSA\n",
      "1424\n",
      "Error on loop AU=YAZICI HILMI\n",
      "1425\n",
      "Error on loop AU=OKAY SENOL\n",
      "1426\n",
      "Error on loop AU=SANDALLI CEMAL\n",
      "1427\n",
      "Error on loop AU=AKSU EREN\n",
      "1428\n",
      "Error on loop AU=KADAYIFCI ABDURRAHMAN\n",
      "1429\n",
      "Error on loop AU=DIRIER AHMET\n",
      "1430\n",
      "Error on loop AU=KOKSAL ISMAIL\n",
      "1431\n",
      "Error on loop AU=SURUCU AHMET\n",
      "1432\n",
      "Error on loop AU=TAMA YAVUZ\n",
      "1433\n",
      "Error on loop AU=SIAP IRFAN\n",
      "1434\n",
      "Error on loop AU=CHIFANE LIVIU-AUGUSTIN\n",
      "1435\n",
      "Error on loop AU=YILDIZ MUSTAFA\n",
      "1436\n",
      "Error on loop AU=ARSLAN FAHRETTIN\n",
      "1437\n",
      "Error on loop AU=ALUR IHSAN\n",
      "1438\n",
      "Error on loop AU=TOSUN CEVAT\n",
      "1439\n",
      "Error on loop AU=YAMAN FERDA\n",
      "1440\n",
      "Error on loop AU=TURKKAN BAKI\n",
      "1441\n",
      "Error on loop AU=KURT HUSEYIN\n",
      "1442\n",
      "Error on loop AU=ADIBELLI FATIH\n",
      "1443\n",
      "Error on loop AU=KAMAK HASAN\n",
      "1444\n",
      "Error on loop AU=GOZENELI ORHAN\n",
      "1445\n",
      "Error on loop AU=DEMIRDAG OKTAY\n",
      "1446\n",
      "Error on loop AU=BOZKURT ESHABIL\n",
      "1447\n",
      "Error on loop AU=TEMIZYUREK AHMET\n",
      "1448\n",
      "Error on loop AU=AKCAY EMRAH\n",
      "1449\n",
      "Error on loop AU=KARABACAK MEHMET\n",
      "1450\n",
      "Error on loop AU=BUYUKHATIPOGLU HAKAN\n",
      "1451\n",
      "Error on loop AU=SENYUREK VOLKAN\n",
      "1452\n",
      "Error on loop AU=DERINGOZ AYSE\n",
      "1453\n",
      "Error on loop AU=TERCAN FAHRI\n",
      "1454\n",
      "Error on loop AU=TARAKCILAR ALI\n",
      "1455\n",
      "Error on loop AU=AYDIN MEHMET\n",
      "1456\n",
      "Error on loop AU=UNAL BUNYAMI\n",
      "1457\n",
      "Error on loop AU=YUMAK HASAN\n",
      "1458\n",
      "Error on loop AU=POYRAZ SEREF\n",
      "1459\n",
      "Error on loop AU=SARI KAMRAN\n",
      "1460\n",
      "Error on loop AU=KAHRAMAN AHMET\n",
      "1461\n",
      "Error on loop AU=SOBACI GUNGOR\n",
      "1462\n",
      "Error on loop AU=YILMAZ FARUK\n",
      "1463\n",
      "Error on loop AU=OZTURK VELI\n",
      "1464\n",
      "Error on loop AU=TAS TEKIN\n",
      "1465\n",
      "Error on loop AU=YAVSAN DURDU\n",
      "1466\n",
      "Error on loop AU=BOYACI FATIMA\n",
      "1467\n",
      "Error on loop AU=ERDOGAN ELIF\n",
      "1468\n",
      "Error on loop AU=VURAL OMER\n",
      "1469\n",
      "Error on loop AU=YUCA SEVIL\n",
      "1470\n",
      "Error on loop AU=KARABULUT HAYRIYE\n",
      "1471\n",
      "Error on loop AU=ERISIK HUSEYIN\n",
      "1472\n",
      "Error on loop AU=TURKMENOGLU FATMA\n",
      "1473\n",
      "Error on loop AU=ESSIZ DINC\n",
      "1474\n",
      "Error on loop AU=AY FATIH\n",
      "1475\n",
      "Error on loop AU=UNAL OSMAN\n",
      "1476\n",
      "Error on loop AU=YENICERI TULAY\n",
      "1477\n",
      "Error on loop AU=KARABIBER NAMIK\n",
      "1478\n",
      "Error on loop AU=YILDIZ ISMAIL\n",
      "1479\n",
      "Error on loop AU=ORNEK AHMET\n",
      "1480\n",
      "Error on loop AU=NAZLI MUMTAZ\n",
      "1481\n",
      "Error on loop AU=KOZAN RAMAZAN\n",
      "1482\n",
      "Error on loop AU=TOBI IBRAHIM\n",
      "1483\n",
      "Error on loop AU=YALCIN CENGIZ\n",
      "1484\n",
      "Error on loop AU=ACER ZABIT\n",
      "1485\n",
      "Error on loop AU=AKKAYA RANA\n",
      "1486\n",
      "Error on loop AU=AYDIN KAMIL\n",
      "1487\n",
      "Error on loop AU=SIMAVLI HUSEYIN\n",
      "1488\n",
      "Error on loop AU=OZAN ULKU\n",
      "1489\n",
      "Error on loop AU=KOC UMIT\n",
      "1490\n",
      "Error on loop AU=KARAPAZARLIOGLU ERSIN\n",
      "1491\n",
      "Error on loop AU=YILMAZ FARUK\n",
      "1492\n",
      "Error on loop AU=ULUS AHMET\n",
      "1493\n",
      "Error on loop AU=ALKOC OZAN\n",
      "1494\n",
      "Error on loop AU=SAHBAZ AHMET\n",
      "1495\n",
      "Error on loop AU=ESGIN MEHMET\n",
      "1496\n",
      "Error on loop AU=KORKMAZ AYSE\n",
      "1497\n",
      "Error on loop AU=BASTURK MAHMET\n",
      "1498\n",
      "Error on loop AU=PAMUK OMER\n",
      "1499\n",
      "Error on loop AU=BUYUKKAYA EYUP\n",
      "1500\n",
      "Error on loop AU=BAYRAM ALI\n",
      "1501\n",
      "Error on loop AU=KUTUKCU MEHMET\n",
      "1502\n",
      "Error on loop AU=ALAN SAIT\n",
      "1503\n",
      "Error on loop AU=YUKSEL MURAT\n",
      "1504\n",
      "Error on loop AU=YILMAZ IRFAN\n",
      "1505\n",
      "Error on loop AU=YILMAZ HASIM\n",
      "1506\n",
      "Error on loop AU=ILHAN SELCUK\n",
      "1507\n",
      "Error on loop AU=SISMAN YILDIRAY\n",
      "1508\n",
      "Error on loop AU=SONMEZ FERIT\n",
      "1509\n",
      "Error on loop AU=KANDIS HAYATI\n",
      "1510\n",
      "Error on loop AU=DELIDUMAN SEYITHAN\n",
      "1511\n",
      "Error on loop AU=COMAKLI KEMAL\n",
      "1512\n",
      "Error on loop AU=PAKDEMIRLI MEHMET\n",
      "1513\n",
      "Error on loop AU=GINIS ZEYNEP\n",
      "1514\n",
      "Error on loop AU=EKICI KEMAL\n",
      "1515\n",
      "Error on loop AU=ERDEN GONUL\n",
      "1516\n",
      "Error on loop AU=ONAT AHMET\n",
      "1517\n",
      "Error on loop AU=BALTACI DAVUT\n",
      "1518\n",
      "Error on loop AU=AKARSU BAYRAM\n",
      "1519\n",
      "Error on loop AU=BALTA SERKAN\n",
      "1520\n",
      "Error on loop AU=ZORBA ORHAN\n",
      "1521\n",
      "Error on loop AU=BEYDILLI HALIL\n",
      "1522\n",
      "Error on loop AU=KALAFAT SEZAI\n",
      "1523\n",
      "Error on loop AU=DENIZ VELI\n",
      "1524\n",
      "Error on loop AU=KAYA MUHARREM\n",
      "1525\n",
      "Error on loop AU=ERMIS FATIH\n",
      "1526\n",
      "Error on loop AU=SEHITOGLU IBRAHIM\n",
      "1527\n",
      "Error on loop AU=KARABABA IBRAHIM\n",
      "1528\n",
      "Error on loop AU=OKUDUCU SEREF\n",
      "1529\n",
      "Error on loop AU=KARATAY SALIHA\n",
      "1530\n",
      "Error on loop AU=AYDUZ DAVUT\n",
      "1531\n",
      "Error on loop AU=TURKMEN RAMAZAN\n",
      "1532\n",
      "Error on loop AU=CEYLAN ADNAN\n",
      "1533\n",
      "Error on loop AU=ULUS PERVIN\n",
      "1534\n",
      "Error on loop AU=FADILLIOGLU ERSIN\n",
      "1535\n",
      "Error on loop AU=YILDIRIM TAHSIN\n",
      "1536\n",
      "Error on loop AU=ONGAN TEVFIK\n",
      "1537\n",
      "Error on loop AU=GOKTEPE HUSEYIN\n",
      "1538\n",
      "Error on loop AU=KABACA TOLGA\n",
      "1539\n",
      "Error on loop AU=AYDIN SADI\n",
      "1540\n",
      "Error on loop AU=ELMALI ABDURRAHMAN\n",
      "1541\n",
      "Error on loop AU=CELEBIOGLU SALIH\n",
      "1542\n",
      "Error on loop AU=METE EMIN\n",
      "1543\n",
      "Error on loop AU=ARIKAN SEVKET\n",
      "1544\n",
      "Error on loop AU=ADIGUZELLI YASAR\n",
      "1545\n",
      "Error on loop AU=AKTAS MEHMET\n",
      "1546\n",
      "Error on loop AU=YUCE MUSAFA\n",
      "1547\n",
      "Error on loop AU=KARATEPE AKIF\n",
      "1548\n",
      "Error on loop AU=GENC ABDURRAHMAN\n",
      "1549\n",
      "Error on loop AU=ATASOY MUSTAFA\n",
      "1550\n",
      "Error on loop AU=HERKEN HASAN\n",
      "1551\n",
      "Error on loop AU=GOLCUK YALCIN\n",
      "1552\n",
      "Error on loop AU=ALTINEL LEVENT\n",
      "1553\n",
      "Error on loop AU=SUNGER ERCAN\n",
      "1554\n",
      "Error on loop AU=FIRAT UGUR\n",
      "1555\n",
      "Error on loop AU=KIZILCI MEHMET\n",
      "1556\n",
      "Error on loop AU=DEMIREL TEOMAN\n",
      "1557\n",
      "Error on loop AU=GOKSUGUR NADIR\n",
      "1558\n",
      "Error on loop AU=YONDEN ZAFER\n",
      "1559\n",
      "Error on loop AU=KAYA ARIF\n",
      "1560\n",
      "Error on loop AU=BILECEN HALIL\n",
      "1561\n",
      "Error on loop AU=KARADAS SUKRIYE\n",
      "1562\n",
      "Error on loop AU=UYSAL RECEP\n",
      "1563\n",
      "Error on loop AU=BOYACI AHMET\n",
      "1564\n",
      "Error on loop AU=ENSAR FERHAT\n",
      "1565\n",
      "Error on loop AU=GULCUR MUSA\n",
      "1566\n",
      "Error on loop AU=TUNCEL SINAN\n",
      "1567\n",
      "Error on loop AU=YILDI HASAN\n",
      "1568\n",
      "Error on loop AU=OZCAN ERHAN\n",
      "1569\n",
      "Error on loop AU=KILINCASLAN SEDAT\n",
      "1570\n",
      "Error on loop AU=KAYA ALAATTIN\n",
      "1571\n",
      "Error on loop AU=OZEL MEHMET\n",
      "1572\n",
      "Error on loop AU=OZYILMAZ EMIN\n",
      "1573\n",
      "Error on loop AU=AKPINAR GOKSAN\n",
      "1574\n",
      "Error on loop AU=COMEZ FATIH\n",
      "1575\n",
      "Error on loop AU=AKPINAR YUSUF\n",
      "1576\n",
      "Error on loop AU=COBAN MEHMET\n",
      "1577\n",
      "Error on loop AU=KURT ERKAN\n",
      "1578\n",
      "Error on loop AU=ZKAN MAHMUT\n",
      "1579\n",
      "Error on loop AU=TARMAN BULENT\n",
      "1580\n",
      "Error on loop AU=KARA BILGE\n",
      "1581\n",
      "Error on loop AU=OKTAY ONUR\n",
      "1582\n",
      "Error on loop AU=ERDOGAN SELEME\n",
      "1583\n",
      "Error on loop AU=LORDOGLU KUVVET\n",
      "1584\n",
      "Error on loop AU=BAYLAR AHMET\n",
      "1585\n",
      "Error on loop AU=ERCETIN MUHAMMED\n",
      "1586\n",
      "Error on loop AU=CEBE FATMA\n",
      "1587\n",
      "Error on loop AU=KAYA MURAT\n",
      "1588\n",
      "Error on loop AU=BULUT AHMET\n",
      "1589\n",
      "Error on loop AU=AYDIN LEYLA\n",
      "1590\n",
      "Error on loop AU=CAKILDERE BEKIR\n",
      "1591\n",
      "Error on loop AU=BOYRAZ TAHSIN\n",
      "1592\n",
      "Error on loop AU=DEMIR MUHAMMED\n",
      "1593\n",
      "Error on loop AU=USTA KEZIBAN\n",
      "1594\n",
      "Error on loop AU=KALKAN HABIL\n",
      "1595\n",
      "Error on loop AU=SOGUT AYHAN\n",
      "1596\n",
      "Error on loop AU=OKUMUS VEYSI\n",
      "1597\n",
      "Error on loop AU=BUCAKTEPE PAKIZE\n",
      "1598\n",
      "Error on loop AU=DEMIREL CENGIZ\n",
      "1599\n",
      "Error on loop AU=YUKSEL ERDEM\n",
      "1600\n",
      "Error on loop AU=ALKAN ALI\n",
      "1601\n",
      "Error on loop AU=AYYILDIZ ERDEM\n",
      "1602\n",
      "Error on loop AU=SAMANCIOGLU MUSTAFA\n",
      "1603\n",
      "Error on loop AU=GUMRAH KADIR\n",
      "1604\n",
      "Error on loop AU=SAHHIN YUSUF\n",
      "1605\n",
      "Error on loop AU=DEMIR EKREM\n",
      "1606\n",
      "Error on loop AU=SAKALAR ERGUN\n",
      "1607\n",
      "Error on loop AU=TOPRAK AYBALA\n",
      "1608\n",
      "Error on loop AU=GUNEY NAIL\n",
      "1609\n",
      "Error on loop AU=KOZAN ALI\n",
      "1610\n",
      "Error on loop AU=KARA MUHAMMED\n",
      "1611\n",
      "Error on loop AU=ASLAN FERHAT\n",
      "1612\n",
      "Error on loop AU=ARAS MUTAN\n",
      "1613\n",
      "Error on loop AU=EKICI FATIH\n",
      "1614\n",
      "Error on loop AU=BOZDAG ZUBEYIR\n",
      "1615\n",
      "Error on loop AU=KUCUKBAYRAK ABDULKADIR\n",
      "1616\n",
      "Error on loop AU=DEMIREL FATMA\n",
      "1617\n",
      "Error on loop AU=KUSGOZ ADEM\n",
      "1618\n",
      "Error on loop AU=TEKINAY TURGAY\n",
      "1619\n",
      "Error on loop AU=INCE CENGIZ\n",
      "1620\n",
      "Error on loop AU=DURMUSOGLU ATIYE\n",
      "1621\n",
      "Error on loop AU=KILIC BULENT\n",
      "1622\n",
      "Error on loop AU=CICEKBILEK IZZET\n",
      "1623\n",
      "Error on loop AU=BAKIREZER GUVEN\n",
      "1624\n",
      "Error on loop AU=TATAR MEHTAP\n",
      "1625\n",
      "Error on loop AU=OBAY MUSTAFA\n",
      "1626\n",
      "Error on loop AU=BILGIN NCEDET\n",
      "1627\n",
      "Error on loop AU=UCAN MUSA\n",
      "1628\n",
      "Error on loop AU=ANNAGUR BILGE\n",
      "1629\n",
      "Error on loop AU=BINGOLBALI ERHAN\n",
      "1630\n",
      "Error on loop AU=KARAGOZ VELI\n",
      "1631\n",
      "Error on loop AU=KAYA HUSEYIN\n",
      "1632\n",
      "Error on loop AU=ARSLAN IDRIS\n",
      "1633\n",
      "Error on loop AU=VURAL AHMET\n",
      "1634\n",
      "Error on loop AU=OZDEMIR MEVCI\n",
      "1635\n",
      "Error on loop AU=OZUGURLU AYNUR\n",
      "1636\n",
      "Error on loop AU=KURT SEREF\n",
      "1637\n",
      "Error on loop AU=CANIYILMAZ ERDAL\n",
      "1638\n",
      "Error on loop AU=USAK MUHAMMET\n",
      "1639\n",
      "Error on loop AU=ALSARAN AKGUN\n",
      "1640\n",
      "Error on loop AU=CELIK FATIH\n",
      "1641\n",
      "Error on loop AU=KUYUMCU MEHMET\n",
      "1642\n",
      "Error on loop AU=BINER ISMET\n",
      "1643\n",
      "Error on loop AU=GUNAYDIN MURAT\n",
      "1644\n",
      "Error on loop AU=TERES ERSIN\n",
      "1645\n",
      "Error on loop AU=GUCLU SABAN\n",
      "1646\n",
      "Error on loop AU=KILINC YUSUF\n",
      "1647\n",
      "Error on loop AU=SOLAK KURSAT\n",
      "1648\n",
      "Error on loop AU=KALKAN AYSEGUL\n",
      "1649\n",
      "Error on loop AU=ZINCIRKIRAN MUSTAFA\n",
      "1650\n",
      "Error on loop AU=ERDEM FATMA\n",
      "1651\n",
      "Error on loop AU=OZEKEN OMER\n",
      "1652\n",
      "Error on loop AU=ALTINYAZAR HILMI\n",
      "1653\n",
      "Error on loop AU=OBUZ ERSEL\n",
      "1654\n",
      "Error on loop AU=OK NURI\n",
      "1655\n",
      "Error on loop AU=NEBIOGLU MEHMET\n",
      "1656\n",
      "Error on loop AU=TASDEMIR IBRAHIM\n",
      "1657\n",
      "Error on loop AU=POLAT YILMAZ\n",
      "1658\n",
      "Error on loop AU=KOKSAL MUSTAFA\n",
      "1659\n",
      "Error on loop AU=TEKINAY AHMET\n",
      "1660\n",
      "Error on loop AU=ALPAYCI MAHMUT\n",
      "1661\n",
      "Error on loop AU=OZCAN UGUR\n",
      "1662\n",
      "Error on loop AU=AKTAS BEKIR\n",
      "1663\n",
      "Error on loop AU=KILIC YILMAZ\n",
      "1664\n",
      "Error on loop AU=YILDIRIM SALIH\n",
      "1665\n",
      "Error on loop AU=YAVUZ ALI\n",
      "1666\n",
      "Error on loop AU=ERCEVAHIR MACIT\n",
      "1667\n",
      "Error on loop AU=YEKSAN MEHDI\n",
      "1668\n",
      "Error on loop AU=KEKLIK SAADETIN\n",
      "1669\n",
      "Error on loop AU=KURT SAVAS\n",
      "1670\n",
      "Error on loop AU=HABACI IBRAHIM\n",
      "1671\n",
      "Error on loop AU=OCAK MEHMET\n",
      "1672\n",
      "Error on loop AU=YILMAZ ENES\n",
      "1673\n",
      "Error on loop AU=ERCAN ONDER\n",
      "1674\n",
      "Error on loop AU=SIMAVLI SERAP\n",
      "1675\n",
      "Error on loop AU=KURT ALI\n",
      "1676\n",
      "Error on loop AU=UZKUT MEHMET\n",
      "1677\n",
      "Error on loop AU=GUNER YUSUF\n",
      "1678\n",
      "Error on loop AU=BULUT GULAY\n",
      "1679\n",
      "Error on loop AU=KARATAS SERKAN\n",
      "1680\n",
      "Error on loop AU=SEKER ASKIN\n",
      "1681\n",
      "Error on loop AU=ULU SINAN\n",
      "1682\n",
      "Error on loop AU=KOSGER HASAN\n",
      "1683\n",
      "Error on loop AU=ULGER SULEYMAN\n",
      "1684\n",
      "Error on loop AU=CAGLAR VELI\n",
      "1685\n",
      "Error on loop AU=DIKMEN BAYAZIT\n",
      "1686\n",
      "Error on loop AU=ATAC YASIN\n",
      "1687\n",
      "Error on loop AU=COLAKOGLU MEHMET\n",
      "1688\n",
      "Error on loop AU=YESIL YUSUF\n",
      "1689\n",
      "Error on loop AU=ARSLAN ISMAIL\n",
      "1690\n",
      "Error on loop AU=ONDER FEYYAZ\n",
      "1691\n",
      "Error on loop AU=ATALAY NILGUN\n",
      "1692\n",
      "Error on loop AU=TOPCU BIRKAN\n",
      "1693\n",
      "Error on loop AU=MENCUTEKIN MUSTAFA\n",
      "1694\n",
      "Error on loop AU=BILINC HASAN\n",
      "1695\n",
      "Error on loop AU=BOYACI ISMAIL\n",
      "1696\n",
      "Error on loop AU=ASYALI MUSA\n",
      "1697\n",
      "Error on loop AU=KOCOGLU KIYASETTIN\n",
      "1698\n",
      "Error on loop AU=DEMETGUL MUSTAFA\n",
      "1699\n",
      "Error on loop AU=ARICI SEMIH\n",
      "1700\n",
      "Error on loop AU=YASAR HUSEYIN\n",
      "1701\n",
      "Error on loop AU=DOGRU BULENT\n",
      "1702\n",
      "Error on loop AU=TURAN HAKAN\n",
      "1703\n",
      "Error on loop AU=ORAL KURSAT\n",
      "1704\n",
      "Error on loop AU=DURAK AHMET\n",
      "1705\n",
      "Error on loop AU=OKUR HAMIT\n",
      "1706\n",
      "Error on loop AU=GEYIK MEHMET\n",
      "1707\n",
      "Error on loop AU=ERDOGAN MEHMET\n",
      "1708\n",
      "Error on loop AU=EDISAN ZEHRA\n",
      "1709\n",
      "Error on loop AU=BARIS MEHMET\n",
      "1710\n",
      "Error on loop AU=PEKER ERDAL\n",
      "1711\n",
      "Error on loop AU=UZUNLAR ALI\n",
      "1712\n",
      "Error on loop AU=KAYA SABRI\n",
      "1713\n",
      "Error on loop AU=SAHIN AHMET\n",
      "1714\n",
      "Error on loop AU=BARUT ADNAN\n",
      "1715\n",
      "Error on loop AU=COYAN KENAN\n",
      "1716\n",
      "Error on loop AU=ULUKOY METIN\n",
      "1717\n",
      "Error on loop AU=KOC BUNYAMIN\n",
      "1718\n",
      "Error on loop AU=BERKDEMIR CUNEYT\n",
      "1719\n",
      "Error on loop AU=TURKEL YAKUP\n",
      "1720\n",
      "Error on loop AU=BEDIR ABDULKERIM\n",
      "1721\n",
      "Error on loop AU=SIRIKCI AKIF\n",
      "1722\n",
      "Error on loop AU=BARUT NESLI\n",
      "1723\n",
      "Error on loop AU=AKKILIK ZEYNEP\n",
      "1724\n",
      "Error on loop AU=DEMIREL REHA\n",
      "1725\n",
      "Error on loop AU=DINCER CANER\n",
      "1726\n",
      "Error on loop AU=TURKYILMAZ AYSEGUL\n",
      "1727\n",
      "Error on loop AU=KOCTURK SUMEYRA\n",
      "1728\n",
      "Error on loop AU=KOYUTURK ALP\n",
      "1729\n",
      "Error on loop AU=SAMANCI NILAY\n",
      "1730\n",
      "Error on loop AU=AGAN SEDAT\n",
      "1731\n",
      "Error on loop AU=GOLOGLU CEVDET\n",
      "1732\n",
      "Error on loop AU=CALISKAN AHMET\n",
      "1733\n",
      "Error on loop AU=BAGCI HUSEYIN\n",
      "1734\n",
      "Error on loop AU=KILBAS BENAN\n",
      "1735\n",
      "Error on loop AU=SAHIN ALI\n",
      "1736\n",
      "Error on loop AU=YILDIZ KADIR\n",
      "1737\n",
      "Error on loop AU=CIFTCI SINAN\n",
      "1738\n",
      "Error on loop AU=KILIC NIYAZI\n",
      "1739\n",
      "Error on loop AU=CEVIK HASAN\n",
      "1740\n",
      "Error on loop AU=USMAN MUSTAFA\n",
      "1741\n",
      "Error on loop AU=SARI IBRAHIM\n",
      "1742\n",
      "Error on loop AU=ARSLAN VASFI\n",
      "1743\n",
      "Error on loop AU=OZYURT HUSEYIN\n",
      "1744\n",
      "Error on loop AU=KOCA NILUFER\n",
      "1745\n",
      "Error on loop AU=DURSUN BAHTIYAR\n",
      "1746\n",
      "Error on loop AU=AKTURK AHMET\n",
      "1747\n",
      "Error on loop AU=SENER ISMAIL\n",
      "1748\n",
      "Error on loop AU=GUNAY RAMAZAN\n",
      "1749\n",
      "Error on loop AU=OZMEN OZGUR\n",
      "1750\n",
      "Error on loop AU=YILDIRIM BULENT\n",
      "1751\n",
      "Error on loop AU=TABAKCI NURULLAH\n",
      "1752\n",
      "Error on loop AU=YAVUZ TEVFIK\n",
      "1753\n",
      "Error on loop AU=OZBEK ORHAN\n",
      "1754\n",
      "Error on loop AU=YUKSEKKAYA HASAN\n",
      "1755\n",
      "Error on loop AU=YILMAZ SELIM\n",
      "1756\n",
      "Error on loop AU=CAKIR OZCAN\n",
      "1757\n",
      "Error on loop AU=BATMAZ SAKIR\n",
      "1758\n",
      "Error on loop AU=KESKIN YUSUF\n",
      "1759\n",
      "Error on loop AU=ULUCA UNAL\n",
      "1760\n",
      "Error on loop AU=PARLAK ADNAN\n",
      "1761\n",
      "Error on loop AU=BENEKLI MUSTAFA\n",
      "1762\n",
      "Error on loop AU=POLAT HUSEYIN\n",
      "1763\n",
      "Error on loop AU=POLAT YILMAZ\n",
      "1764\n",
      "Error on loop AU=SARITAS FEVZI\n",
      "1765\n",
      "Error on loop AU=KAVANOZ MUAMMER\n",
      "1766\n",
      "Error on loop AU=AGLADIOGLU SEBAHAT\n",
      "1767\n",
      "Error on loop AU=SUBASI MEHMET\n",
      "1768\n",
      "Error on loop AU=INAN HALIL\n",
      "1769\n",
      "Error on loop AU=SAN SAIT\n",
      "1770\n",
      "Error on loop AU=ERDOGAN MUZAFFER\n",
      "1771\n",
      "Error on loop AU=DERDIMAN RAMAZAN\n",
      "1772\n",
      "Error on loop AU=ISIK BIRHAN\n",
      "1773\n",
      "Error on loop AU=VURAL BULENT\n",
      "1774\n",
      "Error on loop AU=AKCAY AHMET\n",
      "1775\n",
      "Error on loop AU=UZUNOGLU MEHMET\n",
      "1776\n",
      "Error on loop AU=AGIR AHME\n",
      "1777\n",
      "Error on loop AU=DAVRAN RAMAZAN\n",
      "1778\n",
      "Error on loop AU=ORUNG IBRAHIM\n",
      "1779\n",
      "Error on loop AU=BASEGIT YUCEL\n",
      "1780\n",
      "Error on loop AU=BARLI ONDER\n",
      "1781\n",
      "Error on loop AU=DAL VEDAT\n",
      "1782\n",
      "Error on loop AU=CELIK SULEYMAN\n",
      "1783\n",
      "Error on loop AU=KARABULUT BUNYAMIN\n",
      "1784\n",
      "Error on loop AU=CINCIOGLU OGUZ\n",
      "1785\n",
      "Error on loop AU=AYIK SIBEL\n",
      "1786\n",
      "Error on loop AU=EVRENGUL HAVVA\n",
      "1787\n",
      "Error on loop AU=KORTUNAY SELIM\n",
      "1788\n",
      "Error on loop AU=KALENDER ALI\n",
      "1789\n",
      "Error on loop AU=ERDOGAN HASAN\n",
      "1790\n",
      "Error on loop AU=SIMSEK MINE\n",
      "1791\n",
      "Error on loop AU=YESILDAG AHMET\n",
      "1792\n",
      "Error on loop AU=SAHIN NURSEL\n",
      "1793\n",
      "Error on loop AU=YILDIZ BEKIR\n",
      "1794\n",
      "Error on loop AU=KURBANOGLU CAHIT\n",
      "1795\n",
      "Error on loop AU=ATMACA SEDAT\n",
      "1796\n",
      "Error on loop AU=TUNCER CEMAL\n",
      "1797\n",
      "Error on loop AU=OZKAN TAHIR\n",
      "1798\n",
      "Error on loop AU=KERVAN NAZMIYE\n",
      "1799\n",
      "Error on loop AU=OZEN OGUZ\n",
      "1800\n",
      "Error on loop AU=SIAP VEDAT\n",
      "1801\n",
      "Error on loop AU=GOKCESID SINEM\n",
      "1802\n",
      "Error on loop AU=OZTURK HASAN\n",
      "1803\n",
      "Error on loop AU=ALICI OMER\n",
      "1804\n",
      "Error on loop AU=CERRAHOGLU MUNIR\n",
      "1805\n",
      "Error on loop AU=DIGRAK METIN\n",
      "1806\n",
      "Error on loop AU=SAVAS NURETTIN\n",
      "1807\n",
      "Error on loop AU=ARABUL MAHMUT\n",
      "1808\n",
      "Error on loop AU=CAKIR SERKAN\n",
      "1809\n",
      "Error on loop AU=IGCI MEHRI\n",
      "1810\n",
      "Error on loop AU=SARICICEK VAHAP\n",
      "1811\n",
      "Error on loop AU=GULTEKIN SEBAHATTIN\n",
      "1812\n",
      "Error on loop AU=CELIK SEMRA\n",
      "1813\n",
      "Error on loop AU=KIRAN ABDULLAH\n",
      "1814\n",
      "Error on loop AU=YEKELER ENSAR\n",
      "1815\n",
      "Error on loop AU=ERDOGMUS BESIR\n",
      "1816\n",
      "Error on loop AU=ASLAN LOKMAN\n",
      "1817\n",
      "Error on loop AU=KARAKAYA ZEKI\n",
      "1818\n",
      "Error on loop AU=OZDEMIR BULENT\n",
      "1819\n",
      "Error on loop AU=CAG GALIP\n",
      "1820\n",
      "Error on loop AU=OZDINC HULYA\n",
      "1821\n",
      "Error on loop AU=KARANFIL RAMAZAN\n",
      "1822\n",
      "Error on loop AU=OZER SAMET\n",
      "1823\n",
      "Error on loop AU=BILGILI GOKMEN\n",
      "1824\n",
      "Error on loop AU=AYDEMIR MURAT\n",
      "1825\n",
      "Error on loop AU=CAMCI CELALETDIN\n",
      "1826\n",
      "Error on loop AU=KARAASLAN YASAR\n",
      "1827\n",
      "Error on loop AU=KARADAG ZAKIR\n",
      "1828\n",
      "Error on loop AU=SEKER GUVEN\n",
      "1829\n",
      "Error on loop AU=KUCUKYILMAZ KAMIL\n",
      "1830\n",
      "Error on loop AU=SELEK DILEK\n",
      "1831\n",
      "Error on loop AU=YILDIRIM MUSTAFA\n",
      "1832\n",
      "Error on loop AU=UCAR MEHMET\n",
      "1833\n",
      "Error on loop AU=SALIHOGLU YAVUZ\n",
      "1834\n",
      "Error on loop AU=ARTIS AISE\n",
      "1835\n",
      "Error on loop AU=YESILYURT CEMAL\n",
      "1836\n",
      "Error on loop AU=CINGU ABDULLAH\n",
      "1837\n",
      "Error on loop AU=MALKOC MERAL\n",
      "1838\n",
      "Error on loop AU=DELICE ALI\n",
      "1839\n",
      "Error on loop AU=DIRLIKLI MURAT\n",
      "1840\n",
      "Error on loop AU=KURNAZ FATIH\n",
      "1841\n",
      "Error on loop AU=DEMIR ISMAIL\n",
      "1842\n",
      "Error on loop AU=KILINCASLAN AYSE\n",
      "1843\n",
      "Error on loop AU=SAVRAN BIRCAN\n",
      "1844\n",
      "Error on loop AU=YUCE MURAT\n",
      "1845\n",
      "Error on loop AU=DEMIR FARUK\n",
      "1846\n",
      "Error on loop AU=CAKIROGLU MURAT\n",
      "1847\n",
      "Error on loop AU=KORKMAZ HIMMET\n",
      "1848\n",
      "Error on loop AU=DOKUYUCU RECEP\n",
      "1849\n",
      "Error on loop AU=INALCIK ABDULLAH\n",
      "1850\n",
      "Error on loop AU=KURT ISMAIL\n",
      "1851\n",
      "Error on loop AU=OZYALVACLI GULZADE\n",
      "1852\n",
      "Error on loop AU=CERMIK FATIH\n",
      "1853\n",
      "Error on loop AU=OZDEMIR HUSEYIN\n",
      "1854\n",
      "Error on loop AU=ALTINTAS SULEYMAN\n",
      "1855\n",
      "Error on loop AU=KARATAY ALI\n",
      "1856\n",
      "Error on loop AU=CETINKAYA ALI\n",
      "1857\n",
      "Error on loop AU=KARABUGA SEMISTAN\n",
      "1858\n",
      "Error on loop AU=MELEMEZ KENAN\n",
      "1859\n",
      "Error on loop AU=CITCI SELAHATTIN\n",
      "1860\n",
      "Error on loop AU=ALP RECEP\n",
      "1861\n",
      "Error on loop AU=VARISLI LOKMAN\n",
      "1862\n",
      "Error on loop AU=YARIKTAS MURAT\n",
      "1863\n",
      "Error on loop AU=KARAKAS ESER\n",
      "1864\n",
      "Error on loop AU=DOGAN MUZAFFER\n",
      "1865\n",
      "Error on loop AU=AKIN HAKAN\n",
      "1866\n",
      "Error on loop AU=BULUT YASIN\n",
      "1867\n",
      "Error on loop AU=SIMSEK NEJDET\n",
      "1868\n",
      "Error on loop AU=ALAC ALI\n",
      "1869\n",
      "Error on loop AU=ZENGIN RAMAZAN\n",
      "1870\n",
      "Error on loop AU=ACILAR ALI\n",
      "1871\n",
      "Error on loop AU=ARSLAN NAGEHAN\n",
      "1872\n",
      "Error on loop AU=ATIK HASAN\n",
      "1873\n",
      "Error on loop AU=HAMZAOGLU ONUR\n",
      "1874\n",
      "Error on loop AU=YAZAR TURGAY\n",
      "1875\n",
      "Error on loop AU=CAKMAK OZLEM\n",
      "1876\n",
      "Error on loop AU=UZUM HAMZA\n",
      "1877\n",
      "Error on loop AU=AKIN HATICE\n",
      "1878\n",
      "Error on loop AU=SINIR HAYATI\n",
      "1879\n",
      "Error on loop AU=ULGER ZEKERIYA\n",
      "1880\n",
      "Error on loop AU=DOGAN MUSTAFA\n",
      "1881\n",
      "Error on loop AU=TUNCER ABDULLAH\n",
      "1882\n",
      "Error on loop AU=KUCUKAYDIN MUSTAFA\n",
      "1883\n",
      "Error on loop AU=BAYTAK AHMET\n",
      "1884\n",
      "Error on loop AU=UGUZ SELMAN\n",
      "1885\n",
      "Error on loop AU=DUNDAR MURAT\n",
      "1886\n",
      "Error on loop AU=GEYIK FARUK\n",
      "1887\n",
      "Error on loop AU=AKARSUBASI ALPER\n",
      "1888\n",
      "Error on loop AU=KARAAGAC MEHMET\n",
      "1889\n",
      "Error on loop AU=BAYRAK NESLIHAN\n",
      "1890\n",
      "Error on loop AU=PANCAR EMINE\n",
      "1891\n",
      "Error on loop AU=SELCUK AYHAN\n",
      "1892\n",
      "Error on loop AU=KOCAK RECEP\n",
      "1893\n",
      "Error on loop AU=GULACTI UMUT\n",
      "1894\n",
      "Error on loop AU=ERBAGCI IBRAHIM\n",
      "1895\n",
      "Error on loop AU=ARIKANOGLU ZULFU\n",
      "1896\n",
      "Error on loop AU=ATMACA HASAN\n",
      "1897\n",
      "Error on loop AU=KELESOGLU ERHAN\n",
      "1898\n",
      "Error on loop AU=OZTURK FATIH\n",
      "1899\n",
      "Error on loop AU=SAHIN CEMIL\n",
      "1900\n",
      "Error on loop AU=MACIT YUSUF\n",
      "1901\n",
      "Error on loop AU=KUTSAL SIDDIK\n",
      "1902\n",
      "Error on loop AU=BAYRAKTAROGLU SERKAN\n",
      "1903\n",
      "Error on loop AU=MENGELOGLU FIRAT\n",
      "1904\n",
      "Error on loop AU=CAKMAK SEYITHAN\n",
      "1905\n",
      "Error on loop AU=GURLER ZAFER\n",
      "1906\n",
      "Error on loop AU=DIKICI BUNYAMIN\n",
      "1907\n",
      "Error on loop AU=KARAKUS ALI\n",
      "1908\n",
      "Error on loop AU=TEIK NEDIM\n",
      "1909\n",
      "Error on loop AU=ERTURK VOLKAN\n",
      "1910\n",
      "Error on loop AU=DURU MEHMET\n",
      "1911\n",
      "Error on loop AU=SENTURK IHSAN\n",
      "1912\n",
      "Error on loop AU=TURKMEN HAFIZE\n",
      "1913\n",
      "Error on loop AU=KAYIKCI GULSEN\n",
      "1914\n",
      "Error on loop AU=TOPKARA ADEM\n",
      "1915\n",
      "Error on loop AU=UZUNOGLU MEHMET\n",
      "1916\n",
      "Error on loop AU=KARABULUT SAVAS\n",
      "1917\n",
      "Error on loop AU=YAMAN HAKAN\n",
      "1918\n",
      "Error on loop AU=TORUN SALIH\n",
      "1919\n",
      "Error on loop AU=ALTOK MUAMMER\n",
      "1920\n",
      "Error on loop AU=CINAR HASAN\n",
      "1921\n",
      "Error on loop AU=TOSUN HACI\n",
      "1922\n",
      "Error on loop AU=OZCELIK SELAHATTIN\n",
      "1923\n",
      "Error on loop AU=COLAKOGLU SELCUK\n",
      "1924\n",
      "Error on loop AU=DEMIRTAS MAHMUT\n",
      "1925\n",
      "Error on loop AU=BILICAN RECEP\n",
      "1926\n",
      "Error on loop AU=OKUMUS SEYDI\n",
      "1927\n",
      "Error on loop AU=KUCUK MEHMET\n",
      "1928\n",
      "Error on loop AU=OZDEMIR ALI\n",
      "1929\n",
      "Error on loop AU=HERGUNER SABRI\n",
      "1930\n",
      "Error on loop AU=CETINDAG YUSUF\n",
      "1931\n",
      "Error on loop AU=SAHIN OSMAN\n",
      "1932\n",
      "Error on loop AU=DEMIR CUNEYT\n",
      "1933\n",
      "Error on loop AU=AYHAN TIMUR\n",
      "1934\n",
      "Error on loop AU=OCAL ADEM\n",
      "1935\n",
      "Error on loop AU=TEMELLI SEZAI\n",
      "1936\n",
      "Error on loop AU=GUL ADNAN\n",
      "1937\n",
      "Error on loop AU=BURNAZ OGUZ\n",
      "1938\n",
      "Error on loop AU=ATES ORHAN\n",
      "1939\n",
      "Error on loop AU=CIKMAN AYTEKIN\n",
      "1940\n",
      "Error on loop AU=BAYIRLI RIDVAN\n",
      "1941\n",
      "Error on loop AU=TUNAY ZEKI\n",
      "1942\n",
      "Error on loop AU=ICLI ATILLA\n",
      "1943\n",
      "Error on loop AU=ULUDAG MURAT\n",
      "1944\n",
      "Error on loop AU=TUZLAK KADIR\n",
      "1945\n",
      "Error on loop AU=KARAKAS ARIF\n",
      "1946\n",
      "Error on loop AU=BENLIOGLU CAN\n",
      "1947\n",
      "Error on loop AU=ORAL OSMAN\n",
      "1948\n",
      "Error on loop AU=OZKAN OZLEM\n",
      "1949\n",
      "Error on loop AU=TUTKUN HAMDI\n",
      "1950\n",
      "Error on loop AU=GURBUZ MEHMET\n",
      "1951\n",
      "Error on loop AU=ALTINOLUK BULNET\n",
      "1952\n",
      "Error on loop AU=YILMAZ REHA\n",
      "1953\n",
      "Error on loop AU=YARGIC LUTFI\n",
      "1954\n",
      "Error on loop AU=NIYAZIOGLU FATMA\n",
      "1955\n",
      "Error on loop AU=ERDEM ENGIN\n",
      "1956\n",
      "Error on loop AU=CAKIRCA DUZGUN\n",
      "1957\n",
      "Error on loop AU=YAMAN HUSEYIN\n",
      "1958\n",
      "Error on loop AU=OKSUZ HUSEYIN\n",
      "1959\n",
      "Error on loop AU=SARI SADETTIN\n",
      "1960\n",
      "Error on loop AU=KARAVELIOGLU AFKA\n",
      "1961\n",
      "Error on loop AU=YAZICI ENGIN\n",
      "1962\n",
      "Error on loop AU=KOCATEPE CELAL\n",
      "1963\n",
      "Error on loop AU=KUTLUHAN SABIT\n",
      "1964\n",
      "Error on loop AU=SOYORAL YASEMIN\n",
      "1965\n",
      "Error on loop AU=ONDER MUSTAFA\n",
      "1966\n",
      "Error on loop AU=KOCAMAZ ERDOGAN\n",
      "1967\n",
      "Error on loop AU=ULUKAPI OMER\n",
      "1968\n",
      "Error on loop AU=BAGCI RIZA\n",
      "1969\n",
      "Error on loop AU=OZHAN HAKAN\n",
      "1970\n",
      "Error on loop AU=YAGMUR NIHAT\n",
      "1971\n",
      "Error on loop AU=CELIKBILEK MEHMET\n",
      "1972\n",
      "Error on loop AU=DURAN FATIH\n",
      "1973\n",
      "Error on loop AU=TEZCAN SABAN\n",
      "1974\n",
      "Error on loop AU=CAKMAKTEPE SUKRU\n",
      "1975\n",
      "Error on loop AU=BAYRAM MEHMET\n",
      "1976\n",
      "Error on loop AU=HELVACI MEHMET\n",
      "1977\n",
      "Error on loop AU=SALIS OSMAN\n",
      "1978\n",
      "Error on loop AU=UYGUR RAMAZAN\n",
      "1979\n",
      "Error on loop AU=YANIK TUGRUL\n",
      "1980\n",
      "Error on loop AU=GOKTAS MUSTAFA\n",
      "1981\n",
      "Error on loop AU=DOGAN GULNIHAL\n",
      "1982\n",
      "Error on loop AU=KILIC RECEP\n",
      "1983\n",
      "Error on loop AU=ARSLAN NECMI\n",
      "1984\n",
      "Error on loop AU=OZTURK ABDURAHMAN\n",
      "1985\n",
      "Error on loop AU=DUVAN AHMET\n",
      "1986\n",
      "Error on loop AU=TEKIN MUSTAFA\n",
      "1987\n",
      "Error on loop AU=KEMALOGLU MUSTAFA\n",
      "1988\n",
      "Error on loop AU=AYDIN MURAT\n",
      "1989\n",
      "Error on loop AU=ASLAN HUSEYIN\n",
      "1990\n",
      "Error on loop AU=ALBAYRAK ISMAIL\n",
      "1991\n",
      "Error on loop AU=CINI AHMET\n",
      "1992\n",
      "Error on loop AU=SENOGUZ HATICE\n",
      "1993\n",
      "Error on loop AU=DUNDAR KADIR\n",
      "1994\n",
      "Error on loop AU=ERSOZLU ALPAY\n",
      "1995\n",
      "Error on loop AU=BAYKARA HACI\n",
      "1996\n",
      "Error on loop AU=DONER ISA\n",
      "1997\n",
      "Error on loop AU=SAHIN OSMAN\n",
      "1998\n",
      "Error on loop AU=KAYMAKCI YASEMIN\n",
      "1999\n",
      "Error on loop AU=YIGIN MEHTAP\n",
      "2000\n",
      "Error on loop AU=DANE ASIM\n",
      "2001\n",
      "Error on loop AU=DOGAN BEKIR\n",
      "2002\n",
      "Error on loop AU=KALENDER EBUZER\n",
      "2003\n",
      "Error on loop AU=GUNES ZELIHA\n",
      "2004\n",
      "Error on loop AU=KACAN ERDAL\n",
      "2005\n",
      "Error on loop AU=OGUSGIL VAHAP\n",
      "2006\n",
      "Error on loop AU=EKIN YUNUS\n",
      "2007\n",
      "Error on loop AU=AYDIN MESUT\n",
      "2008\n",
      "Error on loop AU=YANIK KERAMETTIN\n",
      "2009\n",
      "Error on loop AU=ESER BETUL\n",
      "2010\n",
      "Error on loop AU=SAHMAN HALIL\n",
      "2011\n",
      "Error on loop AU=GULER GULNUR\n",
      "2012\n",
      "Error on loop AU=KOC YUSUF\n",
      "2013\n",
      "Error on loop AU=OZLEN MUHAMMED\n",
      "2014\n",
      "Error on loop AU=BASLAR MEHMET\n",
      "2015\n",
      "Error on loop AU=TUZCU ESRA\n",
      "2016\n",
      "Error on loop AU=SARICA MUSTAFA\n",
      "2017\n",
      "Error on loop AU=BEKMEZ SELAHATTIN\n",
      "2018\n",
      "Error on loop AU=SIMSEK ERKAN\n",
      "2019\n",
      "Error on loop AU=PAMUK GULSUM\n",
      "2020\n",
      "Error on loop AU=GUVEN ERDEM\n",
      "2021\n",
      "Error on loop AU=SUTCU RECEP\n",
      "2022\n",
      "Error on loop AU=GULTURK ELIF\n",
      "2023\n",
      "Error on loop AU=KAYACAN OZHAN\n",
      "2024\n",
      "Error on loop AU=KAYA ESMA\n",
      "2025\n",
      "Error on loop AU=HARPUT UMMUHAN\n",
      "2026\n",
      "Error on loop AU=DURNA UFUK\n",
      "2027\n",
      "Error on loop AU=ISIK DAGHAN\n",
      "2028\n",
      "Error on loop AU=KERVAN SELCUK\n",
      "2029\n",
      "Error on loop AU=CALGAN MEHMET\n",
      "2030\n",
      "Error on loop AU=BALKAN AYSE\n",
      "2031\n",
      "Error on loop AU=KAFALI HASAN\n",
      "2032\n",
      "Error on loop AU=OZER HASAN\n",
      "2033\n",
      "Error on loop AU=DEMIR ERDAL\n",
      "2034\n",
      "Error on loop AU=KOKOGLU OMER\n",
      "2035\n",
      "Error on loop AU=OZKAN ORHAN\n",
      "2036\n",
      "Error on loop AU=DUYMUS MAHMUT\n",
      "2037\n",
      "Error on loop AU=KURSUN OLCAY\n",
      "2038\n",
      "Error on loop AU=KARACA CETIN\n",
      "2039\n",
      "Error on loop AU=UNLU BEKIR\n",
      "2040\n",
      "Error on loop AU=BALTA MUSTAFA\n",
      "2041\n",
      "Error on loop AU=AKAR SEDAT\n",
      "2042\n",
      "Error on loop AU=KARAKAS EMEL\n",
      "2043\n",
      "Error on loop AU=AKCAN RECEP\n",
      "2044\n",
      "Error on loop AU=KOLE BEKIR\n",
      "2045\n",
      "Error on loop AU=DUZGUN RECEP\n",
      "2046\n",
      "Error on loop AU=YAZICI BURHAN\n",
      "2047\n",
      "Error on loop AU=DELEN ERHAN\n",
      "2048\n",
      "Error on loop AU=URAL ABDULLAH\n",
      "2049\n",
      "Error on loop AU=YILDIRIM ALI\n",
      "2050\n",
      "Error on loop AU=INAL KEMAL\n",
      "2051\n",
      "Error on loop AU=KIYAK ALIYE\n",
      "2052\n",
      "Error on loop AU=DALLI MEHMET\n",
      "2053\n",
      "Error on loop AU=ULUTIN HASAN\n",
      "2054\n",
      "Error on loop AU=BOSTAN MEHMET\n",
      "2055\n",
      "Error on loop AU=SARIKAYA YASIN\n",
      "2056\n",
      "Error on loop AU=CAVDAR AHMET\n",
      "2057\n",
      "Error on loop AU=SEYREK KAMIL\n",
      "2058\n",
      "Error on loop AU=YASAR UMIT\n",
      "2059\n",
      "Error on loop AU=OFLAZ HUSEYIN\n",
      "2060\n",
      "Error on loop AU=KARSLI ABDURRAHIM\n",
      "2061\n",
      "Error on loop AU=ARIKAN MUSTAFA\n",
      "2062\n",
      "Error on loop AU=KOC AKIF\n",
      "2063\n",
      "Error on loop AU=GUVEN SEDAT\n",
      "2064\n",
      "Error on loop AU=SEYYAR ALI\n",
      "2065\n",
      "Error on loop AU=SOKUCU ORAL\n",
      "2066\n",
      "Error on loop AU=HOSNUTER MUBIN\n",
      "2067\n",
      "Error on loop AU=SARI HAKAN\n",
      "2068\n",
      "Error on loop AU=ULU ARIF\n",
      "2069\n",
      "Error on loop AU=KONUK NUMAN\n",
      "2070\n",
      "Error on loop AU=ABALI BAYRAM\n",
      "2071\n",
      "Error on loop AU=OZTURK ATIYE\n",
      "2072\n",
      "Error on loop AU=OZTURK YENER\n",
      "2073\n",
      "Error on loop AU=YASAR ERGUN\n",
      "2074\n",
      "Error on loop AU=ALBAYRAK SELAHATTIN\n",
      "2075\n",
      "Error on loop AU=SARAC AYSEGUL\n",
      "2076\n",
      "Error on loop AU=KORTUNAY SEMRA\n",
      "2077\n",
      "Error on loop AU=OZDEMIR EVREN\n",
      "2078\n",
      "Error on loop AU=OZKUK GOKAN\n",
      "2079\n",
      "Error on loop AU=BAL HASAN\n",
      "2080\n",
      "Error on loop AU=CEYLAN HALUK\n",
      "2081\n",
      "Error on loop AU=COSKUN OZLEM\n",
      "2082\n",
      "Error on loop AU=YAVUZ ADNAN\n",
      "2083\n",
      "Error on loop AU=OZKASAP SERDAR\n",
      "2084\n",
      "Error on loop AU=BAYRAM FATIH\n",
      "2085\n",
      "Error on loop AU=BORA AYDIN\n",
      "2086\n",
      "Error on loop AU=YAZICI ALPER\n",
      "2087\n",
      "Error on loop AU=CAYIR CELAL\n",
      "2088\n",
      "Error on loop AU=ATMACA MEHMET\n",
      "2089\n",
      "Error on loop AU=OZCOBAN YUSUF\n",
      "2090\n",
      "Error on loop AU=OZ MUSTAFA\n",
      "2091\n",
      "Error on loop AU=ASLANTAS ALI\n",
      "2092\n",
      "Error on loop AU=TUTOGLU AHMET\n",
      "2093\n",
      "Error on loop AU=OZTURK IBRAHIM\n",
      "2094\n",
      "Error on loop AU=SOYDEMIR SUAT\n",
      "2095\n",
      "Error on loop AU=OZDEMIR SELIM\n",
      "2096\n",
      "Error on loop AU=CANBOLAT MEHMET\n",
      "2097\n",
      "Error on loop AU=DEMIRCI NEDRET\n",
      "2098\n",
      "Error on loop AU=AKBULUT METIN\n",
      "2099\n",
      "Error on loop AU=CIM ABDULLAH\n",
      "2100\n",
      "Error on loop AU=COPUR YALCIN\n",
      "2101\n",
      "Error on loop AU=BORUBAN MELIH\n",
      "2102\n",
      "Error on loop AU=HOPAC MUSTAFA\n",
      "2103\n",
      "Error on loop AU=KARABEKIR MUNIRE\n",
      "2104\n",
      "Error on loop AU=DOGAN CABIR\n",
      "2105\n",
      "Error on loop AU=YILMAZ HACI\n",
      "2106\n",
      "Error on loop AU=SARAC CEM\n",
      "2107\n",
      "Error on loop AU=SAHIN KEMAL\n",
      "2108\n",
      "Error on loop AU=TURKER FATIH\n",
      "2109\n",
      "Error on loop AU=KARA LEVENT\n",
      "2110\n",
      "Error on loop AU=BUYUKGUCLU MEHMET\n",
      "2111\n",
      "Error on loop AU=AKCAY FATIH\n",
      "2112\n",
      "Error on loop AU=AKTAS HACI\n",
      "2113\n",
      "Error on loop AU=YANDI YUNUS\n",
      "2114\n",
      "Error on loop AU=CINOGLU HUSEYIN\n",
      "2115\n",
      "Error on loop AU=CELIK AYHAN\n",
      "2116\n",
      "Error on loop AU=ER ORHAN\n",
      "2117\n"
     ]
    },
    {
     "name": "stdout",
     "output_type": "stream",
     "text": [
      "Error on loop AU=YEKSAN AYSE\n",
      "2118\n",
      "Error on loop AU=YELOGLU TURGUT\n",
      "2119\n",
      "Error on loop AU=KIRACI MURAT\n",
      "2120\n",
      "Error on loop AU=ERAYMAN MUSTAFA\n",
      "2121\n",
      "Error on loop AU=EROGLU MEHMET\n",
      "2122\n",
      "Error on loop AU=KOCAK MAHMUT\n",
      "2123\n",
      "Error on loop AU=YESILAY AYTEKIN\n",
      "2124\n",
      "Error on loop AU=CEVIT OMER\n",
      "2125\n",
      "Error on loop AU=ASLAN MUHAMMED\n",
      "2126\n",
      "Error on loop AU=YIGIN MUSA\n",
      "2127\n",
      "Error on loop AU=AKDOGAN ILGAZ\n",
      "2128\n",
      "Error on loop AU=DOGAN MUAMMER\n",
      "2129\n",
      "Error on loop AU=YILDIZ HARUN\n",
      "2130\n",
      "Error on loop AU=GUVEN MUSTAFA\n",
      "2131\n",
      "Error on loop AU=UYSAL ISMAIL\n",
      "2132\n",
      "Error on loop AU=DEMIRCI HALIL\n",
      "2133\n",
      "Error on loop AU=SASMAZ SEZAI\n",
      "2134\n",
      "Error on loop AU=DURMUS MUSTAFA\n",
      "2135\n",
      "Error on loop AU=GERGERLIOGLU HASAN\n",
      "2136\n",
      "Error on loop AU=CIFTCI MEHMET\n",
      "2137\n",
      "Error on loop AU=KURT MUSTAFA\n",
      "2138\n",
      "Error on loop AU=DOGANAY SELIM\n",
      "2139\n",
      "Error on loop AU=SAHIN SERAP\n",
      "2140\n",
      "Error on loop AU=ERGIN ABDULLAH\n",
      "2141\n",
      "Error on loop AU=AYDOGAN AKIN\n",
      "2142\n",
      "Error on loop AU=KORUCU HALIM\n",
      "2143\n",
      "Error on loop AU=KUTLUBAY RECEP\n",
      "2144\n",
      "Error on loop AU=KUCUKDURMAZ ZEKERIYA\n",
      "2145\n",
      "Error on loop AU=NACAR ALPER\n",
      "2146\n",
      "Error on loop AU=ERDEN ISMAIL\n",
      "2147\n",
      "Error on loop AU=KUSCU VEYSEL\n",
      "2148\n",
      "Error on loop AU=BAYRAK OMER\n",
      "2149\n",
      "Error on loop AU=KARASEN RIZA\n",
      "2150\n",
      "Error on loop AU=AGLADIOGLU KADIR\n",
      "2151\n",
      "Error on loop AU=SARITAS BAKI\n",
      "2152\n",
      "Error on loop AU=AKCE MUSA\n",
      "2153\n",
      "Error on loop AU=UNAL ORHAN\n",
      "2154\n",
      "Error on loop AU=AKSOY VELI\n",
      "2155\n",
      "Error on loop AU=CEVIK CENGIZ\n",
      "2156\n",
      "Error on loop AU=SARI OYA\n",
      "2157\n",
      "Error on loop AU=GUNER OSMAN\n",
      "2158\n",
      "Error on loop AU=ARIOZ UMUT\n",
      "2159\n",
      "Error on loop AU=ACAR HASAN\n",
      "2160\n",
      "Error on loop AU=HOTAMISLI MUSTAFA\n",
      "2161\n",
      "Error on loop AU=REIS SELCUK\n",
      "2162\n",
      "Error on loop AU=UYAR MUHEMMET\n",
      "2163\n",
      "Error on loop AU=CETE MEHMET\n",
      "2164\n",
      "Error on loop AU=KAPTI ALICAN\n",
      "2165\n",
      "Error on loop AU=AYDEMIR MUZAFFER\n",
      "2166\n",
      "Error on loop AU=YAVUZ YUCEL\n",
      "2167\n",
      "Error on loop AU=TUZCU MEHMET\n",
      "2168\n",
      "Error on loop AU=MADEN EMIN\n",
      "2169\n",
      "Error on loop AU=DOGAN NURETTIN\n",
      "2170\n",
      "Error on loop AU=ASLANTAS MEHMET\n",
      "2171\n",
      "Error on loop AU=ALBAYRAK EROL\n",
      "2172\n",
      "Error on loop AU=AKYUZ MURSEL\n",
      "2173\n",
      "Error on loop AU=CAMAS ANIL\n",
      "2174\n",
      "Error on loop AU=KIZIRGIL AHMET\n",
      "2175\n",
      "Error on loop AU=GENC MUHAMMET\n",
      "2176\n",
      "Error on loop AU=ELLEK HASAN\n",
      "2177\n",
      "Error on loop AU=ATALAY TUGAY\n",
      "2178\n",
      "Error on loop AU=YASAR ULKUHAN\n",
      "2179\n",
      "Error on loop AU=OZGEN FERHAT\n",
      "2180\n",
      "Error on loop AU=MERT RAMAZAN\n",
      "2181\n",
      "Error on loop AU=GUNDUZ MEHMET\n",
      "2182\n",
      "Error on loop AU=YORUK SINAN\n",
      "2183\n",
      "Error on loop AU=BASARAN ISMET\n",
      "2184\n",
      "Error on loop AU=ESEN HUSEYIN\n",
      "2185\n",
      "Error on loop AU=SAHIN ONDER\n",
      "2186\n",
      "Error on loop AU=BEGENIK HUSEYIN\n",
      "2187\n",
      "Error on loop AU=AYDOGDU NURI\n",
      "2188\n",
      "Error on loop AU=UZUN KURSAT\n",
      "2189\n",
      "Error on loop AU=KECELI ARIF\n",
      "2190\n",
      "Error on loop AU=KURSUN ALI\n",
      "2191\n",
      "Error on loop AU=BASARAN HAKAN\n",
      "2192\n",
      "Error on loop AU=CATIR FULYA\n",
      "2193\n",
      "Error on loop AU=OZTURK MUAMMER\n",
      "2194\n",
      "Error on loop AU=LACINER VEDAT\n",
      "2195\n",
      "Error on loop AU=SENOL FAZIL\n",
      "2196\n",
      "Error on loop AU=KABAKCILI OSMAN\n",
      "2197\n",
      "Error on loop AU=BASARAN BULENT\n",
      "2198\n",
      "Error on loop AU=SEN UNAL\n",
      "2199\n",
      "Error on loop AU=SAY RIDAVN\n",
      "2200\n",
      "Error on loop AU=KURT RAMAZAN\n",
      "2201\n",
      "Error on loop AU=OCAK SEZEN\n",
      "2202\n",
      "Error on loop AU=KURTARAN RAIF\n",
      "2203\n",
      "Error on loop AU=DOGAN METIN\n",
      "2204\n",
      "Error on loop AU=ANAY HARUN\n",
      "2205\n",
      "Error on loop AU=OZTURK FARUK\n",
      "2206\n",
      "Error on loop AU=KARAVELIOGLU ERGUN\n",
      "2207\n",
      "Error on loop AU=SOLAK OKAN\n",
      "2208\n",
      "Error on loop AU=KOSE MUHAMMET\n",
      "2209\n",
      "Error on loop AU=DIKMEN SIBEL\n",
      "2210\n",
      "Error on loop AU=DOGRU SIBEL\n",
      "2211\n",
      "Error on loop AU=OGURLU UZEYIR\n",
      "2212\n",
      "Error on loop AU=KAYA MEHMET\n",
      "2213\n",
      "Error on loop AU=LOFCA IZZET\n",
      "2214\n",
      "Error on loop AU=KARACADAG MUSTAFA\n",
      "2215\n",
      "Error on loop AU=EMUL HACI\n",
      "2216\n",
      "Error on loop AU=TATAR ENVER\n",
      "2217\n",
      "Error on loop AU=SEREFLICAN MURAT\n",
      "2218\n",
      "Error on loop AU=TURKYILMAZ KEMAL\n",
      "2219\n",
      "Error on loop AU=CAKICI MUSA\n",
      "2220\n",
      "Error on loop AU=PALABIYIK HAMIT\n",
      "2221\n",
      "Error on loop AU=YILDIRIM HALIL\n",
      "2222\n",
      "Error on loop AU=BILGEN NURETTIN\n",
      "2223\n",
      "Error on loop AU=YILDAR MURAT\n",
      "2224\n",
      "Error on loop AU=AKYUZOGLU HUSEYIN\n",
      "2225\n",
      "Error on loop AU=AKYUZ LATIFE\n",
      "2226\n",
      "Error on loop AU=TURHAN AHMET\n",
      "2227\n",
      "Error on loop AU=KAPLANOGLU VAHIT\n",
      "2228\n",
      "Error on loop AU=BOZKURT SELIM\n",
      "2229\n",
      "Error on loop AU=ALIHANOGLU YUSUF\n",
      "2230\n",
      "Error on loop AU=AYDIN HASAN\n",
      "2231\n",
      "Error on loop AU=OZCAN VEDAT\n",
      "2232\n",
      "Error on loop AU=GUNES AHMET\n",
      "2233\n",
      "Error on loop AU=BEKTAS SERDAR\n",
      "2234\n",
      "Error on loop AU=ISIK TURGAY\n",
      "2235\n",
      "Error on loop AU=MUFTUOGLU ALI\n",
      "2236\n",
      "Error on loop AU=COKADAR HULUSI\n",
      "2237\n",
      "Error on loop AU=OZKAN OMER\n",
      "2238\n",
      "Error on loop AU=AYHAN MEDIHA\n",
      "2239\n",
      "Error on loop AU=KILAVUZ BULENT\n",
      "2240\n",
      "Error on loop AU=YAZICI MEHMET\n",
      "2241\n",
      "Error on loop AU=SAKCALI MEHMET\n",
      "2242\n",
      "Error on loop AU=YILDIRIM ASKIN\n",
      "2243\n",
      "Error on loop AU=BULBUL FERDI\n",
      "2244\n",
      "Error on loop AU=CAN HUMEYRA\n",
      "2245\n",
      "Error on loop AU=BUYUKOGLAN HAKAN\n",
      "2246\n",
      "Error on loop AU=YENITEPE RECEP\n",
      "2247\n",
      "Error on loop AU=KART HASAN\n",
      "2248\n",
      "Error on loop AU=CALBAN TURAN\n",
      "2249\n",
      "Error on loop AU=YAKUT IBRAHIM\n",
      "2250\n",
      "Error on loop AU=AKIN FEHMI\n",
      "2251\n",
      "Error on loop AU=SAKIN SERDAR\n",
      "2252\n",
      "Error on loop AU=DEMIR IMDAT\n",
      "2253\n",
      "Error on loop AU=AYDOGAN HARUN\n",
      "2254\n",
      "Error on loop AU=OZMEN YILMAZ\n",
      "2255\n",
      "Error on loop AU=KAYA AHMET\n",
      "2256\n",
      "Error on loop AU=EREN ALI\n",
      "2257\n",
      "Error on loop AU=YUKSEL OSMAN\n",
      "2258\n",
      "Error on loop AU=CEVIK FILIZ\n",
      "2259\n",
      "Error on loop AU=OKUMUS AHMET\n",
      "2260\n",
      "Error on loop AU=SINIK BILAL\n",
      "2261\n",
      "Error on loop AU=BESKAYA AHMET\n",
      "2262\n",
      "Error on loop AU=ERDURAN MURAT\n",
      "2263\n",
      "Error on loop AU=BAYKARA CELALETTIN\n",
      "2264\n",
      "Error on loop AU=TOKUC CANER\n",
      "2265\n",
      "Error on loop AU=GULER METIN\n",
      "2266\n",
      "Error on loop AU=KALAFAT MUSTAFA\n",
      "2267\n",
      "Error on loop AU=KAHRAMAN SERIF\n",
      "2268\n",
      "Error on loop AU=AKALIN SERIFE\n",
      "2269\n",
      "Error on loop AU=AYKUL HALIL\n",
      "2270\n",
      "Error on loop AU=EREM CIHANGIR\n",
      "2271\n",
      "Error on loop AU=DUNDAR DERYA\n",
      "2272\n",
      "Error on loop AU=BALCI RAMAZAN\n",
      "2273\n",
      "Error on loop AU=BAYRAM ILKER\n",
      "2274\n",
      "Error on loop AU=KILIC ADIL\n",
      "2275\n",
      "Error on loop AU=BOZKURT DURMUS\n",
      "2276\n",
      "Error on loop AU=BAYRAMLAR HUSEYIN\n",
      "2277\n",
      "Error on loop AU=OZTURK ISMAIL\n",
      "2278\n",
      "Error on loop AU=BESIRLI KAZIM\n",
      "2279\n",
      "Error on loop AU=SIMSEK HARUN\n",
      "2280\n",
      "Error on loop AU=BIRINCIOGLU MUSTAFA\n",
      "2281\n",
      "Error on loop AU=OZBAY BULENT\n",
      "2282\n",
      "Error on loop AU=TAHAN ERHAN\n",
      "2283\n",
      "Error on loop AU=SIYPAK ISA\n",
      "2284\n",
      "Error on loop AU=ERTUC HUSEYIN\n",
      "2285\n",
      "Error on loop AU=SAHAN LEYLA\n",
      "2286\n",
      "Error on loop AU=SOZEN HAMDI\n",
      "2287\n",
      "Error on loop AU=ONEN EROL\n",
      "2288\n",
      "Error on loop AU=KILIC MEHMET\n",
      "2289\n",
      "Error on loop AU=TURGUT GUNFER\n",
      "2290\n",
      "Error on loop AU=UCAR SADIK\n",
      "2291\n",
      "Error on loop AU=KUZHAN NURETTIN\n",
      "2292\n",
      "Error on loop AU=OZSAHIN MUSTAFA\n",
      "2293\n",
      "Error on loop AU=EMHAN ABDURRAHIM\n",
      "2294\n",
      "Error on loop AU=KUTANIS MUSTAFA\n",
      "2295\n",
      "Error on loop AU=KIRKIT MUSTAFA\n",
      "2296\n",
      "Error on loop AU=SAHIN AHMET\n",
      "2297\n",
      "Error on loop AU=NACAR AHMET\n",
      "2298\n",
      "Error on loop AU=GUL RAUF\n",
      "2299\n",
      "Error on loop AU=CENGIZ MUSTAFA\n",
      "2300\n",
      "Error on loop AU=AVSAR UMIT\n",
      "2301\n",
      "Error on loop AU=GUNAYDIN MITHAT\n",
      "2302\n",
      "Error on loop AU=YARAR BETUL\n",
      "2303\n",
      "Error on loop AU=KOCABAS FIKRET\n",
      "2304\n",
      "Error on loop AU=BULUT MEHMET\n",
      "2305\n",
      "Error on loop AU=COBANER MURAT\n",
      "2306\n",
      "Error on loop AU=GUNAY BURCU\n",
      "2307\n",
      "Error on loop AU=BAL MEHMET\n",
      "2308\n",
      "Error on loop AU=TAVIL YUSUF\n",
      "2309\n",
      "Error on loop AU=ELMAS NEDRET\n",
      "2310\n",
      "Error on loop AU=SAHBAZ CAFER\n",
      "2311\n",
      "Error on loop AU=TURGUT HUSEYIN\n",
      "2312\n",
      "Error on loop AU=YILDIZ ZAFER\n",
      "2313\n",
      "Error on loop AU=KARAKAS FATIH\n",
      "2314\n",
      "Error on loop AU=DURAT MESUT\n",
      "2315\n",
      "Error on loop AU=TUYLUOGLU SEVKET\n",
      "2316\n",
      "Error on loop AU=EROGLU CAFER\n",
      "2317\n",
      "Error on loop AU=DAVARCI MURSEL\n",
      "2318\n",
      "Error on loop AU=COSKUN FATIH\n",
      "2319\n",
      "Error on loop AU=UZUN ERTUGRUL\n",
      "2320\n",
      "Error on loop AU=KERIMOV NAZIM\n",
      "2321\n",
      "Error on loop AU=KARADAG ADIL\n",
      "2322\n",
      "Error on loop AU=OZSEVIK ABDUL\n",
      "2323\n",
      "Error on loop AU=SIR AYTEKIN\n",
      "2324\n",
      "Error on loop AU=TOKER AYSUN\n",
      "2325\n",
      "Error on loop AU=GULTEKIN KUBRA\n",
      "2326\n",
      "Error on loop AU=BAYTAK SITKI\n",
      "2327\n",
      "Error on loop AU=ALIAGAOGLU CIHANGIR\n",
      "2328\n",
      "Error on loop AU=YUKSEL NUMAN\n",
      "2329\n",
      "Error on loop AU=KARAKUS KADIR\n",
      "2330\n",
      "Error on loop AU=SARIDEDE MUHLIS\n",
      "2331\n",
      "Error on loop AU=SEVINC ALPER\n",
      "2332\n",
      "Error on loop AU=ARSLAN MEHMET\n",
      "2333\n",
      "Error on loop AU=EKINCI ZEHRA\n",
      "2334\n",
      "Error on loop AU=AYDOGDU YUSUF\n",
      "2335\n",
      "Error on loop AU=TOPAL TANER\n",
      "2336\n",
      "Error on loop AU=AKBULAK MEHMET\n",
      "2337\n",
      "Error on loop AU=BILGIN OSMAN\n",
      "2338\n",
      "Error on loop AU=CITISLI VELI\n",
      "2339\n",
      "Error on loop AU=KARABULUT SEDAT\n",
      "2340\n",
      "Error on loop AU=KAYA MUHARREM\n",
      "2341\n",
      "Error on loop AU=CETINKAYA MELEK\n",
      "2342\n",
      "Error on loop AU=KOCER ABDULKADIR\n",
      "2343\n",
      "Error on loop AU=ULUTURK SULEYMAN\n",
      "2344\n",
      "Error on loop AU=YESIL YALCIN\n",
      "2345\n",
      "Error on loop AU=OZBILGE HATICE\n",
      "2346\n",
      "Error on loop AU=ALTINTAS HAKAN\n",
      "2347\n",
      "Error on loop AU=SOLAK ALI\n",
      "2348\n",
      "Error on loop AU=ALTAN GURKAN\n",
      "2349\n",
      "Error on loop AU=YILDIRIM ABDULKADIR\n",
      "2350\n",
      "Error on loop AU=ARTUN TALAT\n",
      "2351\n",
      "Error on loop AU=AYVAZ ZAFER\n",
      "2352\n",
      "Error on loop AU=DAG ERSEL\n",
      "2353\n",
      "Error on loop AU=KILDIRAN MENDERES\n",
      "2354\n",
      "Error on loop AU=HATIPOGLU HURISEL\n",
      "2355\n",
      "Error on loop AU=YUCEL AHMET\n",
      "2356\n",
      "Error on loop AU=GENCER BARAN\n",
      "2357\n",
      "Error on loop AU=ASCI BARIS\n",
      "2358\n",
      "Error on loop AU=DEMIR RECEP\n",
      "2359\n",
      "Error on loop AU=SALLI ALI\n",
      "2360\n",
      "Error on loop AU=YUCE MURAT\n",
      "2361\n",
      "Error on loop AU=DEMIRULUS HUSREV\n",
      "2362\n",
      "Error on loop AU=SEKER MEHMET\n",
      "2363\n",
      "Error on loop AU=YILDIZ BILAL\n",
      "2364\n",
      "Error on loop AU=AYDOGAN HAKAN\n",
      "2365\n",
      "Error on loop AU=ATIS MURAT\n",
      "2366\n",
      "Error on loop AU=VAROL MUHARREM\n",
      "2367\n",
      "Error on loop AU=YUKSEKKAYA MEHMET\n",
      "2368\n",
      "Error on loop AU=KARAKUS EMRE\n",
      "2369\n",
      "Error on loop AU=ATAR MURAT\n",
      "2370\n",
      "Error on loop AU=DOGAN MURAT\n",
      "2371\n",
      "Error on loop AU=ERDOGAN IBRAHIM\n",
      "2372\n",
      "Error on loop AU=KORKMAZ HUSEYIN\n",
      "2373\n",
      "Error on loop AU=SUCAKLI MUSTAFA\n",
      "2374\n",
      "Error on loop AU=AKCAY SALAHEDDIN\n",
      "2375\n",
      "Error on loop AU=CIRAK BAYRAM\n",
      "2376\n",
      "Error on loop AU=AYKUT SEREF\n",
      "2377\n",
      "Error on loop AU=ORMAN CENGIZ\n",
      "2378\n",
      "Error on loop AU=SONMEZ IBRAHIM\n",
      "2379\n",
      "Error on loop AU=YASITLI NAZMI\n",
      "2380\n",
      "Error on loop AU=USLU TURAN\n",
      "2381\n",
      "Error on loop AU=SUNBUL ALI\n",
      "2382\n",
      "Error on loop AU=MOTOR VICDAN\n",
      "2383\n",
      "Error on loop AU=CIRAK IFFET\n",
      "2384\n",
      "Error on loop AU=UCAK HAYDAR\n",
      "2385\n",
      "Error on loop AU=KUZPINARI TUFAN\n",
      "2386\n",
      "Error on loop AU=KARA CEMIL\n",
      "2387\n",
      "Error on loop AU=TELLIOGLU AYDA\n",
      "2388\n",
      "Error on loop AU=YILDIRIM YAKUP\n",
      "2389\n",
      "Error on loop AU=YAZILITAS NIHAT\n",
      "2390\n",
      "Error on loop AU=CINAL ADNAN\n",
      "2391\n",
      "Error on loop AU=BASOREN MEHMET\n",
      "2392\n",
      "Error on loop AU=OZTURK ISMET\n",
      "2393\n",
      "Error on loop AU=ISIK YUKSEL\n",
      "2394\n",
      "Error on loop AU=DIKMEN ALAATTIN\n",
      "2395\n",
      "Error on loop AU=ALPAY SAVAS\n",
      "2396\n",
      "Error on loop AU=ARPACI OZGUR\n",
      "2397\n",
      "Error on loop AU=FIDAN FATMA\n",
      "2398\n",
      "Error on loop AU=INCI ZERIFE\n",
      "2399\n",
      "Error on loop AU=ERDOGAN HASAN\n",
      "2400\n"
     ]
    },
    {
     "name": "stdout",
     "output_type": "stream",
     "text": [
      "Authenticated (SID: E2YACy4D4BoC8UoOeWZ)\n",
      "Error on loop AU=ZINCIRKESER SABRI\n",
      "2401\n",
      "Error on loop AU=KULAC MUSTAFA\n",
      "2402\n",
      "Error on loop AU=KERTMEN METIN\n",
      "2403\n",
      "Error on loop AU=KARAASLAN YUSUF\n",
      "2404\n",
      "Error on loop AU=MERIC GURSOY\n",
      "2405\n",
      "Error on loop AU=GUNER AHMET\n",
      "2406\n",
      "Error on loop AU=BASAK CENGIZ\n",
      "2407\n",
      "Error on loop AU=DAGLI MAHMUT\n",
      "2408\n",
      "Error on loop AU=YUMUSAK AHMET\n",
      "2409\n",
      "Error on loop AU=KUYUCU FIKRET\n",
      "2410\n",
      "Error on loop AU=SAHPAZ FATIH\n",
      "2411\n",
      "Error on loop AU=KAHRAMAN BAYRAM\n",
      "2412\n",
      "Error on loop AU=ISKENDER BETUL\n",
      "2413\n",
      "Error on loop AU=TANRIVERDI MEHMET\n",
      "2414\n",
      "Error on loop AU=ANDIRAN NESIBI\n",
      "2415\n",
      "Error on loop AU=BOYRAZ ISMAIL\n",
      "2416\n",
      "Error on loop AU=ULUCAN HAKAN\n",
      "2417\n",
      "Error on loop AU=GUL ADEM\n",
      "2418\n",
      "Error on loop AU=YETER EKREM\n",
      "2419\n",
      "Error on loop AU=KURT SULTAN\n",
      "2420\n",
      "Error on loop AU=USTA AYHAN\n",
      "2421\n",
      "Error on loop AU=EYIGUN SABRI\n",
      "2422\n",
      "Error on loop AU=SEFIL FATIH\n",
      "2423\n",
      "Error on loop AU=SIVRI SULEYMAN\n",
      "2424\n",
      "Error on loop AU=BOSNAK MEHMET\n",
      "2425\n",
      "Error on loop AU=BULUT SANCAR\n",
      "2426\n",
      "Error on loop AU=SIMSEK SEREF\n",
      "2427\n",
      "Error on loop AU=EREN ADEM\n",
      "2428\n",
      "Error on loop AU=AYNIOGLU ONER\n",
      "2429\n",
      "Error on loop AU=KARABACAK OSMAN\n",
      "2430\n",
      "Error on loop AU=CETINKAYA ZAFER\n",
      "2431\n",
      "Error on loop AU=YILDIZ MURAT\n",
      "2432\n",
      "Error on loop AU=KIZILTUNC HUKMI\n",
      "2433\n",
      "Error on loop AU=SOYLEMEZ HALUK\n",
      "2434\n",
      "Error on loop AU=TIMUR MUSTAFA\n",
      "2435\n",
      "Error on loop AU=KUVAT SAMET\n",
      "2436\n",
      "Error on loop AU=AKYUZ YILMAZ\n",
      "2437\n",
      "Error on loop AU=BEKTAS ALI\n",
      "2438\n",
      "Error on loop AU=ARIKAN MUSTAFA\n",
      "2439\n",
      "Error on loop AU=CETIN ESAT\n",
      "2440\n",
      "Error on loop AU=BALCI SERDAR\n",
      "2441\n",
      "Error on loop AU=KURNAZ ISMAIL\n",
      "2442\n",
      "Error on loop AU=ALKAYIS MUHAMMET\n",
      "2443\n",
      "Error on loop AU=OZEN OZCAN\n",
      "2444\n",
      "Error on loop AU=ABALI OSMAN\n",
      "2445\n",
      "Error on loop AU=KARAKAS OMER\n",
      "2446\n",
      "Error on loop AU=SIMSEK OZKAN\n",
      "2447\n",
      "Error on loop AU=ELMA FIKRET\n",
      "2448\n",
      "Error on loop AU=KUZUBAS MUHAMMET\n",
      "2449\n",
      "Error on loop AU=YUCE SALIM\n",
      "2450\n",
      "Error on loop AU=CURE MEDINE\n",
      "2451\n",
      "Error on loop AU=SAGIR MUSTAFA\n",
      "2452\n",
      "Error on loop AU=KARABULUT NEVZA\n",
      "2453\n",
      "Error on loop AU=ARDIC IDRIS\n",
      "2454\n",
      "Error on loop AU=METE MEHMET\n",
      "2455\n",
      "Error on loop AU=YASAR SINAN\n",
      "2456\n",
      "Error on loop AU=SEN ZIYA\n",
      "2457\n",
      "Error on loop AU=SARI IDRIS\n",
      "2458\n",
      "Error on loop AU=PEKTEZEL HALID\n",
      "2459\n",
      "Error on loop AU=GUL MUAMMER\n",
      "2460\n",
      "Error on loop AU=GOKAY NECMI\n",
      "2461\n",
      "Error on loop AU=BAL VEDAT\n",
      "2462\n",
      "Error on loop AU=KILIC RAMAZAN\n",
      "2463\n",
      "Error on loop AU=ECE AYDIN\n",
      "2464\n",
      "Error on loop AU=GUMUSCU AHHMET\n",
      "2465\n",
      "Error on loop AU=OZSUNAR ERDAL\n",
      "2466\n",
      "Error on loop AU=ESER YUSUF\n",
      "2467\n",
      "Error on loop AU=SIMSEK SULEYMAN\n",
      "2468\n",
      "Error on loop AU=KAYA SELCUK\n",
      "2469\n",
      "Error on loop AU=DUNDAR SEFA\n",
      "2470\n",
      "Error on loop AU=KIREMITCI BARIS\n",
      "2471\n",
      "Error on loop AU=YILMAZ YUNUS\n",
      "2472\n",
      "Error on loop AU=CELIK NERMIN\n",
      "2473\n",
      "Error on loop AU=YUCE HASAN\n",
      "2474\n",
      "Error on loop AU=ALBAYRAK ENVER\n",
      "2475\n",
      "Error on loop AU=GUNGOR IBRAHIM\n",
      "2476\n",
      "Error on loop AU=BOSNAK VUSLAT\n",
      "2477\n",
      "Error on loop AU=AKIN LEMI\n",
      "2478\n",
      "Error on loop AU=VAR AHMET\n",
      "2479\n",
      "Error on loop AU=AYTEKIN ALI\n",
      "2480\n",
      "Error on loop AU=ISLEYEN AHMET\n",
      "2481\n",
      "Error on loop AU=BAYRAK TEMEL\n",
      "2482\n",
      "Error on loop AU=ULUSOY MAHMUT\n",
      "2483\n",
      "Error on loop AU=ERGIN VEYSEL\n",
      "2484\n",
      "Error on loop AU=SEN NIHAT\n",
      "2485\n",
      "Error on loop AU=USLU ENVER\n",
      "2486\n",
      "Error on loop AU=AKKAYA SEBAHAT\n",
      "2487\n",
      "Error on loop AU=KARAKUS SUZAN\n",
      "2488\n",
      "Error on loop AU=CINICI AYHAN\n",
      "2489\n",
      "Error on loop AU=GUMUS ALI\n",
      "2490\n",
      "Error on loop AU=GUREL AHMET\n",
      "2491\n",
      "Error on loop AU=SOYKASAP OMER\n",
      "2492\n",
      "Error on loop AU=YILMAZ METIN\n",
      "2493\n",
      "Error on loop AU=GOKSUGUR SEVIL\n",
      "2494\n",
      "Error on loop AU=CAN HUSEYIN\n",
      "2495\n",
      "Error on loop AU=DOGRUEL FULYA\n",
      "2496\n",
      "Error on loop AU=ERDOGAN MURAT\n",
      "2497\n",
      "Error on loop AU=TUZCU NEVIN\n",
      "2498\n",
      "Error on loop AU=KOSE KAMIL\n",
      "2499\n",
      "Error on loop AU=SENGUL ZEHRA\n",
      "2500\n",
      "Error on loop AU=YAGCI SERVER\n",
      "2501\n",
      "Error on loop AU=GONEL HUSEIN\n",
      "2502\n",
      "Error on loop AU=SOYUT HAKAN\n",
      "2503\n",
      "Error on loop AU=OZCAN MEHMET\n",
      "2504\n",
      "Error on loop AU=AYDIN SULEYMAN\n",
      "2505\n",
      "Error on loop AU=GUNEY AYHAN\n",
      "2506\n",
      "Error on loop AU=OK KEREM\n",
      "2507\n",
      "Error on loop AU=BOZKURT ALI\n",
      "2508\n",
      "Error on loop AU=BICER UMIT\n",
      "2509\n",
      "Error on loop AU=YILDIRIM MUSTAFA\n",
      "2510\n",
      "Error on loop AU=KAMALI SEVIL\n",
      "2511\n",
      "Error on loop AU=PARALI TEZCAN\n",
      "2512\n",
      "Error on loop AU=YILDIRIM VELI\n",
      "2513\n",
      "Error on loop AU=KUYUK HUSEYIN\n",
      "2514\n",
      "Error on loop AU=ARI VEDAT\n",
      "2515\n",
      "Error on loop AU=GUNAY BANIHAN\n",
      "2516\n",
      "Error on loop AU=OZCERIT AHMET\n",
      "2517\n",
      "Error on loop AU=YANIK ERTAN\n",
      "2518\n",
      "Error on loop AU=GORGUNOGLU SALIH\n",
      "2519\n",
      "Error on loop AU=BOZKURT NECATI\n",
      "2520\n",
      "Error on loop AU=AKAN ZAFER\n",
      "2521\n",
      "Error on loop AU=KARAKAYA ETEM\n",
      "2522\n",
      "Error on loop AU=CELIKBILEK ASUMAN\n",
      "2523\n",
      "Error on loop AU=GECICI OMER\n",
      "2524\n",
      "Error on loop AU=DEMIRCI MUSTAFA\n",
      "2525\n",
      "Error on loop AU=SOGUT ERKAN\n",
      "2526\n",
      "Error on loop AU=KAYA YILMAZ\n",
      "2527\n",
      "Error on loop AU=TOKGOZ ORHAN\n",
      "2528\n",
      "Error on loop AU=CECEN MEHMET\n",
      "2529\n",
      "Error on loop AU=ASIK GULSAH\n",
      "2530\n",
      "Error on loop AU=OZAN FATIH\n",
      "2531\n",
      "Error on loop AU=YILDIRIM SELCUK\n",
      "2532\n",
      "Error on loop AU=SAHAN MUSTAFA\n",
      "2533\n",
      "Error on loop AU=SOGUT SADIK\n",
      "2534\n",
      "Error on loop AU=KAYISOGLU NURULLAH\n",
      "2535\n",
      "Error on loop AU=AFYON AHMET\n",
      "2536\n",
      "Error on loop AU=SONGUR AHMET\n",
      "2537\n",
      "Error on loop AU=YAZAR SULEYMAN\n",
      "2538\n",
      "Error on loop AU=KAYA NURULLAH\n",
      "2539\n",
      "Error on loop AU=YILDIZ ONDER\n",
      "2540\n",
      "Error on loop AU=GUVERCIN ALI\n",
      "2541\n",
      "Error on loop AU=GUMUSTEKIN KENAN\n",
      "2542\n",
      "Error on loop AU=TANC HALIL\n",
      "2543\n",
      "Error on loop AU=HALAC METIN\n",
      "2544\n",
      "Error on loop AU=UGURLU MUSTAFA\n",
      "2545\n",
      "Error on loop AU=ATILA MUHAMMED\n",
      "2546\n",
      "Error on loop AU=DERIN SERHAN\n",
      "2547\n",
      "Error on loop AU=OGUREL REYHAN\n",
      "2548\n",
      "Error on loop AU=BUYUKBAS SADIK\n",
      "2549\n",
      "Error on loop AU=SAHIN IBRAHIM\n",
      "2550\n",
      "Error on loop AU=NAM MEHMET\n",
      "2551\n",
      "Error on loop AU=KAYNAK RAMAZAN\n",
      "2552\n",
      "Error on loop AU=KISA SEZER\n",
      "2553\n",
      "Error on loop AU=BAYINDIR MUHAMMED\n",
      "2554\n",
      "Error on loop AU=DOGAN ALI\n",
      "2555\n",
      "Error on loop AU=SICAK ALI\n",
      "2556\n",
      "Error on loop AU=OGRETEN AHMET\n",
      "2557\n",
      "Error on loop AU=KARACAN HASAN\n",
      "2558\n",
      "Error on loop AU=AKUL MUHITTIN\n",
      "2559\n",
      "Error on loop AU=YAVUZ BULENT\n",
      "2560\n",
      "Error on loop AU=BIRGUN MAHMUT\n",
      "2561\n",
      "Error on loop AU=SEKMEN PERIHAN\n",
      "2562\n",
      "Error on loop AU=ULUCAY ISMAIL\n",
      "2563\n",
      "Error on loop AU=YILDIZ RAMAZAN\n",
      "2564\n",
      "Error on loop AU=OMUR FAIK\n",
      "2565\n",
      "Error on loop AU=KARA ISMAIL\n",
      "2566\n",
      "Error on loop AU=CENGIZ BEYHAN\n",
      "2567\n",
      "Error on loop AU=UCMAK HASAN\n",
      "2568\n",
      "Error on loop AU=AYATA TAHIR\n",
      "2569\n",
      "Error on loop AU=TARIKULU ABDULLAH\n",
      "2570\n",
      "Error on loop AU=OZTURK SERKAN\n",
      "2571\n",
      "Error on loop AU=CAN FATIH\n",
      "2572\n",
      "Error on loop AU=KUCUKONER MUSTAFA\n",
      "2573\n",
      "Error on loop AU=KOSEOGLU SINEM\n",
      "2574\n",
      "Error on loop AU=ERSOY ERTAN\n",
      "2575\n",
      "Error on loop AU=DEMIR IBRAHIM\n",
      "2576\n",
      "Error on loop AU=YILDIZ MAHMUT\n",
      "2577\n",
      "Error on loop AU=BULU IRFAN\n",
      "2578\n",
      "Error on loop AU=DOGAN ENFEL\n",
      "2579\n",
      "Error on loop AU=KAYCI LOKMAN\n",
      "2580\n",
      "Error on loop AU=ALKAN MAHIR\n",
      "2581\n",
      "Error on loop AU=YALCINBAS SALIH\n",
      "2582\n",
      "Error on loop AU=GAYRETLI AHMET\n",
      "2583\n",
      "Error on loop AU=IRKICATAL EFTAL\n",
      "2584\n",
      "Error on loop AU=OZGOREN MUAMMER\n",
      "2585\n",
      "Error on loop AU=ULU CAFER\n",
      "2586\n",
      "Error on loop AU=OZCAN LUTFI\n",
      "2587\n",
      "Error on loop AU=TANKUT ALI\n",
      "2588\n",
      "Error on loop AU=CAYCI MUHAMMET\n",
      "2589\n",
      "Error on loop AU=INAN TASKIN\n",
      "2590\n",
      "Error on loop AU=MERHAN AZIZ\n",
      "2591\n",
      "Error on loop AU=CETINER ZIYA\n",
      "2592\n",
      "Error on loop AU=CENKCI SULEYMAN\n",
      "2593\n",
      "Error on loop AU=ALTINTAS AHMET\n",
      "2594\n",
      "Error on loop AU=MESTAN EMINE\n",
      "2595\n",
      "Error on loop AU=OZDEMIR BESIME\n",
      "2596\n",
      "Error on loop AU=KILKIS DOGAN\n",
      "2597\n",
      "Error on loop AU=ARIK MEHMET\n",
      "2598\n",
      "Error on loop AU=YAMAN HAKAN\n",
      "2599\n",
      "Error on loop AU=GUNTEKIN ERGUN\n",
      "2600\n",
      "Error on loop AU=KAMAS TUNCAY\n",
      "2601\n",
      "Error on loop AU=KAPLANOGLU MUSTAFA\n",
      "2602\n",
      "Error on loop AU=YILMAZ REMZI\n",
      "2603\n",
      "Error on loop AU=BINNETOGLU FATIH\n",
      "2604\n",
      "Error on loop AU=DINCKAL MUSTAFA\n",
      "2605\n",
      "Error on loop AU=SEYHAN SALIH\n",
      "2606\n",
      "Error on loop AU=GULTEPE NEJLA\n",
      "2607\n",
      "Error on loop AU=CEKIC SEMIN\n",
      "2608\n",
      "Error on loop AU=SEVINC MURAT\n",
      "2609\n",
      "Error on loop AU=KARAKAS MUSTAFA\n",
      "2610\n",
      "Error on loop AU=UNAL BIRSEN\n",
      "2611\n",
      "Error on loop AU=OZGUNER GULNUR\n",
      "2612\n",
      "Error on loop AU=AYDIN ALI\n",
      "2613\n",
      "Error on loop AU=ALGAN SAID\n",
      "2614\n",
      "Error on loop AU=YILDIRIM MEHMET\n",
      "2615\n",
      "Error on loop AU=CELEBI MURAT\n",
      "2616\n",
      "Error on loop AU=UGULU ILKER\n",
      "2617\n",
      "Error on loop AU=BARAN IBRAHIM\n",
      "2618\n",
      "Error on loop AU=ERDOGAN DOGAN\n",
      "2619\n",
      "Error on loop AU=ERBAG GOKHAN\n",
      "2620\n",
      "Error on loop AU=BERK ELIFE\n",
      "2621\n",
      "Error on loop AU=DOGDU ORHAN\n",
      "2622\n",
      "Error on loop AU=CETINER IBRAHIM\n",
      "2623\n",
      "Error on loop AU=GOZEN ABDURRAHIM\n",
      "2624\n",
      "Error on loop AU=CEKER MUSTAFA\n",
      "2625\n",
      "Error on loop AU=UNSALDI LEVENT\n",
      "2626\n",
      "Error on loop AU=AYYILDIZ EYUP\n",
      "2627\n",
      "Error on loop AU=KARKINER NADIDE\n",
      "2628\n",
      "Error on loop AU=KARAASLAN MEHMET\n",
      "2629\n",
      "Error on loop AU=GUZEL AHMET\n",
      "2630\n",
      "Error on loop AU=BILGIN SEFAI\n",
      "2631\n",
      "Error on loop AU=OZDES TASKIN\n",
      "2632\n",
      "Error on loop AU=AYDIN EMSAL\n",
      "2633\n",
      "Error on loop AU=KOKEN GULEN\n",
      "2634\n",
      "Error on loop AU=CELEBIOGLU FATIH\n",
      "2635\n",
      "Error on loop AU=UCAR OMER\n",
      "2636\n",
      "Error on loop AU=MAVILI ERTUGRUL\n",
      "2637\n",
      "Error on loop AU=BASIBUYUK OGUZHAN\n",
      "2638\n",
      "Error on loop AU=YAYLAR YASIN\n",
      "2639\n",
      "Error on loop AU=GENC ERNUR\n",
      "2640\n",
      "Error on loop AU=CETIN SABAN\n",
      "2641\n",
      "Error on loop AU=OGRETMEN FATIH\n",
      "2642\n",
      "Error on loop AU=COSKUN RAMAZAN\n",
      "2643\n",
      "Error on loop AU=SEN ILKER\n",
      "2644\n",
      "Error on loop AU=OZ MEHMET\n",
      "2645\n",
      "Error on loop AU=GEDIK MEHMET\n",
      "2646\n",
      "Error on loop AU=CELIK SENGUL\n",
      "2647\n",
      "Error on loop AU=ERDEM NILGUN\n",
      "2648\n",
      "Error on loop AU=EROGLU AHMET\n",
      "2649\n",
      "Error on loop AU=CEYHANLI KADIR\n",
      "2650\n",
      "Error on loop AU=ARSLAN DEMET\n",
      "2651\n",
      "Error on loop AU=SANCAK EMRE\n",
      "2652\n",
      "Error on loop AU=AKGUL NESE\n",
      "2653\n",
      "Error on loop AU=BUYUKBOZDUGAN MAHMUT\n",
      "2654\n",
      "Error on loop AU=ALBEN MESUT\n",
      "2655\n",
      "Error on loop AU=UYGUN MEHMET\n",
      "2656\n",
      "Error on loop AU=ILGEN ALDULKADIR\n",
      "2657\n",
      "Error on loop AU=ALTUNTAS BAYRAM\n",
      "2658\n",
      "Error on loop AU=GOKALP MEHMET\n",
      "2659\n",
      "Error on loop AU=SIVGIN SERDAR\n",
      "2660\n",
      "Error on loop AU=UMRUL MEHMET\n",
      "2661\n",
      "Error on loop AU=CAGLAYA KASIM\n",
      "2662\n",
      "Error on loop AU=GUNEY ATILLA\n",
      "2663\n",
      "Error on loop AU=EROGLU OMER\n",
      "2664\n",
      "Error on loop AU=SELIMOGLU FIGEN\n",
      "2665\n",
      "Error on loop AU=KUNT HALIL\n",
      "2666\n",
      "Error on loop AU=AYDN NASUHI\n",
      "2667\n",
      "Error on loop AU=UGURLU ESMA\n",
      "2668\n",
      "Error on loop AU=KADIKOYLU NESLIHAN\n",
      "2669\n",
      "Error on loop AU=KILINC EMIN\n",
      "2670\n",
      "Error on loop AU=KURTULMUS MEHMET\n",
      "2671\n",
      "Error on loop AU=SAHIN ZERRIN\n",
      "2672\n",
      "Error on loop AU=DURMUSOGLU ERTAN\n",
      "2673\n",
      "Error on loop AU=TURKMENOGLU VELI\n",
      "2674\n",
      "Error on loop AU=OZDAMAR OZGUR\n",
      "2675\n",
      "Error on loop AU=KERMAN UYSAL\n",
      "2676\n",
      "Error on loop AU=EROGLU HAYRETTIN\n",
      "2677\n",
      "Error on loop AU=ERDOGAN HIDAYET\n",
      "2678\n",
      "Error on loop AU=CINKAYA AHMET\n",
      "2679\n",
      "Error on loop AU=AKGEDIK RECEP\n",
      "2680\n",
      "Error on loop AU=CANTEK LAIKA\n",
      "2681\n",
      "Error on loop AU=KAHVECI AJDA\n",
      "2682\n",
      "Error on loop AU=AKMAN ORHAN\n",
      "2683\n",
      "Error on loop AU=CEYHAN BETUL\n",
      "2684\n",
      "Error on loop AU=DURAN RAMAZAN\n",
      "2685\n",
      "Error on loop AU=CELTIKCI ORHAN\n",
      "2686\n",
      "Error on loop AU=ILHAN NIHAT\n",
      "2687\n",
      "Error on loop AU=OZ FAHRI\n",
      "2688\n",
      "Error on loop AU=ATA NURCAN\n",
      "2689\n",
      "Error on loop AU=IPEK ARIF\n",
      "2690\n",
      "Error on loop AU=SOLMAZ ALI\n",
      "2691\n",
      "Error on loop AU=KAPTANOGLU CEM\n",
      "2692\n",
      "Error on loop AU=GUMUS KAZIM\n",
      "2693\n",
      "Error on loop AU=AKCA ISMET\n",
      "2694\n",
      "Error on loop AU=SENGUL MELIKE\n",
      "2695\n",
      "Error on loop AU=AKYILDIRIM ERDINC\n",
      "2696\n",
      "Error on loop AU=MUJDECI MUSTAFA\n",
      "2697\n",
      "Error on loop AU=TAN SINAN\n",
      "2698\n",
      "Error on loop AU=BIRICIK MURAT\n",
      "2699\n",
      "Error on loop AU=BASKENT EMIN\n",
      "2700\n",
      "Error on loop AU=GURBUZ MERAL\n",
      "2701\n",
      "Error on loop AU=KAYABASI NURAN\n",
      "2702\n",
      "Error on loop AU=SISMAN OSMAN\n",
      "2703\n",
      "Error on loop AU=YAPRAK MEVLUT\n",
      "2704\n",
      "Error on loop AU=ECEVITOGLU PINAR\n",
      "2705\n",
      "Error on loop AU=GUNDUZ EROL\n",
      "2706\n",
      "Error on loop AU=DAMLA NEVZAT\n",
      "2707\n",
      "Error on loop AU=DEMIR YUSUF\n",
      "2708\n",
      "Error on loop AU=KABA METIN\n",
      "2709\n",
      "Error on loop AU=ISLAMOGLU YAHYA\n",
      "2710\n",
      "Error on loop AU=DUNDAR AHMET\n",
      "2711\n",
      "Error on loop AU=NALBANTCILAR MAHMUT\n",
      "2712\n",
      "Error on loop AU=GUNES FAHRI\n",
      "2713\n",
      "Error on loop AU=BULDUK SEVDA\n",
      "2714\n",
      "Error on loop AU=ASKIN MEHMET\n",
      "2715\n",
      "Error on loop AU=UDAK AYFER\n",
      "2716\n",
      "Error on loop AU=TANE VAHIT\n",
      "2717\n",
      "Error on loop AU=CAKMAK CENAP\n",
      "2718\n",
      "Error on loop AU=CENGIL MEHMET\n",
      "2719\n",
      "Error on loop AU=ERDOGAN NIYAZI\n",
      "2720\n",
      "Error on loop AU=SISE OMER\n",
      "2721\n",
      "Error on loop AU=YIGIT AYSE\n",
      "2722\n",
      "Error on loop AU=KOYUNCU HULYA\n",
      "2723\n",
      "Error on loop AU=DEGIRMENCIOGLU SERDAR\n",
      "2724\n",
      "Error on loop AU=YAVUZ LUTFULLAH\n",
      "2725\n",
      "Error on loop AU=KUTANIS DILEK\n",
      "2726\n",
      "Error on loop AU=PENCECIOGLU MEHMET\n",
      "2727\n",
      "Error on loop AU=KARAKUYU YUNUS\n",
      "2728\n",
      "Error on loop AU=KILIC EYLEM\n",
      "2729\n",
      "Error on loop AU=GURGEN MELAHAT\n",
      "2730\n",
      "Error on loop AU=AYDIN HATIP\n",
      "2731\n",
      "Error on loop AU=ONDER AKIN\n",
      "2732\n",
      "Error on loop AU=TEBER HATICE\n",
      "2733\n",
      "Error on loop AU=SENOL SERKAN\n",
      "2734\n",
      "Error on loop AU=SOLAK OZLEM\n",
      "2735\n",
      "Error on loop AU=ALBAYRAK SEBAHATTIN\n",
      "2736\n",
      "Error on loop AU=IKBAL MEVLUT\n",
      "2737\n",
      "Error on loop AU=YILDIZ FEYYAZ\n",
      "2738\n",
      "Error on loop AU=YAZMALAR LEVENT\n",
      "2739\n",
      "Error on loop AU=DASCI MAHMUT\n",
      "2740\n",
      "Error on loop AU=GUZEL MAHMUT\n",
      "2741\n",
      "Error on loop AU=DAGLI UMMUHAN\n",
      "2742\n",
      "Error on loop AU=AKKOSE MEHMET\n",
      "2743\n",
      "Error on loop AU=ARSLAN DURAN\n",
      "2744\n",
      "Error on loop AU=SOGUT MEHMET\n",
      "2745\n",
      "Error on loop AU=OYLUMLU MUHAMMED\n",
      "2746\n",
      "Error on loop AU=SANLI ISMET\n",
      "2747\n",
      "Error on loop AU=PIINAR AHMET\n",
      "2748\n",
      "Error on loop AU=ACAR ZELIHA\n",
      "2749\n",
      "Error on loop AU=KARAARSLAN BEKIR\n",
      "2750\n",
      "Error on loop AU=BASLAR SULEYMAN\n",
      "2751\n",
      "Error on loop AU=DORUK IBRAHIM\n",
      "2752\n",
      "Error on loop AU=AKMAN INCI\n",
      "2753\n",
      "Error on loop AU=OZDEMIR MUHSIN\n",
      "2754\n",
      "Error on loop AU=SAYIN UTKU\n",
      "2755\n",
      "Error on loop AU=ERDAL SERKAN\n",
      "2756\n",
      "Error on loop AU=FIRAT ELIF\n",
      "2757\n",
      "Error on loop AU=AYDIN SERGULEN\n",
      "2758\n",
      "Error on loop AU=ISLAM NAZIR\n",
      "2759\n",
      "Error on loop AU=CALI HASAN\n",
      "2760\n",
      "Error on loop AU=HALIS ZEKI\n",
      "2761\n",
      "Error on loop AU=YILMAZ NAFIYE\n",
      "2762\n",
      "Error on loop AU=YUCEL KIVILCIM\n",
      "2763\n",
      "Error on loop AU=YAYLAK ERDAL\n",
      "2764\n",
      "Error on loop AU=ATILGAN SERDAR\n",
      "2765\n",
      "Error on loop AU=BOZOGLAN BAHADIR\n",
      "2766\n",
      "Error on loop AU=TEMEL TUBA\n",
      "2767\n",
      "Error on loop AU=KARABIBER FETHULLAH\n",
      "2768\n",
      "Error on loop AU=BOLAT FATIH\n",
      "2769\n",
      "Error on loop AU=OZEL LUTFI\n",
      "2770\n",
      "Error on loop AU=GOKALP OSMAN\n",
      "2771\n",
      "Error on loop AU=DEMIR AHMET\n",
      "2772\n",
      "Error on loop AU=KARACABEY SUREYYA\n",
      "2773\n",
      "Error on loop AU=EGE ILHAMI\n",
      "2774\n",
      "Error on loop AU=ULUDAG SENER\n",
      "2775\n",
      "Error on loop AU=ZENGIN YILMAZ\n",
      "2776\n",
      "Error on loop AU=AYDIN AYDIN\n",
      "2777\n",
      "Error on loop AU=EKSI FEYZETTIN\n",
      "2778\n",
      "Error on loop AU=KOCAK CENGIZ\n",
      "2779\n",
      "Error on loop AU=SEKER MAHMUT\n",
      "2780\n",
      "Error on loop AU=ULGER SUKRAN\n",
      "2781\n",
      "Error on loop AU=YILDIRIM SERAP\n",
      "2782\n",
      "Error on loop AU=CETIN NAZMI\n",
      "2783\n",
      "Error on loop AU=AVCI ASLI\n",
      "2784\n",
      "Error on loop AU=NISANCI RECEP\n",
      "2785\n",
      "Error on loop AU=SANAL BEKIR\n",
      "2786\n",
      "Error on loop AU=ALKIS HUSEYIN\n",
      "2787\n",
      "Error on loop AU=KILIC ZUBEYIR\n",
      "2788\n",
      "Error on loop AU=KOCAK ORHAN\n",
      "2789\n",
      "Error on loop AU=ABAKAY ABDURRAHMAN\n",
      "2790\n",
      "Error on loop AU=BAYRAKTAR BEDIZ\n",
      "2791\n",
      "Error on loop AU=ERSOY MEHMET\n",
      "2792\n",
      "Error on loop AU=AVCI YASIN\n",
      "2793\n",
      "Error on loop AU=OZYURTKAN MEHMET\n",
      "2794\n",
      "Error on loop AU=DEGIRMENCI IRFAN\n",
      "2795\n",
      "Error on loop AU=BASTURK MEHMET\n",
      "2796\n",
      "Error on loop AU=DEMIROZU MEVLUT\n",
      "2797\n",
      "Error on loop AU=HOSCOSKUN MUSTAFA\n",
      "2798\n",
      "Error on loop AU=TARHAN DEVRIM\n",
      "2799\n",
      "Error on loop AU=CALISKAN ERKAN\n",
      "2800\n",
      "Error on loop AU=GARIPARDIC MESUT\n",
      "2801\n",
      "Error on loop AU=BASCIFTCI FARUK\n",
      "2802\n",
      "Error on loop AU=UCGUN IRFAN\n",
      "2803\n",
      "Error on loop AU=CELIK OMER\n",
      "2804\n",
      "Error on loop AU=KARACA HALIT\n",
      "2805\n",
      "Error on loop AU=KOCA BURCU\n",
      "2806\n",
      "Error on loop AU=AKBAS KASIM\n",
      "2807\n",
      "Error on loop AU=KAHVECI MURAT\n",
      "2808\n",
      "Error on loop AU=NAVRUZ MURAT\n",
      "2809\n",
      "Error on loop AU=OZBILGIN MEHMET\n",
      "2810\n",
      "Error on loop AU=KAHRAMAN MEHMET\n",
      "2811\n",
      "Error on loop AU=MUKUL IRFAN\n",
      "2812\n",
      "Error on loop AU=ABUL YASIN\n",
      "2813\n",
      "Error on loop AU=SARNEL HALDUN\n",
      "2814\n",
      "Error on loop AU=CICEK CUMA\n",
      "2815\n",
      "Error on loop AU=TELEF BULENT\n",
      "2816\n",
      "Error on loop AU=DEMIRASLAN HAYATI\n",
      "2817\n",
      "Error on loop AU=GOZEMIR ELIF\n",
      "2818\n",
      "Error on loop AU=INAL SALIH\n",
      "2819\n",
      "Error on loop AU=GULTEKIN AHMET\n",
      "2820\n",
      "Error on loop AU=ALBAYRAK OZLEM\n",
      "2821\n",
      "Error on loop AU=ERDOGAN UTKU\n",
      "2822\n",
      "Error on loop AU=BULUT MELEK\n",
      "2823\n",
      "Error on loop AU=PAZARLIOGLU MEHMET\n",
      "2824\n",
      "Error on loop AU=SENER MUSTAFA\n",
      "2825\n",
      "Error on loop AU=KAVAK SULEYMAN\n",
      "2826\n",
      "Error on loop AU=BAGCI CAHIT\n",
      "2827\n",
      "Error on loop AU=EROGLU MEHMET\n",
      "2828\n",
      "Error on loop AU=YILDIZ OSMAN\n",
      "2829\n",
      "Error on loop AU=TASDEMIR SENER\n",
      "2830\n",
      "Error on loop AU=YAZGAN OMER\n",
      "2831\n",
      "Error on loop AU=YESILYURT ETEM\n",
      "2832\n",
      "Error on loop AU=ARSLAN ALI\n",
      "2833\n",
      "Error on loop AU=DAVAS HEDIYE\n",
      "2834\n",
      "Error on loop AU=TAS UFUK\n",
      "2835\n",
      "Error on loop AU=VURAL OZKAN\n",
      "2836\n",
      "Error on loop AU=GURSES DIDEM\n",
      "2837\n",
      "Error on loop AU=COBAN ALI\n",
      "2838\n",
      "Error on loop AU=ARSLAN SUKRU\n",
      "2839\n",
      "Error on loop AU=BIYIK AHMET\n",
      "2840\n",
      "Error on loop AU=DOGAN ALI\n",
      "2841\n",
      "Error on loop AU=ERZURUMLUOGLU ALI\n",
      "2842\n",
      "Error on loop AU=BURUNGUZ MEHMET\n",
      "2843\n",
      "Error on loop AU=ATA RASIT\n",
      "2844\n",
      "Error on loop AU=ERGOREN HILMI\n",
      "2845\n",
      "Error on loop AU=GELINCIK IBRAHIM\n",
      "2846\n",
      "Error on loop AU=KILINC NILGUN\n",
      "2847\n",
      "Error on loop AU=YAVUZ SEYMA\n",
      "2848\n",
      "Error on loop AU=ARSLAN IBRAHIM\n",
      "2849\n",
      "Error on loop AU=ACAT MEHMET\n",
      "2850\n",
      "Error on loop AU=TOTUR UMIT\n",
      "2851\n",
      "Error on loop AU=DEVECI OZCAN\n",
      "2852\n",
      "Error on loop AU=ACAY AKIF\n",
      "2853\n",
      "Error on loop AU=ELEREN ALI\n",
      "2854\n",
      "Error on loop AU=TOPCU ERAL\n",
      "2855\n",
      "Error on loop AU=OZGELEN SINAN\n",
      "2856\n",
      "Error on loop AU=TEMIZOZ OSMAN\n",
      "2857\n",
      "Error on loop AU=DOGAN YUNUS\n",
      "2858\n",
      "Error on loop AU=BULUT YASEMIN\n",
      "2859\n",
      "Error on loop AU=UNAL DENIZ\n",
      "2860\n",
      "Error on loop AU=KARATAS ORHAN\n",
      "2861\n",
      "Error on loop AU=TOPAL HANIFE\n",
      "2862\n",
      "Error on loop AU=SARISAHIN TUGBA\n",
      "2863\n",
      "Error on loop AU=BOZKURT ELIFE\n",
      "2864\n",
      "Error on loop AU=KAYA LILUFER\n",
      "2865\n",
      "Error on loop AU=CEKICEL YESIM\n",
      "2866\n",
      "Error on loop AU=KARTAL ASLIHAN\n",
      "2867\n",
      "Error on loop AU=SIVRIKAYA FATIH\n",
      "2868\n",
      "Error on loop AU=ERGIN EMEL\n",
      "2869\n",
      "Error on loop AU=ERBOGA MUSTAFA\n",
      "2870\n",
      "Error on loop AU=AYAN MEHMET\n",
      "2871\n",
      "Error on loop AU=AYDIN OMER\n",
      "2872\n",
      "Error on loop AU=KARA MUSTAFA\n",
      "2873\n",
      "Error on loop AU=AVSAR UMMU\n",
      "2874\n",
      "Error on loop AU=GENC ERHAN\n",
      "2875\n",
      "Error on loop AU=MERTOGLU SERHAT\n",
      "2876\n",
      "Error on loop AU=YONEM AHMET\n",
      "2877\n",
      "Error on loop AU=SONMEZGOZ FITNET\n",
      "2878\n",
      "Error on loop AU=UMUCU YAKUP\n",
      "2879\n",
      "Error on loop AU=SAHIN HACI\n",
      "2880\n",
      "Error on loop AU=BAYRAKTAR ALEMDAR\n",
      "2881\n",
      "Error on loop AU=ULMAN BURAK\n",
      "2882\n",
      "Error on loop AU=ADIGUZEL UNAL\n",
      "2883\n",
      "Error on loop AU=BASER MUSTAFA\n",
      "2884\n",
      "Error on loop AU=UYGUN SELCUK\n",
      "2885\n",
      "Error on loop AU=KILICBEYLI ELIFE\n",
      "2886\n",
      "Error on loop AU=DUMAN SELAMI\n",
      "2887\n",
      "Error on loop AU=KIVRAK ALI\n",
      "2888\n",
      "Error on loop AU=CELIK IHSAN\n",
      "2889\n",
      "Error on loop AU=AYVAZ SULEYMAN\n",
      "2890\n",
      "Error on loop AU=UNLU ERHAN\n",
      "2891\n",
      "Error on loop AU=TURKELI MEHMET\n",
      "2892\n",
      "Error on loop AU=CEKIN ABDULKADIR\n",
      "2893\n",
      "Error on loop AU=ALPER YASEMIN\n",
      "2894\n",
      "Error on loop AU=BAL IHSAN\n",
      "2895\n",
      "Error on loop AU=SEYDI ALI\n",
      "2896\n",
      "Error on loop AU=CALIS HAKAN\n",
      "2897\n",
      "Error on loop AU=ELKOCA ERDAL\n",
      "2898\n",
      "Error on loop AU=AYPEK MAHMUT\n",
      "2899\n",
      "Error on loop AU=SISE SENGUL\n",
      "2900\n",
      "Error on loop AU=OZTURK ESRA\n",
      "2901\n",
      "Error on loop AU=BULUT NESLIHAN\n",
      "2902\n",
      "Error on loop AU=BAYINDIR NIDA\n",
      "2903\n",
      "Error on loop AU=EREN ISMAIL\n",
      "2904\n",
      "Error on loop AU=YILMAZ OMER\n",
      "2905\n",
      "Error on loop AU=IZGI BANU\n",
      "2906\n",
      "Error on loop AU=UNLU MEHMET\n",
      "2907\n",
      "Error on loop AU=OZKECECI GULAY\n",
      "2908\n",
      "Error on loop AU=OZOGLU MURAT\n",
      "2909\n",
      "Error on loop AU=UYSAL OMER\n",
      "2910\n",
      "Error on loop AU=AYDIN HAMDI\n",
      "2911\n",
      "Error on loop AU=YESILYURT MUSTAFA\n",
      "2912\n",
      "Error on loop AU=OKUYUCU ALI\n",
      "2913\n",
      "Error on loop AU=HAMIDI CIHAD\n",
      "2914\n",
      "Error on loop AU=BILICI SERBEST\n",
      "2915\n",
      "Error on loop AU=AYSU TEVFIK\n",
      "2916\n",
      "Error on loop AU=MINARECI EDIBE\n",
      "2917\n",
      "Error on loop AU=YILGOR AYSE\n",
      "2918\n",
      "Error on loop AU=EROL MEHMET\n",
      "2919\n",
      "Error on loop AU=KARA ADEM\n",
      "2920\n",
      "Error on loop AU=IZGI KENAN\n",
      "2921\n",
      "Error on loop AU=EREN ERDAL\n",
      "2922\n",
      "Error on loop AU=INANC MAHMUT\n",
      "2923\n",
      "Error on loop AU=SATIS IHSAN\n",
      "2924\n",
      "Error on loop AU=KURT DOGAN\n",
      "2925\n",
      "Error on loop AU=SOGUT TAHSIN\n",
      "2926\n",
      "Error on loop AU=KURUL NEJLA\n",
      "2927\n",
      "Error on loop AU=KURT BEYZA\n",
      "2928\n",
      "Error on loop AU=PAZARLIOGLU NURDAN\n",
      "2929\n",
      "Error on loop AU=SARI ZAFER\n",
      "2930\n",
      "Error on loop AU=GUNER OZKAN\n",
      "2931\n",
      "Error on loop AU=SERVI MUHAMMET\n",
      "2932\n",
      "Error on loop AU=SOZER MEHMET\n",
      "2933\n",
      "Error on loop AU=GUL ALI\n",
      "2934\n",
      "Error on loop AU=KORKMAZ OZGEN\n",
      "2935\n",
      "Error on loop AU=CELIK SALIH\n",
      "2936\n",
      "Error on loop AU=POS ABDULLAH\n",
      "2937\n",
      "Error on loop AU=SARIBOGA BAHTIYAR\n",
      "2938\n",
      "Error on loop AU=KARAMAN SAFA\n",
      "2939\n",
      "Error on loop AU=BAL TUFAN\n",
      "2940\n",
      "Error on loop AU=ASLAN YASIN\n",
      "2941\n",
      "Error on loop AU=KAYA HASAN\n",
      "2942\n",
      "Error on loop AU=UZGEL ILHAN\n",
      "2943\n",
      "Error on loop AU=KACIRE ILHAN\n",
      "2944\n",
      "Error on loop AU=DURNA TUNCAY\n",
      "2945\n",
      "Error on loop AU=ARSEL ISMAIL\n",
      "2946\n",
      "Error on loop AU=KABOGLU IBRAHIM\n",
      "2947\n",
      "Error on loop AU=BAKKAL HIDAYET\n",
      "2948\n",
      "Error on loop AU=ELCIN SERKAN\n",
      "2949\n",
      "Error on loop AU=BEKIR AHMET\n",
      "2950\n",
      "Error on loop AU=INCE BAYRAM\n",
      "2951\n",
      "Error on loop AU=UGURCU VELI\n",
      "2952\n",
      "Error on loop AU=SURUCU ERDEM\n",
      "2953\n",
      "Error on loop AU=AZERI SIYAVES\n",
      "2954\n",
      "Error on loop AU=KOK MEHMET\n",
      "2955\n",
      "Error on loop AU=ARSLAN MEHMET\n",
      "2956\n",
      "Error on loop AU=BINNETOGLU EMINE\n",
      "2957\n",
      "Error on loop AU=GUNOK EMRAH\n",
      "2958\n",
      "Error on loop AU=DEGERLIYURT MEHMET\n",
      "2959\n",
      "Error on loop AU=PERCINEL SIBEL\n",
      "2960\n",
      "Error on loop AU=DONMEZ SALIM\n",
      "2961\n",
      "Error on loop AU=YILDIRIM AHMET\n",
      "2962\n",
      "Error on loop AU=SONMEZ ABDULLAH\n",
      "2963\n",
      "Error on loop AU=CIMENCAN MURAT\n",
      "2964\n",
      "Error on loop AU=TURAN MUHAMMED\n",
      "2965\n",
      "Error on loop AU=KOC TAYLAN\n",
      "2966\n",
      "Error on loop AU=TARIM SEYDA\n",
      "2967\n",
      "Error on loop AU=ASLAN ADNAN\n",
      "2968\n",
      "Error on loop AU=OZOGUL BUNYAMI\n",
      "2969\n",
      "Error on loop AU=GULER IBRAHIM\n",
      "2970\n",
      "Error on loop AU=UGU ABDULHADI\n",
      "2971\n",
      "Error on loop AU=OZENOGLU ALIYE\n",
      "2972\n",
      "Error on loop AU=SEN MEHMET\n",
      "2973\n",
      "Error on loop AU=DOGAN ADNAN\n",
      "2974\n",
      "Error on loop AU=KIRIS ABDULKADIR\n",
      "2975\n",
      "Error on loop AU=MERCAN MEHMET\n",
      "2976\n",
      "Error on loop AU=BOZOGLAN ORHAN\n",
      "2977\n",
      "Error on loop AU=ICTEN BULENT\n",
      "2978\n",
      "Error on loop AU=HOWISON AYSE\n",
      "2979\n",
      "Error on loop AU=ATIK MURAT\n",
      "2980\n",
      "Error on loop AU=DEVECI METIN\n",
      "2981\n",
      "Error on loop AU=KAYA ASLI\n",
      "2982\n",
      "Error on loop AU=PASINLI AHMET\n",
      "2983\n",
      "Error on loop AU=DURNA TEZCAN\n",
      "2984\n",
      "Error on loop AU=TAS ELIF\n",
      "2985\n",
      "Error on loop AU=OZUGUZ PINAR\n",
      "2986\n",
      "Error on loop AU=BAYRAKTAR SERDAR\n",
      "2987\n",
      "Error on loop AU=SEVINDIK HAKAN\n",
      "2988\n",
      "Error on loop AU=OZ BULENT\n",
      "2989\n",
      "Error on loop AU=MERTCAN HAKAN\n",
      "2990\n",
      "Error on loop AU=IZMIRLI MUSTAFA\n",
      "2991\n",
      "Error on loop AU=KIZILKAN AYSE\n",
      "2992\n",
      "Error on loop AU=DEGIRMENCI HAKAN\n",
      "2993\n",
      "Error on loop AU=GOREGENLI MELEK\n",
      "2994\n",
      "Error on loop AU=OZKAN UMIT\n",
      "2995\n",
      "Error on loop AU=BORA ALI\n",
      "2996\n",
      "Error on loop AU=GUNER CANSEVER\n",
      "2997\n",
      "Error on loop AU=TANOR OGET\n",
      "2998\n",
      "Error on loop AU=KALA HASAN\n",
      "2999\n",
      "Error on loop AU=KILIC RECEP\n",
      "3000\n",
      "Error on loop AU=ISCAN MURAT\n",
      "3001\n",
      "Error on loop AU=BIRECIKLI IHSAN\n",
      "3002\n",
      "Error on loop AU=ZENCIR MEHMET\n",
      "3003\n",
      "Error on loop AU=SAHAN HALIL\n",
      "3004\n",
      "Error on loop AU=DUZGUN SUKRU\n",
      "3005\n",
      "Error on loop AU=YALINKILIC BARIS\n",
      "3006\n",
      "Error on loop AU=TEKBAS EBRU\n",
      "3007\n",
      "Error on loop AU=BIRDANE ALPARSLAN\n",
      "3008\n",
      "Error on loop AU=AKCABAY FEHMIYE\n",
      "3009\n",
      "Error on loop AU=TANIK FERIDE\n",
      "3010\n",
      "Error on loop AU=AYPAY AHMET\n",
      "3011\n",
      "Error on loop AU=CICEK HALIT\n",
      "3012\n",
      "Error on loop AU=ARI YILMAZ\n",
      "3013\n",
      "Error on loop AU=DEMIR CENGIZ\n",
      "3014\n",
      "Error on loop AU=OZGUN YASEMIN\n",
      "3015\n",
      "Error on loop AU=DIKBIYIK FERHAT\n",
      "3016\n",
      "Error on loop AU=UNAL HAMIYET\n",
      "3017\n",
      "Error on loop AU=MESE EMINE\n",
      "3018\n",
      "Error on loop AU=SERIN GOKHAN\n",
      "3019\n",
      "Error on loop AU=GUNES ALIME\n",
      "3020\n",
      "Error on loop AU=OZLU TULAY\n",
      "3021\n",
      "Error on loop AU=DEMIRCI FATIH\n",
      "3022\n",
      "Error on loop AU=AKAR ENGIN\n",
      "3023\n",
      "Error on loop AU=EMEKSIZ ZEYNEP\n",
      "3024\n",
      "Error on loop AU=SAHIN ABDURRAHMAN\n",
      "3025\n",
      "Error on loop AU=AYAC AHME\n",
      "3026\n",
      "Error on loop AU=KOYUNCU MURAT\n",
      "3027\n",
      "Error on loop AU=MUTLU FATIH\n",
      "3028\n",
      "Error on loop AU=OZSU SAVAS\n",
      "3029\n",
      "Error on loop AU=EREN IBRAHIM\n",
      "3030\n",
      "Error on loop AU=TOREN TOLGA\n",
      "3031\n",
      "Error on loop AU=ELDEMIR ABDURRAHIM\n",
      "3032\n",
      "Error on loop AU=ULESIN MAHMUT\n",
      "3033\n",
      "Error on loop AU=SEKER MERYAM\n",
      "3034\n",
      "Error on loop AU=KESKIN AHMET\n",
      "3035\n",
      "Error on loop AU=BALAKAN OZAN\n",
      "3036\n",
      "Error on loop AU=INAN HATICE\n",
      "3037\n",
      "Error on loop AU=OFLAZ HAKAN\n",
      "3038\n",
      "Error on loop AU=SEKIN SEFA\n",
      "3039\n",
      "Error on loop AU=EMEKSIZ MURAT\n",
      "3040\n",
      "Error on loop AU=CITIL RIDVAN\n",
      "3041\n",
      "Error on loop AU=GURSES MURSEL\n",
      "3042\n",
      "Error on loop AU=CENGIZ MUAMMER\n",
      "3043\n",
      "Error on loop AU=TEMUR TURAN\n",
      "3044\n",
      "Error on loop AU=TANTAY BAHADIR\n",
      "3045\n",
      "Error on loop AU=DURMAN MUSTAFA\n",
      "3046\n",
      "Error on loop AU=DOGAN ISMAIL\n",
      "3047\n",
      "Error on loop AU=ALACALI MEHMET\n",
      "3048\n",
      "Error on loop AU=KAYA FATIH\n",
      "3049\n",
      "Error on loop AU=OZKANLAR YUNUSEMRE\n",
      "3050\n",
      "Error on loop AU=UMUL AYSE\n",
      "3051\n",
      "Error on loop AU=TAK HASAN\n",
      "3052\n",
      "Error on loop AU=BALDEMIR ERCAN\n",
      "3053\n",
      "Error on loop AU=DAVUTOGLU MEHMET\n",
      "3054\n",
      "Error on loop AU=AKTAN AHMET\n",
      "3055\n",
      "Error on loop AU=GULSOY MEHMET\n",
      "3056\n",
      "Error on loop AU=AKCAKOCA HAMDI\n",
      "3057\n",
      "Error on loop AU=EKICI ERAN\n",
      "3058\n",
      "Error on loop AU=CELIK NUR\n",
      "3059\n",
      "Error on loop AU=OZDEMIR SENNUR\n",
      "3060\n",
      "Error on loop AU=YAVUZ ALI\n",
      "3061\n",
      "Error on loop AU=KARACA YASEMIN\n",
      "3062\n",
      "Error on loop AU=SAGIR YUSUF\n",
      "3063\n",
      "Error on loop AU=AKKURT ZEYNEP\n",
      "3064\n",
      "Error on loop AU=YAMAN FERHAN\n",
      "3065\n",
      "Error on loop AU=KIR MEHMET\n",
      "3066\n",
      "Error on loop AU=KUMRU MEHMET\n",
      "3067\n"
     ]
    },
    {
     "name": "stdout",
     "output_type": "stream",
     "text": [
      "Error on loop AU=ALMA SAIDE\n",
      "3068\n",
      "Error on loop AU=OZTAS RECEP\n",
      "3069\n",
      "Error on loop AU=BARKOT ZEYNEP\n",
      "3070\n",
      "Error on loop AU=ONAL LEVENT\n",
      "3071\n",
      "Error on loop AU=MERMER OMER\n",
      "3072\n",
      "Error on loop AU=ARPACI MUCAHIT\n",
      "3073\n",
      "Error on loop AU=SINEMILLIOGLU MUSTAFA\n",
      "3074\n",
      "Error on loop AU=KESKIN MESUT\n",
      "3075\n",
      "Error on loop AU=BEK MINE\n",
      "3076\n",
      "Error on loop AU=OZTURK OKTAY\n",
      "3077\n",
      "Error on loop AU=AKTURK LEVENT\n",
      "3078\n",
      "Error on loop AU=CAGLAYAN EMEL\n",
      "3079\n",
      "Error on loop AU=KARAGOZ MURAT\n",
      "3080\n",
      "Error on loop AU=BIYIKLI NECMI\n",
      "3081\n",
      "Error on loop AU=BALTACI CEMAL\n",
      "3082\n",
      "Error on loop AU=AKCAY MIGRAC\n",
      "3083\n",
      "Error on loop AU=KURT HANIFI\n",
      "3084\n",
      "Error on loop AU=TIGLI ASIYE\n",
      "3085\n",
      "Error on loop AU=MALKOC EMINE\n",
      "3086\n",
      "Error on loop AU=GOK MAIDE\n",
      "3087\n",
      "Error on loop AU=YILDIRIM TACETTIN\n",
      "3088\n",
      "Error on loop AU=ASLAN EMEL\n",
      "3089\n",
      "Error on loop AU=YUKSEL HATICE\n",
      "3090\n",
      "Error on loop AU=GENC ASIR\n",
      "3091\n",
      "Error on loop AU=ERTAN MUSTAFA\n",
      "3092\n",
      "Error on loop AU=METIN ISMAIL\n",
      "3093\n",
      "Error on loop AU=OZGUNER HALIL\n",
      "3094\n",
      "Error on loop AU=KOAN MESUT\n",
      "3095\n",
      "Error on loop AU=GOKCIMEN AHMET\n",
      "3096\n",
      "Error on loop AU=ONDUL NEZIHA\n",
      "3097\n",
      "Error on loop AU=AKSAKAL ERCUMENT\n",
      "3098\n",
      "Error on loop AU=AKMAN ENGIN\n",
      "3099\n",
      "Error on loop AU=YILMAZ KADIR\n",
      "3100\n",
      "Error on loop AU=KARA UGUR\n",
      "3101\n",
      "Error on loop AU=TURGUT YILMAZ\n",
      "3102\n",
      "Error on loop AU=TEKINAY AYSE\n",
      "3103\n",
      "Error on loop AU=KARATAS DURA\n",
      "3104\n",
      "Error on loop AU=MUTLU HASAN\n",
      "3105\n",
      "Error on loop AU=VEYSAL CETIN\n",
      "3106\n",
      "Error on loop AU=CEVIZ MEHMET\n",
      "3107\n",
      "Error on loop AU=GOKMEN FERHAT\n",
      "3108\n",
      "Error on loop AU=OZBAY FATIH\n",
      "3109\n",
      "Error on loop AU=KOC FATIH\n",
      "3110\n",
      "Error on loop AU=BENDES EMRE\n",
      "3111\n",
      "Error on loop AU=CINSDIKICI MUHAMMET\n",
      "3112\n",
      "Error on loop AU=TEKIN ALI\n",
      "3113\n",
      "Error on loop AU=BOREKCI ABDURREZZAK\n",
      "3114\n",
      "Error on loop AU=IMREK HUSEYIN\n",
      "3115\n",
      "Error on loop AU=KAYACIER AMED\n",
      "3116\n",
      "Error on loop AU=SENGUL AHMET\n",
      "3117\n",
      "Error on loop AU=DOGUC UFUK\n",
      "3118\n",
      "Error on loop AU=CINCIOGLU ASUMAN\n",
      "3119\n",
      "Error on loop AU=ATALAY YUSUF\n",
      "3120\n",
      "Error on loop AU=CENGIZ SULEYMAN\n",
      "3121\n",
      "Error on loop AU=TUNAY KAMIL\n",
      "3122\n",
      "Error on loop AU=SEBAN DEMET\n",
      "3123\n",
      "Error on loop AU=ERGUL SELIM\n",
      "3124\n",
      "Error on loop AU=HATIPOGLU NAMIK\n",
      "3125\n",
      "Error on loop AU=GUNGOR AHMET\n",
      "3126\n",
      "Error on loop AU=YILDIZ FATIH\n",
      "3127\n",
      "Error on loop AU=ARSLAN AKIF\n",
      "3128\n",
      "Error on loop AU=TAN ILHAN\n",
      "3129\n",
      "Error on loop AU=OZDAMAR MEHMET\n",
      "3130\n",
      "Error on loop AU=OZGOCMEN SALIH\n",
      "3131\n",
      "Error on loop AU=BAYRAKDAR HARUN\n",
      "3132\n",
      "Error on loop AU=AY YUSUF\n",
      "3133\n",
      "Error on loop AU=CAN HATICE\n",
      "3134\n",
      "Error on loop AU=CAMCI MERAL\n",
      "3135\n",
      "Error on loop AU=CEVIK TALIP\n",
      "3136\n",
      "Error on loop AU=TURKER MEHMET\n",
      "3137\n",
      "Error on loop AU=ARI ATEM\n",
      "3138\n",
      "Error on loop AU=SUVAK BURAK\n",
      "3139\n",
      "Error on loop AU=MUFTUOGLU OZGUR\n",
      "3140\n",
      "Error on loop AU=AKKOC NURULLAH\n",
      "3141\n",
      "Error on loop AU=BURUCU HUMEYRA\n",
      "3142\n",
      "Error on loop AU=SAHIN ALPARSLAN\n",
      "3143\n",
      "Error on loop AU=CAVDAR EMRE\n",
      "3144\n",
      "Error on loop AU=OLGAR SEREF\n",
      "3145\n",
      "Error on loop AU=OZBAYRAK MUSTAFA\n",
      "3146\n",
      "Error on loop AU=KALAY MUSTAFA\n",
      "3147\n",
      "Error on loop AU=CITIL BURAK\n",
      "3148\n",
      "Error on loop AU=KARABICAK ILHAN\n",
      "3149\n",
      "Error on loop AU=DURU METIN\n",
      "3150\n",
      "Error on loop AU=ATMACA NURGUL\n",
      "3151\n",
      "Error on loop AU=SAGDIK HACI\n",
      "3152\n",
      "Error on loop AU=ZENGIN HUSEYIN\n",
      "3153\n",
      "Error on loop AU=YILMAZ HAYRIYE\n",
      "3154\n",
      "Error on loop AU=UYSAL HUSEYIN\n",
      "3155\n",
      "Error on loop AU=YAZICI MUSTAFA\n",
      "3156\n",
      "Error on loop AU=ULKER OSMAN\n",
      "3157\n",
      "Error on loop AU=YALCINOGLU PELIN\n",
      "3158\n",
      "Error on loop AU=ASLAN BULENT\n",
      "3159\n",
      "Error on loop AU=ASAN AZIZ\n",
      "3160\n",
      "Error on loop AU=KARABUGA FERHAN\n",
      "3161\n",
      "Error on loop AU=TURAN SELAHATTIN\n",
      "3162\n",
      "Error on loop AU=KARAOGLU MEVLUT\n",
      "3163\n",
      "Error on loop AU=AYAN ARIF\n",
      "3164\n",
      "Error on loop AU=TASKIN YUKSEL\n",
      "3165\n",
      "Error on loop AU=GOKTEPE MEHMET\n",
      "3166\n",
      "Error on loop AU=OGUT ADEM\n",
      "3167\n",
      "Error on loop AU=SERVI MERAL\n",
      "3168\n",
      "Error on loop AU=ARSLAN BAHRIYE\n",
      "3169\n",
      "Error on loop AU=DOGAN ABDULLAH\n",
      "3170\n",
      "Error on loop AU=SOYUPEK YUSUF\n",
      "3171\n",
      "Error on loop AU=GUL UMIT\n",
      "3172\n",
      "Error on loop AU=AYNALI AYSE\n",
      "3173\n",
      "Error on loop AU=KARAKOYUN OZUR\n",
      "3174\n",
      "Error on loop AU=CELIK ROMEDI\n",
      "3175\n",
      "Error on loop AU=OZATAGAN GULDEM\n",
      "3176\n",
      "Error on loop AU=TUNCA AYSEL\n",
      "3177\n",
      "Error on loop AU=ERDOGAN CETIN\n",
      "3178\n",
      "Error on loop AU=ALPER KADIR\n",
      "3179\n",
      "Error on loop AU=SARIAYDIN MUZAFFER\n",
      "3180\n",
      "Error on loop AU=SEZER SEVGI\n",
      "3181\n",
      "Error on loop AU=ATAS CESIM\n",
      "3182\n",
      "Error on loop AU=GIZIROGLU EMRAH\n",
      "3183\n",
      "Error on loop AU=EROGLU HABIP\n",
      "3184\n",
      "Error on loop AU=ATACAN FULYA\n",
      "3185\n",
      "Error on loop AU=SARI OKTAY\n",
      "3186\n",
      "Error on loop AU=KIYAN TUBA\n",
      "3187\n",
      "Error on loop AU=ILI MEHMET\n",
      "3188\n",
      "Error on loop AU=BOZALI NURI\n",
      "3189\n",
      "Error on loop AU=CIG EYLEM\n",
      "3190\n",
      "Error on loop AU=ISIK MEMET\n",
      "3191\n",
      "Error on loop AU=OZKAN MUAMMED\n",
      "3192\n",
      "Error on loop AU=YILDIRIM FATIH\n",
      "3193\n",
      "Error on loop AU=AYHAN VEYSEL\n",
      "3194\n",
      "Error on loop AU=TABAN SAMI\n",
      "3195\n",
      "Error on loop AU=DENIZ ALI\n",
      "3196\n",
      "Error on loop AU=OKUR AYLIN\n",
      "3197\n",
      "Error on loop AU=OZDEMIR ASUR\n",
      "3198\n",
      "Error on loop AU=SAHIN CANAY\n",
      "3199\n",
      "Error on loop AU=ISIK ILKNUR\n",
      "3200\n",
      "Error on loop AU=KARADEMIR UMIT\n",
      "3201\n",
      "Error on loop AU=CELIK SEBAT\n",
      "3202\n",
      "Error on loop AU=SAVAS BILAL\n",
      "3203\n",
      "Error on loop AU=NART MARUF\n",
      "3204\n",
      "Error on loop AU=COLAK NUSRET\n",
      "3205\n",
      "Error on loop AU=KILICER FATMA\n",
      "3206\n",
      "Error on loop AU=UNAL LEYLA\n",
      "3207\n",
      "Error on loop AU=FINDIK HAKKI\n",
      "3208\n",
      "Error on loop AU=ARDIC IBRAHIM\n",
      "3209\n",
      "Error on loop AU=KELES IBRAHIM\n",
      "3210\n",
      "Error on loop AU=GUL MEHMET\n",
      "3211\n",
      "Error on loop AU=TURALIOGLU FATMA\n",
      "3212\n",
      "Error on loop AU=TILKI MUAMMER\n",
      "3213\n",
      "Error on loop AU=ALTUN HAKAN\n",
      "3214\n",
      "Error on loop AU=EFE ERKAN\n",
      "3215\n",
      "Error on loop AU=BOZ ERDOGAN\n",
      "3216\n",
      "Error on loop AU=GURKAN CIHAT\n",
      "3217\n",
      "Error on loop AU=RATHKE LEYLA\n",
      "3218\n",
      "Error on loop AU=YASAR YAHYA\n",
      "3219\n",
      "Error on loop AU=OZLU MEHMET\n",
      "3220\n",
      "Error on loop AU=BOYAR SERKAN\n",
      "3221\n",
      "Error on loop AU=ERDINC BAHATTIN\n",
      "3222\n",
      "Error on loop AU=BEKLER ADEM\n",
      "3223\n",
      "Error on loop AU=OZPINAR CELAL\n",
      "3224\n",
      "Error on loop AU=SEVEN MEHMET\n",
      "3225\n",
      "Error on loop AU=SENOL ALI\n",
      "3226\n",
      "Error on loop AU=AYATA YUNUS\n",
      "3227\n",
      "Error on loop AU=GISI ERDAL\n",
      "3228\n",
      "Error on loop AU=DAMAR MURAT\n",
      "3229\n",
      "Error on loop AU=TOZOGLU UMMUHAN\n",
      "3230\n",
      "Error on loop AU=BIRDAL FURKAN\n",
      "3231\n",
      "Error on loop AU=KOSE SEYIT\n",
      "3232\n",
      "Error on loop AU=OZPINAR GUL\n",
      "3233\n",
      "Error on loop AU=GUNGOR HASAN\n",
      "3234\n",
      "Error on loop AU=CAKIR LUTFULLAH\n",
      "3235\n",
      "Error on loop AU=DURMAZ YASAR\n",
      "3236\n",
      "Error on loop AU=MUTAF HASAN\n",
      "3237\n",
      "Error on loop AU=ULUSAL SEMSETTIN\n",
      "3238\n",
      "Error on loop AU=SEN SAFFET\n",
      "3239\n",
      "Error on loop AU=TOPUZ ILHAN\n",
      "3240\n",
      "Error on loop AU=ERMIS ISMAIL\n",
      "3241\n",
      "Error on loop AU=TALO OZER\n",
      "3242\n",
      "Error on loop AU=ERDIL ABDULLAH\n",
      "3243\n",
      "Error on loop AU=PILICER ERCAN\n",
      "3244\n",
      "Error on loop AU=CANTEKIN KENAN\n",
      "3245\n",
      "Error on loop AU=OZDAMAR GOKHAN\n",
      "3246\n",
      "Error on loop AU=UNLU RESAT\n",
      "3247\n",
      "Error on loop AU=OZBAY MURAT\n",
      "3248\n",
      "Error on loop AU=BEIGMOHAMMADI ELIF\n",
      "3249\n",
      "Error on loop AU=YAY OZAN\n",
      "3250\n",
      "Error on loop AU=ONCU SEMIRAL\n",
      "3251\n",
      "Error on loop AU=ISIK YASEMIN\n",
      "3252\n",
      "Error on loop AU=AYTAC TUFAN\n",
      "3253\n",
      "Error on loop AU=KILIC MEHMET\n",
      "3254\n",
      "Error on loop AU=ALTAN BANU\n",
      "3255\n",
      "Error on loop AU=TOZOGLU SINAN\n",
      "3256\n",
      "Error on loop AU=YAVUZ SELCUK\n",
      "3257\n",
      "Error on loop AU=BAYHAN ZULFU\n",
      "3258\n",
      "Error on loop AU=YESILDAL HATICE\n",
      "3259\n",
      "Error on loop AU=USTYOL LOKMAN\n",
      "3260\n",
      "Error on loop AU=AYHAN CEM\n",
      "3261\n",
      "Error on loop AU=EGERCIOGLU YAKUP\n",
      "3262\n",
      "Error on loop AU=CORDUK NERGUL\n",
      "3263\n",
      "Error on loop AU=SOFUOGLU YUSUF\n",
      "3264\n",
      "Error on loop AU=ETOZ ZELIHA\n",
      "3265\n",
      "Error on loop AU=BAYIR ERDAL\n",
      "3266\n",
      "Error on loop AU=ALICI SABIHA\n",
      "3267\n",
      "Error on loop AU=OZKAN SEBIHA\n",
      "3268\n",
      "Error on loop AU=KOCAK MUHAMMET\n",
      "3269\n",
      "Error on loop AU=KURBAN RIFAT\n",
      "3270\n",
      "Error on loop AU=UNIVERSITYER TURGAY\n",
      "3271\n",
      "Error on loop AU=KADERLI AYSEL\n",
      "3272\n",
      "Error on loop AU=KARA ERDAL\n",
      "3273\n",
      "Error on loop AU=UZKESER MUSTAFA\n",
      "3274\n",
      "Error on loop AU=CAKIR ISMAIL\n",
      "3275\n",
      "Error on loop AU=USTUNDAG HANDAN\n",
      "3276\n",
      "Error on loop AU=EKIZER ABDULLAH\n",
      "3277\n",
      "Error on loop AU=TEKATAS ASLAN\n",
      "3278\n",
      "Error on loop AU=YULAFCI AHMET\n",
      "3279\n",
      "Error on loop AU=TEKIN YASEMIN\n",
      "3280\n",
      "Error on loop AU=EKINCI AFRA\n",
      "3281\n",
      "Error on loop AU=COSKUN SALIH\n",
      "3282\n",
      "Error on loop AU=ORUC SERDAR\n",
      "3283\n",
      "Error on loop AU=BICER MUSTAFA\n",
      "3284\n",
      "Error on loop AU=CAKMAK ECIR\n",
      "3285\n",
      "Error on loop AU=CAN HUDAYI\n",
      "3286\n",
      "Error on loop AU=OZDEMIR FUNDA\n",
      "3287\n",
      "Error on loop AU=ASAN GUNES\n",
      "3288\n",
      "Error on loop AU=ATALAY CISE\n",
      "3289\n",
      "Error on loop AU=ACIKGOZ IRFAN\n",
      "3290\n",
      "Error on loop AU=OZBEK SEDA\n",
      "3291\n",
      "Error on loop AU=DEMIR GOKHAN\n",
      "3292\n",
      "Error on loop AU=DAGDAS AHMET\n",
      "3293\n",
      "Error on loop AU=TOMAN HUSEYIN\n",
      "3294\n",
      "Error on loop AU=TORAMAN CENGIZ\n",
      "3295\n",
      "Error on loop AU=ACAR UGUR\n",
      "3296\n",
      "Error on loop AU=COSKUN KEREM\n",
      "3297\n",
      "Error on loop AU=TASDELEN ISHAK\n",
      "3298\n",
      "Error on loop AU=CENGIZ ASIM\n",
      "3299\n",
      "Error on loop AU=COLAK ESRA\n",
      "3300\n",
      "Error on loop AU=CARSANCAKLI SULEYMAN\n",
      "3301\n",
      "Error on loop AU=YILMAZ HARUN\n",
      "3302\n",
      "Error on loop AU=TOKAT DENIZ\n",
      "3303\n",
      "Error on loop AU=EROGLU MEHMET\n",
      "3304\n",
      "Error on loop AU=CAKMAKLI SELIM\n",
      "3305\n",
      "Error on loop AU=CAN IBRAHIM\n",
      "3306\n",
      "Error on loop AU=GUNGOR AYSE\n",
      "3307\n",
      "Error on loop AU=KARS MELTEM\n",
      "3308\n",
      "Error on loop AU=UZGEL ELCIN\n",
      "3309\n",
      "Error on loop AU=DEMIREL SALIH\n",
      "3310\n",
      "Error on loop AU=ERDENER EDA\n",
      "3311\n",
      "Error on loop AU=KOKSAL MUHAMMET\n",
      "3312\n",
      "Error on loop AU=AKSOY ISMAIL\n",
      "3313\n",
      "Error on loop AU=KARAKIZ MEHMET\n",
      "3314\n",
      "Error on loop AU=GUNDUZ GURHAN\n",
      "3315\n",
      "Error on loop AU=KAHYA NIMET\n",
      "3316\n",
      "Error on loop AU=KULAHLI ISMAIL\n",
      "3317\n",
      "Error on loop AU=FEDAI OZLEM\n",
      "3318\n",
      "Error on loop AU=SARIYILDIZ MUSTAFA\n",
      "3319\n",
      "Error on loop AU=OZSOY SECKIN\n",
      "3320\n",
      "Error on loop AU=MAMAK MUSTAFA\n",
      "3321\n",
      "Error on loop AU=SAGLAM TULIN\n",
      "3322\n",
      "Error on loop AU=SARI NAGIHAN\n",
      "3323\n",
      "Error on loop AU=BAGCI OZKAN\n",
      "3324\n",
      "Error on loop AU=ATANAK MUSTAFA\n",
      "3325\n",
      "Error on loop AU=GENCER MERYEM\n",
      "3326\n",
      "Error on loop AU=DEMIREL MUSTAFA\n",
      "3327\n",
      "Error on loop AU=EROGLU EMRE\n",
      "3328\n",
      "Error on loop AU=CAN ALI\n",
      "3329\n",
      "Error on loop AU=YILDIRIM AYHAN\n",
      "3330\n",
      "Error on loop AU=BULBUL FERHAT\n",
      "3331\n",
      "Error on loop AU=PAKSU MUHAMMET\n",
      "3332\n",
      "Error on loop AU=KARAASLAN AHMET\n",
      "3333\n",
      "Error on loop AU=POLAT EFDAL\n",
      "3334\n",
      "Error on loop AU=TURNA MURAT\n",
      "3335\n",
      "Error on loop AU=YUCE IHSAN\n",
      "3336\n",
      "Error on loop AU=KAYA ILHAN\n",
      "3337\n",
      "Error on loop AU=AKDENIZ CELAL\n",
      "3338\n",
      "Error on loop AU=ERCELIK HASAN\n",
      "3339\n",
      "Error on loop AU=TASDELEN MEHMET\n",
      "3340\n",
      "Error on loop AU=ULKER HASAN\n",
      "3341\n",
      "Error on loop AU=SANCAKTUTAR AHMET\n",
      "3342\n",
      "Error on loop AU=TANIK SERHAT\n",
      "3343\n",
      "Error on loop AU=BAYAR LEVENT\n",
      "3344\n",
      "Error on loop AU=TAY TURGAY\n",
      "3345\n",
      "Error on loop AU=ALTAY SERPIL\n",
      "3346\n",
      "Error on loop AU=SAGIROGLU AYSE\n",
      "3347\n",
      "Error on loop AU=TURAN MEHMET\n",
      "3348\n",
      "Error on loop AU=TEKIN SATI\n",
      "3349\n",
      "Error on loop AU=BAYINDIR MEHMET\n",
      "3350\n",
      "Error on loop AU=OZEN SEVILAY\n",
      "3351\n",
      "Error on loop AU=ASMALI MEHMET\n",
      "3352\n",
      "Error on loop AU=AKCAN ESMA\n",
      "3353\n",
      "Error on loop AU=GUNDOGDU CEMAL\n",
      "3354\n",
      "Error on loop AU=CINAR KUBRA\n",
      "3355\n",
      "Error on loop AU=OZDINC FUAT\n",
      "3356\n",
      "Error on loop AU=KILIC AHMET\n",
      "3357\n",
      "Error on loop AU=KINSIZ MUSTAFA\n",
      "3358\n",
      "Error on loop AU=TUNA SERIF\n",
      "3359\n",
      "Error on loop AU=GURBUZ ALI\n",
      "3360\n",
      "Error on loop AU=VATANSEVER ASLI\n",
      "3361\n",
      "Error on loop AU=CICEK MUHAMMED\n",
      "3362\n",
      "Error on loop AU=BAY YALCIN\n",
      "3363\n",
      "Error on loop AU=DEMIRCI MUSTAFA\n",
      "3364\n",
      "Error on loop AU=KARA MURAT\n",
      "3365\n",
      "Error on loop AU=YILDIZ DERYA\n",
      "3366\n",
      "Error on loop AU=PALA AKIN\n",
      "3367\n",
      "Error on loop AU=YOREK NURETTIN\n",
      "3368\n",
      "Error on loop AU=ULU AYSE\n",
      "3369\n",
      "Error on loop AU=KARAKAYA NEJDET\n",
      "3370\n",
      "Error on loop AU=CETINKAYA CAGLAR\n",
      "3371\n",
      "Error on loop AU=KARA MUSTAFA\n",
      "3372\n",
      "Error on loop AU=DURU BULENT\n",
      "3373\n",
      "Error on loop AU=INAL ESRA\n",
      "3374\n",
      "Error on loop AU=SAGLAMBILEN OKAN\n",
      "3375\n",
      "Error on loop AU=YILDIZ BILAL\n",
      "3376\n",
      "Error on loop AU=ZENGINERLER ZEMINE\n",
      "3377\n",
      "Error on loop AU=TAPAN ILHAN\n",
      "3378\n",
      "Error on loop AU=BOYACI YASAR\n",
      "3379\n",
      "Error on loop AU=DEMIR FIKRI\n",
      "3380\n",
      "Error on loop AU=OZTURK ABDULKADIR\n",
      "3381\n",
      "Error on loop AU=EKIN ALI\n",
      "3382\n",
      "Error on loop AU=SEKERCI ALI\n",
      "3383\n",
      "Error on loop AU=SENEL UNAL\n",
      "3384\n",
      "Error on loop AU=ELIBUYUK HULYA\n",
      "3385\n",
      "Error on loop AU=GUMUS AZIZ\n",
      "3386\n",
      "Error on loop AU=ATASOY NAZMI\n",
      "3387\n",
      "Error on loop AU=KAVAS ERKAN\n",
      "3388\n",
      "Error on loop AU=BOZGIL SEDA\n",
      "3389\n",
      "Error on loop AU=CAN MUHLIS\n",
      "3390\n",
      "Error on loop AU=CORBACIOGLU SITKI\n",
      "3391\n",
      "Error on loop AU=MELEK MEHMET\n",
      "3392\n",
      "Error on loop AU=KARAHAN MURAT\n",
      "3393\n",
      "Error on loop AU=OZDEMIR FILIZ\n",
      "3394\n",
      "Error on loop AU=ALPKAYA AYSE\n",
      "3395\n",
      "Error on loop AU=CELIK MUSTAFA\n",
      "3396\n",
      "Error on loop AU=TOKER ZUHAL\n",
      "3397\n",
      "Error on loop AU=PACAL YUSUF\n",
      "3398\n",
      "Error on loop AU=KILICARSLAN RAMAZAN\n",
      "3399\n",
      "Error on loop AU=KAHRAMAN CUNEYT\n",
      "3400\n",
      "Error on loop AU=AKSAY KADIR\n",
      "3401\n",
      "Error on loop AU=SARAL HASAN\n",
      "3402\n",
      "Error on loop AU=HOCAOGLU EMRE\n",
      "3403\n",
      "Error on loop AU=ERES BENAN\n",
      "3404\n",
      "Error on loop AU=OZKUL KUBRA\n",
      "3405\n",
      "Error on loop AU=KILIT CELAL\n",
      "3406\n",
      "Error on loop AU=CILGI GULBANU\n",
      "3407\n",
      "Error on loop AU=HAYAT RUSTEM\n",
      "3408\n",
      "Error on loop AU=UNAL EMRAH\n",
      "3409\n",
      "Error on loop AU=EROL SELAHATTIN\n",
      "3410\n",
      "Error on loop AU=SOLMAZ VOLKAN\n",
      "3411\n",
      "Error on loop AU=TOKTAS CIHAN\n",
      "3412\n",
      "Error on loop AU=EKER HASAN\n",
      "3413\n",
      "Error on loop AU=SAHIN HAVANUR\n",
      "3414\n",
      "Error on loop AU=KOSE AHMET\n",
      "3415\n",
      "Error on loop AU=MERT VELI\n",
      "3416\n",
      "Error on loop AU=TEKPINAR MUSTAFA\n",
      "3417\n",
      "Error on loop AU=DIRLIKYAPAN JALE\n",
      "3418\n",
      "Error on loop AU=KOCAK DILEK\n",
      "3419\n",
      "Error on loop AU=CETINER MUAZZEZ\n",
      "3420\n",
      "Error on loop AU=COBAN AYKUT\n",
      "3421\n",
      "Error on loop AU=TURKAL MUSTAFA\n",
      "3422\n",
      "Error on loop AU=ERDEM ALI\n",
      "3423\n",
      "Error on loop AU=ERDOGAN MUZAFFER\n",
      "3424\n",
      "Error on loop AU=SEVILGEN SULEYMAN\n",
      "3425\n",
      "Error on loop AU=ALTIOK METIN\n",
      "3426\n",
      "Error on loop AU=ERSOZ MURAT\n",
      "3427\n",
      "Error on loop AU=AKIN MEHMET\n",
      "3428\n",
      "Error on loop AU=BULUT KENAN\n",
      "3429\n",
      "Error on loop AU=AYNALI GIRAY\n",
      "3430\n",
      "Error on loop AU=KAN KADIR\n",
      "3431\n",
      "Error on loop AU=GULUM YASEMIN\n",
      "3432\n",
      "Error on loop AU=AKKOC SONER\n",
      "3433\n",
      "Error on loop AU=TUNCEL SEDAT\n",
      "3434\n",
      "Error on loop AU=KARACA TURAN\n",
      "3435\n",
      "Error on loop AU=PEKER KADIR\n",
      "3436\n",
      "Error on loop AU=KIRIK IHSAN\n",
      "3437\n",
      "Error on loop AU=KAYHAN HUSEYIN\n",
      "3438\n",
      "Error on loop AU=GAZIOGLU GURKAN\n",
      "3439\n",
      "Error on loop AU=ERTEKIN AYFER\n",
      "3440\n",
      "Error on loop AU=OZTURK NURETTIN\n",
      "3441\n",
      "Error on loop AU=CEMEK MUSTAFA\n",
      "3442\n",
      "Error on loop AU=SUVARI CAKIR\n",
      "3443\n",
      "Error on loop AU=OCAL FATIH\n",
      "3444\n",
      "Error on loop AU=HAZIR MESUT\n",
      "3445\n",
      "Error on loop AU=COSKUN MUSTAFA\n",
      "3446\n",
      "Error on loop AU=AYDIN EKREM\n",
      "3447\n",
      "Error on loop AU=SAKIROGLU MUHAMMET\n",
      "3448\n",
      "Error on loop AU=CERKEZ IDRIS\n",
      "3449\n",
      "Error on loop AU=ASLAN YUCE\n",
      "3450\n",
      "Error on loop AU=INAN UMIT\n",
      "3451\n",
      "Error on loop AU=SAGLAM OMER\n",
      "3452\n",
      "Error on loop AU=TURKOGLU AZIZ\n",
      "3453\n",
      "Error on loop AU=COSAR EMINE\n",
      "3454\n",
      "Error on loop AU=KUTLAR GOKHAN\n",
      "3455\n",
      "Error on loop AU=HARMAN AZIZ\n",
      "3456\n",
      "Error on loop AU=TASER FIGEN\n",
      "3457\n",
      "Error on loop AU=KARA MEDINE\n",
      "3458\n",
      "Error on loop AU=KECE MURAT\n",
      "3459\n",
      "Error on loop AU=SEKER BILAL\n",
      "3460\n",
      "Error on loop AU=OVACI VAHAP\n",
      "3461\n",
      "Error on loop AU=TEKBAS GUVEN\n",
      "3462\n",
      "Error on loop AU=ERAKKUS OZGUR\n",
      "3463\n",
      "Error on loop AU=YAKUT TAHSIN\n",
      "3464\n",
      "Error on loop AU=ASILTURK ILHAN\n",
      "3465\n",
      "Error on loop AU=CELIK SAIT\n",
      "3466\n",
      "Error on loop AU=KIZIL SULEYMAN\n",
      "3467\n",
      "Error on loop AU=AYDIN YENER\n",
      "3468\n",
      "Error on loop AU=UGURLU YAVUZ\n",
      "3469\n",
      "Error on loop AU=CAMCI UGUR\n",
      "3470\n",
      "Error on loop AU=ERTEKIN ALAATTIN\n",
      "3471\n",
      "Error on loop AU=AKSOY ABDULLAH\n",
      "3472\n",
      "Error on loop AU=KARAASLAN MEHMET\n",
      "3473\n",
      "Error on loop AU=KAYAALTI ZELIHA\n",
      "3474\n",
      "Error on loop AU=SOYUCOK ETEM\n",
      "3475\n",
      "Error on loop AU=AYDIN SINAN\n",
      "3476\n",
      "Error on loop AU=KIZIL MURAT\n",
      "3477\n",
      "Error on loop AU=METIN ERHAN\n",
      "3478\n",
      "Error on loop AU=YILMAZ BINNAZ\n",
      "3479\n",
      "Error on loop AU=BILGE SEMIH\n",
      "3480\n",
      "Error on loop AU=BASLAR KEMAL\n",
      "3481\n",
      "Error on loop AU=AYSEV AHMET\n",
      "3482\n",
      "Error on loop AU=GUZEY ZAFER\n",
      "3483\n",
      "Error on loop AU=AKCI ONDER\n",
      "3484\n",
      "Error on loop AU=UYAR FIKRET\n",
      "3485\n",
      "Error on loop AU=COSAR MURAT\n",
      "3486\n",
      "Error on loop AU=YILDIZHAN HASAN\n",
      "3487\n",
      "Error on loop AU=HEKIM HAKAN\n",
      "3488\n",
      "Error on loop AU=KIRKBOGA KADIR\n",
      "3489\n",
      "Error on loop AU=KUCUKKIRCA ICLAL\n",
      "3490\n",
      "Error on loop AU=COMAK EMRE\n",
      "3491\n",
      "Error on loop AU=KAYIK MUSTAFA\n",
      "3492\n",
      "Error on loop AU=ORTANCA MURAT\n",
      "3493\n",
      "Error on loop AU=GURSES HANDE\n",
      "3494\n",
      "Error on loop AU=DURUCU CENGIZ\n",
      "3495\n",
      "Error on loop AU=SOLAK ILHAMI\n",
      "3496\n",
      "Error on loop AU=BOZOGLAN HILAL\n",
      "3497\n",
      "Error on loop AU=GENCHELLAC HAKAN\n",
      "3498\n",
      "Error on loop AU=ATALAY SULE\n",
      "3499\n",
      "Error on loop AU=AKSOY HULYA\n",
      "3500\n",
      "Error on loop AU=OZDEN MUSTAFA\n",
      "3501\n",
      "Error on loop AU=UGUR AHMET\n",
      "3502\n",
      "Error on loop AU=SEKER YASAR\n",
      "3503\n",
      "Error on loop AU=TUFAN MURSIT\n",
      "3504\n",
      "Error on loop AU=DOGANAY ULKU\n",
      "3505\n",
      "Error on loop AU=KARAKOC EMINE\n",
      "3506\n",
      "Error on loop AU=BASTERZI AYSE\n",
      "3507\n",
      "Error on loop AU=KANAY ZEKI\n",
      "3508\n",
      "Error on loop AU=AYDINKAYA ILKER\n",
      "3509\n",
      "Error on loop AU=TURKCU FATIH\n",
      "3510\n",
      "Error on loop AU=COSKUN MENDERES\n",
      "3511\n",
      "Error on loop AU=DEMIR YUSUF\n",
      "3512\n",
      "Error on loop AU=MUSTA MUSTAFA\n",
      "3513\n",
      "Error on loop AU=UCAR AHMET\n",
      "3514\n",
      "Error on loop AU=TOKMAK SELIM\n",
      "3515\n",
      "Error on loop AU=DINCER FURKAN\n",
      "3516\n",
      "Error on loop AU=KIREMITCI ABDURRAHMAN\n",
      "3517\n",
      "Error on loop AU=KOCAEREN AYSEL\n",
      "3518\n",
      "Error on loop AU=YAR FATIH\n",
      "3519\n",
      "Error on loop AU=CEYLAN IDIL\n",
      "3520\n",
      "Error on loop AU=DEMIRBOGA HAKAN\n",
      "3521\n",
      "Error on loop AU=TETIKOGLU MEHMET\n",
      "3522\n",
      "Error on loop AU=LAMAN MUSTAFA\n",
      "3523\n",
      "Error on loop AU=BAL ALI\n",
      "3524\n",
      "Error on loop AU=KAHVECI KUCUK\n",
      "3525\n",
      "Error on loop AU=KADERLI BERKANT\n",
      "3526\n",
      "Error on loop AU=AYDIN MUHAMMED\n",
      "3527\n",
      "Error on loop AU=CELIK YAHYA\n",
      "3528\n",
      "Error on loop AU=ARASAN SERACETTIN\n",
      "3529\n",
      "Error on loop AU=KARAATLI OLCAY\n",
      "3530\n",
      "Error on loop AU=SEVINC TAHIR\n",
      "3531\n",
      "Error on loop AU=BISKIN SULTAN\n",
      "3532\n",
      "Error on loop AU=KARACELIL SULEYMAN\n",
      "3533\n",
      "Error on loop AU=KIDIR MEHMET\n",
      "3534\n",
      "Error on loop AU=ZIYPAK TEVFIK\n",
      "3535\n",
      "Error on loop AU=ERDEM ALI\n",
      "3536\n",
      "Error on loop AU=TURKKAHRAMAN MIMAR\n",
      "3537\n",
      "Error on loop AU=KAPLAN YAVUZ\n",
      "3538\n",
      "Error on loop AU=HATTATOGLU ZEYNEP\n",
      "3539\n",
      "Error on loop AU=BOYLU SUKRU\n",
      "3540\n",
      "Error on loop AU=BAKIR ESENGUL\n",
      "3541\n",
      "Error on loop AU=MOHAMMAD RASHID\n",
      "3542\n",
      "Error on loop AU=KARA SELCUK\n",
      "3543\n",
      "Error on loop AU=DEMIR GOZDE\n",
      "3544\n",
      "Error on loop AU=CELIKOGLU MEVLUT\n",
      "3545\n",
      "Error on loop AU=KILAVUZ MEHMET\n",
      "3546\n",
      "Error on loop AU=YUCEL MEHMET\n",
      "3547\n",
      "Error on loop AU=OKUTAN BETUL\n",
      "3548\n",
      "Error on loop AU=TEKKOYUN MEHMET\n",
      "3549\n",
      "Error on loop AU=ERKAN ERSIN\n",
      "3550\n",
      "Error on loop AU=OTURANC GALIP\n",
      "3551\n",
      "Error on loop AU=YILDIZ MUHARREM\n",
      "3552\n",
      "Error on loop AU=GUL ZEHRA\n",
      "3553\n",
      "Error on loop AU=OZCAN ERDEM\n",
      "3554\n",
      "Error on loop AU=YUCEL YUSUF\n",
      "3555\n",
      "Error on loop AU=BICICI HUR\n",
      "3556\n",
      "Error on loop AU=OZER AHMET\n",
      "3557\n",
      "Error on loop AU=TURAN MEHMET\n",
      "3558\n",
      "Error on loop AU=SEVI LEVENT\n",
      "3559\n",
      "Error on loop AU=AKTAS SERDAR\n",
      "3560\n",
      "Error on loop AU=SANDIR HAKAN\n",
      "3561\n",
      "Error on loop AU=GULER EKREM\n",
      "3562\n",
      "Error on loop AU=DUMAN SELAMI\n",
      "3563\n",
      "Error on loop AU=BATAR TURAN\n",
      "3564\n",
      "Error on loop AU=KAHRAMAN MUHAMMET\n",
      "3565\n",
      "Error on loop AU=TEMIZTURK FATIH\n",
      "3566\n",
      "Error on loop AU=ACAR ISMAIL\n",
      "3567\n",
      "Error on loop AU=TOPARLI MUSTAFA\n",
      "3568\n",
      "Error on loop AU=SEZGIN AYSE\n",
      "3569\n",
      "Error on loop AU=ASIK BIRAY\n",
      "3570\n",
      "Error on loop AU=ONAL IBRAHIM\n",
      "3571\n",
      "Error on loop AU=METINEREN HASAN\n",
      "3572\n",
      "Error on loop AU=BAYHAN SEDEN\n",
      "3573\n",
      "Error on loop AU=USLU YASAR\n",
      "3574\n",
      "Error on loop AU=KARAKUS YASIN\n"
     ]
    }
   ],
   "source": [
    "dismissed_dataset = pd.DataFrame()\n",
    "for i in range(len(df)):\n",
    "    try:\n",
    "        print(i)\n",
    "        if i == 2400: # WOS constraints that each ID can only search for 2500 times. Just set smaller counts to renew the ID.\n",
    "            soap = WosClient(user= 'SWISS10_reproj', password= 'Welcome#10 ', lite=False)\n",
    "            soap.connect()\n",
    "        QueryString = searchnames_dismiss_auths_query[i]\n",
    "        results = pub_of_author(QueryString)\n",
    "        time.sleep(0.5)\n",
    "        Soup = BeautifulSoup(results.records,'lxml')\n",
    "        dataset = construct_dataset(Soup,searchnames_dismiss_auths[i])\n",
    "        dismissed_dataset=dismissed_dataset.append(dataset,ignore_index=True)\n",
    "        #auth = auth.append(authors,ignore_index=True)\n",
    "    except:\n",
    "        print('Error on loop',QueryString)"
   ]
  },
  {
   "cell_type": "code",
   "execution_count": 17,
   "metadata": {},
   "outputs": [
    {
     "name": "stdout",
     "output_type": "stream",
     "text": [
      "Authenticated (SID: D54UI7TwcdIGj8QAVzW)\n",
      "0\n",
      "Authenticated (SID: D5HaqIGeC9SrPLWj2ZN)\n",
      "1\n",
      "2\n",
      "3\n",
      "4\n",
      "5\n",
      "6\n",
      "7\n",
      "8\n",
      "9\n",
      "10\n",
      "11\n",
      "ERROR ON AUT AU= 'PARMAKSIZ ISKENDER'\n",
      "12\n",
      "13\n",
      "14\n",
      "15\n",
      "16\n",
      "17\n",
      "18\n",
      "19\n",
      "20\n",
      "21\n",
      "22\n",
      "23\n",
      "24\n",
      "25\n",
      "ERROR ON AUT AU='ELLIS L. T.'\n",
      "26\n",
      "27\n",
      "28\n",
      "29\n",
      "30\n",
      "31\n",
      "32\n",
      "33\n",
      "34\n",
      "35\n",
      "36\n",
      "37\n",
      "38\n",
      "39\n",
      "40\n",
      "41\n",
      "42\n",
      "43\n",
      "ERROR ON AUT AU='AKGUL MEHMET'\n",
      "44\n",
      "45\n",
      "46\n",
      "47\n",
      "48\n",
      "49\n",
      "50\n",
      "51\n",
      "52\n",
      "53\n",
      "54\n",
      "55\n",
      "56\n",
      "57\n",
      "58\n",
      "59\n",
      "60\n",
      "61\n",
      "62\n",
      "63\n",
      "64\n",
      "65\n",
      "66\n",
      "67\n",
      "68\n",
      "69\n",
      "70\n",
      "71\n",
      "72\n",
      "73\n",
      "74\n",
      "75\n",
      "76\n",
      "77\n",
      "78\n",
      "79\n",
      "80\n",
      "81\n",
      "82\n",
      "83\n",
      "84\n",
      "85\n",
      "86\n",
      "87\n",
      "88\n",
      "89\n",
      "90\n",
      "91\n",
      "92\n",
      "93\n",
      "94\n",
      "95\n",
      "96\n",
      "97\n",
      "98\n",
      "99\n",
      "100\n",
      "101\n",
      "102\n",
      "103\n",
      "104\n",
      "105\n",
      "106\n",
      "107\n",
      "108\n",
      "ERROR ON AUT AU= 'YILDIZ ABDULLAH'\n",
      "109\n",
      "110\n",
      "111\n",
      "112\n",
      "113\n",
      "114\n",
      "115\n",
      "116\n",
      "117\n",
      "118\n",
      "119\n",
      "120\n",
      "121\n",
      "122\n",
      "123\n",
      "124\n",
      "125\n",
      "126\n",
      "127\n",
      "128\n",
      "129\n",
      "130\n",
      "131\n",
      "132\n",
      "133\n",
      "134\n",
      "135\n",
      "136\n",
      "137\n",
      "138\n",
      "139\n",
      "140\n",
      "141\n",
      "142\n",
      "143\n",
      "144\n",
      "145\n",
      "146\n",
      "147\n",
      "148\n",
      "149\n",
      "150\n",
      "151\n",
      "152\n",
      "153\n",
      "154\n",
      "155\n",
      "156\n",
      "157\n",
      "158\n",
      "159\n",
      "ERROR ON AUT AU='USTAALIOGLU BALA BASAK OVEN'\n",
      "160\n",
      "161\n",
      "162\n",
      "163\n",
      "164\n",
      "165\n",
      "166\n",
      "167\n",
      "168\n",
      "169\n",
      "170\n",
      "171\n",
      "172\n",
      "173\n",
      "174\n",
      "175\n",
      "176\n",
      "177\n",
      "178\n",
      "179\n",
      "180\n",
      "181\n",
      "182\n",
      "183\n",
      "184\n",
      "185\n",
      "186\n",
      "187\n",
      "188\n",
      "189\n",
      "190\n",
      "191\n",
      "192\n",
      "193\n",
      "194\n",
      "195\n",
      "196\n",
      "197\n",
      "198\n",
      "199\n",
      "200\n",
      "201\n",
      "202\n",
      "203\n",
      "204\n",
      "205\n",
      "206\n",
      "207\n",
      "208\n",
      "209\n",
      "210\n",
      "211\n",
      "212\n",
      "213\n",
      "214\n",
      "215\n",
      "216\n",
      "217\n",
      "218\n",
      "219\n",
      "220\n",
      "221\n",
      "222\n",
      "223\n",
      "224\n",
      "225\n",
      "226\n",
      "227\n",
      "228\n",
      "229\n",
      "230\n",
      "231\n",
      "232\n",
      "233\n",
      "234\n",
      "235\n",
      "236\n",
      "237\n",
      "238\n",
      "239\n",
      "240\n",
      "241\n",
      "242\n",
      "243\n",
      "244\n",
      "245\n",
      "246\n",
      "247\n",
      "248\n",
      "249\n",
      "250\n",
      "251\n",
      "252\n",
      "253\n",
      "254\n",
      "255\n",
      "256\n",
      "257\n",
      "258\n",
      "259\n",
      "260\n",
      "261\n",
      "262\n",
      "263\n",
      "264\n",
      "265\n",
      "266\n",
      "267\n",
      "268\n",
      "269\n",
      "270\n",
      "271\n",
      "272\n",
      "273\n",
      "274\n",
      "275\n",
      "276\n",
      "277\n",
      "278\n",
      "279\n",
      "280\n",
      "281\n",
      "282\n",
      "283\n",
      "284\n",
      "285\n",
      "286\n",
      "287\n",
      "288\n",
      "289\n",
      "290\n",
      "291\n",
      "292\n",
      "293\n",
      "294\n",
      "295\n",
      "296\n",
      "297\n",
      "298\n",
      "299\n",
      "300\n",
      "301\n",
      "302\n",
      "303\n",
      "304\n",
      "305\n",
      "306\n",
      "307\n",
      "308\n",
      "309\n",
      "310\n",
      "311\n",
      "312\n",
      "313\n",
      "314\n",
      "315\n",
      "316\n",
      "317\n",
      "318\n",
      "319\n",
      "320\n",
      "321\n",
      "322\n",
      "323\n",
      "324\n",
      "325\n",
      "326\n",
      "327\n",
      "328\n",
      "329\n",
      "330\n",
      "331\n",
      "332\n",
      "333\n",
      "334\n",
      "335\n",
      "336\n",
      "337\n",
      "338\n",
      "339\n",
      "340\n",
      "341\n",
      "342\n",
      "343\n",
      "344\n",
      "345\n",
      "346\n",
      "347\n",
      "348\n",
      "349\n",
      "350\n",
      "351\n",
      "352\n",
      "353\n",
      "354\n",
      "355\n",
      "356\n",
      "357\n",
      "358\n",
      "359\n",
      "360\n",
      "361\n",
      "362\n",
      "363\n",
      "364\n",
      "365\n",
      "366\n",
      "367\n",
      "368\n",
      "369\n",
      "370\n",
      "371\n",
      "372\n",
      "373\n",
      "374\n",
      "375\n",
      "376\n",
      "377\n",
      "378\n",
      "379\n",
      "380\n",
      "381\n",
      "382\n",
      "383\n",
      "384\n",
      "385\n",
      "386\n",
      "387\n",
      "388\n",
      "389\n",
      "390\n",
      "391\n",
      "392\n",
      "ERROR ON AUT AU='DOGAN HASAN'\n",
      "393\n",
      "394\n",
      "395\n",
      "396\n",
      "397\n",
      "398\n",
      "399\n",
      "400\n",
      "401\n",
      "402\n",
      "403\n",
      "404\n",
      "405\n",
      "406\n",
      "407\n",
      "408\n",
      "409\n",
      "410\n",
      "411\n",
      "412\n",
      "413\n",
      "414\n",
      "415\n",
      "ERROR ON AUT AU='TAGLIALATELA-SCAFATI ORAZIO'\n",
      "416\n",
      "417\n",
      "418\n",
      "419\n",
      "420\n",
      "421\n",
      "422\n",
      "423\n",
      "424\n",
      "425\n",
      "426\n",
      "427\n",
      "428\n",
      "429\n",
      "430\n",
      "431\n",
      "432\n",
      "433\n",
      "434\n",
      "435\n",
      "436\n",
      "437\n",
      "ERROR ON AUT AU= 'ARMUTCU FERAH'\n",
      "438\n",
      "439\n",
      "440\n",
      "441\n",
      "442\n",
      "443\n",
      "444\n",
      "445\n",
      "446\n",
      "447\n",
      "448\n",
      "449\n",
      "450\n",
      "451\n",
      "452\n",
      "453\n",
      "454\n",
      "455\n",
      "456\n",
      "457\n",
      "458\n",
      "459\n",
      "460\n",
      "461\n",
      "462\n",
      "463\n",
      "464\n",
      "465\n",
      "466\n",
      "467\n",
      "468\n",
      "469\n",
      "470\n",
      "471\n",
      "472\n",
      "473\n",
      "474\n",
      "475\n",
      "476\n",
      "477\n",
      "478\n",
      "479\n",
      "480\n",
      "481\n",
      "482\n",
      "483\n",
      "484\n",
      "485\n",
      "486\n",
      "487\n",
      "488\n",
      "489\n",
      "490\n",
      "491\n",
      "492\n",
      "493\n",
      "494\n",
      "495\n",
      "496\n",
      "497\n",
      "498\n",
      "499\n",
      "500\n",
      "501\n",
      "502\n",
      "503\n",
      "504\n",
      "505\n",
      "506\n",
      "507\n",
      "508\n",
      "509\n",
      "ERROR ON AUT AU= 'TAMAM CUNEYT'\n",
      "510\n",
      "511\n",
      "512\n",
      "513\n",
      "514\n",
      "515\n",
      "516\n",
      "517\n",
      "518\n",
      "519\n",
      "520\n",
      "521\n",
      "522\n",
      "523\n",
      "524\n",
      "525\n",
      "526\n",
      "527\n",
      "528\n",
      "529\n",
      "530\n",
      "531\n",
      "532\n",
      "533\n",
      "534\n",
      "535\n",
      "536\n",
      "537\n",
      "538\n",
      "539\n",
      "540\n",
      "541\n",
      "542\n",
      "543\n",
      "544\n",
      "ERROR ON AUT AU= 'KIM HK'\n",
      "545\n",
      "546\n",
      "547\n",
      "548\n",
      "549\n",
      "550\n",
      "551\n",
      "552\n",
      "553\n",
      "ERROR ON AUT AU= 'USTABASIOGLU FETHI EMRE'\n",
      "554\n",
      "555\n",
      "556\n",
      "557\n",
      "558\n",
      "559\n",
      "560\n",
      "561\n",
      "562\n",
      "563\n",
      "564\n",
      "565\n",
      "566\n",
      "567\n",
      "ERROR ON AUT AU= 'ASLAN TURAN'\n",
      "568\n",
      "569\n",
      "570\n",
      "571\n",
      "572\n",
      "573\n",
      "574\n",
      "575\n",
      "576\n",
      "577\n",
      "578\n",
      "579\n",
      "580\n",
      "581\n",
      "582\n",
      "583\n",
      "584\n",
      "585\n",
      "586\n",
      "587\n",
      "588\n",
      "589\n",
      "590\n",
      "591\n",
      "592\n",
      "593\n",
      "594\n",
      "595\n",
      "596\n",
      "ERROR ON AUT AU= 'CELIK ORCUN'\n",
      "597\n",
      "598\n",
      "599\n",
      "600\n",
      "601\n",
      "602\n",
      "603\n",
      "604\n",
      "605\n",
      "606\n",
      "607\n",
      "608\n",
      "609\n",
      "610\n",
      "611\n",
      "612\n",
      "613\n",
      "614\n",
      "615\n",
      "616\n",
      "617\n",
      "618\n",
      "619\n",
      "620\n",
      "621\n",
      "622\n",
      "623\n",
      "624\n",
      "625\n",
      "626\n",
      "627\n",
      "628\n",
      "629\n",
      "630\n",
      "631\n",
      "632\n",
      "633\n",
      "634\n",
      "635\n",
      "636\n",
      "637\n",
      "638\n",
      "639\n",
      "640\n",
      "641\n",
      "642\n",
      "643\n",
      "644\n",
      "645\n",
      "646\n",
      "647\n",
      "648\n",
      "649\n",
      "650\n",
      "651\n",
      "652\n",
      "653\n",
      "654\n",
      "655\n",
      "656\n",
      "657\n",
      "658\n",
      "659\n",
      "660\n",
      "661\n",
      "ERROR ON AUT AU='YUKSEL NILAY'\n",
      "662\n",
      "663\n",
      "664\n",
      "665\n",
      "666\n",
      "667\n",
      "668\n",
      "669\n",
      "670\n",
      "671\n",
      "672\n",
      "673\n",
      "674\n",
      "ERROR ON AUT AU= 'OZBEK MEHMET'\n",
      "675\n",
      "676\n",
      "677\n",
      "678\n",
      "679\n",
      "680\n",
      "681\n",
      "682\n",
      "683\n",
      "684\n",
      "685\n",
      "686\n",
      "687\n",
      "688\n",
      "689\n",
      "690\n",
      "691\n",
      "692\n",
      "693\n",
      "694\n",
      "695\n",
      "696\n",
      "697\n",
      "698\n",
      "699\n",
      "700\n",
      "701\n",
      "702\n",
      "703\n",
      "704\n",
      "705\n",
      "706\n",
      "707\n",
      "708\n",
      "709\n",
      "710\n",
      "711\n",
      "712\n",
      "713\n",
      "714\n",
      "715\n",
      "716\n",
      "717\n",
      "718\n",
      "719\n",
      "720\n",
      "721\n",
      "722\n",
      "723\n",
      "724\n",
      "725\n",
      "726\n",
      "727\n",
      "728\n",
      "729\n",
      "730\n",
      "731\n",
      "732\n",
      "733\n",
      "734\n",
      "735\n",
      "736\n",
      "737\n",
      "738\n",
      "739\n",
      "740\n",
      "741\n",
      "742\n",
      "743\n",
      "744\n",
      "745\n",
      "746\n",
      "747\n",
      "748\n",
      "749\n",
      "750\n",
      "751\n",
      "752\n",
      "753\n",
      "754\n",
      "755\n",
      "756\n",
      "757\n",
      "758\n",
      "759\n",
      "760\n",
      "761\n",
      "762\n",
      "763\n",
      "764\n",
      "ERROR ON AUT AU= 'KIKUCHI H'\n",
      "765\n",
      "766\n",
      "767\n",
      "768\n",
      "769\n",
      "770\n",
      "771\n",
      "772\n",
      "773\n",
      "774\n",
      "775\n",
      "776\n",
      "777\n",
      "778\n",
      "779\n",
      "780\n",
      "781\n",
      "782\n",
      "783\n",
      "784\n",
      "785\n",
      "786\n",
      "787\n",
      "788\n",
      "ERROR ON AUT AU= 'HIZLI SAMIL'\n",
      "789\n",
      "790\n",
      "791\n",
      "792\n",
      "793\n",
      "794\n",
      "795\n",
      "796\n",
      "797\n",
      "798\n",
      "799\n",
      "800\n",
      "801\n",
      "802\n",
      "803\n",
      "804\n",
      "805\n",
      "806\n",
      "807\n",
      "808\n",
      "809\n",
      "810\n",
      "811\n",
      "812\n",
      "813\n",
      "814\n",
      "815\n",
      "816\n",
      "ERROR ON AUT AU= 'CEYLAN BAHADIR'\n",
      "817\n",
      "818\n",
      "819\n",
      "820\n",
      "821\n",
      "822\n",
      "823\n",
      "824\n",
      "825\n",
      "826\n",
      "827\n",
      "828\n",
      "829\n",
      "830\n",
      "831\n",
      "832\n",
      "833\n",
      "834\n",
      "835\n",
      "836\n",
      "837\n",
      "838\n",
      "839\n",
      "840\n",
      "841\n",
      "842\n",
      "843\n",
      "844\n",
      "845\n",
      "846\n",
      "847\n",
      "848\n",
      "849\n",
      "850\n",
      "851\n",
      "852\n",
      "853\n",
      "854\n",
      "855\n",
      "856\n",
      "857\n",
      "858\n",
      "859\n",
      "860\n",
      "861\n",
      "862\n",
      "863\n",
      "864\n",
      "865\n",
      "866\n",
      "867\n",
      "868\n",
      "869\n",
      "870\n",
      "871\n",
      "872\n",
      "873\n",
      "874\n",
      "875\n",
      "876\n",
      "877\n",
      "878\n",
      "879\n",
      "880\n",
      "881\n",
      "882\n",
      "883\n",
      "884\n",
      "885\n",
      "886\n",
      "887\n",
      "888\n",
      "889\n",
      "890\n",
      "891\n",
      "892\n",
      "893\n",
      "894\n",
      "895\n",
      "896\n",
      "897\n",
      "898\n",
      "899\n",
      "900\n",
      "901\n",
      "902\n",
      "903\n",
      "904\n",
      "905\n",
      "906\n",
      "907\n",
      "908\n",
      "909\n",
      "910\n",
      "911\n",
      "912\n",
      "913\n",
      "914\n",
      "915\n",
      "916\n",
      "917\n",
      "918\n",
      "919\n",
      "920\n",
      "921\n",
      "922\n",
      "923\n",
      "924\n",
      "925\n",
      "926\n",
      "927\n",
      "928\n",
      "929\n",
      "930\n",
      "931\n",
      "932\n",
      "933\n",
      "934\n",
      "935\n",
      "936\n",
      "937\n",
      "938\n",
      "939\n",
      "940\n",
      "941\n",
      "942\n",
      "943\n",
      "944\n",
      "945\n",
      "946\n",
      "947\n",
      "948\n",
      "949\n",
      "950\n",
      "951\n",
      "952\n",
      "953\n",
      "954\n",
      "955\n",
      "956\n",
      "ERROR ON AUT AU= 'ERKORKMAZ UNAL'\n",
      "957\n",
      "958\n",
      "959\n",
      "960\n",
      "961\n",
      "962\n",
      "963\n",
      "964\n",
      "965\n",
      "966\n",
      "967\n",
      "968\n",
      "969\n",
      "970\n",
      "971\n",
      "972\n",
      "973\n",
      "974\n",
      "975\n",
      "976\n",
      "977\n",
      "978\n",
      "979\n",
      "980\n",
      "981\n",
      "982\n",
      "983\n",
      "984\n",
      "985\n",
      "986\n",
      "987\n",
      "988\n",
      "989\n",
      "990\n",
      "991\n",
      "992\n",
      "993\n",
      "994\n",
      "995\n",
      "996\n",
      "997\n",
      "998\n",
      "999\n",
      "1000\n",
      "1001\n",
      "1002\n",
      "1003\n",
      "1004\n",
      "1005\n",
      "1006\n",
      "1007\n",
      "1008\n",
      "1009\n",
      "1010\n",
      "1011\n",
      "1012\n",
      "1013\n",
      "1014\n",
      "1015\n",
      "1016\n",
      "1017\n",
      "1018\n",
      "1019\n",
      "1020\n",
      "1021\n",
      "1022\n",
      "1023\n",
      "1024\n",
      "1025\n",
      "1026\n",
      "1027\n",
      "1028\n",
      "1029\n",
      "1030\n",
      "1031\n",
      "1032\n",
      "1033\n",
      "1034\n",
      "1035\n",
      "1036\n",
      "1037\n",
      "1038\n",
      "1039\n",
      "1040\n",
      "1041\n",
      "1042\n",
      "1043\n",
      "1044\n",
      "1045\n",
      "1046\n",
      "1047\n",
      "1048\n",
      "1049\n",
      "1050\n",
      "1051\n",
      "1052\n",
      "1053\n",
      "1054\n",
      "1055\n",
      "1056\n",
      "1057\n",
      "1058\n",
      "1059\n",
      "1060\n",
      "1061\n",
      "1062\n",
      "1063\n",
      "1064\n",
      "1065\n",
      "1066\n",
      "1067\n",
      "1068\n",
      "1069\n",
      "1070\n",
      "1071\n",
      "1072\n",
      "1073\n",
      "1074\n",
      "1075\n",
      "1076\n",
      "1077\n",
      "1078\n",
      "1079\n",
      "ERROR ON AUT AU= 'AKKOYUNLU MUHAMMED'\n",
      "1080\n",
      "1081\n",
      "1082\n",
      "1083\n",
      "1084\n",
      "1085\n",
      "1086\n",
      "1087\n",
      "1088\n",
      "1089\n",
      "1090\n",
      "1091\n",
      "1092\n",
      "1093\n",
      "1094\n",
      "1095\n",
      "1096\n",
      "1097\n",
      "1098\n",
      "1099\n",
      "1100\n",
      "1101\n",
      "1102\n",
      "1103\n",
      "1104\n",
      "1105\n",
      "1106\n",
      "1107\n",
      "1108\n",
      "1109\n",
      "1110\n",
      "1111\n",
      "1112\n",
      "1113\n",
      "1114\n",
      "1115\n",
      "1116\n",
      "1117\n",
      "1118\n",
      "1119\n",
      "1120\n",
      "1121\n",
      "1122\n",
      "1123\n",
      "1124\n",
      "1125\n",
      "1126\n",
      "1127\n",
      "1128\n",
      "1129\n",
      "1130\n",
      "1131\n",
      "1132\n",
      "1133\n",
      "1134\n",
      "1135\n",
      "1136\n",
      "1137\n",
      "1138\n",
      "1139\n",
      "1140\n",
      "1141\n",
      "1142\n",
      "1143\n",
      "1144\n",
      "1145\n",
      "1146\n",
      "1147\n",
      "1148\n",
      "1149\n",
      "1150\n",
      "1151\n",
      "1152\n",
      "1153\n",
      "1154\n",
      "1155\n",
      "1156\n",
      "1157\n",
      "1158\n",
      "1159\n",
      "1160\n",
      "1161\n",
      "1162\n",
      "ERROR ON AUT AU= 'DVORAK V'\n",
      "1163\n",
      "1164\n",
      "1165\n",
      "1166\n",
      "1167\n",
      "1168\n",
      "1169\n",
      "1170\n",
      "1171\n",
      "1172\n",
      "1173\n",
      "1174\n",
      "1175\n",
      "1176\n",
      "1177\n",
      "1178\n",
      "1179\n",
      "1180\n",
      "ERROR ON AUT AU= 'PROKOP PAVOL'\n",
      "1181\n",
      "1182\n",
      "1183\n",
      "1184\n",
      "1185\n",
      "1186\n",
      "1187\n",
      "1188\n",
      "1189\n",
      "1190\n",
      "1191\n",
      "1192\n",
      "1193\n",
      "1194\n",
      "1195\n",
      "1196\n",
      "1197\n"
     ]
    },
    {
     "name": "stderr",
     "output_type": "stream",
     "text": [
      "<suds.sax.document.Document object at 0x145038dd8>\n"
     ]
    },
    {
     "name": "stdout",
     "output_type": "stream",
     "text": [
      "ERROR ON AUT AU= 'KAYA O.'\n",
      "1198\n",
      "1199\n",
      "1200\n",
      "ERROR ON AUT AU= 'ERYILDIRIM BILAL'\n",
      "1201\n",
      "1202\n",
      "1203\n",
      "1204\n",
      "1205\n",
      "1206\n",
      "1207\n",
      "1208\n",
      "1209\n",
      "1210\n",
      "1211\n",
      "1212\n",
      "1213\n",
      "1214\n",
      "1215\n",
      "1216\n",
      "1217\n",
      "1218\n",
      "1219\n",
      "1220\n",
      "ERROR ON AUT AU= 'MORENO P'\n",
      "1221\n",
      "1222\n",
      "1223\n",
      "1224\n",
      "1225\n",
      "1226\n",
      "1227\n",
      "1228\n",
      "1229\n",
      "1230\n",
      "1231\n",
      "1232\n",
      "1233\n",
      "1234\n",
      "1235\n",
      "1236\n",
      "1237\n",
      "1238\n",
      "1239\n",
      "1240\n",
      "1241\n",
      "1242\n",
      "1243\n",
      "1244\n",
      "1245\n",
      "1246\n",
      "1247\n",
      "1248\n",
      "1249\n",
      "1250\n",
      "1251\n",
      "1252\n",
      "1253\n",
      "1254\n",
      "1255\n",
      "1256\n",
      "1257\n",
      "1258\n",
      "1259\n",
      "ERROR ON AUT AU='DEMIR MUSTAFA'\n",
      "1260\n",
      "1261\n",
      "1262\n",
      "1263\n",
      "1264\n",
      "1265\n",
      "1266\n",
      "1267\n",
      "1268\n",
      "1269\n",
      "1270\n",
      "1271\n",
      "ERROR ON AUT AU= 'KAZERANI FARZANEH'\n",
      "1272\n",
      "1273\n",
      "1274\n",
      "1275\n",
      "1276\n",
      "1277\n",
      "1278\n",
      "1279\n",
      "1280\n",
      "1281\n",
      "1282\n",
      "1283\n",
      "1284\n",
      "1285\n",
      "1286\n",
      "1287\n",
      "1288\n",
      "1289\n",
      "1290\n",
      "1291\n",
      "1292\n",
      "1293\n",
      "1294\n",
      "1295\n",
      "1296\n",
      "1297\n",
      "1298\n",
      "1299\n",
      "1300\n",
      "1301\n",
      "1302\n",
      "1303\n",
      "1304\n",
      "1305\n",
      "1306\n",
      "1307\n",
      "1308\n",
      "1309\n",
      "1310\n",
      "1311\n",
      "1312\n",
      "1313\n",
      "1314\n",
      "1315\n",
      "ERROR ON AUT AU= 'SANTOS XAVIER'\n",
      "1316\n",
      "1317\n",
      "1318\n",
      "1319\n",
      "1320\n",
      "1321\n",
      "1322\n",
      "1323\n",
      "1324\n",
      "1325\n",
      "1326\n",
      "1327\n",
      "1328\n",
      "1329\n",
      "1330\n",
      "1331\n",
      "1332\n",
      "1333\n",
      "1334\n",
      "1335\n",
      "1336\n",
      "1337\n",
      "1338\n",
      "1339\n",
      "1340\n",
      "1341\n",
      "1342\n",
      "1343\n",
      "1344\n",
      "1345\n",
      "ERROR ON AUT AU='PAMUK GULSUM EMEL'\n",
      "1346\n",
      "1347\n",
      "1348\n",
      "1349\n",
      "1350\n",
      "1351\n",
      "1352\n",
      "1353\n",
      "1354\n",
      "1355\n",
      "1356\n",
      "1357\n",
      "1358\n",
      "1359\n",
      "1360\n",
      "1361\n",
      "1362\n",
      "1363\n",
      "1364\n",
      "1365\n",
      "1366\n",
      "1367\n",
      "1368\n",
      "1369\n",
      "1370\n",
      "1371\n",
      "1372\n",
      "1373\n",
      "1374\n",
      "1375\n",
      "1376\n",
      "1377\n",
      "1378\n",
      "1379\n",
      "1380\n",
      "1381\n",
      "1382\n",
      "1383\n",
      "1384\n",
      "1385\n",
      "1386\n",
      "1387\n",
      "1388\n",
      "1389\n",
      "1390\n",
      "1391\n",
      "1392\n",
      "1393\n",
      "1394\n",
      "1395\n",
      "1396\n",
      "1397\n",
      "1398\n",
      "1399\n",
      "1400\n",
      "1401\n",
      "1402\n",
      "1403\n",
      "1404\n",
      "1405\n",
      "1406\n",
      "1407\n",
      "1408\n",
      "1409\n",
      "1410\n",
      "1411\n",
      "1412\n",
      "1413\n",
      "1414\n",
      "ERROR ON AUT AU= 'ABRAHAM A'\n",
      "1415\n",
      "1416\n",
      "1417\n",
      "1418\n",
      "1419\n",
      "1420\n",
      "1421\n",
      "1422\n",
      "1423\n",
      "1424\n",
      "1425\n",
      "ERROR ON AUT AU= 'MUZNY DONNA'\n",
      "1426\n",
      "1427\n",
      "1428\n",
      "1429\n",
      "1430\n",
      "1431\n",
      "1432\n",
      "1433\n",
      "1434\n",
      "1435\n",
      "1436\n",
      "1437\n",
      "1438\n",
      "1439\n",
      "1440\n",
      "1441\n",
      "1442\n",
      "1443\n",
      "1444\n",
      "1445\n",
      "1446\n",
      "1447\n",
      "1448\n",
      "1449\n",
      "1450\n",
      "1451\n",
      "1452\n",
      "1453\n",
      "1454\n",
      "1455\n",
      "1456\n",
      "1457\n",
      "1458\n",
      "1459\n",
      "1460\n",
      "1461\n",
      "1462\n",
      "1463\n",
      "1464\n",
      "1465\n",
      "1466\n",
      "ERROR ON AUT AU= 'TOMAZIC IZTOK'\n",
      "1467\n",
      "1468\n",
      "1469\n",
      "1470\n",
      "1471\n",
      "1472\n",
      "1473\n",
      "1474\n",
      "1475\n",
      "1476\n",
      "1477\n",
      "1478\n",
      "1479\n",
      "1480\n",
      "1481\n",
      "1482\n",
      "1483\n",
      "1484\n",
      "1485\n",
      "1486\n",
      "1487\n",
      "ERROR ON AUT AU= 'ERSOY REYHAN'\n",
      "1488\n",
      "1489\n",
      "1490\n",
      "1491\n",
      "1492\n",
      "1493\n",
      "1494\n",
      "1495\n",
      "1496\n",
      "1497\n",
      "1498\n",
      "1499\n",
      "1500\n",
      "1501\n",
      "1502\n",
      "1503\n",
      "ERROR ON AUT AU= 'GERSTOFT JAN'\n",
      "1504\n",
      "1505\n",
      "1506\n",
      "1507\n",
      "1508\n",
      "1509\n",
      "1510\n",
      "1511\n",
      "1512\n",
      "1513\n",
      "1514\n",
      "1515\n",
      "1516\n",
      "1517\n",
      "1518\n",
      "1519\n",
      "1520\n",
      "1521\n",
      "1522\n",
      "1523\n",
      "1524\n",
      "1525\n",
      "1526\n",
      "1527\n",
      "1528\n",
      "1529\n",
      "1530\n",
      "1531\n",
      "1532\n",
      "1533\n",
      "1534\n",
      "1535\n",
      "1536\n",
      "1537\n",
      "1538\n",
      "1539\n",
      "1540\n",
      "1541\n",
      "1542\n",
      "1543\n",
      "ERROR ON AUT AU= 'ANAR CEYDA'\n",
      "1544\n",
      "1545\n",
      "1546\n",
      "1547\n",
      "1548\n",
      "1549\n",
      "1550\n",
      "1551\n",
      "1552\n",
      "1553\n",
      "1554\n",
      "1555\n",
      "1556\n",
      "1557\n",
      "1558\n",
      "1559\n",
      "1560\n",
      "1561\n",
      "1562\n",
      "1563\n",
      "1564\n",
      "1565\n",
      "1566\n",
      "1567\n",
      "1568\n",
      "1569\n",
      "1570\n",
      "1571\n",
      "1572\n",
      "1573\n",
      "1574\n",
      "1575\n",
      "ERROR ON AUT AU= 'BANDIRMALI NECLA'\n",
      "1576\n",
      "1577\n",
      "1578\n",
      "1579\n",
      "1580\n",
      "1581\n",
      "1582\n",
      "1583\n",
      "1584\n",
      "1585\n",
      "1586\n"
     ]
    },
    {
     "name": "stderr",
     "output_type": "stream",
     "text": [
      "<suds.sax.document.Document object at 0x1161cfdd8>\n"
     ]
    },
    {
     "name": "stdout",
     "output_type": "stream",
     "text": [
      "ERROR ON AUT AU= 'KARSLI VEDAT MEHMET'\n",
      "1587\n"
     ]
    },
    {
     "name": "stderr",
     "output_type": "stream",
     "text": [
      "<suds.sax.document.Document object at 0x113c59b38>\n"
     ]
    },
    {
     "name": "stdout",
     "output_type": "stream",
     "text": [
      "ERROR ON AUT AU= 'OZBAY GUNAY'\n",
      "1588\n"
     ]
    },
    {
     "name": "stderr",
     "output_type": "stream",
     "text": [
      "<suds.sax.document.Document object at 0x113c59160>\n"
     ]
    },
    {
     "name": "stdout",
     "output_type": "stream",
     "text": [
      "ERROR ON AUT AU= 'YILMAZ OKKES'\n",
      "1589\n"
     ]
    },
    {
     "name": "stderr",
     "output_type": "stream",
     "text": [
      "<suds.sax.document.Document object at 0x1161cf278>\n"
     ]
    },
    {
     "name": "stdout",
     "output_type": "stream",
     "text": [
      "ERROR ON AUT AU= 'BORLU FATIH'\n",
      "1590\n"
     ]
    },
    {
     "name": "stderr",
     "output_type": "stream",
     "text": [
      "<suds.sax.document.Document object at 0x112a87908>\n"
     ]
    },
    {
     "name": "stdout",
     "output_type": "stream",
     "text": [
      "ERROR ON AUT AU= 'EROL SERPIL'\n",
      "1591\n"
     ]
    },
    {
     "name": "stderr",
     "output_type": "stream",
     "text": [
      "<suds.sax.document.Document object at 0x112a87d30>\n"
     ]
    },
    {
     "name": "stdout",
     "output_type": "stream",
     "text": [
      "ERROR ON AUT AU= 'YANG SHI-YAO'\n",
      "1592\n"
     ]
    },
    {
     "name": "stderr",
     "output_type": "stream",
     "text": [
      "<suds.sax.document.Document object at 0x115f947f0>\n"
     ]
    },
    {
     "name": "stdout",
     "output_type": "stream",
     "text": [
      "ERROR ON AUT AU= 'GANIDAGLI SEFA'\n",
      "1593\n"
     ]
    },
    {
     "name": "stderr",
     "output_type": "stream",
     "text": [
      "<suds.sax.document.Document object at 0x115976160>\n"
     ]
    },
    {
     "name": "stdout",
     "output_type": "stream",
     "text": [
      "ERROR ON AUT AU='DEMIRKOL ISKENDER'\n",
      "1594\n"
     ]
    },
    {
     "name": "stderr",
     "output_type": "stream",
     "text": [
      "<suds.sax.document.Document object at 0x113c59cc0>\n"
     ]
    },
    {
     "name": "stdout",
     "output_type": "stream",
     "text": [
      "ERROR ON AUT AU= 'LEE EDWARD Y.'\n",
      "1595\n"
     ]
    },
    {
     "name": "stderr",
     "output_type": "stream",
     "text": [
      "<suds.sax.document.Document object at 0x113c81438>\n"
     ]
    },
    {
     "name": "stdout",
     "output_type": "stream",
     "text": [
      "ERROR ON AUT AU='OZEN ZEKI'\n",
      "1596\n"
     ]
    },
    {
     "name": "stderr",
     "output_type": "stream",
     "text": [
      "<suds.sax.document.Document object at 0x112a87be0>\n"
     ]
    },
    {
     "name": "stdout",
     "output_type": "stream",
     "text": [
      "ERROR ON AUT AU= 'CLARICH GABRIELLA'\n",
      "1597\n"
     ]
    },
    {
     "name": "stderr",
     "output_type": "stream",
     "text": [
      "<suds.sax.document.Document object at 0x112a87cc0>\n"
     ]
    },
    {
     "name": "stdout",
     "output_type": "stream",
     "text": [
      "ERROR ON AUT AU='UYAR ZAFER'\n",
      "1598\n"
     ]
    },
    {
     "name": "stderr",
     "output_type": "stream",
     "text": [
      "<suds.sax.document.Document object at 0x115f94b00>\n"
     ]
    },
    {
     "name": "stdout",
     "output_type": "stream",
     "text": [
      "ERROR ON AUT AU= 'TORNATORE MASSIMO'\n",
      "1599\n"
     ]
    },
    {
     "name": "stderr",
     "output_type": "stream",
     "text": [
      "<suds.sax.document.Document object at 0x115cde470>\n"
     ]
    },
    {
     "name": "stdout",
     "output_type": "stream",
     "text": [
      "ERROR ON AUT AU='SOLMAZ SONER'\n",
      "1600\n"
     ]
    },
    {
     "name": "stderr",
     "output_type": "stream",
     "text": [
      "<suds.sax.document.Document object at 0x115b25c50>\n"
     ]
    },
    {
     "name": "stdout",
     "output_type": "stream",
     "text": [
      "ERROR ON AUT AU='KAFKAS SAMET'\n",
      "1601\n"
     ]
    },
    {
     "name": "stderr",
     "output_type": "stream",
     "text": [
      "<suds.sax.document.Document object at 0x115976048>\n"
     ]
    },
    {
     "name": "stdout",
     "output_type": "stream",
     "text": [
      "ERROR ON AUT AU='DEMIRTAS ABDULLAH'\n",
      "1602\n"
     ]
    },
    {
     "name": "stderr",
     "output_type": "stream",
     "text": [
      "<suds.sax.document.Document object at 0x112a87358>\n"
     ]
    },
    {
     "name": "stdout",
     "output_type": "stream",
     "text": [
      "ERROR ON AUT AU='BEZ YASIN'\n",
      "1603\n"
     ]
    },
    {
     "name": "stderr",
     "output_type": "stream",
     "text": [
      "<suds.sax.document.Document object at 0x112a87da0>\n"
     ]
    },
    {
     "name": "stdout",
     "output_type": "stream",
     "text": [
      "ERROR ON AUT AU= 'KHAN WESAAL'\n",
      "1604\n"
     ]
    },
    {
     "name": "stderr",
     "output_type": "stream",
     "text": [
      "<suds.sax.document.Document object at 0x1159bc4e0>\n"
     ]
    },
    {
     "name": "stdout",
     "output_type": "stream",
     "text": [
      "ERROR ON AUT AU= 'GUNGOR OMER'\n",
      "1605\n"
     ]
    },
    {
     "name": "stderr",
     "output_type": "stream",
     "text": [
      "<suds.sax.document.Document object at 0x1161cfc50>\n"
     ]
    },
    {
     "name": "stdout",
     "output_type": "stream",
     "text": [
      "ERROR ON AUT AU= 'EREN TANJU'\n",
      "1606\n"
     ]
    },
    {
     "name": "stderr",
     "output_type": "stream",
     "text": [
      "<suds.sax.document.Document object at 0x115cb35c0>\n"
     ]
    },
    {
     "name": "stdout",
     "output_type": "stream",
     "text": [
      "ERROR ON AUT AU= 'KUK SALIH'\n",
      "1607\n"
     ]
    },
    {
     "name": "stderr",
     "output_type": "stream",
     "text": [
      "<suds.sax.document.Document object at 0x115976278>\n"
     ]
    },
    {
     "name": "stdout",
     "output_type": "stream",
     "text": [
      "ERROR ON AUT AU= 'COSKUN BELKIS NIHAN'\n",
      "1608\n"
     ]
    },
    {
     "name": "stderr",
     "output_type": "stream",
     "text": [
      "<suds.sax.document.Document object at 0x112a87278>\n"
     ]
    },
    {
     "name": "stdout",
     "output_type": "stream",
     "text": [
      "ERROR ON AUT AU= 'KARA SAMI'\n",
      "1609\n"
     ]
    },
    {
     "name": "stderr",
     "output_type": "stream",
     "text": [
      "<suds.sax.document.Document object at 0x112a87668>\n"
     ]
    },
    {
     "name": "stdout",
     "output_type": "stream",
     "text": [
      "ERROR ON AUT AU= 'YILDIRIM M. SELMAN'\n",
      "1610\n"
     ]
    },
    {
     "name": "stderr",
     "output_type": "stream",
     "text": [
      "<suds.sax.document.Document object at 0x1159762e8>\n"
     ]
    },
    {
     "name": "stdout",
     "output_type": "stream",
     "text": [
      "ERROR ON AUT AU= 'AMILKANTHWAR RAJENDRA HARIBHAU'\n",
      "1611\n"
     ]
    },
    {
     "name": "stderr",
     "output_type": "stream",
     "text": [
      "<suds.sax.document.Document object at 0x115b25a58>\n"
     ]
    },
    {
     "name": "stdout",
     "output_type": "stream",
     "text": [
      "ERROR ON AUT AU= 'GEZGIN MAN'\n",
      "1612\n"
     ]
    },
    {
     "name": "stderr",
     "output_type": "stream",
     "text": [
      "<suds.sax.document.Document object at 0x115b25e10>\n"
     ]
    },
    {
     "name": "stdout",
     "output_type": "stream",
     "text": [
      "ERROR ON AUT AU= 'CUBUKCU ERDEM'\n",
      "1613\n"
     ]
    },
    {
     "name": "stderr",
     "output_type": "stream",
     "text": [
      "<suds.sax.document.Document object at 0x113c810b8>\n"
     ]
    },
    {
     "name": "stdout",
     "output_type": "stream",
     "text": [
      "ERROR ON AUT AU= 'OZTURK FERAL'\n",
      "1614\n"
     ]
    },
    {
     "name": "stderr",
     "output_type": "stream",
     "text": [
      "<suds.sax.document.Document object at 0x112a87128>\n"
     ]
    },
    {
     "name": "stdout",
     "output_type": "stream",
     "text": [
      "ERROR ON AUT AU='YORUK UMIT'\n",
      "1615\n"
     ]
    },
    {
     "name": "stderr",
     "output_type": "stream",
     "text": [
      "<suds.sax.document.Document object at 0x112a87240>\n"
     ]
    },
    {
     "name": "stdout",
     "output_type": "stream",
     "text": [
      "ERROR ON AUT AU= 'JHANGIANI SHALINI N.'\n",
      "1616\n"
     ]
    },
    {
     "name": "stderr",
     "output_type": "stream",
     "text": [
      "<suds.sax.document.Document object at 0x115cde588>\n"
     ]
    },
    {
     "name": "stdout",
     "output_type": "stream",
     "text": [
      "ERROR ON AUT AU='AYDOGAN TIMUCIN'\n",
      "1617\n"
     ]
    },
    {
     "name": "stderr",
     "output_type": "stream",
     "text": [
      "<suds.sax.document.Document object at 0x113c59668>\n"
     ]
    },
    {
     "name": "stdout",
     "output_type": "stream",
     "text": [
      "ERROR ON AUT AU='YILMAZ HASAN'\n",
      "1618\n"
     ]
    },
    {
     "name": "stderr",
     "output_type": "stream",
     "text": [
      "<suds.sax.document.Document object at 0x113c595f8>\n"
     ]
    },
    {
     "name": "stdout",
     "output_type": "stream",
     "text": [
      "ERROR ON AUT AU= 'ALTINTOPRAK FATIH'\n",
      "1619\n"
     ]
    },
    {
     "name": "stderr",
     "output_type": "stream",
     "text": [
      "<suds.sax.document.Document object at 0x113c81940>\n"
     ]
    },
    {
     "name": "stdout",
     "output_type": "stream",
     "text": [
      "ERROR ON AUT AU= 'ERIS HUSEYIN NAIM'\n",
      "1620\n"
     ]
    },
    {
     "name": "stderr",
     "output_type": "stream",
     "text": [
      "<suds.sax.document.Document object at 0x115976160>\n"
     ]
    },
    {
     "name": "stdout",
     "output_type": "stream",
     "text": [
      "ERROR ON AUT AU='BAL MEHMET SUAT'\n",
      "1621\n"
     ]
    },
    {
     "name": "stderr",
     "output_type": "stream",
     "text": [
      "<suds.sax.document.Document object at 0x115f948d0>\n"
     ]
    },
    {
     "name": "stdout",
     "output_type": "stream",
     "text": [
      "ERROR ON AUT AU= 'AYDIN EROL'\n",
      "1622\n"
     ]
    },
    {
     "name": "stderr",
     "output_type": "stream",
     "text": [
      "<suds.sax.document.Document object at 0x115cde0b8>\n"
     ]
    },
    {
     "name": "stdout",
     "output_type": "stream",
     "text": [
      "ERROR ON AUT AU= 'ISIK AKLIME'\n",
      "1623\n"
     ]
    },
    {
     "name": "stderr",
     "output_type": "stream",
     "text": [
      "<suds.sax.document.Document object at 0x1159bccf8>\n"
     ]
    },
    {
     "name": "stdout",
     "output_type": "stream",
     "text": [
      "ERROR ON AUT AU= 'GULER IBRAHIM'\n",
      "1624\n"
     ]
    },
    {
     "name": "stderr",
     "output_type": "stream",
     "text": [
      "<suds.sax.document.Document object at 0x113c595f8>\n"
     ]
    },
    {
     "name": "stdout",
     "output_type": "stream",
     "text": [
      "ERROR ON AUT AU= 'CEKIN NECMI'\n",
      "1625\n"
     ]
    },
    {
     "name": "stderr",
     "output_type": "stream",
     "text": [
      "<suds.sax.document.Document object at 0x113c819b0>\n"
     ]
    },
    {
     "name": "stdout",
     "output_type": "stream",
     "text": [
      "ERROR ON AUT AU= 'DEGER YETER'\n",
      "1626\n"
     ]
    },
    {
     "name": "stderr",
     "output_type": "stream",
     "text": [
      "<suds.sax.document.Document object at 0x115e0d550>\n"
     ]
    },
    {
     "name": "stdout",
     "output_type": "stream",
     "text": [
      "ERROR ON AUT AU= 'BAYRAKTAR H. SUPHI'\n",
      "1627\n"
     ]
    },
    {
     "name": "stderr",
     "output_type": "stream",
     "text": [
      "<suds.sax.document.Document object at 0x115e0db70>\n"
     ]
    },
    {
     "name": "stdout",
     "output_type": "stream",
     "text": [
      "ERROR ON AUT AU= 'MANCELLARI ENEA'\n",
      "1628\n"
     ]
    },
    {
     "name": "stderr",
     "output_type": "stream",
     "text": [
      "<suds.sax.document.Document object at 0x115cde400>\n"
     ]
    },
    {
     "name": "stdout",
     "output_type": "stream",
     "text": [
      "ERROR ON AUT AU= 'YURDAKUL MEHMET'\n",
      "1629\n"
     ]
    },
    {
     "name": "stderr",
     "output_type": "stream",
     "text": [
      "<suds.sax.document.Document object at 0x113c590b8>\n"
     ]
    },
    {
     "name": "stdout",
     "output_type": "stream",
     "text": [
      "ERROR ON AUT AU= 'AYDOGAN TIMUCIN'\n",
      "1630\n"
     ]
    },
    {
     "name": "stderr",
     "output_type": "stream",
     "text": [
      "<suds.sax.document.Document object at 0x115b25278>\n"
     ]
    },
    {
     "name": "stdout",
     "output_type": "stream",
     "text": [
      "ERROR ON AUT AU= 'OZASLAN MEHMET'\n",
      "1631\n"
     ]
    },
    {
     "name": "stderr",
     "output_type": "stream",
     "text": [
      "<suds.sax.document.Document object at 0x113c814a8>\n"
     ]
    },
    {
     "name": "stdout",
     "output_type": "stream",
     "text": [
      "ERROR ON AUT AU= 'ANSAL A'\n",
      "1632\n"
     ]
    },
    {
     "name": "stderr",
     "output_type": "stream",
     "text": [
      "<suds.sax.document.Document object at 0x115f21550>\n"
     ]
    },
    {
     "name": "stdout",
     "output_type": "stream",
     "text": [
      "ERROR ON AUT AU='KARAAGAC LEMAN'\n",
      "1633\n"
     ]
    },
    {
     "name": "stderr",
     "output_type": "stream",
     "text": [
      "<suds.sax.document.Document object at 0x115f21668>\n"
     ]
    },
    {
     "name": "stdout",
     "output_type": "stream",
     "text": [
      "ERROR ON AUT AU= 'ERDIN SONER'\n",
      "1634\n"
     ]
    },
    {
     "name": "stderr",
     "output_type": "stream",
     "text": [
      "<suds.sax.document.Document object at 0x115cde9b0>\n"
     ]
    },
    {
     "name": "stdout",
     "output_type": "stream",
     "text": [
      "ERROR ON AUT AU= 'VATANSEVER SEZGIN'\n",
      "1635\n"
     ]
    },
    {
     "name": "stderr",
     "output_type": "stream",
     "text": [
      "<suds.sax.document.Document object at 0x115b256a0>\n"
     ]
    },
    {
     "name": "stdout",
     "output_type": "stream",
     "text": [
      "ERROR ON AUT AU= 'GEYIK SERDAR'\n",
      "1636\n"
     ]
    },
    {
     "name": "stderr",
     "output_type": "stream",
     "text": [
      "<suds.sax.document.Document object at 0x115b25e48>\n"
     ]
    },
    {
     "name": "stdout",
     "output_type": "stream",
     "text": [
      "ERROR ON AUT AU='KOC FATIH'\n",
      "1637\n"
     ]
    },
    {
     "name": "stderr",
     "output_type": "stream",
     "text": [
      "<suds.sax.document.Document object at 0x113c81ef0>\n"
     ]
    },
    {
     "name": "stdout",
     "output_type": "stream",
     "text": [
      "ERROR ON AUT AU='GERIN FETHULLAH'\n",
      "1638\n"
     ]
    },
    {
     "name": "stderr",
     "output_type": "stream",
     "text": [
      "<suds.sax.document.Document object at 0x1124c72e8>\n"
     ]
    },
    {
     "name": "stdout",
     "output_type": "stream",
     "text": [
      "ERROR ON AUT AU= 'AKTI NISA NUR'\n",
      "1639\n"
     ]
    },
    {
     "name": "stderr",
     "output_type": "stream",
     "text": [
      "<suds.sax.document.Document object at 0x115e0d940>\n"
     ]
    },
    {
     "name": "stdout",
     "output_type": "stream",
     "text": [
      "ERROR ON AUT AU= 'EGEMEN NIHAT'\n",
      "1640\n"
     ]
    },
    {
     "name": "stderr",
     "output_type": "stream",
     "text": [
      "<suds.sax.document.Document object at 0x115cde780>\n"
     ]
    },
    {
     "name": "stdout",
     "output_type": "stream",
     "text": [
      "ERROR ON AUT AU= 'BAKIS ABDULREZZAK'\n",
      "1641\n"
     ]
    },
    {
     "name": "stderr",
     "output_type": "stream",
     "text": [
      "<suds.sax.document.Document object at 0x1120c27b8>\n"
     ]
    },
    {
     "name": "stdout",
     "output_type": "stream",
     "text": [
      "ERROR ON AUT AU= 'ESIN FATMA'\n",
      "1642\n"
     ]
    },
    {
     "name": "stderr",
     "output_type": "stream",
     "text": [
      "<suds.sax.document.Document object at 0x1120c2828>\n"
     ]
    },
    {
     "name": "stdout",
     "output_type": "stream",
     "text": [
      "ERROR ON AUT AU= 'KARAKOC MEHMET'\n",
      "1643\n"
     ]
    },
    {
     "name": "stderr",
     "output_type": "stream",
     "text": [
      "<suds.sax.document.Document object at 0x115f21a90>\n"
     ]
    },
    {
     "name": "stdout",
     "output_type": "stream",
     "text": [
      "ERROR ON AUT AU='KORUK SUDA TEKIN'\n",
      "1644\n"
     ]
    },
    {
     "name": "stderr",
     "output_type": "stream",
     "text": [
      "<suds.sax.document.Document object at 0x1159bc518>\n"
     ]
    },
    {
     "name": "stdout",
     "output_type": "stream",
     "text": [
      "ERROR ON AUT AU= 'KARABULUT BUEYAMIN'\n",
      "1645\n"
     ]
    },
    {
     "name": "stderr",
     "output_type": "stream",
     "text": [
      "<suds.sax.document.Document object at 0x1159bc5c0>\n"
     ]
    },
    {
     "name": "stdout",
     "output_type": "stream",
     "text": [
      "ERROR ON AUT AU='SOYLU AHMET'\n",
      "1646\n"
     ]
    },
    {
     "name": "stderr",
     "output_type": "stream",
     "text": [
      "<suds.sax.document.Document object at 0x115e0dc18>\n"
     ]
    },
    {
     "name": "stdout",
     "output_type": "stream",
     "text": [
      "ERROR ON AUT AU= 'SHI Y'\n",
      "1647\n"
     ]
    },
    {
     "name": "stderr",
     "output_type": "stream",
     "text": [
      "<suds.sax.document.Document object at 0x1120c2780>\n"
     ]
    },
    {
     "name": "stdout",
     "output_type": "stream",
     "text": [
      "ERROR ON AUT AU= 'USTUNER MEHMET C.'\n",
      "1648\n"
     ]
    },
    {
     "name": "stderr",
     "output_type": "stream",
     "text": [
      "<suds.sax.document.Document object at 0x1124c78d0>\n"
     ]
    },
    {
     "name": "stdout",
     "output_type": "stream",
     "text": [
      "ERROR ON AUT AU= 'TAS HANIFE UZEL'\n",
      "1649\n"
     ]
    },
    {
     "name": "stderr",
     "output_type": "stream",
     "text": [
      "<suds.sax.document.Document object at 0x115f213c8>\n"
     ]
    },
    {
     "name": "stdout",
     "output_type": "stream",
     "text": [
      "ERROR ON AUT AU= 'OZGEN FATIH'\n",
      "1650\n"
     ]
    },
    {
     "name": "stderr",
     "output_type": "stream",
     "text": [
      "<suds.sax.document.Document object at 0x115cde438>\n"
     ]
    },
    {
     "name": "stdout",
     "output_type": "stream",
     "text": [
      "ERROR ON AUT AU= 'GUR ALI'\n",
      "1651\n"
     ]
    },
    {
     "name": "stderr",
     "output_type": "stream",
     "text": [
      "<suds.sax.document.Document object at 0x115cded68>\n"
     ]
    },
    {
     "name": "stdout",
     "output_type": "stream",
     "text": [
      "ERROR ON AUT AU= 'KARAAHMET FATIH'\n",
      "1652\n"
     ]
    },
    {
     "name": "stderr",
     "output_type": "stream",
     "text": [
      "<suds.sax.document.Document object at 0x115e0dcc0>\n"
     ]
    },
    {
     "name": "stdout",
     "output_type": "stream",
     "text": [
      "ERROR ON AUT AU='REIS SELCUK'\n",
      "1653\n"
     ]
    },
    {
     "name": "stderr",
     "output_type": "stream",
     "text": [
      "<suds.sax.document.Document object at 0x1124c7cc0>\n"
     ]
    },
    {
     "name": "stdout",
     "output_type": "stream",
     "text": [
      "ERROR ON AUT AU= 'ERTEN SUKRAN'\n",
      "1654\n"
     ]
    },
    {
     "name": "stderr",
     "output_type": "stream",
     "text": [
      "<suds.sax.document.Document object at 0x1124c7eb8>\n"
     ]
    },
    {
     "name": "stdout",
     "output_type": "stream",
     "text": [
      "ERROR ON AUT AU= 'YASAR TUGCE'\n",
      "1655\n"
     ]
    },
    {
     "name": "stderr",
     "output_type": "stream",
     "text": [
      "<suds.sax.document.Document object at 0x115f21080>\n"
     ]
    },
    {
     "name": "stdout",
     "output_type": "stream",
     "text": [
      "ERROR ON AUT AU='YILMAZ MERT'\n",
      "1656\n"
     ]
    },
    {
     "name": "stderr",
     "output_type": "stream",
     "text": [
      "<suds.sax.document.Document object at 0x113c598d0>\n"
     ]
    },
    {
     "name": "stdout",
     "output_type": "stream",
     "text": [
      "ERROR ON AUT AU= 'GOKTAS UNAL'\n",
      "1657\n"
     ]
    },
    {
     "name": "stderr",
     "output_type": "stream",
     "text": [
      "<suds.sax.document.Document object at 0x115cde6d8>\n"
     ]
    },
    {
     "name": "stdout",
     "output_type": "stream",
     "text": [
      "ERROR ON AUT AU= 'OZERCAN HANIFI I.'\n",
      "1658\n"
     ]
    },
    {
     "name": "stderr",
     "output_type": "stream",
     "text": [
      "<suds.sax.document.Document object at 0x115e0deb8>\n"
     ]
    },
    {
     "name": "stdout",
     "output_type": "stream",
     "text": [
      "ERROR ON AUT AU= 'KESKI AHMET'\n",
      "1659\n"
     ]
    },
    {
     "name": "stderr",
     "output_type": "stream",
     "text": [
      "<suds.sax.document.Document object at 0x1161cf630>\n"
     ]
    },
    {
     "name": "stdout",
     "output_type": "stream",
     "text": [
      "ERROR ON AUT AU='ATAS MUSA'\n",
      "1660\n"
     ]
    },
    {
     "name": "stderr",
     "output_type": "stream",
     "text": [
      "<suds.sax.document.Document object at 0x1124c7128>\n"
     ]
    },
    {
     "name": "stdout",
     "output_type": "stream",
     "text": [
      "ERROR ON AUT AU='ARASOGLU ALI'\n",
      "1661\n"
     ]
    },
    {
     "name": "stderr",
     "output_type": "stream",
     "text": [
      "<suds.sax.document.Document object at 0x115f21da0>\n"
     ]
    },
    {
     "name": "stdout",
     "output_type": "stream",
     "text": [
      "ERROR ON AUT AU='YAVUZ CELAL'\n",
      "1662\n"
     ]
    },
    {
     "name": "stderr",
     "output_type": "stream",
     "text": [
      "<suds.sax.document.Document object at 0x115cde128>\n"
     ]
    },
    {
     "name": "stdout",
     "output_type": "stream",
     "text": [
      "ERROR ON AUT AU= 'MAVIS TUGBA'\n",
      "1663\n"
     ]
    },
    {
     "name": "stderr",
     "output_type": "stream",
     "text": [
      "<suds.sax.document.Document object at 0x1159bc780>\n"
     ]
    },
    {
     "name": "stdout",
     "output_type": "stream",
     "text": [
      "ERROR ON AUT AU= 'KILIC SULEYMAN SIRRI'\n",
      "1664\n"
     ]
    },
    {
     "name": "stderr",
     "output_type": "stream",
     "text": [
      "<suds.sax.document.Document object at 0x115e0dba8>\n"
     ]
    },
    {
     "name": "stdout",
     "output_type": "stream",
     "text": [
      "ERROR ON AUT AU= 'SENOGLU NIMET'\n",
      "1665\n"
     ]
    },
    {
     "name": "stderr",
     "output_type": "stream",
     "text": [
      "<suds.sax.document.Document object at 0x1120c2f60>\n"
     ]
    },
    {
     "name": "stdout",
     "output_type": "stream",
     "text": [
      "ERROR ON AUT AU= 'SEVINC MEHMET KORAY'\n",
      "1666\n"
     ]
    },
    {
     "name": "stderr",
     "output_type": "stream",
     "text": [
      "<suds.sax.document.Document object at 0x115f94e80>\n"
     ]
    },
    {
     "name": "stdout",
     "output_type": "stream",
     "text": [
      "ERROR ON AUT AU= 'PAKSOY FATMA'\n",
      "1667\n"
     ]
    },
    {
     "name": "stderr",
     "output_type": "stream",
     "text": [
      "<suds.sax.document.Document object at 0x1161cf710>\n"
     ]
    },
    {
     "name": "stdout",
     "output_type": "stream",
     "text": [
      "ERROR ON AUT AU='ERKEN HAYDAR ALI'\n",
      "1668\n"
     ]
    },
    {
     "name": "stderr",
     "output_type": "stream",
     "text": [
      "<suds.sax.document.Document object at 0x115b250f0>\n"
     ]
    },
    {
     "name": "stdout",
     "output_type": "stream",
     "text": [
      "ERROR ON AUT AU= 'EVIRGEN SAMI'\n",
      "1669\n"
     ]
    },
    {
     "name": "stderr",
     "output_type": "stream",
     "text": [
      "<suds.sax.document.Document object at 0x115b25710>\n"
     ]
    },
    {
     "name": "stdout",
     "output_type": "stream",
     "text": [
      "ERROR ON AUT AU= 'YAYLALI OLGA'\n",
      "1670\n"
     ]
    },
    {
     "name": "stderr",
     "output_type": "stream",
     "text": [
      "<suds.sax.document.Document object at 0x1161cf978>\n"
     ]
    },
    {
     "name": "stdout",
     "output_type": "stream",
     "text": [
      "ERROR ON AUT AU= 'SAC MUSLIM MURAT'\n",
      "1671\n"
     ]
    },
    {
     "name": "stderr",
     "output_type": "stream",
     "text": [
      "<suds.sax.document.Document object at 0x1124c7e80>\n"
     ]
    },
    {
     "name": "stdout",
     "output_type": "stream",
     "text": [
      "ERROR ON AUT AU= 'ORDAHAN BANU'\n",
      "1672\n"
     ]
    },
    {
     "name": "stderr",
     "output_type": "stream",
     "text": [
      "<suds.sax.document.Document object at 0x1124c7d68>\n"
     ]
    },
    {
     "name": "stdout",
     "output_type": "stream",
     "text": [
      "ERROR ON AUT AU= 'OZTURK ABDULKADIR'\n",
      "1673\n"
     ]
    },
    {
     "name": "stderr",
     "output_type": "stream",
     "text": [
      "<suds.sax.document.Document object at 0x115f216d8>\n"
     ]
    },
    {
     "name": "stdout",
     "output_type": "stream",
     "text": [
      "ERROR ON AUT AU='YAKUT NURHAYAT'\n",
      "1674\n"
     ]
    },
    {
     "name": "stderr",
     "output_type": "stream",
     "text": [
      "<suds.sax.document.Document object at 0x112a87940>\n"
     ]
    },
    {
     "name": "stdout",
     "output_type": "stream",
     "text": [
      "ERROR ON AUT AU= 'BENTLI RECEP'\n",
      "1675\n"
     ]
    },
    {
     "name": "stderr",
     "output_type": "stream",
     "text": [
      "<suds.sax.document.Document object at 0x112a87940>\n"
     ]
    },
    {
     "name": "stdout",
     "output_type": "stream",
     "text": [
      "ERROR ON AUT AU= 'THAKUR SARIKA'\n",
      "1676\n"
     ]
    },
    {
     "name": "stderr",
     "output_type": "stream",
     "text": [
      "<suds.sax.document.Document object at 0x115cb3ef0>\n"
     ]
    },
    {
     "name": "stdout",
     "output_type": "stream",
     "text": [
      "ERROR ON AUT AU= 'OGUZ ELIF KAVAL'\n",
      "1677\n"
     ]
    },
    {
     "name": "stderr",
     "output_type": "stream",
     "text": [
      "<suds.sax.document.Document object at 0x112a87780>\n"
     ]
    },
    {
     "name": "stdout",
     "output_type": "stream",
     "text": [
      "ERROR ON AUT AU= 'AYDINKARAHALILOGLU DEMET'\n",
      "1678\n"
     ]
    },
    {
     "name": "stderr",
     "output_type": "stream",
     "text": [
      "<suds.sax.document.Document object at 0x112a87080>\n"
     ]
    },
    {
     "name": "stdout",
     "output_type": "stream",
     "text": [
      "ERROR ON AUT AU= 'SEFALI ABDURRAHMAN'\n",
      "1679\n"
     ]
    },
    {
     "name": "stderr",
     "output_type": "stream",
     "text": [
      "<suds.sax.document.Document object at 0x115b252b0>\n"
     ]
    },
    {
     "name": "stdout",
     "output_type": "stream",
     "text": [
      "ERROR ON AUT AU= 'BARDAK TIMUCIN'\n",
      "1680\n"
     ]
    },
    {
     "name": "stderr",
     "output_type": "stream",
     "text": [
      "<suds.sax.document.Document object at 0x115cb3438>\n"
     ]
    },
    {
     "name": "stdout",
     "output_type": "stream",
     "text": [
      "ERROR ON AUT AU='SAGARA YASUAKI'\n",
      "1681\n"
     ]
    },
    {
     "name": "stderr",
     "output_type": "stream",
     "text": [
      "<suds.sax.document.Document object at 0x115cb3c18>\n"
     ]
    },
    {
     "name": "stdout",
     "output_type": "stream",
     "text": [
      "ERROR ON AUT AU= 'DEMIR ESRA YANCAR'\n",
      "1682\n"
     ]
    },
    {
     "name": "stderr",
     "output_type": "stream",
     "text": [
      "<suds.sax.document.Document object at 0x115f94c88>\n"
     ]
    },
    {
     "name": "stdout",
     "output_type": "stream",
     "text": [
      "ERROR ON AUT AU= 'OEZTUERK BANU'\n",
      "1683\n"
     ]
    },
    {
     "name": "stderr",
     "output_type": "stream",
     "text": [
      "<suds.sax.document.Document object at 0x113c59668>\n"
     ]
    },
    {
     "name": "stdout",
     "output_type": "stream",
     "text": [
      "ERROR ON AUT AU= 'KURSUN OLCAY'\n",
      "1684\n"
     ]
    },
    {
     "name": "stderr",
     "output_type": "stream",
     "text": [
      "<suds.sax.document.Document object at 0x113c59b70>\n"
     ]
    },
    {
     "name": "stdout",
     "output_type": "stream",
     "text": [
      "ERROR ON AUT AU= 'HAZNEDAROGLU SEMINUR'\n",
      "1685\n"
     ]
    },
    {
     "name": "stderr",
     "output_type": "stream",
     "text": [
      "<suds.sax.document.Document object at 0x115b256d8>\n"
     ]
    },
    {
     "name": "stdout",
     "output_type": "stream",
     "text": [
      "ERROR ON AUT AU= 'MEYDAN NEZIH'\n",
      "1686\n"
     ]
    },
    {
     "name": "stderr",
     "output_type": "stream",
     "text": [
      "<suds.sax.document.Document object at 0x115cb3e80>\n"
     ]
    },
    {
     "name": "stdout",
     "output_type": "stream",
     "text": [
      "ERROR ON AUT AU= 'GUNDOGAN AYSUN'\n",
      "1687\n"
     ]
    },
    {
     "name": "stderr",
     "output_type": "stream",
     "text": [
      "<suds.sax.document.Document object at 0x115cb3588>\n"
     ]
    },
    {
     "name": "stdout",
     "output_type": "stream",
     "text": [
      "ERROR ON AUT AU= 'BEYZADEOGLU MURAT'\n",
      "1688\n"
     ]
    },
    {
     "name": "stderr",
     "output_type": "stream",
     "text": [
      "<suds.sax.document.Document object at 0x115f94dd8>\n"
     ]
    },
    {
     "name": "stdout",
     "output_type": "stream",
     "text": [
      "ERROR ON AUT AU= 'ERGULL NURHAN'\n",
      "1689\n"
     ]
    },
    {
     "name": "stderr",
     "output_type": "stream",
     "text": [
      "<suds.sax.document.Document object at 0x1120c2c50>\n"
     ]
    },
    {
     "name": "stdout",
     "output_type": "stream",
     "text": [
      "ERROR ON AUT AU='YAZICI AYLIN ERTEKIN'\n",
      "1690\n"
     ]
    },
    {
     "name": "stderr",
     "output_type": "stream",
     "text": [
      "<suds.sax.document.Document object at 0x1120c22b0>\n"
     ]
    },
    {
     "name": "stdout",
     "output_type": "stream",
     "text": [
      "ERROR ON AUT AU= 'SARICAM TULAY'\n",
      "1691\n"
     ]
    },
    {
     "name": "stderr",
     "output_type": "stream",
     "text": [
      "<suds.sax.document.Document object at 0x115b257b8>\n"
     ]
    },
    {
     "name": "stdout",
     "output_type": "stream",
     "text": [
      "ERROR ON AUT AU= 'KAN ELIF K.'\n",
      "1692\n"
     ]
    },
    {
     "name": "stderr",
     "output_type": "stream",
     "text": [
      "<suds.sax.document.Document object at 0x115cb3fd0>\n"
     ]
    },
    {
     "name": "stdout",
     "output_type": "stream",
     "text": [
      "ERROR ON AUT AU= 'AKALIN MEHMET KUDDUSI'\n",
      "1693\n"
     ]
    },
    {
     "name": "stderr",
     "output_type": "stream",
     "text": [
      "<suds.sax.document.Document object at 0x113c81ef0>\n"
     ]
    },
    {
     "name": "stdout",
     "output_type": "stream",
     "text": [
      "ERROR ON AUT AU= 'BALOGLU MURAT'\n",
      "1694\n"
     ]
    },
    {
     "name": "stderr",
     "output_type": "stream",
     "text": [
      "<suds.sax.document.Document object at 0x1159762e8>\n"
     ]
    },
    {
     "name": "stdout",
     "output_type": "stream",
     "text": [
      "ERROR ON AUT AU='SAVAS OMER'\n",
      "1695\n"
     ]
    },
    {
     "name": "stderr",
     "output_type": "stream",
     "text": [
      "<suds.sax.document.Document object at 0x1124c7a58>\n"
     ]
    },
    {
     "name": "stdout",
     "output_type": "stream",
     "text": [
      "ERROR ON AUT AU='KURT ERBAN'\n",
      "1696\n"
     ]
    },
    {
     "name": "stderr",
     "output_type": "stream",
     "text": [
      "<suds.sax.document.Document object at 0x115cde8d0>\n"
     ]
    },
    {
     "name": "stdout",
     "output_type": "stream",
     "text": [
      "ERROR ON AUT AU= 'TUFEK ADNAN'\n",
      "1697\n"
     ]
    },
    {
     "name": "stderr",
     "output_type": "stream",
     "text": [
      "<suds.sax.document.Document object at 0x112a878d0>\n"
     ]
    },
    {
     "name": "stdout",
     "output_type": "stream",
     "text": [
      "ERROR ON AUT AU='ATES MUTLU'\n",
      "1698\n"
     ]
    },
    {
     "name": "stderr",
     "output_type": "stream",
     "text": [
      "<suds.sax.document.Document object at 0x1161cf630>\n"
     ]
    },
    {
     "name": "stdout",
     "output_type": "stream",
     "text": [
      "ERROR ON AUT AU= 'YILMAZ ALI ABBAS'\n",
      "1699\n"
     ]
    },
    {
     "name": "stderr",
     "output_type": "stream",
     "text": [
      "<suds.sax.document.Document object at 0x113c81a90>\n"
     ]
    },
    {
     "name": "stdout",
     "output_type": "stream",
     "text": [
      "ERROR ON AUT AU= 'KIRECCI NURAY'\n",
      "1700\n"
     ]
    },
    {
     "name": "stderr",
     "output_type": "stream",
     "text": [
      "<suds.sax.document.Document object at 0x115b25e48>\n"
     ]
    },
    {
     "name": "stdout",
     "output_type": "stream",
     "text": [
      "ERROR ON AUT AU= 'SAHIN DURSUN ALI'\n",
      "1701\n"
     ]
    },
    {
     "name": "stderr",
     "output_type": "stream",
     "text": [
      "<suds.sax.document.Document object at 0x115e0d320>\n"
     ]
    },
    {
     "name": "stdout",
     "output_type": "stream",
     "text": [
      "ERROR ON AUT AU= 'KOSE CIGDEM'\n",
      "1702\n"
     ]
    },
    {
     "name": "stderr",
     "output_type": "stream",
     "text": [
      "<suds.sax.document.Document object at 0x115cde550>\n"
     ]
    },
    {
     "name": "stdout",
     "output_type": "stream",
     "text": [
      "ERROR ON AUT AU='KUCUK ISRAFIL'\n",
      "1703\n"
     ]
    },
    {
     "name": "stderr",
     "output_type": "stream",
     "text": [
      "<suds.sax.document.Document object at 0x115976278>\n"
     ]
    },
    {
     "name": "stdout",
     "output_type": "stream",
     "text": [
      "ERROR ON AUT AU='KAPSIZ MURAT'\n",
      "1704\n"
     ]
    },
    {
     "name": "stderr",
     "output_type": "stream",
     "text": [
      "<suds.sax.document.Document object at 0x115cb3e80>\n"
     ]
    },
    {
     "name": "stdout",
     "output_type": "stream",
     "text": [
      "ERROR ON AUT AU= 'YASAR BINNUR'\n",
      "1705\n"
     ]
    },
    {
     "name": "stderr",
     "output_type": "stream",
     "text": [
      "<suds.sax.document.Document object at 0x115f21a20>\n"
     ]
    },
    {
     "name": "stdout",
     "output_type": "stream",
     "text": [
      "ERROR ON AUT AU= 'HOGLER WOLFGANG'\n",
      "1706\n"
     ]
    },
    {
     "name": "stderr",
     "output_type": "stream",
     "text": [
      "<suds.sax.document.Document object at 0x115976128>\n"
     ]
    },
    {
     "name": "stdout",
     "output_type": "stream",
     "text": [
      "ERROR ON AUT AU= 'OZTURK SAIT'\n",
      "1707\n"
     ]
    },
    {
     "name": "stderr",
     "output_type": "stream",
     "text": [
      "<suds.sax.document.Document object at 0x1120c2828>\n"
     ]
    },
    {
     "name": "stdout",
     "output_type": "stream",
     "text": [
      "ERROR ON AUT AU= 'KARABACAK MEHMET'\n",
      "1708\n"
     ]
    },
    {
     "name": "stderr",
     "output_type": "stream",
     "text": [
      "<suds.sax.document.Document object at 0x113c59400>\n"
     ]
    },
    {
     "name": "stdout",
     "output_type": "stream",
     "text": [
      "ERROR ON AUT AU= 'DERICI HAYRULLAH'\n",
      "1709\n"
     ]
    },
    {
     "name": "stderr",
     "output_type": "stream",
     "text": [
      "<suds.sax.document.Document object at 0x1159761d0>\n"
     ]
    },
    {
     "name": "stdout",
     "output_type": "stream",
     "text": [
      "ERROR ON AUT AU= 'TEKIN RAHMI TUNA'\n",
      "1710\n"
     ]
    },
    {
     "name": "stderr",
     "output_type": "stream",
     "text": [
      "<suds.sax.document.Document object at 0x1159bcc88>\n"
     ]
    },
    {
     "name": "stdout",
     "output_type": "stream",
     "text": [
      "ERROR ON AUT AU= 'MAYADAGLI ARPASLAN'\n",
      "1711\n"
     ]
    },
    {
     "name": "stderr",
     "output_type": "stream",
     "text": [
      "<suds.sax.document.Document object at 0x115f21588>\n"
     ]
    },
    {
     "name": "stdout",
     "output_type": "stream",
     "text": [
      "ERROR ON AUT AU= 'OZYUREK SELAHATTIN'\n",
      "1712\n"
     ]
    },
    {
     "name": "stderr",
     "output_type": "stream",
     "text": [
      "<suds.sax.document.Document object at 0x1120c2828>\n"
     ]
    },
    {
     "name": "stdout",
     "output_type": "stream",
     "text": [
      "ERROR ON AUT AU= 'OYMAK YESIM'\n",
      "1713\n"
     ]
    },
    {
     "name": "stderr",
     "output_type": "stream",
     "text": [
      "<suds.sax.document.Document object at 0x1120bb160>\n"
     ]
    },
    {
     "name": "stdout",
     "output_type": "stream",
     "text": [
      "ERROR ON AUT AU= 'BASARAN SIBEL'\n",
      "1714\n"
     ]
    },
    {
     "name": "stderr",
     "output_type": "stream",
     "text": [
      "<suds.sax.document.Document object at 0x1159bce10>\n"
     ]
    },
    {
     "name": "stdout",
     "output_type": "stream",
     "text": [
      "ERROR ON AUT AU= 'ARLI CENGIZ'\n",
      "1715\n"
     ]
    },
    {
     "name": "stderr",
     "output_type": "stream",
     "text": [
      "<suds.sax.document.Document object at 0x115f21940>\n"
     ]
    },
    {
     "name": "stdout",
     "output_type": "stream",
     "text": [
      "ERROR ON AUT AU='KHAN SAFEER HUSSAIN'\n",
      "1716\n"
     ]
    },
    {
     "name": "stderr",
     "output_type": "stream",
     "text": [
      "<suds.sax.document.Document object at 0x115cde128>\n"
     ]
    },
    {
     "name": "stdout",
     "output_type": "stream",
     "text": [
      "ERROR ON AUT AU= 'DISLI GAYE'\n",
      "1717\n"
     ]
    },
    {
     "name": "stderr",
     "output_type": "stream",
     "text": [
      "<suds.sax.document.Document object at 0x115cde748>\n"
     ]
    },
    {
     "name": "stdout",
     "output_type": "stream",
     "text": [
      "ERROR ON AUT AU= 'DEVECI ERDEM'\n",
      "1718\n"
     ]
    },
    {
     "name": "stderr",
     "output_type": "stream",
     "text": [
      "<suds.sax.document.Document object at 0x115e0d780>\n"
     ]
    },
    {
     "name": "stdout",
     "output_type": "stream",
     "text": [
      "ERROR ON AUT AU= 'ERSEKERCI TULAY KARACAN'\n",
      "1719\n"
     ]
    },
    {
     "name": "stderr",
     "output_type": "stream",
     "text": [
      "<suds.sax.document.Document object at 0x1120c2748>\n"
     ]
    },
    {
     "name": "stdout",
     "output_type": "stream",
     "text": [
      "ERROR ON AUT AU= 'TARKAN ALI SERHAN'\n",
      "1720\n"
     ]
    },
    {
     "name": "stderr",
     "output_type": "stream",
     "text": [
      "<suds.sax.document.Document object at 0x1120c2a58>\n"
     ]
    },
    {
     "name": "stdout",
     "output_type": "stream",
     "text": [
      "ERROR ON AUT AU= 'ERMIS SAMET S.'\n",
      "1721\n"
     ]
    },
    {
     "name": "stderr",
     "output_type": "stream",
     "text": [
      "<suds.sax.document.Document object at 0x115f21d68>\n"
     ]
    },
    {
     "name": "stdout",
     "output_type": "stream",
     "text": [
      "ERROR ON AUT AU= 'BULUS HAKAN'\n",
      "1722\n"
     ]
    },
    {
     "name": "stderr",
     "output_type": "stream",
     "text": [
      "<suds.sax.document.Document object at 0x1159762b0>\n"
     ]
    },
    {
     "name": "stdout",
     "output_type": "stream",
     "text": [
      "ERROR ON AUT AU= 'YAZICI TARKAN'\n",
      "1723\n"
     ]
    },
    {
     "name": "stderr",
     "output_type": "stream",
     "text": [
      "<suds.sax.document.Document object at 0x115cdee80>\n"
     ]
    },
    {
     "name": "stdout",
     "output_type": "stream",
     "text": [
      "ERROR ON AUT AU= 'ARIKAN YUKSEL'\n",
      "1724\n"
     ]
    },
    {
     "name": "stderr",
     "output_type": "stream",
     "text": [
      "<suds.sax.document.Document object at 0x115e0d320>\n"
     ]
    },
    {
     "name": "stdout",
     "output_type": "stream",
     "text": [
      "ERROR ON AUT AU= 'ILIEVA GALINA'\n",
      "1725\n"
     ]
    },
    {
     "name": "stderr",
     "output_type": "stream",
     "text": [
      "<suds.sax.document.Document object at 0x111f74748>\n"
     ]
    },
    {
     "name": "stdout",
     "output_type": "stream",
     "text": [
      "ERROR ON AUT AU= 'URBANCIKOVA INGRID'\n",
      "1726\n"
     ]
    },
    {
     "name": "stderr",
     "output_type": "stream",
     "text": [
      "<suds.sax.document.Document object at 0x112a87438>\n"
     ]
    },
    {
     "name": "stdout",
     "output_type": "stream",
     "text": [
      "ERROR ON AUT AU='KOCAELI HASAN'\n",
      "1727\n"
     ]
    },
    {
     "name": "stderr",
     "output_type": "stream",
     "text": [
      "<suds.sax.document.Document object at 0x1159bc780>\n"
     ]
    },
    {
     "name": "stdout",
     "output_type": "stream",
     "text": [
      "ERROR ON AUT AU= 'CIHAN YASEMIN BENDERLI'\n",
      "1728\n"
     ]
    },
    {
     "name": "stderr",
     "output_type": "stream",
     "text": [
      "<suds.sax.document.Document object at 0x115cde390>\n"
     ]
    },
    {
     "name": "stdout",
     "output_type": "stream",
     "text": [
      "ERROR ON AUT AU= 'SENER SELCUK'\n",
      "1729\n"
     ]
    },
    {
     "name": "stderr",
     "output_type": "stream",
     "text": [
      "<suds.sax.document.Document object at 0x115cdee80>\n"
     ]
    },
    {
     "name": "stdout",
     "output_type": "stream",
     "text": [
      "ERROR ON AUT AU= 'KURUOGLU SEBUH'\n",
      "1730\n"
     ]
    },
    {
     "name": "stderr",
     "output_type": "stream",
     "text": [
      "<suds.sax.document.Document object at 0x115f21ef0>\n"
     ]
    },
    {
     "name": "stdout",
     "output_type": "stream",
     "text": [
      "ERROR ON AUT AU= 'AKSAKAL ERCUMENT'\n",
      "1731\n"
     ]
    },
    {
     "name": "stderr",
     "output_type": "stream",
     "text": [
      "<suds.sax.document.Document object at 0x1161cf3c8>\n"
     ]
    },
    {
     "name": "stdout",
     "output_type": "stream",
     "text": [
      "ERROR ON AUT AU='OFLAZ HUSEYIN'\n",
      "1732\n"
     ]
    },
    {
     "name": "stderr",
     "output_type": "stream",
     "text": [
      "<suds.sax.document.Document object at 0x115f949b0>\n"
     ]
    },
    {
     "name": "stdout",
     "output_type": "stream",
     "text": [
      "ERROR ON AUT AU= 'AKYIL DILEK'\n",
      "1733\n"
     ]
    },
    {
     "name": "stderr",
     "output_type": "stream",
     "text": [
      "<suds.sax.document.Document object at 0x1159bcdd8>\n"
     ]
    },
    {
     "name": "stdout",
     "output_type": "stream",
     "text": [
      "ERROR ON AUT AU= 'ALTINDAG ABDURRAHMAN'\n",
      "1734\n"
     ]
    },
    {
     "name": "stderr",
     "output_type": "stream",
     "text": [
      "<suds.sax.document.Document object at 0x1120bb668>\n"
     ]
    },
    {
     "name": "stdout",
     "output_type": "stream",
     "text": [
      "ERROR ON AUT AU= 'ANDRIEU MELTEM NALCA'\n",
      "1735\n"
     ]
    },
    {
     "name": "stderr",
     "output_type": "stream",
     "text": [
      "<suds.sax.document.Document object at 0x113c81a58>\n"
     ]
    },
    {
     "name": "stdout",
     "output_type": "stream",
     "text": [
      "ERROR ON AUT AU= 'OZAKIN CUNEYT'\n",
      "1736\n"
     ]
    },
    {
     "name": "stderr",
     "output_type": "stream",
     "text": [
      "<suds.sax.document.Document object at 0x115f21668>\n"
     ]
    },
    {
     "name": "stdout",
     "output_type": "stream",
     "text": [
      "ERROR ON AUT AU= 'TATAR ARZU'\n",
      "1737\n"
     ]
    },
    {
     "name": "stderr",
     "output_type": "stream",
     "text": [
      "<suds.sax.document.Document object at 0x113c59198>\n"
     ]
    },
    {
     "name": "stdout",
     "output_type": "stream",
     "text": [
      "ERROR ON AUT AU= 'ALTUG HICRAN'\n",
      "1738\n"
     ]
    },
    {
     "name": "stderr",
     "output_type": "stream",
     "text": [
      "<suds.sax.document.Document object at 0x113c59d68>\n"
     ]
    },
    {
     "name": "stdout",
     "output_type": "stream",
     "text": [
      "ERROR ON AUT AU='OZER ERDEM KAMIL'\n",
      "1739\n"
     ]
    },
    {
     "name": "stderr",
     "output_type": "stream",
     "text": [
      "<suds.sax.document.Document object at 0x1159bc2e8>\n"
     ]
    },
    {
     "name": "stdout",
     "output_type": "stream",
     "text": [
      "ERROR ON AUT AU='ARSLAN UGUR'\n",
      "1740\n"
     ]
    },
    {
     "name": "stderr",
     "output_type": "stream",
     "text": [
      "<suds.sax.document.Document object at 0x115b25c50>\n"
     ]
    },
    {
     "name": "stdout",
     "output_type": "stream",
     "text": [
      "ERROR ON AUT AU= 'OZKIRIS MAHMUT'\n",
      "1741\n"
     ]
    },
    {
     "name": "stderr",
     "output_type": "stream",
     "text": [
      "<suds.sax.document.Document object at 0x115b25588>\n"
     ]
    },
    {
     "name": "stdout",
     "output_type": "stream",
     "text": [
      "ERROR ON AUT AU= 'MUTLUER MUMTAZ'\n",
      "1742\n"
     ]
    },
    {
     "name": "stderr",
     "output_type": "stream",
     "text": [
      "<suds.sax.document.Document object at 0x115f21d30>\n"
     ]
    },
    {
     "name": "stdout",
     "output_type": "stream",
     "text": [
      "ERROR ON AUT AU= 'KILICLI MAHMUT'\n",
      "1743\n"
     ]
    },
    {
     "name": "stderr",
     "output_type": "stream",
     "text": [
      "<suds.sax.document.Document object at 0x1124c7588>\n"
     ]
    },
    {
     "name": "stdout",
     "output_type": "stream",
     "text": [
      "ERROR ON AUT AU= 'SOMUK BATTAL TAHSIN'\n",
      "1744\n"
     ]
    },
    {
     "name": "stderr",
     "output_type": "stream",
     "text": [
      "<suds.sax.document.Document object at 0x1124c7668>\n"
     ]
    },
    {
     "name": "stdout",
     "output_type": "stream",
     "text": [
      "ERROR ON AUT AU= 'BULUT ISMET'\n",
      "1745\n"
     ]
    },
    {
     "name": "stderr",
     "output_type": "stream",
     "text": [
      "<suds.sax.document.Document object at 0x112a87b38>\n"
     ]
    },
    {
     "name": "stdout",
     "output_type": "stream",
     "text": [
      "ERROR ON AUT AU= 'ERTAN SEMA'\n",
      "1746\n"
     ]
    },
    {
     "name": "stderr",
     "output_type": "stream",
     "text": [
      "<suds.sax.document.Document object at 0x115cb35f8>\n"
     ]
    },
    {
     "name": "stdout",
     "output_type": "stream",
     "text": [
      "ERROR ON AUT AU='AKKAYA ALPER'\n",
      "1747\n"
     ]
    },
    {
     "name": "stderr",
     "output_type": "stream",
     "text": [
      "<suds.sax.document.Document object at 0x113c81128>\n"
     ]
    },
    {
     "name": "stdout",
     "output_type": "stream",
     "text": [
      "ERROR ON AUT AU='UCAN MUSA CAN'\n",
      "1748\n"
     ]
    },
    {
     "name": "stderr",
     "output_type": "stream",
     "text": [
      "<suds.sax.document.Document object at 0x112a87320>\n"
     ]
    },
    {
     "name": "stdout",
     "output_type": "stream",
     "text": [
      "ERROR ON AUT AU= 'ISKURT ALI'\n",
      "1749\n"
     ]
    },
    {
     "name": "stderr",
     "output_type": "stream",
     "text": [
      "<suds.sax.document.Document object at 0x118542160>\n"
     ]
    },
    {
     "name": "stdout",
     "output_type": "stream",
     "text": [
      "ERROR ON AUT AU='BALTA ILKNUR'\n",
      "1750\n"
     ]
    },
    {
     "name": "stderr",
     "output_type": "stream",
     "text": [
      "<suds.sax.document.Document object at 0x115cb3f28>\n"
     ]
    },
    {
     "name": "stdout",
     "output_type": "stream",
     "text": [
      "ERROR ON AUT AU= 'KARAHAN OGUZ'\n",
      "1751\n"
     ]
    },
    {
     "name": "stderr",
     "output_type": "stream",
     "text": [
      "<suds.sax.document.Document object at 0x1120bbcf8>\n"
     ]
    },
    {
     "name": "stdout",
     "output_type": "stream",
     "text": [
      "ERROR ON AUT AU='SARIGUZEL FATMA MUTLU'\n",
      "1752\n"
     ]
    },
    {
     "name": "stderr",
     "output_type": "stream",
     "text": [
      "<suds.sax.document.Document object at 0x115f94e48>\n"
     ]
    },
    {
     "name": "stdout",
     "output_type": "stream",
     "text": [
      "ERROR ON AUT AU='BILGIC FUNDAGUL'\n",
      "1753\n"
     ]
    },
    {
     "name": "stderr",
     "output_type": "stream",
     "text": [
      "<suds.sax.document.Document object at 0x1159bc898>\n"
     ]
    },
    {
     "name": "stdout",
     "output_type": "stream",
     "text": [
      "ERROR ON AUT AU= 'URANUES SELMAN'\n",
      "1754\n"
     ]
    },
    {
     "name": "stderr",
     "output_type": "stream",
     "text": [
      "<suds.sax.document.Document object at 0x15151c9b0>\n"
     ]
    },
    {
     "name": "stdout",
     "output_type": "stream",
     "text": [
      "ERROR ON AUT AU= 'TUFAN ABDURRAHMAN'\n",
      "1755\n"
     ]
    },
    {
     "name": "stderr",
     "output_type": "stream",
     "text": [
      "<suds.sax.document.Document object at 0x115cb3cc0>\n"
     ]
    },
    {
     "name": "stdout",
     "output_type": "stream",
     "text": [
      "ERROR ON AUT AU='TOKAT ARIF OSMAN'\n",
      "1756\n"
     ]
    },
    {
     "name": "stderr",
     "output_type": "stream",
     "text": [
      "<suds.sax.document.Document object at 0x115cb35f8>\n"
     ]
    },
    {
     "name": "stdout",
     "output_type": "stream",
     "text": [
      "ERROR ON AUT AU='USTUNER MEHMET C.'\n",
      "1757\n"
     ]
    },
    {
     "name": "stderr",
     "output_type": "stream",
     "text": [
      "<suds.sax.document.Document object at 0x113c59080>\n"
     ]
    },
    {
     "name": "stdout",
     "output_type": "stream",
     "text": [
      "ERROR ON AUT AU='YUKSEL MEHMET AYTAC'\n",
      "1758\n"
     ]
    },
    {
     "name": "stderr",
     "output_type": "stream",
     "text": [
      "<suds.sax.document.Document object at 0x115976048>\n"
     ]
    },
    {
     "name": "stdout",
     "output_type": "stream",
     "text": [
      "ERROR ON AUT AU= 'ALIAGAOGLU CIHANGIR'\n",
      "1759\n"
     ]
    },
    {
     "name": "stderr",
     "output_type": "stream",
     "text": [
      "<suds.sax.document.Document object at 0x1124c7390>\n"
     ]
    },
    {
     "name": "stdout",
     "output_type": "stream",
     "text": [
      "ERROR ON AUT AU= 'AKSOY ADNAN'\n",
      "1760\n"
     ]
    },
    {
     "name": "stderr",
     "output_type": "stream",
     "text": [
      "<suds.sax.document.Document object at 0x1159bc3c8>\n"
     ]
    },
    {
     "name": "stdout",
     "output_type": "stream",
     "text": [
      "ERROR ON AUT AU='ARIOZ UMUT'\n",
      "1761\n"
     ]
    },
    {
     "name": "stderr",
     "output_type": "stream",
     "text": [
      "<suds.sax.document.Document object at 0x1120c2d68>\n"
     ]
    },
    {
     "name": "stdout",
     "output_type": "stream",
     "text": [
      "ERROR ON AUT AU= 'SOYLEMEZ BURCAK'\n",
      "1762\n"
     ]
    },
    {
     "name": "stderr",
     "output_type": "stream",
     "text": [
      "<suds.sax.document.Document object at 0x115b25748>\n"
     ]
    },
    {
     "name": "stdout",
     "output_type": "stream",
     "text": [
      "ERROR ON AUT AU= 'ISIKAY NURGUL'\n",
      "1763\n"
     ]
    },
    {
     "name": "stderr",
     "output_type": "stream",
     "text": [
      "<suds.sax.document.Document object at 0x1161cfb70>\n"
     ]
    },
    {
     "name": "stdout",
     "output_type": "stream",
     "text": [
      "ERROR ON AUT AU= 'KAP OZLEM'\n",
      "1764\n"
     ]
    },
    {
     "name": "stderr",
     "output_type": "stream",
     "text": [
      "<suds.sax.document.Document object at 0x115e0dd30>\n"
     ]
    },
    {
     "name": "stdout",
     "output_type": "stream",
     "text": [
      "ERROR ON AUT AU= 'CINAR MUSTAFA'\n",
      "1765\n"
     ]
    },
    {
     "name": "stderr",
     "output_type": "stream",
     "text": [
      "<suds.sax.document.Document object at 0x115e0d1d0>\n"
     ]
    },
    {
     "name": "stdout",
     "output_type": "stream",
     "text": [
      "ERROR ON AUT AU= 'BOZKURT MEHMET FATIH'\n",
      "1766\n"
     ]
    },
    {
     "name": "stderr",
     "output_type": "stream",
     "text": [
      "<suds.sax.document.Document object at 0x1159bc780>\n"
     ]
    },
    {
     "name": "stdout",
     "output_type": "stream",
     "text": [
      "ERROR ON AUT AU= 'KARA SEMRA'\n",
      "1767\n"
     ]
    },
    {
     "name": "stderr",
     "output_type": "stream",
     "text": [
      "<suds.sax.document.Document object at 0x113c81e48>\n"
     ]
    },
    {
     "name": "stdout",
     "output_type": "stream",
     "text": [
      "ERROR ON AUT AU= 'BACANLI ZEHRA'\n",
      "1768\n"
     ]
    },
    {
     "name": "stderr",
     "output_type": "stream",
     "text": [
      "<suds.sax.document.Document object at 0x113c81a90>\n"
     ]
    },
    {
     "name": "stdout",
     "output_type": "stream",
     "text": [
      "ERROR ON AUT AU= 'ALPER EMRAH'\n",
      "1769\n"
     ]
    },
    {
     "name": "stderr",
     "output_type": "stream",
     "text": [
      "<suds.sax.document.Document object at 0x113c59588>\n"
     ]
    },
    {
     "name": "stdout",
     "output_type": "stream",
     "text": [
      "ERROR ON AUT AU= 'KARALEZLI NAZIM'\n",
      "1770\n"
     ]
    },
    {
     "name": "stderr",
     "output_type": "stream",
     "text": [
      "<suds.sax.document.Document object at 0x115e0d978>\n"
     ]
    },
    {
     "name": "stdout",
     "output_type": "stream",
     "text": [
      "ERROR ON AUT AU='CAKMAKLIOGULLARI ELCIN KAL'\n",
      "1771\n"
     ]
    },
    {
     "name": "stderr",
     "output_type": "stream",
     "text": [
      "<suds.sax.document.Document object at 0x1124c7550>\n"
     ]
    },
    {
     "name": "stdout",
     "output_type": "stream",
     "text": [
      "ERROR ON AUT AU= 'DEMIRTAS SINAN'\n",
      "1772\n"
     ]
    },
    {
     "name": "stderr",
     "output_type": "stream",
     "text": [
      "<suds.sax.document.Document object at 0x115976160>\n"
     ]
    },
    {
     "name": "stdout",
     "output_type": "stream",
     "text": [
      "ERROR ON AUT AU='YIGIT TEVFIK'\n",
      "1773\n"
     ]
    },
    {
     "name": "stderr",
     "output_type": "stream",
     "text": [
      "<suds.sax.document.Document object at 0x115cdecc0>\n"
     ]
    },
    {
     "name": "stdout",
     "output_type": "stream",
     "text": [
      "ERROR ON AUT AU= 'OZIC CEM'\n",
      "1774\n"
     ]
    },
    {
     "name": "stderr",
     "output_type": "stream",
     "text": [
      "<suds.sax.document.Document object at 0x115cb3ba8>\n"
     ]
    },
    {
     "name": "stdout",
     "output_type": "stream",
     "text": [
      "ERROR ON AUT AU= 'BELASSEL MOHAMMED'\n",
      "1775\n"
     ]
    },
    {
     "name": "stderr",
     "output_type": "stream",
     "text": [
      "<suds.sax.document.Document object at 0x113c59550>\n"
     ]
    },
    {
     "name": "stdout",
     "output_type": "stream",
     "text": [
      "ERROR ON AUT AU= 'ILDIZLI MUGE'\n",
      "1776\n"
     ]
    },
    {
     "name": "stderr",
     "output_type": "stream",
     "text": [
      "<suds.sax.document.Document object at 0x115f21e80>\n"
     ]
    },
    {
     "name": "stdout",
     "output_type": "stream",
     "text": [
      "ERROR ON AUT AU= 'GIRGIN IBRAHIM'\n",
      "1777\n"
     ]
    },
    {
     "name": "stderr",
     "output_type": "stream",
     "text": [
      "<suds.sax.document.Document object at 0x115f21f98>\n"
     ]
    },
    {
     "name": "stdout",
     "output_type": "stream",
     "text": [
      "ERROR ON AUT AU= 'CEYLAN ERGUN'\n",
      "1778\n"
     ]
    },
    {
     "name": "stderr",
     "output_type": "stream",
     "text": [
      "<suds.sax.document.Document object at 0x1159bcf60>\n"
     ]
    },
    {
     "name": "stdout",
     "output_type": "stream",
     "text": [
      "ERROR ON AUT AU= 'BASARSLAN FATMAGUL'\n",
      "1779\n"
     ]
    },
    {
     "name": "stderr",
     "output_type": "stream",
     "text": [
      "<suds.sax.document.Document object at 0x111f74588>\n"
     ]
    },
    {
     "name": "stdout",
     "output_type": "stream",
     "text": [
      "ERROR ON AUT AU= 'ALICI HAYRI'\n",
      "1780\n"
     ]
    },
    {
     "name": "stderr",
     "output_type": "stream",
     "text": [
      "<suds.sax.document.Document object at 0x115cb35f8>\n"
     ]
    },
    {
     "name": "stdout",
     "output_type": "stream",
     "text": [
      "ERROR ON AUT AU='ASIL MEHMET'\n",
      "1781\n"
     ]
    },
    {
     "name": "stderr",
     "output_type": "stream",
     "text": [
      "<suds.sax.document.Document object at 0x113c59978>\n"
     ]
    },
    {
     "name": "stdout",
     "output_type": "stream",
     "text": [
      "ERROR ON AUT AU='ALTAN BURCU AYSE'\n",
      "1782\n"
     ]
    },
    {
     "name": "stderr",
     "output_type": "stream",
     "text": [
      "<suds.sax.document.Document object at 0x112a87470>\n"
     ]
    },
    {
     "name": "stdout",
     "output_type": "stream",
     "text": [
      "ERROR ON AUT AU= 'SENSOY GUELNAR'\n",
      "1783\n"
     ]
    },
    {
     "name": "stderr",
     "output_type": "stream",
     "text": [
      "<suds.sax.document.Document object at 0x1124c7dd8>\n"
     ]
    },
    {
     "name": "stdout",
     "output_type": "stream",
     "text": [
      "ERROR ON AUT AU='DINCBAS FAZILET ONER'\n",
      "1784\n"
     ]
    },
    {
     "name": "stderr",
     "output_type": "stream",
     "text": [
      "<suds.sax.document.Document object at 0x1159bc7b8>\n"
     ]
    },
    {
     "name": "stdout",
     "output_type": "stream",
     "text": [
      "ERROR ON AUT AU= 'YUECEL TUBA'\n",
      "1785\n"
     ]
    },
    {
     "name": "stderr",
     "output_type": "stream",
     "text": [
      "<suds.sax.document.Document object at 0x117f747f0>\n"
     ]
    },
    {
     "name": "stdout",
     "output_type": "stream",
     "text": [
      "ERROR ON AUT AU= 'ORAL MEHMET KEREM'\n",
      "1786\n"
     ]
    },
    {
     "name": "stderr",
     "output_type": "stream",
     "text": [
      "<suds.sax.document.Document object at 0x117f747b8>\n"
     ]
    },
    {
     "name": "stdout",
     "output_type": "stream",
     "text": [
      "ERROR ON AUT AU= 'YUCEL CEMIL'\n",
      "1787\n"
     ]
    },
    {
     "name": "stderr",
     "output_type": "stream",
     "text": [
      "<suds.sax.document.Document object at 0x115f217b8>\n"
     ]
    },
    {
     "name": "stdout",
     "output_type": "stream",
     "text": [
      "ERROR ON AUT AU= 'DINCER TUBA'\n",
      "1788\n"
     ]
    },
    {
     "name": "stderr",
     "output_type": "stream",
     "text": [
      "<suds.sax.document.Document object at 0x1161cfdd8>\n"
     ]
    },
    {
     "name": "stdout",
     "output_type": "stream",
     "text": [
      "ERROR ON AUT AU='YUR FATMAGUL'\n",
      "1789\n"
     ]
    },
    {
     "name": "stderr",
     "output_type": "stream",
     "text": [
      "<suds.sax.document.Document object at 0x115e0d080>\n"
     ]
    },
    {
     "name": "stdout",
     "output_type": "stream",
     "text": [
      "ERROR ON AUT AU= 'ALGUL OZTEKIN'\n",
      "1790\n"
     ]
    },
    {
     "name": "stderr",
     "output_type": "stream",
     "text": [
      "<suds.sax.document.Document object at 0x115cde550>\n"
     ]
    },
    {
     "name": "stdout",
     "output_type": "stream",
     "text": [
      "ERROR ON AUT AU= 'HAKYEMEZ ISMAIL'\n",
      "1791\n"
     ]
    },
    {
     "name": "stderr",
     "output_type": "stream",
     "text": [
      "<suds.sax.document.Document object at 0x1159761d0>\n"
     ]
    },
    {
     "name": "stdout",
     "output_type": "stream",
     "text": [
      "ERROR ON AUT AU= 'DOGER CIHAN'\n",
      "1792\n"
     ]
    },
    {
     "name": "stderr",
     "output_type": "stream",
     "text": [
      "<suds.sax.document.Document object at 0x117f74b70>\n"
     ]
    },
    {
     "name": "stdout",
     "output_type": "stream",
     "text": [
      "ERROR ON AUT AU= 'ERTENLI IHSAN'\n",
      "1793\n"
     ]
    },
    {
     "name": "stderr",
     "output_type": "stream",
     "text": [
      "<suds.sax.document.Document object at 0x115f21630>\n"
     ]
    },
    {
     "name": "stdout",
     "output_type": "stream",
     "text": [
      "ERROR ON AUT AU= 'ESER OZLEM'\n",
      "1794\n"
     ]
    },
    {
     "name": "stderr",
     "output_type": "stream",
     "text": [
      "<suds.sax.document.Document object at 0x1120bb2b0>\n"
     ]
    },
    {
     "name": "stdout",
     "output_type": "stream",
     "text": [
      "ERROR ON AUT AU= 'GOKTAN ASLI'\n",
      "1795\n"
     ]
    },
    {
     "name": "stderr",
     "output_type": "stream",
     "text": [
      "<suds.sax.document.Document object at 0x115e0dcf8>\n"
     ]
    },
    {
     "name": "stdout",
     "output_type": "stream",
     "text": [
      "ERROR ON AUT AU= 'CANPOLAT SILA'\n",
      "1796\n"
     ]
    },
    {
     "name": "stderr",
     "output_type": "stream",
     "text": [
      "<suds.sax.document.Document object at 0x115cde278>\n"
     ]
    },
    {
     "name": "stdout",
     "output_type": "stream",
     "text": [
      "ERROR ON AUT AU= 'SARICI MURAT'\n",
      "1797\n"
     ]
    },
    {
     "name": "stderr",
     "output_type": "stream",
     "text": [
      "<suds.sax.document.Document object at 0x113c59dd8>\n"
     ]
    },
    {
     "name": "stdout",
     "output_type": "stream",
     "text": [
      "ERROR ON AUT AU= 'BILGI AHMET SECKIN'\n",
      "1798\n"
     ]
    },
    {
     "name": "stderr",
     "output_type": "stream",
     "text": [
      "<suds.sax.document.Document object at 0x117f747b8>\n"
     ]
    },
    {
     "name": "stdout",
     "output_type": "stream",
     "text": [
      "ERROR ON AUT AU='BASARANOGLU SERDAR'\n",
      "1799\n"
     ]
    },
    {
     "name": "stderr",
     "output_type": "stream",
     "text": [
      "<suds.sax.document.Document object at 0x115f21668>\n"
     ]
    },
    {
     "name": "stdout",
     "output_type": "stream",
     "text": [
      "ERROR ON AUT AU= 'TAY TURGAY'\n",
      "1800\n"
     ]
    },
    {
     "name": "stderr",
     "output_type": "stream",
     "text": [
      "<suds.sax.document.Document object at 0x115b255f8>\n"
     ]
    },
    {
     "name": "stdout",
     "output_type": "stream",
     "text": [
      "ERROR ON AUT AU= 'FARIMAZ HATICE'\n",
      "1801\n"
     ]
    },
    {
     "name": "stderr",
     "output_type": "stream",
     "text": [
      "<suds.sax.document.Document object at 0x115b25080>\n"
     ]
    },
    {
     "name": "stdout",
     "output_type": "stream",
     "text": [
      "ERROR ON AUT AU= 'TASTAN BEKIR'\n",
      "1802\n"
     ]
    },
    {
     "name": "stderr",
     "output_type": "stream",
     "text": [
      "<suds.sax.document.Document object at 0x115cde4e0>\n"
     ]
    },
    {
     "name": "stdout",
     "output_type": "stream",
     "text": [
      "ERROR ON AUT AU='OZERBIL ONDER'\n",
      "1803\n"
     ]
    },
    {
     "name": "stderr",
     "output_type": "stream",
     "text": [
      "<suds.sax.document.Document object at 0x115cb32e8>\n"
     ]
    },
    {
     "name": "stdout",
     "output_type": "stream",
     "text": [
      "ERROR ON AUT AU='YAHAYA MUHAMAD ZAMRI'\n",
      "1804\n"
     ]
    },
    {
     "name": "stderr",
     "output_type": "stream",
     "text": [
      "<suds.sax.document.Document object at 0x115cb3400>\n"
     ]
    },
    {
     "name": "stdout",
     "output_type": "stream",
     "text": [
      "ERROR ON AUT AU= 'YALINKILIC BARIS'\n",
      "1805\n"
     ]
    },
    {
     "name": "stderr",
     "output_type": "stream",
     "text": [
      "<suds.sax.document.Document object at 0x115f21c18>\n"
     ]
    },
    {
     "name": "stdout",
     "output_type": "stream",
     "text": [
      "ERROR ON AUT AU= 'YILDIZ ISA'\n",
      "1806\n"
     ]
    },
    {
     "name": "stderr",
     "output_type": "stream",
     "text": [
      "<suds.sax.document.Document object at 0x115e0d320>\n"
     ]
    },
    {
     "name": "stdout",
     "output_type": "stream",
     "text": [
      "ERROR ON AUT AU= 'DAGLAR BAHADIR'\n",
      "1807\n"
     ]
    },
    {
     "name": "stderr",
     "output_type": "stream",
     "text": [
      "<suds.sax.document.Document object at 0x115e0d2b0>\n"
     ]
    },
    {
     "name": "stdout",
     "output_type": "stream",
     "text": [
      "ERROR ON AUT AU= 'KARAOGLU SEDA'\n",
      "1808\n"
     ]
    },
    {
     "name": "stderr",
     "output_type": "stream",
     "text": [
      "<suds.sax.document.Document object at 0x115cde048>\n"
     ]
    },
    {
     "name": "stdout",
     "output_type": "stream",
     "text": [
      "ERROR ON AUT AU= 'INANC BETUL BATTALOGLU'\n",
      "1809\n"
     ]
    },
    {
     "name": "stderr",
     "output_type": "stream",
     "text": [
      "<suds.sax.document.Document object at 0x1124c7668>\n"
     ]
    },
    {
     "name": "stdout",
     "output_type": "stream",
     "text": [
      "ERROR ON AUT AU= 'YILDIZDAS DINCER'\n",
      "1810\n"
     ]
    },
    {
     "name": "stderr",
     "output_type": "stream",
     "text": [
      "<suds.sax.document.Document object at 0x117f747b8>\n"
     ]
    },
    {
     "name": "stdout",
     "output_type": "stream",
     "text": [
      "ERROR ON AUT AU= 'ATABAY TENNUR'\n",
      "1811\n"
     ]
    },
    {
     "name": "stderr",
     "output_type": "stream",
     "text": [
      "<suds.sax.document.Document object at 0x115f21518>\n"
     ]
    },
    {
     "name": "stdout",
     "output_type": "stream",
     "text": [
      "ERROR ON AUT AU='TILKI MUAMMER'\n",
      "1812\n"
     ]
    },
    {
     "name": "stderr",
     "output_type": "stream",
     "text": [
      "<suds.sax.document.Document object at 0x1159762b0>\n"
     ]
    },
    {
     "name": "stdout",
     "output_type": "stream",
     "text": [
      "ERROR ON AUT AU= 'MENTESE AHMET'\n",
      "1813\n"
     ]
    },
    {
     "name": "stderr",
     "output_type": "stream",
     "text": [
      "<suds.sax.document.Document object at 0x1159bce80>\n"
     ]
    },
    {
     "name": "stdout",
     "output_type": "stream",
     "text": [
      "ERROR ON AUT AU='ILHAN SALIH'\n",
      "1814\n"
     ]
    },
    {
     "name": "stderr",
     "output_type": "stream",
     "text": [
      "<suds.sax.document.Document object at 0x115cdec50>\n"
     ]
    },
    {
     "name": "stdout",
     "output_type": "stream",
     "text": [
      "ERROR ON AUT AU= 'ASEE'\n",
      "1815\n"
     ]
    },
    {
     "name": "stderr",
     "output_type": "stream",
     "text": [
      "<suds.sax.document.Document object at 0x1124c7f28>\n"
     ]
    },
    {
     "name": "stdout",
     "output_type": "stream",
     "text": [
      "ERROR ON AUT AU= 'SAHIN NILAY'\n",
      "1816\n"
     ]
    },
    {
     "name": "stderr",
     "output_type": "stream",
     "text": [
      "<suds.sax.document.Document object at 0x117f74908>\n"
     ]
    },
    {
     "name": "stdout",
     "output_type": "stream",
     "text": [
      "ERROR ON AUT AU='OLMEZ ERCUMENT'\n",
      "1817\n"
     ]
    },
    {
     "name": "stderr",
     "output_type": "stream",
     "text": [
      "<suds.sax.document.Document object at 0x115f212e8>\n"
     ]
    },
    {
     "name": "stdout",
     "output_type": "stream",
     "text": [
      "ERROR ON AUT AU= 'OZEN UMUT'\n",
      "1818\n"
     ]
    },
    {
     "name": "stderr",
     "output_type": "stream",
     "text": [
      "<suds.sax.document.Document object at 0x115f94ba8>\n"
     ]
    },
    {
     "name": "stdout",
     "output_type": "stream",
     "text": [
      "ERROR ON AUT AU= 'MELETIS EFSTATHIOS I.'\n",
      "1819\n"
     ]
    },
    {
     "name": "stderr",
     "output_type": "stream",
     "text": [
      "<suds.sax.document.Document object at 0x115f94278>\n"
     ]
    },
    {
     "name": "stdout",
     "output_type": "stream",
     "text": [
      "ERROR ON AUT AU='KIRNAP MEHMET'\n",
      "1820\n"
     ]
    },
    {
     "name": "stderr",
     "output_type": "stream",
     "text": [
      "<suds.sax.document.Document object at 0x113c81940>\n"
     ]
    },
    {
     "name": "stdout",
     "output_type": "stream",
     "text": [
      "ERROR ON AUT AU= 'SARKILAR GAMZE'\n",
      "1821\n"
     ]
    },
    {
     "name": "stderr",
     "output_type": "stream",
     "text": [
      "<suds.sax.document.Document object at 0x113c818d0>\n"
     ]
    },
    {
     "name": "stdout",
     "output_type": "stream",
     "text": [
      "ERROR ON AUT AU= 'OZDEMIR SADIN'\n",
      "1822\n"
     ]
    },
    {
     "name": "stderr",
     "output_type": "stream",
     "text": [
      "<suds.sax.document.Document object at 0x113c814a8>\n"
     ]
    },
    {
     "name": "stdout",
     "output_type": "stream",
     "text": [
      "ERROR ON AUT AU= 'UCAR FILIZ'\n",
      "1823\n"
     ]
    },
    {
     "name": "stderr",
     "output_type": "stream",
     "text": [
      "<suds.sax.document.Document object at 0x1159bc358>\n"
     ]
    },
    {
     "name": "stdout",
     "output_type": "stream",
     "text": [
      "ERROR ON AUT AU= 'MEYDAN BILGE CAN'\n",
      "1824\n"
     ]
    },
    {
     "name": "stderr",
     "output_type": "stream",
     "text": [
      "<suds.sax.document.Document object at 0x115b25c50>\n"
     ]
    },
    {
     "name": "stdout",
     "output_type": "stream",
     "text": [
      "ERROR ON AUT AU= 'DUMAN ERMAN'\n",
      "1825\n"
     ]
    },
    {
     "name": "stderr",
     "output_type": "stream",
     "text": [
      "<suds.sax.document.Document object at 0x115b25a58>\n"
     ]
    },
    {
     "name": "stdout",
     "output_type": "stream",
     "text": [
      "ERROR ON AUT AU= 'ER SAID ENES'\n",
      "1826\n"
     ]
    },
    {
     "name": "stderr",
     "output_type": "stream",
     "text": [
      "<suds.sax.document.Document object at 0x1124c7860>\n"
     ]
    },
    {
     "name": "stdout",
     "output_type": "stream",
     "text": [
      "ERROR ON AUT AU= 'HASCELIK GULSEN'\n",
      "1827\n"
     ]
    },
    {
     "name": "stderr",
     "output_type": "stream",
     "text": [
      "<suds.sax.document.Document object at 0x117f74630>\n"
     ]
    },
    {
     "name": "stdout",
     "output_type": "stream",
     "text": [
      "ERROR ON AUT AU= 'YAGIZ AYSEGUL KARTAL'\n",
      "1828\n"
     ]
    },
    {
     "name": "stderr",
     "output_type": "stream",
     "text": [
      "<suds.sax.document.Document object at 0x113c814a8>\n"
     ]
    },
    {
     "name": "stdout",
     "output_type": "stream",
     "text": [
      "ERROR ON AUT AU='BAYRAM UMIT'\n",
      "1829\n"
     ]
    },
    {
     "name": "stderr",
     "output_type": "stream",
     "text": [
      "<suds.sax.document.Document object at 0x1159bc470>\n"
     ]
    },
    {
     "name": "stdout",
     "output_type": "stream",
     "text": [
      "ERROR ON AUT AU='BALKUV ECE'\n",
      "1830\n"
     ]
    },
    {
     "name": "stderr",
     "output_type": "stream",
     "text": [
      "<suds.sax.document.Document object at 0x115b25dd8>\n"
     ]
    },
    {
     "name": "stdout",
     "output_type": "stream",
     "text": [
      "ERROR ON AUT AU='ORUC SERDAR'\n",
      "1831\n"
     ]
    },
    {
     "name": "stderr",
     "output_type": "stream",
     "text": [
      "<suds.sax.document.Document object at 0x115b25e48>\n"
     ]
    },
    {
     "name": "stdout",
     "output_type": "stream",
     "text": [
      "ERROR ON AUT AU= 'KAHRAMAN CENGIZ'\n",
      "1832\n"
     ]
    },
    {
     "name": "stderr",
     "output_type": "stream",
     "text": [
      "<suds.sax.document.Document object at 0x1124c7630>\n"
     ]
    },
    {
     "name": "stdout",
     "output_type": "stream",
     "text": [
      "ERROR ON AUT AU= 'CINGI CEMAL'\n",
      "1833\n"
     ]
    },
    {
     "name": "stderr",
     "output_type": "stream",
     "text": [
      "<suds.sax.document.Document object at 0x113c597f0>\n"
     ]
    },
    {
     "name": "stdout",
     "output_type": "stream",
     "text": [
      "ERROR ON AUT AU= 'BAL UFUK'\n",
      "1834\n"
     ]
    },
    {
     "name": "stderr",
     "output_type": "stream",
     "text": [
      "<suds.sax.document.Document object at 0x113c81a90>\n"
     ]
    },
    {
     "name": "stdout",
     "output_type": "stream",
     "text": [
      "ERROR ON AUT AU='DEMIRCAN AYDIN'\n",
      "1835\n"
     ]
    },
    {
     "name": "stderr",
     "output_type": "stream",
     "text": [
      "<suds.sax.document.Document object at 0x1159bc978>\n"
     ]
    },
    {
     "name": "stdout",
     "output_type": "stream",
     "text": [
      "ERROR ON AUT AU= 'ALPASLAN MUHAMMED'\n",
      "1836\n"
     ]
    },
    {
     "name": "stderr",
     "output_type": "stream",
     "text": [
      "<suds.sax.document.Document object at 0x115976320>\n"
     ]
    },
    {
     "name": "stdout",
     "output_type": "stream",
     "text": [
      "ERROR ON AUT AU='YUCESIR ILKER'\n",
      "1837\n"
     ]
    },
    {
     "name": "stderr",
     "output_type": "stream",
     "text": [
      "<suds.sax.document.Document object at 0x112a872b0>\n"
     ]
    },
    {
     "name": "stdout",
     "output_type": "stream",
     "text": [
      "ERROR ON AUT AU= 'HAMMOUTI B.'\n",
      "1838\n"
     ]
    },
    {
     "name": "stderr",
     "output_type": "stream",
     "text": [
      "<suds.sax.document.Document object at 0x1124c76a0>\n"
     ]
    },
    {
     "name": "stdout",
     "output_type": "stream",
     "text": [
      "ERROR ON AUT AU='BADEMKIRAN SERVET'\n",
      "1839\n"
     ]
    },
    {
     "name": "stderr",
     "output_type": "stream",
     "text": [
      "<suds.sax.document.Document object at 0x115f94c88>\n"
     ]
    },
    {
     "name": "stdout",
     "output_type": "stream",
     "text": [
      "ERROR ON AUT AU= 'IPEK SEMRAN'\n",
      "1840\n"
     ]
    },
    {
     "name": "stderr",
     "output_type": "stream",
     "text": [
      "<suds.sax.document.Document object at 0x115f94128>\n"
     ]
    },
    {
     "name": "stdout",
     "output_type": "stream",
     "text": [
      "ERROR ON AUT AU= 'OZKAN TURKER'\n",
      "1841\n"
     ]
    },
    {
     "name": "stderr",
     "output_type": "stream",
     "text": [
      "<suds.sax.document.Document object at 0x1159bc8d0>\n"
     ]
    },
    {
     "name": "stdout",
     "output_type": "stream",
     "text": [
      "ERROR ON AUT AU='SUNNETCIOGLU AYSEL'\n",
      "1842\n"
     ]
    },
    {
     "name": "stderr",
     "output_type": "stream",
     "text": [
      "<suds.sax.document.Document object at 0x1161cfc50>\n"
     ]
    },
    {
     "name": "stdout",
     "output_type": "stream",
     "text": [
      "ERROR ON AUT AU= 'TUNCER MELTEM'\n",
      "1843\n"
     ]
    },
    {
     "name": "stderr",
     "output_type": "stream",
     "text": [
      "<suds.sax.document.Document object at 0x115cde198>\n"
     ]
    },
    {
     "name": "stdout",
     "output_type": "stream",
     "text": [
      "ERROR ON AUT AU= 'OZKANLAR YUNUSEMRE'\n",
      "1844\n"
     ]
    },
    {
     "name": "stderr",
     "output_type": "stream",
     "text": [
      "<suds.sax.document.Document object at 0x1124c7710>\n"
     ]
    },
    {
     "name": "stdout",
     "output_type": "stream",
     "text": [
      "ERROR ON AUT AU= 'YILDIZ MEHMET ERDEM'\n",
      "1845\n"
     ]
    },
    {
     "name": "stderr",
     "output_type": "stream",
     "text": [
      "<suds.sax.document.Document object at 0x1120c2748>\n"
     ]
    },
    {
     "name": "stdout",
     "output_type": "stream",
     "text": [
      "ERROR ON AUT AU= 'OZCAN VEFA'\n",
      "1846\n"
     ]
    },
    {
     "name": "stderr",
     "output_type": "stream",
     "text": [
      "<suds.sax.document.Document object at 0x115f94c88>\n"
     ]
    },
    {
     "name": "stdout",
     "output_type": "stream",
     "text": [
      "ERROR ON AUT AU='YILMAZ AMINE'\n",
      "1847\n"
     ]
    },
    {
     "name": "stderr",
     "output_type": "stream",
     "text": [
      "<suds.sax.document.Document object at 0x1159bcdd8>\n"
     ]
    },
    {
     "name": "stdout",
     "output_type": "stream",
     "text": [
      "ERROR ON AUT AU= 'MURK WILLIAM'\n",
      "1848\n"
     ]
    },
    {
     "name": "stderr",
     "output_type": "stream",
     "text": [
      "<suds.sax.document.Document object at 0x115f215f8>\n"
     ]
    },
    {
     "name": "stdout",
     "output_type": "stream",
     "text": [
      "ERROR ON AUT AU= 'DINLEYICI ENER CAGRI'\n",
      "1849\n"
     ]
    },
    {
     "name": "stderr",
     "output_type": "stream",
     "text": [
      "<suds.sax.document.Document object at 0x115f21d30>\n"
     ]
    },
    {
     "name": "stdout",
     "output_type": "stream",
     "text": [
      "ERROR ON AUT AU= 'ADAM MEHMET'\n",
      "1850\n"
     ]
    },
    {
     "name": "stderr",
     "output_type": "stream",
     "text": [
      "<suds.sax.document.Document object at 0x115cb3a20>\n"
     ]
    },
    {
     "name": "stdout",
     "output_type": "stream",
     "text": [
      "ERROR ON AUT AU= 'OZKALIPCI ONDER'\n",
      "1851\n"
     ]
    },
    {
     "name": "stderr",
     "output_type": "stream",
     "text": [
      "<suds.sax.document.Document object at 0x117f74630>\n"
     ]
    },
    {
     "name": "stdout",
     "output_type": "stream",
     "text": [
      "ERROR ON AUT AU= 'HUSAIN MALEHA'\n",
      "1852\n"
     ]
    },
    {
     "name": "stderr",
     "output_type": "stream",
     "text": [
      "<suds.sax.document.Document object at 0x115f94ba8>\n"
     ]
    },
    {
     "name": "stdout",
     "output_type": "stream",
     "text": [
      "ERROR ON AUT AU='ARIKAN KEMAL'\n",
      "1853\n"
     ]
    },
    {
     "name": "stderr",
     "output_type": "stream",
     "text": [
      "<suds.sax.document.Document object at 0x1124c7eb8>\n"
     ]
    },
    {
     "name": "stdout",
     "output_type": "stream",
     "text": [
      "ERROR ON AUT AU= 'GUZEL HALIL IBRAHIM'\n",
      "1854\n"
     ]
    },
    {
     "name": "stderr",
     "output_type": "stream",
     "text": [
      "<suds.sax.document.Document object at 0x115e0dbe0>\n"
     ]
    },
    {
     "name": "stdout",
     "output_type": "stream",
     "text": [
      "ERROR ON AUT AU= 'CAYCI MUHAMMET KASIM'\n",
      "1855\n"
     ]
    },
    {
     "name": "stderr",
     "output_type": "stream",
     "text": [
      "<suds.sax.document.Document object at 0x115f21668>\n"
     ]
    },
    {
     "name": "stdout",
     "output_type": "stream",
     "text": [
      "ERROR ON AUT AU= 'HENEIN MICHAEL'\n",
      "1856\n"
     ]
    },
    {
     "name": "stderr",
     "output_type": "stream",
     "text": [
      "<suds.sax.document.Document object at 0x115cb37f0>\n"
     ]
    },
    {
     "name": "stdout",
     "output_type": "stream",
     "text": [
      "ERROR ON AUT AU= 'GOETZ CHRISTOPHER G.'\n",
      "1857\n"
     ]
    },
    {
     "name": "stderr",
     "output_type": "stream",
     "text": [
      "<suds.sax.document.Document object at 0x116de80f0>\n"
     ]
    },
    {
     "name": "stdout",
     "output_type": "stream",
     "text": [
      "ERROR ON AUT AU='GOCKEN MUSTAFA'\n",
      "1858\n"
     ]
    },
    {
     "name": "stderr",
     "output_type": "stream",
     "text": [
      "<suds.sax.document.Document object at 0x116de8b70>\n"
     ]
    },
    {
     "name": "stdout",
     "output_type": "stream",
     "text": [
      "ERROR ON AUT AU= 'KHOSHVAGHTI HABIB'\n",
      "1859\n"
     ]
    },
    {
     "name": "stderr",
     "output_type": "stream",
     "text": [
      "<suds.sax.document.Document object at 0x115f21cf8>\n"
     ]
    },
    {
     "name": "stdout",
     "output_type": "stream",
     "text": [
      "ERROR ON AUT AU= 'IRMAK AYSE'\n",
      "1860\n"
     ]
    },
    {
     "name": "stderr",
     "output_type": "stream",
     "text": [
      "<suds.sax.document.Document object at 0x112a875c0>\n"
     ]
    },
    {
     "name": "stdout",
     "output_type": "stream",
     "text": [
      "ERROR ON AUT AU= 'HUANG T'\n",
      "1861\n"
     ]
    },
    {
     "name": "stderr",
     "output_type": "stream",
     "text": [
      "<suds.sax.document.Document object at 0x112a87978>\n"
     ]
    },
    {
     "name": "stdout",
     "output_type": "stream",
     "text": [
      "ERROR ON AUT AU='ZORBOZAN ONUR'\n",
      "1862\n"
     ]
    },
    {
     "name": "stderr",
     "output_type": "stream",
     "text": [
      "<suds.sax.document.Document object at 0x1161cf3c8>\n"
     ]
    },
    {
     "name": "stdout",
     "output_type": "stream",
     "text": [
      "ERROR ON AUT AU= 'KOCTURK SUMEYRA ALKIS'\n",
      "1863\n"
     ]
    },
    {
     "name": "stderr",
     "output_type": "stream",
     "text": [
      "<suds.sax.document.Document object at 0x115cb3e80>\n"
     ]
    },
    {
     "name": "stdout",
     "output_type": "stream",
     "text": [
      "ERROR ON AUT AU='DAI ALPER IBRAHIM'\n",
      "1864\n"
     ]
    },
    {
     "name": "stderr",
     "output_type": "stream",
     "text": [
      "<suds.sax.document.Document object at 0x115e0d3c8>\n"
     ]
    },
    {
     "name": "stdout",
     "output_type": "stream",
     "text": [
      "ERROR ON AUT AU= 'BOUAMOUD MAMMAR'\n",
      "1865\n"
     ]
    },
    {
     "name": "stderr",
     "output_type": "stream",
     "text": [
      "<suds.sax.document.Document object at 0x115f21668>\n"
     ]
    },
    {
     "name": "stdout",
     "output_type": "stream",
     "text": [
      "ERROR ON AUT AU='UCOK KAGAN'\n",
      "1866\n"
     ]
    },
    {
     "name": "stderr",
     "output_type": "stream",
     "text": [
      "<suds.sax.document.Document object at 0x112a87be0>\n"
     ]
    },
    {
     "name": "stdout",
     "output_type": "stream",
     "text": [
      "ERROR ON AUT AU= 'SKOWRON A'\n",
      "1867\n"
     ]
    },
    {
     "name": "stderr",
     "output_type": "stream",
     "text": [
      "<suds.sax.document.Document object at 0x112a87978>\n"
     ]
    },
    {
     "name": "stdout",
     "output_type": "stream",
     "text": [
      "ERROR ON AUT AU= 'HONG JI HEUN'\n",
      "1868\n"
     ]
    },
    {
     "name": "stderr",
     "output_type": "stream",
     "text": [
      "<suds.sax.document.Document object at 0x1120c2780>\n"
     ]
    },
    {
     "name": "stdout",
     "output_type": "stream",
     "text": [
      "ERROR ON AUT AU= 'OZ YASEMIN'\n",
      "1869\n"
     ]
    },
    {
     "name": "stderr",
     "output_type": "stream",
     "text": [
      "<suds.sax.document.Document object at 0x115f94d68>\n"
     ]
    },
    {
     "name": "stdout",
     "output_type": "stream",
     "text": [
      "ERROR ON AUT AU= 'SER GAZEL'\n",
      "1870\n"
     ]
    },
    {
     "name": "stderr",
     "output_type": "stream",
     "text": [
      "<suds.sax.document.Document object at 0x115f94f28>\n"
     ]
    },
    {
     "name": "stdout",
     "output_type": "stream",
     "text": [
      "ERROR ON AUT AU= 'GUNEYISI ERHAN'\n",
      "1871\n"
     ]
    },
    {
     "name": "stderr",
     "output_type": "stream",
     "text": [
      "<suds.sax.document.Document object at 0x115f21550>\n"
     ]
    },
    {
     "name": "stdout",
     "output_type": "stream",
     "text": [
      "ERROR ON AUT AU= 'TORAMAN ZULAL ASCI'\n",
      "1872\n"
     ]
    },
    {
     "name": "stderr",
     "output_type": "stream",
     "text": [
      "<suds.sax.document.Document object at 0x113c59978>\n"
     ]
    },
    {
     "name": "stdout",
     "output_type": "stream",
     "text": [
      "ERROR ON AUT AU='ATAS NUH'\n",
      "1873\n"
     ]
    },
    {
     "name": "stderr",
     "output_type": "stream",
     "text": [
      "<suds.sax.document.Document object at 0x113c59470>\n"
     ]
    },
    {
     "name": "stdout",
     "output_type": "stream",
     "text": [
      "ERROR ON AUT AU= 'OZGURTAS TANER'\n",
      "1874\n"
     ]
    },
    {
     "name": "stderr",
     "output_type": "stream",
     "text": [
      "<suds.sax.document.Document object at 0x115cdefd0>\n"
     ]
    },
    {
     "name": "stdout",
     "output_type": "stream",
     "text": [
      "ERROR ON AUT AU= 'CIFTLER BEKIR SAIT'\n",
      "1875\n"
     ]
    },
    {
     "name": "stderr",
     "output_type": "stream",
     "text": [
      "<suds.sax.document.Document object at 0x113c81a20>\n"
     ]
    },
    {
     "name": "stdout",
     "output_type": "stream",
     "text": [
      "ERROR ON AUT AU='GULEC TRKER'\n",
      "1876\n"
     ]
    },
    {
     "name": "stderr",
     "output_type": "stream",
     "text": [
      "<suds.sax.document.Document object at 0x113c81cf8>\n"
     ]
    },
    {
     "name": "stdout",
     "output_type": "stream",
     "text": [
      "ERROR ON AUT AU= 'ASLAN MEHMET'\n",
      "1877\n"
     ]
    },
    {
     "name": "stderr",
     "output_type": "stream",
     "text": [
      "<suds.sax.document.Document object at 0x1120c29e8>\n"
     ]
    },
    {
     "name": "stdout",
     "output_type": "stream",
     "text": [
      "ERROR ON AUT AU='SECKIN A. KEMAL'\n",
      "1878\n"
     ]
    },
    {
     "name": "stderr",
     "output_type": "stream",
     "text": [
      "<suds.sax.document.Document object at 0x113c59f60>\n"
     ]
    },
    {
     "name": "stdout",
     "output_type": "stream",
     "text": [
      "ERROR ON AUT AU= 'SEVIL ERGUN'\n",
      "1879\n"
     ]
    },
    {
     "name": "stderr",
     "output_type": "stream",
     "text": [
      "<suds.sax.document.Document object at 0x112a87e10>\n"
     ]
    },
    {
     "name": "stdout",
     "output_type": "stream",
     "text": [
      "ERROR ON AUT AU= 'KARASAHIN MUSTAFA'\n",
      "1880\n"
     ]
    },
    {
     "name": "stderr",
     "output_type": "stream",
     "text": [
      "<suds.sax.document.Document object at 0x1120c2a58>\n"
     ]
    },
    {
     "name": "stdout",
     "output_type": "stream",
     "text": [
      "ERROR ON AUT AU= 'PANAYTRCI ERDAL'\n",
      "1881\n"
     ]
    },
    {
     "name": "stderr",
     "output_type": "stream",
     "text": [
      "<suds.sax.document.Document object at 0x1124c7eb8>\n"
     ]
    },
    {
     "name": "stdout",
     "output_type": "stream",
     "text": [
      "ERROR ON AUT AU= 'SEVI LEVENT'\n",
      "1882\n"
     ]
    },
    {
     "name": "stderr",
     "output_type": "stream",
     "text": [
      "<suds.sax.document.Document object at 0x1124c7860>\n"
     ]
    },
    {
     "name": "stdout",
     "output_type": "stream",
     "text": [
      "ERROR ON AUT AU= 'TOKER OMER SAID'\n",
      "1883\n"
     ]
    },
    {
     "name": "stderr",
     "output_type": "stream",
     "text": [
      "<suds.sax.document.Document object at 0x1120c2748>\n"
     ]
    },
    {
     "name": "stdout",
     "output_type": "stream",
     "text": [
      "ERROR ON AUT AU='BEYLERGIL BERTAN'\n",
      "1884\n"
     ]
    },
    {
     "name": "stderr",
     "output_type": "stream",
     "text": [
      "<suds.sax.document.Document object at 0x112a87978>\n"
     ]
    },
    {
     "name": "stdout",
     "output_type": "stream",
     "text": [
      "ERROR ON AUT AU= 'GUVEN OLGAN'\n",
      "1885\n"
     ]
    },
    {
     "name": "stderr",
     "output_type": "stream",
     "text": [
      "<suds.sax.document.Document object at 0x112a87e80>\n"
     ]
    },
    {
     "name": "stdout",
     "output_type": "stream",
     "text": [
      "ERROR ON AUT AU= 'PEKTAS BAYRAM'\n",
      "1886\n"
     ]
    },
    {
     "name": "stderr",
     "output_type": "stream",
     "text": [
      "<suds.sax.document.Document object at 0x1120c2400>\n"
     ]
    },
    {
     "name": "stdout",
     "output_type": "stream",
     "text": [
      "ERROR ON AUT AU= 'DEMIRSOY NESRIN'\n",
      "1887\n"
     ]
    },
    {
     "name": "stderr",
     "output_type": "stream",
     "text": [
      "<suds.sax.document.Document object at 0x1159bc2e8>\n"
     ]
    },
    {
     "name": "stdout",
     "output_type": "stream",
     "text": [
      "ERROR ON AUT AU='TAS UFUK'\n",
      "1888\n"
     ]
    },
    {
     "name": "stderr",
     "output_type": "stream",
     "text": [
      "<suds.sax.document.Document object at 0x1124c7128>\n"
     ]
    },
    {
     "name": "stdout",
     "output_type": "stream",
     "text": [
      "ERROR ON AUT AU= 'AKSIT FILIZ'\n",
      "1889\n"
     ]
    },
    {
     "name": "stderr",
     "output_type": "stream",
     "text": [
      "<suds.sax.document.Document object at 0x115f21ac8>\n"
     ]
    },
    {
     "name": "stdout",
     "output_type": "stream",
     "text": [
      "ERROR ON AUT AU= 'SEVLI SERHAT'\n",
      "1890\n"
     ]
    },
    {
     "name": "stderr",
     "output_type": "stream",
     "text": [
      "<suds.sax.document.Document object at 0x115b257b8>\n"
     ]
    },
    {
     "name": "stdout",
     "output_type": "stream",
     "text": [
      "ERROR ON AUT AU= 'KANDEGER ALI'\n",
      "1891\n"
     ]
    },
    {
     "name": "stderr",
     "output_type": "stream",
     "text": [
      "<suds.sax.document.Document object at 0x112a87e10>\n"
     ]
    },
    {
     "name": "stdout",
     "output_type": "stream",
     "text": [
      "ERROR ON AUT AU= 'SEL KIVANC'\n",
      "1892\n"
     ]
    },
    {
     "name": "stderr",
     "output_type": "stream",
     "text": [
      "<suds.sax.document.Document object at 0x115cb3e80>\n"
     ]
    },
    {
     "name": "stdout",
     "output_type": "stream",
     "text": [
      "ERROR ON AUT AU='HUSSEIN ODAY A.'\n",
      "1893\n"
     ]
    },
    {
     "name": "stderr",
     "output_type": "stream",
     "text": [
      "<suds.sax.document.Document object at 0x115976128>\n"
     ]
    },
    {
     "name": "stdout",
     "output_type": "stream",
     "text": [
      "ERROR ON AUT AU= 'GOVINDARAJAN M.'\n",
      "1894\n"
     ]
    },
    {
     "name": "stderr",
     "output_type": "stream",
     "text": [
      "<suds.sax.document.Document object at 0x116e1a5f8>\n"
     ]
    },
    {
     "name": "stdout",
     "output_type": "stream",
     "text": [
      "ERROR ON AUT AU= 'ALTINDAG AHMET'\n",
      "1895\n"
     ]
    },
    {
     "name": "stderr",
     "output_type": "stream",
     "text": [
      "<suds.sax.document.Document object at 0x1159bc438>\n"
     ]
    },
    {
     "name": "stdout",
     "output_type": "stream",
     "text": [
      "ERROR ON AUT AU= 'KOCER DERYA'\n",
      "1896\n"
     ]
    },
    {
     "name": "stderr",
     "output_type": "stream",
     "text": [
      "<suds.sax.document.Document object at 0x117f74c88>\n"
     ]
    },
    {
     "name": "stdout",
     "output_type": "stream",
     "text": [
      "ERROR ON AUT AU= 'GOKTEKIN MEHMET C.'\n",
      "1897\n"
     ]
    },
    {
     "name": "stderr",
     "output_type": "stream",
     "text": [
      "<suds.sax.document.Document object at 0x115e0d080>\n"
     ]
    },
    {
     "name": "stdout",
     "output_type": "stream",
     "text": [
      "ERROR ON AUT AU= 'EGILMEZ HULUSI'\n",
      "1898\n"
     ]
    },
    {
     "name": "stderr",
     "output_type": "stream",
     "text": [
      "<suds.sax.document.Document object at 0x1124c7c50>\n"
     ]
    },
    {
     "name": "stdout",
     "output_type": "stream",
     "text": [
      "ERROR ON AUT AU= 'ATAR MURAT'\n",
      "1899\n"
     ]
    },
    {
     "name": "stderr",
     "output_type": "stream",
     "text": [
      "<suds.sax.document.Document object at 0x113c59438>\n"
     ]
    },
    {
     "name": "stdout",
     "output_type": "stream",
     "text": [
      "ERROR ON AUT AU='YILDIRIM HATICE'\n",
      "1900\n"
     ]
    },
    {
     "name": "stderr",
     "output_type": "stream",
     "text": [
      "<suds.sax.document.Document object at 0x113c59278>\n"
     ]
    },
    {
     "name": "stdout",
     "output_type": "stream",
     "text": [
      "ERROR ON AUT AU= 'AKYUREK FIKRET'\n",
      "1901\n"
     ]
    },
    {
     "name": "stderr",
     "output_type": "stream",
     "text": [
      "<suds.sax.document.Document object at 0x1159bc438>\n"
     ]
    },
    {
     "name": "stdout",
     "output_type": "stream",
     "text": [
      "ERROR ON AUT AU= 'BUYUKSARAC AYDIN'\n",
      "1902\n"
     ]
    },
    {
     "name": "stderr",
     "output_type": "stream",
     "text": [
      "<suds.sax.document.Document object at 0x116de8ba8>\n"
     ]
    },
    {
     "name": "stdout",
     "output_type": "stream",
     "text": [
      "ERROR ON AUT AU='INAL ESRA ERKOL'\n",
      "1903\n"
     ]
    },
    {
     "name": "stderr",
     "output_type": "stream",
     "text": [
      "<suds.sax.document.Document object at 0x115e0def0>\n"
     ]
    },
    {
     "name": "stdout",
     "output_type": "stream",
     "text": [
      "ERROR ON AUT AU= 'TURAN GULUZAR ARZU'\n",
      "1904\n"
     ]
    },
    {
     "name": "stderr",
     "output_type": "stream",
     "text": [
      "<suds.sax.document.Document object at 0x1124c7518>\n"
     ]
    },
    {
     "name": "stdout",
     "output_type": "stream",
     "text": [
      "ERROR ON AUT AU= 'KARAKAYA EKREM'\n",
      "1905\n"
     ]
    },
    {
     "name": "stderr",
     "output_type": "stream",
     "text": [
      "<suds.sax.document.Document object at 0x115b25278>\n"
     ]
    },
    {
     "name": "stdout",
     "output_type": "stream",
     "text": [
      "ERROR ON AUT AU= 'KAHRAMAN NERMIN'\n",
      "1906\n"
     ]
    },
    {
     "name": "stderr",
     "output_type": "stream",
     "text": [
      "<suds.sax.document.Document object at 0x115b25438>\n"
     ]
    },
    {
     "name": "stdout",
     "output_type": "stream",
     "text": [
      "ERROR ON AUT AU= 'BOSTAN BORA'\n",
      "1907\n"
     ]
    },
    {
     "name": "stderr",
     "output_type": "stream",
     "text": [
      "<suds.sax.document.Document object at 0x1159bc1d0>\n"
     ]
    },
    {
     "name": "stdout",
     "output_type": "stream",
     "text": [
      "ERROR ON AUT AU= 'KARA FUAT'\n",
      "1908\n"
     ]
    },
    {
     "name": "stderr",
     "output_type": "stream",
     "text": [
      "<suds.sax.document.Document object at 0x1161cf3c8>\n"
     ]
    },
    {
     "name": "stdout",
     "output_type": "stream",
     "text": [
      "ERROR ON AUT AU= 'KURU FERAH DIBA'\n",
      "1909\n"
     ]
    },
    {
     "name": "stderr",
     "output_type": "stream",
     "text": [
      "<suds.sax.document.Document object at 0x115f94be0>\n"
     ]
    },
    {
     "name": "stdout",
     "output_type": "stream",
     "text": [
      "ERROR ON AUT AU= 'OLTULU PEMBE'\n",
      "1910\n"
     ]
    },
    {
     "name": "stderr",
     "output_type": "stream",
     "text": [
      "<suds.sax.document.Document object at 0x1124c7e48>\n"
     ]
    },
    {
     "name": "stdout",
     "output_type": "stream",
     "text": [
      "ERROR ON AUT AU= 'SAHIN NUR'\n",
      "1911\n"
     ]
    },
    {
     "name": "stderr",
     "output_type": "stream",
     "text": [
      "<suds.sax.document.Document object at 0x115b25710>\n"
     ]
    },
    {
     "name": "stdout",
     "output_type": "stream",
     "text": [
      "ERROR ON AUT AU='CALISKAN OZLEM'\n",
      "1912\n"
     ]
    },
    {
     "name": "stderr",
     "output_type": "stream",
     "text": [
      "<suds.sax.document.Document object at 0x115b251d0>\n"
     ]
    },
    {
     "name": "stdout",
     "output_type": "stream",
     "text": [
      "ERROR ON AUT AU='TOKGOZ HUSEYIN'\n",
      "1913\n"
     ]
    },
    {
     "name": "stderr",
     "output_type": "stream",
     "text": [
      "<suds.sax.document.Document object at 0x1159bcd68>\n"
     ]
    },
    {
     "name": "stdout",
     "output_type": "stream",
     "text": [
      "ERROR ON AUT AU= 'HAKKI SEMA SEZGIN'\n",
      "1914\n"
     ]
    },
    {
     "name": "stderr",
     "output_type": "stream",
     "text": [
      "<suds.sax.document.Document object at 0x115cde9b0>\n"
     ]
    },
    {
     "name": "stdout",
     "output_type": "stream",
     "text": [
      "ERROR ON AUT AU= 'LEBLEBISATAN GOKSEL'\n",
      "1915\n"
     ]
    },
    {
     "name": "stderr",
     "output_type": "stream",
     "text": [
      "<suds.sax.document.Document object at 0x115f94390>\n"
     ]
    },
    {
     "name": "stdout",
     "output_type": "stream",
     "text": [
      "ERROR ON AUT AU= 'SENTURK AYSAN'\n",
      "1916\n"
     ]
    },
    {
     "name": "stderr",
     "output_type": "stream",
     "text": [
      "<suds.sax.document.Document object at 0x1124c7cc0>\n"
     ]
    },
    {
     "name": "stdout",
     "output_type": "stream",
     "text": [
      "ERROR ON AUT AU= 'SAFDAR MUHAMMAD'\n",
      "1917\n"
     ]
    },
    {
     "name": "stderr",
     "output_type": "stream",
     "text": [
      "<suds.sax.document.Document object at 0x115cb35f8>\n"
     ]
    },
    {
     "name": "stdout",
     "output_type": "stream",
     "text": [
      "ERROR ON AUT AU='SELAMET OMER FARUK'\n",
      "1918\n"
     ]
    },
    {
     "name": "stderr",
     "output_type": "stream",
     "text": [
      "<suds.sax.document.Document object at 0x115cb3b70>\n"
     ]
    },
    {
     "name": "stdout",
     "output_type": "stream",
     "text": [
      "ERROR ON AUT AU= 'AKAR ILKER'\n",
      "1919\n"
     ]
    },
    {
     "name": "stderr",
     "output_type": "stream",
     "text": [
      "<suds.sax.document.Document object at 0x1159bc358>\n"
     ]
    },
    {
     "name": "stdout",
     "output_type": "stream",
     "text": [
      "ERROR ON AUT AU= 'ONAL NAGIHAN TANIK'\n",
      "1920\n"
     ]
    },
    {
     "name": "stderr",
     "output_type": "stream",
     "text": [
      "<suds.sax.document.Document object at 0x115f211d0>\n"
     ]
    },
    {
     "name": "stdout",
     "output_type": "stream",
     "text": [
      "ERROR ON AUT AU= 'KOSTEN E. YESIM OZGEN'\n",
      "1921\n"
     ]
    },
    {
     "name": "stderr",
     "output_type": "stream",
     "text": [
      "<suds.sax.document.Document object at 0x115f21080>\n"
     ]
    },
    {
     "name": "stdout",
     "output_type": "stream",
     "text": [
      "ERROR ON AUT AU= 'PANCAR GUNSELI S.'\n",
      "1922\n"
     ]
    },
    {
     "name": "stderr",
     "output_type": "stream",
     "text": [
      "<suds.sax.document.Document object at 0x1161cf860>\n"
     ]
    },
    {
     "name": "stdout",
     "output_type": "stream",
     "text": [
      "ERROR ON AUT AU= 'DIKEL NEVIN HANDE'\n",
      "1923\n"
     ]
    },
    {
     "name": "stderr",
     "output_type": "stream",
     "text": [
      "<suds.sax.document.Document object at 0x115b25e10>\n"
     ]
    },
    {
     "name": "stdout",
     "output_type": "stream",
     "text": [
      "ERROR ON AUT AU= 'SHOJAOLSADATI PARIA'\n",
      "1924\n"
     ]
    },
    {
     "name": "stderr",
     "output_type": "stream",
     "text": [
      "<suds.sax.document.Document object at 0x115b25048>\n"
     ]
    },
    {
     "name": "stdout",
     "output_type": "stream",
     "text": [
      "ERROR ON AUT AU= 'OZDEMIR FATMA'\n",
      "1925\n"
     ]
    },
    {
     "name": "stderr",
     "output_type": "stream",
     "text": [
      "<suds.sax.document.Document object at 0x1159bce48>\n"
     ]
    },
    {
     "name": "stdout",
     "output_type": "stream",
     "text": [
      "ERROR ON AUT AU= 'ERDOGAN OKAN'\n",
      "1926\n"
     ]
    },
    {
     "name": "stderr",
     "output_type": "stream",
     "text": [
      "<suds.sax.document.Document object at 0x112a872e8>\n"
     ]
    },
    {
     "name": "stdout",
     "output_type": "stream",
     "text": [
      "ERROR ON AUT AU= 'YILDIRIM ARAFE'\n",
      "1927\n"
     ]
    },
    {
     "name": "stderr",
     "output_type": "stream",
     "text": [
      "<suds.sax.document.Document object at 0x115f21390>\n"
     ]
    },
    {
     "name": "stdout",
     "output_type": "stream",
     "text": [
      "ERROR ON AUT AU= 'DONMEZ INCI'\n",
      "1928\n"
     ]
    },
    {
     "name": "stderr",
     "output_type": "stream",
     "text": [
      "<suds.sax.document.Document object at 0x1161cf3c8>\n"
     ]
    },
    {
     "name": "stdout",
     "output_type": "stream",
     "text": [
      "ERROR ON AUT AU= 'SEMIZ SERAP'\n",
      "1929\n"
     ]
    },
    {
     "name": "stderr",
     "output_type": "stream",
     "text": [
      "<suds.sax.document.Document object at 0x1120bb518>\n"
     ]
    },
    {
     "name": "stdout",
     "output_type": "stream",
     "text": [
      "ERROR ON AUT AU='DEMIR AHMET'\n",
      "1930\n"
     ]
    },
    {
     "name": "stderr",
     "output_type": "stream",
     "text": [
      "<suds.sax.document.Document object at 0x116e4e278>\n"
     ]
    },
    {
     "name": "stdout",
     "output_type": "stream",
     "text": [
      "ERROR ON AUT AU= 'BUKYUKBERBER SULEYMAN'\n",
      "1931\n"
     ]
    },
    {
     "name": "stderr",
     "output_type": "stream",
     "text": [
      "<suds.sax.document.Document object at 0x115f21cc0>\n"
     ]
    },
    {
     "name": "stdout",
     "output_type": "stream",
     "text": [
      "ERROR ON AUT AU= 'DUTTA HEMEN'\n",
      "1932\n"
     ]
    },
    {
     "name": "stderr",
     "output_type": "stream",
     "text": [
      "<suds.sax.document.Document object at 0x115b25630>\n"
     ]
    },
    {
     "name": "stdout",
     "output_type": "stream",
     "text": [
      "ERROR ON AUT AU='ERDINC BAHATTIN'\n",
      "1933\n"
     ]
    },
    {
     "name": "stderr",
     "output_type": "stream",
     "text": [
      "<suds.sax.document.Document object at 0x115b25160>\n"
     ]
    },
    {
     "name": "stdout",
     "output_type": "stream",
     "text": [
      "ERROR ON AUT AU='TURKBEYLER IBRAHIM'\n",
      "1934\n"
     ]
    },
    {
     "name": "stderr",
     "output_type": "stream",
     "text": [
      "<suds.sax.document.Document object at 0x115cb32e8>\n"
     ]
    },
    {
     "name": "stdout",
     "output_type": "stream",
     "text": [
      "ERROR ON AUT AU= 'SAHIN HANDAN HAYDAROGLU'\n",
      "1935\n"
     ]
    },
    {
     "name": "stderr",
     "output_type": "stream",
     "text": [
      "<suds.sax.document.Document object at 0x112a87978>\n"
     ]
    },
    {
     "name": "stdout",
     "output_type": "stream",
     "text": [
      "ERROR ON AUT AU= 'BAHAT GULISTAN'\n",
      "1936\n"
     ]
    },
    {
     "name": "stderr",
     "output_type": "stream",
     "text": [
      "<suds.sax.document.Document object at 0x112a87278>\n"
     ]
    },
    {
     "name": "stdout",
     "output_type": "stream",
     "text": [
      "ERROR ON AUT AU= 'BULMUS OZGUR'\n",
      "1937\n"
     ]
    },
    {
     "name": "stderr",
     "output_type": "stream",
     "text": [
      "<suds.sax.document.Document object at 0x115f21f98>\n"
     ]
    },
    {
     "name": "stdout",
     "output_type": "stream",
     "text": [
      "ERROR ON AUT AU='BIRLIK ISIL'\n",
      "1938\n"
     ]
    },
    {
     "name": "stderr",
     "output_type": "stream",
     "text": [
      "<suds.sax.document.Document object at 0x116de8780>\n"
     ]
    },
    {
     "name": "stdout",
     "output_type": "stream",
     "text": [
      "ERROR ON AUT AU= 'EKINCI TURAN'\n",
      "1939\n"
     ]
    },
    {
     "name": "stderr",
     "output_type": "stream",
     "text": [
      "<suds.sax.document.Document object at 0x116de8860>\n"
     ]
    },
    {
     "name": "stdout",
     "output_type": "stream",
     "text": [
      "ERROR ON AUT AU= 'IVASKEVICIENE INGA'\n",
      "1940\n"
     ]
    },
    {
     "name": "stderr",
     "output_type": "stream",
     "text": [
      "<suds.sax.document.Document object at 0x115cdeac8>\n"
     ]
    },
    {
     "name": "stdout",
     "output_type": "stream",
     "text": [
      "ERROR ON AUT AU= 'KOSAR OZLEM'\n",
      "1941\n"
     ]
    },
    {
     "name": "stderr",
     "output_type": "stream",
     "text": [
      "<suds.sax.document.Document object at 0x112a87048>\n"
     ]
    },
    {
     "name": "stdout",
     "output_type": "stream",
     "text": [
      "ERROR ON AUT AU= 'YUKSEL BILGIN'\n",
      "1942\n"
     ]
    },
    {
     "name": "stderr",
     "output_type": "stream",
     "text": [
      "<suds.sax.document.Document object at 0x112a87588>\n"
     ]
    },
    {
     "name": "stdout",
     "output_type": "stream",
     "text": [
      "ERROR ON AUT AU= 'KIRZIOGLU FATMA YESIM'\n",
      "1943\n"
     ]
    },
    {
     "name": "stderr",
     "output_type": "stream",
     "text": [
      "<suds.sax.document.Document object at 0x115f21908>\n"
     ]
    },
    {
     "name": "stdout",
     "output_type": "stream",
     "text": [
      "ERROR ON AUT AU= 'MOCHIYAMA H'\n",
      "1944\n"
     ]
    },
    {
     "name": "stderr",
     "output_type": "stream",
     "text": [
      "<suds.sax.document.Document object at 0x1120c2cf8>\n"
     ]
    },
    {
     "name": "stdout",
     "output_type": "stream",
     "text": [
      "ERROR ON AUT AU= 'RINALDI ANTONIO'\n",
      "1945\n"
     ]
    },
    {
     "name": "stderr",
     "output_type": "stream",
     "text": [
      "<suds.sax.document.Document object at 0x1120c25c0>\n"
     ]
    },
    {
     "name": "stdout",
     "output_type": "stream",
     "text": [
      "ERROR ON AUT AU= 'BORU ELIF ORAK'\n",
      "1946\n"
     ]
    },
    {
     "name": "stderr",
     "output_type": "stream",
     "text": [
      "<suds.sax.document.Document object at 0x1161cf860>\n"
     ]
    },
    {
     "name": "stdout",
     "output_type": "stream",
     "text": [
      "ERROR ON AUT AU= 'SAYAR HAMIDE'\n",
      "1947\n"
     ]
    },
    {
     "name": "stderr",
     "output_type": "stream",
     "text": [
      "<suds.sax.document.Document object at 0x112a875c0>\n"
     ]
    },
    {
     "name": "stdout",
     "output_type": "stream",
     "text": [
      "ERROR ON AUT AU= 'KEYSAN M. KEMAL'\n",
      "1948\n"
     ]
    },
    {
     "name": "stderr",
     "output_type": "stream",
     "text": [
      "<suds.sax.document.Document object at 0x112a874e0>\n"
     ]
    },
    {
     "name": "stdout",
     "output_type": "stream",
     "text": [
      "ERROR ON AUT AU='SOMUNOGLU SINEM'\n",
      "1949\n"
     ]
    },
    {
     "name": "stderr",
     "output_type": "stream",
     "text": [
      "<suds.sax.document.Document object at 0x115cb3ac8>\n"
     ]
    },
    {
     "name": "stdout",
     "output_type": "stream",
     "text": [
      "ERROR ON AUT AU= 'WIESENBORN DENNIS'\n",
      "1950\n"
     ]
    },
    {
     "name": "stderr",
     "output_type": "stream",
     "text": [
      "<suds.sax.document.Document object at 0x113c814a8>\n"
     ]
    },
    {
     "name": "stdout",
     "output_type": "stream",
     "text": [
      "ERROR ON AUT AU= 'AFACAN ENGIN'\n",
      "1951\n"
     ]
    },
    {
     "name": "stderr",
     "output_type": "stream",
     "text": [
      "<suds.sax.document.Document object at 0x113c81a20>\n"
     ]
    },
    {
     "name": "stdout",
     "output_type": "stream",
     "text": [
      "ERROR ON AUT AU= 'OGUZ URAL'\n",
      "1952\n"
     ]
    },
    {
     "name": "stderr",
     "output_type": "stream",
     "text": [
      "<suds.sax.document.Document object at 0x115cdecc0>\n"
     ]
    },
    {
     "name": "stdout",
     "output_type": "stream",
     "text": [
      "ERROR ON AUT AU= 'BENLIGIRAY BURAK'\n",
      "1953\n"
     ]
    },
    {
     "name": "stderr",
     "output_type": "stream",
     "text": [
      "<suds.sax.document.Document object at 0x112a87a90>\n"
     ]
    },
    {
     "name": "stdout",
     "output_type": "stream",
     "text": [
      "ERROR ON AUT AU='AZEM FUNDA AK'\n",
      "1954\n"
     ]
    },
    {
     "name": "stderr",
     "output_type": "stream",
     "text": [
      "<suds.sax.document.Document object at 0x115f21518>\n"
     ]
    },
    {
     "name": "stdout",
     "output_type": "stream",
     "text": [
      "ERROR ON AUT AU='KILKIS BUKET TUG'\n",
      "1955\n"
     ]
    },
    {
     "name": "stderr",
     "output_type": "stream",
     "text": [
      "<suds.sax.document.Document object at 0x115cb3208>\n"
     ]
    },
    {
     "name": "stdout",
     "output_type": "stream",
     "text": [
      "ERROR ON AUT AU= 'TOPSAKAL ASLI'\n",
      "1956\n"
     ]
    },
    {
     "name": "stderr",
     "output_type": "stream",
     "text": [
      "<suds.sax.document.Document object at 0x117f746a0>\n"
     ]
    },
    {
     "name": "stdout",
     "output_type": "stream",
     "text": [
      "ERROR ON AUT AU= 'KORKMAZER BORA'\n",
      "1957\n"
     ]
    },
    {
     "name": "stderr",
     "output_type": "stream",
     "text": [
      "<suds.sax.document.Document object at 0x1120c2a58>\n"
     ]
    },
    {
     "name": "stdout",
     "output_type": "stream",
     "text": [
      "ERROR ON AUT AU= 'UNAL ONUR'\n",
      "1958\n"
     ]
    },
    {
     "name": "stderr",
     "output_type": "stream",
     "text": [
      "<suds.sax.document.Document object at 0x115b25470>\n"
     ]
    },
    {
     "name": "stdout",
     "output_type": "stream",
     "text": [
      "ERROR ON AUT AU= 'BAHCECI BULENT'\n",
      "1959\n"
     ]
    },
    {
     "name": "stderr",
     "output_type": "stream",
     "text": [
      "<suds.sax.document.Document object at 0x115f21dd8>\n"
     ]
    },
    {
     "name": "stdout",
     "output_type": "stream",
     "text": [
      "ERROR ON AUT AU='SAHBAZ CAFER'\n",
      "1960\n"
     ]
    },
    {
     "name": "stderr",
     "output_type": "stream",
     "text": [
      "<suds.sax.document.Document object at 0x115f210f0>\n"
     ]
    },
    {
     "name": "stdout",
     "output_type": "stream",
     "text": [
      "ERROR ON AUT AU='METAN GOEKHAN'\n",
      "1961\n"
     ]
    },
    {
     "name": "stderr",
     "output_type": "stream",
     "text": [
      "<suds.sax.document.Document object at 0x117f747f0>\n"
     ]
    },
    {
     "name": "stdout",
     "output_type": "stream",
     "text": [
      "ERROR ON AUT AU= 'TEO TIMOTHY'\n",
      "1962\n"
     ]
    },
    {
     "name": "stderr",
     "output_type": "stream",
     "text": [
      "<suds.sax.document.Document object at 0x113c59898>\n"
     ]
    },
    {
     "name": "stdout",
     "output_type": "stream",
     "text": [
      "ERROR ON AUT AU='DEMIRCI BUKET'\n",
      "1963\n"
     ]
    },
    {
     "name": "stderr",
     "output_type": "stream",
     "text": [
      "<suds.sax.document.Document object at 0x113c59ba8>\n"
     ]
    },
    {
     "name": "stdout",
     "output_type": "stream",
     "text": [
      "ERROR ON AUT AU= 'YILDIZ NAZAN'\n",
      "1964\n"
     ]
    },
    {
     "name": "stderr",
     "output_type": "stream",
     "text": [
      "<suds.sax.document.Document object at 0x112a87a90>\n"
     ]
    },
    {
     "name": "stdout",
     "output_type": "stream",
     "text": [
      "ERROR ON AUT AU='ERGIN ISIL'\n",
      "1965\n"
     ]
    },
    {
     "name": "stderr",
     "output_type": "stream",
     "text": [
      "<suds.sax.document.Document object at 0x116e4e128>\n"
     ]
    },
    {
     "name": "stdout",
     "output_type": "stream",
     "text": [
      "ERROR ON AUT AU= 'TOKGOZ ORHAN'\n",
      "1966\n"
     ]
    },
    {
     "name": "stderr",
     "output_type": "stream",
     "text": [
      "<suds.sax.document.Document object at 0x116e4e780>\n"
     ]
    },
    {
     "name": "stdout",
     "output_type": "stream",
     "text": [
      "ERROR ON AUT AU= 'SIMOS T'\n",
      "1967\n"
     ]
    },
    {
     "name": "stderr",
     "output_type": "stream",
     "text": [
      "<suds.sax.document.Document object at 0x113c81518>\n"
     ]
    },
    {
     "name": "stdout",
     "output_type": "stream",
     "text": [
      "ERROR ON AUT AU= 'ACIBUCU DUYGU OGUZ'\n",
      "1968\n"
     ]
    },
    {
     "name": "stderr",
     "output_type": "stream",
     "text": [
      "<suds.sax.document.Document object at 0x1159bcdd8>\n"
     ]
    },
    {
     "name": "stdout",
     "output_type": "stream",
     "text": [
      "ERROR ON AUT AU= 'HAJRO EDJON'\n",
      "1969\n"
     ]
    },
    {
     "name": "stderr",
     "output_type": "stream",
     "text": [
      "<suds.sax.document.Document object at 0x1159bc940>\n"
     ]
    },
    {
     "name": "stdout",
     "output_type": "stream",
     "text": [
      "ERROR ON AUT AU= 'KOPECKY V'\n",
      "1970\n"
     ]
    },
    {
     "name": "stderr",
     "output_type": "stream",
     "text": [
      "<suds.sax.document.Document object at 0x1124c72b0>\n"
     ]
    },
    {
     "name": "stdout",
     "output_type": "stream",
     "text": [
      "ERROR ON AUT AU= 'OZDEMIR NURIYE YILDIRIM'\n",
      "1971\n"
     ]
    },
    {
     "name": "stderr",
     "output_type": "stream",
     "text": [
      "<suds.sax.document.Document object at 0x113c59da0>\n"
     ]
    },
    {
     "name": "stdout",
     "output_type": "stream",
     "text": [
      "ERROR ON AUT AU= 'OBUZ FUNDA'\n",
      "1972\n"
     ]
    },
    {
     "name": "stderr",
     "output_type": "stream",
     "text": [
      "<suds.sax.document.Document object at 0x113c59da0>\n"
     ]
    },
    {
     "name": "stdout",
     "output_type": "stream",
     "text": [
      "ERROR ON AUT AU= 'KARAALI-SAVRUN FERAY'\n",
      "1973\n"
     ]
    },
    {
     "name": "stderr",
     "output_type": "stream",
     "text": [
      "<suds.sax.document.Document object at 0x115e0ddd8>\n"
     ]
    },
    {
     "name": "stdout",
     "output_type": "stream",
     "text": [
      "ERROR ON AUT AU= 'DURAN DURGUN'\n",
      "1974\n"
     ]
    },
    {
     "name": "stderr",
     "output_type": "stream",
     "text": [
      "<suds.sax.document.Document object at 0x112a87898>\n"
     ]
    },
    {
     "name": "stdout",
     "output_type": "stream",
     "text": [
      "ERROR ON AUT AU='ASIK SERAFETTIN'\n",
      "1975\n"
     ]
    },
    {
     "name": "stderr",
     "output_type": "stream",
     "text": [
      "<suds.sax.document.Document object at 0x112a87b00>\n"
     ]
    },
    {
     "name": "stdout",
     "output_type": "stream",
     "text": [
      "ERROR ON AUT AU= 'ALLI HASAN'\n",
      "1976\n"
     ]
    },
    {
     "name": "stderr",
     "output_type": "stream",
     "text": [
      "<suds.sax.document.Document object at 0x1124c7400>\n"
     ]
    },
    {
     "name": "stdout",
     "output_type": "stream",
     "text": [
      "ERROR ON AUT AU= 'SOZEN TUMAY'\n",
      "1977\n"
     ]
    },
    {
     "name": "stderr",
     "output_type": "stream",
     "text": [
      "<suds.sax.document.Document object at 0x115cb3438>\n"
     ]
    },
    {
     "name": "stdout",
     "output_type": "stream",
     "text": [
      "ERROR ON AUT AU= 'POYRAZOGLU HATICE GAMZE'\n",
      "1978\n"
     ]
    },
    {
     "name": "stderr",
     "output_type": "stream",
     "text": [
      "<suds.sax.document.Document object at 0x115cb3828>\n"
     ]
    },
    {
     "name": "stdout",
     "output_type": "stream",
     "text": [
      "ERROR ON AUT AU= 'ZEYDAN MITHAT'\n",
      "1979\n"
     ]
    },
    {
     "name": "stderr",
     "output_type": "stream",
     "text": [
      "<suds.sax.document.Document object at 0x115e0d748>\n"
     ]
    },
    {
     "name": "stdout",
     "output_type": "stream",
     "text": [
      "ERROR ON AUT AU= 'ACQUAH KOJO SEKYI'\n",
      "1980\n"
     ]
    },
    {
     "name": "stderr",
     "output_type": "stream",
     "text": [
      "<suds.sax.document.Document object at 0x112a87a20>\n"
     ]
    },
    {
     "name": "stdout",
     "output_type": "stream",
     "text": [
      "ERROR ON AUT AU= 'ARSLAN SIDDIK'\n",
      "1981\n"
     ]
    },
    {
     "name": "stderr",
     "output_type": "stream",
     "text": [
      "<suds.sax.document.Document object at 0x1120c2400>\n"
     ]
    },
    {
     "name": "stdout",
     "output_type": "stream",
     "text": [
      "ERROR ON AUT AU= 'CELIK GOKCEN Y.'\n",
      "1982\n"
     ]
    },
    {
     "name": "stderr",
     "output_type": "stream",
     "text": [
      "<suds.sax.document.Document object at 0x1124c7358>\n"
     ]
    },
    {
     "name": "stdout",
     "output_type": "stream",
     "text": [
      "ERROR ON AUT AU= 'CAVUSOGLU YUKSEL'\n",
      "1983\n"
     ]
    },
    {
     "name": "stderr",
     "output_type": "stream",
     "text": [
      "<suds.sax.document.Document object at 0x115cde470>\n"
     ]
    },
    {
     "name": "stdout",
     "output_type": "stream",
     "text": [
      "ERROR ON AUT AU= 'SAADAT SELVA MOHEB'\n",
      "1984\n"
     ]
    },
    {
     "name": "stderr",
     "output_type": "stream",
     "text": [
      "<suds.sax.document.Document object at 0x115cdee80>\n"
     ]
    },
    {
     "name": "stdout",
     "output_type": "stream",
     "text": [
      "ERROR ON AUT AU= 'GUNER TUNC'\n",
      "1985\n"
     ]
    },
    {
     "name": "stderr",
     "output_type": "stream",
     "text": [
      "<suds.sax.document.Document object at 0x1161cfb70>\n"
     ]
    },
    {
     "name": "stdout",
     "output_type": "stream",
     "text": [
      "ERROR ON AUT AU='KEMIK OZGUR'\n",
      "1986\n"
     ]
    },
    {
     "name": "stderr",
     "output_type": "stream",
     "text": [
      "<suds.sax.document.Document object at 0x1159bcdd8>\n"
     ]
    },
    {
     "name": "stdout",
     "output_type": "stream",
     "text": [
      "ERROR ON AUT AU='YILMAZ HATICE'\n",
      "1987\n"
     ]
    },
    {
     "name": "stderr",
     "output_type": "stream",
     "text": [
      "<suds.sax.document.Document object at 0x1159bccc0>\n"
     ]
    },
    {
     "name": "stdout",
     "output_type": "stream",
     "text": [
      "ERROR ON AUT AU= 'DODURGA YAVUZ'\n",
      "1988\n"
     ]
    },
    {
     "name": "stderr",
     "output_type": "stream",
     "text": [
      "<suds.sax.document.Document object at 0x113c811d0>\n"
     ]
    },
    {
     "name": "stdout",
     "output_type": "stream",
     "text": [
      "ERROR ON AUT AU= 'LOK UGUR'\n",
      "1989\n"
     ]
    },
    {
     "name": "stderr",
     "output_type": "stream",
     "text": [
      "<suds.sax.document.Document object at 0x115f947f0>\n"
     ]
    },
    {
     "name": "stdout",
     "output_type": "stream",
     "text": [
      "ERROR ON AUT AU= 'COLAK EMEL'\n",
      "1990\n"
     ]
    },
    {
     "name": "stderr",
     "output_type": "stream",
     "text": [
      "<suds.sax.document.Document object at 0x116e4e668>\n"
     ]
    },
    {
     "name": "stdout",
     "output_type": "stream",
     "text": [
      "ERROR ON AUT AU= 'NAPRSTEK J'\n",
      "1991\n"
     ]
    },
    {
     "name": "stderr",
     "output_type": "stream",
     "text": [
      "<suds.sax.document.Document object at 0x115e0df60>\n"
     ]
    },
    {
     "name": "stdout",
     "output_type": "stream",
     "text": [
      "ERROR ON AUT AU= 'BECK CHRISTINE R.'\n",
      "1992\n"
     ]
    },
    {
     "name": "stderr",
     "output_type": "stream",
     "text": [
      "<suds.sax.document.Document object at 0x115f217b8>\n"
     ]
    },
    {
     "name": "stdout",
     "output_type": "stream",
     "text": [
      "ERROR ON AUT AU= 'CAGLAR OZCAN'\n",
      "1993\n"
     ]
    },
    {
     "name": "stderr",
     "output_type": "stream",
     "text": [
      "<suds.sax.document.Document object at 0x115f215c0>\n"
     ]
    },
    {
     "name": "stdout",
     "output_type": "stream",
     "text": [
      "ERROR ON AUT AU= 'TELLI CUMALI'\n",
      "1994\n"
     ]
    },
    {
     "name": "stderr",
     "output_type": "stream",
     "text": [
      "<suds.sax.document.Document object at 0x1161cf710>\n"
     ]
    },
    {
     "name": "stdout",
     "output_type": "stream",
     "text": [
      "ERROR ON AUT AU='YILMAZ FATMA HILAL'\n",
      "1995\n"
     ]
    },
    {
     "name": "stderr",
     "output_type": "stream",
     "text": [
      "<suds.sax.document.Document object at 0x113c59f98>\n"
     ]
    },
    {
     "name": "stdout",
     "output_type": "stream",
     "text": [
      "ERROR ON AUT AU= 'UZUN CEM'\n",
      "1996\n"
     ]
    },
    {
     "name": "stderr",
     "output_type": "stream",
     "text": [
      "<suds.sax.document.Document object at 0x113c59668>\n"
     ]
    },
    {
     "name": "stdout",
     "output_type": "stream",
     "text": [
      "ERROR ON AUT AU='SOLAK ADEM'\n",
      "1997\n"
     ]
    },
    {
     "name": "stderr",
     "output_type": "stream",
     "text": [
      "<suds.sax.document.Document object at 0x115e0d470>\n"
     ]
    },
    {
     "name": "stdout",
     "output_type": "stream",
     "text": [
      "ERROR ON AUT AU= 'SAGLAM HAYRETTIN'\n",
      "1998\n"
     ]
    },
    {
     "name": "stderr",
     "output_type": "stream",
     "text": [
      "<suds.sax.document.Document object at 0x115b25b00>\n"
     ]
    },
    {
     "name": "stdout",
     "output_type": "stream",
     "text": [
      "ERROR ON AUT AU= 'SARIKAYA REMZI'\n",
      "1999\n"
     ]
    },
    {
     "name": "stderr",
     "output_type": "stream",
     "text": [
      "<suds.sax.document.Document object at 0x115f21160>\n"
     ]
    },
    {
     "name": "stdout",
     "output_type": "stream",
     "text": [
      "ERROR ON AUT AU= 'AKANSU BULENT'\n",
      "2000\n"
     ]
    },
    {
     "name": "stderr",
     "output_type": "stream",
     "text": [
      "<suds.sax.document.Document object at 0x112a870f0>\n"
     ]
    },
    {
     "name": "stdout",
     "output_type": "stream",
     "text": [
      "ERROR ON AUT AU= 'DEMIR MUSTAFA K.'\n",
      "2001\n"
     ]
    },
    {
     "name": "stderr",
     "output_type": "stream",
     "text": [
      "<suds.sax.document.Document object at 0x116e79d30>\n"
     ]
    },
    {
     "name": "stdout",
     "output_type": "stream",
     "text": [
      "ERROR ON AUT AU= 'DAGDEVIREN BIRSEN HARUN'\n",
      "2002\n"
     ]
    },
    {
     "name": "stderr",
     "output_type": "stream",
     "text": [
      "<suds.sax.document.Document object at 0x115b25710>\n"
     ]
    },
    {
     "name": "stdout",
     "output_type": "stream",
     "text": [
      "ERROR ON AUT AU= 'BERRIN I. S. I. K.'\n",
      "2003\n"
     ]
    },
    {
     "name": "stderr",
     "output_type": "stream",
     "text": [
      "<suds.sax.document.Document object at 0x115f218d0>\n"
     ]
    },
    {
     "name": "stdout",
     "output_type": "stream",
     "text": [
      "ERROR ON AUT AU= 'YILMAZ OZLEM'\n",
      "2004\n"
     ]
    },
    {
     "name": "stderr",
     "output_type": "stream",
     "text": [
      "<suds.sax.document.Document object at 0x1120c2748>\n"
     ]
    },
    {
     "name": "stdout",
     "output_type": "stream",
     "text": [
      "ERROR ON AUT AU='GOKER HAKAN'\n",
      "2005\n"
     ]
    },
    {
     "name": "stderr",
     "output_type": "stream",
     "text": [
      "<suds.sax.document.Document object at 0x115cdec50>\n"
     ]
    },
    {
     "name": "stdout",
     "output_type": "stream",
     "text": [
      "ERROR ON AUT AU= 'ARSLAN GOKHAN'\n",
      "2006\n"
     ]
    },
    {
     "name": "stderr",
     "output_type": "stream",
     "text": [
      "<suds.sax.document.Document object at 0x115f94470>\n"
     ]
    },
    {
     "name": "stdout",
     "output_type": "stream",
     "text": [
      "ERROR ON AUT AU='HAZER D. BURCU'\n",
      "2007\n"
     ]
    },
    {
     "name": "stderr",
     "output_type": "stream",
     "text": [
      "<suds.sax.document.Document object at 0x115cb3748>\n"
     ]
    },
    {
     "name": "stdout",
     "output_type": "stream",
     "text": [
      "ERROR ON AUT AU= 'BIRBEN ESRA'\n",
      "2008\n"
     ]
    },
    {
     "name": "stderr",
     "output_type": "stream",
     "text": [
      "<suds.sax.document.Document object at 0x115cb3a58>\n"
     ]
    },
    {
     "name": "stdout",
     "output_type": "stream",
     "text": [
      "ERROR ON AUT AU= 'KARWAL V'\n",
      "2009\n"
     ]
    },
    {
     "name": "stderr",
     "output_type": "stream",
     "text": [
      "<suds.sax.document.Document object at 0x115f21be0>\n"
     ]
    },
    {
     "name": "stdout",
     "output_type": "stream",
     "text": [
      "ERROR ON AUT AU= 'BOZKURT HAKAN'\n",
      "2010\n"
     ]
    },
    {
     "name": "stderr",
     "output_type": "stream",
     "text": [
      "<suds.sax.document.Document object at 0x115e0db38>\n"
     ]
    },
    {
     "name": "stdout",
     "output_type": "stream",
     "text": [
      "ERROR ON AUT AU= 'SABANCIOGULLARI VEDAT'\n",
      "2011\n"
     ]
    },
    {
     "name": "stderr",
     "output_type": "stream",
     "text": [
      "<suds.sax.document.Document object at 0x115e0dcc0>\n"
     ]
    },
    {
     "name": "stdout",
     "output_type": "stream",
     "text": [
      "ERROR ON AUT AU= 'GOKCE ZELIHA'\n",
      "2012\n"
     ]
    },
    {
     "name": "stderr",
     "output_type": "stream",
     "text": [
      "<suds.sax.document.Document object at 0x1161cf630>\n"
     ]
    },
    {
     "name": "stdout",
     "output_type": "stream",
     "text": [
      "ERROR ON AUT AU= 'TIKICI MEHMET'\n",
      "2013\n"
     ]
    },
    {
     "name": "stderr",
     "output_type": "stream",
     "text": [
      "<suds.sax.document.Document object at 0x115b25ac8>\n"
     ]
    },
    {
     "name": "stdout",
     "output_type": "stream",
     "text": [
      "ERROR ON AUT AU= 'OZDEMIR AYSE'\n",
      "2014\n"
     ]
    },
    {
     "name": "stderr",
     "output_type": "stream",
     "text": [
      "<suds.sax.document.Document object at 0x115b253c8>\n"
     ]
    },
    {
     "name": "stdout",
     "output_type": "stream",
     "text": [
      "ERROR ON AUT AU= 'DOGAN NURETTIN OZGUR'\n",
      "2015\n"
     ]
    },
    {
     "name": "stderr",
     "output_type": "stream",
     "text": [
      "<suds.sax.document.Document object at 0x115f21080>\n"
     ]
    },
    {
     "name": "stdout",
     "output_type": "stream",
     "text": [
      "ERROR ON AUT AU='PAMPAL HASAN KUTLUK'\n",
      "2016\n"
     ]
    },
    {
     "name": "stderr",
     "output_type": "stream",
     "text": [
      "<suds.sax.document.Document object at 0x112a87470>\n"
     ]
    },
    {
     "name": "stdout",
     "output_type": "stream",
     "text": [
      "ERROR ON AUT AU= 'DILEK ELIF'\n",
      "2017\n"
     ]
    },
    {
     "name": "stderr",
     "output_type": "stream",
     "text": [
      "<suds.sax.document.Document object at 0x112a87ef0>\n"
     ]
    },
    {
     "name": "stdout",
     "output_type": "stream",
     "text": [
      "ERROR ON AUT AU='TUGRUL IBRAHIM'\n",
      "2018\n"
     ]
    },
    {
     "name": "stderr",
     "output_type": "stream",
     "text": [
      "<suds.sax.document.Document object at 0x116e4e048>\n"
     ]
    },
    {
     "name": "stdout",
     "output_type": "stream",
     "text": [
      "ERROR ON AUT AU= 'YILMAZ ESRA'\n",
      "2019\n"
     ]
    },
    {
     "name": "stderr",
     "output_type": "stream",
     "text": [
      "<suds.sax.document.Document object at 0x115b25cf8>\n"
     ]
    },
    {
     "name": "stdout",
     "output_type": "stream",
     "text": [
      "ERROR ON AUT AU= 'GEREDE CEMALEDDIN'\n",
      "2020\n"
     ]
    },
    {
     "name": "stderr",
     "output_type": "stream",
     "text": [
      "<suds.sax.document.Document object at 0x115b25710>\n"
     ]
    },
    {
     "name": "stdout",
     "output_type": "stream",
     "text": [
      "ERROR ON AUT AU= 'TEKIN MAHMUT'\n",
      "2021\n"
     ]
    },
    {
     "name": "stderr",
     "output_type": "stream",
     "text": [
      "<suds.sax.document.Document object at 0x115f21940>\n"
     ]
    },
    {
     "name": "stdout",
     "output_type": "stream",
     "text": [
      "ERROR ON AUT AU= 'SUTTON RICHARD'\n",
      "2022\n"
     ]
    },
    {
     "name": "stderr",
     "output_type": "stream",
     "text": [
      "<suds.sax.document.Document object at 0x113c59320>\n"
     ]
    },
    {
     "name": "stdout",
     "output_type": "stream",
     "text": [
      "ERROR ON AUT AU='ALTAS MURAT'\n",
      "2023\n"
     ]
    },
    {
     "name": "stderr",
     "output_type": "stream",
     "text": [
      "<suds.sax.document.Document object at 0x115e0d358>\n"
     ]
    },
    {
     "name": "stdout",
     "output_type": "stream",
     "text": [
      "ERROR ON AUT AU= 'TOMASCH GORDANA'\n",
      "2024\n"
     ]
    },
    {
     "name": "stderr",
     "output_type": "stream",
     "text": [
      "<suds.sax.document.Document object at 0x115f945c0>\n"
     ]
    },
    {
     "name": "stdout",
     "output_type": "stream",
     "text": [
      "ERROR ON AUT AU= 'DOENMEZ NURCAN'\n",
      "2025\n"
     ]
    },
    {
     "name": "stderr",
     "output_type": "stream",
     "text": [
      "<suds.sax.document.Document object at 0x1124c75c0>\n"
     ]
    },
    {
     "name": "stdout",
     "output_type": "stream",
     "text": [
      "ERROR ON AUT AU='SARAL AYSEGUL'\n",
      "2026\n"
     ]
    },
    {
     "name": "stderr",
     "output_type": "stream",
     "text": [
      "<suds.sax.document.Document object at 0x1124c7b70>\n"
     ]
    },
    {
     "name": "stdout",
     "output_type": "stream",
     "text": [
      "ERROR ON AUT AU= 'KARSLIOGLU IHSAN'\n",
      "2027\n"
     ]
    },
    {
     "name": "stderr",
     "output_type": "stream",
     "text": [
      "<suds.sax.document.Document object at 0x1161cf978>\n"
     ]
    },
    {
     "name": "stdout",
     "output_type": "stream",
     "text": [
      "ERROR ON AUT AU='UCAR OMER'\n",
      "2028\n"
     ]
    },
    {
     "name": "stderr",
     "output_type": "stream",
     "text": [
      "<suds.sax.document.Document object at 0x113c815f8>\n"
     ]
    },
    {
     "name": "stdout",
     "output_type": "stream",
     "text": [
      "ERROR ON AUT AU= 'DEMIREZEN AYLIN'\n",
      "2029\n"
     ]
    },
    {
     "name": "stderr",
     "output_type": "stream",
     "text": [
      "<suds.sax.document.Document object at 0x113c819b0>\n"
     ]
    },
    {
     "name": "stdout",
     "output_type": "stream",
     "text": [
      "ERROR ON AUT AU= 'KAPAN OKTAY'\n",
      "2030\n"
     ]
    },
    {
     "name": "stderr",
     "output_type": "stream",
     "text": [
      "<suds.sax.document.Document object at 0x115f94710>\n"
     ]
    },
    {
     "name": "stdout",
     "output_type": "stream",
     "text": [
      "ERROR ON AUT AU= 'JUNE CYNTHIA M.'\n",
      "2031\n"
     ]
    },
    {
     "name": "stderr",
     "output_type": "stream",
     "text": [
      "<suds.sax.document.Document object at 0x1124c7400>\n"
     ]
    },
    {
     "name": "stdout",
     "output_type": "stream",
     "text": [
      "ERROR ON AUT AU= 'ALTINTEPE LUETFULLAH'\n",
      "2032\n"
     ]
    },
    {
     "name": "stderr",
     "output_type": "stream",
     "text": [
      "<suds.sax.document.Document object at 0x115b25710>\n"
     ]
    },
    {
     "name": "stdout",
     "output_type": "stream",
     "text": [
      "ERROR ON AUT AU= 'SAHAN AHMET OGUZ'\n",
      "2033\n"
     ]
    },
    {
     "name": "stderr",
     "output_type": "stream",
     "text": [
      "<suds.sax.document.Document object at 0x113c59320>\n"
     ]
    },
    {
     "name": "stdout",
     "output_type": "stream",
     "text": [
      "ERROR ON AUT AU='ENGIN VELITTIN SELCUK'\n",
      "2034\n"
     ]
    },
    {
     "name": "stderr",
     "output_type": "stream",
     "text": [
      "<suds.sax.document.Document object at 0x1159bcba8>\n"
     ]
    },
    {
     "name": "stdout",
     "output_type": "stream",
     "text": [
      "ERROR ON AUT AU= 'SERT MEHMET'\n",
      "2035\n"
     ]
    },
    {
     "name": "stderr",
     "output_type": "stream",
     "text": [
      "<suds.sax.document.Document object at 0x112a87080>\n"
     ]
    },
    {
     "name": "stdout",
     "output_type": "stream",
     "text": [
      "ERROR ON AUT AU= 'DEVECI HULYA'\n",
      "2036\n"
     ]
    },
    {
     "name": "stderr",
     "output_type": "stream",
     "text": [
      "<suds.sax.document.Document object at 0x116e4ec18>\n"
     ]
    },
    {
     "name": "stdout",
     "output_type": "stream",
     "text": [
      "ERROR ON AUT AU='BOZKURT YASAR'\n",
      "2037\n"
     ]
    },
    {
     "name": "stderr",
     "output_type": "stream",
     "text": [
      "<suds.sax.document.Document object at 0x1159bc668>\n"
     ]
    },
    {
     "name": "stdout",
     "output_type": "stream",
     "text": [
      "ERROR ON AUT AU= 'BICAKCI ADEM'\n",
      "2038\n"
     ]
    },
    {
     "name": "stderr",
     "output_type": "stream",
     "text": [
      "<suds.sax.document.Document object at 0x1159bc518>\n"
     ]
    },
    {
     "name": "stdout",
     "output_type": "stream",
     "text": [
      "ERROR ON AUT AU='EKERBICER HASAN CETIN'\n",
      "2039\n"
     ]
    },
    {
     "name": "stderr",
     "output_type": "stream",
     "text": [
      "<suds.sax.document.Document object at 0x116e4e128>\n"
     ]
    },
    {
     "name": "stdout",
     "output_type": "stream",
     "text": [
      "ERROR ON AUT AU= 'COKUN HALIL'\n",
      "2040\n"
     ]
    },
    {
     "name": "stderr",
     "output_type": "stream",
     "text": [
      "<suds.sax.document.Document object at 0x112a87f60>\n"
     ]
    },
    {
     "name": "stdout",
     "output_type": "stream",
     "text": [
      "ERROR ON AUT AU= 'VURAL H. IBRAHIM'\n",
      "2041\n"
     ]
    },
    {
     "name": "stderr",
     "output_type": "stream",
     "text": [
      "<suds.sax.document.Document object at 0x112a87b00>\n"
     ]
    },
    {
     "name": "stdout",
     "output_type": "stream",
     "text": [
      "ERROR ON AUT AU='AKIN ILKER'\n",
      "2042\n"
     ]
    },
    {
     "name": "stderr",
     "output_type": "stream",
     "text": [
      "<suds.sax.document.Document object at 0x113c59e80>\n"
     ]
    },
    {
     "name": "stdout",
     "output_type": "stream",
     "text": [
      "ERROR ON AUT AU= 'KOC AKIF'\n",
      "2043\n"
     ]
    },
    {
     "name": "stderr",
     "output_type": "stream",
     "text": [
      "<suds.sax.document.Document object at 0x1161cfc50>\n"
     ]
    },
    {
     "name": "stdout",
     "output_type": "stream",
     "text": [
      "ERROR ON AUT AU='PEHLIVAN SEDA'\n",
      "2044\n"
     ]
    },
    {
     "name": "stderr",
     "output_type": "stream",
     "text": [
      "<suds.sax.document.Document object at 0x117f74cc0>\n"
     ]
    },
    {
     "name": "stdout",
     "output_type": "stream",
     "text": [
      "ERROR ON AUT AU= 'LAVENDER CHRISTOPHER A.'\n",
      "2045\n"
     ]
    },
    {
     "name": "stderr",
     "output_type": "stream",
     "text": [
      "<suds.sax.document.Document object at 0x116de8518>\n"
     ]
    },
    {
     "name": "stdout",
     "output_type": "stream",
     "text": [
      "ERROR ON AUT AU= 'MUSLUMANOGLU M. HAMZA'\n",
      "2046\n"
     ]
    },
    {
     "name": "stderr",
     "output_type": "stream",
     "text": [
      "<suds.sax.document.Document object at 0x112a87f98>\n"
     ]
    },
    {
     "name": "stdout",
     "output_type": "stream",
     "text": [
      "ERROR ON AUT AU='OZKAYA AHMET'\n",
      "2047\n"
     ]
    },
    {
     "name": "stderr",
     "output_type": "stream",
     "text": [
      "<suds.sax.document.Document object at 0x112a87fd0>\n"
     ]
    },
    {
     "name": "stdout",
     "output_type": "stream",
     "text": [
      "ERROR ON AUT AU= 'MASRABACI KAAN'\n",
      "2048\n"
     ]
    },
    {
     "name": "stderr",
     "output_type": "stream",
     "text": [
      "<suds.sax.document.Document object at 0x116de8a20>\n"
     ]
    },
    {
     "name": "stdout",
     "output_type": "stream",
     "text": [
      "ERROR ON AUT AU= 'ERKOCAK OMER F.'\n",
      "2049\n"
     ]
    },
    {
     "name": "stderr",
     "output_type": "stream",
     "text": [
      "<suds.sax.document.Document object at 0x115e0d940>\n"
     ]
    },
    {
     "name": "stdout",
     "output_type": "stream",
     "text": [
      "ERROR ON AUT AU= 'KAYA MEHMET'\n",
      "2050\n"
     ]
    },
    {
     "name": "stderr",
     "output_type": "stream",
     "text": [
      "<suds.sax.document.Document object at 0x117f740f0>\n"
     ]
    },
    {
     "name": "stdout",
     "output_type": "stream",
     "text": [
      "ERROR ON AUT AU= 'AYDIN-TATLI IMREN'\n",
      "2051\n"
     ]
    },
    {
     "name": "stderr",
     "output_type": "stream",
     "text": [
      "<suds.sax.document.Document object at 0x116de8048>\n"
     ]
    },
    {
     "name": "stdout",
     "output_type": "stream",
     "text": [
      "ERROR ON AUT AU= 'CETIN MUSTAFA'\n",
      "2052\n"
     ]
    },
    {
     "name": "stderr",
     "output_type": "stream",
     "text": [
      "<suds.sax.document.Document object at 0x112a87470>\n"
     ]
    },
    {
     "name": "stdout",
     "output_type": "stream",
     "text": [
      "ERROR ON AUT AU= 'KABUKCU SIBEL'\n",
      "2053\n"
     ]
    },
    {
     "name": "stderr",
     "output_type": "stream",
     "text": [
      "<suds.sax.document.Document object at 0x112a87780>\n"
     ]
    },
    {
     "name": "stdout",
     "output_type": "stream",
     "text": [
      "ERROR ON AUT AU= 'SEVKETOGLU TIMUR'\n",
      "2054\n"
     ]
    },
    {
     "name": "stderr",
     "output_type": "stream",
     "text": [
      "<suds.sax.document.Document object at 0x1124c7ac8>\n"
     ]
    },
    {
     "name": "stdout",
     "output_type": "stream",
     "text": [
      "ERROR ON AUT AU= 'EMEKSIZ HAMDI CIHAN'\n",
      "2055\n"
     ]
    },
    {
     "name": "stderr",
     "output_type": "stream",
     "text": [
      "<suds.sax.document.Document object at 0x117f74c88>\n"
     ]
    },
    {
     "name": "stdout",
     "output_type": "stream",
     "text": [
      "ERROR ON AUT AU='ULGER SUKRAN'\n",
      "2056\n"
     ]
    },
    {
     "name": "stderr",
     "output_type": "stream",
     "text": [
      "<suds.sax.document.Document object at 0x115b25278>\n"
     ]
    },
    {
     "name": "stdout",
     "output_type": "stream",
     "text": [
      "ERROR ON AUT AU= 'CANKURT HASAN'\n",
      "2057\n"
     ]
    },
    {
     "name": "stderr",
     "output_type": "stream",
     "text": [
      "<suds.sax.document.Document object at 0x116de8b70>\n"
     ]
    },
    {
     "name": "stdout",
     "output_type": "stream",
     "text": [
      "ERROR ON AUT AU= 'CELIK RAZIYE CATAK'\n",
      "2058\n"
     ]
    },
    {
     "name": "stderr",
     "output_type": "stream",
     "text": [
      "<suds.sax.document.Document object at 0x115cb3400>\n"
     ]
    },
    {
     "name": "stdout",
     "output_type": "stream",
     "text": [
      "ERROR ON AUT AU= 'EROGLU FUSUN'\n",
      "2059\n"
     ]
    },
    {
     "name": "stderr",
     "output_type": "stream",
     "text": [
      "<suds.sax.document.Document object at 0x115cb3860>\n"
     ]
    },
    {
     "name": "stdout",
     "output_type": "stream",
     "text": [
      "ERROR ON AUT AU= 'KIRIS GULHANIM'\n",
      "2060\n"
     ]
    },
    {
     "name": "stderr",
     "output_type": "stream",
     "text": [
      "<suds.sax.document.Document object at 0x115b257b8>\n"
     ]
    },
    {
     "name": "stdout",
     "output_type": "stream",
     "text": [
      "ERROR ON AUT AU= 'GARCIAPEDRAJAS N'\n",
      "2061\n"
     ]
    },
    {
     "name": "stderr",
     "output_type": "stream",
     "text": [
      "<suds.sax.document.Document object at 0x115cde470>\n"
     ]
    },
    {
     "name": "stdout",
     "output_type": "stream",
     "text": [
      "ERROR ON AUT AU= 'OZER SERDAL'\n",
      "2062\n"
     ]
    },
    {
     "name": "stderr",
     "output_type": "stream",
     "text": [
      "<suds.sax.document.Document object at 0x115cdefd0>\n"
     ]
    },
    {
     "name": "stdout",
     "output_type": "stream",
     "text": [
      "ERROR ON AUT AU= 'SEKER MERYEM'\n",
      "2063\n"
     ]
    },
    {
     "name": "stderr",
     "output_type": "stream",
     "text": [
      "<suds.sax.document.Document object at 0x113c81ef0>\n"
     ]
    },
    {
     "name": "stdout",
     "output_type": "stream",
     "text": [
      "ERROR ON AUT AU= 'ERDEM OKTAY'\n",
      "2064\n"
     ]
    },
    {
     "name": "stderr",
     "output_type": "stream",
     "text": [
      "<suds.sax.document.Document object at 0x112a874a8>\n"
     ]
    },
    {
     "name": "stdout",
     "output_type": "stream",
     "text": [
      "ERROR ON AUT AU= 'HOSSAIN MD ALAMGIR'\n",
      "2065\n"
     ]
    },
    {
     "name": "stderr",
     "output_type": "stream",
     "text": [
      "<suds.sax.document.Document object at 0x115cb3b70>\n"
     ]
    },
    {
     "name": "stdout",
     "output_type": "stream",
     "text": [
      "ERROR ON AUT AU= 'DELICE TULAY KOC'\n",
      "2066\n"
     ]
    },
    {
     "name": "stderr",
     "output_type": "stream",
     "text": [
      "<suds.sax.document.Document object at 0x1124c7cf8>\n"
     ]
    },
    {
     "name": "stdout",
     "output_type": "stream",
     "text": [
      "ERROR ON AUT AU= 'OGUZ NIHAN'\n",
      "2067\n"
     ]
    },
    {
     "name": "stderr",
     "output_type": "stream",
     "text": [
      "<suds.sax.document.Document object at 0x115f21080>\n"
     ]
    },
    {
     "name": "stdout",
     "output_type": "stream",
     "text": [
      "ERROR ON AUT AU='TALO OZER'\n",
      "2068\n"
     ]
    },
    {
     "name": "stderr",
     "output_type": "stream",
     "text": [
      "<suds.sax.document.Document object at 0x115f21be0>\n"
     ]
    },
    {
     "name": "stdout",
     "output_type": "stream",
     "text": [
      "ERROR ON AUT AU= 'ERBAY FATIH'\n",
      "2069\n"
     ]
    },
    {
     "name": "stderr",
     "output_type": "stream",
     "text": [
      "<suds.sax.document.Document object at 0x1159bcdd8>\n"
     ]
    },
    {
     "name": "stdout",
     "output_type": "stream",
     "text": [
      "ERROR ON AUT AU= 'HANSMANN YVES'\n",
      "2070\n"
     ]
    },
    {
     "name": "stderr",
     "output_type": "stream",
     "text": [
      "<suds.sax.document.Document object at 0x13a3fd5c0>\n"
     ]
    },
    {
     "name": "stdout",
     "output_type": "stream",
     "text": [
      "ERROR ON AUT AU= 'CHANDRAJU SIDDEGOWDA'\n",
      "2071\n"
     ]
    },
    {
     "name": "stderr",
     "output_type": "stream",
     "text": [
      "<suds.sax.document.Document object at 0x13a3fdac8>\n"
     ]
    },
    {
     "name": "stdout",
     "output_type": "stream",
     "text": [
      "ERROR ON AUT AU='AKYEL AHMET'\n",
      "2072\n"
     ]
    },
    {
     "name": "stderr",
     "output_type": "stream",
     "text": [
      "<suds.sax.document.Document object at 0x1124c7a20>\n"
     ]
    },
    {
     "name": "stdout",
     "output_type": "stream",
     "text": [
      "ERROR ON AUT AU= 'OZESMI MUSTAFA'\n",
      "2073\n"
     ]
    },
    {
     "name": "stderr",
     "output_type": "stream",
     "text": [
      "<suds.sax.document.Document object at 0x11214b710>\n"
     ]
    },
    {
     "name": "stdout",
     "output_type": "stream",
     "text": [
      "ERROR ON AUT AU= 'TURHAN MEHMET'\n",
      "2074\n"
     ]
    },
    {
     "name": "stderr",
     "output_type": "stream",
     "text": [
      "<suds.sax.document.Document object at 0x13a3fd5c0>\n"
     ]
    },
    {
     "name": "stdout",
     "output_type": "stream",
     "text": [
      "ERROR ON AUT AU= 'GURAGAC FATMA BETUL'\n",
      "2075\n"
     ]
    },
    {
     "name": "stderr",
     "output_type": "stream",
     "text": [
      "<suds.sax.document.Document object at 0x1120c2780>\n"
     ]
    },
    {
     "name": "stdout",
     "output_type": "stream",
     "text": [
      "ERROR ON AUT AU= 'OKYAY TUGBA O.'\n",
      "2076\n"
     ]
    },
    {
     "name": "stderr",
     "output_type": "stream",
     "text": [
      "<suds.sax.document.Document object at 0x1124c7198>\n"
     ]
    },
    {
     "name": "stdout",
     "output_type": "stream",
     "text": [
      "ERROR ON AUT AU= 'HAJEK P'\n",
      "2077\n"
     ]
    },
    {
     "name": "stderr",
     "output_type": "stream",
     "text": [
      "<suds.sax.document.Document object at 0x1124c7358>\n"
     ]
    },
    {
     "name": "stdout",
     "output_type": "stream",
     "text": [
      "ERROR ON AUT AU= 'ETSOY CANAN'\n",
      "2078\n"
     ]
    },
    {
     "name": "stderr",
     "output_type": "stream",
     "text": [
      "<suds.sax.document.Document object at 0x115cdea90>\n"
     ]
    },
    {
     "name": "stdout",
     "output_type": "stream",
     "text": [
      "ERROR ON AUT AU='OSUN ARIF'\n",
      "2079\n"
     ]
    },
    {
     "name": "stderr",
     "output_type": "stream",
     "text": [
      "<suds.sax.document.Document object at 0x11214b2b0>\n"
     ]
    },
    {
     "name": "stdout",
     "output_type": "stream",
     "text": [
      "ERROR ON AUT AU= 'KELES TELAT'\n",
      "2080\n"
     ]
    },
    {
     "name": "stderr",
     "output_type": "stream",
     "text": [
      "<suds.sax.document.Document object at 0x13a3fdef0>\n"
     ]
    },
    {
     "name": "stdout",
     "output_type": "stream",
     "text": [
      "ERROR ON AUT AU='GOZUBUYUK ZINNUR'\n",
      "2081\n"
     ]
    },
    {
     "name": "stderr",
     "output_type": "stream",
     "text": [
      "<suds.sax.document.Document object at 0x115f21240>\n"
     ]
    },
    {
     "name": "stdout",
     "output_type": "stream",
     "text": [
      "ERROR ON AUT AU= 'ARSERIM NEVAL BERRIN'\n",
      "2082\n"
     ]
    },
    {
     "name": "stderr",
     "output_type": "stream",
     "text": [
      "<suds.sax.document.Document object at 0x115f947b8>\n"
     ]
    },
    {
     "name": "stdout",
     "output_type": "stream",
     "text": [
      "ERROR ON AUT AU= 'SURUCU MURAT'\n",
      "2083\n"
     ]
    },
    {
     "name": "stderr",
     "output_type": "stream",
     "text": [
      "<suds.sax.document.Document object at 0x1124c7c18>\n"
     ]
    },
    {
     "name": "stdout",
     "output_type": "stream",
     "text": [
      "ERROR ON AUT AU='ADAM GURHAN'\n",
      "2084\n"
     ]
    },
    {
     "name": "stderr",
     "output_type": "stream",
     "text": [
      "<suds.sax.document.Document object at 0x115cde4e0>\n"
     ]
    },
    {
     "name": "stdout",
     "output_type": "stream",
     "text": [
      "ERROR ON AUT AU= 'AVSAR UMMU ZEYNEP'\n",
      "2085\n"
     ]
    },
    {
     "name": "stderr",
     "output_type": "stream",
     "text": [
      "<suds.sax.document.Document object at 0x13a3fdbe0>\n"
     ]
    },
    {
     "name": "stdout",
     "output_type": "stream",
     "text": [
      "ERROR ON AUT AU= 'KEMIK OZGUR'\n",
      "2086\n"
     ]
    },
    {
     "name": "stderr",
     "output_type": "stream",
     "text": [
      "<suds.sax.document.Document object at 0x1159bc668>\n"
     ]
    },
    {
     "name": "stdout",
     "output_type": "stream",
     "text": [
      "ERROR ON AUT AU= 'DOGAN AKAR'\n",
      "2087\n"
     ]
    },
    {
     "name": "stderr",
     "output_type": "stream",
     "text": [
      "<suds.sax.document.Document object at 0x115f21780>\n"
     ]
    },
    {
     "name": "stdout",
     "output_type": "stream",
     "text": [
      "ERROR ON AUT AU= 'TURHANOGLU SELIM'\n",
      "2088\n"
     ]
    },
    {
     "name": "stderr",
     "output_type": "stream",
     "text": [
      "<suds.sax.document.Document object at 0x115e0d470>\n"
     ]
    },
    {
     "name": "stdout",
     "output_type": "stream",
     "text": [
      "ERROR ON AUT AU= 'ERDOGAN TURAN'\n",
      "2089\n"
     ]
    },
    {
     "name": "stderr",
     "output_type": "stream",
     "text": [
      "<suds.sax.document.Document object at 0x1124c7550>\n"
     ]
    },
    {
     "name": "stdout",
     "output_type": "stream",
     "text": [
      "ERROR ON AUT AU='ARSLAN MEHMET'\n",
      "2090\n"
     ]
    },
    {
     "name": "stderr",
     "output_type": "stream",
     "text": [
      "<suds.sax.document.Document object at 0x13a3fda58>\n"
     ]
    },
    {
     "name": "stdout",
     "output_type": "stream",
     "text": [
      "ERROR ON AUT AU= 'ERBAS MELIKE'\n",
      "2091\n"
     ]
    },
    {
     "name": "stderr",
     "output_type": "stream",
     "text": [
      "<suds.sax.document.Document object at 0x117f747f0>\n"
     ]
    },
    {
     "name": "stdout",
     "output_type": "stream",
     "text": [
      "ERROR ON AUT AU= 'KAYHAN AYSEGUL'\n",
      "2092\n"
     ]
    },
    {
     "name": "stderr",
     "output_type": "stream",
     "text": [
      "<suds.sax.document.Document object at 0x116e79e10>\n"
     ]
    },
    {
     "name": "stdout",
     "output_type": "stream",
     "text": [
      "ERROR ON AUT AU= 'GUNGOREN ARIF'\n",
      "2093\n"
     ]
    },
    {
     "name": "stderr",
     "output_type": "stream",
     "text": [
      "<suds.sax.document.Document object at 0x115f21b70>\n"
     ]
    },
    {
     "name": "stdout",
     "output_type": "stream",
     "text": [
      "ERROR ON AUT AU= 'CATIKKAS FATIH'\n",
      "2094\n"
     ]
    },
    {
     "name": "stderr",
     "output_type": "stream",
     "text": [
      "<suds.sax.document.Document object at 0x115f94978>\n"
     ]
    },
    {
     "name": "stdout",
     "output_type": "stream",
     "text": [
      "ERROR ON AUT AU= 'ELSHIKH MOHAMED SOLIMAN'\n",
      "2095\n"
     ]
    },
    {
     "name": "stderr",
     "output_type": "stream",
     "text": [
      "<suds.sax.document.Document object at 0x115e0d5c0>\n"
     ]
    },
    {
     "name": "stdout",
     "output_type": "stream",
     "text": [
      "ERROR ON AUT AU= 'GUNES ALIME'\n",
      "2096\n"
     ]
    },
    {
     "name": "stderr",
     "output_type": "stream",
     "text": [
      "<suds.sax.document.Document object at 0x115cde240>\n"
     ]
    },
    {
     "name": "stdout",
     "output_type": "stream",
     "text": [
      "ERROR ON AUT AU= 'HALAC METIN'\n",
      "2097\n"
     ]
    },
    {
     "name": "stderr",
     "output_type": "stream",
     "text": [
      "<suds.sax.document.Document object at 0x11214ba20>\n"
     ]
    },
    {
     "name": "stdout",
     "output_type": "stream",
     "text": [
      "ERROR ON AUT AU= 'SARDAR ALI'\n",
      "2098\n"
     ]
    },
    {
     "name": "stderr",
     "output_type": "stream",
     "text": [
      "<suds.sax.document.Document object at 0x113c591d0>\n"
     ]
    },
    {
     "name": "stdout",
     "output_type": "stream",
     "text": [
      "ERROR ON AUT AU='DURGUT RAMAZAN'\n",
      "2099\n"
     ]
    },
    {
     "name": "stderr",
     "output_type": "stream",
     "text": [
      "<suds.sax.document.Document object at 0x115f21d30>\n"
     ]
    },
    {
     "name": "stdout",
     "output_type": "stream",
     "text": [
      "ERROR ON AUT AU= 'HAMID SYED MUHAMMAD'\n",
      "2100\n"
     ]
    },
    {
     "name": "stderr",
     "output_type": "stream",
     "text": [
      "<suds.sax.document.Document object at 0x112a878d0>\n"
     ]
    },
    {
     "name": "stdout",
     "output_type": "stream",
     "text": [
      "ERROR ON AUT AU= 'SAL ERTAN'\n",
      "2101\n"
     ]
    },
    {
     "name": "stderr",
     "output_type": "stream",
     "text": [
      "<suds.sax.document.Document object at 0x112a872b0>\n"
     ]
    },
    {
     "name": "stdout",
     "output_type": "stream",
     "text": [
      "ERROR ON AUT AU= 'UNAL HILAL'\n",
      "2102\n"
     ]
    },
    {
     "name": "stderr",
     "output_type": "stream",
     "text": [
      "<suds.sax.document.Document object at 0x115cdeb70>\n"
     ]
    },
    {
     "name": "stdout",
     "output_type": "stream",
     "text": [
      "ERROR ON AUT AU= 'ALTAY MEHMET AKIF'\n",
      "2103\n"
     ]
    },
    {
     "name": "stderr",
     "output_type": "stream",
     "text": [
      "<suds.sax.document.Document object at 0x113c59cc0>\n"
     ]
    },
    {
     "name": "stdout",
     "output_type": "stream",
     "text": [
      "ERROR ON AUT AU= 'CELEN ZEKI'\n",
      "2104\n"
     ]
    },
    {
     "name": "stderr",
     "output_type": "stream",
     "text": [
      "<suds.sax.document.Document object at 0x116e79d30>\n"
     ]
    },
    {
     "name": "stdout",
     "output_type": "stream",
     "text": [
      "ERROR ON AUT AU= 'YAZICI KEMAL UTKU'\n",
      "2105\n"
     ]
    },
    {
     "name": "stderr",
     "output_type": "stream",
     "text": [
      "<suds.sax.document.Document object at 0x115f21e80>\n"
     ]
    },
    {
     "name": "stdout",
     "output_type": "stream",
     "text": [
      "ERROR ON AUT AU='OZVEREN OLCAY'\n",
      "2106\n"
     ]
    },
    {
     "name": "stderr",
     "output_type": "stream",
     "text": [
      "<suds.sax.document.Document object at 0x115b25d30>\n"
     ]
    },
    {
     "name": "stdout",
     "output_type": "stream",
     "text": [
      "ERROR ON AUT AU='SOMER GULER'\n",
      "2107\n"
     ]
    },
    {
     "name": "stderr",
     "output_type": "stream",
     "text": [
      "<suds.sax.document.Document object at 0x115b25cf8>\n"
     ]
    },
    {
     "name": "stdout",
     "output_type": "stream",
     "text": [
      "ERROR ON AUT AU= 'YONGUC GOKSIN NILUFER'\n",
      "2108\n"
     ]
    },
    {
     "name": "stderr",
     "output_type": "stream",
     "text": [
      "<suds.sax.document.Document object at 0x115cb3c18>\n"
     ]
    },
    {
     "name": "stdout",
     "output_type": "stream",
     "text": [
      "ERROR ON AUT AU='CETIN EBRU N.'\n",
      "2109\n"
     ]
    },
    {
     "name": "stderr",
     "output_type": "stream",
     "text": [
      "<suds.sax.document.Document object at 0x115b25240>\n"
     ]
    },
    {
     "name": "stdout",
     "output_type": "stream",
     "text": [
      "ERROR ON AUT AU= 'BARNETT MICHAEL'\n",
      "2110\n"
     ]
    },
    {
     "name": "stderr",
     "output_type": "stream",
     "text": [
      "<suds.sax.document.Document object at 0x115b25198>\n"
     ]
    },
    {
     "name": "stdout",
     "output_type": "stream",
     "text": [
      "ERROR ON AUT AU= 'CERI VEYSI'\n",
      "2111\n"
     ]
    },
    {
     "name": "stderr",
     "output_type": "stream",
     "text": [
      "<suds.sax.document.Document object at 0x112a87198>\n"
     ]
    },
    {
     "name": "stdout",
     "output_type": "stream",
     "text": [
      "ERROR ON AUT AU= 'SERTER ASLI'\n",
      "2112\n"
     ]
    },
    {
     "name": "stderr",
     "output_type": "stream",
     "text": [
      "<suds.sax.document.Document object at 0x115e0df60>\n"
     ]
    },
    {
     "name": "stdout",
     "output_type": "stream",
     "text": [
      "ERROR ON AUT AU='CETINKAYA KADIR'\n",
      "2113\n"
     ]
    },
    {
     "name": "stderr",
     "output_type": "stream",
     "text": [
      "<suds.sax.document.Document object at 0x115e0d1d0>\n"
     ]
    },
    {
     "name": "stdout",
     "output_type": "stream",
     "text": [
      "ERROR ON AUT AU='DUMAN RESAT'\n",
      "2114\n"
     ]
    },
    {
     "name": "stderr",
     "output_type": "stream",
     "text": [
      "<suds.sax.document.Document object at 0x113c59ba8>\n"
     ]
    },
    {
     "name": "stdout",
     "output_type": "stream",
     "text": [
      "ERROR ON AUT AU= 'MENGELOGLU FIRAT ZAFER'\n",
      "2115\n"
     ]
    },
    {
     "name": "stderr",
     "output_type": "stream",
     "text": [
      "<suds.sax.document.Document object at 0x115f21320>\n"
     ]
    },
    {
     "name": "stdout",
     "output_type": "stream",
     "text": [
      "ERROR ON AUT AU= 'SOYLU M. SERKAN'\n",
      "2116\n"
     ]
    },
    {
     "name": "stderr",
     "output_type": "stream",
     "text": [
      "<suds.sax.document.Document object at 0x115f21cf8>\n"
     ]
    },
    {
     "name": "stdout",
     "output_type": "stream",
     "text": [
      "ERROR ON AUT AU= 'KAYA ALI HAKAN'\n",
      "2117\n"
     ]
    },
    {
     "name": "stderr",
     "output_type": "stream",
     "text": [
      "<suds.sax.document.Document object at 0x112a875c0>\n"
     ]
    },
    {
     "name": "stdout",
     "output_type": "stream",
     "text": [
      "ERROR ON AUT AU= 'SAKARYA ENGIN UMUT'\n",
      "2118\n"
     ]
    },
    {
     "name": "stderr",
     "output_type": "stream",
     "text": [
      "<suds.sax.document.Document object at 0x1159bcef0>\n"
     ]
    },
    {
     "name": "stdout",
     "output_type": "stream",
     "text": [
      "ERROR ON AUT AU= 'ERGUN DILEK'\n",
      "2119\n"
     ]
    },
    {
     "name": "stderr",
     "output_type": "stream",
     "text": [
      "<suds.sax.document.Document object at 0x1159bc358>\n"
     ]
    },
    {
     "name": "stdout",
     "output_type": "stream",
     "text": [
      "ERROR ON AUT AU= 'YURTSEVEN TASKIN'\n",
      "2120\n"
     ]
    },
    {
     "name": "stderr",
     "output_type": "stream",
     "text": [
      "<suds.sax.document.Document object at 0x113c59710>\n"
     ]
    },
    {
     "name": "stdout",
     "output_type": "stream",
     "text": [
      "ERROR ON AUT AU= 'TEKINBAS CELAL'\n",
      "2121\n"
     ]
    },
    {
     "name": "stderr",
     "output_type": "stream",
     "text": [
      "<suds.sax.document.Document object at 0x115f21320>\n"
     ]
    },
    {
     "name": "stdout",
     "output_type": "stream",
     "text": [
      "ERROR ON AUT AU='EKINCI ARIFE PINAR'\n",
      "2122\n"
     ]
    },
    {
     "name": "stderr",
     "output_type": "stream",
     "text": [
      "<suds.sax.document.Document object at 0x116e4e278>\n"
     ]
    },
    {
     "name": "stdout",
     "output_type": "stream",
     "text": [
      "ERROR ON AUT AU= 'YUECE IMDAT'\n",
      "2123\n"
     ]
    },
    {
     "name": "stderr",
     "output_type": "stream",
     "text": [
      "<suds.sax.document.Document object at 0x112a87c88>\n"
     ]
    },
    {
     "name": "stdout",
     "output_type": "stream",
     "text": [
      "ERROR ON AUT AU='ISIK CENGIZ'\n",
      "2124\n"
     ]
    },
    {
     "name": "stderr",
     "output_type": "stream",
     "text": [
      "<suds.sax.document.Document object at 0x115f94160>\n"
     ]
    },
    {
     "name": "stdout",
     "output_type": "stream",
     "text": [
      "ERROR ON AUT AU= 'IBAS ERHAN'\n",
      "2125\n"
     ]
    },
    {
     "name": "stderr",
     "output_type": "stream",
     "text": [
      "<suds.sax.document.Document object at 0x115f94c50>\n"
     ]
    },
    {
     "name": "stdout",
     "output_type": "stream",
     "text": [
      "ERROR ON AUT AU= 'GONUL TURGAY'\n",
      "2126\n"
     ]
    },
    {
     "name": "stderr",
     "output_type": "stream",
     "text": [
      "<suds.sax.document.Document object at 0x113c81518>\n"
     ]
    },
    {
     "name": "stdout",
     "output_type": "stream",
     "text": [
      "ERROR ON AUT AU= 'CORTINA JL'\n",
      "2127\n"
     ]
    },
    {
     "name": "stderr",
     "output_type": "stream",
     "text": [
      "<suds.sax.document.Document object at 0x1159761d0>\n"
     ]
    },
    {
     "name": "stdout",
     "output_type": "stream",
     "text": [
      "ERROR ON AUT AU= 'GIRGIN MEHMET CAN'\n",
      "2128\n"
     ]
    },
    {
     "name": "stderr",
     "output_type": "stream",
     "text": [
      "<suds.sax.document.Document object at 0x13a3fdf28>\n"
     ]
    },
    {
     "name": "stdout",
     "output_type": "stream",
     "text": [
      "ERROR ON AUT AU= 'CASTILLO O'\n",
      "2129\n"
     ]
    },
    {
     "name": "stderr",
     "output_type": "stream",
     "text": [
      "<suds.sax.document.Document object at 0x112a87278>\n"
     ]
    },
    {
     "name": "stdout",
     "output_type": "stream",
     "text": [
      "ERROR ON AUT AU='ORSAL EBRU'\n",
      "2130\n"
     ]
    },
    {
     "name": "stderr",
     "output_type": "stream",
     "text": [
      "<suds.sax.document.Document object at 0x115f948d0>\n"
     ]
    },
    {
     "name": "stdout",
     "output_type": "stream",
     "text": [
      "ERROR ON AUT AU='DEMIRDAG RAMAZAN'\n",
      "2131\n"
     ]
    },
    {
     "name": "stderr",
     "output_type": "stream",
     "text": [
      "<suds.sax.document.Document object at 0x115e0d048>\n"
     ]
    },
    {
     "name": "stdout",
     "output_type": "stream",
     "text": [
      "ERROR ON AUT AU= 'DEMIRTAS SELIM'\n",
      "2132\n"
     ]
    },
    {
     "name": "stderr",
     "output_type": "stream",
     "text": [
      "<suds.sax.document.Document object at 0x116e4e668>\n"
     ]
    },
    {
     "name": "stdout",
     "output_type": "stream",
     "text": [
      "ERROR ON AUT AU= 'KILINC VELI'\n",
      "2133\n"
     ]
    },
    {
     "name": "stderr",
     "output_type": "stream",
     "text": [
      "<suds.sax.document.Document object at 0x115cdef98>\n"
     ]
    },
    {
     "name": "stdout",
     "output_type": "stream",
     "text": [
      "ERROR ON AUT AU= 'ARSLAN NUR'\n",
      "2134\n"
     ]
    },
    {
     "name": "stderr",
     "output_type": "stream",
     "text": [
      "<suds.sax.document.Document object at 0x116e79f98>\n"
     ]
    },
    {
     "name": "stdout",
     "output_type": "stream",
     "text": [
      "ERROR ON AUT AU= 'ALACACIOGLU AHMET'\n",
      "2135\n"
     ]
    },
    {
     "name": "stderr",
     "output_type": "stream",
     "text": [
      "<suds.sax.document.Document object at 0x115f946a0>\n"
     ]
    },
    {
     "name": "stdout",
     "output_type": "stream",
     "text": [
      "ERROR ON AUT AU= 'CANSABUNCU SENA GOKSU'\n",
      "2136\n"
     ]
    },
    {
     "name": "stderr",
     "output_type": "stream",
     "text": [
      "<suds.sax.document.Document object at 0x1120c2d68>\n"
     ]
    },
    {
     "name": "stdout",
     "output_type": "stream",
     "text": [
      "ERROR ON AUT AU= 'DEMIR BERAT'\n",
      "2137\n"
     ]
    },
    {
     "name": "stderr",
     "output_type": "stream",
     "text": [
      "<suds.sax.document.Document object at 0x1120c2cf8>\n"
     ]
    },
    {
     "name": "stdout",
     "output_type": "stream",
     "text": [
      "ERROR ON AUT AU='ATIK KEMAL'\n",
      "2138\n"
     ]
    },
    {
     "name": "stderr",
     "output_type": "stream",
     "text": [
      "<suds.sax.document.Document object at 0x113c81748>\n"
     ]
    },
    {
     "name": "stdout",
     "output_type": "stream",
     "text": [
      "ERROR ON AUT AU= 'SENER MUSTAFA TALIP'\n",
      "2139\n"
     ]
    },
    {
     "name": "stderr",
     "output_type": "stream",
     "text": [
      "<suds.sax.document.Document object at 0x115b25eb8>\n"
     ]
    },
    {
     "name": "stdout",
     "output_type": "stream",
     "text": [
      "ERROR ON AUT AU= 'ERDOGAN YURDANUR'\n",
      "2140\n"
     ]
    },
    {
     "name": "stderr",
     "output_type": "stream",
     "text": [
      "<suds.sax.document.Document object at 0x115b25b00>\n"
     ]
    },
    {
     "name": "stdout",
     "output_type": "stream",
     "text": [
      "ERROR ON AUT AU='KARA ISKENDER'\n",
      "2141\n"
     ]
    },
    {
     "name": "stderr",
     "output_type": "stream",
     "text": [
      "<suds.sax.document.Document object at 0x113c59518>\n"
     ]
    },
    {
     "name": "stdout",
     "output_type": "stream",
     "text": [
      "ERROR ON AUT AU='CAPAL ISMAIL DAVUT'\n",
      "2142\n"
     ]
    },
    {
     "name": "stderr",
     "output_type": "stream",
     "text": [
      "<suds.sax.document.Document object at 0x1124c7400>\n"
     ]
    },
    {
     "name": "stdout",
     "output_type": "stream",
     "text": [
      "ERROR ON AUT AU= 'YAMAN YAVUZ'\n",
      "2143\n"
     ]
    },
    {
     "name": "stderr",
     "output_type": "stream",
     "text": [
      "<suds.sax.document.Document object at 0x1161cf710>\n"
     ]
    },
    {
     "name": "stdout",
     "output_type": "stream",
     "text": [
      "ERROR ON AUT AU= 'BABAOGLU MELIH O.'\n",
      "2144\n"
     ]
    },
    {
     "name": "stderr",
     "output_type": "stream",
     "text": [
      "<suds.sax.document.Document object at 0x113c81438>\n"
     ]
    },
    {
     "name": "stdout",
     "output_type": "stream",
     "text": [
      "ERROR ON AUT AU= 'AKKAR OZLEM BOZOKLU'\n",
      "2145\n"
     ]
    },
    {
     "name": "stderr",
     "output_type": "stream",
     "text": [
      "<suds.sax.document.Document object at 0x116e79198>\n"
     ]
    },
    {
     "name": "stdout",
     "output_type": "stream",
     "text": [
      "ERROR ON AUT AU= 'INAL MIKAIL'\n",
      "2146\n"
     ]
    },
    {
     "name": "stderr",
     "output_type": "stream",
     "text": [
      "<suds.sax.document.Document object at 0x13a183b70>\n"
     ]
    },
    {
     "name": "stdout",
     "output_type": "stream",
     "text": [
      "ERROR ON AUT AU= 'DELICE ALI'\n",
      "2147\n"
     ]
    },
    {
     "name": "stderr",
     "output_type": "stream",
     "text": [
      "<suds.sax.document.Document object at 0x115cb3fd0>\n"
     ]
    },
    {
     "name": "stdout",
     "output_type": "stream",
     "text": [
      "ERROR ON AUT AU='OBA AYLIN AKBAY'\n",
      "2148\n"
     ]
    },
    {
     "name": "stderr",
     "output_type": "stream",
     "text": [
      "<suds.sax.document.Document object at 0x116e4eb70>\n"
     ]
    },
    {
     "name": "stdout",
     "output_type": "stream",
     "text": [
      "ERROR ON AUT AU='CALBAN TURAN'\n",
      "2149\n"
     ]
    },
    {
     "name": "stderr",
     "output_type": "stream",
     "text": [
      "<suds.sax.document.Document object at 0x13a3fd518>\n"
     ]
    },
    {
     "name": "stdout",
     "output_type": "stream",
     "text": [
      "ERROR ON AUT AU= 'BOZKURT MAHMUT'\n",
      "2150\n"
     ]
    },
    {
     "name": "stderr",
     "output_type": "stream",
     "text": [
      "<suds.sax.document.Document object at 0x115cdeb70>\n"
     ]
    },
    {
     "name": "stdout",
     "output_type": "stream",
     "text": [
      "ERROR ON AUT AU= 'BESIROGLU MEHMET'\n",
      "2151\n"
     ]
    },
    {
     "name": "stderr",
     "output_type": "stream",
     "text": [
      "<suds.sax.document.Document object at 0x13a183e48>\n"
     ]
    },
    {
     "name": "stdout",
     "output_type": "stream",
     "text": [
      "ERROR ON AUT AU= 'SEVINC RUKIYE'\n",
      "2152\n"
     ]
    },
    {
     "name": "stderr",
     "output_type": "stream",
     "text": [
      "<suds.sax.document.Document object at 0x13a183438>\n"
     ]
    },
    {
     "name": "stdout",
     "output_type": "stream",
     "text": [
      "ERROR ON AUT AU='BORKU MEHMET KAZIM'\n",
      "2153\n"
     ]
    },
    {
     "name": "stderr",
     "output_type": "stream",
     "text": [
      "<suds.sax.document.Document object at 0x115cb33c8>\n"
     ]
    },
    {
     "name": "stdout",
     "output_type": "stream",
     "text": [
      "ERROR ON AUT AU= 'CORDANO CHRISTIAN'\n",
      "2154\n"
     ]
    },
    {
     "name": "stderr",
     "output_type": "stream",
     "text": [
      "<suds.sax.document.Document object at 0x1161cf860>\n"
     ]
    },
    {
     "name": "stdout",
     "output_type": "stream",
     "text": [
      "ERROR ON AUT AU='KACAR EMRE'\n",
      "2155\n"
     ]
    },
    {
     "name": "stderr",
     "output_type": "stream",
     "text": [
      "<suds.sax.document.Document object at 0x11214b390>\n"
     ]
    },
    {
     "name": "stdout",
     "output_type": "stream",
     "text": [
      "ERROR ON AUT AU= 'IPCI OZLEM'\n",
      "2156\n"
     ]
    },
    {
     "name": "stderr",
     "output_type": "stream",
     "text": [
      "<suds.sax.document.Document object at 0x115b25080>\n"
     ]
    },
    {
     "name": "stdout",
     "output_type": "stream",
     "text": [
      "ERROR ON AUT AU= 'BUYUKCAN MEHMET BURAK'\n",
      "2157\n"
     ]
    },
    {
     "name": "stderr",
     "output_type": "stream",
     "text": [
      "<suds.sax.document.Document object at 0x1124c7c50>\n"
     ]
    },
    {
     "name": "stdout",
     "output_type": "stream",
     "text": [
      "ERROR ON AUT AU='ICLAL BAYHAN GULSUM'\n",
      "2158\n"
     ]
    },
    {
     "name": "stderr",
     "output_type": "stream",
     "text": [
      "<suds.sax.document.Document object at 0x1124c77f0>\n"
     ]
    },
    {
     "name": "stdout",
     "output_type": "stream",
     "text": [
      "ERROR ON AUT AU= 'SELIGER G'\n",
      "2159\n"
     ]
    },
    {
     "name": "stderr",
     "output_type": "stream",
     "text": [
      "<suds.sax.document.Document object at 0x115cb32e8>\n"
     ]
    },
    {
     "name": "stdout",
     "output_type": "stream",
     "text": [
      "ERROR ON AUT AU= 'BAYSAN BETIL OZHAK'\n",
      "2160\n"
     ]
    },
    {
     "name": "stderr",
     "output_type": "stream",
     "text": [
      "<suds.sax.document.Document object at 0x115976278>\n"
     ]
    },
    {
     "name": "stdout",
     "output_type": "stream",
     "text": [
      "ERROR ON AUT AU= 'ERKAN FARUK'\n",
      "2161\n"
     ]
    },
    {
     "name": "stderr",
     "output_type": "stream",
     "text": [
      "<suds.sax.document.Document object at 0x115f94ac8>\n"
     ]
    },
    {
     "name": "stdout",
     "output_type": "stream",
     "text": [
      "ERROR ON AUT AU='YESIL YUSUF'\n",
      "2162\n"
     ]
    },
    {
     "name": "stderr",
     "output_type": "stream",
     "text": [
      "<suds.sax.document.Document object at 0x13a3fdc18>\n"
     ]
    },
    {
     "name": "stdout",
     "output_type": "stream",
     "text": [
      "ERROR ON AUT AU= 'KURT SEFA'\n",
      "2163\n"
     ]
    },
    {
     "name": "stderr",
     "output_type": "stream",
     "text": [
      "<suds.sax.document.Document object at 0x117f746a0>\n"
     ]
    },
    {
     "name": "stdout",
     "output_type": "stream",
     "text": [
      "ERROR ON AUT AU= 'KOSEOGLU ZIKRET'\n",
      "2164\n"
     ]
    },
    {
     "name": "stderr",
     "output_type": "stream",
     "text": [
      "<suds.sax.document.Document object at 0x113c59470>\n"
     ]
    },
    {
     "name": "stdout",
     "output_type": "stream",
     "text": [
      "ERROR ON AUT AU= 'KOC EBRU'\n",
      "2165\n"
     ]
    },
    {
     "name": "stderr",
     "output_type": "stream",
     "text": [
      "<suds.sax.document.Document object at 0x115cb3d30>\n"
     ]
    },
    {
     "name": "stdout",
     "output_type": "stream",
     "text": [
      "ERROR ON AUT AU= 'ZELJKOVIC SANJA CAVAR'\n",
      "2166\n"
     ]
    },
    {
     "name": "stderr",
     "output_type": "stream",
     "text": [
      "<suds.sax.document.Document object at 0x113c81cf8>\n"
     ]
    },
    {
     "name": "stdout",
     "output_type": "stream",
     "text": [
      "ERROR ON AUT AU='KUCUKDURMAZ ZEKERIYA'\n",
      "2167\n"
     ]
    },
    {
     "name": "stderr",
     "output_type": "stream",
     "text": [
      "<suds.sax.document.Document object at 0x113c814a8>\n"
     ]
    },
    {
     "name": "stdout",
     "output_type": "stream",
     "text": [
      "ERROR ON AUT AU= 'VERBURG PETER H.'\n",
      "2168\n"
     ]
    },
    {
     "name": "stderr",
     "output_type": "stream",
     "text": [
      "<suds.sax.document.Document object at 0x115cdecc0>\n"
     ]
    },
    {
     "name": "stdout",
     "output_type": "stream",
     "text": [
      "ERROR ON AUT AU= 'TURKBEYLER IBRAHIM'\n",
      "2169\n"
     ]
    },
    {
     "name": "stderr",
     "output_type": "stream",
     "text": [
      "<suds.sax.document.Document object at 0x115f211d0>\n"
     ]
    },
    {
     "name": "stdout",
     "output_type": "stream",
     "text": [
      "ERROR ON AUT AU= 'BUYUKTORTOP NESRIN'\n",
      "2170\n"
     ]
    },
    {
     "name": "stderr",
     "output_type": "stream",
     "text": [
      "<suds.sax.document.Document object at 0x115f21128>\n"
     ]
    },
    {
     "name": "stdout",
     "output_type": "stream",
     "text": [
      "ERROR ON AUT AU= 'YENICESU GONCA IMIR'\n",
      "2171\n"
     ]
    },
    {
     "name": "stderr",
     "output_type": "stream",
     "text": [
      "<suds.sax.document.Document object at 0x115cb3a20>\n"
     ]
    },
    {
     "name": "stdout",
     "output_type": "stream",
     "text": [
      "ERROR ON AUT AU= 'HAKVERDI SIBEL'\n",
      "2172\n"
     ]
    },
    {
     "name": "stderr",
     "output_type": "stream",
     "text": [
      "<suds.sax.document.Document object at 0x115e0d588>\n"
     ]
    },
    {
     "name": "stdout",
     "output_type": "stream",
     "text": [
      "ERROR ON AUT AU= 'INANIR FEDAI'\n",
      "2173\n"
     ]
    },
    {
     "name": "stderr",
     "output_type": "stream",
     "text": [
      "<suds.sax.document.Document object at 0x115e0d8d0>\n"
     ]
    },
    {
     "name": "stdout",
     "output_type": "stream",
     "text": [
      "ERROR ON AUT AU='KOCAK ABDULLAH O.'\n",
      "2174\n"
     ]
    },
    {
     "name": "stderr",
     "output_type": "stream",
     "text": [
      "<suds.sax.document.Document object at 0x115cdef60>\n"
     ]
    },
    {
     "name": "stdout",
     "output_type": "stream",
     "text": [
      "ERROR ON AUT AU= 'KARADAYI HUSNA'\n",
      "2175\n"
     ]
    },
    {
     "name": "stderr",
     "output_type": "stream",
     "text": [
      "<suds.sax.document.Document object at 0x113c59ac8>\n"
     ]
    },
    {
     "name": "stdout",
     "output_type": "stream",
     "text": [
      "ERROR ON AUT AU= 'KURTGOZ SERKAN'\n",
      "2176\n"
     ]
    },
    {
     "name": "stderr",
     "output_type": "stream",
     "text": [
      "<suds.sax.document.Document object at 0x113c59978>\n"
     ]
    },
    {
     "name": "stdout",
     "output_type": "stream",
     "text": [
      "ERROR ON AUT AU='ASIK MURAT'\n",
      "2177\n"
     ]
    },
    {
     "name": "stderr",
     "output_type": "stream",
     "text": [
      "<suds.sax.document.Document object at 0x115cb30b8>\n"
     ]
    },
    {
     "name": "stdout",
     "output_type": "stream",
     "text": [
      "ERROR ON AUT AU= 'SOLAK SAMET'\n",
      "2178\n"
     ]
    },
    {
     "name": "stderr",
     "output_type": "stream",
     "text": [
      "<suds.sax.document.Document object at 0x116de8780>\n"
     ]
    },
    {
     "name": "stdout",
     "output_type": "stream",
     "text": [
      "ERROR ON AUT AU='DOLU NURGUL'\n",
      "2179\n"
     ]
    },
    {
     "name": "stderr",
     "output_type": "stream",
     "text": [
      "<suds.sax.document.Document object at 0x115e0d9e8>\n"
     ]
    },
    {
     "name": "stdout",
     "output_type": "stream",
     "text": [
      "ERROR ON AUT AU='ERYUREK MUSTAFA'\n",
      "2180\n"
     ]
    },
    {
     "name": "stderr",
     "output_type": "stream",
     "text": [
      "<suds.sax.document.Document object at 0x113c81358>\n"
     ]
    },
    {
     "name": "stdout",
     "output_type": "stream",
     "text": [
      "ERROR ON AUT AU= 'ALUCLU M. UFUK'\n",
      "2181\n"
     ]
    },
    {
     "name": "stderr",
     "output_type": "stream",
     "text": [
      "<suds.sax.document.Document object at 0x116de8a90>\n"
     ]
    },
    {
     "name": "stdout",
     "output_type": "stream",
     "text": [
      "ERROR ON AUT AU='TOREN PELIN'\n",
      "2182\n"
     ]
    },
    {
     "name": "stderr",
     "output_type": "stream",
     "text": [
      "<suds.sax.document.Document object at 0x116de8a20>\n"
     ]
    },
    {
     "name": "stdout",
     "output_type": "stream",
     "text": [
      "ERROR ON AUT AU= 'OZYUREK OMER'\n",
      "2183\n"
     ]
    },
    {
     "name": "stderr",
     "output_type": "stream",
     "text": [
      "<suds.sax.document.Document object at 0x115e0d518>\n"
     ]
    },
    {
     "name": "stdout",
     "output_type": "stream",
     "text": [
      "ERROR ON AUT AU= 'SARAC ELIF TUBA'\n",
      "2184\n"
     ]
    },
    {
     "name": "stderr",
     "output_type": "stream",
     "text": [
      "<suds.sax.document.Document object at 0x115b25e80>\n"
     ]
    },
    {
     "name": "stdout",
     "output_type": "stream",
     "text": [
      "ERROR ON AUT AU= 'HISMIOGULLARI SAHVER E.'\n",
      "2185\n"
     ]
    },
    {
     "name": "stderr",
     "output_type": "stream",
     "text": [
      "<suds.sax.document.Document object at 0x115b256d8>\n"
     ]
    },
    {
     "name": "stdout",
     "output_type": "stream",
     "text": [
      "ERROR ON AUT AU= 'TASDEMIR SEDA'\n",
      "2186\n"
     ]
    },
    {
     "name": "stderr",
     "output_type": "stream",
     "text": [
      "<suds.sax.document.Document object at 0x113c59470>\n"
     ]
    },
    {
     "name": "stdout",
     "output_type": "stream",
     "text": [
      "ERROR ON AUT AU='KUZU OMUR HAKAN'\n",
      "2187\n"
     ]
    },
    {
     "name": "stderr",
     "output_type": "stream",
     "text": [
      "<suds.sax.document.Document object at 0x112a872e8>\n"
     ]
    },
    {
     "name": "stdout",
     "output_type": "stream",
     "text": [
      "ERROR ON AUT AU= 'KOSE GAYE'\n",
      "2188\n"
     ]
    },
    {
     "name": "stderr",
     "output_type": "stream",
     "text": [
      "<suds.sax.document.Document object at 0x112a87ef0>\n"
     ]
    },
    {
     "name": "stdout",
     "output_type": "stream",
     "text": [
      "ERROR ON AUT AU= 'GURBUZ MELEK'\n",
      "2189\n"
     ]
    },
    {
     "name": "stderr",
     "output_type": "stream",
     "text": [
      "<suds.sax.document.Document object at 0x117f741d0>\n"
     ]
    },
    {
     "name": "stdout",
     "output_type": "stream",
     "text": [
      "ERROR ON AUT AU= 'ATALAY FUNDA'\n",
      "2190\n"
     ]
    },
    {
     "name": "stderr",
     "output_type": "stream",
     "text": [
      "<suds.sax.document.Document object at 0x11214b470>\n"
     ]
    },
    {
     "name": "stdout",
     "output_type": "stream",
     "text": [
      "ERROR ON AUT AU= 'MERGEN HATICE'\n",
      "2191\n"
     ]
    },
    {
     "name": "stderr",
     "output_type": "stream",
     "text": [
      "<suds.sax.document.Document object at 0x1161cfdd8>\n"
     ]
    },
    {
     "name": "stdout",
     "output_type": "stream",
     "text": [
      "ERROR ON AUT AU= 'KOBAT SABIHA'\n",
      "2192\n"
     ]
    },
    {
     "name": "stderr",
     "output_type": "stream",
     "text": [
      "<suds.sax.document.Document object at 0x113c597f0>\n"
     ]
    },
    {
     "name": "stdout",
     "output_type": "stream",
     "text": [
      "ERROR ON AUT AU= 'DEMIRTAS CANAN'\n",
      "2193\n"
     ]
    },
    {
     "name": "stderr",
     "output_type": "stream",
     "text": [
      "<suds.sax.document.Document object at 0x112a87080>\n"
     ]
    },
    {
     "name": "stdout",
     "output_type": "stream",
     "text": [
      "ERROR ON AUT AU= 'YOKUS OZLEM AKTAS'\n",
      "2194\n"
     ]
    },
    {
     "name": "stderr",
     "output_type": "stream",
     "text": [
      "<suds.sax.document.Document object at 0x112a87240>\n"
     ]
    },
    {
     "name": "stdout",
     "output_type": "stream",
     "text": [
      "ERROR ON AUT AU= 'HACIYEV YUSUF'\n",
      "2195\n"
     ]
    },
    {
     "name": "stderr",
     "output_type": "stream",
     "text": [
      "<suds.sax.document.Document object at 0x115f215f8>\n"
     ]
    },
    {
     "name": "stdout",
     "output_type": "stream",
     "text": [
      "ERROR ON AUT AU= 'TURSUN IRFAN'\n",
      "2196\n"
     ]
    },
    {
     "name": "stderr",
     "output_type": "stream",
     "text": [
      "<suds.sax.document.Document object at 0x1124c70f0>\n"
     ]
    },
    {
     "name": "stdout",
     "output_type": "stream",
     "text": [
      "ERROR ON AUT AU= 'YURTSEVEN SABRI'\n",
      "2197\n"
     ]
    },
    {
     "name": "stderr",
     "output_type": "stream",
     "text": [
      "<suds.sax.document.Document object at 0x1124c7f60>\n"
     ]
    },
    {
     "name": "stdout",
     "output_type": "stream",
     "text": [
      "ERROR ON AUT AU= 'TERUYA-FELDSTEIN JULIE'\n",
      "2198\n"
     ]
    },
    {
     "name": "stderr",
     "output_type": "stream",
     "text": [
      "<suds.sax.document.Document object at 0x113c59128>\n"
     ]
    },
    {
     "name": "stdout",
     "output_type": "stream",
     "text": [
      "ERROR ON AUT AU= 'SEZGIN SERCAN'\n",
      "2199\n"
     ]
    },
    {
     "name": "stderr",
     "output_type": "stream",
     "text": [
      "<suds.sax.document.Document object at 0x115cde4e0>\n"
     ]
    },
    {
     "name": "stdout",
     "output_type": "stream",
     "text": [
      "ERROR ON AUT AU= 'GOPAL DHANANJAY'\n",
      "2200\n"
     ]
    },
    {
     "name": "stderr",
     "output_type": "stream",
     "text": [
      "<suds.sax.document.Document object at 0x115cdef98>\n"
     ]
    },
    {
     "name": "stdout",
     "output_type": "stream",
     "text": [
      "ERROR ON AUT AU='KOSE DOGAN'\n",
      "2201\n"
     ]
    },
    {
     "name": "stderr",
     "output_type": "stream",
     "text": [
      "<suds.sax.document.Document object at 0x115f21780>\n"
     ]
    },
    {
     "name": "stdout",
     "output_type": "stream",
     "text": [
      "ERROR ON AUT AU= 'KOSTU BULENT'\n",
      "2202\n"
     ]
    },
    {
     "name": "stderr",
     "output_type": "stream",
     "text": [
      "<suds.sax.document.Document object at 0x1124c7320>\n"
     ]
    },
    {
     "name": "stdout",
     "output_type": "stream",
     "text": [
      "ERROR ON AUT AU='YAMAK NESIBE'\n",
      "2203\n"
     ]
    },
    {
     "name": "stderr",
     "output_type": "stream",
     "text": [
      "<suds.sax.document.Document object at 0x1124c74e0>\n"
     ]
    },
    {
     "name": "stdout",
     "output_type": "stream",
     "text": [
      "ERROR ON AUT AU= 'YILDIZ HASAN'\n",
      "2204\n"
     ]
    },
    {
     "name": "stderr",
     "output_type": "stream",
     "text": [
      "<suds.sax.document.Document object at 0x113c59f98>\n"
     ]
    },
    {
     "name": "stdout",
     "output_type": "stream",
     "text": [
      "ERROR ON AUT AU='BOZDOGAN SEVCAN TUG'\n",
      "2205\n"
     ]
    },
    {
     "name": "stderr",
     "output_type": "stream",
     "text": [
      "<suds.sax.document.Document object at 0x115f94160>\n"
     ]
    },
    {
     "name": "stdout",
     "output_type": "stream",
     "text": [
      "ERROR ON AUT AU= 'CAYCI YELIZ TANRIVERDI'\n",
      "2206\n"
     ]
    },
    {
     "name": "stderr",
     "output_type": "stream",
     "text": [
      "<suds.sax.document.Document object at 0x115f94cc0>\n"
     ]
    },
    {
     "name": "stdout",
     "output_type": "stream",
     "text": [
      "ERROR ON AUT AU= 'MENEMENLIOGLU DILEK'\n",
      "2207\n"
     ]
    },
    {
     "name": "stderr",
     "output_type": "stream",
     "text": [
      "<suds.sax.document.Document object at 0x115e0d6d8>\n"
     ]
    },
    {
     "name": "stdout",
     "output_type": "stream",
     "text": [
      "ERROR ON AUT AU= 'GOERKEMLI HUEYIN'\n",
      "2208\n"
     ]
    },
    {
     "name": "stderr",
     "output_type": "stream",
     "text": [
      "<suds.sax.document.Document object at 0x115b256d8>\n"
     ]
    },
    {
     "name": "stdout",
     "output_type": "stream",
     "text": [
      "ERROR ON AUT AU= 'ORHUN SIBEL'\n",
      "2209\n"
     ]
    },
    {
     "name": "stderr",
     "output_type": "stream",
     "text": [
      "<suds.sax.document.Document object at 0x1120c2dd8>\n"
     ]
    },
    {
     "name": "stdout",
     "output_type": "stream",
     "text": [
      "ERROR ON AUT AU='ALTAN GUERKAN'\n",
      "2210\n"
     ]
    },
    {
     "name": "stderr",
     "output_type": "stream",
     "text": [
      "<suds.sax.document.Document object at 0x116de8a20>\n"
     ]
    },
    {
     "name": "stdout",
     "output_type": "stream",
     "text": [
      "ERROR ON AUT AU= 'GURPINAR BARIS'\n",
      "2211\n"
     ]
    },
    {
     "name": "stderr",
     "output_type": "stream",
     "text": [
      "<suds.sax.document.Document object at 0x115cb3fd0>\n"
     ]
    },
    {
     "name": "stdout",
     "output_type": "stream",
     "text": [
      "ERROR ON AUT AU='BEKTAS OSMAN'\n",
      "2212\n"
     ]
    },
    {
     "name": "stderr",
     "output_type": "stream",
     "text": [
      "<suds.sax.document.Document object at 0x115f94ba8>\n"
     ]
    },
    {
     "name": "stdout",
     "output_type": "stream",
     "text": [
      "ERROR ON AUT AU= 'OZKAYA Y. GUL'\n",
      "2213\n"
     ]
    },
    {
     "name": "stderr",
     "output_type": "stream",
     "text": [
      "<suds.sax.document.Document object at 0x115e0dd30>\n"
     ]
    },
    {
     "name": "stdout",
     "output_type": "stream",
     "text": [
      "ERROR ON AUT AU='GARIPARDIC MESUT'\n",
      "2214\n"
     ]
    },
    {
     "name": "stderr",
     "output_type": "stream",
     "text": [
      "<suds.sax.document.Document object at 0x11214b470>\n"
     ]
    },
    {
     "name": "stdout",
     "output_type": "stream",
     "text": [
      "ERROR ON AUT AU= 'YORGANCIGIL EMRE'\n",
      "2215\n"
     ]
    },
    {
     "name": "stderr",
     "output_type": "stream",
     "text": [
      "<suds.sax.document.Document object at 0x1120c2710>\n"
     ]
    },
    {
     "name": "stdout",
     "output_type": "stream",
     "text": [
      "ERROR ON AUT AU= 'YAZICI AYSE CANAN'\n",
      "2216\n"
     ]
    },
    {
     "name": "stderr",
     "output_type": "stream",
     "text": [
      "<suds.sax.document.Document object at 0x1124c7400>\n"
     ]
    },
    {
     "name": "stdout",
     "output_type": "stream",
     "text": [
      "ERROR ON AUT AU= 'KARA MUAMMER'\n",
      "2217\n"
     ]
    },
    {
     "name": "stderr",
     "output_type": "stream",
     "text": [
      "<suds.sax.document.Document object at 0x13a16e898>\n"
     ]
    },
    {
     "name": "stdout",
     "output_type": "stream",
     "text": [
      "ERROR ON AUT AU='PALA ERKAN'\n",
      "2218\n"
     ]
    },
    {
     "name": "stderr",
     "output_type": "stream",
     "text": [
      "<suds.sax.document.Document object at 0x13a16e4a8>\n"
     ]
    },
    {
     "name": "stdout",
     "output_type": "stream",
     "text": [
      "ERROR ON AUT AU= 'USLUER GAYE'\n",
      "2219\n"
     ]
    },
    {
     "name": "stderr",
     "output_type": "stream",
     "text": [
      "<suds.sax.document.Document object at 0x115cb35f8>\n"
     ]
    },
    {
     "name": "stdout",
     "output_type": "stream",
     "text": [
      "ERROR ON AUT AU= 'GUCER TULUN KAYA'\n",
      "2220\n"
     ]
    },
    {
     "name": "stderr",
     "output_type": "stream",
     "text": [
      "<suds.sax.document.Document object at 0x115f212b0>\n"
     ]
    },
    {
     "name": "stdout",
     "output_type": "stream",
     "text": [
      "ERROR ON AUT AU= 'AGACKIRAN YETKIN'\n",
      "2221\n"
     ]
    },
    {
     "name": "stderr",
     "output_type": "stream",
     "text": [
      "<suds.sax.document.Document object at 0x115f21550>\n"
     ]
    },
    {
     "name": "stdout",
     "output_type": "stream",
     "text": [
      "ERROR ON AUT AU= 'KERMEN EDA'\n",
      "2222\n"
     ]
    },
    {
     "name": "stderr",
     "output_type": "stream",
     "text": [
      "<suds.sax.document.Document object at 0x115f94a90>\n"
     ]
    },
    {
     "name": "stdout",
     "output_type": "stream",
     "text": [
      "ERROR ON AUT AU= 'ADILOGLU ALI'\n",
      "2223\n"
     ]
    },
    {
     "name": "stderr",
     "output_type": "stream",
     "text": [
      "<suds.sax.document.Document object at 0x13a183d68>\n"
     ]
    },
    {
     "name": "stdout",
     "output_type": "stream",
     "text": [
      "ERROR ON AUT AU= 'AYTAN HAKAN'\n",
      "2224\n"
     ]
    },
    {
     "name": "stderr",
     "output_type": "stream",
     "text": [
      "<suds.sax.document.Document object at 0x13a183b70>\n"
     ]
    },
    {
     "name": "stdout",
     "output_type": "stream",
     "text": [
      "ERROR ON AUT AU= 'BUDAKOGLU IREM'\n",
      "2225\n"
     ]
    },
    {
     "name": "stderr",
     "output_type": "stream",
     "text": [
      "<suds.sax.document.Document object at 0x115cb3f28>\n"
     ]
    },
    {
     "name": "stdout",
     "output_type": "stream",
     "text": [
      "ERROR ON AUT AU='TEMEL MEHMET'\n",
      "2226\n"
     ]
    },
    {
     "name": "stderr",
     "output_type": "stream",
     "text": [
      "<suds.sax.document.Document object at 0x11214b710>\n"
     ]
    },
    {
     "name": "stdout",
     "output_type": "stream",
     "text": [
      "ERROR ON AUT AU= 'DINC SEMRA'\n",
      "2227\n"
     ]
    },
    {
     "name": "stderr",
     "output_type": "stream",
     "text": [
      "<suds.sax.document.Document object at 0x117f746a0>\n"
     ]
    },
    {
     "name": "stdout",
     "output_type": "stream",
     "text": [
      "ERROR ON AUT AU= 'YILMAZ YUNUS K.'\n",
      "2228\n"
     ]
    },
    {
     "name": "stderr",
     "output_type": "stream",
     "text": [
      "<suds.sax.document.Document object at 0x115f94400>\n"
     ]
    },
    {
     "name": "stdout",
     "output_type": "stream",
     "text": [
      "ERROR ON AUT AU='TAKTAK SAFAK'\n",
      "2229\n"
     ]
    },
    {
     "name": "stderr",
     "output_type": "stream",
     "text": [
      "<suds.sax.document.Document object at 0x1124c7f60>\n"
     ]
    },
    {
     "name": "stdout",
     "output_type": "stream",
     "text": [
      "ERROR ON AUT AU= 'OLMEZOGLU ALI'\n",
      "2230\n"
     ]
    },
    {
     "name": "stderr",
     "output_type": "stream",
     "text": [
      "<suds.sax.document.Document object at 0x13a16e6a0>\n"
     ]
    },
    {
     "name": "stdout",
     "output_type": "stream",
     "text": [
      "ERROR ON AUT AU='ARSLAN MEHMET SERIF'\n",
      "2231\n"
     ]
    },
    {
     "name": "stderr",
     "output_type": "stream",
     "text": [
      "<suds.sax.document.Document object at 0x115cb32b0>\n"
     ]
    },
    {
     "name": "stdout",
     "output_type": "stream",
     "text": [
      "ERROR ON AUT AU='OZDEMIR PINAR GUZEL'\n",
      "2232\n"
     ]
    },
    {
     "name": "stderr",
     "output_type": "stream",
     "text": [
      "<suds.sax.document.Document object at 0x117f746d8>\n"
     ]
    },
    {
     "name": "stdout",
     "output_type": "stream",
     "text": [
      "ERROR ON AUT AU= 'MAKSYMOWYCH WALTER P.'\n",
      "2233\n"
     ]
    },
    {
     "name": "stderr",
     "output_type": "stream",
     "text": [
      "<suds.sax.document.Document object at 0x112a87240>\n"
     ]
    },
    {
     "name": "stdout",
     "output_type": "stream",
     "text": [
      "ERROR ON AUT AU= 'ISIK MESUT'\n",
      "2234\n"
     ]
    },
    {
     "name": "stderr",
     "output_type": "stream",
     "text": [
      "<suds.sax.document.Document object at 0x115f94dd8>\n"
     ]
    },
    {
     "name": "stdout",
     "output_type": "stream",
     "text": [
      "ERROR ON AUT AU= 'GUMUS HASAN O.'\n",
      "2235\n"
     ]
    },
    {
     "name": "stderr",
     "output_type": "stream",
     "text": [
      "<suds.sax.document.Document object at 0x113c59f98>\n"
     ]
    },
    {
     "name": "stdout",
     "output_type": "stream",
     "text": [
      "ERROR ON AUT AU= 'BASKAN SAIM'\n",
      "2236\n"
     ]
    },
    {
     "name": "stderr",
     "output_type": "stream",
     "text": [
      "<suds.sax.document.Document object at 0x113c59390>\n"
     ]
    },
    {
     "name": "stdout",
     "output_type": "stream",
     "text": [
      "ERROR ON AUT AU= 'DEVRIM ILKER'\n",
      "2237\n"
     ]
    },
    {
     "name": "stderr",
     "output_type": "stream",
     "text": [
      "<suds.sax.document.Document object at 0x115cb36a0>\n"
     ]
    },
    {
     "name": "stdout",
     "output_type": "stream",
     "text": [
      "ERROR ON AUT AU= 'KAYAALTI ZELIHA'\n",
      "2238\n"
     ]
    },
    {
     "name": "stderr",
     "output_type": "stream",
     "text": [
      "<suds.sax.document.Document object at 0x1159bc780>\n"
     ]
    },
    {
     "name": "stdout",
     "output_type": "stream",
     "text": [
      "ERROR ON AUT AU='KAYA ABDURRAHMAN'\n",
      "2239\n"
     ]
    },
    {
     "name": "stderr",
     "output_type": "stream",
     "text": [
      "<suds.sax.document.Document object at 0x1159bcba8>\n"
     ]
    },
    {
     "name": "stdout",
     "output_type": "stream",
     "text": [
      "ERROR ON AUT AU= 'SHER MUHAMMAD'\n",
      "2240\n"
     ]
    },
    {
     "name": "stderr",
     "output_type": "stream",
     "text": [
      "<suds.sax.document.Document object at 0x115f940b8>\n"
     ]
    },
    {
     "name": "stdout",
     "output_type": "stream",
     "text": [
      "ERROR ON AUT AU= 'GENCTOY GULTEKIN'\n",
      "2241\n"
     ]
    },
    {
     "name": "stderr",
     "output_type": "stream",
     "text": [
      "<suds.sax.document.Document object at 0x1120c2128>\n"
     ]
    },
    {
     "name": "stdout",
     "output_type": "stream",
     "text": [
      "ERROR ON AUT AU= 'KAYHAN FATIH'\n",
      "2242\n"
     ]
    },
    {
     "name": "stderr",
     "output_type": "stream",
     "text": [
      "<suds.sax.document.Document object at 0x1120c2400>\n"
     ]
    },
    {
     "name": "stdout",
     "output_type": "stream",
     "text": [
      "ERROR ON AUT AU= 'CAGLI KUMRAL'\n",
      "2243\n"
     ]
    },
    {
     "name": "stderr",
     "output_type": "stream",
     "text": [
      "<suds.sax.document.Document object at 0x115cb3208>\n"
     ]
    },
    {
     "name": "stdout",
     "output_type": "stream",
     "text": [
      "ERROR ON AUT AU= 'KARRER GERHARD'\n",
      "2244\n"
     ]
    },
    {
     "name": "stderr",
     "output_type": "stream",
     "text": [
      "<suds.sax.document.Document object at 0x115f210f0>\n"
     ]
    },
    {
     "name": "stdout",
     "output_type": "stream",
     "text": [
      "ERROR ON AUT AU= 'KENDALL MICHAELA'\n",
      "2245\n"
     ]
    },
    {
     "name": "stderr",
     "output_type": "stream",
     "text": [
      "<suds.sax.document.Document object at 0x115e0d438>\n"
     ]
    },
    {
     "name": "stdout",
     "output_type": "stream",
     "text": [
      "ERROR ON AUT AU='CAYIR KERIM'\n",
      "2246\n"
     ]
    },
    {
     "name": "stderr",
     "output_type": "stream",
     "text": [
      "<suds.sax.document.Document object at 0x113c814a8>\n"
     ]
    },
    {
     "name": "stdout",
     "output_type": "stream",
     "text": [
      "ERROR ON AUT AU= 'TETIK ERKAN'\n",
      "2247\n"
     ]
    },
    {
     "name": "stderr",
     "output_type": "stream",
     "text": [
      "<suds.sax.document.Document object at 0x13a16e438>\n"
     ]
    },
    {
     "name": "stdout",
     "output_type": "stream",
     "text": [
      "ERROR ON AUT AU= 'DENIZ ORHAN'\n",
      "2248\n"
     ]
    },
    {
     "name": "stderr",
     "output_type": "stream",
     "text": [
      "<suds.sax.document.Document object at 0x116e4eb70>\n"
     ]
    },
    {
     "name": "stdout",
     "output_type": "stream",
     "text": [
      "ERROR ON AUT AU= 'AYSEV AHMET DERYA'\n",
      "2249\n"
     ]
    },
    {
     "name": "stderr",
     "output_type": "stream",
     "text": [
      "<suds.sax.document.Document object at 0x116de8cf8>\n"
     ]
    },
    {
     "name": "stdout",
     "output_type": "stream",
     "text": [
      "ERROR ON AUT AU= 'DEMIRCI H. IBRAHIM'\n",
      "2250\n"
     ]
    },
    {
     "name": "stderr",
     "output_type": "stream",
     "text": [
      "<suds.sax.document.Document object at 0x115b25b70>\n"
     ]
    },
    {
     "name": "stdout",
     "output_type": "stream",
     "text": [
      "ERROR ON AUT AU='POLAT CIHAT'\n",
      "2251\n"
     ]
    },
    {
     "name": "stderr",
     "output_type": "stream",
     "text": [
      "<suds.sax.document.Document object at 0x115e0d390>\n"
     ]
    },
    {
     "name": "stdout",
     "output_type": "stream",
     "text": [
      "ERROR ON AUT AU='CAKMAK CENAP'\n",
      "2252\n"
     ]
    },
    {
     "name": "stderr",
     "output_type": "stream",
     "text": [
      "<suds.sax.document.Document object at 0x116de8ba8>\n"
     ]
    },
    {
     "name": "stdout",
     "output_type": "stream",
     "text": [
      "ERROR ON AUT AU='AKKAYA NEVZAT'\n",
      "2253\n"
     ]
    },
    {
     "name": "stderr",
     "output_type": "stream",
     "text": [
      "<suds.sax.document.Document object at 0x1420386a0>\n"
     ]
    },
    {
     "name": "stdout",
     "output_type": "stream",
     "text": [
      "ERROR ON AUT AU= 'CETIN NURULLAH'\n",
      "2254\n"
     ]
    },
    {
     "name": "stderr",
     "output_type": "stream",
     "text": [
      "<suds.sax.document.Document object at 0x115b25710>\n"
     ]
    },
    {
     "name": "stdout",
     "output_type": "stream",
     "text": [
      "ERROR ON AUT AU= 'TUNC AZIZ'\n",
      "2255\n"
     ]
    },
    {
     "name": "stderr",
     "output_type": "stream",
     "text": [
      "<suds.sax.document.Document object at 0x115e0dac8>\n"
     ]
    },
    {
     "name": "stdout",
     "output_type": "stream",
     "text": [
      "ERROR ON AUT AU= 'TUTAK MUSTAFA'\n",
      "2256\n"
     ]
    },
    {
     "name": "stderr",
     "output_type": "stream",
     "text": [
      "<suds.sax.document.Document object at 0x13a16e710>\n"
     ]
    },
    {
     "name": "stdout",
     "output_type": "stream",
     "text": [
      "ERROR ON AUT AU='KANDEMIRLI FATMA'\n",
      "2257\n"
     ]
    },
    {
     "name": "stderr",
     "output_type": "stream",
     "text": [
      "<suds.sax.document.Document object at 0x13a16e390>\n"
     ]
    },
    {
     "name": "stdout",
     "output_type": "stream",
     "text": [
      "ERROR ON AUT AU= 'BUYUKUYSAL MUSTAFA CAGATAY'\n",
      "2258\n"
     ]
    },
    {
     "name": "stderr",
     "output_type": "stream",
     "text": [
      "<suds.sax.document.Document object at 0x1159bc438>\n"
     ]
    },
    {
     "name": "stdout",
     "output_type": "stream",
     "text": [
      "ERROR ON AUT AU='SEHITOGLU IBRAHIM'\n",
      "2259\n"
     ]
    },
    {
     "name": "stderr",
     "output_type": "stream",
     "text": [
      "<suds.sax.document.Document object at 0x115976320>\n"
     ]
    },
    {
     "name": "stdout",
     "output_type": "stream",
     "text": [
      "ERROR ON AUT AU= 'SENOCAKY AYSEGUEL'\n",
      "2260\n"
     ]
    },
    {
     "name": "stderr",
     "output_type": "stream",
     "text": [
      "<suds.sax.document.Document object at 0x115b25e10>\n"
     ]
    },
    {
     "name": "stdout",
     "output_type": "stream",
     "text": [
      "ERROR ON AUT AU= 'GUNVAR TOLGA'\n",
      "2261\n"
     ]
    },
    {
     "name": "stderr",
     "output_type": "stream",
     "text": [
      "<suds.sax.document.Document object at 0x1420386a0>\n"
     ]
    },
    {
     "name": "stdout",
     "output_type": "stream",
     "text": [
      "ERROR ON AUT AU='ORAN ISMAIL'\n",
      "2262\n"
     ]
    },
    {
     "name": "stderr",
     "output_type": "stream",
     "text": [
      "<suds.sax.document.Document object at 0x116e4e278>\n"
     ]
    },
    {
     "name": "stdout",
     "output_type": "stream",
     "text": [
      "ERROR ON AUT AU='AKTAS CEVAT'\n",
      "2263\n"
     ]
    },
    {
     "name": "stderr",
     "output_type": "stream",
     "text": [
      "<suds.sax.document.Document object at 0x112a87898>\n"
     ]
    },
    {
     "name": "stdout",
     "output_type": "stream",
     "text": [
      "ERROR ON AUT AU= 'KULAC IBRAHIM'\n",
      "2264\n"
     ]
    },
    {
     "name": "stderr",
     "output_type": "stream",
     "text": [
      "<suds.sax.document.Document object at 0x1159bcef0>\n"
     ]
    },
    {
     "name": "stdout",
     "output_type": "stream",
     "text": [
      "ERROR ON AUT AU= 'CANDER SONER'\n",
      "2265\n"
     ]
    },
    {
     "name": "stderr",
     "output_type": "stream",
     "text": [
      "<suds.sax.document.Document object at 0x1161cf860>\n"
     ]
    },
    {
     "name": "stdout",
     "output_type": "stream",
     "text": [
      "ERROR ON AUT AU= 'BASAY BURGE KABUKCU'\n",
      "2266\n"
     ]
    },
    {
     "name": "stderr",
     "output_type": "stream",
     "text": [
      "<suds.sax.document.Document object at 0x116de8cf8>\n"
     ]
    },
    {
     "name": "stdout",
     "output_type": "stream",
     "text": [
      "ERROR ON AUT AU= 'BERGER JENS'\n",
      "2267\n"
     ]
    },
    {
     "name": "stderr",
     "output_type": "stream",
     "text": [
      "<suds.sax.document.Document object at 0x13a16e208>\n"
     ]
    },
    {
     "name": "stdout",
     "output_type": "stream",
     "text": [
      "ERROR ON AUT AU= 'KILINC SEYMA'\n",
      "2268\n"
     ]
    },
    {
     "name": "stderr",
     "output_type": "stream",
     "text": [
      "<suds.sax.document.Document object at 0x117f74630>\n"
     ]
    },
    {
     "name": "stdout",
     "output_type": "stream",
     "text": [
      "ERROR ON AUT AU='ERDEM FATMA HIZAL'\n",
      "2269\n"
     ]
    },
    {
     "name": "stderr",
     "output_type": "stream",
     "text": [
      "<suds.sax.document.Document object at 0x112a879e8>\n"
     ]
    },
    {
     "name": "stdout",
     "output_type": "stream",
     "text": [
      "ERROR ON AUT AU= 'METE MAHMUT'\n",
      "2270\n"
     ]
    },
    {
     "name": "stderr",
     "output_type": "stream",
     "text": [
      "<suds.sax.document.Document object at 0x1159bc780>\n"
     ]
    },
    {
     "name": "stdout",
     "output_type": "stream",
     "text": [
      "ERROR ON AUT AU= 'CEKEN FATMA'\n",
      "2271\n"
     ]
    },
    {
     "name": "stderr",
     "output_type": "stream",
     "text": [
      "<suds.sax.document.Document object at 0x115f94400>\n"
     ]
    },
    {
     "name": "stdout",
     "output_type": "stream",
     "text": [
      "ERROR ON AUT AU='BABA SAMET'\n",
      "2272\n"
     ]
    },
    {
     "name": "stderr",
     "output_type": "stream",
     "text": [
      "<suds.sax.document.Document object at 0x115f949e8>\n"
     ]
    },
    {
     "name": "stdout",
     "output_type": "stream",
     "text": [
      "ERROR ON AUT AU='HAKYEMEZ ISMAIL NECATI'\n",
      "2273\n"
     ]
    },
    {
     "name": "stderr",
     "output_type": "stream",
     "text": [
      "<suds.sax.document.Document object at 0x13a16e390>\n"
     ]
    },
    {
     "name": "stdout",
     "output_type": "stream",
     "text": [
      "ERROR ON AUT AU='POLAT HACI'\n",
      "2274\n"
     ]
    },
    {
     "name": "stderr",
     "output_type": "stream",
     "text": [
      "<suds.sax.document.Document object at 0x115cde4e0>\n"
     ]
    },
    {
     "name": "stdout",
     "output_type": "stream",
     "text": [
      "ERROR ON AUT AU= 'SEVINC AHMET H.'\n",
      "2275\n"
     ]
    },
    {
     "name": "stderr",
     "output_type": "stream",
     "text": [
      "<suds.sax.document.Document object at 0x115cdeeb8>\n"
     ]
    },
    {
     "name": "stdout",
     "output_type": "stream",
     "text": [
      "ERROR ON AUT AU='DEMIRCI HAKAN'\n",
      "2276\n"
     ]
    },
    {
     "name": "stderr",
     "output_type": "stream",
     "text": [
      "<suds.sax.document.Document object at 0x1159bcfd0>\n"
     ]
    },
    {
     "name": "stdout",
     "output_type": "stream",
     "text": [
      "ERROR ON AUT AU= 'KUTHI MERIH'\n",
      "2277\n"
     ]
    },
    {
     "name": "stderr",
     "output_type": "stream",
     "text": [
      "<suds.sax.document.Document object at 0x1124c7908>\n"
     ]
    },
    {
     "name": "stdout",
     "output_type": "stream",
     "text": [
      "ERROR ON AUT AU= 'OZDEMIR ISIL'\n",
      "2278\n"
     ]
    },
    {
     "name": "stderr",
     "output_type": "stream",
     "text": [
      "<suds.sax.document.Document object at 0x1124c7dd8>\n"
     ]
    },
    {
     "name": "stdout",
     "output_type": "stream",
     "text": [
      "ERROR ON AUT AU= 'KAMAK GULEN'\n",
      "2279\n"
     ]
    },
    {
     "name": "stderr",
     "output_type": "stream",
     "text": [
      "<suds.sax.document.Document object at 0x13a16ebe0>\n"
     ]
    },
    {
     "name": "stdout",
     "output_type": "stream",
     "text": [
      "ERROR ON AUT AU= 'OZDAMAR NILGUN'\n",
      "2280\n"
     ]
    },
    {
     "name": "stderr",
     "output_type": "stream",
     "text": [
      "<suds.sax.document.Document object at 0x113c59940>\n"
     ]
    },
    {
     "name": "stdout",
     "output_type": "stream",
     "text": [
      "ERROR ON AUT AU= 'KOCKAR M. CEM'\n",
      "2281\n"
     ]
    },
    {
     "name": "stderr",
     "output_type": "stream",
     "text": [
      "<suds.sax.document.Document object at 0x113c59fd0>\n"
     ]
    },
    {
     "name": "stdout",
     "output_type": "stream",
     "text": [
      "ERROR ON AUT AU='AYDIN BUNYAMIN'\n",
      "2282\n"
     ]
    },
    {
     "name": "stderr",
     "output_type": "stream",
     "text": [
      "<suds.sax.document.Document object at 0x142038d30>\n"
     ]
    },
    {
     "name": "stdout",
     "output_type": "stream",
     "text": [
      "ERROR ON AUT AU= 'OZGERMEN BASAK BOZTOK'\n",
      "2283\n"
     ]
    },
    {
     "name": "stderr",
     "output_type": "stream",
     "text": [
      "<suds.sax.document.Document object at 0x115cb3978>\n"
     ]
    },
    {
     "name": "stdout",
     "output_type": "stream",
     "text": [
      "ERROR ON AUT AU= 'KEBAPCI MEDINE NUR'\n",
      "2284\n"
     ]
    },
    {
     "name": "stderr",
     "output_type": "stream",
     "text": [
      "<suds.sax.document.Document object at 0x1124c7860>\n"
     ]
    },
    {
     "name": "stdout",
     "output_type": "stream",
     "text": [
      "ERROR ON AUT AU= 'BASIBUYUK MUSTAFA'\n",
      "2285\n"
     ]
    },
    {
     "name": "stderr",
     "output_type": "stream",
     "text": [
      "<suds.sax.document.Document object at 0x1120c22b0>\n"
     ]
    },
    {
     "name": "stdout",
     "output_type": "stream",
     "text": [
      "ERROR ON AUT AU= 'AYDIN SALIH'\n",
      "2286\n"
     ]
    },
    {
     "name": "stderr",
     "output_type": "stream",
     "text": [
      "<suds.sax.document.Document object at 0x115f21d68>\n"
     ]
    },
    {
     "name": "stdout",
     "output_type": "stream",
     "text": [
      "ERROR ON AUT AU= 'OVER UFUK'\n",
      "2287\n"
     ]
    },
    {
     "name": "stderr",
     "output_type": "stream",
     "text": [
      "<suds.sax.document.Document object at 0x115f21208>\n"
     ]
    },
    {
     "name": "stdout",
     "output_type": "stream",
     "text": [
      "ERROR ON AUT AU= 'KOK EMEL'\n",
      "2288\n"
     ]
    },
    {
     "name": "stderr",
     "output_type": "stream",
     "text": [
      "<suds.sax.document.Document object at 0x13a3fd320>\n"
     ]
    },
    {
     "name": "stdout",
     "output_type": "stream",
     "text": [
      "ERROR ON AUT AU= 'YALCIN NUMAN'\n",
      "2289\n"
     ]
    },
    {
     "name": "stderr",
     "output_type": "stream",
     "text": [
      "<suds.sax.document.Document object at 0x13a3fd2e8>\n"
     ]
    },
    {
     "name": "stdout",
     "output_type": "stream",
     "text": [
      "ERROR ON AUT AU='AKYILDIRIM ERDINC'\n",
      "2290\n"
     ]
    },
    {
     "name": "stderr",
     "output_type": "stream",
     "text": [
      "<suds.sax.document.Document object at 0x13a3fd898>\n"
     ]
    },
    {
     "name": "stdout",
     "output_type": "stream",
     "text": [
      "ERROR ON AUT AU= 'TURAN HAKAN'\n",
      "2291\n"
     ]
    },
    {
     "name": "stderr",
     "output_type": "stream",
     "text": [
      "<suds.sax.document.Document object at 0x115cb3dd8>\n"
     ]
    },
    {
     "name": "stdout",
     "output_type": "stream",
     "text": [
      "ERROR ON AUT AU= 'HISAR OLCAY'\n",
      "2292\n"
     ]
    },
    {
     "name": "stderr",
     "output_type": "stream",
     "text": [
      "<suds.sax.document.Document object at 0x13a1839e8>\n"
     ]
    },
    {
     "name": "stdout",
     "output_type": "stream",
     "text": [
      "ERROR ON AUT AU='KOKLU HAYRETDIN'\n",
      "2293\n"
     ]
    },
    {
     "name": "stderr",
     "output_type": "stream",
     "text": [
      "<suds.sax.document.Document object at 0x115f94ba8>\n"
     ]
    },
    {
     "name": "stdout",
     "output_type": "stream",
     "text": [
      "ERROR ON AUT AU= 'SOZUBIR SELAMI'\n",
      "2294\n"
     ]
    },
    {
     "name": "stderr",
     "output_type": "stream",
     "text": [
      "<suds.sax.document.Document object at 0x1124c7908>\n"
     ]
    },
    {
     "name": "stdout",
     "output_type": "stream",
     "text": [
      "ERROR ON AUT AU='KOCAK A. KADIR'\n",
      "2295\n"
     ]
    },
    {
     "name": "stderr",
     "output_type": "stream",
     "text": [
      "<suds.sax.document.Document object at 0x116e79e10>\n"
     ]
    },
    {
     "name": "stdout",
     "output_type": "stream",
     "text": [
      "ERROR ON AUT AU= 'KERIMOGLU OZLEM SECIL'\n",
      "2296\n"
     ]
    },
    {
     "name": "stderr",
     "output_type": "stream",
     "text": [
      "<suds.sax.document.Document object at 0x117f747f0>\n"
     ]
    },
    {
     "name": "stdout",
     "output_type": "stream",
     "text": [
      "ERROR ON AUT AU= 'TASKIN LALE'\n",
      "2297\n"
     ]
    },
    {
     "name": "stderr",
     "output_type": "stream",
     "text": [
      "<suds.sax.document.Document object at 0x115cb3208>\n"
     ]
    },
    {
     "name": "stdout",
     "output_type": "stream",
     "text": [
      "ERROR ON AUT AU= 'KALKANCI OZGUR'\n",
      "2298\n"
     ]
    },
    {
     "name": "stderr",
     "output_type": "stream",
     "text": [
      "<suds.sax.document.Document object at 0x116de8518>\n"
     ]
    },
    {
     "name": "stdout",
     "output_type": "stream",
     "text": [
      "ERROR ON AUT AU= 'UZMEZ OZLEM OZDEN'\n",
      "2299\n"
     ]
    },
    {
     "name": "stderr",
     "output_type": "stream",
     "text": [
      "<suds.sax.document.Document object at 0x115f94fd0>\n"
     ]
    },
    {
     "name": "stdout",
     "output_type": "stream",
     "text": [
      "ERROR ON AUT AU= 'SEVINDIK HANDAN G.'\n",
      "2300\n"
     ]
    },
    {
     "name": "stderr",
     "output_type": "stream",
     "text": [
      "<suds.sax.document.Document object at 0x1124c7668>\n"
     ]
    },
    {
     "name": "stdout",
     "output_type": "stream",
     "text": [
      "ERROR ON AUT AU='ERDURMUS MESUT'\n",
      "2301\n"
     ]
    },
    {
     "name": "stderr",
     "output_type": "stream",
     "text": [
      "<suds.sax.document.Document object at 0x112a87128>\n"
     ]
    },
    {
     "name": "stdout",
     "output_type": "stream",
     "text": [
      "ERROR ON AUT AU= 'KATIRCI YAVUZ'\n",
      "2302\n"
     ]
    },
    {
     "name": "stderr",
     "output_type": "stream",
     "text": [
      "<suds.sax.document.Document object at 0x117f741d0>\n"
     ]
    },
    {
     "name": "stdout",
     "output_type": "stream",
     "text": [
      "ERROR ON AUT AU= 'ASLAY SEMRA'\n",
      "2303\n"
     ]
    },
    {
     "name": "stderr",
     "output_type": "stream",
     "text": [
      "<suds.sax.document.Document object at 0x115cb3358>\n"
     ]
    },
    {
     "name": "stdout",
     "output_type": "stream",
     "text": [
      "ERROR ON AUT AU= 'UENLUE ERCUEMENT'\n",
      "2304\n"
     ]
    },
    {
     "name": "stderr",
     "output_type": "stream",
     "text": [
      "<suds.sax.document.Document object at 0x115b253c8>\n"
     ]
    },
    {
     "name": "stdout",
     "output_type": "stream",
     "text": [
      "ERROR ON AUT AU='OZTURK TULUN'\n",
      "2305\n"
     ]
    },
    {
     "name": "stderr",
     "output_type": "stream",
     "text": [
      "<suds.sax.document.Document object at 0x115b25080>\n"
     ]
    },
    {
     "name": "stdout",
     "output_type": "stream",
     "text": [
      "ERROR ON AUT AU='OZCAN UGUR'\n",
      "2306\n"
     ]
    },
    {
     "name": "stderr",
     "output_type": "stream",
     "text": [
      "<suds.sax.document.Document object at 0x1124c7c18>\n"
     ]
    },
    {
     "name": "stdout",
     "output_type": "stream",
     "text": [
      "ERROR ON AUT AU= 'TURKOGLU ISMAIL'\n",
      "2307\n"
     ]
    },
    {
     "name": "stderr",
     "output_type": "stream",
     "text": [
      "<suds.sax.document.Document object at 0x13a3fd518>\n"
     ]
    },
    {
     "name": "stdout",
     "output_type": "stream",
     "text": [
      "ERROR ON AUT AU= 'EMIRIK MUSTAFA'\n",
      "2308\n"
     ]
    },
    {
     "name": "stderr",
     "output_type": "stream",
     "text": [
      "<suds.sax.document.Document object at 0x1159bc6a0>\n"
     ]
    },
    {
     "name": "stdout",
     "output_type": "stream",
     "text": [
      "ERROR ON AUT AU= 'AKSU HATICE'\n",
      "2309\n"
     ]
    },
    {
     "name": "stderr",
     "output_type": "stream",
     "text": [
      "<suds.sax.document.Document object at 0x115cb32b0>\n"
     ]
    },
    {
     "name": "stdout",
     "output_type": "stream",
     "text": [
      "ERROR ON AUT AU= 'AKDEMIR RAMAZAN'\n",
      "2310\n"
     ]
    },
    {
     "name": "stderr",
     "output_type": "stream",
     "text": [
      "<suds.sax.document.Document object at 0x113c81ef0>\n"
     ]
    },
    {
     "name": "stdout",
     "output_type": "stream",
     "text": [
      "ERROR ON AUT AU= 'HTWAY ZARNI'\n",
      "2311\n"
     ]
    },
    {
     "name": "stderr",
     "output_type": "stream",
     "text": [
      "<suds.sax.document.Document object at 0x113c81748>\n"
     ]
    },
    {
     "name": "stdout",
     "output_type": "stream",
     "text": [
      "ERROR ON AUT AU= 'OZALP V. CENGIZ'\n",
      "2312\n"
     ]
    },
    {
     "name": "stderr",
     "output_type": "stream",
     "text": [
      "<suds.sax.document.Document object at 0x1124c7278>\n"
     ]
    },
    {
     "name": "stdout",
     "output_type": "stream",
     "text": [
      "ERROR ON AUT AU= 'DENIZ CAGLA'\n",
      "2313\n"
     ]
    },
    {
     "name": "stderr",
     "output_type": "stream",
     "text": [
      "<suds.sax.document.Document object at 0x115e0d320>\n"
     ]
    },
    {
     "name": "stdout",
     "output_type": "stream",
     "text": [
      "ERROR ON AUT AU= 'TAVARES PJS'\n",
      "2314\n"
     ]
    },
    {
     "name": "stderr",
     "output_type": "stream",
     "text": [
      "<suds.sax.document.Document object at 0x115e0d780>\n"
     ]
    },
    {
     "name": "stdout",
     "output_type": "stream",
     "text": [
      "ERROR ON AUT AU= 'KOSE OZAY'\n",
      "2315\n"
     ]
    },
    {
     "name": "stderr",
     "output_type": "stream",
     "text": [
      "<suds.sax.document.Document object at 0x115f21ef0>\n"
     ]
    },
    {
     "name": "stdout",
     "output_type": "stream",
     "text": [
      "ERROR ON AUT AU='OZ MUSTAFA'\n",
      "2316\n"
     ]
    },
    {
     "name": "stderr",
     "output_type": "stream",
     "text": [
      "<suds.sax.document.Document object at 0x115b25fd0>\n"
     ]
    },
    {
     "name": "stdout",
     "output_type": "stream",
     "text": [
      "ERROR ON AUT AU= 'OZAKPINAR OZLEM'\n",
      "2317\n"
     ]
    },
    {
     "name": "stderr",
     "output_type": "stream",
     "text": [
      "<suds.sax.document.Document object at 0x113c81ef0>\n"
     ]
    },
    {
     "name": "stdout",
     "output_type": "stream",
     "text": [
      "ERROR ON AUT AU= 'HAMIDI MEHMET M.'\n",
      "2318\n"
     ]
    },
    {
     "name": "stderr",
     "output_type": "stream",
     "text": [
      "<suds.sax.document.Document object at 0x1124c7550>\n"
     ]
    },
    {
     "name": "stdout",
     "output_type": "stream",
     "text": [
      "ERROR ON AUT AU= 'CICEK AHMET'\n",
      "2319\n"
     ]
    },
    {
     "name": "stderr",
     "output_type": "stream",
     "text": [
      "<suds.sax.document.Document object at 0x117f74c88>\n"
     ]
    },
    {
     "name": "stdout",
     "output_type": "stream",
     "text": [
      "ERROR ON AUT AU='SARI GOZDE'\n",
      "2320\n"
     ]
    },
    {
     "name": "stderr",
     "output_type": "stream",
     "text": [
      "<suds.sax.document.Document object at 0x113c59cf8>\n"
     ]
    },
    {
     "name": "stdout",
     "output_type": "stream",
     "text": [
      "ERROR ON AUT AU= 'YAZAR UGUR'\n",
      "2321\n"
     ]
    },
    {
     "name": "stderr",
     "output_type": "stream",
     "text": [
      "<suds.sax.document.Document object at 0x115f211d0>\n"
     ]
    },
    {
     "name": "stdout",
     "output_type": "stream",
     "text": [
      "ERROR ON AUT AU= 'KUCUKOGLU M. SERDAR'\n",
      "2322\n"
     ]
    },
    {
     "name": "stderr",
     "output_type": "stream",
     "text": [
      "<suds.sax.document.Document object at 0x142038f60>\n"
     ]
    },
    {
     "name": "stdout",
     "output_type": "stream",
     "text": [
      "ERROR ON AUT AU= 'EKEN LEVENT'\n",
      "2323\n"
     ]
    },
    {
     "name": "stderr",
     "output_type": "stream",
     "text": [
      "<suds.sax.document.Document object at 0x115cde550>\n"
     ]
    },
    {
     "name": "stdout",
     "output_type": "stream",
     "text": [
      "ERROR ON AUT AU= 'CENGEL ADYE'\n",
      "2324\n"
     ]
    },
    {
     "name": "stderr",
     "output_type": "stream",
     "text": [
      "<suds.sax.document.Document object at 0x115cb3e10>\n"
     ]
    },
    {
     "name": "stdout",
     "output_type": "stream",
     "text": [
      "ERROR ON AUT AU= 'KIRIS TUNCAY'\n",
      "2325\n"
     ]
    },
    {
     "name": "stderr",
     "output_type": "stream",
     "text": [
      "<suds.sax.document.Document object at 0x1242dd9b0>\n"
     ]
    },
    {
     "name": "stdout",
     "output_type": "stream",
     "text": [
      "ERROR ON AUT AU= 'KAPTAN HAKAN'\n",
      "2326\n"
     ]
    },
    {
     "name": "stderr",
     "output_type": "stream",
     "text": [
      "<suds.sax.document.Document object at 0x1242dd978>\n"
     ]
    },
    {
     "name": "stdout",
     "output_type": "stream",
     "text": [
      "ERROR ON AUT AU= 'AKSOY TAMER'\n",
      "2327\n"
     ]
    },
    {
     "name": "stderr",
     "output_type": "stream",
     "text": [
      "<suds.sax.document.Document object at 0x115e0df60>\n"
     ]
    },
    {
     "name": "stdout",
     "output_type": "stream",
     "text": [
      "ERROR ON AUT AU= 'JEGDIC K'\n",
      "2328\n"
     ]
    },
    {
     "name": "stderr",
     "output_type": "stream",
     "text": [
      "<suds.sax.document.Document object at 0x1159761d0>\n"
     ]
    },
    {
     "name": "stdout",
     "output_type": "stream",
     "text": [
      "ERROR ON AUT AU= 'CAN BEHZAT'\n",
      "2329\n"
     ]
    },
    {
     "name": "stderr",
     "output_type": "stream",
     "text": [
      "<suds.sax.document.Document object at 0x115b25438>\n"
     ]
    },
    {
     "name": "stdout",
     "output_type": "stream",
     "text": [
      "ERROR ON AUT AU= 'BASPINAR M. SERHAT'\n",
      "2330\n"
     ]
    },
    {
     "name": "stderr",
     "output_type": "stream",
     "text": [
      "<suds.sax.document.Document object at 0x116e4e668>\n"
     ]
    },
    {
     "name": "stdout",
     "output_type": "stream",
     "text": [
      "ERROR ON AUT AU= 'KAYA MELINIET GUNGOR'\n",
      "2331\n"
     ]
    },
    {
     "name": "stderr",
     "output_type": "stream",
     "text": [
      "<suds.sax.document.Document object at 0x115f21e80>\n"
     ]
    },
    {
     "name": "stdout",
     "output_type": "stream",
     "text": [
      "ERROR ON AUT AU='YILDRIM SAHIN'\n",
      "2332\n"
     ]
    },
    {
     "name": "stderr",
     "output_type": "stream",
     "text": [
      "<suds.sax.document.Document object at 0x115f21ef0>\n"
     ]
    },
    {
     "name": "stdout",
     "output_type": "stream",
     "text": [
      "ERROR ON AUT AU= 'AKYOL ALI'\n",
      "2333\n"
     ]
    },
    {
     "name": "stderr",
     "output_type": "stream",
     "text": [
      "<suds.sax.document.Document object at 0x1242dda58>\n"
     ]
    },
    {
     "name": "stdout",
     "output_type": "stream",
     "text": [
      "ERROR ON AUT AU='CAKIR OZLEM OZER'\n",
      "2334\n"
     ]
    },
    {
     "name": "stderr",
     "output_type": "stream",
     "text": [
      "<suds.sax.document.Document object at 0x112a87198>\n"
     ]
    },
    {
     "name": "stdout",
     "output_type": "stream",
     "text": [
      "ERROR ON AUT AU= 'BAS AHMET'\n",
      "2335\n"
     ]
    },
    {
     "name": "stderr",
     "output_type": "stream",
     "text": [
      "<suds.sax.document.Document object at 0x112a87198>\n"
     ]
    },
    {
     "name": "stdout",
     "output_type": "stream",
     "text": [
      "ERROR ON AUT AU= 'TOMAN HUSEYIN'\n",
      "2336\n"
     ]
    },
    {
     "name": "stderr",
     "output_type": "stream",
     "text": [
      "<suds.sax.document.Document object at 0x1120c22b0>\n"
     ]
    },
    {
     "name": "stdout",
     "output_type": "stream",
     "text": [
      "ERROR ON AUT AU= 'MUTLUAY RUYA'\n",
      "2337\n"
     ]
    },
    {
     "name": "stderr",
     "output_type": "stream",
     "text": [
      "<suds.sax.document.Document object at 0x142038240>\n"
     ]
    },
    {
     "name": "stdout",
     "output_type": "stream",
     "text": [
      "ERROR ON AUT AU= 'KAHLER ELKE'\n",
      "2338\n"
     ]
    },
    {
     "name": "stderr",
     "output_type": "stream",
     "text": [
      "<suds.sax.document.Document object at 0x113c597b8>\n"
     ]
    },
    {
     "name": "stdout",
     "output_type": "stream",
     "text": [
      "ERROR ON AUT AU='EROGLU HASAN'\n",
      "2339\n"
     ]
    },
    {
     "name": "stderr",
     "output_type": "stream",
     "text": [
      "<suds.sax.document.Document object at 0x115e0d748>\n"
     ]
    },
    {
     "name": "stdout",
     "output_type": "stream",
     "text": [
      "ERROR ON AUT AU= 'DAGLIOGLU ERDEM'\n",
      "2340\n"
     ]
    },
    {
     "name": "stderr",
     "output_type": "stream",
     "text": [
      "<suds.sax.document.Document object at 0x1124c7940>\n"
     ]
    },
    {
     "name": "stdout",
     "output_type": "stream",
     "text": [
      "ERROR ON AUT AU='USLUKAYA OMER'\n",
      "2341\n"
     ]
    },
    {
     "name": "stderr",
     "output_type": "stream",
     "text": [
      "<suds.sax.document.Document object at 0x1124c75c0>\n"
     ]
    },
    {
     "name": "stdout",
     "output_type": "stream",
     "text": [
      "ERROR ON AUT AU= 'YAZILITAS FATMA'\n",
      "2342\n"
     ]
    },
    {
     "name": "stderr",
     "output_type": "stream",
     "text": [
      "<suds.sax.document.Document object at 0x1120c2fd0>\n"
     ]
    },
    {
     "name": "stdout",
     "output_type": "stream",
     "text": [
      "ERROR ON AUT AU= 'PITHON MATHEUS M.'\n",
      "2343\n"
     ]
    },
    {
     "name": "stderr",
     "output_type": "stream",
     "text": [
      "<suds.sax.document.Document object at 0x13a3fd2b0>\n"
     ]
    },
    {
     "name": "stdout",
     "output_type": "stream",
     "text": [
      "ERROR ON AUT AU='YILDIRIM MELAHAT'\n",
      "2344\n"
     ]
    },
    {
     "name": "stderr",
     "output_type": "stream",
     "text": [
      "<suds.sax.document.Document object at 0x11214b390>\n"
     ]
    },
    {
     "name": "stdout",
     "output_type": "stream",
     "text": [
      "ERROR ON AUT AU='SUNGU HILMI'\n",
      "2345\n"
     ]
    },
    {
     "name": "stderr",
     "output_type": "stream",
     "text": [
      "<suds.sax.document.Document object at 0x1120c2668>\n"
     ]
    },
    {
     "name": "stdout",
     "output_type": "stream",
     "text": [
      "ERROR ON AUT AU='CALISKAN EMEL'\n",
      "2346\n"
     ]
    },
    {
     "name": "stderr",
     "output_type": "stream",
     "text": [
      "<suds.sax.document.Document object at 0x115cde630>\n"
     ]
    },
    {
     "name": "stdout",
     "output_type": "stream",
     "text": [
      "ERROR ON AUT AU='SAHIN ZIVER'\n",
      "2347\n"
     ]
    },
    {
     "name": "stderr",
     "output_type": "stream",
     "text": [
      "<suds.sax.document.Document object at 0x115cdef98>\n"
     ]
    },
    {
     "name": "stdout",
     "output_type": "stream",
     "text": [
      "ERROR ON AUT AU= 'CIVI MELEK'\n",
      "2348\n"
     ]
    },
    {
     "name": "stderr",
     "output_type": "stream",
     "text": [
      "<suds.sax.document.Document object at 0x1159bc278>\n"
     ]
    },
    {
     "name": "stdout",
     "output_type": "stream",
     "text": [
      "ERROR ON AUT AU='OCAK HAMZA YASAR'\n",
      "2349\n"
     ]
    },
    {
     "name": "stderr",
     "output_type": "stream",
     "text": [
      "<suds.sax.document.Document object at 0x116de80f0>\n"
     ]
    },
    {
     "name": "stdout",
     "output_type": "stream",
     "text": [
      "ERROR ON AUT AU= 'DAGGULI MANSUR'\n",
      "2350\n"
     ]
    },
    {
     "name": "stderr",
     "output_type": "stream",
     "text": [
      "<suds.sax.document.Document object at 0x13a183240>\n"
     ]
    },
    {
     "name": "stdout",
     "output_type": "stream",
     "text": [
      "ERROR ON AUT AU= 'SEVINC OEZGUER'\n",
      "2351\n"
     ]
    },
    {
     "name": "stderr",
     "output_type": "stream",
     "text": [
      "<suds.sax.document.Document object at 0x115e0d1d0>\n"
     ]
    },
    {
     "name": "stdout",
     "output_type": "stream",
     "text": [
      "ERROR ON AUT AU= 'ARRIAZA MANUEL'\n",
      "2352\n"
     ]
    },
    {
     "name": "stderr",
     "output_type": "stream",
     "text": [
      "<suds.sax.document.Document object at 0x115cdee80>\n"
     ]
    },
    {
     "name": "stdout",
     "output_type": "stream",
     "text": [
      "ERROR ON AUT AU='SAHIN MEHMET A.'\n",
      "2353\n"
     ]
    },
    {
     "name": "stderr",
     "output_type": "stream",
     "text": [
      "<suds.sax.document.Document object at 0x115b25da0>\n"
     ]
    },
    {
     "name": "stdout",
     "output_type": "stream",
     "text": [
      "ERROR ON AUT AU='BALI ILHAN'\n",
      "2354\n"
     ]
    },
    {
     "name": "stderr",
     "output_type": "stream",
     "text": [
      "<suds.sax.document.Document object at 0x1120c25c0>\n"
     ]
    },
    {
     "name": "stdout",
     "output_type": "stream",
     "text": [
      "ERROR ON AUT AU='KOSE ETEM'\n",
      "2355\n"
     ]
    },
    {
     "name": "stderr",
     "output_type": "stream",
     "text": [
      "<suds.sax.document.Document object at 0x115cb3828>\n"
     ]
    },
    {
     "name": "stdout",
     "output_type": "stream",
     "text": [
      "ERROR ON AUT AU= 'MIZRAK CIHAN'\n",
      "2356\n"
     ]
    },
    {
     "name": "stderr",
     "output_type": "stream",
     "text": [
      "<suds.sax.document.Document object at 0x13a183208>\n"
     ]
    },
    {
     "name": "stdout",
     "output_type": "stream",
     "text": [
      "ERROR ON AUT AU= 'OZCELIK YILMAZ'\n",
      "2357\n"
     ]
    },
    {
     "name": "stderr",
     "output_type": "stream",
     "text": [
      "<suds.sax.document.Document object at 0x115e0d2b0>\n"
     ]
    },
    {
     "name": "stdout",
     "output_type": "stream",
     "text": [
      "ERROR ON AUT AU= 'BAYINDIR NIDA'\n",
      "2358\n"
     ]
    },
    {
     "name": "stderr",
     "output_type": "stream",
     "text": [
      "<suds.sax.document.Document object at 0x115f94908>\n"
     ]
    },
    {
     "name": "stdout",
     "output_type": "stream",
     "text": [
      "ERROR ON AUT AU= 'GUMUS KAZIM Z.'\n",
      "2359\n"
     ]
    },
    {
     "name": "stderr",
     "output_type": "stream",
     "text": [
      "<suds.sax.document.Document object at 0x112a874a8>\n"
     ]
    },
    {
     "name": "stdout",
     "output_type": "stream",
     "text": [
      "ERROR ON AUT AU= 'TUNAY KAMIL'\n",
      "2360\n"
     ]
    },
    {
     "name": "stderr",
     "output_type": "stream",
     "text": [
      "<suds.sax.document.Document object at 0x1120c2128>\n"
     ]
    },
    {
     "name": "stdout",
     "output_type": "stream",
     "text": [
      "ERROR ON AUT AU= 'SENEL EGEMEN'\n",
      "2361\n"
     ]
    },
    {
     "name": "stderr",
     "output_type": "stream",
     "text": [
      "<suds.sax.document.Document object at 0x113c81cf8>\n"
     ]
    },
    {
     "name": "stdout",
     "output_type": "stream",
     "text": [
      "ERROR ON AUT AU= 'CATAK ZEKIYE'\n",
      "2362\n"
     ]
    },
    {
     "name": "stderr",
     "output_type": "stream",
     "text": [
      "<suds.sax.document.Document object at 0x113c819b0>\n"
     ]
    },
    {
     "name": "stdout",
     "output_type": "stream",
     "text": [
      "ERROR ON AUT AU= 'OZTURK NURUNNISA'\n",
      "2363\n"
     ]
    },
    {
     "name": "stderr",
     "output_type": "stream",
     "text": [
      "<suds.sax.document.Document object at 0x115cb3c88>\n"
     ]
    },
    {
     "name": "stdout",
     "output_type": "stream",
     "text": [
      "ERROR ON AUT AU= 'ERGUN RAZIYE'\n",
      "2364\n"
     ]
    },
    {
     "name": "stderr",
     "output_type": "stream",
     "text": [
      "<suds.sax.document.Document object at 0x117f74cc0>\n"
     ]
    },
    {
     "name": "stdout",
     "output_type": "stream",
     "text": [
      "ERROR ON AUT AU='SEN VELAT'\n",
      "2365\n"
     ]
    },
    {
     "name": "stderr",
     "output_type": "stream",
     "text": [
      "<suds.sax.document.Document object at 0x142038748>\n"
     ]
    },
    {
     "name": "stdout",
     "output_type": "stream",
     "text": [
      "ERROR ON AUT AU='ORSCELIK OZCAN'\n",
      "2366\n"
     ]
    },
    {
     "name": "stderr",
     "output_type": "stream",
     "text": [
      "<suds.sax.document.Document object at 0x1161cfdd8>\n"
     ]
    },
    {
     "name": "stdout",
     "output_type": "stream",
     "text": [
      "ERROR ON AUT AU= 'GOYMEN MERVE'\n",
      "2367\n"
     ]
    },
    {
     "name": "stderr",
     "output_type": "stream",
     "text": [
      "<suds.sax.document.Document object at 0x1120c2dd8>\n"
     ]
    },
    {
     "name": "stdout",
     "output_type": "stream",
     "text": [
      "ERROR ON AUT AU= 'AKGUN SELDA'\n",
      "2368\n"
     ]
    },
    {
     "name": "stderr",
     "output_type": "stream",
     "text": [
      "<suds.sax.document.Document object at 0x121fb9588>\n"
     ]
    },
    {
     "name": "stdout",
     "output_type": "stream",
     "text": [
      "ERROR ON AUT AU='EKMEKYAPAR AHMET'\n",
      "2369\n"
     ]
    },
    {
     "name": "stderr",
     "output_type": "stream",
     "text": [
      "<suds.sax.document.Document object at 0x115cb3400>\n"
     ]
    },
    {
     "name": "stdout",
     "output_type": "stream",
     "text": [
      "ERROR ON AUT AU='AKGUN LEVENT'\n",
      "2370\n"
     ]
    },
    {
     "name": "stderr",
     "output_type": "stream",
     "text": [
      "<suds.sax.document.Document object at 0x1420386a0>\n"
     ]
    },
    {
     "name": "stdout",
     "output_type": "stream",
     "text": [
      "ERROR ON AUT AU= 'AKSAKALLI ELIF'\n",
      "2371\n"
     ]
    },
    {
     "name": "stderr",
     "output_type": "stream",
     "text": [
      "<suds.sax.document.Document object at 0x1124c77f0>\n"
     ]
    },
    {
     "name": "stdout",
     "output_type": "stream",
     "text": [
      "ERROR ON AUT AU='DUMAN NILAY'\n",
      "2372\n"
     ]
    },
    {
     "name": "stderr",
     "output_type": "stream",
     "text": [
      "<suds.sax.document.Document object at 0x13a183438>\n"
     ]
    },
    {
     "name": "stdout",
     "output_type": "stream",
     "text": [
      "ERROR ON AUT AU= 'ALBAYRAK ERHAN'\n",
      "2373\n"
     ]
    },
    {
     "name": "stderr",
     "output_type": "stream",
     "text": [
      "<suds.sax.document.Document object at 0x13a16ec88>\n"
     ]
    },
    {
     "name": "stdout",
     "output_type": "stream",
     "text": [
      "ERROR ON AUT AU='SENGUL FATIH'\n",
      "2374\n"
     ]
    },
    {
     "name": "stderr",
     "output_type": "stream",
     "text": [
      "<suds.sax.document.Document object at 0x13a16e400>\n"
     ]
    },
    {
     "name": "stdout",
     "output_type": "stream",
     "text": [
      "ERROR ON AUT AU='DAVASAKSAN ASLI'\n",
      "2375\n"
     ]
    },
    {
     "name": "stderr",
     "output_type": "stream",
     "text": [
      "<suds.sax.document.Document object at 0x13a183160>\n"
     ]
    },
    {
     "name": "stdout",
     "output_type": "stream",
     "text": [
      "ERROR ON AUT AU= 'AYDIN OMER'\n",
      "2376\n"
     ]
    },
    {
     "name": "stderr",
     "output_type": "stream",
     "text": [
      "<suds.sax.document.Document object at 0x1124c7668>\n"
     ]
    },
    {
     "name": "stdout",
     "output_type": "stream",
     "text": [
      "ERROR ON AUT AU= 'MUTLU BENGU'\n",
      "2377\n"
     ]
    },
    {
     "name": "stderr",
     "output_type": "stream",
     "text": [
      "<suds.sax.document.Document object at 0x1124c76a0>\n"
     ]
    },
    {
     "name": "stdout",
     "output_type": "stream",
     "text": [
      "ERROR ON AUT AU= 'GOKTURK KADIR'\n",
      "2378\n"
     ]
    },
    {
     "name": "stderr",
     "output_type": "stream",
     "text": [
      "<suds.sax.document.Document object at 0x1242dde80>\n"
     ]
    },
    {
     "name": "stdout",
     "output_type": "stream",
     "text": [
      "ERROR ON AUT AU='BASOL OMER'\n",
      "2379\n"
     ]
    },
    {
     "name": "stderr",
     "output_type": "stream",
     "text": [
      "<suds.sax.document.Document object at 0x112a87cf8>\n"
     ]
    },
    {
     "name": "stdout",
     "output_type": "stream",
     "text": [
      "ERROR ON AUT AU= 'GURBUZ GOKHAN'\n",
      "2380\n"
     ]
    },
    {
     "name": "stderr",
     "output_type": "stream",
     "text": [
      "<suds.sax.document.Document object at 0x13a16ee80>\n"
     ]
    },
    {
     "name": "stdout",
     "output_type": "stream",
     "text": [
      "ERROR ON AUT AU= 'KARAVELIOGLU ERGUN'\n",
      "2381\n"
     ]
    },
    {
     "name": "stderr",
     "output_type": "stream",
     "text": [
      "<suds.sax.document.Document object at 0x116de8cf8>\n"
     ]
    },
    {
     "name": "stdout",
     "output_type": "stream",
     "text": [
      "ERROR ON AUT AU= 'BASARAN MURAT A.'\n",
      "2382\n"
     ]
    },
    {
     "name": "stderr",
     "output_type": "stream",
     "text": [
      "<suds.sax.document.Document object at 0x1159bc9b0>\n"
     ]
    },
    {
     "name": "stdout",
     "output_type": "stream",
     "text": [
      "ERROR ON AUT AU='TUNAY KAMIL'\n",
      "2383\n"
     ]
    },
    {
     "name": "stderr",
     "output_type": "stream",
     "text": [
      "<suds.sax.document.Document object at 0x1159bc358>\n"
     ]
    },
    {
     "name": "stdout",
     "output_type": "stream",
     "text": [
      "ERROR ON AUT AU= 'KIZILDA BETUL'\n",
      "2384\n"
     ]
    },
    {
     "name": "stderr",
     "output_type": "stream",
     "text": [
      "<suds.sax.document.Document object at 0x1242dde80>\n"
     ]
    },
    {
     "name": "stdout",
     "output_type": "stream",
     "text": [
      "ERROR ON AUT AU= 'KAYA SEHNAZ'\n",
      "2385\n"
     ]
    },
    {
     "name": "stderr",
     "output_type": "stream",
     "text": [
      "<suds.sax.document.Document object at 0x115f21358>\n"
     ]
    },
    {
     "name": "stdout",
     "output_type": "stream",
     "text": [
      "ERROR ON AUT AU= 'USTUNER BERNA'\n",
      "2386\n"
     ]
    },
    {
     "name": "stderr",
     "output_type": "stream",
     "text": [
      "<suds.sax.document.Document object at 0x115f210f0>\n"
     ]
    },
    {
     "name": "stdout",
     "output_type": "stream",
     "text": [
      "ERROR ON AUT AU= 'SOLAK OKAN'\n",
      "2387\n"
     ]
    },
    {
     "name": "stderr",
     "output_type": "stream",
     "text": [
      "<suds.sax.document.Document object at 0x115f94860>\n"
     ]
    },
    {
     "name": "stdout",
     "output_type": "stream",
     "text": [
      "ERROR ON AUT AU= 'KARADUZ ADNAN'\n",
      "2388\n"
     ]
    },
    {
     "name": "stderr",
     "output_type": "stream",
     "text": [
      "<suds.sax.document.Document object at 0x13a3fd5c0>\n"
     ]
    },
    {
     "name": "stdout",
     "output_type": "stream",
     "text": [
      "ERROR ON AUT AU='ABALI OSMAN'\n",
      "2389\n"
     ]
    },
    {
     "name": "stderr",
     "output_type": "stream",
     "text": [
      "<suds.sax.document.Document object at 0x1159bc9b0>\n"
     ]
    },
    {
     "name": "stdout",
     "output_type": "stream",
     "text": [
      "ERROR ON AUT AU='ARIDICI RIFAT'\n",
      "2390\n"
     ]
    },
    {
     "name": "stderr",
     "output_type": "stream",
     "text": [
      "<suds.sax.document.Document object at 0x13a183f98>\n"
     ]
    },
    {
     "name": "stdout",
     "output_type": "stream",
     "text": [
      "ERROR ON AUT AU= 'BALCI TANSEL ANSAL'\n",
      "2391\n"
     ]
    },
    {
     "name": "stderr",
     "output_type": "stream",
     "text": [
      "<suds.sax.document.Document object at 0x115e0d748>\n"
     ]
    },
    {
     "name": "stdout",
     "output_type": "stream",
     "text": [
      "ERROR ON AUT AU= 'KULEKCI MUSTAFA KEMAL'\n",
      "2392\n"
     ]
    },
    {
     "name": "stderr",
     "output_type": "stream",
     "text": [
      "<suds.sax.document.Document object at 0x115e0d240>\n"
     ]
    },
    {
     "name": "stdout",
     "output_type": "stream",
     "text": [
      "ERROR ON AUT AU= 'ERDEN ERSIN SUKRU'\n",
      "2393\n"
     ]
    },
    {
     "name": "stderr",
     "output_type": "stream",
     "text": [
      "<suds.sax.document.Document object at 0x115f94908>\n"
     ]
    },
    {
     "name": "stdout",
     "output_type": "stream",
     "text": [
      "ERROR ON AUT AU= 'UCAK ALPER'\n",
      "2394\n"
     ]
    },
    {
     "name": "stderr",
     "output_type": "stream",
     "text": [
      "<suds.sax.document.Document object at 0x115b25710>\n"
     ]
    },
    {
     "name": "stdout",
     "output_type": "stream",
     "text": [
      "ERROR ON AUT AU= 'OZ MEHMET'\n",
      "2395\n"
     ]
    },
    {
     "name": "stderr",
     "output_type": "stream",
     "text": [
      "<suds.sax.document.Document object at 0x115b259b0>\n"
     ]
    },
    {
     "name": "stdout",
     "output_type": "stream",
     "text": [
      "ERROR ON AUT AU= 'AKTAS TURAN'\n",
      "2396\n"
     ]
    },
    {
     "name": "stderr",
     "output_type": "stream",
     "text": [
      "<suds.sax.document.Document object at 0x115e0d240>\n"
     ]
    },
    {
     "name": "stdout",
     "output_type": "stream",
     "text": [
      "ERROR ON AUT AU='HUDSON PETER'\n",
      "2397\n"
     ]
    },
    {
     "name": "stderr",
     "output_type": "stream",
     "text": [
      "<suds.sax.document.Document object at 0x115b252e8>\n"
     ]
    },
    {
     "name": "stdout",
     "output_type": "stream",
     "text": [
      "ERROR ON AUT AU= 'DAMAR OMER'\n",
      "2398\n"
     ]
    },
    {
     "name": "stderr",
     "output_type": "stream",
     "text": [
      "<suds.sax.document.Document object at 0x115b25c18>\n"
     ]
    },
    {
     "name": "stdout",
     "output_type": "stream",
     "text": [
      "ERROR ON AUT AU= 'DURDU YASEMIN'\n",
      "2399\n"
     ]
    },
    {
     "name": "stderr",
     "output_type": "stream",
     "text": [
      "<suds.sax.document.Document object at 0x116de8a90>\n"
     ]
    },
    {
     "name": "stdout",
     "output_type": "stream",
     "text": [
      "ERROR ON AUT AU= 'KARA ISA M.'\n",
      "2400\n",
      "Authenticated (SID: D4qUaTRLmByJsdYxQaE)\n",
      "2401\n",
      "2402\n",
      "2403\n",
      "2404\n",
      "2405\n",
      "2406\n",
      "2407\n",
      "2408\n",
      "2409\n",
      "2410\n",
      "2411\n",
      "2412\n",
      "2413\n",
      "2414\n",
      "2415\n",
      "2416\n",
      "2417\n",
      "ERROR ON AUT AU= 'WAHL JANICE'\n",
      "2418\n",
      "2419\n",
      "2420\n",
      "2421\n",
      "2422\n",
      "2423\n",
      "2424\n",
      "2425\n",
      "2426\n",
      "2427\n",
      "2428\n",
      "2429\n",
      "2430\n",
      "2431\n",
      "2432\n",
      "2433\n",
      "2434\n",
      "2435\n",
      "2436\n",
      "2437\n",
      "2438\n",
      "2439\n",
      "2440\n",
      "2441\n",
      "2442\n",
      "2443\n",
      "2444\n",
      "2445\n",
      "2446\n",
      "2447\n",
      "2448\n",
      "2449\n",
      "2450\n",
      "2451\n",
      "2452\n",
      "2453\n",
      "2454\n",
      "2455\n",
      "2456\n",
      "2457\n",
      "2458\n",
      "2459\n",
      "2460\n",
      "2461\n",
      "2462\n",
      "2463\n",
      "2464\n",
      "2465\n",
      "2466\n",
      "2467\n",
      "2468\n",
      "2469\n",
      "2470\n",
      "2471\n",
      "2472\n",
      "2473\n",
      "2474\n",
      "2475\n",
      "2476\n",
      "2477\n",
      "2478\n",
      "2479\n",
      "2480\n",
      "2481\n",
      "2482\n",
      "2483\n",
      "2484\n",
      "2485\n",
      "2486\n",
      "2487\n",
      "2488\n",
      "2489\n",
      "2490\n",
      "2491\n",
      "2492\n",
      "2493\n",
      "2494\n",
      "2495\n",
      "2496\n",
      "2497\n",
      "2498\n",
      "2499\n",
      "2500\n",
      "2501\n",
      "2502\n",
      "2503\n",
      "2504\n",
      "2505\n",
      "2506\n",
      "2507\n",
      "2508\n",
      "2509\n",
      "2510\n",
      "2511\n",
      "2512\n",
      "2513\n",
      "2514\n",
      "2515\n",
      "2516\n",
      "2517\n",
      "2518\n",
      "2519\n",
      "2520\n",
      "2521\n",
      "2522\n",
      "2523\n",
      "2524\n",
      "2525\n",
      "2526\n",
      "2527\n",
      "2528\n",
      "2529\n",
      "2530\n",
      "2531\n",
      "2532\n",
      "2533\n",
      "2534\n",
      "2535\n"
     ]
    },
    {
     "name": "stderr",
     "output_type": "stream",
     "text": [
      "<suds.sax.document.Document object at 0x1178b85f8>\n"
     ]
    },
    {
     "name": "stdout",
     "output_type": "stream",
     "text": [
      "ERROR ON AUT AU= 'NAVARRO L'\n",
      "2536\n",
      "2537\n",
      "2538\n",
      "2539\n",
      "2540\n",
      "2541\n",
      "2542\n",
      "2543\n",
      "2544\n",
      "2545\n",
      "2546\n",
      "2547\n",
      "ERROR ON AUT AU= 'DEMIR MUSTAFA KEMAL'\n",
      "2548\n",
      "2549\n",
      "2550\n",
      "2551\n",
      "2552\n",
      "2553\n",
      "2554\n",
      "2555\n",
      "2556\n",
      "2557\n",
      "2558\n",
      "2559\n",
      "2560\n",
      "2561\n",
      "2562\n",
      "2563\n",
      "2564\n",
      "2565\n",
      "2566\n",
      "2567\n",
      "2568\n",
      "2569\n",
      "2570\n",
      "2571\n",
      "2572\n",
      "2573\n",
      "2574\n",
      "2575\n",
      "2576\n",
      "2577\n",
      "2578\n",
      "2579\n",
      "2580\n",
      "2581\n",
      "2582\n",
      "2583\n",
      "2584\n",
      "2585\n",
      "2586\n",
      "2587\n",
      "2588\n",
      "2589\n",
      "2590\n",
      "2591\n",
      "2592\n",
      "2593\n",
      "2594\n",
      "2595\n",
      "2596\n",
      "2597\n",
      "2598\n",
      "2599\n",
      "2600\n",
      "2601\n",
      "2602\n",
      "2603\n",
      "2604\n",
      "2605\n",
      "2606\n",
      "2607\n",
      "2608\n",
      "2609\n",
      "2610\n",
      "2611\n",
      "2612\n",
      "2613\n",
      "2614\n",
      "2615\n",
      "2616\n",
      "2617\n",
      "2618\n",
      "2619\n",
      "2620\n",
      "2621\n",
      "2622\n",
      "2623\n",
      "2624\n",
      "2625\n",
      "2626\n",
      "2627\n",
      "2628\n",
      "2629\n",
      "2630\n",
      "2631\n",
      "2632\n",
      "2633\n",
      "ERROR ON AUT AU= 'BUDAK SALIH'\n",
      "2634\n",
      "2635\n",
      "2636\n",
      "2637\n",
      "2638\n",
      "2639\n",
      "2640\n",
      "ERROR ON AUT AU= 'TARHAN SERDAR'\n",
      "2641\n",
      "2642\n",
      "2643\n",
      "2644\n",
      "2645\n",
      "2646\n",
      "2647\n",
      "2648\n",
      "2649\n",
      "2650\n",
      "2651\n",
      "2652\n",
      "2653\n",
      "2654\n",
      "2655\n",
      "2656\n",
      "2657\n",
      "2658\n",
      "2659\n",
      "2660\n",
      "2661\n",
      "2662\n",
      "2663\n",
      "2664\n",
      "2665\n",
      "2666\n",
      "2667\n",
      "2668\n",
      "2669\n",
      "2670\n",
      "2671\n",
      "2672\n",
      "2673\n",
      "2674\n",
      "2675\n",
      "2676\n",
      "2677\n",
      "2678\n",
      "2679\n",
      "2680\n",
      "2681\n",
      "2682\n",
      "2683\n",
      "2684\n",
      "2685\n",
      "2686\n",
      "2687\n",
      "2688\n",
      "2689\n",
      "2690\n",
      "2691\n",
      "2692\n",
      "2693\n",
      "2694\n",
      "2695\n",
      "2696\n",
      "2697\n",
      "2698\n",
      "2699\n",
      "2700\n",
      "2701\n",
      "ERROR ON AUT AU= 'ERDEM OZGUR'\n",
      "2702\n",
      "2703\n",
      "2704\n",
      "2705\n",
      "2706\n",
      "2707\n",
      "2708\n",
      "2709\n",
      "2710\n",
      "2711\n",
      "2712\n",
      "2713\n",
      "2714\n",
      "2715\n",
      "2716\n",
      "2717\n",
      "2718\n",
      "2719\n",
      "2720\n",
      "2721\n",
      "2722\n",
      "2723\n",
      "2724\n",
      "2725\n",
      "2726\n",
      "2727\n",
      "2728\n",
      "2729\n",
      "2730\n",
      "2731\n",
      "2732\n",
      "2733\n",
      "2734\n",
      "2735\n",
      "2736\n",
      "2737\n",
      "2738\n",
      "2739\n",
      "2740\n",
      "2741\n",
      "2742\n",
      "2743\n",
      "2744\n",
      "2745\n",
      "2746\n",
      "2747\n",
      "2748\n",
      "2749\n",
      "2750\n",
      "2751\n",
      "2752\n",
      "2753\n",
      "2754\n",
      "2755\n",
      "2756\n",
      "2757\n",
      "2758\n",
      "2759\n",
      "2760\n",
      "2761\n",
      "2762\n",
      "2763\n",
      "2764\n",
      "2765\n",
      "2766\n",
      "2767\n",
      "2768\n",
      "2769\n",
      "2770\n",
      "2771\n",
      "2772\n",
      "2773\n",
      "2774\n",
      "2775\n",
      "2776\n",
      "2777\n",
      "2778\n",
      "2779\n",
      "2780\n",
      "2781\n",
      "2782\n",
      "2783\n",
      "2784\n",
      "2785\n",
      "2786\n",
      "2787\n",
      "ERROR ON AUT AU= 'SABOVLJEVIC M.'\n",
      "2788\n",
      "2789\n",
      "2790\n",
      "2791\n",
      "2792\n",
      "2793\n",
      "2794\n",
      "2795\n",
      "2796\n",
      "2797\n",
      "2798\n",
      "2799\n",
      "2800\n",
      "2801\n",
      "2802\n",
      "2803\n",
      "2804\n",
      "2805\n",
      "2806\n",
      "2807\n",
      "2808\n",
      "2809\n",
      "2810\n",
      "2811\n",
      "2812\n",
      "2813\n",
      "2814\n",
      "2815\n",
      "2816\n",
      "2817\n",
      "2818\n",
      "2819\n",
      "2820\n",
      "2821\n",
      "2822\n",
      "2823\n",
      "2824\n",
      "2825\n",
      "2826\n",
      "2827\n",
      "2828\n",
      "2829\n",
      "2830\n",
      "2831\n",
      "2832\n",
      "2833\n",
      "2834\n",
      "2835\n",
      "2836\n",
      "2837\n",
      "2838\n",
      "2839\n",
      "2840\n",
      "2841\n",
      "2842\n",
      "2843\n",
      "2844\n",
      "2845\n",
      "2846\n",
      "2847\n",
      "2848\n",
      "2849\n",
      "2850\n",
      "2851\n",
      "2852\n",
      "2853\n",
      "2854\n",
      "2855\n",
      "2856\n",
      "2857\n",
      "2858\n",
      "2859\n",
      "2860\n",
      "2861\n",
      "2862\n",
      "2863\n",
      "2864\n",
      "2865\n",
      "2866\n",
      "2867\n",
      "2868\n",
      "2869\n",
      "2870\n",
      "2871\n",
      "2872\n",
      "2873\n",
      "2874\n",
      "2875\n",
      "2876\n",
      "2877\n",
      "2878\n",
      "2879\n",
      "2880\n",
      "2881\n",
      "2882\n",
      "2883\n",
      "2884\n",
      "2885\n",
      "2886\n",
      "2887\n",
      "2888\n",
      "2889\n",
      "2890\n",
      "2891\n",
      "2892\n",
      "2893\n",
      "2894\n",
      "2895\n",
      "2896\n",
      "2897\n",
      "2898\n",
      "2899\n",
      "2900\n",
      "2901\n",
      "2902\n",
      "2903\n",
      "2904\n",
      "2905\n",
      "2906\n",
      "2907\n",
      "2908\n",
      "2909\n",
      "2910\n",
      "2911\n",
      "2912\n",
      "2913\n",
      "2914\n",
      "2915\n",
      "2916\n",
      "2917\n",
      "2918\n",
      "2919\n",
      "2920\n",
      "2921\n",
      "2922\n",
      "2923\n",
      "2924\n",
      "2925\n",
      "2926\n",
      "2927\n",
      "2928\n",
      "2929\n",
      "2930\n",
      "2931\n",
      "2932\n",
      "2933\n",
      "2934\n",
      "2935\n",
      "2936\n",
      "2937\n",
      "2938\n",
      "2939\n",
      "2940\n",
      "2941\n",
      "2942\n",
      "2943\n",
      "2944\n",
      "2945\n",
      "2946\n",
      "2947\n",
      "2948\n",
      "2949\n",
      "2950\n",
      "2951\n",
      "2952\n",
      "ERROR ON AUT AU= 'GUO M'\n",
      "2953\n",
      "2954\n",
      "2955\n",
      "2956\n",
      "2957\n",
      "2958\n",
      "2959\n",
      "2960\n",
      "2961\n",
      "2962\n",
      "2963\n",
      "2964\n",
      "2965\n",
      "2966\n",
      "2967\n",
      "2968\n",
      "2969\n",
      "2970\n",
      "2971\n",
      "2972\n",
      "2973\n",
      "2974\n",
      "2975\n",
      "2976\n",
      "2977\n",
      "2978\n",
      "2979\n",
      "2980\n",
      "2981\n",
      "2982\n",
      "2983\n",
      "2984\n",
      "2985\n",
      "2986\n",
      "2987\n",
      "2988\n",
      "ERROR ON AUT AU= 'ROBERTS ANDREW. P.'\n",
      "2989\n",
      "2990\n",
      "2991\n",
      "2992\n",
      "ERROR ON AUT AU= 'AKIN OKHAN'\n",
      "2993\n",
      "2994\n",
      "2995\n",
      "2996\n",
      "2997\n",
      "2998\n",
      "2999\n",
      "3000\n",
      "3001\n",
      "3002\n",
      "3003\n",
      "3004\n",
      "3005\n",
      "3006\n",
      "3007\n",
      "3008\n",
      "3009\n",
      "3010\n",
      "3011\n",
      "3012\n",
      "3013\n",
      "3014\n",
      "3015\n",
      "3016\n",
      "3017\n",
      "3018\n",
      "3019\n",
      "3020\n",
      "3021\n",
      "3022\n",
      "3023\n",
      "3024\n",
      "3025\n",
      "3026\n",
      "3027\n",
      "3028\n",
      "3029\n",
      "3030\n",
      "3031\n",
      "3032\n",
      "3033\n",
      "3034\n",
      "3035\n",
      "3036\n",
      "3037\n",
      "3038\n",
      "3039\n",
      "3040\n",
      "3041\n",
      "3042\n",
      "3043\n",
      "3044\n",
      "3045\n",
      "3046\n",
      "3047\n",
      "3048\n",
      "3049\n",
      "3050\n",
      "3051\n",
      "3052\n",
      "3053\n",
      "3054\n",
      "3055\n",
      "3056\n",
      "3057\n",
      "3058\n",
      "3059\n",
      "3060\n",
      "3061\n",
      "3062\n",
      "3063\n",
      "3064\n",
      "3065\n",
      "ERROR ON AUT AU= 'DEMIRCI UMUT'\n",
      "3066\n",
      "3067\n",
      "3068\n",
      "3069\n",
      "3070\n",
      "3071\n",
      "3072\n",
      "3073\n",
      "3074\n",
      "3075\n",
      "3076\n",
      "3077\n",
      "3078\n",
      "3079\n",
      "3080\n",
      "3081\n",
      "3082\n",
      "3083\n",
      "3084\n",
      "3085\n",
      "3086\n",
      "3087\n",
      "3088\n",
      "3089\n",
      "3090\n",
      "3091\n",
      "3092\n",
      "3093\n",
      "3094\n",
      "3095\n",
      "3096\n",
      "3097\n",
      "3098\n",
      "3099\n",
      "3100\n",
      "3101\n",
      "3102\n",
      "3103\n",
      "3104\n",
      "3105\n",
      "3106\n",
      "3107\n",
      "3108\n",
      "3109\n",
      "3110\n",
      "3111\n",
      "3112\n",
      "3113\n",
      "3114\n",
      "3115\n",
      "3116\n",
      "3117\n",
      "3118\n",
      "3119\n",
      "3120\n",
      "3121\n",
      "3122\n",
      "3123\n",
      "3124\n",
      "3125\n",
      "3126\n",
      "3127\n",
      "3128\n",
      "3129\n",
      "3130\n",
      "3131\n",
      "3132\n",
      "3133\n",
      "3134\n",
      "3135\n",
      "3136\n",
      "3137\n",
      "3138\n",
      "ERROR ON AUT AU= 'BAYRAKTAR CEM'\n",
      "3139\n",
      "3140\n",
      "3141\n",
      "3142\n",
      "3143\n",
      "3144\n",
      "3145\n",
      "3146\n",
      "3147\n",
      "3148\n",
      "3149\n",
      "3150\n",
      "3151\n",
      "3152\n",
      "3153\n",
      "3154\n",
      "3155\n",
      "3156\n",
      "3157\n",
      "3158\n",
      "3159\n",
      "3160\n",
      "3161\n",
      "3162\n",
      "3163\n",
      "3164\n",
      "3165\n",
      "3166\n",
      "3167\n",
      "3168\n",
      "3169\n",
      "3170\n",
      "3171\n",
      "3172\n",
      "3173\n",
      "3174\n",
      "3175\n",
      "3176\n",
      "3177\n",
      "3178\n",
      "3179\n",
      "3180\n",
      "3181\n",
      "3182\n",
      "3183\n",
      "3184\n",
      "3185\n",
      "3186\n",
      "3187\n",
      "3188\n",
      "3189\n",
      "3190\n",
      "3191\n",
      "3192\n",
      "3193\n",
      "3194\n",
      "3195\n",
      "3196\n",
      "3197\n",
      "3198\n",
      "3199\n",
      "3200\n",
      "3201\n",
      "3202\n",
      "3203\n",
      "3204\n",
      "3205\n",
      "3206\n",
      "3207\n",
      "3208\n",
      "3209\n",
      "3210\n",
      "3211\n",
      "3212\n",
      "3213\n",
      "3214\n",
      "3215\n",
      "3216\n",
      "3217\n",
      "3218\n",
      "3219\n",
      "3220\n",
      "3221\n",
      "3222\n",
      "3223\n",
      "3224\n",
      "3225\n",
      "3226\n",
      "3227\n",
      "3228\n",
      "3229\n",
      "3230\n",
      "3231\n",
      "3232\n",
      "3233\n",
      "3234\n",
      "3235\n",
      "3236\n",
      "3237\n",
      "3238\n",
      "3239\n",
      "3240\n",
      "3241\n",
      "3242\n",
      "3243\n",
      "3244\n",
      "ERROR ON AUT AU= 'AKSOY SIBEL'\n",
      "3245\n",
      "3246\n",
      "3247\n",
      "3248\n",
      "3249\n",
      "ERROR ON AUT AU='KARAKUS SULEYMAN CUNEYT'\n",
      "3250\n",
      "3251\n",
      "3252\n",
      "3253\n",
      "3254\n",
      "3255\n",
      "3256\n",
      "3257\n",
      "3258\n",
      "3259\n",
      "3260\n",
      "3261\n",
      "3262\n",
      "3263\n",
      "3264\n",
      "3265\n",
      "3266\n",
      "3267\n",
      "3268\n",
      "3269\n",
      "3270\n",
      "3271\n",
      "3272\n",
      "3273\n",
      "3274\n",
      "3275\n",
      "3276\n",
      "3277\n",
      "3278\n",
      "3279\n",
      "3280\n",
      "3281\n",
      "3282\n",
      "3283\n",
      "ERROR ON AUT AU= 'KUMAR M'\n",
      "3284\n",
      "3285\n",
      "3286\n",
      "3287\n",
      "3288\n",
      "3289\n",
      "3290\n",
      "3291\n",
      "3292\n",
      "3293\n",
      "3294\n",
      "3295\n",
      "3296\n",
      "3297\n",
      "3298\n",
      "3299\n",
      "3300\n",
      "3301\n",
      "3302\n",
      "3303\n",
      "3304\n",
      "3305\n",
      "3306\n",
      "3307\n",
      "3308\n",
      "3309\n",
      "3310\n",
      "3311\n",
      "3312\n",
      "3313\n",
      "3314\n",
      "3315\n",
      "3316\n",
      "3317\n",
      "3318\n",
      "3319\n",
      "3320\n",
      "3321\n",
      "3322\n",
      "3323\n",
      "3324\n",
      "3325\n",
      "3326\n",
      "3327\n",
      "3328\n",
      "3329\n",
      "3330\n",
      "3331\n",
      "3332\n",
      "3333\n",
      "3334\n",
      "3335\n",
      "3336\n",
      "3337\n",
      "3338\n",
      "3339\n",
      "3340\n",
      "3341\n",
      "3342\n",
      "ERROR ON AUT AU= 'YILDIZ BAYRAM'\n",
      "3343\n",
      "3344\n",
      "3345\n",
      "3346\n",
      "3347\n",
      "3348\n",
      "3349\n",
      "3350\n",
      "3351\n",
      "3352\n",
      "3353\n",
      "3354\n",
      "3355\n",
      "3356\n",
      "3357\n",
      "3358\n",
      "3359\n",
      "3360\n",
      "3361\n",
      "3362\n",
      "3363\n",
      "3364\n",
      "3365\n",
      "3366\n",
      "3367\n",
      "3368\n",
      "3369\n",
      "3370\n",
      "3371\n",
      "3372\n",
      "3373\n",
      "3374\n",
      "3375\n",
      "3376\n",
      "3377\n",
      "3378\n",
      "3379\n",
      "3380\n",
      "3381\n",
      "3382\n",
      "3383\n",
      "3384\n",
      "3385\n",
      "3386\n",
      "3387\n",
      "3388\n",
      "3389\n",
      "3390\n",
      "3391\n",
      "3392\n",
      "3393\n",
      "3394\n",
      "3395\n",
      "3396\n",
      "3397\n",
      "3398\n",
      "3399\n",
      "3400\n",
      "3401\n",
      "3402\n",
      "3403\n",
      "3404\n",
      "3405\n",
      "3406\n",
      "3407\n",
      "3408\n",
      "3409\n",
      "3410\n",
      "3411\n",
      "3412\n",
      "3413\n",
      "3414\n",
      "3415\n",
      "3416\n",
      "3417\n",
      "3418\n",
      "3419\n",
      "3420\n",
      "3421\n",
      "3422\n",
      "3423\n",
      "3424\n",
      "3425\n",
      "3426\n",
      "3427\n",
      "3428\n",
      "3429\n",
      "3430\n",
      "3431\n",
      "3432\n",
      "3433\n",
      "3434\n",
      "3435\n",
      "3436\n",
      "3437\n",
      "3438\n",
      "3439\n",
      "3440\n",
      "3441\n",
      "3442\n",
      "3443\n",
      "3444\n",
      "3445\n",
      "3446\n",
      "3447\n",
      "3448\n",
      "3449\n",
      "3450\n",
      "3451\n",
      "3452\n",
      "3453\n",
      "3454\n",
      "3455\n",
      "3456\n",
      "3457\n",
      "3458\n",
      "3459\n",
      "3460\n",
      "3461\n",
      "3462\n",
      "ERROR ON AUT AU= 'YUCEL CEM'\n",
      "3463\n",
      "3464\n",
      "3465\n",
      "3466\n",
      "3467\n",
      "3468\n",
      "3469\n",
      "3470\n",
      "3471\n",
      "3472\n",
      "3473\n",
      "3474\n",
      "3475\n",
      "3476\n",
      "3477\n",
      "3478\n",
      "3479\n",
      "3480\n",
      "3481\n",
      "3482\n",
      "3483\n",
      "3484\n",
      "3485\n",
      "3486\n",
      "3487\n",
      "3488\n",
      "3489\n",
      "3490\n",
      "3491\n",
      "3492\n",
      "3493\n",
      "3494\n",
      "3495\n",
      "3496\n",
      "3497\n",
      "ERROR ON AUT AU='KILIC AYSE'\n",
      "3498\n",
      "3499\n",
      "3500\n",
      "3501\n",
      "3502\n",
      "3503\n",
      "3504\n",
      "3505\n",
      "3506\n",
      "3507\n",
      "3508\n",
      "3509\n",
      "3510\n",
      "3511\n",
      "3512\n",
      "3513\n",
      "3514\n",
      "3515\n",
      "3516\n",
      "3517\n",
      "3518\n",
      "3519\n",
      "3520\n",
      "3521\n",
      "3522\n",
      "3523\n",
      "3524\n",
      "3525\n",
      "3526\n",
      "3527\n",
      "3528\n",
      "3529\n",
      "3530\n",
      "3531\n",
      "3532\n",
      "3533\n",
      "3534\n",
      "3535\n",
      "3536\n",
      "3537\n",
      "3538\n",
      "3539\n",
      "3540\n",
      "3541\n",
      "3542\n",
      "3543\n",
      "3544\n",
      "3545\n",
      "3546\n",
      "3547\n",
      "3548\n",
      "3549\n",
      "3550\n",
      "3551\n",
      "3552\n",
      "3553\n",
      "3554\n",
      "3555\n",
      "3556\n",
      "3557\n",
      "3558\n",
      "3559\n",
      "3560\n",
      "3561\n",
      "3562\n",
      "3563\n",
      "3564\n",
      "3565\n",
      "3566\n",
      "3567\n",
      "3568\n",
      "3569\n",
      "3570\n",
      "3571\n",
      "3572\n",
      "3573\n",
      "3574\n",
      "3575\n",
      "3576\n",
      "3577\n",
      "3578\n",
      "3579\n",
      "3580\n",
      "3581\n",
      "ERROR ON AUT AU= 'GRKOVIC ANA'\n",
      "3582\n",
      "3583\n",
      "3584\n",
      "3585\n",
      "3586\n",
      "3587\n",
      "3588\n",
      "ERROR ON AUT AU= 'MIKHAILIDIS DIMITRI P.'\n",
      "3589\n",
      "3590\n",
      "3591\n",
      "3592\n",
      "3593\n",
      "3594\n",
      "3595\n",
      "3596\n",
      "3597\n",
      "3598\n",
      "3599\n",
      "3600\n",
      "3601\n",
      "3602\n",
      "3603\n",
      "3604\n",
      "3605\n",
      "3606\n",
      "3607\n",
      "3608\n",
      "3609\n",
      "3610\n",
      "3611\n",
      "3612\n",
      "3613\n",
      "3614\n",
      "3615\n",
      "3616\n",
      "3617\n",
      "3618\n",
      "3619\n",
      "3620\n",
      "3621\n",
      "3622\n",
      "3623\n",
      "3624\n",
      "3625\n",
      "3626\n",
      "3627\n",
      "3628\n",
      "3629\n",
      "3630\n",
      "3631\n",
      "3632\n",
      "3633\n",
      "3634\n",
      "3635\n",
      "3636\n",
      "3637\n",
      "3638\n",
      "3639\n",
      "3640\n",
      "3641\n",
      "3642\n",
      "3643\n",
      "3644\n",
      "3645\n",
      "3646\n",
      "3647\n",
      "3648\n",
      "3649\n",
      "3650\n",
      "3651\n",
      "3652\n",
      "3653\n",
      "3654\n",
      "3655\n",
      "3656\n",
      "3657\n",
      "3658\n",
      "3659\n",
      "3660\n",
      "3661\n",
      "3662\n",
      "3663\n",
      "3664\n",
      "3665\n",
      "3666\n",
      "3667\n",
      "3668\n",
      "3669\n",
      "3670\n",
      "3671\n",
      "ERROR ON AUT AU= 'TEL EYYUP'\n",
      "3672\n",
      "3673\n",
      "3674\n",
      "3675\n"
     ]
    },
    {
     "name": "stderr",
     "output_type": "stream",
     "text": [
      "<suds.sax.document.Document object at 0x14f7d35f8>\n"
     ]
    },
    {
     "name": "stdout",
     "output_type": "stream",
     "text": [
      "ERROR ON AUT AU= 'CETIN SA'\n",
      "3676\n",
      "3677\n",
      "3678\n",
      "3679\n",
      "3680\n",
      "3681\n",
      "3682\n",
      "3683\n",
      "3684\n",
      "3685\n",
      "3686\n",
      "3687\n",
      "3688\n",
      "3689\n",
      "3690\n",
      "3691\n",
      "3692\n",
      "3693\n",
      "3694\n",
      "3695\n",
      "3696\n",
      "3697\n",
      "3698\n",
      "3699\n",
      "3700\n",
      "3701\n",
      "3702\n",
      "3703\n",
      "3704\n",
      "3705\n",
      "3706\n",
      "3707\n",
      "3708\n",
      "3709\n",
      "3710\n",
      "3711\n",
      "3712\n",
      "3713\n",
      "3714\n",
      "3715\n",
      "3716\n",
      "3717\n",
      "3718\n",
      "3719\n",
      "3720\n",
      "3721\n",
      "3722\n",
      "3723\n",
      "3724\n",
      "3725\n",
      "3726\n",
      "3727\n",
      "3728\n",
      "3729\n",
      "3730\n",
      "3731\n",
      "3732\n",
      "3733\n",
      "3734\n",
      "3735\n",
      "3736\n",
      "3737\n",
      "3738\n",
      "3739\n",
      "3740\n",
      "3741\n",
      "3742\n",
      "3743\n",
      "3744\n",
      "3745\n",
      "3746\n",
      "3747\n",
      "3748\n",
      "3749\n",
      "3750\n",
      "3751\n",
      "3752\n",
      "3753\n",
      "3754\n",
      "3755\n",
      "3756\n",
      "3757\n",
      "3758\n",
      "3759\n",
      "3760\n",
      "3761\n",
      "3762\n",
      "3763\n",
      "3764\n",
      "3765\n",
      "3766\n",
      "3767\n",
      "3768\n",
      "3769\n",
      "3770\n",
      "3771\n",
      "3772\n",
      "3773\n",
      "3774\n",
      "3775\n",
      "3776\n",
      "3777\n",
      "3778\n",
      "3779\n",
      "3780\n",
      "3781\n",
      "3782\n",
      "3783\n",
      "3784\n",
      "3785\n",
      "3786\n",
      "3787\n",
      "3788\n",
      "3789\n",
      "3790\n",
      "3791\n",
      "3792\n",
      "3793\n",
      "3794\n",
      "3795\n",
      "3796\n",
      "3797\n",
      "3798\n",
      "3799\n",
      "3800\n",
      "3801\n",
      "3802\n",
      "3803\n",
      "3804\n",
      "3805\n",
      "3806\n",
      "3807\n",
      "3808\n",
      "3809\n",
      "3810\n",
      "3811\n",
      "3812\n",
      "3813\n",
      "3814\n",
      "3815\n",
      "3816\n",
      "3817\n",
      "3818\n",
      "3819\n",
      "3820\n",
      "3821\n",
      "3822\n",
      "3823\n",
      "3824\n",
      "3825\n",
      "3826\n",
      "3827\n",
      "3828\n",
      "3829\n",
      "3830\n",
      "3831\n",
      "3832\n",
      "3833\n",
      "3834\n",
      "3835\n",
      "3836\n",
      "3837\n",
      "3838\n",
      "3839\n",
      "3840\n",
      "3841\n",
      "3842\n",
      "3843\n",
      "3844\n",
      "3845\n",
      "3846\n",
      "ERROR ON AUT AU= 'MEYER MICHAEL'\n",
      "3847\n",
      "3848\n",
      "3849\n",
      "3850\n",
      "3851\n",
      "3852\n",
      "3853\n",
      "3854\n",
      "3855\n",
      "3856\n",
      "3857\n",
      "3858\n",
      "3859\n",
      "3860\n",
      "3861\n",
      "3862\n",
      "3863\n",
      "3864\n",
      "3865\n",
      "3866\n",
      "3867\n",
      "3868\n",
      "3869\n",
      "3870\n",
      "3871\n",
      "3872\n",
      "3873\n",
      "3874\n",
      "3875\n",
      "3876\n",
      "3877\n",
      "3878\n",
      "3879\n",
      "3880\n",
      "3881\n",
      "3882\n",
      "3883\n",
      "3884\n",
      "3885\n",
      "ERROR ON AUT AU= 'CUNNINGHAME-GRAHAM DEBORAH S.'\n",
      "3886\n",
      "3887\n",
      "3888\n",
      "3889\n",
      "3890\n",
      "3891\n",
      "3892\n",
      "3893\n",
      "3894\n",
      "3895\n",
      "3896\n",
      "3897\n",
      "3898\n",
      "3899\n",
      "3900\n",
      "3901\n",
      "3902\n",
      "3903\n",
      "3904\n",
      "3905\n",
      "3906\n",
      "3907\n",
      "3908\n",
      "3909\n",
      "3910\n",
      "3911\n",
      "3912\n",
      "3913\n",
      "3914\n",
      "3915\n",
      "3916\n",
      "3917\n",
      "3918\n",
      "3919\n",
      "3920\n",
      "3921\n",
      "3922\n",
      "3923\n",
      "3924\n",
      "3925\n",
      "3926\n",
      "3927\n",
      "3928\n",
      "3929\n",
      "3930\n",
      "3931\n",
      "3932\n",
      "3933\n",
      "3934\n",
      "3935\n",
      "3936\n",
      "3937\n",
      "3938\n",
      "3939\n",
      "3940\n",
      "3941\n",
      "3942\n",
      "3943\n",
      "3944\n",
      "3945\n",
      "3946\n",
      "3947\n",
      "3948\n",
      "3949\n",
      "3950\n",
      "3951\n",
      "3952\n",
      "ERROR ON AUT AU='KAYADUMAN KUDDUSI'\n",
      "3953\n",
      "3954\n",
      "3955\n",
      "3956\n",
      "3957\n",
      "3958\n",
      "3959\n",
      "3960\n",
      "3961\n",
      "3962\n",
      "3963\n",
      "3964\n",
      "3965\n",
      "3966\n",
      "3967\n",
      "3968\n",
      "3969\n",
      "3970\n",
      "3971\n",
      "3972\n",
      "3973\n",
      "3974\n",
      "3975\n",
      "3976\n",
      "3977\n",
      "3978\n",
      "3979\n",
      "3980\n",
      "3981\n",
      "3982\n",
      "3983\n",
      "3984\n",
      "3985\n",
      "3986\n",
      "3987\n",
      "3988\n",
      "3989\n",
      "3990\n",
      "3991\n",
      "3992\n",
      "3993\n",
      "3994\n",
      "3995\n",
      "3996\n",
      "3997\n",
      "3998\n",
      "3999\n"
     ]
    }
   ],
   "source": [
    "undismissed_dataset = pd.DataFrame()\n",
    "soap = WosClient(user= 'SWISS10_reproj', password= 'Welcome#10 ', lite=False)\n",
    "soap.connect()\n",
    "for i in range(4000):\n",
    "    try : \n",
    "        print(i)\n",
    "        if i%2400==0: # WOS constraints that each ID can only search for 2500 times. Just set smaller counts to renew the ID.\n",
    "            soap = WosClient(user= 'SWISS10_reproj', password= 'Welcome#10 ', lite=False)\n",
    "            soap.connect()\n",
    "        QueryString = searchnames_undismiss_auths_query[i]\n",
    "        results = pub_of_author(QueryString)\n",
    "        time.sleep(0.5)\n",
    "        Soup = BeautifulSoup(results.records,'lxml')\n",
    "        dataset = construct_dataset(Soup,searchnames_undismiss_auths[i])\n",
    "        undismissed_dataset=undismissed_dataset.append(dataset,ignore_index=True)\n",
    "        #auth = auth.append(authors,ignore_index=True)\n",
    "    except:\n",
    "        print('ERROR ON AUT',QueryString)"
   ]
  },
  {
   "cell_type": "markdown",
   "metadata": {},
   "source": [
    "DISAMBIGUATION"
   ]
  },
  {
   "cell_type": "markdown",
   "metadata": {},
   "source": [
    "## Parsing and Saving\n",
    "\n",
    "TBC."
   ]
  }
 ],
 "metadata": {
  "kernelspec": {
   "display_name": "Python 3",
   "language": "python",
   "name": "python3"
  },
  "language_info": {
   "codemirror_mode": {
    "name": "ipython",
    "version": 3
   },
   "file_extension": ".py",
   "mimetype": "text/x-python",
   "name": "python",
   "nbconvert_exporter": "python",
   "pygments_lexer": "ipython3",
   "version": "3.6.5"
  }
 },
 "nbformat": 4,
 "nbformat_minor": 2
}
