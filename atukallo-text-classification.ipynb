{
 "cells": [
  {
   "cell_type": "code",
   "execution_count": 285,
   "metadata": {},
   "outputs": [
    {
     "name": "stdout",
     "output_type": "stream",
     "text": [
      "The autoreload extension is already loaded. To reload it, use:\n",
      "  %reload_ext autoreload\n"
     ]
    }
   ],
   "source": [
    "import pandas as pd\n",
    "import numpy as np\n",
    "import scipy\n",
    "import re\n",
    "from scipy.stats import norm\n",
    "\n",
    "import matplotlib.pyplot as plt\n",
    "import matplotlib.mlab as mlab\n",
    "import mpl_toolkits.mplot3d as mplt3d\n",
    "from mpl_toolkits.mplot3d import Axes3D \n",
    "\n",
    "from sklearn.model_selection import train_test_split\n",
    "from sklearn.naive_bayes import GaussianNB, BernoulliNB, MultinomialNB\n",
    "\n",
    "%matplotlib notebook\n",
    "%load_ext autoreload\n",
    "%autoreload 2\n",
    "\n",
    "# shouldn't be enabled when using interactive 3D plots\n",
    "# %pylab inline\n",
    "# pylab.rcParams['figure.figsize'] = (10, 7)\n"
   ]
  },
  {
   "cell_type": "code",
   "execution_count": 183,
   "metadata": {},
   "outputs": [],
   "source": [
    "# naming chosen for same-length, to look pretty\n",
    "kicked = pd.read_csv('data/dismissed_complete.csv')\n",
    "stayed = pd.read_csv('data/nodismissed_complete.csv')"
   ]
  },
  {
   "cell_type": "code",
   "execution_count": 184,
   "metadata": {},
   "outputs": [
    {
     "data": {
      "text/html": [
       "<div>\n",
       "<style scoped>\n",
       "    .dataframe tbody tr th:only-of-type {\n",
       "        vertical-align: middle;\n",
       "    }\n",
       "\n",
       "    .dataframe tbody tr th {\n",
       "        vertical-align: top;\n",
       "    }\n",
       "\n",
       "    .dataframe thead th {\n",
       "        text-align: right;\n",
       "    }\n",
       "</style>\n",
       "<table border=\"1\" class=\"dataframe\">\n",
       "  <thead>\n",
       "    <tr style=\"text-align: right;\">\n",
       "      <th></th>\n",
       "      <th>Unnamed: 0</th>\n",
       "      <th>Author</th>\n",
       "      <th>Title paper</th>\n",
       "      <th>Journal</th>\n",
       "      <th>Year</th>\n",
       "      <th>Keywords</th>\n",
       "      <th>labels</th>\n",
       "    </tr>\n",
       "  </thead>\n",
       "  <tbody>\n",
       "    <tr>\n",
       "      <th>0</th>\n",
       "      <td>0</td>\n",
       "      <td>AU=AYDIN AYDIN</td>\n",
       "      <td>[Widespread involvement of hepatic, renal and ...</td>\n",
       "      <td>[TURKISH JOURNAL OF PEDIATRICS]</td>\n",
       "      <td>[2007]</td>\n",
       "      <td>[mycotic aneurysm, visceral arteries, mesenter...</td>\n",
       "      <td>1.0</td>\n",
       "    </tr>\n",
       "    <tr>\n",
       "      <th>1</th>\n",
       "      <td>1</td>\n",
       "      <td>AU=AYDIN AYDIN</td>\n",
       "      <td>[Temporal Analysis of Finger-Tapping Test in I...</td>\n",
       "      <td>[ACTA PHYSIOLOGICA]</td>\n",
       "      <td>[2015]</td>\n",
       "      <td>NaN</td>\n",
       "      <td>1.0</td>\n",
       "    </tr>\n",
       "    <tr>\n",
       "      <th>2</th>\n",
       "      <td>2</td>\n",
       "      <td>AU=AYDIN AYDIN</td>\n",
       "      <td>[UNDIFFERENTIATED CARCINOMA OF THE EPIDIDYMIS]</td>\n",
       "      <td>[ACTA CLINICA CROATICA]</td>\n",
       "      <td>[2011]</td>\n",
       "      <td>[Epididymis, Undiffrentiated carcinomas, Metas...</td>\n",
       "      <td>1.0</td>\n",
       "    </tr>\n",
       "    <tr>\n",
       "      <th>3</th>\n",
       "      <td>3</td>\n",
       "      <td>AU=AYDIN AYDIN</td>\n",
       "      <td>[Undifferentiated Primary Carcinoma of the Epi...</td>\n",
       "      <td>[UHOD-ULUSLARARASI HEMATOLOJI-ONKOLOJI DERGISI]</td>\n",
       "      <td>[2009]</td>\n",
       "      <td>[Epididymis, Undifferentiated carcinoma, Adjuv...</td>\n",
       "      <td>1.0</td>\n",
       "    </tr>\n",
       "    <tr>\n",
       "      <th>4</th>\n",
       "      <td>4</td>\n",
       "      <td>AU=GİLGİL ERDAL</td>\n",
       "      <td>[Internal iliac artery pseudoaneurysm - An unu...</td>\n",
       "      <td>[AMERICAN JOURNAL OF PHYSICAL MEDICINE &amp; REHAB...</td>\n",
       "      <td>[2008]</td>\n",
       "      <td>[lumbosacral plexopathy, sciatica, pseudoaneur...</td>\n",
       "      <td>1.0</td>\n",
       "    </tr>\n",
       "  </tbody>\n",
       "</table>\n",
       "</div>"
      ],
      "text/plain": [
       "   Unnamed: 0           Author  \\\n",
       "0           0   AU=AYDIN AYDIN   \n",
       "1           1   AU=AYDIN AYDIN   \n",
       "2           2   AU=AYDIN AYDIN   \n",
       "3           3   AU=AYDIN AYDIN   \n",
       "4           4  AU=GİLGİL ERDAL   \n",
       "\n",
       "                                         Title paper  \\\n",
       "0  [Widespread involvement of hepatic, renal and ...   \n",
       "1  [Temporal Analysis of Finger-Tapping Test in I...   \n",
       "2     [UNDIFFERENTIATED CARCINOMA OF THE EPIDIDYMIS]   \n",
       "3  [Undifferentiated Primary Carcinoma of the Epi...   \n",
       "4  [Internal iliac artery pseudoaneurysm - An unu...   \n",
       "\n",
       "                                             Journal    Year  \\\n",
       "0                    [TURKISH JOURNAL OF PEDIATRICS]  [2007]   \n",
       "1                                [ACTA PHYSIOLOGICA]  [2015]   \n",
       "2                            [ACTA CLINICA CROATICA]  [2011]   \n",
       "3    [UHOD-ULUSLARARASI HEMATOLOJI-ONKOLOJI DERGISI]  [2009]   \n",
       "4  [AMERICAN JOURNAL OF PHYSICAL MEDICINE & REHAB...  [2008]   \n",
       "\n",
       "                                            Keywords  labels  \n",
       "0  [mycotic aneurysm, visceral arteries, mesenter...     1.0  \n",
       "1                                                NaN     1.0  \n",
       "2  [Epididymis, Undiffrentiated carcinomas, Metas...     1.0  \n",
       "3  [Epididymis, Undifferentiated carcinoma, Adjuv...     1.0  \n",
       "4  [lumbosacral plexopathy, sciatica, pseudoaneur...     1.0  "
      ]
     },
     "execution_count": 184,
     "metadata": {},
     "output_type": "execute_result"
    }
   ],
   "source": [
    "kicked.head()"
   ]
  },
  {
   "cell_type": "code",
   "execution_count": 185,
   "metadata": {},
   "outputs": [
    {
     "data": {
      "text/html": [
       "<div>\n",
       "<style scoped>\n",
       "    .dataframe tbody tr th:only-of-type {\n",
       "        vertical-align: middle;\n",
       "    }\n",
       "\n",
       "    .dataframe tbody tr th {\n",
       "        vertical-align: top;\n",
       "    }\n",
       "\n",
       "    .dataframe thead th {\n",
       "        text-align: right;\n",
       "    }\n",
       "</style>\n",
       "<table border=\"1\" class=\"dataframe\">\n",
       "  <thead>\n",
       "    <tr style=\"text-align: right;\">\n",
       "      <th></th>\n",
       "      <th>Unnamed: 0</th>\n",
       "      <th>Author</th>\n",
       "      <th>Title paper</th>\n",
       "      <th>Journal</th>\n",
       "      <th>Year</th>\n",
       "      <th>Keywords</th>\n",
       "      <th>labels</th>\n",
       "    </tr>\n",
       "  </thead>\n",
       "  <tbody>\n",
       "    <tr>\n",
       "      <th>0</th>\n",
       "      <td>0</td>\n",
       "      <td>AU=AU</td>\n",
       "      <td>[ASYMMETRIC LOADING OF AN EXTERNALLY CRACKED E...</td>\n",
       "      <td>[THEORETICAL AND APPLIED FRACTURE MECHANICS]</td>\n",
       "      <td>[1990]</td>\n",
       "      <td>NaN</td>\n",
       "      <td>0.0</td>\n",
       "    </tr>\n",
       "    <tr>\n",
       "      <th>1</th>\n",
       "      <td>1</td>\n",
       "      <td>AU=AU</td>\n",
       "      <td>[HIGH-CAPACITY OIL-WATER SEPARATOR PERFORMANCE...</td>\n",
       "      <td>[ENVIRONMENTAL ENGINEERING : PROCEEDINGS OF TH...</td>\n",
       "      <td>[1990]</td>\n",
       "      <td>NaN</td>\n",
       "      <td>0.0</td>\n",
       "    </tr>\n",
       "    <tr>\n",
       "      <th>2</th>\n",
       "      <td>2</td>\n",
       "      <td>AU=AU</td>\n",
       "      <td>[NUMERICAL MODELING OF BRIDGE FLAWS IN FIBER R...</td>\n",
       "      <td>[LOCALIZED DAMAGE COMPUTER-AIDED ASSESSMENT AN...</td>\n",
       "      <td>[1990]</td>\n",
       "      <td>NaN</td>\n",
       "      <td>0.0</td>\n",
       "    </tr>\n",
       "    <tr>\n",
       "      <th>3</th>\n",
       "      <td>3</td>\n",
       "      <td>AU=AU</td>\n",
       "      <td>[INHIBIN - A MARKER OF SERTOLI-CELL FUNCTION]</td>\n",
       "      <td>[HUMAN REPRODUCTION /]</td>\n",
       "      <td>[1988]</td>\n",
       "      <td>NaN</td>\n",
       "      <td>0.0</td>\n",
       "    </tr>\n",
       "    <tr>\n",
       "      <th>4</th>\n",
       "      <td>4</td>\n",
       "      <td>AU=AU</td>\n",
       "      <td>[THE MEASUREMENT OF BULK AND SURFACE RECOMBINA...</td>\n",
       "      <td>[CONFERENCE RECORD OF THE TWENTIETH IEEE PHOTO...</td>\n",
       "      <td>[1988]</td>\n",
       "      <td>NaN</td>\n",
       "      <td>0.0</td>\n",
       "    </tr>\n",
       "  </tbody>\n",
       "</table>\n",
       "</div>"
      ],
      "text/plain": [
       "   Unnamed: 0 Author                                        Title paper  \\\n",
       "0           0  AU=AU  [ASYMMETRIC LOADING OF AN EXTERNALLY CRACKED E...   \n",
       "1           1  AU=AU  [HIGH-CAPACITY OIL-WATER SEPARATOR PERFORMANCE...   \n",
       "2           2  AU=AU  [NUMERICAL MODELING OF BRIDGE FLAWS IN FIBER R...   \n",
       "3           3  AU=AU      [INHIBIN - A MARKER OF SERTOLI-CELL FUNCTION]   \n",
       "4           4  AU=AU  [THE MEASUREMENT OF BULK AND SURFACE RECOMBINA...   \n",
       "\n",
       "                                             Journal    Year Keywords  labels  \n",
       "0       [THEORETICAL AND APPLIED FRACTURE MECHANICS]  [1990]      NaN     0.0  \n",
       "1  [ENVIRONMENTAL ENGINEERING : PROCEEDINGS OF TH...  [1990]      NaN     0.0  \n",
       "2  [LOCALIZED DAMAGE COMPUTER-AIDED ASSESSMENT AN...  [1990]      NaN     0.0  \n",
       "3                             [HUMAN REPRODUCTION /]  [1988]      NaN     0.0  \n",
       "4  [CONFERENCE RECORD OF THE TWENTIETH IEEE PHOTO...  [1988]      NaN     0.0  "
      ]
     },
     "execution_count": 185,
     "metadata": {},
     "output_type": "execute_result"
    }
   ],
   "source": [
    "stayed.head()"
   ]
  },
  {
   "cell_type": "code",
   "execution_count": 393,
   "metadata": {},
   "outputs": [
    {
     "data": {
      "text/plain": [
       "((12301, 7), (24859, 7))"
      ]
     },
     "execution_count": 393,
     "metadata": {},
     "output_type": "execute_result"
    }
   ],
   "source": [
    "kicked.shape, stayed.shape"
   ]
  },
  {
   "cell_type": "code",
   "execution_count": 434,
   "metadata": {},
   "outputs": [],
   "source": [
    "kicked1 = kicked[['Author','Title paper', 'labels']]\n",
    "stayed1 = stayed[['Author','Title paper', 'labels']].sample(frac=(1.0 * kicked.shape[0])/stayed.shape[0]) # random_state = 0"
   ]
  },
  {
   "cell_type": "code",
   "execution_count": 435,
   "metadata": {},
   "outputs": [
    {
     "data": {
      "text/plain": [
       "((12301, 3), (12301, 3))"
      ]
     },
     "execution_count": 435,
     "metadata": {},
     "output_type": "execute_result"
    }
   ],
   "source": [
    "# make arrays equal in size\n",
    "kicked1.shape, stayed1.shape"
   ]
  },
  {
   "cell_type": "code",
   "execution_count": 436,
   "metadata": {},
   "outputs": [
    {
     "name": "stdout",
     "output_type": "stream",
     "text": [
      "True\n",
      "True\n",
      "True\n",
      "True\n",
      "True\n",
      "True\n"
     ]
    }
   ],
   "source": [
    "# check some basic invariants on the input data, all should return True\n",
    "print(kicked1['Author'].apply(lambda x: x[:3] == 'AU=').all())\n",
    "print(stayed1['Author'].apply(lambda x: x[:3] == 'AU=').all())\n",
    "print(kicked1['labels'].apply(lambda x: x == 1).all())\n",
    "print(stayed1['labels'].apply(lambda x: x == 0).all())\n",
    "print(kicked1['Title paper'].apply(lambda x: x[0] == '[' and x[-1] == ']').all())\n",
    "print(stayed1['Title paper'].apply(lambda x: x[0] == '[' and x[-1] == ']').all())"
   ]
  },
  {
   "cell_type": "code",
   "execution_count": 437,
   "metadata": {},
   "outputs": [],
   "source": [
    "df0 = pd.concat([kicked1, stayed1])"
   ]
  },
  {
   "cell_type": "code",
   "execution_count": 438,
   "metadata": {},
   "outputs": [
    {
     "data": {
      "text/html": [
       "<div>\n",
       "<style scoped>\n",
       "    .dataframe tbody tr th:only-of-type {\n",
       "        vertical-align: middle;\n",
       "    }\n",
       "\n",
       "    .dataframe tbody tr th {\n",
       "        vertical-align: top;\n",
       "    }\n",
       "\n",
       "    .dataframe thead th {\n",
       "        text-align: right;\n",
       "    }\n",
       "</style>\n",
       "<table border=\"1\" class=\"dataframe\">\n",
       "  <thead>\n",
       "    <tr style=\"text-align: right;\">\n",
       "      <th></th>\n",
       "      <th>Author</th>\n",
       "      <th>Title paper</th>\n",
       "      <th>labels</th>\n",
       "    </tr>\n",
       "  </thead>\n",
       "  <tbody>\n",
       "    <tr>\n",
       "      <th>0</th>\n",
       "      <td>AU=AYDIN AYDIN</td>\n",
       "      <td>[Widespread involvement of hepatic, renal and ...</td>\n",
       "      <td>1.0</td>\n",
       "    </tr>\n",
       "    <tr>\n",
       "      <th>1</th>\n",
       "      <td>AU=AYDIN AYDIN</td>\n",
       "      <td>[Temporal Analysis of Finger-Tapping Test in I...</td>\n",
       "      <td>1.0</td>\n",
       "    </tr>\n",
       "    <tr>\n",
       "      <th>2</th>\n",
       "      <td>AU=AYDIN AYDIN</td>\n",
       "      <td>[UNDIFFERENTIATED CARCINOMA OF THE EPIDIDYMIS]</td>\n",
       "      <td>1.0</td>\n",
       "    </tr>\n",
       "    <tr>\n",
       "      <th>3</th>\n",
       "      <td>AU=AYDIN AYDIN</td>\n",
       "      <td>[Undifferentiated Primary Carcinoma of the Epi...</td>\n",
       "      <td>1.0</td>\n",
       "    </tr>\n",
       "    <tr>\n",
       "      <th>4</th>\n",
       "      <td>AU=GİLGİL ERDAL</td>\n",
       "      <td>[Internal iliac artery pseudoaneurysm - An unu...</td>\n",
       "      <td>1.0</td>\n",
       "    </tr>\n",
       "  </tbody>\n",
       "</table>\n",
       "</div>"
      ],
      "text/plain": [
       "            Author                                        Title paper  labels\n",
       "0   AU=AYDIN AYDIN  [Widespread involvement of hepatic, renal and ...     1.0\n",
       "1   AU=AYDIN AYDIN  [Temporal Analysis of Finger-Tapping Test in I...     1.0\n",
       "2   AU=AYDIN AYDIN     [UNDIFFERENTIATED CARCINOMA OF THE EPIDIDYMIS]     1.0\n",
       "3   AU=AYDIN AYDIN  [Undifferentiated Primary Carcinoma of the Epi...     1.0\n",
       "4  AU=GİLGİL ERDAL  [Internal iliac artery pseudoaneurysm - An unu...     1.0"
      ]
     },
     "execution_count": 438,
     "metadata": {},
     "output_type": "execute_result"
    }
   ],
   "source": [
    "df0.head()"
   ]
  },
  {
   "cell_type": "code",
   "execution_count": 439,
   "metadata": {},
   "outputs": [
    {
     "data": {
      "text/html": [
       "<div>\n",
       "<style scoped>\n",
       "    .dataframe tbody tr th:only-of-type {\n",
       "        vertical-align: middle;\n",
       "    }\n",
       "\n",
       "    .dataframe tbody tr th {\n",
       "        vertical-align: top;\n",
       "    }\n",
       "\n",
       "    .dataframe thead th {\n",
       "        text-align: right;\n",
       "    }\n",
       "</style>\n",
       "<table border=\"1\" class=\"dataframe\">\n",
       "  <thead>\n",
       "    <tr style=\"text-align: right;\">\n",
       "      <th></th>\n",
       "      <th>Author</th>\n",
       "      <th>Title paper</th>\n",
       "      <th>Label</th>\n",
       "    </tr>\n",
       "  </thead>\n",
       "  <tbody>\n",
       "    <tr>\n",
       "      <th>0</th>\n",
       "      <td>AYDIN AYDIN</td>\n",
       "      <td>Widespread involvement of hepatic, renal and m...</td>\n",
       "      <td>1</td>\n",
       "    </tr>\n",
       "    <tr>\n",
       "      <th>1</th>\n",
       "      <td>AYDIN AYDIN</td>\n",
       "      <td>Temporal Analysis of Finger-Tapping Test in In...</td>\n",
       "      <td>1</td>\n",
       "    </tr>\n",
       "    <tr>\n",
       "      <th>2</th>\n",
       "      <td>AYDIN AYDIN</td>\n",
       "      <td>UNDIFFERENTIATED CARCINOMA OF THE EPIDIDYMIS</td>\n",
       "      <td>1</td>\n",
       "    </tr>\n",
       "    <tr>\n",
       "      <th>3</th>\n",
       "      <td>AYDIN AYDIN</td>\n",
       "      <td>Undifferentiated Primary Carcinoma of the Epid...</td>\n",
       "      <td>1</td>\n",
       "    </tr>\n",
       "    <tr>\n",
       "      <th>4</th>\n",
       "      <td>GİLGİL ERDAL</td>\n",
       "      <td>Internal iliac artery pseudoaneurysm - An unus...</td>\n",
       "      <td>1</td>\n",
       "    </tr>\n",
       "  </tbody>\n",
       "</table>\n",
       "</div>"
      ],
      "text/plain": [
       "         Author                                        Title paper  Label\n",
       "0   AYDIN AYDIN  Widespread involvement of hepatic, renal and m...      1\n",
       "1   AYDIN AYDIN  Temporal Analysis of Finger-Tapping Test in In...      1\n",
       "2   AYDIN AYDIN       UNDIFFERENTIATED CARCINOMA OF THE EPIDIDYMIS      1\n",
       "3   AYDIN AYDIN  Undifferentiated Primary Carcinoma of the Epid...      1\n",
       "4  GİLGİL ERDAL  Internal iliac artery pseudoaneurysm - An unus...      1"
      ]
     },
     "execution_count": 439,
     "metadata": {},
     "output_type": "execute_result"
    }
   ],
   "source": [
    "df1 = df0.copy()\n",
    "df1['Author'] = df0['Author'].apply(lambda x: x[3:])\n",
    "df1['Label'] = df0['labels'].apply(lambda x: int(x))\n",
    "df1['Title paper'] = df0['Title paper'].apply(lambda s: s[1:][:-1])\n",
    "df1 = df1.drop(columns=['labels'])\n",
    "df1.head()"
   ]
  },
  {
   "cell_type": "code",
   "execution_count": 440,
   "metadata": {},
   "outputs": [
    {
     "name": "stdout",
     "output_type": "stream",
     "text": [
      "Removing rows:\n",
      "10546    ASEE\n",
      "22552    SGEM\n",
      "7766      ACM\n",
      "1          AU\n",
      "0          AU\n",
      "10550    ASEE\n",
      "7763      ACM\n",
      "3          AU\n",
      "Name: Author, dtype: object\n"
     ]
    }
   ],
   "source": [
    "# remove trash author names (whose length < 6)\n",
    "print('Removing rows:')\n",
    "print(df1[df1['Author'].apply(lambda s : len(s) < 6)]['Author'])\n",
    "df2 = df1[df1['Author'].apply(lambda s : len(s) >= 6)]"
   ]
  },
  {
   "cell_type": "code",
   "execution_count": 441,
   "metadata": {},
   "outputs": [],
   "source": [
    "def isEnglish(s):\n",
    "    try:\n",
    "        s.encode(encoding='utf-8').decode('ascii')\n",
    "    except UnicodeDecodeError:\n",
    "        return False\n",
    "    else:\n",
    "        return True"
   ]
  },
  {
   "cell_type": "code",
   "execution_count": 442,
   "metadata": {},
   "outputs": [
    {
     "name": "stdout",
     "output_type": "stream",
     "text": [
      "Shape of not English words:  (0, 3)\n"
     ]
    }
   ],
   "source": [
    "# In fact we will do classification on \"Title paper\", so further working on it\n",
    "print('Shape of not English words: ', df2[df2['Title paper'].apply(lambda s : not isEnglish(s))].shape)\n",
    "df3 = df2.copy()\n",
    "df3['Title paper'] = df2['Title paper'].apply(\n",
    "    lambda s : s.lower()\n",
    ").apply(\n",
    "    lambda s : re.sub(r\"[.,/()?:'%\\\";\\[\\]!\\{\\}><]\", \"\", s) # delete all not-letters\n",
    ").apply(\n",
    "    lambda s : re.sub(r\"[- + = @ & * # |]\", \" \", s) # substitute defis with spaces\n",
    ").apply(\n",
    "    lambda s : re.sub(r\"\\d\", \" \", s) # substitute numbers with spaces\n",
    ").apply(\n",
    "    lambda s : re.sub(r\"\\W\\w{1,2}\\W\", \" \", s) # naive removal of super-short words\n",
    ").apply(\n",
    "    lambda s : re.sub(r\"\\s+\", \" \", s) # substitute multiple spaces with one\n",
    ")\n",
    "df3 = df3[df3['Title paper'].apply(\n",
    "    lambda s: s != 'untitled' and s != 'editorial' # drop some common but not-interesting names\n",
    ")]"
   ]
  },
  {
   "cell_type": "code",
   "execution_count": 443,
   "metadata": {},
   "outputs": [
    {
     "name": "stdout",
     "output_type": "stream",
     "text": [
      "Series([], Name: Title paper, dtype: object)\n"
     ]
    }
   ],
   "source": [
    "# try to find strange symbols and print them in \"Title paper\" and print them \n",
    "symbols = df3['Title paper'].apply(\n",
    "    lambda s: ''.join(c for c in s if not c.isalpha() and c != ' ')\n",
    ")\n",
    "print(symbols[symbols.apply(lambda s: s != '')])"
   ]
  },
  {
   "cell_type": "code",
   "execution_count": 444,
   "metadata": {},
   "outputs": [],
   "source": [
    "# okay, now in df3 in \"Title paper\" we have clean sentences, should work with trimmer now"
   ]
  },
  {
   "cell_type": "code",
   "execution_count": 445,
   "metadata": {},
   "outputs": [],
   "source": [
    "df4 = df3.drop(columns=['Author'])"
   ]
  },
  {
   "cell_type": "code",
   "execution_count": 446,
   "metadata": {},
   "outputs": [
    {
     "data": {
      "text/plain": [
       "(                                         Title paper  Label\n",
       " 0  widespread involvement hepatic renal and mesen...      1\n",
       " 1  temporal analysis finger tapping test individu...      1\n",
       " 2          undifferentiated carcinoma the epididymis      1\n",
       " 3  undifferentiated primary carcinoma the epididy...      1\n",
       " 4  internal iliac artery pseudoaneurysm unusual c...      1,\n",
       "                                              Title paper  Label\n",
       " 9493   determination advanced life support knowledge ...      0\n",
       " 24682   patients with vulval pruritus patch test results      0\n",
       " 12847  personality change following gun shot case report      0\n",
       " 6429   exploratory study the moment capacity and semi...      0\n",
       " 22341  musculoskeletal system involvement adult wilso...      0)"
      ]
     },
     "execution_count": 446,
     "metadata": {},
     "output_type": "execute_result"
    }
   ],
   "source": [
    "df4.head(), df4.tail()"
   ]
  },
  {
   "cell_type": "code",
   "execution_count": 458,
   "metadata": {},
   "outputs": [],
   "source": [
    "data_train, data_test = train_test_split(df4, test_size=0.3) # random_state = 0"
   ]
  },
  {
   "cell_type": "code",
   "execution_count": 459,
   "metadata": {},
   "outputs": [],
   "source": [
    "X_train = data_train['Title paper']\n",
    "y_train = data_train['Label']\n",
    "\n",
    "X_test = data_test['Title paper']\n",
    "y_test = data_test['Label']"
   ]
  },
  {
   "cell_type": "code",
   "execution_count": 460,
   "metadata": {},
   "outputs": [
    {
     "data": {
      "text/plain": [
       "((17210,), (7377,))"
      ]
     },
     "execution_count": 460,
     "metadata": {},
     "output_type": "execute_result"
    }
   ],
   "source": [
    "X_train.shape, X_test.shape"
   ]
  },
  {
   "cell_type": "code",
   "execution_count": 461,
   "metadata": {},
   "outputs": [],
   "source": [
    "# Let's do the following model\n",
    "# Features are unique words\n",
    "# Samples are titles\n",
    "\n",
    "# 1) Naive : for every sample we have binary value for every word (present / absent)\n",
    "# 2) sklearn.CountVectorizer : counting\n",
    "# 3) sklearn.TfidfVectorizer : with usual counting more weight is given to longer sentences, that's not really\n",
    "#                               fair, TF-IDF (term frequency _times_ inverse document frequency) also gives\n",
    "#                               every sample a weight for each present word, but in more sophisticated way\n",
    "\n",
    "# We are doing (3) classificator"
   ]
  },
  {
   "cell_type": "code",
   "execution_count": 462,
   "metadata": {},
   "outputs": [
    {
     "name": "stdout",
     "output_type": "stream",
     "text": [
      "Train shape:  (17210, 21830)\n",
      "Test  shape:  (7377, 21830)\n"
     ]
    }
   ],
   "source": [
    "from sklearn.feature_extraction.text import TfidfVectorizer\n",
    "tfidf_vect = TfidfVectorizer()\n",
    "X_train_tfidf = tfidf_vect.fit_transform(X_train)\n",
    "print('Train shape: ', X_train_tfidf.shape)\n",
    "\n",
    "X_test_tfidf = tfidf_vect.transform(X_test)\n",
    "print('Test  shape: ', X_test_tfidf.shape)"
   ]
  },
  {
   "cell_type": "code",
   "execution_count": 463,
   "metadata": {},
   "outputs": [],
   "source": [
    "from sklearn.naive_bayes import MultinomialNB\n",
    "clf = MultinomialNB().fit(X_train_tfidf, y_train)"
   ]
  },
  {
   "cell_type": "code",
   "execution_count": 464,
   "metadata": {},
   "outputs": [
    {
     "data": {
      "text/plain": [
       "0.5652704351362342"
      ]
     },
     "execution_count": 464,
     "metadata": {},
     "output_type": "execute_result"
    }
   ],
   "source": [
    "np.mean(clf.predict(X_test_tfidf) == y_test)"
   ]
  },
  {
   "cell_type": "code",
   "execution_count": null,
   "metadata": {},
   "outputs": [],
   "source": []
  }
 ],
 "metadata": {
  "kernelspec": {
   "display_name": "Python 3",
   "language": "python",
   "name": "python3"
  },
  "language_info": {
   "codemirror_mode": {
    "name": "ipython",
    "version": 3
   },
   "file_extension": ".py",
   "mimetype": "text/x-python",
   "name": "python",
   "nbconvert_exporter": "python",
   "pygments_lexer": "ipython3",
   "version": "3.5.3"
  }
 },
 "nbformat": 4,
 "nbformat_minor": 2
}
