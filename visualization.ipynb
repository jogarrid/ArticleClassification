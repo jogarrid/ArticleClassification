{
 "cells": [
  {
   "cell_type": "code",
   "execution_count": 11,
   "metadata": {},
   "outputs": [],
   "source": [
    "import argparse\n",
    "\n",
    "import pandas as pd\n",
    "import numpy as np\n",
    "import scipy\n",
    "import re\n",
    "import gensim\n",
    "from sklearn.decomposition import PCA\n",
    "\n",
    "import matplotlib.pyplot as plt"
   ]
  },
  {
   "cell_type": "code",
   "execution_count": 12,
   "metadata": {},
   "outputs": [],
   "source": [
    "data = pd.read_csv('data/data_preprocessed.csv')"
   ]
  },
  {
   "cell_type": "code",
   "execution_count": 13,
   "metadata": {},
   "outputs": [],
   "source": [
    "data['Title w2v'] = data['Title w2v'].apply(lambda s: [float(char) for char in s.strip('[]').replace('\\n', '').split()])"
   ]
  },
  {
   "cell_type": "code",
   "execution_count": 14,
   "metadata": {},
   "outputs": [
    {
     "name": "stdout",
     "output_type": "stream",
     "text": [
      "[0.81568341 0.06423827]\n"
     ]
    }
   ],
   "source": [
    "nofired = data[data.Label == 0]\n",
    "nofired = nofired['Title w2v'].values.flatten()\n",
    "nofired = np.hstack(nofired).reshape(-1,300)\n",
    "pca = PCA(n_components=2)\n",
    "#principalComponents_nofired = pca.fit(nofired)\n",
    "nofired_reduced = pca.fit_transform(nofired)\n",
    "print(pca.explained_variance_ratio_)"
   ]
  },
  {
   "cell_type": "code",
   "execution_count": 15,
   "metadata": {},
   "outputs": [
    {
     "name": "stdout",
     "output_type": "stream",
     "text": [
      "[0.76414238 0.07643907]\n"
     ]
    }
   ],
   "source": [
    "fired = data[data.Label == 1]\n",
    "fired = fired['Title w2v'].values.flatten()\n",
    "fired = np.hstack(fired).reshape(-1,300)\n",
    "fired_reduced = pca.fit_transform(fired)\n",
    "print(pca.explained_variance_ratio_)"
   ]
  },
  {
   "cell_type": "code",
   "execution_count": 43,
   "metadata": {},
   "outputs": [
    {
     "data": {
      "text/plain": [
       "array([ 2.69759809e-14, -3.70775985e-15])"
      ]
     },
     "execution_count": 43,
     "metadata": {},
     "output_type": "execute_result"
    }
   ],
   "source": [
    "nofired_reduced.mean(0)"
   ]
  },
  {
   "cell_type": "code",
   "execution_count": 42,
   "metadata": {},
   "outputs": [
    {
     "data": {
      "text/plain": [
       "array([-4.30119602e-15,  4.83729907e-15])"
      ]
     },
     "execution_count": 42,
     "metadata": {},
     "output_type": "execute_result"
    }
   ],
   "source": [
    "fired_reduced.mean(0)"
   ]
  },
  {
   "cell_type": "code",
   "execution_count": 48,
   "metadata": {},
   "outputs": [
    {
     "data": {
      "image/png": "[encoded data removed]",
      "text/plain": [
       "<Figure size 432x288 with 1 Axes>"
      ]
     },
     "metadata": {},
     "output_type": "display_data"
    }
   ],
   "source": [
    "plt.scatter(nofired_reduced[:,0],nofired_reduced[:,1],color='blue',label='no fired',alpha=0.1)\n",
    "plt.scatter(fired_reduced[:,0],fired_reduced[:,1],color='red',label='fired',alpha=0.1)\n",
    "plt.xlabel('pca1')\n",
    "plt.ylabel('pca2')\n",
    "plt.plot(nofired_reduced.mean(0), marker=\"x\",label='mean no fired')\n",
    "plt.plot(fired_reduced.mean(0), marker=\"x\",label='mean fired')\n",
    "plt.legend()\n",
    "plt.savefig('representation_cluster')"
   ]
  },
  {
   "cell_type": "code",
   "execution_count": 38,
   "metadata": {},
   "outputs": [],
   "source": [
    "from gensim import *"
   ]
  },
  {
   "cell_type": "code",
   "execution_count": 39,
   "metadata": {},
   "outputs": [],
   "source": [
    "word2vec_model = gensim.models.KeyedVectors.load_word2vec_format('data/GoogleNews-vectors-negative300.bin.gz', binary=True)  "
   ]
  },
  {
   "cell_type": "code",
   "execution_count": 40,
   "metadata": {},
   "outputs": [],
   "source": [
    "fired_mean = fired.mean(0)"
   ]
  },
  {
   "cell_type": "code",
   "execution_count": 49,
   "metadata": {},
   "outputs": [
    {
     "name": "stderr",
     "output_type": "stream",
     "text": [
      "/Users/ninatubau/anaconda3/lib/python3.6/site-packages/gensim/matutils.py:737: FutureWarning: Conversion of the second argument of issubdtype from `int` to `np.signedinteger` is deprecated. In future, it will be treated as `np.int64 == np.dtype(int).type`.\n",
      "  if np.issubdtype(vec.dtype, np.int):\n"
     ]
    },
    {
     "data": {
      "text/plain": [
       "[('Chronic_pancreatitis', 0.7627245187759399),\n",
       " ('Genetic_predisposition', 0.7557390928268433),\n",
       " ('glial_tumors', 0.7551911473274231),\n",
       " ('colorectal_adenoma', 0.7540744543075562),\n",
       " ('left_ventricular_diastolic', 0.7537558674812317),\n",
       " ('kidney_urologic', 0.7537197470664978),\n",
       " ('transfusion_syndrome', 0.7535445094108582),\n",
       " ('fibrin_deposition', 0.7534550428390503),\n",
       " ('fusion_enhancers', 0.748394250869751),\n",
       " ('hematopoietic_cancers', 0.7482747435569763)]"
      ]
     },
     "execution_count": 49,
     "metadata": {},
     "output_type": "execute_result"
    }
   ],
   "source": [
    "word2vec_model.similar_by_vector(fired_mean, topn=10, restrict_vocab=None)"
   ]
  },
  {
   "cell_type": "code",
   "execution_count": 50,
   "metadata": {},
   "outputs": [
    {
     "name": "stderr",
     "output_type": "stream",
     "text": [
      "/Users/ninatubau/anaconda3/lib/python3.6/site-packages/gensim/matutils.py:737: FutureWarning: Conversion of the second argument of issubdtype from `int` to `np.signedinteger` is deprecated. In future, it will be treated as `np.int64 == np.dtype(int).type`.\n",
      "  if np.issubdtype(vec.dtype, np.int):\n"
     ]
    },
    {
     "data": {
      "text/plain": [
       "[('Chronic_pancreatitis', 0.7715582847595215),\n",
       " ('transfusion_syndrome', 0.764104425907135),\n",
       " ('kidney_urologic', 0.7633569240570068),\n",
       " ('colorectal_adenoma', 0.7609511613845825),\n",
       " ('Genetic_predisposition', 0.759095311164856),\n",
       " ('fibrin_deposition', 0.757980465888977),\n",
       " ('left_ventricular_diastolic', 0.7575445175170898),\n",
       " ('glial_tumors', 0.7574530243873596),\n",
       " ('hematopoietic_cancers', 0.756256103515625),\n",
       " ('PLX_STROKE_targeting', 0.7526987791061401)]"
      ]
     },
     "execution_count": 50,
     "metadata": {},
     "output_type": "execute_result"
    }
   ],
   "source": [
    "nofired_mean = nofired.mean(0)\n",
    "word2vec_model.similar_by_vector(nofired_mean, topn=10, restrict_vocab=None)"
   ]
  },
  {
   "cell_type": "code",
   "execution_count": 51,
   "metadata": {},
   "outputs": [],
   "source": [
    "diff = fired_mean - nofired_mean"
   ]
  },
  {
   "cell_type": "code",
   "execution_count": 54,
   "metadata": {},
   "outputs": [
    {
     "name": "stderr",
     "output_type": "stream",
     "text": [
      "/Users/ninatubau/anaconda3/lib/python3.6/site-packages/gensim/matutils.py:737: FutureWarning: Conversion of the second argument of issubdtype from `int` to `np.signedinteger` is deprecated. In future, it will be treated as `np.int64 == np.dtype(int).type`.\n",
      "  if np.issubdtype(vec.dtype, np.int):\n"
     ]
    },
    {
     "data": {
      "text/plain": [
       "[('E.Sadler_###-###', 0.5679095983505249),\n",
       " ('Ky.Busch_##-###', 0.5663482546806335),\n",
       " ('J.McMurray_###-###', 0.5564248561859131),\n",
       " ('M.Kenseth_###-###', 0.5538514852523804),\n",
       " ('K.Kahne_###-###', 0.5435614585876465),\n",
       " ('T.Stewart_##-###', 0.5292944312095642),\n",
       " ('Nasdaq_NASDAQ_TRIN', 0.514045774936676),\n",
       " ('http://www.ticketmaster.com_###-###-####', 0.49158334732055664),\n",
       " ('Marisa_Lenhard_CFA', 0.4847012758255005),\n",
       " ('J.Johnson_###-###', 0.47311121225357056)]"
      ]
     },
     "execution_count": 54,
     "metadata": {},
     "output_type": "execute_result"
    }
   ],
   "source": [
    "word2vec_model.similar_by_vector(diff, topn=10, restrict_vocab=None)"
   ]
  },
  {
   "cell_type": "code",
   "execution_count": 55,
   "metadata": {},
   "outputs": [],
   "source": [
    "from sklearn.cluster import KMeans\n",
    "random_state = 170\n",
    "from sklearn.datasets import make_blobs\n",
    "n_samples=100"
   ]
  },
  {
   "cell_type": "code",
   "execution_count": 56,
   "metadata": {},
   "outputs": [],
   "source": [
    "data_flat = data['Title w2v'].values.flatten()\n",
    "data_flat = np.hstack(data_flat).reshape(-1,300)"
   ]
  },
  {
   "cell_type": "code",
   "execution_count": 57,
   "metadata": {},
   "outputs": [],
   "source": [
    "data_reduced = pca.fit_transform(data_flat)\n",
    "y_pred = KMeans(n_clusters=2, random_state=random_state).fit_predict(data_reduced)"
   ]
  },
  {
   "cell_type": "code",
   "execution_count": 58,
   "metadata": {},
   "outputs": [],
   "source": [
    "true_labels=list(data.Label)"
   ]
  },
  {
   "cell_type": "code",
   "execution_count": 59,
   "metadata": {},
   "outputs": [],
   "source": [
    "a = y_pred-true_labels"
   ]
  },
  {
   "cell_type": "code",
   "execution_count": 62,
   "metadata": {},
   "outputs": [],
   "source": [
    "data['prediction KMEANS']=y_pred"
   ]
  },
  {
   "cell_type": "code",
   "execution_count": 82,
   "metadata": {},
   "outputs": [
    {
     "name": "stdout",
     "output_type": "stream",
     "text": [
      "[0.68777225 0.08268568]\n"
     ]
    }
   ],
   "source": [
    "nofired = data[data['prediction KMEANS'] == 0]\n",
    "nofired = nofired['Title w2v'].values.flatten()\n",
    "nofired = np.hstack(nofired).reshape(-1,300)\n",
    "pca = PCA(n_components=2)\n",
    "#principalComponents_nofired = pca.fit(nofired)\n",
    "nofired_reducedkmean = pca.fit_transform(nofired)\n",
    "print(pca.explained_variance_ratio_)"
   ]
  },
  {
   "cell_type": "code",
   "execution_count": 83,
   "metadata": {},
   "outputs": [
    {
     "name": "stdout",
     "output_type": "stream",
     "text": [
      "[0.65220025 0.12655287]\n"
     ]
    }
   ],
   "source": [
    "fired = data[data['prediction KMEANS'] == 1]\n",
    "fired = fired['Title w2v'].values.flatten()\n",
    "fired = np.hstack(fired).reshape(-1,300)\n",
    "fired_reducedkmean = pca.fit_transform(fired)\n",
    "print(pca.explained_variance_ratio_)"
   ]
  },
  {
   "cell_type": "code",
   "execution_count": 85,
   "metadata": {},
   "outputs": [
    {
     "data": {
      "image/png": "[encoded data removed]",
      "text/plain": [
       "<Figure size 432x288 with 1 Axes>"
      ]
     },
     "metadata": {},
     "output_type": "display_data"
    }
   ],
   "source": [
    "plt.scatter(nofired_reducedkmean[:,0],nofired_reducedkmean[:,1],color='blue',label='no fired',alpha=0.1)\n",
    "plt.scatter(fired_reducedkmean[:,0],fired_reducedkmean[:,1],color='red',label='fired',alpha=0.1)\n",
    "plt.xlabel('pca1')\n",
    "plt.ylabel('pca2')\n",
    "plt.legend()\n",
    "plt.savefig('representation_KMEANS')"
   ]
  },
  {
   "cell_type": "code",
   "execution_count": 61,
   "metadata": {},
   "outputs": [
    {
     "data": {
      "text/plain": [
       "0.46452360266434983"
      ]
     },
     "execution_count": 61,
     "metadata": {},
     "output_type": "execute_result"
    }
   ],
   "source": [
    "list(a).count(0)/(len(a))"
   ]
  },
  {
   "cell_type": "code",
   "execution_count": 68,
   "metadata": {},
   "outputs": [],
   "source": [
    "from sklearn import cluster, datasets, mixture\n",
    "from sklearn.neighbors import kneighbors_graph\n",
    "from sklearn.preprocessing import StandardScaler\n",
    "from itertools import cycle, islice"
   ]
  },
  {
   "cell_type": "code",
   "execution_count": 69,
   "metadata": {},
   "outputs": [],
   "source": [
    "gmm = mixture.GaussianMixture(n_components=2, covariance_type='full')"
   ]
  },
  {
   "cell_type": "code",
   "execution_count": 70,
   "metadata": {},
   "outputs": [],
   "source": [
    "y_pred_gmm = gmm.fit_predict(data_reduced)"
   ]
  },
  {
   "cell_type": "code",
   "execution_count": 71,
   "metadata": {},
   "outputs": [],
   "source": [
    "a_gmm = y_pred_gmm-true_labels"
   ]
  },
  {
   "cell_type": "code",
   "execution_count": 72,
   "metadata": {},
   "outputs": [
    {
     "data": {
      "text/plain": [
       "0.42021430640023166"
      ]
     },
     "execution_count": 72,
     "metadata": {},
     "output_type": "execute_result"
    }
   ],
   "source": [
    "list(a_gmm).count(0)/len(a_gmm)"
   ]
  },
  {
   "cell_type": "code",
   "execution_count": 73,
   "metadata": {},
   "outputs": [],
   "source": [
    "data['prediction gaussian']=y_pred_gmm"
   ]
  },
  {
   "cell_type": "code",
   "execution_count": 76,
   "metadata": {},
   "outputs": [
    {
     "name": "stdout",
     "output_type": "stream",
     "text": [
      "[0.71219339 0.03579946]\n"
     ]
    }
   ],
   "source": [
    "nofired = data[data['prediction gaussian'] == 0]\n",
    "nofired = nofired['Title w2v'].values.flatten()\n",
    "nofired = np.hstack(nofired).reshape(-1,300)\n",
    "pca = PCA(n_components=2)\n",
    "#principalComponents_nofired = pca.fit(nofired)\n",
    "nofired_reducedgmm = pca.fit_transform(nofired)\n",
    "print(pca.explained_variance_ratio_)"
   ]
  },
  {
   "cell_type": "code",
   "execution_count": 77,
   "metadata": {},
   "outputs": [
    {
     "name": "stdout",
     "output_type": "stream",
     "text": [
      "[0.73873399 0.08840933]\n"
     ]
    }
   ],
   "source": [
    "fired = data[data['prediction gaussian'] == 1]\n",
    "fired = fired['Title w2v'].values.flatten()\n",
    "fired = np.hstack(fired).reshape(-1,300)\n",
    "fired_reducedgmm = pca.fit_transform(fired)\n",
    "print(pca.explained_variance_ratio_)"
   ]
  },
  {
   "cell_type": "code",
   "execution_count": 86,
   "metadata": {},
   "outputs": [
    {
     "data": {
      "image/png": "[encoded data removed]",
      "text/plain": [
       "<Figure size 432x288 with 1 Axes>"
      ]
     },
     "metadata": {},
     "output_type": "display_data"
    }
   ],
   "source": [
    "plt.scatter(nofired_reducedgmm[:,0],nofired_reducedgmm[:,1],color='blue',label='no fired',alpha=0.1)\n",
    "plt.scatter(fired_reducedgmm[:,0],fired_reducedgmm[:,1],color='red',label='fired',alpha=0.1)\n",
    "plt.xlabel('pca1')\n",
    "plt.ylabel('pca2')\n",
    "plt.legend()\n",
    "plt.savefig('representation_gmm')"
   ]
  }
 ],
 "metadata": {
  "kernelspec": {
   "display_name": "Python 3",
   "language": "python",
   "name": "python3"
  },
  "language_info": {
   "codemirror_mode": {
    "name": "ipython",
    "version": 3
   },
   "file_extension": ".py",
   "mimetype": "text/x-python",
   "name": "python",
   "nbconvert_exporter": "python",
   "pygments_lexer": "ipython3",
   "version": "3.6.5"
  }
 },
 "nbformat": 4,
 "nbformat_minor": 2
}
