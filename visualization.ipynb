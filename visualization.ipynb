{
 "cells": [
  {
   "cell_type": "code",
   "execution_count": 1,
   "metadata": {},
   "outputs": [],
   "source": [
    "import argparse\n",
    "\n",
    "import pandas as pd\n",
    "import numpy as np\n",
    "import scipy\n",
    "import re\n",
    "import gensim\n",
    "from sklearn.decomposition import PCA\n",
    "\n",
    "import matplotlib.pyplot as plt"
   ]
  },
  {
   "cell_type": "code",
   "execution_count": 2,
   "metadata": {},
   "outputs": [],
   "source": [
    "data_test= pd.read_csv('data_test.csv')\n",
    "data_train= pd.read_csv('data_train.csv')"
   ]
  },
  {
   "cell_type": "code",
   "execution_count": 3,
   "metadata": {},
   "outputs": [],
   "source": [
    "data_train['title vector'] = data_train['title vector'].apply(lambda s: [float(char) for char in s.strip('[]').replace('\\n', '').split()])"
   ]
  },
  {
   "cell_type": "code",
   "execution_count": 4,
   "metadata": {},
   "outputs": [],
   "source": [
    "only_lab = data_train[data_train.label == 0 ]\n",
    "flat = only_lab['title vector'].values.flatten()"
   ]
  },
  {
   "cell_type": "code",
   "execution_count": 5,
   "metadata": {},
   "outputs": [],
   "source": [
    "y = np.hstack(flat)"
   ]
  },
  {
   "cell_type": "code",
   "execution_count": 6,
   "metadata": {},
   "outputs": [],
   "source": [
    "final = y.reshape(-1,300)"
   ]
  },
  {
   "cell_type": "code",
   "execution_count": 7,
   "metadata": {},
   "outputs": [],
   "source": [
    "only_lab_1 = data_train[data_train.label == 1 ]\n",
    "flat_1 = only_lab_1['title vector'].values.flatten()\n",
    "y_1 = np.hstack(flat_1)\n",
    "final_1 = y_1.reshape(-1,300)"
   ]
  },
  {
   "cell_type": "code",
   "execution_count": 8,
   "metadata": {},
   "outputs": [
    {
     "name": "stdout",
     "output_type": "stream",
     "text": [
      "[0.78276475 0.04741409]\n"
     ]
    }
   ],
   "source": [
    "pca1 = PCA(n_components=2)\n",
    "principalComponents1 = pca1.fit(final_1)\n",
    "print(pca1.explained_variance_ratio_)"
   ]
  },
  {
   "cell_type": "code",
   "execution_count": 28,
   "metadata": {},
   "outputs": [],
   "source": [
    "to_plot1 = pca1.fit_transform(final_1)\n",
    "pca = PCA(n_components=2)\n",
    "principalComponents = pca.fit(final)\n",
    "to_plot = pca.fit_transform(final)"
   ]
  },
  {
   "cell_type": "code",
   "execution_count": 10,
   "metadata": {},
   "outputs": [
    {
     "data": {
      "image/png": "[encoded data removed]",
      "text/plain": [
       "<Figure size 432x288 with 1 Axes>"
      ]
     },
     "metadata": {},
     "output_type": "display_data"
    }
   ],
   "source": [
    "plt.scatter(to_plot1[:,0],to_plot1[:,1])\n",
    "plt.show()"
   ]
  },
  {
   "cell_type": "code",
   "execution_count": 29,
   "metadata": {},
   "outputs": [
    {
     "data": {
      "image/png": "[encoded data removed]",
      "text/plain": [
       "<Figure size 432x288 with 1 Axes>"
      ]
     },
     "metadata": {},
     "output_type": "display_data"
    }
   ],
   "source": [
    "plt.scatter(to_plot[:,0],to_plot[:,1],color='red')\n",
    "plt.scatter(to_plot1[:,0],to_plot1[:,1],color='blue')\n",
    "plt.show()"
   ]
  },
  {
   "cell_type": "code",
   "execution_count": 12,
   "metadata": {},
   "outputs": [],
   "source": [
    "from gensim import *"
   ]
  },
  {
   "cell_type": "code",
   "execution_count": 13,
   "metadata": {},
   "outputs": [],
   "source": [
    "word2vec_model = gensim.models.KeyedVectors.load_word2vec_format('data/GoogleNews-vectors-negative300.bin.gz', binary=True)  \n"
   ]
  },
  {
   "cell_type": "code",
   "execution_count": 21,
   "metadata": {},
   "outputs": [],
   "source": [
    "vector = final.mean(0)"
   ]
  },
  {
   "cell_type": "code",
   "execution_count": 23,
   "metadata": {},
   "outputs": [
    {
     "name": "stderr",
     "output_type": "stream",
     "text": [
      "/Users/ninatubau/anaconda3/lib/python3.6/site-packages/gensim/matutils.py:737: FutureWarning: Conversion of the second argument of issubdtype from `int` to `np.signedinteger` is deprecated. In future, it will be treated as `np.int64 == np.dtype(int).type`.\n",
      "  if np.issubdtype(vec.dtype, np.int):\n"
     ]
    },
    {
     "data": {
      "text/plain": [
       "[('Chronic_pancreatitis', 0.7613553404808044),\n",
       " ('kidney_urologic', 0.7513688206672668),\n",
       " ('fusion_enhancers', 0.7506022453308105),\n",
       " ('insulin_secreting_beta', 0.74973464012146),\n",
       " ('glial_tumors', 0.7488193511962891),\n",
       " ('PLX_STROKE_targeting', 0.7476974725723267),\n",
       " ('left_ventricular_diastolic', 0.7473434209823608),\n",
       " ('Umbilical_cord_stem_cells', 0.746474027633667),\n",
       " ('GRNOPC1_contains', 0.7452975511550903),\n",
       " ('Genetic_predisposition', 0.7444046139717102)]"
      ]
     },
     "execution_count": 23,
     "metadata": {},
     "output_type": "execute_result"
    }
   ],
   "source": [
    "word2vec_model.similar_by_vector(vector, topn=10, restrict_vocab=None)"
   ]
  },
  {
   "cell_type": "code",
   "execution_count": 24,
   "metadata": {},
   "outputs": [
    {
     "name": "stderr",
     "output_type": "stream",
     "text": [
      "/Users/ninatubau/anaconda3/lib/python3.6/site-packages/gensim/matutils.py:737: FutureWarning: Conversion of the second argument of issubdtype from `int` to `np.signedinteger` is deprecated. In future, it will be treated as `np.int64 == np.dtype(int).type`.\n",
      "  if np.issubdtype(vec.dtype, np.int):\n"
     ]
    },
    {
     "data": {
      "text/plain": [
       "[('Chronic_pancreatitis', 0.7621950507164001),\n",
       " ('left_ventricular_diastolic', 0.7544535994529724),\n",
       " ('fibrin_deposition', 0.7519103288650513),\n",
       " ('transfusion_syndrome', 0.7502554655075073),\n",
       " ('lung_epithelium', 0.7492497563362122),\n",
       " ('colorectal_adenoma', 0.7491941452026367),\n",
       " ('glial_tumors', 0.7482448816299438),\n",
       " ('Genetic_predisposition', 0.7472314834594727),\n",
       " ('PLX_STROKE_targeting', 0.7470422983169556),\n",
       " ('kidney_urologic', 0.7433282732963562)]"
      ]
     },
     "execution_count": 24,
     "metadata": {},
     "output_type": "execute_result"
    }
   ],
   "source": [
    "vector1 = final_1.mean(0)\n",
    "word2vec_model.similar_by_vector(vector1, topn=10, restrict_vocab=None)"
   ]
  },
  {
   "cell_type": "code",
   "execution_count": 41,
   "metadata": {},
   "outputs": [],
   "source": [
    "diff = vector - vector1"
   ]
  },
  {
   "cell_type": "code",
   "execution_count": 43,
   "metadata": {},
   "outputs": [],
   "source": []
  },
  {
   "cell_type": "code",
   "execution_count": 49,
   "metadata": {},
   "outputs": [
    {
     "name": "stderr",
     "output_type": "stream",
     "text": [
      "/Users/ninatubau/anaconda3/lib/python3.6/site-packages/gensim/matutils.py:737: FutureWarning: Conversion of the second argument of issubdtype from `int` to `np.signedinteger` is deprecated. In future, it will be treated as `np.int64 == np.dtype(int).type`.\n",
      "  if np.issubdtype(vec.dtype, np.int):\n"
     ]
    },
    {
     "data": {
      "text/plain": [
       "[('Ky.Busch_##-###', 0.4184413552284241),\n",
       " ('E.Sadler_###-###', 0.417176216840744),\n",
       " ('J.McMurray_###-###', 0.40383100509643555),\n",
       " ('M.Kenseth_###-###', 0.40283605456352234),\n",
       " ('T.Stewart_##-###', 0.3899403214454651),\n",
       " ('http://www.ticketmaster.com_###-###-####', 0.38835638761520386),\n",
       " ('K.Kahne_###-###', 0.3876754641532898),\n",
       " ('Nasdaq_NASDAQ_TRIN', 0.37545692920684814),\n",
       " ('Marisa_Lenhard_CFA', 0.36075735092163086),\n",
       " ('By_BARRY_RUBIN', 0.3582289218902588)]"
      ]
     },
     "execution_count": 49,
     "metadata": {},
     "output_type": "execute_result"
    }
   ],
   "source": [
    "word2vec_model.similar_by_vector(diff, topn=10, restrict_vocab=None)"
   ]
  },
  {
   "cell_type": "code",
   "execution_count": 197,
   "metadata": {},
   "outputs": [],
   "source": [
    "pca = PCA(n_components=2)\n",
    "principalComponents = pca.fit(final)"
   ]
  },
  {
   "cell_type": "code",
   "execution_count": 198,
   "metadata": {},
   "outputs": [
    {
     "name": "stdout",
     "output_type": "stream",
     "text": [
      "[0.86971972 0.05680087]\n"
     ]
    }
   ],
   "source": [
    "print(pca.explained_variance_ratio_)  "
   ]
  },
  {
   "cell_type": "code",
   "execution_count": 200,
   "metadata": {},
   "outputs": [],
   "source": [
    "to_plot = pca.fit_transform(final)"
   ]
  }
 ],
 "metadata": {
  "kernelspec": {
   "display_name": "Python 3",
   "language": "python",
   "name": "python3"
  },
  "language_info": {
   "codemirror_mode": {
    "name": "ipython",
    "version": 3
   },
   "file_extension": ".py",
   "mimetype": "text/x-python",
   "name": "python",
   "nbconvert_exporter": "python",
   "pygments_lexer": "ipython3",
   "version": "3.6.5"
  }
 },
 "nbformat": 4,
 "nbformat_minor": 2
}
