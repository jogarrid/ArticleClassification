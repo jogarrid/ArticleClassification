{
 "cells": [
  {
   "cell_type": "code",
   "execution_count": 1,
   "metadata": {},
   "outputs": [],
   "source": [
    "import argparse\n",
    "\n",
    "import pandas as pd\n",
    "import numpy as np\n",
    "import scipy\n",
    "import re\n",
    "import gensim\n",
    "from sklearn.decomposition import PCA\n",
    "\n",
    "import matplotlib.pyplot as plt"
   ]
  },
  {
   "cell_type": "code",
   "execution_count": 104,
   "metadata": {},
   "outputs": [],
   "source": [
    "data_test = pd.read_csv('data_test.csv')\n",
    "data_train = pd.read_csv('data_train.csv')"
   ]
  },
  {
   "cell_type": "code",
   "execution_count": 105,
   "metadata": {},
   "outputs": [],
   "source": [
    "data_train['title vector'] = data_train['title vector'].apply(lambda s: [float(char) for char in s.strip('[]').replace('\\n', '').split()])\n",
    "data_test['title vector'] = data_test['title vector'].apply(lambda s: [float(char) for char in s.strip('[]').replace('\\n', '').split()])"
   ]
  },
  {
   "cell_type": "code",
   "execution_count": 106,
   "metadata": {},
   "outputs": [],
   "source": [
    "frames = [data_train, data_test]\n",
    "data = pd.concat(frames)"
   ]
  },
  {
   "cell_type": "code",
   "execution_count": 121,
   "metadata": {},
   "outputs": [
    {
     "data": {
      "text/plain": [
       "(3888, 5)"
      ]
     },
     "execution_count": 121,
     "metadata": {},
     "output_type": "execute_result"
    }
   ],
   "source": [
    "data.shape"
   ]
  },
  {
   "cell_type": "code",
   "execution_count": 95,
   "metadata": {},
   "outputs": [
    {
     "name": "stdout",
     "output_type": "stream",
     "text": [
      "[0.86971972 0.05680087]\n"
     ]
    }
   ],
   "source": [
    "nofired = data[data.label == 0]\n",
    "nofired = nofired['title vector'].values.flatten()\n",
    "nofired = np.hstack(nofired).reshape(-1,300)\n",
    "pca = PCA(n_components=2)\n",
    "#principalComponents_nofired = pca.fit(nofired)\n",
    "nofired_reduced = pca.fit_transform(nofired)\n",
    "print(pca.explained_variance_ratio_)"
   ]
  },
  {
   "cell_type": "code",
   "execution_count": 96,
   "metadata": {},
   "outputs": [
    {
     "name": "stdout",
     "output_type": "stream",
     "text": [
      "[0.78276475 0.04741409]\n"
     ]
    }
   ],
   "source": [
    "fired = data[data.label == 1]\n",
    "fired = fired['title vector'].values.flatten()\n",
    "fired = np.hstack(fired).reshape(-1,300)\n",
    "fired_reduced = pca.fit_transform(fired)\n",
    "print(pca.explained_variance_ratio_)"
   ]
  },
  {
   "cell_type": "code",
   "execution_count": 97,
   "metadata": {},
   "outputs": [
    {
     "data": {
      "image/png": "[encoded data removed]",
      "text/plain": [
       "<Figure size 432x288 with 1 Axes>"
      ]
     },
     "metadata": {},
     "output_type": "display_data"
    }
   ],
   "source": [
    "plt.scatter(fired_reduced[:,0],fired_reduced[:,1],color='red',label='fired',alpha=0.1)\n",
    "plt.scatter(nofired_reduced[:,0],nofired_reduced[:,1],color='blue',label='no fired',alpha=0.1)\n",
    "plt.legend()\n",
    "plt.show()"
   ]
  },
  {
   "cell_type": "code",
   "execution_count": 55,
   "metadata": {},
   "outputs": [],
   "source": [
    "from gensim import *"
   ]
  },
  {
   "cell_type": "code",
   "execution_count": 56,
   "metadata": {},
   "outputs": [],
   "source": [
    "word2vec_model = gensim.models.KeyedVectors.load_word2vec_format('data/GoogleNews-vectors-negative300.bin.gz', binary=True)  "
   ]
  },
  {
   "cell_type": "code",
   "execution_count": 57,
   "metadata": {},
   "outputs": [],
   "source": [
    "fired_mean = fired.mean(0)"
   ]
  },
  {
   "cell_type": "code",
   "execution_count": 58,
   "metadata": {},
   "outputs": [
    {
     "name": "stderr",
     "output_type": "stream",
     "text": [
      "/Users/ninatubau/anaconda3/lib/python3.6/site-packages/gensim/matutils.py:737: FutureWarning: Conversion of the second argument of issubdtype from `int` to `np.signedinteger` is deprecated. In future, it will be treated as `np.int64 == np.dtype(int).type`.\n",
      "  if np.issubdtype(vec.dtype, np.int):\n"
     ]
    },
    {
     "data": {
      "text/plain": [
       "[('Chronic_pancreatitis', 0.7621950507164001),\n",
       " ('left_ventricular_diastolic', 0.7544535994529724),\n",
       " ('fibrin_deposition', 0.7519103288650513),\n",
       " ('transfusion_syndrome', 0.7502554655075073),\n",
       " ('lung_epithelium', 0.7492497563362122),\n",
       " ('colorectal_adenoma', 0.7491941452026367),\n",
       " ('glial_tumors', 0.7482448816299438),\n",
       " ('Genetic_predisposition', 0.7472314834594727),\n",
       " ('PLX_STROKE_targeting', 0.7470422983169556),\n",
       " ('kidney_urologic', 0.7433282732963562)]"
      ]
     },
     "execution_count": 58,
     "metadata": {},
     "output_type": "execute_result"
    }
   ],
   "source": [
    "word2vec_model.similar_by_vector(fired_mean, topn=10, restrict_vocab=None)"
   ]
  },
  {
   "cell_type": "code",
   "execution_count": 59,
   "metadata": {},
   "outputs": [
    {
     "name": "stderr",
     "output_type": "stream",
     "text": [
      "/Users/ninatubau/anaconda3/lib/python3.6/site-packages/gensim/matutils.py:737: FutureWarning: Conversion of the second argument of issubdtype from `int` to `np.signedinteger` is deprecated. In future, it will be treated as `np.int64 == np.dtype(int).type`.\n",
      "  if np.issubdtype(vec.dtype, np.int):\n"
     ]
    },
    {
     "data": {
      "text/plain": [
       "[('Chronic_pancreatitis', 0.7613553404808044),\n",
       " ('kidney_urologic', 0.7513688206672668),\n",
       " ('fusion_enhancers', 0.7506022453308105),\n",
       " ('insulin_secreting_beta', 0.74973464012146),\n",
       " ('glial_tumors', 0.7488193511962891),\n",
       " ('PLX_STROKE_targeting', 0.7476974725723267),\n",
       " ('left_ventricular_diastolic', 0.7473434209823608),\n",
       " ('Umbilical_cord_stem_cells', 0.746474027633667),\n",
       " ('GRNOPC1_contains', 0.7452975511550903),\n",
       " ('Genetic_predisposition', 0.7444046139717102)]"
      ]
     },
     "execution_count": 59,
     "metadata": {},
     "output_type": "execute_result"
    }
   ],
   "source": [
    "nofired_mean = nofired.mean(0)\n",
    "word2vec_model.similar_by_vector(nofired_mean, topn=10, restrict_vocab=None)"
   ]
  },
  {
   "cell_type": "code",
   "execution_count": 61,
   "metadata": {},
   "outputs": [],
   "source": [
    "diff = fired_mean - nofired_mean"
   ]
  },
  {
   "cell_type": "code",
   "execution_count": 62,
   "metadata": {},
   "outputs": [
    {
     "name": "stderr",
     "output_type": "stream",
     "text": [
      "/Users/ninatubau/anaconda3/lib/python3.6/site-packages/gensim/matutils.py:737: FutureWarning: Conversion of the second argument of issubdtype from `int` to `np.signedinteger` is deprecated. In future, it will be treated as `np.int64 == np.dtype(int).type`.\n",
      "  if np.issubdtype(vec.dtype, np.int):\n"
     ]
    },
    {
     "data": {
      "text/plain": [
       "[('Optic_nerve', 0.7479903697967529),\n",
       " ('fibrin_deposition', 0.7479557991027832),\n",
       " ('hyperalgesia', 0.7388619184494019),\n",
       " ('fatty_infiltration', 0.7386661767959595),\n",
       " ('salivary_flow', 0.7385445833206177),\n",
       " ('microcirculatory', 0.7382302284240723),\n",
       " ('glomerular_filtration', 0.7368566989898682),\n",
       " ('alkalosis', 0.7315050363540649),\n",
       " ('adrenal_function', 0.7310791015625),\n",
       " ('calculi', 0.7267911434173584)]"
      ]
     },
     "execution_count": 62,
     "metadata": {},
     "output_type": "execute_result"
    }
   ],
   "source": [
    "word2vec_model.similar_by_vector(diff, topn=10, restrict_vocab=None)"
   ]
  },
  {
   "cell_type": "code",
   "execution_count": 69,
   "metadata": {},
   "outputs": [],
   "source": [
    "from sklearn.cluster import KMeans\n",
    "random_state = 170\n",
    "from sklearn.datasets import make_blobs\n",
    "n_samples=100"
   ]
  },
  {
   "cell_type": "code",
   "execution_count": 70,
   "metadata": {},
   "outputs": [],
   "source": [
    "X, y = make_blobs(n_samples=n_samples, random_state=random_state)"
   ]
  },
  {
   "cell_type": "code",
   "execution_count": 109,
   "metadata": {},
   "outputs": [],
   "source": [
    "data_flat = data['title vector'].values.flatten()\n",
    "data_flat = np.hstack(data_flat).reshape(-1,300)"
   ]
  },
  {
   "cell_type": "code",
   "execution_count": 110,
   "metadata": {},
   "outputs": [],
   "source": [
    "data_reduced = pca.fit_transform(data_flat)\n",
    "y_pred = KMeans(n_clusters=2, random_state=random_state).fit_predict(data_reduced)\n"
   ]
  },
  {
   "cell_type": "code",
   "execution_count": 113,
   "metadata": {},
   "outputs": [],
   "source": [
    "true_labels=list(data.label)"
   ]
  },
  {
   "cell_type": "code",
   "execution_count": 115,
   "metadata": {},
   "outputs": [],
   "source": [
    "a = y_pred-true_labels"
   ]
  },
  {
   "cell_type": "code",
   "execution_count": 122,
   "metadata": {},
   "outputs": [
    {
     "data": {
      "text/plain": [
       "0.5077160493827161"
      ]
     },
     "execution_count": 122,
     "metadata": {},
     "output_type": "execute_result"
    }
   ],
   "source": [
    "list(a).count(0)/(len(a))"
   ]
  },
  {
   "cell_type": "code",
   "execution_count": null,
   "metadata": {},
   "outputs": [],
   "source": []
  }
 ],
 "metadata": {
  "kernelspec": {
   "display_name": "Python 3",
   "language": "python",
   "name": "python3"
  },
  "language_info": {
   "codemirror_mode": {
    "name": "ipython",
    "version": 3
   },
   "file_extension": ".py",
   "mimetype": "text/x-python",
   "name": "python",
   "nbconvert_exporter": "python",
   "pygments_lexer": "ipython3",
   "version": "3.6.5"
  }
 },
 "nbformat": 4,
 "nbformat_minor": 2
}
