{
 "cells": [
  {
   "cell_type": "code",
   "execution_count": 2,
   "metadata": {
    "scrolled": true
   },
   "outputs": [],
   "source": [
    "import numpy as np\n",
    "import gensim\n",
    "import logging\n",
    "import networkx as nx\n",
    "import pandas as pd"
   ]
  },
  {
   "cell_type": "code",
   "execution_count": 2,
   "metadata": {},
   "outputs": [],
   "source": [
    "dismissed_list = pd.read_csv('data/dismissed.csv')\n"
   ]
  },
  {
   "cell_type": "code",
   "execution_count": 11,
   "metadata": {},
   "outputs": [
    {
     "name": "stderr",
     "output_type": "stream",
     "text": [
      "/home/jogarrid/.virtualenvs/MLproject/lib/python3.6/site-packages/ipykernel_launcher.py:13: FutureWarning: Sorting because non-concatenation axis is not aligned. A future version\n",
      "of pandas will change to not sort by default.\n",
      "\n",
      "To accept the future behavior, pass 'sort=False'.\n",
      "\n",
      "To retain the current behavior and silence the warning, pass 'sort=True'.\n",
      "\n",
      "  del sys.path[0]\n"
     ]
    }
   ],
   "source": [
    "dismissed = pd.read_csv('data/dismissed_complete.csv')\n",
    "non_dismissed = pd.read_csv('data/nodismissed_complete.csv')\n",
    "\n",
    "#Delete random columns to have same number of dimissed and non dismissed\n",
    "\n",
    "indexes_drop = np.arange(len(non_dismissed)-len(dismissed))\n",
    "np.random.shuffle(indexes_drop)\n",
    "non_dismissed = non_dismissed.drop(indexes_drop, axis = 0)\n",
    "\n",
    "index = list(range(len(dismissed), len(dismissed)+len(non_dismissed)))\n",
    "\n",
    "#non_dismissed.set_index(range(0,len(non_dismissed)+len(dismissed)))\n",
    "all_authors = pd.concat((dismissed, non_dismissed))\n",
    "\n",
    "index = range(0,len(all_authors))\n",
    "all_authors['index'] = index\n",
    "all_authors = all_authors.set_index('index')\n"
   ]
  },
  {
   "cell_type": "code",
   "execution_count": 23,
   "metadata": {},
   "outputs": [],
   "source": [
    "network = {'Author': [], 'Connections':[], 'Connections_id':[],'Connections_label':[],'Label':[], 'Per Fired': []}\n",
    "\n",
    "#id dictionary that associates name and id for the authors\n",
    "ids = {}\n",
    "for coauthors_ in dismissed['Co-authors']:\n",
    "    coauthors = coauthors_.split(',')\n",
    "    #\"Clean list coauthors of weird characters\"\n",
    "    coauthors_clean = []\n",
    "    for j in range(len(coauthors)-1):\n",
    "        coauthors_clean.append(coauthors[j][2:len(coauthors[j])-1])\n",
    "    j = len(coauthors) - 1\n",
    "    coauthors_clean.append(coauthors[j][2:len(coauthors[j])-2])\n",
    "    #Cleaning of list finished\n",
    "\n",
    "    for i in range(len(coauthors_clean)):\n",
    "        author = coauthors_clean[i]\n",
    "        if(author not in network['Author']):\n",
    "            network['Author'].append(author)\n",
    "            ids[author] = len(network['Author']) - 1\n",
    "            network['Connections'].append(coauthors_clean) #An author will always be connected to himself\n",
    "            if(author in dismissed_list['AU'].unique()):\n",
    "                network['Label'].append(1) #fired\n",
    "            else:  #non fired\n",
    "                network['Label'].append(0) #fired\n",
    "\n",
    "        else: #Author already part of the network\n",
    "            #in which index is the author in the network?\n",
    "            found = False\n",
    "            i = 0\n",
    "            while(not found):\n",
    "                if(network['Author'][i] == author):\n",
    "                    found = True\n",
    "                    ix = i\n",
    "                i += 1\n",
    "            #index found\n",
    "            #For each coauthor: add it to the network of the main author\n",
    "            for coauthor in coauthors_clean:\n",
    "                if(coauthor not in network['Connections'][ix]):\n",
    "                    network['Connections'][ix].append(coauthor)\n",
    "            \n",
    "   "
   ]
  },
  {
   "cell_type": "code",
   "execution_count": 29,
   "metadata": {},
   "outputs": [],
   "source": [
    "#Add connections_id, id of authors in the connections\n",
    "errors = 0\n",
    "network['Connections_id'] = []\n",
    "network['Connections_label'] = []\n",
    "for i in range(len(network['Author'])):\n",
    "    indexes = []\n",
    "    labels = []\n",
    "    for connection in network['Connections'][i]:\n",
    "        #Find ix of connection\n",
    "            ix = ids[connection]\n",
    "            label = network['Label'][ix]\n",
    "            indexes.append(ix)\n",
    "            labels.append(label)\n",
    "\n",
    "    network['Connections_id'].append(indexes)\n",
    "    network['Connections_label'].append(labels)\n",
    "\n",
    "#Add fields no of connections fired and no of connections not fired \n",
    "network['Connections_fired'] = []\n",
    "network['Connections_nofired'] = []\n",
    "for i in range(len(network['Author'])):\n",
    "    fired = sum(network['Connections_label'][i])\n",
    "    network['Connections_fired'].append(fired)\n",
    "    network['Connections_nofired'].append(len(network['Connections_label'][i]) - fired)\n",
    "    network['Per Fired'].append(fired/len(network['Connections_label'][i]))\n",
    "                                \n",
    "network_pd = pd.DataFrame(network)"
   ]
  },
  {
   "cell_type": "code",
   "execution_count": 35,
   "metadata": {},
   "outputs": [
    {
     "data": {
      "text/plain": [
       "\"['Aydin Leyla', 'Aydin Aydin', 'Bulbul Baris', 'Ozkalkan Beliz', 'Ozaydin Cansu', 'Inaltekin Ezgi']\""
      ]
     },
     "execution_count": 35,
     "metadata": {},
     "output_type": "execute_result"
    }
   ],
   "source": []
  },
  {
   "cell_type": "code",
   "execution_count": 1,
   "metadata": {},
   "outputs": [
    {
     "ename": "SyntaxError",
     "evalue": "invalid syntax (<ipython-input-1-8e7798c7d65d>, line 12)",
     "output_type": "error",
     "traceback": [
      "\u001b[0;36m  File \u001b[0;32m\"<ipython-input-1-8e7798c7d65d>\"\u001b[0;36m, line \u001b[0;32m12\u001b[0m\n\u001b[0;31m    plt.\u001b[0m\n\u001b[0m        ^\u001b[0m\n\u001b[0;31mSyntaxError\u001b[0m\u001b[0;31m:\u001b[0m invalid syntax\n"
     ]
    }
   ],
   "source": [
    "import matplotlib.pyplot as plt\n",
    "\n",
    "v_fired = network_pd[network_pd['Label']==1]\n",
    "v_noFired = network_pd[network_pd['Label']==0]\n",
    "\n",
    "#Box plot with quantiles \n",
    "\n",
    "plt.boxplot([v_noFired['Per Fired'], v_fired['Per Fired']])\n",
    "plt.\n",
    "network_pd['Per Fired'].describe()\n"
   ]
  },
  {
   "cell_type": "code",
   "execution_count": 50,
   "metadata": {},
   "outputs": [],
   "source": [
    "import scipy\n",
    "\n",
    "#Correlation between label and percentage of connections fired\n",
    "rho1, p_value1 = scipy.stats.pearsonr( np.array(network['Connections_fired'])/(np.array(network['Connections_nofired'])+np.array(network['Connections_fired'])), network['Label'])\n",
    "\n",
    "#Correlation between label and absolute number of connections fired\n",
    "rho2, p_value2 = scipy.stats.pearsonr(network['Label'], network['Connections_fired'])\n",
    "\n",
    "#Correlation between label and absolute number of connections fired\n",
    "rho3, p_value3 = scipy.stats.pearsonr(network['Label'], network['Connections_nofired'])"
   ]
  },
  {
   "cell_type": "code",
   "execution_count": 3,
   "metadata": {},
   "outputs": [
    {
     "ename": "NameError",
     "evalue": "name 'network' is not defined",
     "output_type": "error",
     "traceback": [
      "\u001b[0;31m---------------------------------------------------------------------------\u001b[0m",
      "\u001b[0;31mNameError\u001b[0m                                 Traceback (most recent call last)",
      "\u001b[0;32m<ipython-input-3-e09cf65ab88d>\u001b[0m in \u001b[0;36m<module>\u001b[0;34m\u001b[0m\n\u001b[1;32m      2\u001b[0m \u001b[0mn_con\u001b[0m \u001b[0;34m=\u001b[0m \u001b[0;36m0\u001b[0m\u001b[0;34m\u001b[0m\u001b[0;34m\u001b[0m\u001b[0m\n\u001b[1;32m      3\u001b[0m \u001b[0;34m\u001b[0m\u001b[0m\n\u001b[0;32m----> 4\u001b[0;31m \u001b[0;32mfor\u001b[0m \u001b[0mconnections\u001b[0m \u001b[0;32min\u001b[0m \u001b[0mnetwork\u001b[0m\u001b[0;34m[\u001b[0m\u001b[0;34m'Connections'\u001b[0m\u001b[0;34m]\u001b[0m\u001b[0;34m:\u001b[0m\u001b[0;34m\u001b[0m\u001b[0;34m\u001b[0m\u001b[0m\n\u001b[0m\u001b[1;32m      5\u001b[0m     \u001b[0mn_con\u001b[0m \u001b[0;34m+=\u001b[0m \u001b[0mlen\u001b[0m\u001b[0;34m(\u001b[0m\u001b[0mconnections\u001b[0m\u001b[0;34m)\u001b[0m\u001b[0;34m\u001b[0m\u001b[0;34m\u001b[0m\u001b[0m\n\u001b[1;32m      6\u001b[0m \u001b[0;34m\u001b[0m\u001b[0m\n",
      "\u001b[0;31mNameError\u001b[0m: name 'network' is not defined"
     ]
    }
   ],
   "source": [
    "#Average number of connections\n",
    "n_con = 0\n",
    "\n",
    "for connections in network['Connections']:\n",
    "    n_con += len(connections)\n",
    "\n",
    "n_av = n_con / len(network['Author'])\n",
    "print('The average number of connections is: ', n_av)"
   ]
  },
  {
   "cell_type": "markdown",
   "metadata": {},
   "source": [
    "p_value3"
   ]
  },
  {
   "cell_type": "code",
   "execution_count": 49,
   "metadata": {},
   "outputs": [
    {
     "data": {
      "text/plain": [
       "0.015963891438981217"
      ]
     },
     "execution_count": 49,
     "metadata": {},
     "output_type": "execute_result"
    }
   ],
   "source": [
    "#Next steps:\n",
    "\n",
    "#See predictive power through taking into account no_fired, no_nofired\n",
    "\n",
    "#Apply NLP to journal name"
   ]
  },
  {
   "cell_type": "markdown",
   "metadata": {},
   "source": [
    "SEE IF WE CAN PREDICT WHETHER SOMEONE GETS FIRED OR NOT BASED ON HOW MANY PEOPLE HE WAS WORKING WITH GOT FIRED"
   ]
  },
  {
   "cell_type": "code",
   "execution_count": null,
   "metadata": {},
   "outputs": [],
   "source": []
  }
 ],
 "metadata": {
  "kernelspec": {
   "display_name": "Python 3",
   "language": "python",
   "name": "python3"
  },
  "language_info": {
   "codemirror_mode": {
    "name": "ipython",
    "version": 3
   },
   "file_extension": ".py",
   "mimetype": "text/x-python",
   "name": "python",
   "nbconvert_exporter": "python",
   "pygments_lexer": "ipython3",
   "version": "3.6.7"
  }
 },
 "nbformat": 4,
 "nbformat_minor": 2
}
