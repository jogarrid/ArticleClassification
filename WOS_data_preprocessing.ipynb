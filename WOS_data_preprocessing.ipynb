{
 "cells": [
  {
   "cell_type": "markdown",
   "metadata": {},
   "source": [
    "# WosClient"
   ]
  },
  {
   "cell_type": "code",
   "execution_count": null,
   "metadata": {},
   "outputs": [],
   "source": [
    "import time\n",
    "import pandas as pd"
   ]
  },
  {
   "cell_type": "code",
   "execution_count": null,
   "metadata": {},
   "outputs": [],
   "source": [
    "# !pip install suds-jurko\n",
    "\n",
    "from suds import client\n",
    "from base64 import b64encode as _b64encode\n",
    "from collections import OrderedDict as _OrderedDict\n",
    "\n",
    "class WosClient():\n",
    "    \"\"\"Query the Web of Science.\n",
    "       You must provide user and password only to user premium WWS service.\n",
    "       with WosClient() as wos:\n",
    "           results = wos.search(...)\"\"\"\n",
    "\n",
    "    base_url = 'http://search.webofknowledge.com'\n",
    "    auth_url = base_url + '/esti/wokmws/ws/WOKMWSAuthenticate?wsdl'\n",
    "    search_url = base_url + '/esti/wokmws/ws/WokSearch?wsdl'\n",
    "    searchlite_url = base_url + '/esti/wokmws/ws/WokSearchLite?wsdl'\n",
    "\n",
    "    def __init__(self, user=None, password=None, SID=None, close_on_exit=True,\n",
    "                 lite=False):\n",
    "        \"\"\"Create the SOAP clients. user and password for premium access.\"\"\"\n",
    "\n",
    "        self._SID = SID\n",
    "        self._close_on_exit = close_on_exit\n",
    "        search_wsdl = self.searchlite_url if lite else self.search_url\n",
    "        self._auth = client.Client(self.auth_url)\n",
    "        self._search = client.Client(search_wsdl)\n",
    "\n",
    "        if user and password:\n",
    "            auth = '%s:%s' % (user, password)\n",
    "            auth = _b64encode(auth.encode('utf-8')).decode('utf-8')\n",
    "            headers = {'Authorization': ('Basic %s' % auth).strip()}\n",
    "            self._auth.set_options(headers=headers)\n",
    "\n",
    "    def __enter__(self):\n",
    "        \"\"\"Automatically connect when used with 'with' statements.\"\"\"\n",
    "        self.connect()\n",
    "        return self\n",
    "\n",
    "    def __exit__(self, exc_type, exc_value, traceback):\n",
    "        \"\"\"Close connection after closing the 'with' statement.\"\"\"\n",
    "        if self._close_on_exit:\n",
    "            self.close()\n",
    "\n",
    "    def __del__(self):\n",
    "        \"\"\"Close connection when deleting the object.\"\"\"\n",
    "        if self._close_on_exit:\n",
    "            self.close()\n",
    "\n",
    "    def connect(self):\n",
    "        \"\"\"Authenticate to WOS and set the SID cookie.\"\"\"\n",
    "        if not self._SID:\n",
    "            self._SID = self._auth.service.authenticate()\n",
    "            print('Authenticated (SID: %s)' % self._SID)\n",
    "\n",
    "        self._search.set_options(headers={'Cookie': 'SID=\"%s\"' % self._SID})\n",
    "        self._auth.options.headers.update({'Cookie': 'SID=\"%s\"' % self._SID})\n",
    "        return self._SID\n",
    "\n",
    "    def close(self):\n",
    "        \"\"\"Close the session.\"\"\"\n",
    "        if self._SID:\n",
    "            self._auth.service.closeSession()\n",
    "            self._SID = None\n",
    "\n",
    "    def search(self, query, count=5, offset=1):\n",
    "        \"\"\"Perform a query. Check the WOS documentation for v3 syntax.\"\"\"\n",
    "        if not self._SID:\n",
    "            raise RuntimeError('Session not open. Invoke .connect() before.')\n",
    "\n",
    "        qparams = _OrderedDict([('databaseId', 'WOS'),\n",
    "                                ('userQuery', query),\n",
    "                                ('queryLanguage', 'en')])\n",
    "\n",
    "        rparams = _OrderedDict([('firstRecord', offset),\n",
    "                                ('count', count),\n",
    "                                ('sortField', _OrderedDict([('name', 'RS'),\n",
    "                                                            ('sort', 'D')]))])\n",
    "\n",
    "        return self._search.service.search(qparams, rparams)"
   ]
  },
  {
   "cell_type": "code",
   "execution_count": null,
   "metadata": {},
   "outputs": [],
   "source": [
    "\n",
    "from xml.etree import ElementTree as _ET\n",
    "from xml.dom import minidom as _minidom\n",
    "import re as _re\n",
    "\n",
    "def single(wosclient, wos_query, xml_query=None, count=10, offset=1):\n",
    "    \"\"\"Perform a single Web of Science query and then XML query the results.\"\"\"\n",
    "    result = wosclient.search(wos_query, count, offset)\n",
    "    print (result)\n",
    "    xml = _re.sub(' xmlns=\"[^\"]+\"', '', result.records, count=1).encode('utf-8')\n",
    "    if xml_query:\n",
    "        xml = _ET.fromstring(xml)\n",
    "        return [el.text for el in xml.findall(xml_query)]\n",
    "    else:\n",
    "        return _minidom.parseString(xml).toprettyxml()\n",
    "\n",
    "def query(wosclient, wos_query, xml_query=None, count=10, offset=1, limit=100):\n",
    "    \"\"\"Query Web of Science and XML query results with multiple requests.\"\"\"\n",
    "    results = [single(wosclient, wos_query, xml_query, min(limit, count-x+1), x) for x in range(offset, count+1, limit)]\n",
    "    if xml_query:\n",
    "        return [el for res in results for el in res]\n",
    "    else:\n",
    "        pattern = _re.compile(r'.*?<records>|</records>.*', _re.DOTALL)\n",
    "        return ('<?xml version=\"1.0\" ?>\\n<records>' +\n",
    "                '\\n'.join(pattern.sub('', res) for res in results) +\n",
    "                '</records>')\n",
    "\n",
    "def doi_to_wos(wosclient, doi):\n",
    "    \"\"\"Convert DOI to WOS identifier.\"\"\"\n",
    "    results = query(wosclient, 'DO=%s' % doi, './REC/UID', count=1)\n",
    "    return results[0].lstrip('WOS:') if results else None"
   ]
  },
  {
   "cell_type": "code",
   "execution_count": null,
   "metadata": {},
   "outputs": [],
   "source": [
    "soap = WosClient(lite=True)\n",
    "soap.connect()"
   ]
  },
  {
   "cell_type": "markdown",
   "metadata": {},
   "source": [
    "# Exchange the Given and Family Name"
   ]
  },
  {
   "cell_type": "code",
   "execution_count": null,
   "metadata": {},
   "outputs": [],
   "source": [
    "searchnames = []\n",
    "i=0\n",
    "for line in open('Dismis_Acad_List_CLEAN.txt','r'):\n",
    "    QueryString = line.strip()\n",
    "    QueryString = \"AU=\"+line.split(',')[0].split()[-1]+' '+line.split(',')[0].split()[0]\n",
    "    print('QueryString:', QueryString)\n",
    "    searchnames.append(QueryString)\n"
   ]
  },
  {
   "cell_type": "code",
   "execution_count": null,
   "metadata": {},
   "outputs": [],
   "source": [
    "len(searchnames)"
   ]
  },
  {
   "cell_type": "code",
   "execution_count": null,
   "metadata": {
    "scrolled": true
   },
   "outputs": [],
   "source": [
    "pd.DataFrame(searchnames,columns=['SearchNames']).to_csv('SearchNames.csv')"
   ]
  },
  {
   "cell_type": "code",
   "execution_count": null,
   "metadata": {},
   "outputs": [],
   "source": [
    "SearchNames = pd.read_csv('SearchNames.csv')"
   ]
  },
  {
   "cell_type": "code",
   "execution_count": null,
   "metadata": {},
   "outputs": [],
   "source": [
    "SearchNames.SearchNames[0].strip().split('=')[1]"
   ]
  },
  {
   "cell_type": "code",
   "execution_count": null,
   "metadata": {},
   "outputs": [],
   "source": [
    "soap = WoSClient(lite=True)\n",
    "soap.connect()\n",
    "query = \"VA= Article\"\n",
    "res=soap.search(query)\n"
   ]
  },
  {
   "cell_type": "code",
   "execution_count": null,
   "metadata": {
    "scrolled": true
   },
   "outputs": [],
   "source": [
    "names = []\n",
    "lens = []\n",
    "co_aut = []\n",
    "i=0\n",
    "for i in range(len(SearchNames)):\n",
    "    line = SearchNames.SearchNames[i]\n",
    "    QueryString = line\n",
    "    print(QueryString)\n",
    "    if i == 2400: # WOS constraints that each ID can only search for 2500 times. Just set smaller counts to renew the ID.\n",
    "        soap = WosClient(lite=True)\n",
    "        soap.connect()\n",
    "    results = soap.search(QueryString)\n",
    "    #getting number of name of co-authors\n",
    "    if (results.recordsFound>0):\n",
    "        authors = []\n",
    "        for j in range (len(results.records)):\n",
    "            for k in range (len(results.records[j].authors)):\n",
    "                for l in range (len(results.records[j].authors[k].value)):\n",
    "                    co_authors=results.records[j].authors[k].value[l]\n",
    "                    authors.append(co_authors)\n",
    "                    print('co_author',co_authors)\n",
    "                #co_aut.append(authors)\n",
    "            #co.append(co_aut)\n",
    "    print(results.recordsFound)\n",
    "    names.append(QueryString.split('=')[1])\n",
    "    lens.append(results.recordsFound)\n",
    "    co_aut.append(authors)\n",
    "    time.sleep(0.5) # WOS constraints that you can only search twice per second\n",
    "    i=i+1"
   ]
  },
  {
   "cell_type": "code",
   "execution_count": null,
   "metadata": {},
   "outputs": [],
   "source": [
    "#a python module to make unicode strings work as expected for turkish chars. solves the turkish \"İ\" problem\n",
    "\n",
    "# have to do pip install unicode_tr\n",
    "name = []\n",
    "from unicode_tr.extras import slugify\n",
    "for i in range(len(names)):\n",
    "    name_en = slugify(names[i])\n",
    "    name_en = name_en.replace('-',' ').title()\n",
    "    name.append(name_en)"
   ]
  },
  {
   "cell_type": "code",
   "execution_count": null,
   "metadata": {
    "scrolled": true
   },
   "outputs": [],
   "source": [
    "df = pd.DataFrame([name,lens,co_aut]).T\n",
    "df.columns=['Author','NoPapers','CoAuthors']\n",
    "df"
   ]
  },
  {
   "cell_type": "code",
   "execution_count": null,
   "metadata": {},
   "outputs": [],
   "source": [
    "#formatting co authors column to match with authors\n",
    "for i in range(df.shape[0]):\n",
    "    for j in range(len(df.CoAuthors.iloc[i])):\n",
    "        a=df.CoAuthors.iloc[i]\n",
    "        a[j]=a[j].replace(\",\",\" \")\n",
    "        df.CoAuthors.iloc[i] = a\n",
    "df"
   ]
  },
  {
   "cell_type": "code",
   "execution_count": null,
   "metadata": {
    "scrolled": true
   },
   "outputs": [],
   "source": [
    "# 753 out of 3575 people have 0 papers in the web of science dataset\n",
    "zeropapers = df.loc[df.NoPapers==0].copy()"
   ]
  },
  {
   "cell_type": "code",
   "execution_count": null,
   "metadata": {},
   "outputs": [],
   "source": [
    "# df.to_csv('Publishments.csv')"
   ]
  },
  {
   "cell_type": "code",
   "execution_count": null,
   "metadata": {},
   "outputs": [],
   "source": [
    "zeropapers.to_csv('ZeroPublishment.csv')"
   ]
  },
  {
   "cell_type": "code",
   "execution_count": null,
   "metadata": {},
   "outputs": [],
   "source": [
    "pd.concat([SearchNames,df],axis=1).to_csv('Publishments.csv')"
   ]
  },
  {
   "cell_type": "code",
   "execution_count": null,
   "metadata": {
    "scrolled": true
   },
   "outputs": [],
   "source": [
    "publishment_cnt = pd.read_csv('Publishments.csv')"
   ]
  },
  {
   "cell_type": "code",
   "execution_count": null,
   "metadata": {
    "scrolled": true
   },
   "outputs": [],
   "source": [
    "publishment_cnt.sort_values(by='NoPapers',ascending=False)"
   ]
  },
  {
   "cell_type": "code",
   "execution_count": null,
   "metadata": {},
   "outputs": [],
   "source": [
    "len(publishment_cnt['Author'].unique())"
   ]
  },
  {
   "cell_type": "code",
   "execution_count": null,
   "metadata": {},
   "outputs": [],
   "source": []
  }
 ],
 "metadata": {
  "kernelspec": {
   "display_name": "Python 3",
   "language": "python",
   "name": "python3"
  },
  "language_info": {
   "codemirror_mode": {
    "name": "ipython",
    "version": 3
   },
   "file_extension": ".py",
   "mimetype": "text/x-python",
   "name": "python",
   "nbconvert_exporter": "python",
   "pygments_lexer": "ipython3",
   "version": "3.6.5"
  }
 },
 "nbformat": 4,
 "nbformat_minor": 2
}
